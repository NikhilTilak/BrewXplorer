{
 "cells": [
  {
   "cell_type": "code",
   "execution_count": 1,
   "id": "ff03b757",
   "metadata": {},
   "outputs": [],
   "source": [
    "import numpy as np\n",
    "import pandas as pd\n",
    "import string\n",
    "import re\n",
    "import urllib3 # for scraping\n",
    "from bs4 import BeautifulSoup #html parsing\n",
    "import os\n",
    "ROOT_DIR = os.path.abspath(os.path.join(os.getcwd(),'..')) #useful to remember this\n",
    "DATA_DIR = os.path.join(ROOT_DIR,'data')\n",
    "BBS_DIR = os.path.join(DATA_DIR,'breweriesByState')"
   ]
  },
  {
   "cell_type": "code",
   "execution_count": 2,
   "id": "4a28cdec",
   "metadata": {},
   "outputs": [
    {
     "data": {
      "text/html": [
       "<div>\n",
       "<style scoped>\n",
       "    .dataframe tbody tr th:only-of-type {\n",
       "        vertical-align: middle;\n",
       "    }\n",
       "\n",
       "    .dataframe tbody tr th {\n",
       "        vertical-align: top;\n",
       "    }\n",
       "\n",
       "    .dataframe thead th {\n",
       "        text-align: right;\n",
       "    }\n",
       "</style>\n",
       "<table border=\"1\" class=\"dataframe\">\n",
       "  <thead>\n",
       "    <tr style=\"text-align: right;\">\n",
       "      <th></th>\n",
       "      <th>State</th>\n",
       "      <th>Code</th>\n",
       "    </tr>\n",
       "  </thead>\n",
       "  <tbody>\n",
       "    <tr>\n",
       "      <th>0</th>\n",
       "      <td>Alabama</td>\n",
       "      <td>AL</td>\n",
       "    </tr>\n",
       "    <tr>\n",
       "      <th>1</th>\n",
       "      <td>Alaska</td>\n",
       "      <td>AK</td>\n",
       "    </tr>\n",
       "    <tr>\n",
       "      <th>2</th>\n",
       "      <td>Arizona</td>\n",
       "      <td>AZ</td>\n",
       "    </tr>\n",
       "    <tr>\n",
       "      <th>3</th>\n",
       "      <td>Arkansas</td>\n",
       "      <td>AR</td>\n",
       "    </tr>\n",
       "    <tr>\n",
       "      <th>4</th>\n",
       "      <td>California</td>\n",
       "      <td>CA</td>\n",
       "    </tr>\n",
       "  </tbody>\n",
       "</table>\n",
       "</div>"
      ],
      "text/plain": [
       "        State Code\n",
       "0     Alabama   AL\n",
       "1      Alaska   AK\n",
       "2     Arizona   AZ\n",
       "3    Arkansas   AR\n",
       "4  California   CA"
      ]
     },
     "execution_count": 2,
     "metadata": {},
     "output_type": "execute_result"
    }
   ],
   "source": [
    "stateAbbrev = pd.read_csv(os.path.join(DATA_DIR,'stateAbbrev.csv'))\n",
    "stateAbbrev.head()"
   ]
  },
  {
   "cell_type": "markdown",
   "id": "6e0c1b3f",
   "metadata": {},
   "source": [
    "Starting with Alabama to get an idea about the structure of the data"
   ]
  },
  {
   "cell_type": "code",
   "execution_count": 3,
   "id": "d9b14612",
   "metadata": {},
   "outputs": [
    {
     "data": {
      "text/html": [
       "<div>\n",
       "<style scoped>\n",
       "    .dataframe tbody tr th:only-of-type {\n",
       "        vertical-align: middle;\n",
       "    }\n",
       "\n",
       "    .dataframe tbody tr th {\n",
       "        vertical-align: top;\n",
       "    }\n",
       "\n",
       "    .dataframe thead th {\n",
       "        text-align: right;\n",
       "    }\n",
       "</style>\n",
       "<table border=\"1\" class=\"dataframe\">\n",
       "  <thead>\n",
       "    <tr style=\"text-align: right;\">\n",
       "      <th></th>\n",
       "      <th>text</th>\n",
       "    </tr>\n",
       "  </thead>\n",
       "  <tbody>\n",
       "    <tr>\n",
       "      <th>0</th>\n",
       "      <td>Avondale Brewing Company[9][10][11][12] – Birm...</td>\n",
       "    </tr>\n",
       "    <tr>\n",
       "      <th>1</th>\n",
       "      <td>Back Forty Beer Company[11][12][13] – Gadsden</td>\n",
       "    </tr>\n",
       "    <tr>\n",
       "      <th>2</th>\n",
       "      <td>Below the Radar Brewhouse[12][14] – Huntsville</td>\n",
       "    </tr>\n",
       "    <tr>\n",
       "      <th>3</th>\n",
       "      <td>Big Beach Brewing Company[9][10][11][12] – Gul...</td>\n",
       "    </tr>\n",
       "    <tr>\n",
       "      <th>4</th>\n",
       "      <td>Birmingham District Brewing Company[15] – Birm...</td>\n",
       "    </tr>\n",
       "    <tr>\n",
       "      <th>5</th>\n",
       "      <td>Black Warrior Brewing Company[16] – Tuscaloosa</td>\n",
       "    </tr>\n",
       "    <tr>\n",
       "      <th>6</th>\n",
       "      <td>Bowler Hat Brewing Co.[17] – Huntsville</td>\n",
       "    </tr>\n",
       "    <tr>\n",
       "      <th>7</th>\n",
       "      <td>Braided River Brewing Co.[18] – Mobile</td>\n",
       "    </tr>\n",
       "    <tr>\n",
       "      <th>8</th>\n",
       "      <td>Cahaba Brewing Company[12][19] – Birmingham</td>\n",
       "    </tr>\n",
       "    <tr>\n",
       "      <th>9</th>\n",
       "      <td>Chandlers Ford Brewing [20] – Huntsville</td>\n",
       "    </tr>\n",
       "    <tr>\n",
       "      <th>10</th>\n",
       "      <td>Chattahoochee Brewing Company[21] – Phenix City</td>\n",
       "    </tr>\n",
       "    <tr>\n",
       "      <th>11</th>\n",
       "      <td>Common Bond Brewers[22] – Montgomery</td>\n",
       "    </tr>\n",
       "    <tr>\n",
       "      <th>12</th>\n",
       "      <td>Crosseyed Owl Brewing Company[23] - Decatur</td>\n",
       "    </tr>\n",
       "    <tr>\n",
       "      <th>13</th>\n",
       "      <td>Druid City Brewing Company[12][24][25] – Tusca...</td>\n",
       "    </tr>\n",
       "    <tr>\n",
       "      <th>14</th>\n",
       "      <td>Fairhope Brewing Company[12][26][27] – Fairhope</td>\n",
       "    </tr>\n",
       "    <tr>\n",
       "      <th>15</th>\n",
       "      <td>Folklore Brewing and Meadery[28] – Dothan</td>\n",
       "    </tr>\n",
       "    <tr>\n",
       "      <th>16</th>\n",
       "      <td>Fractal Brewing Project[29] - Huntsville</td>\n",
       "    </tr>\n",
       "    <tr>\n",
       "      <th>17</th>\n",
       "      <td>Ghost Train Brewing[30] – Birmingham</td>\n",
       "    </tr>\n",
       "    <tr>\n",
       "      <th>18</th>\n",
       "      <td>Goat Island Brewing[31] - Cullman</td>\n",
       "    </tr>\n",
       "    <tr>\n",
       "      <th>19</th>\n",
       "      <td>Good People Brewing Company[11][12][32] – Birm...</td>\n",
       "    </tr>\n",
       "    <tr>\n",
       "      <th>20</th>\n",
       "      <td>Green Bus Brewing[33] – Huntsville</td>\n",
       "    </tr>\n",
       "    <tr>\n",
       "      <th>21</th>\n",
       "      <td>Haint Blue Brewing Company[34] - Mobile</td>\n",
       "    </tr>\n",
       "    <tr>\n",
       "      <th>22</th>\n",
       "      <td>InnerSpace Brewing Co.[35] - Huntsville</td>\n",
       "    </tr>\n",
       "    <tr>\n",
       "      <th>23</th>\n",
       "      <td>Interstellar Ginger Beer and Exploration Co.[3...</td>\n",
       "    </tr>\n",
       "    <tr>\n",
       "      <th>24</th>\n",
       "      <td>Iron Hand Brewing[37] - Mobile</td>\n",
       "    </tr>\n",
       "    <tr>\n",
       "      <th>25</th>\n",
       "      <td>Low Brim Brewing[38] - Foley</td>\n",
       "    </tr>\n",
       "    <tr>\n",
       "      <th>26</th>\n",
       "      <td>Mad Malts [39] (formerly \"The Brew Stooges\")[1...</td>\n",
       "    </tr>\n",
       "    <tr>\n",
       "      <th>27</th>\n",
       "      <td>Main Channel Brewing[41] – Guntersville</td>\n",
       "    </tr>\n",
       "    <tr>\n",
       "      <th>28</th>\n",
       "      <td>Old Black Bear Brewing Company[12][14][42] – M...</td>\n",
       "    </tr>\n",
       "    <tr>\n",
       "      <th>29</th>\n",
       "      <td>Oversoul Brewing[43] - Helena</td>\n",
       "    </tr>\n",
       "    <tr>\n",
       "      <th>30</th>\n",
       "      <td>The Railyard Brewing Company[12][44] – Montgomery</td>\n",
       "    </tr>\n",
       "    <tr>\n",
       "      <th>31</th>\n",
       "      <td>Red Clay Brewing Company[45] – Opelika</td>\n",
       "    </tr>\n",
       "    <tr>\n",
       "      <th>32</th>\n",
       "      <td>Resting Pulse Brewing Company[46] - Opelika</td>\n",
       "    </tr>\n",
       "    <tr>\n",
       "      <th>33</th>\n",
       "      <td>Rocket Republic Brewing Company[14][47] – Madison</td>\n",
       "    </tr>\n",
       "    <tr>\n",
       "      <th>34</th>\n",
       "      <td>Salty Nut Brewery[14][48] – Huntsville</td>\n",
       "    </tr>\n",
       "    <tr>\n",
       "      <th>35</th>\n",
       "      <td>Serda Brewing Co.[49] - Mobile</td>\n",
       "    </tr>\n",
       "    <tr>\n",
       "      <th>36</th>\n",
       "      <td>Siluria Brewing Co.[50] - Alabaster</td>\n",
       "    </tr>\n",
       "    <tr>\n",
       "      <th>37</th>\n",
       "      <td>Singin' River Brewing[51] - Florence</td>\n",
       "    </tr>\n",
       "    <tr>\n",
       "      <th>38</th>\n",
       "      <td>Slag Heap Brewing Co.[52] - Trussville</td>\n",
       "    </tr>\n",
       "    <tr>\n",
       "      <th>39</th>\n",
       "      <td>Straight to Ale Brewing[11][12][14][53][54] – ...</td>\n",
       "    </tr>\n",
       "    <tr>\n",
       "      <th>40</th>\n",
       "      <td>Tallulah Brewing Company[55] – Jasper</td>\n",
       "    </tr>\n",
       "    <tr>\n",
       "      <th>41</th>\n",
       "      <td>Trim Tab Brewing Company[56] – Birmingham</td>\n",
       "    </tr>\n",
       "    <tr>\n",
       "      <th>42</th>\n",
       "      <td>True Story Brewing Co.[57][58] - Birmingham</td>\n",
       "    </tr>\n",
       "    <tr>\n",
       "      <th>43</th>\n",
       "      <td>Twisted Barley Brewing[59] - Jasper</td>\n",
       "    </tr>\n",
       "    <tr>\n",
       "      <th>44</th>\n",
       "      <td>Yellowhammer Brewing[12][14][60] – Huntsville</td>\n",
       "    </tr>\n",
       "  </tbody>\n",
       "</table>\n",
       "</div>"
      ],
      "text/plain": [
       "                                                 text\n",
       "0   Avondale Brewing Company[9][10][11][12] – Birm...\n",
       "1       Back Forty Beer Company[11][12][13] – Gadsden\n",
       "2      Below the Radar Brewhouse[12][14] – Huntsville\n",
       "3   Big Beach Brewing Company[9][10][11][12] – Gul...\n",
       "4   Birmingham District Brewing Company[15] – Birm...\n",
       "5      Black Warrior Brewing Company[16] – Tuscaloosa\n",
       "6             Bowler Hat Brewing Co.[17] – Huntsville\n",
       "7              Braided River Brewing Co.[18] – Mobile\n",
       "8         Cahaba Brewing Company[12][19] – Birmingham\n",
       "9            Chandlers Ford Brewing [20] – Huntsville\n",
       "10    Chattahoochee Brewing Company[21] – Phenix City\n",
       "11               Common Bond Brewers[22] – Montgomery\n",
       "12        Crosseyed Owl Brewing Company[23] - Decatur\n",
       "13  Druid City Brewing Company[12][24][25] – Tusca...\n",
       "14    Fairhope Brewing Company[12][26][27] – Fairhope\n",
       "15          Folklore Brewing and Meadery[28] – Dothan\n",
       "16           Fractal Brewing Project[29] - Huntsville\n",
       "17               Ghost Train Brewing[30] – Birmingham\n",
       "18                  Goat Island Brewing[31] - Cullman\n",
       "19  Good People Brewing Company[11][12][32] – Birm...\n",
       "20                 Green Bus Brewing[33] – Huntsville\n",
       "21            Haint Blue Brewing Company[34] - Mobile\n",
       "22            InnerSpace Brewing Co.[35] - Huntsville\n",
       "23  Interstellar Ginger Beer and Exploration Co.[3...\n",
       "24                     Iron Hand Brewing[37] - Mobile\n",
       "25                       Low Brim Brewing[38] - Foley\n",
       "26  Mad Malts [39] (formerly \"The Brew Stooges\")[1...\n",
       "27            Main Channel Brewing[41] – Guntersville\n",
       "28  Old Black Bear Brewing Company[12][14][42] – M...\n",
       "29                      Oversoul Brewing[43] - Helena\n",
       "30  The Railyard Brewing Company[12][44] – Montgomery\n",
       "31             Red Clay Brewing Company[45] – Opelika\n",
       "32        Resting Pulse Brewing Company[46] - Opelika\n",
       "33  Rocket Republic Brewing Company[14][47] – Madison\n",
       "34             Salty Nut Brewery[14][48] – Huntsville\n",
       "35                     Serda Brewing Co.[49] - Mobile\n",
       "36                Siluria Brewing Co.[50] - Alabaster\n",
       "37               Singin' River Brewing[51] - Florence\n",
       "38             Slag Heap Brewing Co.[52] - Trussville\n",
       "39  Straight to Ale Brewing[11][12][14][53][54] – ...\n",
       "40              Tallulah Brewing Company[55] – Jasper\n",
       "41          Trim Tab Brewing Company[56] – Birmingham\n",
       "42        True Story Brewing Co.[57][58] - Birmingham\n",
       "43                Twisted Barley Brewing[59] - Jasper\n",
       "44      Yellowhammer Brewing[12][14][60] – Huntsville"
      ]
     },
     "execution_count": 3,
     "metadata": {},
     "output_type": "execute_result"
    }
   ],
   "source": [
    "brews_AL = pd.read_excel(os.path.join(BBS_DIR,'AL.xlsx'), header=None, names=['text'])\n",
    "brews_AL"
   ]
  },
  {
   "cell_type": "code",
   "execution_count": 4,
   "id": "90f58b66",
   "metadata": {},
   "outputs": [
    {
     "data": {
      "text/plain": [
       "['[9]', '[10]', '[11]', '[12]']"
      ]
     },
     "execution_count": 4,
     "metadata": {},
     "output_type": "execute_result"
    }
   ],
   "source": [
    "#replace all the sources by '' eg. [10]\n",
    "\n",
    "referenceFinder = r'\\[[0-9]*\\]'\n",
    "rx_referenceFinder = re.compile(referenceFinder)\n",
    "rx_referenceFinder.findall(\"Avondale Brewing Company[9][10][11][12] – Birm...\")"
   ]
  },
  {
   "cell_type": "code",
   "execution_count": 5,
   "id": "e6ddc0ab",
   "metadata": {},
   "outputs": [
    {
     "data": {
      "text/plain": [
       "'Avondale Brewing Company – Birm...'"
      ]
     },
     "execution_count": 5,
     "metadata": {},
     "output_type": "execute_result"
    }
   ],
   "source": [
    "re.sub(r'\\[[0-9]*\\]', '', \"Avondale Brewing Company[9][10][11][12] – Birm...\")"
   ]
  },
  {
   "cell_type": "code",
   "execution_count": 6,
   "id": "26336b20",
   "metadata": {
    "scrolled": true
   },
   "outputs": [
    {
     "data": {
      "text/html": [
       "<div>\n",
       "<style scoped>\n",
       "    .dataframe tbody tr th:only-of-type {\n",
       "        vertical-align: middle;\n",
       "    }\n",
       "\n",
       "    .dataframe tbody tr th {\n",
       "        vertical-align: top;\n",
       "    }\n",
       "\n",
       "    .dataframe thead th {\n",
       "        text-align: right;\n",
       "    }\n",
       "</style>\n",
       "<table border=\"1\" class=\"dataframe\">\n",
       "  <thead>\n",
       "    <tr style=\"text-align: right;\">\n",
       "      <th></th>\n",
       "      <th>text</th>\n",
       "    </tr>\n",
       "  </thead>\n",
       "  <tbody>\n",
       "    <tr>\n",
       "      <th>0</th>\n",
       "      <td>Avondale Brewing Company – Birmingham</td>\n",
       "    </tr>\n",
       "    <tr>\n",
       "      <th>1</th>\n",
       "      <td>Back Forty Beer Company – Gadsden</td>\n",
       "    </tr>\n",
       "    <tr>\n",
       "      <th>2</th>\n",
       "      <td>Below the Radar Brewhouse – Huntsville</td>\n",
       "    </tr>\n",
       "    <tr>\n",
       "      <th>3</th>\n",
       "      <td>Big Beach Brewing Company – Gulf Shores</td>\n",
       "    </tr>\n",
       "    <tr>\n",
       "      <th>4</th>\n",
       "      <td>Birmingham District Brewing Company – Birmingham</td>\n",
       "    </tr>\n",
       "  </tbody>\n",
       "</table>\n",
       "</div>"
      ],
      "text/plain": [
       "                                               text\n",
       "0             Avondale Brewing Company – Birmingham\n",
       "1                 Back Forty Beer Company – Gadsden\n",
       "2            Below the Radar Brewhouse – Huntsville\n",
       "3           Big Beach Brewing Company – Gulf Shores\n",
       "4  Birmingham District Brewing Company – Birmingham"
      ]
     },
     "execution_count": 6,
     "metadata": {},
     "output_type": "execute_result"
    }
   ],
   "source": [
    "brews_AL['text'] = brews_AL['text'].str.replace(r'\\[[0-9]*\\]', '', regex=True)\n",
    "brews_AL.head()"
   ]
  },
  {
   "cell_type": "code",
   "execution_count": 7,
   "id": "7b954082",
   "metadata": {},
   "outputs": [],
   "source": [
    "brews_AL['text'] = brews_AL['text'].str.replace(r'[-,–]', ':', regex=True)"
   ]
  },
  {
   "cell_type": "code",
   "execution_count": 8,
   "id": "77088bef",
   "metadata": {},
   "outputs": [],
   "source": [
    "breweryName, breweryLocation = list(zip(*(brews_AL['text'].str.split(':',1).values)))\n"
   ]
  },
  {
   "cell_type": "code",
   "execution_count": 9,
   "id": "e1d16c45",
   "metadata": {},
   "outputs": [
    {
     "data": {
      "text/html": [
       "<div>\n",
       "<style scoped>\n",
       "    .dataframe tbody tr th:only-of-type {\n",
       "        vertical-align: middle;\n",
       "    }\n",
       "\n",
       "    .dataframe tbody tr th {\n",
       "        vertical-align: top;\n",
       "    }\n",
       "\n",
       "    .dataframe thead th {\n",
       "        text-align: right;\n",
       "    }\n",
       "</style>\n",
       "<table border=\"1\" class=\"dataframe\">\n",
       "  <thead>\n",
       "    <tr style=\"text-align: right;\">\n",
       "      <th></th>\n",
       "      <th>text</th>\n",
       "      <th>breweryName</th>\n",
       "      <th>breweryLocation</th>\n",
       "    </tr>\n",
       "  </thead>\n",
       "  <tbody>\n",
       "    <tr>\n",
       "      <th>0</th>\n",
       "      <td>Avondale Brewing Company : Birmingham</td>\n",
       "      <td>Avondale Brewing Company</td>\n",
       "      <td>Birmingham</td>\n",
       "    </tr>\n",
       "    <tr>\n",
       "      <th>1</th>\n",
       "      <td>Back Forty Beer Company : Gadsden</td>\n",
       "      <td>Back Forty Beer Company</td>\n",
       "      <td>Gadsden</td>\n",
       "    </tr>\n",
       "    <tr>\n",
       "      <th>2</th>\n",
       "      <td>Below the Radar Brewhouse : Huntsville</td>\n",
       "      <td>Below the Radar Brewhouse</td>\n",
       "      <td>Huntsville</td>\n",
       "    </tr>\n",
       "    <tr>\n",
       "      <th>3</th>\n",
       "      <td>Big Beach Brewing Company : Gulf Shores</td>\n",
       "      <td>Big Beach Brewing Company</td>\n",
       "      <td>Gulf Shores</td>\n",
       "    </tr>\n",
       "    <tr>\n",
       "      <th>4</th>\n",
       "      <td>Birmingham District Brewing Company : Birmingham</td>\n",
       "      <td>Birmingham District Brewing Company</td>\n",
       "      <td>Birmingham</td>\n",
       "    </tr>\n",
       "    <tr>\n",
       "      <th>5</th>\n",
       "      <td>Black Warrior Brewing Company : Tuscaloosa</td>\n",
       "      <td>Black Warrior Brewing Company</td>\n",
       "      <td>Tuscaloosa</td>\n",
       "    </tr>\n",
       "    <tr>\n",
       "      <th>6</th>\n",
       "      <td>Bowler Hat Brewing Co. : Huntsville</td>\n",
       "      <td>Bowler Hat Brewing Co.</td>\n",
       "      <td>Huntsville</td>\n",
       "    </tr>\n",
       "    <tr>\n",
       "      <th>7</th>\n",
       "      <td>Braided River Brewing Co. : Mobile</td>\n",
       "      <td>Braided River Brewing Co.</td>\n",
       "      <td>Mobile</td>\n",
       "    </tr>\n",
       "    <tr>\n",
       "      <th>8</th>\n",
       "      <td>Cahaba Brewing Company : Birmingham</td>\n",
       "      <td>Cahaba Brewing Company</td>\n",
       "      <td>Birmingham</td>\n",
       "    </tr>\n",
       "    <tr>\n",
       "      <th>9</th>\n",
       "      <td>Chandlers Ford Brewing  : Huntsville</td>\n",
       "      <td>Chandlers Ford Brewing</td>\n",
       "      <td>Huntsville</td>\n",
       "    </tr>\n",
       "    <tr>\n",
       "      <th>10</th>\n",
       "      <td>Chattahoochee Brewing Company : Phenix City</td>\n",
       "      <td>Chattahoochee Brewing Company</td>\n",
       "      <td>Phenix City</td>\n",
       "    </tr>\n",
       "    <tr>\n",
       "      <th>11</th>\n",
       "      <td>Common Bond Brewers : Montgomery</td>\n",
       "      <td>Common Bond Brewers</td>\n",
       "      <td>Montgomery</td>\n",
       "    </tr>\n",
       "    <tr>\n",
       "      <th>12</th>\n",
       "      <td>Crosseyed Owl Brewing Company : Decatur</td>\n",
       "      <td>Crosseyed Owl Brewing Company</td>\n",
       "      <td>Decatur</td>\n",
       "    </tr>\n",
       "    <tr>\n",
       "      <th>13</th>\n",
       "      <td>Druid City Brewing Company : Tuscaloosa</td>\n",
       "      <td>Druid City Brewing Company</td>\n",
       "      <td>Tuscaloosa</td>\n",
       "    </tr>\n",
       "    <tr>\n",
       "      <th>14</th>\n",
       "      <td>Fairhope Brewing Company : Fairhope</td>\n",
       "      <td>Fairhope Brewing Company</td>\n",
       "      <td>Fairhope</td>\n",
       "    </tr>\n",
       "    <tr>\n",
       "      <th>15</th>\n",
       "      <td>Folklore Brewing and Meadery : Dothan</td>\n",
       "      <td>Folklore Brewing and Meadery</td>\n",
       "      <td>Dothan</td>\n",
       "    </tr>\n",
       "    <tr>\n",
       "      <th>16</th>\n",
       "      <td>Fractal Brewing Project : Huntsville</td>\n",
       "      <td>Fractal Brewing Project</td>\n",
       "      <td>Huntsville</td>\n",
       "    </tr>\n",
       "    <tr>\n",
       "      <th>17</th>\n",
       "      <td>Ghost Train Brewing : Birmingham</td>\n",
       "      <td>Ghost Train Brewing</td>\n",
       "      <td>Birmingham</td>\n",
       "    </tr>\n",
       "    <tr>\n",
       "      <th>18</th>\n",
       "      <td>Goat Island Brewing : Cullman</td>\n",
       "      <td>Goat Island Brewing</td>\n",
       "      <td>Cullman</td>\n",
       "    </tr>\n",
       "    <tr>\n",
       "      <th>19</th>\n",
       "      <td>Good People Brewing Company : Birmingham</td>\n",
       "      <td>Good People Brewing Company</td>\n",
       "      <td>Birmingham</td>\n",
       "    </tr>\n",
       "    <tr>\n",
       "      <th>20</th>\n",
       "      <td>Green Bus Brewing : Huntsville</td>\n",
       "      <td>Green Bus Brewing</td>\n",
       "      <td>Huntsville</td>\n",
       "    </tr>\n",
       "    <tr>\n",
       "      <th>21</th>\n",
       "      <td>Haint Blue Brewing Company : Mobile</td>\n",
       "      <td>Haint Blue Brewing Company</td>\n",
       "      <td>Mobile</td>\n",
       "    </tr>\n",
       "    <tr>\n",
       "      <th>22</th>\n",
       "      <td>InnerSpace Brewing Co. : Huntsville</td>\n",
       "      <td>InnerSpace Brewing Co.</td>\n",
       "      <td>Huntsville</td>\n",
       "    </tr>\n",
       "    <tr>\n",
       "      <th>23</th>\n",
       "      <td>Interstellar Ginger Beer and Exploration Co. :...</td>\n",
       "      <td>Interstellar Ginger Beer and Exploration Co.</td>\n",
       "      <td>Alabaster</td>\n",
       "    </tr>\n",
       "    <tr>\n",
       "      <th>24</th>\n",
       "      <td>Iron Hand Brewing : Mobile</td>\n",
       "      <td>Iron Hand Brewing</td>\n",
       "      <td>Mobile</td>\n",
       "    </tr>\n",
       "    <tr>\n",
       "      <th>25</th>\n",
       "      <td>Low Brim Brewing : Foley</td>\n",
       "      <td>Low Brim Brewing</td>\n",
       "      <td>Foley</td>\n",
       "    </tr>\n",
       "    <tr>\n",
       "      <th>26</th>\n",
       "      <td>Mad Malts  (formerly \"The Brew Stooges\") : Hun...</td>\n",
       "      <td>Mad Malts  (formerly \"The Brew Stooges\")</td>\n",
       "      <td>Huntsville</td>\n",
       "    </tr>\n",
       "    <tr>\n",
       "      <th>27</th>\n",
       "      <td>Main Channel Brewing : Guntersville</td>\n",
       "      <td>Main Channel Brewing</td>\n",
       "      <td>Guntersville</td>\n",
       "    </tr>\n",
       "    <tr>\n",
       "      <th>28</th>\n",
       "      <td>Old Black Bear Brewing Company : Madison</td>\n",
       "      <td>Old Black Bear Brewing Company</td>\n",
       "      <td>Madison</td>\n",
       "    </tr>\n",
       "    <tr>\n",
       "      <th>29</th>\n",
       "      <td>Oversoul Brewing : Helena</td>\n",
       "      <td>Oversoul Brewing</td>\n",
       "      <td>Helena</td>\n",
       "    </tr>\n",
       "    <tr>\n",
       "      <th>30</th>\n",
       "      <td>The Railyard Brewing Company : Montgomery</td>\n",
       "      <td>The Railyard Brewing Company</td>\n",
       "      <td>Montgomery</td>\n",
       "    </tr>\n",
       "    <tr>\n",
       "      <th>31</th>\n",
       "      <td>Red Clay Brewing Company : Opelika</td>\n",
       "      <td>Red Clay Brewing Company</td>\n",
       "      <td>Opelika</td>\n",
       "    </tr>\n",
       "    <tr>\n",
       "      <th>32</th>\n",
       "      <td>Resting Pulse Brewing Company : Opelika</td>\n",
       "      <td>Resting Pulse Brewing Company</td>\n",
       "      <td>Opelika</td>\n",
       "    </tr>\n",
       "    <tr>\n",
       "      <th>33</th>\n",
       "      <td>Rocket Republic Brewing Company : Madison</td>\n",
       "      <td>Rocket Republic Brewing Company</td>\n",
       "      <td>Madison</td>\n",
       "    </tr>\n",
       "    <tr>\n",
       "      <th>34</th>\n",
       "      <td>Salty Nut Brewery : Huntsville</td>\n",
       "      <td>Salty Nut Brewery</td>\n",
       "      <td>Huntsville</td>\n",
       "    </tr>\n",
       "    <tr>\n",
       "      <th>35</th>\n",
       "      <td>Serda Brewing Co. : Mobile</td>\n",
       "      <td>Serda Brewing Co.</td>\n",
       "      <td>Mobile</td>\n",
       "    </tr>\n",
       "    <tr>\n",
       "      <th>36</th>\n",
       "      <td>Siluria Brewing Co. : Alabaster</td>\n",
       "      <td>Siluria Brewing Co.</td>\n",
       "      <td>Alabaster</td>\n",
       "    </tr>\n",
       "    <tr>\n",
       "      <th>37</th>\n",
       "      <td>Singin' River Brewing : Florence</td>\n",
       "      <td>Singin' River Brewing</td>\n",
       "      <td>Florence</td>\n",
       "    </tr>\n",
       "    <tr>\n",
       "      <th>38</th>\n",
       "      <td>Slag Heap Brewing Co. : Trussville</td>\n",
       "      <td>Slag Heap Brewing Co.</td>\n",
       "      <td>Trussville</td>\n",
       "    </tr>\n",
       "    <tr>\n",
       "      <th>39</th>\n",
       "      <td>Straight to Ale Brewing : Huntsville</td>\n",
       "      <td>Straight to Ale Brewing</td>\n",
       "      <td>Huntsville</td>\n",
       "    </tr>\n",
       "    <tr>\n",
       "      <th>40</th>\n",
       "      <td>Tallulah Brewing Company : Jasper</td>\n",
       "      <td>Tallulah Brewing Company</td>\n",
       "      <td>Jasper</td>\n",
       "    </tr>\n",
       "    <tr>\n",
       "      <th>41</th>\n",
       "      <td>Trim Tab Brewing Company : Birmingham</td>\n",
       "      <td>Trim Tab Brewing Company</td>\n",
       "      <td>Birmingham</td>\n",
       "    </tr>\n",
       "    <tr>\n",
       "      <th>42</th>\n",
       "      <td>True Story Brewing Co. : Birmingham</td>\n",
       "      <td>True Story Brewing Co.</td>\n",
       "      <td>Birmingham</td>\n",
       "    </tr>\n",
       "    <tr>\n",
       "      <th>43</th>\n",
       "      <td>Twisted Barley Brewing : Jasper</td>\n",
       "      <td>Twisted Barley Brewing</td>\n",
       "      <td>Jasper</td>\n",
       "    </tr>\n",
       "    <tr>\n",
       "      <th>44</th>\n",
       "      <td>Yellowhammer Brewing : Huntsville</td>\n",
       "      <td>Yellowhammer Brewing</td>\n",
       "      <td>Huntsville</td>\n",
       "    </tr>\n",
       "  </tbody>\n",
       "</table>\n",
       "</div>"
      ],
      "text/plain": [
       "                                                 text  \\\n",
       "0               Avondale Brewing Company : Birmingham   \n",
       "1                   Back Forty Beer Company : Gadsden   \n",
       "2              Below the Radar Brewhouse : Huntsville   \n",
       "3             Big Beach Brewing Company : Gulf Shores   \n",
       "4    Birmingham District Brewing Company : Birmingham   \n",
       "5          Black Warrior Brewing Company : Tuscaloosa   \n",
       "6                 Bowler Hat Brewing Co. : Huntsville   \n",
       "7                  Braided River Brewing Co. : Mobile   \n",
       "8                 Cahaba Brewing Company : Birmingham   \n",
       "9                Chandlers Ford Brewing  : Huntsville   \n",
       "10        Chattahoochee Brewing Company : Phenix City   \n",
       "11                   Common Bond Brewers : Montgomery   \n",
       "12            Crosseyed Owl Brewing Company : Decatur   \n",
       "13            Druid City Brewing Company : Tuscaloosa   \n",
       "14                Fairhope Brewing Company : Fairhope   \n",
       "15              Folklore Brewing and Meadery : Dothan   \n",
       "16               Fractal Brewing Project : Huntsville   \n",
       "17                   Ghost Train Brewing : Birmingham   \n",
       "18                      Goat Island Brewing : Cullman   \n",
       "19           Good People Brewing Company : Birmingham   \n",
       "20                     Green Bus Brewing : Huntsville   \n",
       "21                Haint Blue Brewing Company : Mobile   \n",
       "22                InnerSpace Brewing Co. : Huntsville   \n",
       "23  Interstellar Ginger Beer and Exploration Co. :...   \n",
       "24                         Iron Hand Brewing : Mobile   \n",
       "25                           Low Brim Brewing : Foley   \n",
       "26  Mad Malts  (formerly \"The Brew Stooges\") : Hun...   \n",
       "27                Main Channel Brewing : Guntersville   \n",
       "28           Old Black Bear Brewing Company : Madison   \n",
       "29                          Oversoul Brewing : Helena   \n",
       "30          The Railyard Brewing Company : Montgomery   \n",
       "31                 Red Clay Brewing Company : Opelika   \n",
       "32            Resting Pulse Brewing Company : Opelika   \n",
       "33          Rocket Republic Brewing Company : Madison   \n",
       "34                     Salty Nut Brewery : Huntsville   \n",
       "35                         Serda Brewing Co. : Mobile   \n",
       "36                    Siluria Brewing Co. : Alabaster   \n",
       "37                   Singin' River Brewing : Florence   \n",
       "38                 Slag Heap Brewing Co. : Trussville   \n",
       "39               Straight to Ale Brewing : Huntsville   \n",
       "40                  Tallulah Brewing Company : Jasper   \n",
       "41              Trim Tab Brewing Company : Birmingham   \n",
       "42                True Story Brewing Co. : Birmingham   \n",
       "43                    Twisted Barley Brewing : Jasper   \n",
       "44                  Yellowhammer Brewing : Huntsville   \n",
       "\n",
       "                                      breweryName breweryLocation  \n",
       "0                       Avondale Brewing Company       Birmingham  \n",
       "1                        Back Forty Beer Company          Gadsden  \n",
       "2                      Below the Radar Brewhouse       Huntsville  \n",
       "3                      Big Beach Brewing Company      Gulf Shores  \n",
       "4            Birmingham District Brewing Company       Birmingham  \n",
       "5                  Black Warrior Brewing Company       Tuscaloosa  \n",
       "6                         Bowler Hat Brewing Co.       Huntsville  \n",
       "7                      Braided River Brewing Co.           Mobile  \n",
       "8                         Cahaba Brewing Company       Birmingham  \n",
       "9                        Chandlers Ford Brewing        Huntsville  \n",
       "10                 Chattahoochee Brewing Company      Phenix City  \n",
       "11                           Common Bond Brewers       Montgomery  \n",
       "12                 Crosseyed Owl Brewing Company          Decatur  \n",
       "13                    Druid City Brewing Company       Tuscaloosa  \n",
       "14                      Fairhope Brewing Company         Fairhope  \n",
       "15                  Folklore Brewing and Meadery           Dothan  \n",
       "16                       Fractal Brewing Project       Huntsville  \n",
       "17                           Ghost Train Brewing       Birmingham  \n",
       "18                           Goat Island Brewing          Cullman  \n",
       "19                   Good People Brewing Company       Birmingham  \n",
       "20                             Green Bus Brewing       Huntsville  \n",
       "21                    Haint Blue Brewing Company           Mobile  \n",
       "22                        InnerSpace Brewing Co.       Huntsville  \n",
       "23  Interstellar Ginger Beer and Exploration Co.        Alabaster  \n",
       "24                             Iron Hand Brewing           Mobile  \n",
       "25                              Low Brim Brewing            Foley  \n",
       "26      Mad Malts  (formerly \"The Brew Stooges\")       Huntsville  \n",
       "27                          Main Channel Brewing     Guntersville  \n",
       "28                Old Black Bear Brewing Company          Madison  \n",
       "29                              Oversoul Brewing           Helena  \n",
       "30                  The Railyard Brewing Company       Montgomery  \n",
       "31                      Red Clay Brewing Company          Opelika  \n",
       "32                 Resting Pulse Brewing Company          Opelika  \n",
       "33               Rocket Republic Brewing Company          Madison  \n",
       "34                             Salty Nut Brewery       Huntsville  \n",
       "35                             Serda Brewing Co.           Mobile  \n",
       "36                           Siluria Brewing Co.        Alabaster  \n",
       "37                         Singin' River Brewing         Florence  \n",
       "38                         Slag Heap Brewing Co.       Trussville  \n",
       "39                       Straight to Ale Brewing       Huntsville  \n",
       "40                      Tallulah Brewing Company           Jasper  \n",
       "41                      Trim Tab Brewing Company       Birmingham  \n",
       "42                        True Story Brewing Co.       Birmingham  \n",
       "43                        Twisted Barley Brewing           Jasper  \n",
       "44                          Yellowhammer Brewing       Huntsville  "
      ]
     },
     "execution_count": 9,
     "metadata": {},
     "output_type": "execute_result"
    }
   ],
   "source": [
    "brews_AL['breweryName'] = breweryName\n",
    "brews_AL['breweryLocation'] = breweryLocation\n",
    "brews_AL"
   ]
  },
  {
   "cell_type": "markdown",
   "id": "52534a61",
   "metadata": {},
   "source": [
    "With that knowledge, we can write a script to do this for all states where the filestructure is the same."
   ]
  },
  {
   "cell_type": "code",
   "execution_count": 10,
   "id": "8fd064b5",
   "metadata": {},
   "outputs": [
    {
     "name": "stdout",
     "output_type": "stream",
     "text": [
      "processing AL\n",
      "\n",
      "processing CO\n",
      "\n",
      "processing CT\n",
      "\n",
      "processing DE\n",
      "\n",
      "processing IA\n",
      "\n",
      "processing KY\n",
      "\n",
      "processing MI\n",
      "\n",
      "processing MS\n",
      "\n",
      "processing NC\n",
      "\n",
      "processing NH\n",
      "\n",
      "processing NV\n",
      "\n",
      "processing OH\n",
      "\n",
      "processing OK\n",
      "\n",
      "processing RI\n",
      "\n",
      "processing SD\n",
      "\n",
      "processing TN\n",
      "\n",
      "processing VT\n",
      "\n",
      "processing ID\n",
      "\n",
      "processing IN\n",
      "\n",
      "processing ME\n",
      "\n",
      "processing OR\n",
      "\n",
      "processing PA\n",
      "\n"
     ]
    }
   ],
   "source": [
    "#building a function to do this for all states with this kind of file\n",
    "\n",
    "typeAStates = ['AL', 'CO', 'CT', 'DE', 'IA',\n",
    "                'KY', 'MI','MS', 'NC', 'NH',\n",
    "               'NV', 'OH','OK', 'RI', 'SD',\n",
    "              'TN', 'VT','ID', 'IN', 'ME', \n",
    "               'OR', 'PA'] #22 states\n",
    "    \n",
    "typeA_df = pd.DataFrame(columns=['text','breweryName', 'breweryCity', 'breweryState'])\n",
    "\n",
    "for state in typeAStates:\n",
    "    print(f'processing {state}\\n')\n",
    "    df = pd.read_excel(os.path.join(BBS_DIR, state + '.xlsx'), header=None, names=['text'])\n",
    "    df['text'] = df['text'].str.replace(r'\\[[0-9]*\\]', '', regex=True) # removing any references\n",
    "    df[['breweryName', 'breweryCity']] = df['text'].str.extract(r'([a-z A-Z 0-9 & . +\\'?s]*)[- – ,]([a-z A-Z ' ' .]*)')\n",
    "    df['breweryState'] = state\n",
    "    typeA_df = pd.concat([typeA_df, df], ignore_index=True)\n",
    "\n"
   ]
  },
  {
   "cell_type": "code",
   "execution_count": 11,
   "id": "057fe511",
   "metadata": {},
   "outputs": [],
   "source": [
    "typeA_df.drop(columns=['text'], inplace=True)"
   ]
  },
  {
   "cell_type": "code",
   "execution_count": 12,
   "id": "d9a802a1",
   "metadata": {},
   "outputs": [
    {
     "data": {
      "text/html": [
       "<div>\n",
       "<style scoped>\n",
       "    .dataframe tbody tr th:only-of-type {\n",
       "        vertical-align: middle;\n",
       "    }\n",
       "\n",
       "    .dataframe tbody tr th {\n",
       "        vertical-align: top;\n",
       "    }\n",
       "\n",
       "    .dataframe thead th {\n",
       "        text-align: right;\n",
       "    }\n",
       "</style>\n",
       "<table border=\"1\" class=\"dataframe\">\n",
       "  <thead>\n",
       "    <tr style=\"text-align: right;\">\n",
       "      <th></th>\n",
       "      <th>breweryName</th>\n",
       "      <th>breweryCity</th>\n",
       "      <th>breweryState</th>\n",
       "    </tr>\n",
       "  </thead>\n",
       "  <tbody>\n",
       "    <tr>\n",
       "      <th>0</th>\n",
       "      <td>Avondale Brewing Company</td>\n",
       "      <td>Birmingham</td>\n",
       "      <td>AL</td>\n",
       "    </tr>\n",
       "    <tr>\n",
       "      <th>1</th>\n",
       "      <td>Back Forty Beer Company</td>\n",
       "      <td>Gadsden</td>\n",
       "      <td>AL</td>\n",
       "    </tr>\n",
       "    <tr>\n",
       "      <th>2</th>\n",
       "      <td>Below the Radar Brewhouse</td>\n",
       "      <td>Huntsville</td>\n",
       "      <td>AL</td>\n",
       "    </tr>\n",
       "    <tr>\n",
       "      <th>3</th>\n",
       "      <td>Big Beach Brewing Company</td>\n",
       "      <td>Gulf Shores</td>\n",
       "      <td>AL</td>\n",
       "    </tr>\n",
       "    <tr>\n",
       "      <th>4</th>\n",
       "      <td>Birmingham District Brewing Company</td>\n",
       "      <td>Birmingham</td>\n",
       "      <td>AL</td>\n",
       "    </tr>\n",
       "    <tr>\n",
       "      <th>...</th>\n",
       "      <td>...</td>\n",
       "      <td>...</td>\n",
       "      <td>...</td>\n",
       "    </tr>\n",
       "    <tr>\n",
       "      <th>1229</th>\n",
       "      <td>Pennsylvania Brewing Company</td>\n",
       "      <td>Pittsburgh</td>\n",
       "      <td>PA</td>\n",
       "    </tr>\n",
       "    <tr>\n",
       "      <th>1230</th>\n",
       "      <td>The Brewerie at Union Station</td>\n",
       "      <td>Erie</td>\n",
       "      <td>PA</td>\n",
       "    </tr>\n",
       "    <tr>\n",
       "      <th>1231</th>\n",
       "      <td>Straub Beer</td>\n",
       "      <td>St. Marys</td>\n",
       "      <td>PA</td>\n",
       "    </tr>\n",
       "    <tr>\n",
       "      <th>1232</th>\n",
       "      <td>Erie Brewing Company</td>\n",
       "      <td>Erie</td>\n",
       "      <td>PA</td>\n",
       "    </tr>\n",
       "    <tr>\n",
       "      <th>1233</th>\n",
       "      <td>Lion Brewery</td>\n",
       "      <td>Inc.</td>\n",
       "      <td>PA</td>\n",
       "    </tr>\n",
       "  </tbody>\n",
       "</table>\n",
       "<p>1234 rows × 3 columns</p>\n",
       "</div>"
      ],
      "text/plain": [
       "                               breweryName   breweryCity breweryState\n",
       "0                Avondale Brewing Company     Birmingham           AL\n",
       "1                 Back Forty Beer Company        Gadsden           AL\n",
       "2               Below the Radar Brewhouse     Huntsville           AL\n",
       "3               Big Beach Brewing Company    Gulf Shores           AL\n",
       "4     Birmingham District Brewing Company     Birmingham           AL\n",
       "...                                    ...           ...          ...\n",
       "1229          Pennsylvania Brewing Company    Pittsburgh           PA\n",
       "1230         The Brewerie at Union Station          Erie           PA\n",
       "1231                           Straub Beer     St. Marys           PA\n",
       "1232                  Erie Brewing Company          Erie           PA\n",
       "1233                          Lion Brewery          Inc.           PA\n",
       "\n",
       "[1234 rows x 3 columns]"
      ]
     },
     "execution_count": 12,
     "metadata": {},
     "output_type": "execute_result"
    }
   ],
   "source": [
    "typeA_df"
   ]
  },
  {
   "cell_type": "markdown",
   "id": "3e043ffd",
   "metadata": {},
   "source": [
    "This is a similar script as before but modified for states whose file structure is tabular"
   ]
  },
  {
   "cell_type": "code",
   "execution_count": 13,
   "id": "d9d5bf5b",
   "metadata": {},
   "outputs": [
    {
     "name": "stdout",
     "output_type": "stream",
     "text": [
      "processing NY\n",
      "processing TX\n",
      "processing FL\n",
      "processing GA\n",
      "processing HI\n",
      "processing IL\n",
      "processing KS\n",
      "processing LA\n",
      "processing MD\n",
      "processing MN\n",
      "processing MO\n",
      "processing ND\n",
      "processing NE\n",
      "processing NJ\n",
      "processing SC\n",
      "processing UT\n",
      "processing WA\n",
      "processing WI\n",
      "processing WV\n",
      "processing WY\n"
     ]
    }
   ],
   "source": [
    "typeBStates = ['NY', 'TX', 'FL', 'GA',\n",
    "              'HI', 'IL', 'KS', 'LA', 'MD',\n",
    "              'MN', 'MO', 'ND', 'NE', 'NJ',\n",
    "              'SC', 'UT', 'WA','WI', 'WV',\n",
    "              'WY'] #20 states with tablular data\n",
    "\n",
    "typeB_df = pd.DataFrame(columns=['breweryName', 'breweryCity', 'breweryState'])\n",
    "\n",
    "usecols = ['breweryName', 'breweryCity', 'breweryState']\n",
    "\n",
    "for state in typeBStates:\n",
    "    df = pd.read_excel(os.path.join(BBS_DIR, state + '.xlsx'))\n",
    "    print(f'processing {state}')\n",
    "    if(state =='NY'):\n",
    "        df.rename(columns = {'Name' :'breweryName','City': 'breweryCity'}, inplace=True)\n",
    "    elif (state=='TX'):\n",
    "        df.rename(columns = {'Brewery' :'breweryName','Location': 'breweryCity'}, inplace=True)\n",
    "    elif(state=='FL'):\n",
    "        df.rename(columns = {'Brewery Name' :'breweryName','City': 'breweryCity'}, inplace=True)\n",
    "    elif(state =='GA'):\n",
    "        df.rename(columns = {'Name' :'breweryName','Location': 'breweryCity'}, inplace=True)\n",
    "    elif(state=='HI'):\n",
    "        df.rename(columns = {'Brewery' :'breweryName','City': 'breweryCity'}, inplace=True)\n",
    "    elif(state =='IL'):\n",
    "        df.rename(columns = {'Name' :'breweryName','Location and other information': 'breweryCity'}, inplace=True)\n",
    "    elif(state =='KS'):\n",
    "        df.rename(columns = {'Brewery' :'breweryName','Location': 'breweryCity'}, inplace=True)\n",
    "    elif(state =='LA'):\n",
    "        df.rename(columns = {'Brewery' :'breweryName','Location': 'breweryCity'}, inplace=True)\n",
    "    elif(state =='MD'):\n",
    "        df.rename(columns = {'Brewery' :'breweryName','Location': 'breweryCity'}, inplace=True)\n",
    "    elif(state =='MN'):\n",
    "        df.rename(columns = {'Brewery' :'breweryName','Location': 'breweryCity'}, inplace=True)\n",
    "    elif(state =='MO'):\n",
    "        df.rename(columns = {'Brewery' :'breweryName','City': 'breweryCity'}, inplace=True)\n",
    "    elif(state =='ND'):\n",
    "        df.rename(columns = {'Brewery Name' :'breweryName','City': 'breweryCity'}, inplace=True)\n",
    "    elif(state =='NE'):\n",
    "        df.rename(columns = {'Brewery' :'breweryName','Location': 'breweryCity'}, inplace=True)\n",
    "    elif(state =='NJ'):\n",
    "        df.rename(columns = {'Name' :'breweryName','Town': 'breweryCity'}, inplace=True)\n",
    "    elif(state =='SC'):\n",
    "        df.rename(columns = {'Brewery' :'breweryName','Location': 'breweryCity'}, inplace=True)\n",
    "    elif(state =='UT'):\n",
    "        df.rename(columns = {'Company' :'breweryName','City': 'breweryCity'}, inplace=True)\n",
    "    elif(state =='WA'):\n",
    "        df.rename(columns = {'Brewery' :'breweryName','City': 'breweryCity'}, inplace=True)\n",
    "    elif(state =='WI'):\n",
    "        df.rename(columns = {'Brewery' :'breweryName','Location': 'breweryCity'}, inplace=True)\n",
    "    elif(state =='WV'):\n",
    "        df.rename(columns = {'Brewery' :'breweryName','Location': 'breweryCity'}, inplace=True)\n",
    "    elif(state =='WY'):\n",
    "        df.rename(columns = {'Brewery' :'breweryName','Location': 'breweryCity'}, inplace=True)\n",
    "    elif(state =='WA'):\n",
    "        df.rename(columns = {'Brewery' :'breweryName','City': 'breweryCity'}, inplace=True)\n",
    "\n",
    "    df['breweryState'] = state\n",
    "    df = df[usecols]\n",
    "    typeB_df = pd.concat([typeB_df, df], ignore_index=True)\n",
    "    \n"
   ]
  },
  {
   "cell_type": "code",
   "execution_count": 14,
   "id": "0f114f4d",
   "metadata": {},
   "outputs": [
    {
     "data": {
      "text/html": [
       "<div>\n",
       "<style scoped>\n",
       "    .dataframe tbody tr th:only-of-type {\n",
       "        vertical-align: middle;\n",
       "    }\n",
       "\n",
       "    .dataframe tbody tr th {\n",
       "        vertical-align: top;\n",
       "    }\n",
       "\n",
       "    .dataframe thead th {\n",
       "        text-align: right;\n",
       "    }\n",
       "</style>\n",
       "<table border=\"1\" class=\"dataframe\">\n",
       "  <thead>\n",
       "    <tr style=\"text-align: right;\">\n",
       "      <th></th>\n",
       "      <th>breweryName</th>\n",
       "      <th>breweryCity</th>\n",
       "      <th>breweryState</th>\n",
       "    </tr>\n",
       "  </thead>\n",
       "  <tbody>\n",
       "    <tr>\n",
       "      <th>0</th>\n",
       "      <td>Abandon Brewing Company[3]</td>\n",
       "      <td>Penn Yan</td>\n",
       "      <td>NY</td>\n",
       "    </tr>\n",
       "    <tr>\n",
       "      <th>1</th>\n",
       "      <td>Adirondack Brewery[4]</td>\n",
       "      <td>Lake George</td>\n",
       "      <td>NY</td>\n",
       "    </tr>\n",
       "    <tr>\n",
       "      <th>2</th>\n",
       "      <td>Barrage Brewing Company[5]</td>\n",
       "      <td>Farmingdale</td>\n",
       "      <td>NY</td>\n",
       "    </tr>\n",
       "    <tr>\n",
       "      <th>3</th>\n",
       "      <td>Barrier Brewing Company[6]</td>\n",
       "      <td>Oceanside</td>\n",
       "      <td>NY</td>\n",
       "    </tr>\n",
       "    <tr>\n",
       "      <th>4</th>\n",
       "      <td>Big Alice Brewing[7]</td>\n",
       "      <td>Long Island City</td>\n",
       "      <td>NY</td>\n",
       "    </tr>\n",
       "    <tr>\n",
       "      <th>...</th>\n",
       "      <td>...</td>\n",
       "      <td>...</td>\n",
       "      <td>...</td>\n",
       "    </tr>\n",
       "    <tr>\n",
       "      <th>1589</th>\n",
       "      <td>Suds Brothers Brewery</td>\n",
       "      <td>Evanston [8]</td>\n",
       "      <td>WY</td>\n",
       "    </tr>\n",
       "    <tr>\n",
       "      <th>1590</th>\n",
       "      <td>Ten Sleep Brewing Company</td>\n",
       "      <td>Ten Sleep [8][25]</td>\n",
       "      <td>WY</td>\n",
       "    </tr>\n",
       "    <tr>\n",
       "      <th>1591</th>\n",
       "      <td>Wind River Brewing</td>\n",
       "      <td>Pinedale [11]</td>\n",
       "      <td>WY</td>\n",
       "    </tr>\n",
       "    <tr>\n",
       "      <th>1592</th>\n",
       "      <td>WYOld West Brewing Company</td>\n",
       "      <td>Powell[26]</td>\n",
       "      <td>WY</td>\n",
       "    </tr>\n",
       "    <tr>\n",
       "      <th>1593</th>\n",
       "      <td>Wyoming State Brewing Company</td>\n",
       "      <td>Casper [12]</td>\n",
       "      <td>WY</td>\n",
       "    </tr>\n",
       "  </tbody>\n",
       "</table>\n",
       "<p>1594 rows × 3 columns</p>\n",
       "</div>"
      ],
      "text/plain": [
       "                        breweryName        breweryCity breweryState\n",
       "0        Abandon Brewing Company[3]           Penn Yan           NY\n",
       "1             Adirondack Brewery[4]        Lake George           NY\n",
       "2        Barrage Brewing Company[5]        Farmingdale           NY\n",
       "3        Barrier Brewing Company[6]          Oceanside           NY\n",
       "4              Big Alice Brewing[7]   Long Island City           NY\n",
       "...                             ...                ...          ...\n",
       "1589          Suds Brothers Brewery       Evanston [8]           WY\n",
       "1590      Ten Sleep Brewing Company  Ten Sleep [8][25]           WY\n",
       "1591             Wind River Brewing      Pinedale [11]           WY\n",
       "1592     WYOld West Brewing Company         Powell[26]           WY\n",
       "1593  Wyoming State Brewing Company        Casper [12]           WY\n",
       "\n",
       "[1594 rows x 3 columns]"
      ]
     },
     "execution_count": 14,
     "metadata": {},
     "output_type": "execute_result"
    }
   ],
   "source": [
    "typeB_df"
   ]
  },
  {
   "cell_type": "code",
   "execution_count": 15,
   "id": "dc97de3d",
   "metadata": {},
   "outputs": [],
   "source": [
    "typeB_df = typeB_df.apply(lambda x: x.str.replace(r'\\[[0-9]*\\]', '', regex=True), axis=0)# removing any references"
   ]
  },
  {
   "cell_type": "markdown",
   "id": "2963a5b6",
   "metadata": {},
   "source": [
    "Now I write scripts for states which do not fit in either of the categories above"
   ]
  },
  {
   "cell_type": "code",
   "execution_count": 16,
   "id": "32482011",
   "metadata": {},
   "outputs": [
    {
     "data": {
      "text/html": [
       "<div>\n",
       "<style scoped>\n",
       "    .dataframe tbody tr th:only-of-type {\n",
       "        vertical-align: middle;\n",
       "    }\n",
       "\n",
       "    .dataframe tbody tr th {\n",
       "        vertical-align: top;\n",
       "    }\n",
       "\n",
       "    .dataframe thead th {\n",
       "        text-align: right;\n",
       "    }\n",
       "</style>\n",
       "<table border=\"1\" class=\"dataframe\">\n",
       "  <thead>\n",
       "    <tr style=\"text-align: right;\">\n",
       "      <th></th>\n",
       "      <th>breweryName</th>\n",
       "      <th>breweryCity</th>\n",
       "      <th>breweryState</th>\n",
       "    </tr>\n",
       "  </thead>\n",
       "  <tbody>\n",
       "    <tr>\n",
       "      <th>1</th>\n",
       "      <td>21st Amendment Brewery</td>\n",
       "      <td>San Leandro</td>\n",
       "      <td>CA</td>\n",
       "    </tr>\n",
       "    <tr>\n",
       "      <th>2</th>\n",
       "      <td>Ale Industries</td>\n",
       "      <td>Oakland</td>\n",
       "      <td>CA</td>\n",
       "    </tr>\n",
       "    <tr>\n",
       "      <th>3</th>\n",
       "      <td>Altamont Beer Works</td>\n",
       "      <td>Livermore</td>\n",
       "      <td>CA</td>\n",
       "    </tr>\n",
       "    <tr>\n",
       "      <th>4</th>\n",
       "      <td>Bison Brewing</td>\n",
       "      <td>Berkeley</td>\n",
       "      <td>CA</td>\n",
       "    </tr>\n",
       "    <tr>\n",
       "      <th>5</th>\n",
       "      <td>Buffalo Bill's Brewery</td>\n",
       "      <td>Hayward</td>\n",
       "      <td>CA</td>\n",
       "    </tr>\n",
       "    <tr>\n",
       "      <th>...</th>\n",
       "      <td>...</td>\n",
       "      <td>...</td>\n",
       "      <td>...</td>\n",
       "    </tr>\n",
       "    <tr>\n",
       "      <th>471</th>\n",
       "      <td>Jackrabbit Brewing Company</td>\n",
       "      <td>West Sacramento</td>\n",
       "      <td>CA</td>\n",
       "    </tr>\n",
       "    <tr>\n",
       "      <th>472</th>\n",
       "      <td>Sudwerk Privatbrauerei Hubsch</td>\n",
       "      <td>Davis</td>\n",
       "      <td>CA</td>\n",
       "    </tr>\n",
       "    <tr>\n",
       "      <th>473</th>\n",
       "      <td>Super Owl Brewing</td>\n",
       "      <td>Davis</td>\n",
       "      <td>CA</td>\n",
       "    </tr>\n",
       "    <tr>\n",
       "      <th>474</th>\n",
       "      <td>Three Mile Brewing Company</td>\n",
       "      <td>Davis</td>\n",
       "      <td>CA</td>\n",
       "    </tr>\n",
       "    <tr>\n",
       "      <th>475</th>\n",
       "      <td>Yolo Brewing</td>\n",
       "      <td>West Sacramento</td>\n",
       "      <td>CA</td>\n",
       "    </tr>\n",
       "  </tbody>\n",
       "</table>\n",
       "<p>432 rows × 3 columns</p>\n",
       "</div>"
      ],
      "text/plain": [
       "                       breweryName      breweryCity breweryState\n",
       "1           21st Amendment Brewery      San Leandro           CA\n",
       "2                   Ale Industries          Oakland           CA\n",
       "3              Altamont Beer Works        Livermore           CA\n",
       "4                    Bison Brewing        Berkeley            CA\n",
       "5           Buffalo Bill's Brewery          Hayward           CA\n",
       "..                             ...              ...          ...\n",
       "471     Jackrabbit Brewing Company  West Sacramento           CA\n",
       "472  Sudwerk Privatbrauerei Hubsch            Davis           CA\n",
       "473              Super Owl Brewing            Davis           CA\n",
       "474     Three Mile Brewing Company            Davis           CA\n",
       "475                   Yolo Brewing  West Sacramento           CA\n",
       "\n",
       "[432 rows x 3 columns]"
      ]
     },
     "execution_count": 16,
     "metadata": {},
     "output_type": "execute_result"
    }
   ],
   "source": [
    "df_CA = pd.read_excel(os.path.join(BBS_DIR, 'CA' + '.xlsx'), header=None, names=['text'])\n",
    "df_CA = df_CA[~(df_CA['text'].str.contains('County'))]\n",
    "df_CA[['breweryName', 'breweryCity']] = df_CA['text'].str.extract(r'([a-z A-Z 0-9 & +\\'?s]*) in ([a-z A-Z]*)')\n",
    "df_CA['breweryState'] = 'CA'\n",
    "df_CA.drop(columns= ['text'], inplace=True)\n",
    "df_CA"
   ]
  },
  {
   "cell_type": "code",
   "execution_count": 17,
   "id": "259e3f88",
   "metadata": {},
   "outputs": [
    {
     "data": {
      "text/html": [
       "<div>\n",
       "<style scoped>\n",
       "    .dataframe tbody tr th:only-of-type {\n",
       "        vertical-align: middle;\n",
       "    }\n",
       "\n",
       "    .dataframe tbody tr th {\n",
       "        vertical-align: top;\n",
       "    }\n",
       "\n",
       "    .dataframe thead th {\n",
       "        text-align: right;\n",
       "    }\n",
       "</style>\n",
       "<table border=\"1\" class=\"dataframe\">\n",
       "  <thead>\n",
       "    <tr style=\"text-align: right;\">\n",
       "      <th></th>\n",
       "      <th>breweryName</th>\n",
       "      <th>breweryCity</th>\n",
       "      <th>breweryState</th>\n",
       "    </tr>\n",
       "  </thead>\n",
       "  <tbody>\n",
       "    <tr>\n",
       "      <th>0</th>\n",
       "      <td>49th State Brewing Company</td>\n",
       "      <td>Healy and Anchorage</td>\n",
       "      <td>AK</td>\n",
       "    </tr>\n",
       "    <tr>\n",
       "      <th>1</th>\n",
       "      <td>Alaskan Brewing Company</td>\n",
       "      <td>Juneau</td>\n",
       "      <td>AK</td>\n",
       "    </tr>\n",
       "    <tr>\n",
       "      <th>2</th>\n",
       "      <td>Anchorage Brewing Company</td>\n",
       "      <td>Anchorage</td>\n",
       "      <td>AK</td>\n",
       "    </tr>\n",
       "    <tr>\n",
       "      <th>3</th>\n",
       "      <td>Arkose Brewery</td>\n",
       "      <td>Palmer</td>\n",
       "      <td>AK</td>\n",
       "    </tr>\n",
       "    <tr>\n",
       "      <th>4</th>\n",
       "      <td>Barnaby Brewing Company</td>\n",
       "      <td>Juneau</td>\n",
       "      <td>AK</td>\n",
       "    </tr>\n",
       "    <tr>\n",
       "      <th>5</th>\n",
       "      <td>Bawden Street Brewing Company</td>\n",
       "      <td>Ketchikan</td>\n",
       "      <td>AK</td>\n",
       "    </tr>\n",
       "    <tr>\n",
       "      <th>6</th>\n",
       "      <td>Bearpaw River Brewing Company</td>\n",
       "      <td>Wasilla</td>\n",
       "      <td>AK</td>\n",
       "    </tr>\n",
       "    <tr>\n",
       "      <th>7</th>\n",
       "      <td>Black Spruce Brewing Company</td>\n",
       "      <td>Fairbanks</td>\n",
       "      <td>AK</td>\n",
       "    </tr>\n",
       "    <tr>\n",
       "      <th>8</th>\n",
       "      <td>Bleeding Heart Brewery</td>\n",
       "      <td>Palmer</td>\n",
       "      <td>AK</td>\n",
       "    </tr>\n",
       "    <tr>\n",
       "      <th>9</th>\n",
       "      <td>Broken Tooth Brewing</td>\n",
       "      <td>Anchorage</td>\n",
       "      <td>AK</td>\n",
       "    </tr>\n",
       "    <tr>\n",
       "      <th>10</th>\n",
       "      <td>Cooper Landing Brewing Company</td>\n",
       "      <td>Cooper Landing</td>\n",
       "      <td>AK</td>\n",
       "    </tr>\n",
       "    <tr>\n",
       "      <th>11</th>\n",
       "      <td>Cynosure Brewing</td>\n",
       "      <td>Anchorage</td>\n",
       "      <td>AK</td>\n",
       "    </tr>\n",
       "    <tr>\n",
       "      <th>12</th>\n",
       "      <td>Denali Brewing Company</td>\n",
       "      <td>Talkeetna</td>\n",
       "      <td>AK</td>\n",
       "    </tr>\n",
       "    <tr>\n",
       "      <th>13</th>\n",
       "      <td>Devil's Club Brewing Company</td>\n",
       "      <td>Juneau</td>\n",
       "      <td>AK</td>\n",
       "    </tr>\n",
       "    <tr>\n",
       "      <th>14</th>\n",
       "      <td>Forbidden Peak Brewery</td>\n",
       "      <td>Juneau</td>\n",
       "      <td>AK</td>\n",
       "    </tr>\n",
       "    <tr>\n",
       "      <th>15</th>\n",
       "      <td>Gakona Brewery &amp; Supply Company</td>\n",
       "      <td>Gakona</td>\n",
       "      <td>AK</td>\n",
       "    </tr>\n",
       "    <tr>\n",
       "      <th>16</th>\n",
       "      <td>Girdwood Brewing Company</td>\n",
       "      <td>Girdwood</td>\n",
       "      <td>AK</td>\n",
       "    </tr>\n",
       "    <tr>\n",
       "      <th>17</th>\n",
       "      <td>Glacier Brewhouse</td>\n",
       "      <td>Anchorage</td>\n",
       "      <td>AK</td>\n",
       "    </tr>\n",
       "    <tr>\n",
       "      <th>18</th>\n",
       "      <td>Grace Ridge Brewing</td>\n",
       "      <td>Homer</td>\n",
       "      <td>AK</td>\n",
       "    </tr>\n",
       "    <tr>\n",
       "      <th>19</th>\n",
       "      <td>Haines Brewing Company</td>\n",
       "      <td>Haines</td>\n",
       "      <td>AK</td>\n",
       "    </tr>\n",
       "    <tr>\n",
       "      <th>20</th>\n",
       "      <td>Harbor Mountain Brewing Company</td>\n",
       "      <td>Sitka</td>\n",
       "      <td>AK</td>\n",
       "    </tr>\n",
       "    <tr>\n",
       "      <th>21</th>\n",
       "      <td>Homer Brewing Company</td>\n",
       "      <td>Homer</td>\n",
       "      <td>AK</td>\n",
       "    </tr>\n",
       "    <tr>\n",
       "      <th>22</th>\n",
       "      <td>HooDoo Brewing Company</td>\n",
       "      <td>Fairbanks</td>\n",
       "      <td>AK</td>\n",
       "    </tr>\n",
       "    <tr>\n",
       "      <th>23</th>\n",
       "      <td>Icy Strait Brewing</td>\n",
       "      <td>Hoonah</td>\n",
       "      <td>AK</td>\n",
       "    </tr>\n",
       "    <tr>\n",
       "      <th>24</th>\n",
       "      <td>Kassik's Kenai Brew Stop</td>\n",
       "      <td>Nikiski</td>\n",
       "      <td>AK</td>\n",
       "    </tr>\n",
       "    <tr>\n",
       "      <th>25</th>\n",
       "      <td>Kenai River Brewing Company</td>\n",
       "      <td>Soldotna</td>\n",
       "      <td>AK</td>\n",
       "    </tr>\n",
       "    <tr>\n",
       "      <th>26</th>\n",
       "      <td>King Street Brewing Company</td>\n",
       "      <td>Anchorage</td>\n",
       "      <td>AK</td>\n",
       "    </tr>\n",
       "    <tr>\n",
       "      <th>27</th>\n",
       "      <td>Klondike Brewing Company</td>\n",
       "      <td>Skagway</td>\n",
       "      <td>AK</td>\n",
       "    </tr>\n",
       "    <tr>\n",
       "      <th>28</th>\n",
       "      <td>Kodiak Island Brewing Company</td>\n",
       "      <td>Kodiak</td>\n",
       "      <td>AK</td>\n",
       "    </tr>\n",
       "    <tr>\n",
       "      <th>29</th>\n",
       "      <td>Last Frontier Brewing Company</td>\n",
       "      <td>Wasilla</td>\n",
       "      <td>AK</td>\n",
       "    </tr>\n",
       "    <tr>\n",
       "      <th>30</th>\n",
       "      <td>Lazy Mountain Brewing Company</td>\n",
       "      <td>Palmer</td>\n",
       "      <td>AK</td>\n",
       "    </tr>\n",
       "    <tr>\n",
       "      <th>31</th>\n",
       "      <td>Matanuska Brewing Company</td>\n",
       "      <td>Palmer</td>\n",
       "      <td>AK</td>\n",
       "    </tr>\n",
       "    <tr>\n",
       "      <th>32</th>\n",
       "      <td>Midnight Sun Brewing Company</td>\n",
       "      <td>Anchorage</td>\n",
       "      <td>AK</td>\n",
       "    </tr>\n",
       "    <tr>\n",
       "      <th>33</th>\n",
       "      <td>Odd Man Rush Brewing</td>\n",
       "      <td>Eagle River</td>\n",
       "      <td>AK</td>\n",
       "    </tr>\n",
       "    <tr>\n",
       "      <th>34</th>\n",
       "      <td>Onsite Brewing Company</td>\n",
       "      <td>Anchorage</td>\n",
       "      <td>AK</td>\n",
       "    </tr>\n",
       "    <tr>\n",
       "      <th>35</th>\n",
       "      <td>Resolution Brewing Company</td>\n",
       "      <td>Anchorage</td>\n",
       "      <td>AK</td>\n",
       "    </tr>\n",
       "    <tr>\n",
       "      <th>36</th>\n",
       "      <td>Roughwoods Inn &amp; Café</td>\n",
       "      <td>Nenana</td>\n",
       "      <td>AK</td>\n",
       "    </tr>\n",
       "    <tr>\n",
       "      <th>37</th>\n",
       "      <td>Seward Brewing Company</td>\n",
       "      <td>Seward</td>\n",
       "      <td>AK</td>\n",
       "    </tr>\n",
       "    <tr>\n",
       "      <th>38</th>\n",
       "      <td>Silver Gulch Brewing &amp; Bottling Company</td>\n",
       "      <td>Fox</td>\n",
       "      <td>AK</td>\n",
       "    </tr>\n",
       "    <tr>\n",
       "      <th>39</th>\n",
       "      <td>Skagway Brewing Company</td>\n",
       "      <td>Skagway</td>\n",
       "      <td>AK</td>\n",
       "    </tr>\n",
       "    <tr>\n",
       "      <th>40</th>\n",
       "      <td>St. Elias Brewing Company</td>\n",
       "      <td>Soldotna</td>\n",
       "      <td>AK</td>\n",
       "    </tr>\n",
       "    <tr>\n",
       "      <th>41</th>\n",
       "      <td>Turnagain Brewing</td>\n",
       "      <td>Anchorage</td>\n",
       "      <td>AK</td>\n",
       "    </tr>\n",
       "    <tr>\n",
       "      <th>42</th>\n",
       "      <td>Valdez Brewing</td>\n",
       "      <td>Valdez</td>\n",
       "      <td>AK</td>\n",
       "    </tr>\n",
       "  </tbody>\n",
       "</table>\n",
       "</div>"
      ],
      "text/plain": [
       "                                 breweryName          breweryCity breweryState\n",
       "0                49th State Brewing Company   Healy and Anchorage           AK\n",
       "1                   Alaskan Brewing Company                Juneau           AK\n",
       "2                 Anchorage Brewing Company             Anchorage           AK\n",
       "3                            Arkose Brewery                Palmer           AK\n",
       "4                   Barnaby Brewing Company                Juneau           AK\n",
       "5             Bawden Street Brewing Company             Ketchikan           AK\n",
       "6             Bearpaw River Brewing Company               Wasilla           AK\n",
       "7              Black Spruce Brewing Company             Fairbanks           AK\n",
       "8                    Bleeding Heart Brewery                Palmer           AK\n",
       "9                      Broken Tooth Brewing             Anchorage           AK\n",
       "10           Cooper Landing Brewing Company        Cooper Landing           AK\n",
       "11                         Cynosure Brewing             Anchorage           AK\n",
       "12                   Denali Brewing Company             Talkeetna           AK\n",
       "13             Devil's Club Brewing Company                Juneau           AK\n",
       "14                   Forbidden Peak Brewery                Juneau           AK\n",
       "15          Gakona Brewery & Supply Company                Gakona           AK\n",
       "16                 Girdwood Brewing Company              Girdwood           AK\n",
       "17                        Glacier Brewhouse             Anchorage           AK\n",
       "18                      Grace Ridge Brewing                 Homer           AK\n",
       "19                   Haines Brewing Company                Haines           AK\n",
       "20          Harbor Mountain Brewing Company                 Sitka           AK\n",
       "21                    Homer Brewing Company                 Homer           AK\n",
       "22                   HooDoo Brewing Company             Fairbanks           AK\n",
       "23                       Icy Strait Brewing                Hoonah           AK\n",
       "24                 Kassik's Kenai Brew Stop               Nikiski           AK\n",
       "25              Kenai River Brewing Company              Soldotna           AK\n",
       "26              King Street Brewing Company             Anchorage           AK\n",
       "27                 Klondike Brewing Company               Skagway           AK\n",
       "28            Kodiak Island Brewing Company                Kodiak           AK\n",
       "29            Last Frontier Brewing Company               Wasilla           AK\n",
       "30            Lazy Mountain Brewing Company                Palmer           AK\n",
       "31                Matanuska Brewing Company                Palmer           AK\n",
       "32             Midnight Sun Brewing Company             Anchorage           AK\n",
       "33                     Odd Man Rush Brewing           Eagle River           AK\n",
       "34                   Onsite Brewing Company             Anchorage           AK\n",
       "35               Resolution Brewing Company             Anchorage           AK\n",
       "36                    Roughwoods Inn & Café                Nenana           AK\n",
       "37                   Seward Brewing Company                Seward           AK\n",
       "38  Silver Gulch Brewing & Bottling Company                   Fox           AK\n",
       "39                  Skagway Brewing Company               Skagway           AK\n",
       "40                St. Elias Brewing Company              Soldotna           AK\n",
       "41                        Turnagain Brewing             Anchorage           AK\n",
       "42                           Valdez Brewing                Valdez           AK"
      ]
     },
     "execution_count": 17,
     "metadata": {},
     "output_type": "execute_result"
    }
   ],
   "source": [
    "df_AK = pd.read_excel(os.path.join(BBS_DIR, 'AK' + '.xlsx'), header=None, names=['text'])\n",
    "df_AK['text'] = df_AK['text'].str.replace(r'\\[[0-9]*\\]', '', regex=True)# removing any references\n",
    "df_AK[['breweryName', 'est', 'breweryCity']] = df_AK['text'].str.extract(r'([a-z A-Z 0-9 & . é +\\'?s]*)(\\(est. \\d{4}\\))?[- – — − \\s \\t]* ([a-z A-Z \\s \\t]*)')\n",
    "df_AK.drop(columns= ['est','text'], inplace=True)\n",
    "df_AK['breweryState'] = 'AK'\n",
    "df_AK"
   ]
  },
  {
   "cell_type": "code",
   "execution_count": 18,
   "id": "6c17e4b3",
   "metadata": {},
   "outputs": [
    {
     "data": {
      "text/html": [
       "<div>\n",
       "<style scoped>\n",
       "    .dataframe tbody tr th:only-of-type {\n",
       "        vertical-align: middle;\n",
       "    }\n",
       "\n",
       "    .dataframe tbody tr th {\n",
       "        vertical-align: top;\n",
       "    }\n",
       "\n",
       "    .dataframe thead th {\n",
       "        text-align: right;\n",
       "    }\n",
       "</style>\n",
       "<table border=\"1\" class=\"dataframe\">\n",
       "  <thead>\n",
       "    <tr style=\"text-align: right;\">\n",
       "      <th></th>\n",
       "      <th>breweryName</th>\n",
       "      <th>breweryCity</th>\n",
       "      <th>breweryState</th>\n",
       "    </tr>\n",
       "  </thead>\n",
       "  <tbody>\n",
       "    <tr>\n",
       "      <th>0</th>\n",
       "      <td>8-Bit Aleworks</td>\n",
       "      <td>Avondale</td>\n",
       "      <td>AZ</td>\n",
       "    </tr>\n",
       "    <tr>\n",
       "      <th>1</th>\n",
       "      <td>1912 Brewing Company</td>\n",
       "      <td>Tucson</td>\n",
       "      <td>AZ</td>\n",
       "    </tr>\n",
       "    <tr>\n",
       "      <th>2</th>\n",
       "      <td>Arizona Wilderness Brewing Company</td>\n",
       "      <td>Gilbert</td>\n",
       "      <td>AZ</td>\n",
       "    </tr>\n",
       "    <tr>\n",
       "      <th>3</th>\n",
       "      <td>Barrio Brewing Company</td>\n",
       "      <td>Tucson</td>\n",
       "      <td>AZ</td>\n",
       "    </tr>\n",
       "    <tr>\n",
       "      <th>4</th>\n",
       "      <td>Beast Brewing Company</td>\n",
       "      <td>Bisbee Closed</td>\n",
       "      <td>AZ</td>\n",
       "    </tr>\n",
       "    <tr>\n",
       "      <th>5</th>\n",
       "      <td>Beaver Street Brewery</td>\n",
       "      <td>Flagstaff</td>\n",
       "      <td>AZ</td>\n",
       "    </tr>\n",
       "    <tr>\n",
       "      <th>6</th>\n",
       "      <td>Black Bridge Brewery</td>\n",
       "      <td>Kingman</td>\n",
       "      <td>AZ</td>\n",
       "    </tr>\n",
       "    <tr>\n",
       "      <th>7</th>\n",
       "      <td>Black Horse Brewery</td>\n",
       "      <td>Show Low</td>\n",
       "      <td>AZ</td>\n",
       "    </tr>\n",
       "    <tr>\n",
       "      <th>8</th>\n",
       "      <td>Button Brew House</td>\n",
       "      <td>Tucson AZ</td>\n",
       "      <td>AZ</td>\n",
       "    </tr>\n",
       "    <tr>\n",
       "      <th>9</th>\n",
       "      <td>Copper Mine Brewing Company</td>\n",
       "      <td>Tucson</td>\n",
       "      <td>AZ</td>\n",
       "    </tr>\n",
       "    <tr>\n",
       "      <th>10</th>\n",
       "      <td>Dark Sky Brewing Co.</td>\n",
       "      <td>Flagstaff</td>\n",
       "      <td>AZ</td>\n",
       "    </tr>\n",
       "    <tr>\n",
       "      <th>11</th>\n",
       "      <td>Desert Eagle Brewing Company</td>\n",
       "      <td>Mesa</td>\n",
       "      <td>AZ</td>\n",
       "    </tr>\n",
       "    <tr>\n",
       "      <th>12</th>\n",
       "      <td>Dubina Brewing Company (now Throne. Brewing)</td>\n",
       "      <td>Glendale</td>\n",
       "      <td>AZ</td>\n",
       "    </tr>\n",
       "    <tr>\n",
       "      <th>13</th>\n",
       "      <td>Electric Brewing</td>\n",
       "      <td>Bisbee</td>\n",
       "      <td>AZ</td>\n",
       "    </tr>\n",
       "    <tr>\n",
       "      <th>14</th>\n",
       "      <td>Four Peaks Brewery</td>\n",
       "      <td>Scottsdale</td>\n",
       "      <td>AZ</td>\n",
       "    </tr>\n",
       "    <tr>\n",
       "      <th>15</th>\n",
       "      <td>Four Peaks Brewing Company</td>\n",
       "      <td>Tempe</td>\n",
       "      <td>AZ</td>\n",
       "    </tr>\n",
       "    <tr>\n",
       "      <th>16</th>\n",
       "      <td>Goldwater Brewing Company</td>\n",
       "      <td>Scottsdale</td>\n",
       "      <td>AZ</td>\n",
       "    </tr>\n",
       "    <tr>\n",
       "      <th>17</th>\n",
       "      <td>Harbottle Brewing Company</td>\n",
       "      <td>Tucson</td>\n",
       "      <td>AZ</td>\n",
       "    </tr>\n",
       "    <tr>\n",
       "      <th>18</th>\n",
       "      <td>Historic Brewing Company</td>\n",
       "      <td>Flagstaff</td>\n",
       "      <td>AZ</td>\n",
       "    </tr>\n",
       "    <tr>\n",
       "      <th>19</th>\n",
       "      <td>Huss Brewing Company</td>\n",
       "      <td>Tempe</td>\n",
       "      <td>AZ</td>\n",
       "    </tr>\n",
       "    <tr>\n",
       "      <th>20</th>\n",
       "      <td>Kitsune Brewing Company</td>\n",
       "      <td>Phoenix</td>\n",
       "      <td>AZ</td>\n",
       "    </tr>\n",
       "    <tr>\n",
       "      <th>21</th>\n",
       "      <td>LazyG Brewhouse</td>\n",
       "      <td>Prescott</td>\n",
       "      <td>AZ</td>\n",
       "    </tr>\n",
       "    <tr>\n",
       "      <th>22</th>\n",
       "      <td>Lumberyard Brewing Company</td>\n",
       "      <td>Flagstaff</td>\n",
       "      <td>AZ</td>\n",
       "    </tr>\n",
       "    <tr>\n",
       "      <th>23</th>\n",
       "      <td>Mother Bunch Brewing (now closed)</td>\n",
       "      <td>Phoenix</td>\n",
       "      <td>AZ</td>\n",
       "    </tr>\n",
       "    <tr>\n",
       "      <th>24</th>\n",
       "      <td>Mother Road Brewing Company</td>\n",
       "      <td>Flagstaff</td>\n",
       "      <td>AZ</td>\n",
       "    </tr>\n",
       "    <tr>\n",
       "      <th>25</th>\n",
       "      <td>North Mountain Brewing Company</td>\n",
       "      <td>Phoenix</td>\n",
       "      <td>AZ</td>\n",
       "    </tr>\n",
       "    <tr>\n",
       "      <th>26</th>\n",
       "      <td>Old Bisbee Brewing Company</td>\n",
       "      <td>Bisbee</td>\n",
       "      <td>AZ</td>\n",
       "    </tr>\n",
       "    <tr>\n",
       "      <th>27</th>\n",
       "      <td>Papago Brewing (now closed)</td>\n",
       "      <td>Scottsdale</td>\n",
       "      <td>AZ</td>\n",
       "    </tr>\n",
       "    <tr>\n",
       "      <th>28</th>\n",
       "      <td>Peoria Artisan Brewery</td>\n",
       "      <td>Peoria</td>\n",
       "      <td>AZ</td>\n",
       "    </tr>\n",
       "    <tr>\n",
       "      <th>29</th>\n",
       "      <td>The Perch Pub &amp; Brewery</td>\n",
       "      <td>Chandler</td>\n",
       "      <td>AZ</td>\n",
       "    </tr>\n",
       "    <tr>\n",
       "      <th>30</th>\n",
       "      <td>The Phoenix Ale Brewery</td>\n",
       "      <td>Phoenix</td>\n",
       "      <td>AZ</td>\n",
       "    </tr>\n",
       "    <tr>\n",
       "      <th>31</th>\n",
       "      <td>Rio Salado Brewing</td>\n",
       "      <td>Company</td>\n",
       "      <td>AZ</td>\n",
       "    </tr>\n",
       "    <tr>\n",
       "      <th>32</th>\n",
       "      <td>Saddle Mountain Brewing Company</td>\n",
       "      <td>Goodyear</td>\n",
       "      <td>AZ</td>\n",
       "    </tr>\n",
       "    <tr>\n",
       "      <th>33</th>\n",
       "      <td>SanTan Brewing Company</td>\n",
       "      <td>Chandler</td>\n",
       "      <td>AZ</td>\n",
       "    </tr>\n",
       "    <tr>\n",
       "      <th>34</th>\n",
       "      <td>Scottsdale Beer Company</td>\n",
       "      <td>Scottsdale</td>\n",
       "      <td>AZ</td>\n",
       "    </tr>\n",
       "    <tr>\n",
       "      <th>35</th>\n",
       "      <td>Sleepy Dog Saloon and Brewery</td>\n",
       "      <td>Tempe</td>\n",
       "      <td>AZ</td>\n",
       "    </tr>\n",
       "    <tr>\n",
       "      <th>36</th>\n",
       "      <td>Smelter Town Brewing (coming Summer 2020)</td>\n",
       "      <td>Clarkdale</td>\n",
       "      <td>AZ</td>\n",
       "    </tr>\n",
       "    <tr>\n",
       "      <th>37</th>\n",
       "      <td>Sun Up Brewing Company</td>\n",
       "      <td>Phoenix</td>\n",
       "      <td>AZ</td>\n",
       "    </tr>\n",
       "    <tr>\n",
       "      <th>38</th>\n",
       "      <td>Thunder Canyon Brewery</td>\n",
       "      <td>Tucson</td>\n",
       "      <td>AZ</td>\n",
       "    </tr>\n",
       "    <tr>\n",
       "      <th>39</th>\n",
       "      <td>Tombstone Brewing Company</td>\n",
       "      <td>Tombstone</td>\n",
       "      <td>AZ</td>\n",
       "    </tr>\n",
       "    <tr>\n",
       "      <th>40</th>\n",
       "      <td>Two Brothers Tap House and Brewery</td>\n",
       "      <td>Scottsdale</td>\n",
       "      <td>AZ</td>\n",
       "    </tr>\n",
       "    <tr>\n",
       "      <th>41</th>\n",
       "      <td>Wanderlust Brewing Company</td>\n",
       "      <td>Flagstaff</td>\n",
       "      <td>AZ</td>\n",
       "    </tr>\n",
       "    <tr>\n",
       "      <th>42</th>\n",
       "      <td>Wren House Brewing</td>\n",
       "      <td>Phoenix</td>\n",
       "      <td>AZ</td>\n",
       "    </tr>\n",
       "  </tbody>\n",
       "</table>\n",
       "</div>"
      ],
      "text/plain": [
       "                                     breweryName     breweryCity breweryState\n",
       "0                                 8-Bit Aleworks        Avondale           AZ\n",
       "1                           1912 Brewing Company          Tucson           AZ\n",
       "2             Arizona Wilderness Brewing Company         Gilbert           AZ\n",
       "3                         Barrio Brewing Company          Tucson           AZ\n",
       "4                          Beast Brewing Company  Bisbee Closed            AZ\n",
       "5                          Beaver Street Brewery       Flagstaff           AZ\n",
       "6                           Black Bridge Brewery         Kingman           AZ\n",
       "7                            Black Horse Brewery        Show Low           AZ\n",
       "8                              Button Brew House       Tucson AZ           AZ\n",
       "9                    Copper Mine Brewing Company          Tucson           AZ\n",
       "10                          Dark Sky Brewing Co.       Flagstaff           AZ\n",
       "11                  Desert Eagle Brewing Company            Mesa           AZ\n",
       "12  Dubina Brewing Company (now Throne. Brewing)        Glendale           AZ\n",
       "13                              Electric Brewing          Bisbee           AZ\n",
       "14                            Four Peaks Brewery      Scottsdale           AZ\n",
       "15                    Four Peaks Brewing Company           Tempe           AZ\n",
       "16                     Goldwater Brewing Company      Scottsdale           AZ\n",
       "17                     Harbottle Brewing Company          Tucson           AZ\n",
       "18                      Historic Brewing Company       Flagstaff           AZ\n",
       "19                          Huss Brewing Company           Tempe           AZ\n",
       "20                       Kitsune Brewing Company         Phoenix           AZ\n",
       "21                               LazyG Brewhouse        Prescott           AZ\n",
       "22                    Lumberyard Brewing Company       Flagstaff           AZ\n",
       "23             Mother Bunch Brewing (now closed)         Phoenix           AZ\n",
       "24                   Mother Road Brewing Company       Flagstaff           AZ\n",
       "25                North Mountain Brewing Company         Phoenix           AZ\n",
       "26                    Old Bisbee Brewing Company          Bisbee           AZ\n",
       "27                   Papago Brewing (now closed)      Scottsdale           AZ\n",
       "28                        Peoria Artisan Brewery          Peoria           AZ\n",
       "29                       The Perch Pub & Brewery        Chandler           AZ\n",
       "30                       The Phoenix Ale Brewery         Phoenix           AZ\n",
       "31                            Rio Salado Brewing         Company           AZ\n",
       "32               Saddle Mountain Brewing Company        Goodyear           AZ\n",
       "33                        SanTan Brewing Company        Chandler           AZ\n",
       "34                       Scottsdale Beer Company      Scottsdale           AZ\n",
       "35                 Sleepy Dog Saloon and Brewery           Tempe           AZ\n",
       "36     Smelter Town Brewing (coming Summer 2020)       Clarkdale           AZ\n",
       "37                        Sun Up Brewing Company         Phoenix           AZ\n",
       "38                        Thunder Canyon Brewery          Tucson           AZ\n",
       "39                     Tombstone Brewing Company       Tombstone           AZ\n",
       "40            Two Brothers Tap House and Brewery      Scottsdale           AZ\n",
       "41                    Wanderlust Brewing Company       Flagstaff           AZ\n",
       "42                            Wren House Brewing         Phoenix           AZ"
      ]
     },
     "execution_count": 18,
     "metadata": {},
     "output_type": "execute_result"
    }
   ],
   "source": [
    "df_AZ = pd.read_excel(os.path.join(BBS_DIR, 'AZ' + '.xlsx'), header=None, names=['text'])\n",
    "df_AZ['text'] = df_AZ['text'].str.replace(r'\\[[0-9]*\\]', '', regex=True)# removing any references\n",
    "df_AZ[['breweryName', 'breweryCity']] = df_AZ['text'].str.extract(r'([a-z A-Z 0-9 & .\\- \\(\\)+\\'?s]*)[\\s]*[: ,][\\s]*([a-z A-Z]*)')\n",
    "df_AZ['breweryState'] = 'AZ'\n",
    "df_AZ.drop(columns= ['text'], inplace=True)\n",
    "df_AZ"
   ]
  },
  {
   "cell_type": "code",
   "execution_count": 19,
   "id": "10a5c58e",
   "metadata": {},
   "outputs": [
    {
     "data": {
      "text/html": [
       "<div>\n",
       "<style scoped>\n",
       "    .dataframe tbody tr th:only-of-type {\n",
       "        vertical-align: middle;\n",
       "    }\n",
       "\n",
       "    .dataframe tbody tr th {\n",
       "        vertical-align: top;\n",
       "    }\n",
       "\n",
       "    .dataframe thead th {\n",
       "        text-align: right;\n",
       "    }\n",
       "</style>\n",
       "<table border=\"1\" class=\"dataframe\">\n",
       "  <thead>\n",
       "    <tr style=\"text-align: right;\">\n",
       "      <th></th>\n",
       "      <th>breweryName</th>\n",
       "      <th>breweryCity</th>\n",
       "      <th>breweryState</th>\n",
       "    </tr>\n",
       "  </thead>\n",
       "  <tbody>\n",
       "    <tr>\n",
       "      <th>2</th>\n",
       "      <td>Bentonville Brewing Company</td>\n",
       "      <td>Bentonville</td>\n",
       "      <td>AR</td>\n",
       "    </tr>\n",
       "    <tr>\n",
       "      <th>3</th>\n",
       "      <td>Bike Rack Brewing Company</td>\n",
       "      <td>Bentonville</td>\n",
       "      <td>AR</td>\n",
       "    </tr>\n",
       "    <tr>\n",
       "      <th>7</th>\n",
       "      <td>Apple Blossom Brewing Company</td>\n",
       "      <td>Fayetteville</td>\n",
       "      <td>AR</td>\n",
       "    </tr>\n",
       "    <tr>\n",
       "      <th>8</th>\n",
       "      <td>Boston Mountain Brewing</td>\n",
       "      <td>Fayetteville</td>\n",
       "      <td>AR</td>\n",
       "    </tr>\n",
       "    <tr>\n",
       "      <th>9</th>\n",
       "      <td>Columbus House Brewery</td>\n",
       "      <td>Fayetteville</td>\n",
       "      <td>AR</td>\n",
       "    </tr>\n",
       "    <tr>\n",
       "      <th>10</th>\n",
       "      <td>Crisis Brewing</td>\n",
       "      <td>Fayetteville</td>\n",
       "      <td>AR</td>\n",
       "    </tr>\n",
       "    <tr>\n",
       "      <th>11</th>\n",
       "      <td>Fossil Cove Brewing Company</td>\n",
       "      <td>Fayetteville</td>\n",
       "      <td>AR</td>\n",
       "    </tr>\n",
       "    <tr>\n",
       "      <th>12</th>\n",
       "      <td>West Mountain Brewing Company</td>\n",
       "      <td>Fayetteville</td>\n",
       "      <td>AR</td>\n",
       "    </tr>\n",
       "    <tr>\n",
       "      <th>16</th>\n",
       "      <td>Fort Smith Brewing Company</td>\n",
       "      <td>Fort Smith</td>\n",
       "      <td>AR</td>\n",
       "    </tr>\n",
       "    <tr>\n",
       "      <th>20</th>\n",
       "      <td>Brick &amp; Forge Brew Works</td>\n",
       "      <td>Harrison</td>\n",
       "      <td>AR</td>\n",
       "    </tr>\n",
       "    <tr>\n",
       "      <th>24</th>\n",
       "      <td>Superior Bathhouse Brewery</td>\n",
       "      <td>Hot Springs</td>\n",
       "      <td>AR</td>\n",
       "    </tr>\n",
       "    <tr>\n",
       "      <th>28</th>\n",
       "      <td>Blue Canoe Brewing Co.</td>\n",
       "      <td>Little Rock</td>\n",
       "      <td>AR</td>\n",
       "    </tr>\n",
       "    <tr>\n",
       "      <th>29</th>\n",
       "      <td>Buffalo Brewing Company</td>\n",
       "      <td>Little Rock</td>\n",
       "      <td>AR</td>\n",
       "    </tr>\n",
       "    <tr>\n",
       "      <th>30</th>\n",
       "      <td>Damgoode Pies Brewpub</td>\n",
       "      <td>Little Rock</td>\n",
       "      <td>AR</td>\n",
       "    </tr>\n",
       "    <tr>\n",
       "      <th>31</th>\n",
       "      <td>Diamond Bear Brewing Company</td>\n",
       "      <td>Little Rock</td>\n",
       "      <td>AR</td>\n",
       "    </tr>\n",
       "    <tr>\n",
       "      <th>32</th>\n",
       "      <td>Flyway Brewing Co</td>\n",
       "      <td>Little Rock</td>\n",
       "      <td>AR</td>\n",
       "    </tr>\n",
       "    <tr>\n",
       "      <th>33</th>\n",
       "      <td>Lost 40 Brewing - Little Rock</td>\n",
       "      <td>Little Rock</td>\n",
       "      <td>AR</td>\n",
       "    </tr>\n",
       "    <tr>\n",
       "      <th>34</th>\n",
       "      <td>Rebel Kettle Brewing Co</td>\n",
       "      <td>Little Rock</td>\n",
       "      <td>AR</td>\n",
       "    </tr>\n",
       "    <tr>\n",
       "      <th>35</th>\n",
       "      <td>Refined Ale Brewery</td>\n",
       "      <td>Little Rock</td>\n",
       "      <td>AR</td>\n",
       "    </tr>\n",
       "    <tr>\n",
       "      <th>36</th>\n",
       "      <td>Stone's Throw Brewing</td>\n",
       "      <td>Little Rock</td>\n",
       "      <td>AR</td>\n",
       "    </tr>\n",
       "    <tr>\n",
       "      <th>37</th>\n",
       "      <td>Vino's Brewpub</td>\n",
       "      <td>Little Rock</td>\n",
       "      <td>AR</td>\n",
       "    </tr>\n",
       "    <tr>\n",
       "      <th>41</th>\n",
       "      <td>Point Remove Brewery.</td>\n",
       "      <td>Morrilton</td>\n",
       "      <td>AR</td>\n",
       "    </tr>\n",
       "    <tr>\n",
       "      <th>45</th>\n",
       "      <td>Prestonrose Farm and Brewing Co.</td>\n",
       "      <td>Paris</td>\n",
       "      <td>AR</td>\n",
       "    </tr>\n",
       "    <tr>\n",
       "      <th>49</th>\n",
       "      <td>Ozark Beer Company</td>\n",
       "      <td>Rogers</td>\n",
       "      <td>AR</td>\n",
       "    </tr>\n",
       "    <tr>\n",
       "      <th>53</th>\n",
       "      <td>Core Brewing and Distilling Company</td>\n",
       "      <td>Springdale</td>\n",
       "      <td>AR</td>\n",
       "    </tr>\n",
       "    <tr>\n",
       "      <th>54</th>\n",
       "      <td>Saddlebock Brewery</td>\n",
       "      <td>Springdale</td>\n",
       "      <td>AR</td>\n",
       "    </tr>\n",
       "  </tbody>\n",
       "</table>\n",
       "</div>"
      ],
      "text/plain": [
       "                            breweryName   breweryCity breweryState\n",
       "2           Bentonville Brewing Company   Bentonville           AR\n",
       "3             Bike Rack Brewing Company   Bentonville           AR\n",
       "7         Apple Blossom Brewing Company  Fayetteville           AR\n",
       "8               Boston Mountain Brewing  Fayetteville           AR\n",
       "9               Columbus House Brewery   Fayetteville           AR\n",
       "10                      Crisis Brewing   Fayetteville           AR\n",
       "11          Fossil Cove Brewing Company  Fayetteville           AR\n",
       "12        West Mountain Brewing Company  Fayetteville           AR\n",
       "16           Fort Smith Brewing Company    Fort Smith           AR\n",
       "20             Brick & Forge Brew Works      Harrison           AR\n",
       "24          Superior Bathhouse Brewery    Hot Springs           AR\n",
       "28               Blue Canoe Brewing Co.   Little Rock           AR\n",
       "29              Buffalo Brewing Company   Little Rock           AR\n",
       "30                Damgoode Pies Brewpub   Little Rock           AR\n",
       "31         Diamond Bear Brewing Company   Little Rock           AR\n",
       "32                    Flyway Brewing Co   Little Rock           AR\n",
       "33        Lost 40 Brewing - Little Rock   Little Rock           AR\n",
       "34              Rebel Kettle Brewing Co   Little Rock           AR\n",
       "35                  Refined Ale Brewery   Little Rock           AR\n",
       "36                Stone's Throw Brewing   Little Rock           AR\n",
       "37                       Vino's Brewpub   Little Rock           AR\n",
       "41                Point Remove Brewery.     Morrilton           AR\n",
       "45     Prestonrose Farm and Brewing Co.         Paris           AR\n",
       "49                   Ozark Beer Company        Rogers           AR\n",
       "53  Core Brewing and Distilling Company    Springdale           AR\n",
       "54                   Saddlebock Brewery    Springdale           AR"
      ]
     },
     "execution_count": 19,
     "metadata": {},
     "output_type": "execute_result"
    }
   ],
   "source": [
    "df_AR = pd.read_excel(os.path.join(BBS_DIR, 'AR' + '.xlsx'), header=None, names=['breweryName','breweryCity'])\n",
    "df_AR['breweryName'] = df_AR['breweryName'].str.replace(r'\\[[0-9]*\\]', '', regex=True)# removing any reference\n",
    "df_AR = df_AR[~(df_AR['breweryName'].isna())]\n",
    "df_AR['breweryCity'] = df_AR['breweryCity'].ffill()\n",
    "df_AR['breweryState'] = 'AR'\n",
    "df_AR"
   ]
  },
  {
   "cell_type": "code",
   "execution_count": 20,
   "id": "62ab439a",
   "metadata": {},
   "outputs": [
    {
     "data": {
      "text/html": [
       "<div>\n",
       "<style scoped>\n",
       "    .dataframe tbody tr th:only-of-type {\n",
       "        vertical-align: middle;\n",
       "    }\n",
       "\n",
       "    .dataframe tbody tr th {\n",
       "        vertical-align: top;\n",
       "    }\n",
       "\n",
       "    .dataframe thead th {\n",
       "        text-align: right;\n",
       "    }\n",
       "</style>\n",
       "<table border=\"1\" class=\"dataframe\">\n",
       "  <thead>\n",
       "    <tr style=\"text-align: right;\">\n",
       "      <th></th>\n",
       "      <th>breweryName</th>\n",
       "      <th>breweryState</th>\n",
       "    </tr>\n",
       "  </thead>\n",
       "  <tbody>\n",
       "    <tr>\n",
       "      <th>0</th>\n",
       "      <td>3 Stars Brewing Company</td>\n",
       "      <td>DC</td>\n",
       "    </tr>\n",
       "    <tr>\n",
       "      <th>1</th>\n",
       "      <td>Atlas Brew Works</td>\n",
       "      <td>DC</td>\n",
       "    </tr>\n",
       "    <tr>\n",
       "      <th>2</th>\n",
       "      <td>Bluejacket Brewery</td>\n",
       "      <td>DC</td>\n",
       "    </tr>\n",
       "    <tr>\n",
       "      <th>3</th>\n",
       "      <td>Bardo Brewing</td>\n",
       "      <td>DC</td>\n",
       "    </tr>\n",
       "    <tr>\n",
       "      <th>4</th>\n",
       "      <td>Capitol City Brewing Company</td>\n",
       "      <td>DC</td>\n",
       "    </tr>\n",
       "    <tr>\n",
       "      <th>5</th>\n",
       "      <td>DC Brau Brewing</td>\n",
       "      <td>DC</td>\n",
       "    </tr>\n",
       "    <tr>\n",
       "      <th>6</th>\n",
       "      <td>Hellbender Brewing Company</td>\n",
       "      <td>DC</td>\n",
       "    </tr>\n",
       "    <tr>\n",
       "      <th>7</th>\n",
       "      <td>Mad Fox Taproom (Closed)</td>\n",
       "      <td>DC</td>\n",
       "    </tr>\n",
       "    <tr>\n",
       "      <th>8</th>\n",
       "      <td>The Public Option</td>\n",
       "      <td>DC</td>\n",
       "    </tr>\n",
       "    <tr>\n",
       "      <th>9</th>\n",
       "      <td>Red Bear Brewing Company</td>\n",
       "      <td>DC</td>\n",
       "    </tr>\n",
       "    <tr>\n",
       "      <th>10</th>\n",
       "      <td>Right Proper Brewing Company</td>\n",
       "      <td>DC</td>\n",
       "    </tr>\n",
       "    <tr>\n",
       "      <th>11</th>\n",
       "      <td>Christian Heurich Brewing Company (closed)</td>\n",
       "      <td>DC</td>\n",
       "    </tr>\n",
       "    <tr>\n",
       "      <th>12</th>\n",
       "      <td>Abner-Drury Brewery (closed)</td>\n",
       "      <td>DC</td>\n",
       "    </tr>\n",
       "    <tr>\n",
       "      <th>13</th>\n",
       "      <td>National Capital Brewing Company (closed)</td>\n",
       "      <td>DC</td>\n",
       "    </tr>\n",
       "    <tr>\n",
       "      <th>14</th>\n",
       "      <td>Schnell Brewery (closed)</td>\n",
       "      <td>DC</td>\n",
       "    </tr>\n",
       "    <tr>\n",
       "      <th>15</th>\n",
       "      <td>Juenemann Brewery (closed)</td>\n",
       "      <td>DC</td>\n",
       "    </tr>\n",
       "    <tr>\n",
       "      <th>16</th>\n",
       "      <td>Washington Brewery Company (closed)</td>\n",
       "      <td>DC</td>\n",
       "    </tr>\n",
       "    <tr>\n",
       "      <th>17</th>\n",
       "      <td>Metropolitan Lager Bier Brewery</td>\n",
       "      <td>DC</td>\n",
       "    </tr>\n",
       "  </tbody>\n",
       "</table>\n",
       "</div>"
      ],
      "text/plain": [
       "                                   breweryName breweryState\n",
       "0                      3 Stars Brewing Company           DC\n",
       "1                             Atlas Brew Works           DC\n",
       "2                           Bluejacket Brewery           DC\n",
       "3                                Bardo Brewing           DC\n",
       "4                 Capitol City Brewing Company           DC\n",
       "5                              DC Brau Brewing           DC\n",
       "6                   Hellbender Brewing Company           DC\n",
       "7                     Mad Fox Taproom (Closed)           DC\n",
       "8                            The Public Option           DC\n",
       "9                     Red Bear Brewing Company           DC\n",
       "10                Right Proper Brewing Company           DC\n",
       "11  Christian Heurich Brewing Company (closed)           DC\n",
       "12                Abner-Drury Brewery (closed)           DC\n",
       "13   National Capital Brewing Company (closed)           DC\n",
       "14                    Schnell Brewery (closed)           DC\n",
       "15                  Juenemann Brewery (closed)           DC\n",
       "16         Washington Brewery Company (closed)           DC\n",
       "17             Metropolitan Lager Bier Brewery           DC"
      ]
     },
     "execution_count": 20,
     "metadata": {},
     "output_type": "execute_result"
    }
   ],
   "source": [
    "df_DC = pd.read_excel(os.path.join(BBS_DIR, 'DC' + '.xlsx'), header=None, names=['breweryName'])\n",
    "df_DC['breweryName'] = df_DC['breweryName'].str.replace(r'\\[[0-9]*\\]', '', regex=True)# removing any references\n",
    "df_DC['breweryState'] = 'DC'\n",
    "df_DC"
   ]
  },
  {
   "cell_type": "code",
   "execution_count": 21,
   "id": "1a7f5aa5",
   "metadata": {},
   "outputs": [
    {
     "data": {
      "text/html": [
       "<div>\n",
       "<style scoped>\n",
       "    .dataframe tbody tr th:only-of-type {\n",
       "        vertical-align: middle;\n",
       "    }\n",
       "\n",
       "    .dataframe tbody tr th {\n",
       "        vertical-align: top;\n",
       "    }\n",
       "\n",
       "    .dataframe thead th {\n",
       "        text-align: right;\n",
       "    }\n",
       "</style>\n",
       "<table border=\"1\" class=\"dataframe\">\n",
       "  <thead>\n",
       "    <tr style=\"text-align: right;\">\n",
       "      <th></th>\n",
       "      <th>breweryName</th>\n",
       "      <th>breweryCity</th>\n",
       "      <th>breweryState</th>\n",
       "    </tr>\n",
       "  </thead>\n",
       "  <tbody>\n",
       "    <tr>\n",
       "      <th>1</th>\n",
       "      <td>Bad Martha Brewing Company</td>\n",
       "      <td>Edgartown</td>\n",
       "      <td>MA</td>\n",
       "    </tr>\n",
       "    <tr>\n",
       "      <th>3</th>\n",
       "      <td>Mercury Brewing Company</td>\n",
       "      <td>Ipswich</td>\n",
       "      <td>MA</td>\n",
       "    </tr>\n",
       "    <tr>\n",
       "      <th>4</th>\n",
       "      <td>Newburyport Brewing Company</td>\n",
       "      <td>Newburyport</td>\n",
       "      <td>MA</td>\n",
       "    </tr>\n",
       "    <tr>\n",
       "      <th>6</th>\n",
       "      <td>Cisco Brewers</td>\n",
       "      <td>Nantucket</td>\n",
       "      <td>MA</td>\n",
       "    </tr>\n",
       "    <tr>\n",
       "      <th>8</th>\n",
       "      <td>Blue Hills Brewery</td>\n",
       "      <td>Canton</td>\n",
       "      <td>MA</td>\n",
       "    </tr>\n",
       "    <tr>\n",
       "      <th>10</th>\n",
       "      <td>Boston Beer Company</td>\n",
       "      <td>Boston</td>\n",
       "      <td>MA</td>\n",
       "    </tr>\n",
       "    <tr>\n",
       "      <th>11</th>\n",
       "      <td>Harpoon Brewery</td>\n",
       "      <td>Boston</td>\n",
       "      <td>MA</td>\n",
       "    </tr>\n",
       "    <tr>\n",
       "      <th>13</th>\n",
       "      <td>Wachusett Brewing Company</td>\n",
       "      <td>Westminster</td>\n",
       "      <td>MA</td>\n",
       "    </tr>\n",
       "    <tr>\n",
       "      <th>14</th>\n",
       "      <td>Tree House Brewing Company</td>\n",
       "      <td>Charlton</td>\n",
       "      <td>MA</td>\n",
       "    </tr>\n",
       "  </tbody>\n",
       "</table>\n",
       "</div>"
      ],
      "text/plain": [
       "                    breweryName   breweryCity breweryState\n",
       "1    Bad Martha Brewing Company    Edgartown            MA\n",
       "3       Mercury Brewing Company      Ipswich            MA\n",
       "4   Newburyport Brewing Company  Newburyport            MA\n",
       "6                 Cisco Brewers    Nantucket            MA\n",
       "8            Blue Hills Brewery       Canton            MA\n",
       "10          Boston Beer Company       Boston            MA\n",
       "11              Harpoon Brewery       Boston            MA\n",
       "13    Wachusett Brewing Company  Westminster            MA\n",
       "14   Tree House Brewing Company      Charlton           MA"
      ]
     },
     "execution_count": 21,
     "metadata": {},
     "output_type": "execute_result"
    }
   ],
   "source": [
    "df_MA = pd.read_excel(os.path.join(BBS_DIR, 'MA' + '.xlsx'), header=None, names=['text'])\n",
    "df_MA = df_MA[~(df_MA['text'].str.contains('County'))]\n",
    "df_MA[['breweryName', 'breweryCity']] = df_MA['text'].str.extract(r'([a-z A-Z 0-9 & .\\- \\(\\)+\\'?s]*)[\\s,\\s]*([a-z A-Z]*)')\n",
    "df_MA['breweryState'] = 'MA'\n",
    "df_MA.drop(columns= ['text'], inplace=True)\n",
    "df_MA"
   ]
  },
  {
   "cell_type": "code",
   "execution_count": 22,
   "id": "911e7606",
   "metadata": {},
   "outputs": [
    {
     "data": {
      "text/html": [
       "<div>\n",
       "<style scoped>\n",
       "    .dataframe tbody tr th:only-of-type {\n",
       "        vertical-align: middle;\n",
       "    }\n",
       "\n",
       "    .dataframe tbody tr th {\n",
       "        vertical-align: top;\n",
       "    }\n",
       "\n",
       "    .dataframe thead th {\n",
       "        text-align: right;\n",
       "    }\n",
       "</style>\n",
       "<table border=\"1\" class=\"dataframe\">\n",
       "  <thead>\n",
       "    <tr style=\"text-align: right;\">\n",
       "      <th></th>\n",
       "      <th>breweryName</th>\n",
       "      <th>breweryCity</th>\n",
       "      <th>breweryState</th>\n",
       "    </tr>\n",
       "  </thead>\n",
       "  <tbody>\n",
       "    <tr>\n",
       "      <th>0</th>\n",
       "      <td>Abbey Brewing Company</td>\n",
       "      <td>Abiquiú</td>\n",
       "      <td>NM</td>\n",
       "    </tr>\n",
       "    <tr>\n",
       "      <th>1</th>\n",
       "      <td>Bathtub Row Brewing Co-op</td>\n",
       "      <td>Los Alamos</td>\n",
       "      <td>NM</td>\n",
       "    </tr>\n",
       "    <tr>\n",
       "      <th>2</th>\n",
       "      <td>Red River Brewing Company</td>\n",
       "      <td>Red River</td>\n",
       "      <td>NM</td>\n",
       "    </tr>\n",
       "    <tr>\n",
       "      <th>3</th>\n",
       "      <td>Rowley Farmhouse Ales</td>\n",
       "      <td>Santa Fe</td>\n",
       "      <td>NM</td>\n",
       "    </tr>\n",
       "    <tr>\n",
       "      <th>4</th>\n",
       "      <td>Santa Fe Brewing Company</td>\n",
       "      <td>Santa Fe</td>\n",
       "      <td>NM</td>\n",
       "    </tr>\n",
       "    <tr>\n",
       "      <th>5</th>\n",
       "      <td>Bosque Brewing Company</td>\n",
       "      <td>Albuquerque</td>\n",
       "      <td>NM</td>\n",
       "    </tr>\n",
       "    <tr>\n",
       "      <th>6</th>\n",
       "      <td>Bow &amp; Arrow Brewing Company</td>\n",
       "      <td>Albuquerque</td>\n",
       "      <td>NM</td>\n",
       "    </tr>\n",
       "    <tr>\n",
       "      <th>7</th>\n",
       "      <td>Boxing Bear Brewing Company</td>\n",
       "      <td>Albuquerque</td>\n",
       "      <td>NM</td>\n",
       "    </tr>\n",
       "    <tr>\n",
       "      <th>8</th>\n",
       "      <td>Canteen Brewhouse (formerly Il Vicino Brewing ...</td>\n",
       "      <td>Albuquerque</td>\n",
       "      <td>NM</td>\n",
       "    </tr>\n",
       "    <tr>\n",
       "      <th>9</th>\n",
       "      <td>Dialogue Brewing and Gallery</td>\n",
       "      <td>Albuquerque</td>\n",
       "      <td>NM</td>\n",
       "    </tr>\n",
       "    <tr>\n",
       "      <th>10</th>\n",
       "      <td>High &amp; Dry Brewing Company</td>\n",
       "      <td>Albuquerque</td>\n",
       "      <td>NM</td>\n",
       "    </tr>\n",
       "    <tr>\n",
       "      <th>11</th>\n",
       "      <td>La Cumbre Brewing Company</td>\n",
       "      <td>Albuquerque</td>\n",
       "      <td>NM</td>\n",
       "    </tr>\n",
       "    <tr>\n",
       "      <th>12</th>\n",
       "      <td>Marble Brewery</td>\n",
       "      <td>Albuquerque</td>\n",
       "      <td>NM</td>\n",
       "    </tr>\n",
       "    <tr>\n",
       "      <th>13</th>\n",
       "      <td>Nexus Brewery and Restaurant</td>\n",
       "      <td>Albuquerque</td>\n",
       "      <td>NM</td>\n",
       "    </tr>\n",
       "    <tr>\n",
       "      <th>14</th>\n",
       "      <td>Tractor Brewing Company</td>\n",
       "      <td>Albuquerque</td>\n",
       "      <td>NM</td>\n",
       "    </tr>\n",
       "    <tr>\n",
       "      <th>15</th>\n",
       "      <td>Sidetrack Brewing Company</td>\n",
       "      <td>Albuquerque</td>\n",
       "      <td>NM</td>\n",
       "    </tr>\n",
       "    <tr>\n",
       "      <th>16</th>\n",
       "      <td>Ex Novo Brewing Company(additional location in...</td>\n",
       "      <td>Corrales</td>\n",
       "      <td>NM</td>\n",
       "    </tr>\n",
       "  </tbody>\n",
       "</table>\n",
       "</div>"
      ],
      "text/plain": [
       "                                          breweryName  breweryCity  \\\n",
       "0                              Abbey Brewing Company       Abiquiú   \n",
       "1                          Bathtub Row Brewing Co-op    Los Alamos   \n",
       "2                          Red River Brewing Company     Red River   \n",
       "3                               Rowley Farmhouse Ales     Santa Fe   \n",
       "4                            Santa Fe Brewing Company     Santa Fe   \n",
       "5                              Bosque Brewing Company  Albuquerque   \n",
       "6                         Bow & Arrow Brewing Company  Albuquerque   \n",
       "7                         Boxing Bear Brewing Company  Albuquerque   \n",
       "8   Canteen Brewhouse (formerly Il Vicino Brewing ...  Albuquerque   \n",
       "9                        Dialogue Brewing and Gallery  Albuquerque   \n",
       "10                         High & Dry Brewing Company  Albuquerque   \n",
       "11                          La Cumbre Brewing Company  Albuquerque   \n",
       "12                                    Marble Brewery   Albuquerque   \n",
       "13                       Nexus Brewery and Restaurant  Albuquerque   \n",
       "14                            Tractor Brewing Company  Albuquerque   \n",
       "15                          Sidetrack Brewing Company  Albuquerque   \n",
       "16  Ex Novo Brewing Company(additional location in...     Corrales   \n",
       "\n",
       "   breweryState  \n",
       "0            NM  \n",
       "1            NM  \n",
       "2            NM  \n",
       "3            NM  \n",
       "4            NM  \n",
       "5            NM  \n",
       "6            NM  \n",
       "7            NM  \n",
       "8            NM  \n",
       "9            NM  \n",
       "10           NM  \n",
       "11           NM  \n",
       "12           NM  \n",
       "13           NM  \n",
       "14           NM  \n",
       "15           NM  \n",
       "16           NM  "
      ]
     },
     "execution_count": 22,
     "metadata": {},
     "output_type": "execute_result"
    }
   ],
   "source": [
    "df_NM = pd.read_excel(os.path.join(BBS_DIR, 'NM' + '.xlsx'), header=None, names=['breweryName','breweryCity'])\n",
    "df_NM = df_NM.apply(lambda x: x.str.replace(r'\\[[0-9]*\\]', '', regex=True), axis=0)# removing any references\n",
    "df_NM['breweryState'] = 'NM'\n",
    "df_NM"
   ]
  },
  {
   "cell_type": "code",
   "execution_count": 23,
   "id": "051954fd",
   "metadata": {},
   "outputs": [
    {
     "data": {
      "text/html": [
       "<div>\n",
       "<style scoped>\n",
       "    .dataframe tbody tr th:only-of-type {\n",
       "        vertical-align: middle;\n",
       "    }\n",
       "\n",
       "    .dataframe tbody tr th {\n",
       "        vertical-align: top;\n",
       "    }\n",
       "\n",
       "    .dataframe thead th {\n",
       "        text-align: right;\n",
       "    }\n",
       "</style>\n",
       "<table border=\"1\" class=\"dataframe\">\n",
       "  <thead>\n",
       "    <tr style=\"text-align: right;\">\n",
       "      <th></th>\n",
       "      <th>breweryName</th>\n",
       "      <th>breweryCity</th>\n",
       "      <th>breweryState</th>\n",
       "    </tr>\n",
       "  </thead>\n",
       "  <tbody>\n",
       "    <tr>\n",
       "      <th>0</th>\n",
       "      <td>Black Narrows Brewing Company</td>\n",
       "      <td>Chincoteague</td>\n",
       "      <td>VA</td>\n",
       "    </tr>\n",
       "    <tr>\n",
       "      <th>1</th>\n",
       "      <td>Champion Brewing Company</td>\n",
       "      <td>Charlottesville</td>\n",
       "      <td>VA</td>\n",
       "    </tr>\n",
       "    <tr>\n",
       "      <th>2</th>\n",
       "      <td>James River Brewing Company</td>\n",
       "      <td>Scottsville</td>\n",
       "      <td>VA</td>\n",
       "    </tr>\n",
       "    <tr>\n",
       "      <th>3</th>\n",
       "      <td>Pro Re Nata</td>\n",
       "      <td>Charlottesville</td>\n",
       "      <td>VA</td>\n",
       "    </tr>\n",
       "    <tr>\n",
       "      <th>4</th>\n",
       "      <td>Random Row Brewing Co.</td>\n",
       "      <td>Charlottesville</td>\n",
       "      <td>VA</td>\n",
       "    </tr>\n",
       "    <tr>\n",
       "      <th>...</th>\n",
       "      <td>...</td>\n",
       "      <td>...</td>\n",
       "      <td>...</td>\n",
       "    </tr>\n",
       "    <tr>\n",
       "      <th>193</th>\n",
       "      <td>Basic City Beer Company</td>\n",
       "      <td>Waynesboro</td>\n",
       "      <td>VA</td>\n",
       "    </tr>\n",
       "    <tr>\n",
       "      <th>194</th>\n",
       "      <td>Billsburg Brewery</td>\n",
       "      <td>Williamsburg</td>\n",
       "      <td>VA</td>\n",
       "    </tr>\n",
       "    <tr>\n",
       "      <th>195</th>\n",
       "      <td>Alewerks</td>\n",
       "      <td>Williamsburg</td>\n",
       "      <td>VA</td>\n",
       "    </tr>\n",
       "    <tr>\n",
       "      <th>196</th>\n",
       "      <td>Brass Cannon Brewing Company</td>\n",
       "      <td>Williamsburg</td>\n",
       "      <td>VA</td>\n",
       "    </tr>\n",
       "    <tr>\n",
       "      <th>197</th>\n",
       "      <td>Alewerks</td>\n",
       "      <td>Williamsburg</td>\n",
       "      <td>VA</td>\n",
       "    </tr>\n",
       "  </tbody>\n",
       "</table>\n",
       "<p>198 rows × 3 columns</p>\n",
       "</div>"
      ],
      "text/plain": [
       "                       breweryName      breweryCity breweryState\n",
       "0    Black Narrows Brewing Company     Chincoteague           VA\n",
       "1         Champion Brewing Company  Charlottesville           VA\n",
       "2      James River Brewing Company      Scottsville           VA\n",
       "3                      Pro Re Nata  Charlottesville           VA\n",
       "4           Random Row Brewing Co.  Charlottesville           VA\n",
       "..                             ...              ...          ...\n",
       "193        Basic City Beer Company       Waynesboro           VA\n",
       "194             Billsburg Brewery      Williamsburg           VA\n",
       "195                      Alewerks      Williamsburg           VA\n",
       "196  Brass Cannon Brewing Company      Williamsburg           VA\n",
       "197                      Alewerks      Williamsburg           VA\n",
       "\n",
       "[198 rows x 3 columns]"
      ]
     },
     "execution_count": 23,
     "metadata": {},
     "output_type": "execute_result"
    }
   ],
   "source": [
    "df_VA = pd.read_excel(os.path.join(BBS_DIR, 'VA' + '.xlsx'), header=None, names=['text'])\n",
    "df_VA = df_VA[~(df_VA['text'].str.contains('County'))]\n",
    "df_VA['text'] = df_VA['text'].str.replace(r'\\[[0-9]*\\]', '', regex=True)# removing any reference\n",
    "df_VA[['breweryName', 'breweryCity']] = df_VA['text'].str.extract(r'([a-z A-Z 0-9 & . \\(\\)+\\'?s]*)[\\s]*[: ,][\\s]*([a-z A-Z]*)')\n",
    "df_VA['breweryState'] = 'VA'\n",
    "df_VA.drop(columns= ['text'], inplace=True)\n",
    "df_VA.reset_index(drop=True)"
   ]
  },
  {
   "cell_type": "code",
   "execution_count": 24,
   "id": "3f4818a7",
   "metadata": {},
   "outputs": [],
   "source": [
    "import urllib3 \n",
    "import bs4\n",
    "\n",
    "# montana_df = \n",
    "http = urllib3.PoolManager()\n",
    "r = http.request('GET', 'https://en.wikipedia.org/wiki/List_of_breweries_in_Montana')\n",
    "html_doc = r.data\n",
    "soup = BeautifulSoup(html_doc, 'html.parser')"
   ]
  },
  {
   "cell_type": "code",
   "execution_count": 25,
   "id": "e19f63f2",
   "metadata": {},
   "outputs": [
    {
     "name": "stdout",
     "output_type": "stream",
     "text": [
      "406 Brewing Company\n",
      "Angry Hank's Microbrewery\n",
      "Bayern Brewing\n",
      "Beaver Creek Brewery\n",
      "Big Sky Brewing Company\n",
      "Blackfoot River Brewing\n",
      "Blacksmith Brewing Company\n",
      "Bozeman Brewing Company\n",
      "Carter's Brewing\n",
      "Draught Works Brewery\n",
      "Flathead Lake Brewing Company\n",
      "Glacier Brewing Company\n",
      "Great Northern Brewing Company\n",
      "Harvest Moon Brewing Company\n",
      "Imagine Nation Brewing Company\n",
      "Kettle House Brewing Company\n",
      "Lone Peak Brewery\n",
      "Montana Brewing Company\n",
      "Muddy Creek Brewing Company\n",
      "Philipsburg Brewing Company, LLC\n",
      "Quarry Brewing\n",
      "Red Lodge Ales Brewing Company\n",
      "Tamarack Brewing\n",
      "Wildwood Brewing\n"
     ]
    }
   ],
   "source": [
    "brewery_MT = []\n",
    "for brewery in soup.find_all(class_='infobox-title fn org'):\n",
    "    print(brewery.text)\n",
    "    brewery_MT.append(brewery.text)"
   ]
  },
  {
   "cell_type": "code",
   "execution_count": 26,
   "id": "b0966a40",
   "metadata": {},
   "outputs": [
    {
     "name": "stdout",
     "output_type": "stream",
     "text": [
      "Bozeman\n",
      "Billings\n",
      "Missoula\n",
      "Wibaux\n",
      "Missoula\n",
      "Helena\n",
      "Stevensville\n",
      "Bozeman\n",
      "Billings\n",
      "Missoula\n",
      "Woods Bay\n",
      "Polson\n",
      "Whitefish\n",
      "Belt\n",
      "Missoula\n",
      "Missoula\n",
      "Big Sky\n",
      "Billings\n",
      "Butte\n",
      "Philipsburg\n",
      "Butte\n",
      "Red Lodge\n",
      "Lakeside\n",
      "Stevensville\n"
     ]
    }
   ],
   "source": [
    "brewery_MT_city = []\n",
    "for x in soup.find_all(class_='infobox-data'):\n",
    "    res = x.find('a', href=True)\n",
    "    if res:\n",
    "        if 'US' not in res.text:\n",
    "            print(res.text)\n",
    "            brewery_MT_city.append(res.text)"
   ]
  },
  {
   "cell_type": "code",
   "execution_count": 27,
   "id": "5a7cb3f1",
   "metadata": {},
   "outputs": [],
   "source": [
    "df_MT = pd.DataFrame({'breweryName':brewery_MT, 'breweryCity': brewery_MT_city})\n",
    "df_MT['breweryState'] = 'MT'\n"
   ]
  },
  {
   "cell_type": "code",
   "execution_count": 28,
   "id": "e11dcb48",
   "metadata": {},
   "outputs": [
    {
     "data": {
      "text/html": [
       "<div>\n",
       "<style scoped>\n",
       "    .dataframe tbody tr th:only-of-type {\n",
       "        vertical-align: middle;\n",
       "    }\n",
       "\n",
       "    .dataframe tbody tr th {\n",
       "        vertical-align: top;\n",
       "    }\n",
       "\n",
       "    .dataframe thead th {\n",
       "        text-align: right;\n",
       "    }\n",
       "</style>\n",
       "<table border=\"1\" class=\"dataframe\">\n",
       "  <thead>\n",
       "    <tr style=\"text-align: right;\">\n",
       "      <th></th>\n",
       "      <th>breweryName</th>\n",
       "      <th>breweryCity</th>\n",
       "      <th>breweryState</th>\n",
       "    </tr>\n",
       "  </thead>\n",
       "  <tbody>\n",
       "    <tr>\n",
       "      <th>0</th>\n",
       "      <td>406 Brewing Company</td>\n",
       "      <td>Bozeman</td>\n",
       "      <td>MT</td>\n",
       "    </tr>\n",
       "    <tr>\n",
       "      <th>1</th>\n",
       "      <td>Angry Hank's Microbrewery</td>\n",
       "      <td>Billings</td>\n",
       "      <td>MT</td>\n",
       "    </tr>\n",
       "    <tr>\n",
       "      <th>2</th>\n",
       "      <td>Bayern Brewing</td>\n",
       "      <td>Missoula</td>\n",
       "      <td>MT</td>\n",
       "    </tr>\n",
       "    <tr>\n",
       "      <th>3</th>\n",
       "      <td>Beaver Creek Brewery</td>\n",
       "      <td>Wibaux</td>\n",
       "      <td>MT</td>\n",
       "    </tr>\n",
       "    <tr>\n",
       "      <th>4</th>\n",
       "      <td>Big Sky Brewing Company</td>\n",
       "      <td>Missoula</td>\n",
       "      <td>MT</td>\n",
       "    </tr>\n",
       "    <tr>\n",
       "      <th>5</th>\n",
       "      <td>Blackfoot River Brewing</td>\n",
       "      <td>Helena</td>\n",
       "      <td>MT</td>\n",
       "    </tr>\n",
       "    <tr>\n",
       "      <th>6</th>\n",
       "      <td>Blacksmith Brewing Company</td>\n",
       "      <td>Stevensville</td>\n",
       "      <td>MT</td>\n",
       "    </tr>\n",
       "    <tr>\n",
       "      <th>7</th>\n",
       "      <td>Bozeman Brewing Company</td>\n",
       "      <td>Bozeman</td>\n",
       "      <td>MT</td>\n",
       "    </tr>\n",
       "    <tr>\n",
       "      <th>8</th>\n",
       "      <td>Carter's Brewing</td>\n",
       "      <td>Billings</td>\n",
       "      <td>MT</td>\n",
       "    </tr>\n",
       "    <tr>\n",
       "      <th>9</th>\n",
       "      <td>Draught Works Brewery</td>\n",
       "      <td>Missoula</td>\n",
       "      <td>MT</td>\n",
       "    </tr>\n",
       "    <tr>\n",
       "      <th>10</th>\n",
       "      <td>Flathead Lake Brewing Company</td>\n",
       "      <td>Woods Bay</td>\n",
       "      <td>MT</td>\n",
       "    </tr>\n",
       "    <tr>\n",
       "      <th>11</th>\n",
       "      <td>Glacier Brewing Company</td>\n",
       "      <td>Polson</td>\n",
       "      <td>MT</td>\n",
       "    </tr>\n",
       "    <tr>\n",
       "      <th>12</th>\n",
       "      <td>Great Northern Brewing Company</td>\n",
       "      <td>Whitefish</td>\n",
       "      <td>MT</td>\n",
       "    </tr>\n",
       "    <tr>\n",
       "      <th>13</th>\n",
       "      <td>Harvest Moon Brewing Company</td>\n",
       "      <td>Belt</td>\n",
       "      <td>MT</td>\n",
       "    </tr>\n",
       "    <tr>\n",
       "      <th>14</th>\n",
       "      <td>Imagine Nation Brewing Company</td>\n",
       "      <td>Missoula</td>\n",
       "      <td>MT</td>\n",
       "    </tr>\n",
       "    <tr>\n",
       "      <th>15</th>\n",
       "      <td>Kettle House Brewing Company</td>\n",
       "      <td>Missoula</td>\n",
       "      <td>MT</td>\n",
       "    </tr>\n",
       "    <tr>\n",
       "      <th>16</th>\n",
       "      <td>Lone Peak Brewery</td>\n",
       "      <td>Big Sky</td>\n",
       "      <td>MT</td>\n",
       "    </tr>\n",
       "    <tr>\n",
       "      <th>17</th>\n",
       "      <td>Montana Brewing Company</td>\n",
       "      <td>Billings</td>\n",
       "      <td>MT</td>\n",
       "    </tr>\n",
       "    <tr>\n",
       "      <th>18</th>\n",
       "      <td>Muddy Creek Brewing Company</td>\n",
       "      <td>Butte</td>\n",
       "      <td>MT</td>\n",
       "    </tr>\n",
       "    <tr>\n",
       "      <th>19</th>\n",
       "      <td>Philipsburg Brewing Company, LLC</td>\n",
       "      <td>Philipsburg</td>\n",
       "      <td>MT</td>\n",
       "    </tr>\n",
       "    <tr>\n",
       "      <th>20</th>\n",
       "      <td>Quarry Brewing</td>\n",
       "      <td>Butte</td>\n",
       "      <td>MT</td>\n",
       "    </tr>\n",
       "    <tr>\n",
       "      <th>21</th>\n",
       "      <td>Red Lodge Ales Brewing Company</td>\n",
       "      <td>Red Lodge</td>\n",
       "      <td>MT</td>\n",
       "    </tr>\n",
       "    <tr>\n",
       "      <th>22</th>\n",
       "      <td>Tamarack Brewing</td>\n",
       "      <td>Lakeside</td>\n",
       "      <td>MT</td>\n",
       "    </tr>\n",
       "    <tr>\n",
       "      <th>23</th>\n",
       "      <td>Wildwood Brewing</td>\n",
       "      <td>Stevensville</td>\n",
       "      <td>MT</td>\n",
       "    </tr>\n",
       "  </tbody>\n",
       "</table>\n",
       "</div>"
      ],
      "text/plain": [
       "                         breweryName   breweryCity breweryState\n",
       "0                406 Brewing Company       Bozeman           MT\n",
       "1          Angry Hank's Microbrewery      Billings           MT\n",
       "2                     Bayern Brewing      Missoula           MT\n",
       "3               Beaver Creek Brewery        Wibaux           MT\n",
       "4            Big Sky Brewing Company      Missoula           MT\n",
       "5            Blackfoot River Brewing        Helena           MT\n",
       "6         Blacksmith Brewing Company  Stevensville           MT\n",
       "7            Bozeman Brewing Company       Bozeman           MT\n",
       "8                   Carter's Brewing      Billings           MT\n",
       "9              Draught Works Brewery      Missoula           MT\n",
       "10     Flathead Lake Brewing Company     Woods Bay           MT\n",
       "11           Glacier Brewing Company        Polson           MT\n",
       "12    Great Northern Brewing Company     Whitefish           MT\n",
       "13      Harvest Moon Brewing Company          Belt           MT\n",
       "14    Imagine Nation Brewing Company      Missoula           MT\n",
       "15      Kettle House Brewing Company      Missoula           MT\n",
       "16                 Lone Peak Brewery       Big Sky           MT\n",
       "17           Montana Brewing Company      Billings           MT\n",
       "18       Muddy Creek Brewing Company         Butte           MT\n",
       "19  Philipsburg Brewing Company, LLC   Philipsburg           MT\n",
       "20                    Quarry Brewing         Butte           MT\n",
       "21    Red Lodge Ales Brewing Company     Red Lodge           MT\n",
       "22                  Tamarack Brewing      Lakeside           MT\n",
       "23                  Wildwood Brewing  Stevensville           MT"
      ]
     },
     "execution_count": 28,
     "metadata": {},
     "output_type": "execute_result"
    }
   ],
   "source": [
    "df_MT"
   ]
  },
  {
   "cell_type": "markdown",
   "id": "21d71d2b",
   "metadata": {},
   "source": [
    "# Concatanating the dataframes"
   ]
  },
  {
   "cell_type": "code",
   "execution_count": 90,
   "id": "f26112d9",
   "metadata": {},
   "outputs": [],
   "source": [
    "allBreweries = pd.DataFrame(columns=['breweryName', 'breweryCity', 'breweryState'])\n",
    "\n",
    "allBreweries = pd.concat([typeA_df, typeB_df, \n",
    "                         df_NM, df_MA, \n",
    "                         df_DC, df_AR,\n",
    "                         df_AZ, df_AK, \n",
    "                         df_CA, df_VA,\n",
    "                         df_MT],\n",
    "                         ignore_index=True)"
   ]
  },
  {
   "cell_type": "code",
   "execution_count": 91,
   "id": "53c58e5e",
   "metadata": {},
   "outputs": [
    {
     "data": {
      "text/plain": [
       "51"
      ]
     },
     "execution_count": 91,
     "metadata": {},
     "output_type": "execute_result"
    }
   ],
   "source": [
    "len(allBreweries.breweryState.unique())"
   ]
  },
  {
   "cell_type": "code",
   "execution_count": 92,
   "id": "ff04ae28",
   "metadata": {},
   "outputs": [
    {
     "data": {
      "text/plain": [
       "(3638, 3)"
      ]
     },
     "execution_count": 92,
     "metadata": {},
     "output_type": "execute_result"
    }
   ],
   "source": [
    "allBreweries.shape"
   ]
  },
  {
   "cell_type": "code",
   "execution_count": 93,
   "id": "fb9a784f",
   "metadata": {},
   "outputs": [],
   "source": [
    "#removing unnecessary spaces\n",
    "allBreweries['breweryCity'] = allBreweries['breweryCity'].str.strip()\n"
   ]
  },
  {
   "cell_type": "code",
   "execution_count": 94,
   "id": "0950183b",
   "metadata": {},
   "outputs": [
    {
     "data": {
      "text/html": [
       "<div>\n",
       "<style scoped>\n",
       "    .dataframe tbody tr th:only-of-type {\n",
       "        vertical-align: middle;\n",
       "    }\n",
       "\n",
       "    .dataframe tbody tr th {\n",
       "        vertical-align: top;\n",
       "    }\n",
       "\n",
       "    .dataframe thead th {\n",
       "        text-align: right;\n",
       "    }\n",
       "</style>\n",
       "<table border=\"1\" class=\"dataframe\">\n",
       "  <thead>\n",
       "    <tr style=\"text-align: right;\">\n",
       "      <th></th>\n",
       "      <th>breweryName</th>\n",
       "      <th>breweryCity</th>\n",
       "      <th>breweryState</th>\n",
       "    </tr>\n",
       "  </thead>\n",
       "  <tbody>\n",
       "    <tr>\n",
       "      <th>0</th>\n",
       "      <td>Avondale Brewing Company</td>\n",
       "      <td>Birmingham</td>\n",
       "      <td>AL</td>\n",
       "    </tr>\n",
       "    <tr>\n",
       "      <th>1</th>\n",
       "      <td>Back Forty Beer Company</td>\n",
       "      <td>Gadsden</td>\n",
       "      <td>AL</td>\n",
       "    </tr>\n",
       "    <tr>\n",
       "      <th>2</th>\n",
       "      <td>Below the Radar Brewhouse</td>\n",
       "      <td>Huntsville</td>\n",
       "      <td>AL</td>\n",
       "    </tr>\n",
       "    <tr>\n",
       "      <th>3</th>\n",
       "      <td>Big Beach Brewing Company</td>\n",
       "      <td>Gulf Shores</td>\n",
       "      <td>AL</td>\n",
       "    </tr>\n",
       "    <tr>\n",
       "      <th>4</th>\n",
       "      <td>Birmingham District Brewing Company</td>\n",
       "      <td>Birmingham</td>\n",
       "      <td>AL</td>\n",
       "    </tr>\n",
       "    <tr>\n",
       "      <th>...</th>\n",
       "      <td>...</td>\n",
       "      <td>...</td>\n",
       "      <td>...</td>\n",
       "    </tr>\n",
       "    <tr>\n",
       "      <th>3615</th>\n",
       "      <td>Philipsburg Brewing Company, LLC</td>\n",
       "      <td>Philipsburg</td>\n",
       "      <td>MT</td>\n",
       "    </tr>\n",
       "    <tr>\n",
       "      <th>3616</th>\n",
       "      <td>Quarry Brewing</td>\n",
       "      <td>Butte</td>\n",
       "      <td>MT</td>\n",
       "    </tr>\n",
       "    <tr>\n",
       "      <th>3617</th>\n",
       "      <td>Red Lodge Ales Brewing Company</td>\n",
       "      <td>Red Lodge</td>\n",
       "      <td>MT</td>\n",
       "    </tr>\n",
       "    <tr>\n",
       "      <th>3618</th>\n",
       "      <td>Tamarack Brewing</td>\n",
       "      <td>Lakeside</td>\n",
       "      <td>MT</td>\n",
       "    </tr>\n",
       "    <tr>\n",
       "      <th>3619</th>\n",
       "      <td>Wildwood Brewing</td>\n",
       "      <td>Stevensville</td>\n",
       "      <td>MT</td>\n",
       "    </tr>\n",
       "  </tbody>\n",
       "</table>\n",
       "<p>3620 rows × 3 columns</p>\n",
       "</div>"
      ],
      "text/plain": [
       "                               breweryName   breweryCity breweryState\n",
       "0                Avondale Brewing Company     Birmingham           AL\n",
       "1                 Back Forty Beer Company        Gadsden           AL\n",
       "2               Below the Radar Brewhouse     Huntsville           AL\n",
       "3               Big Beach Brewing Company    Gulf Shores           AL\n",
       "4     Birmingham District Brewing Company     Birmingham           AL\n",
       "...                                    ...           ...          ...\n",
       "3615      Philipsburg Brewing Company, LLC   Philipsburg           MT\n",
       "3616                        Quarry Brewing         Butte           MT\n",
       "3617        Red Lodge Ales Brewing Company     Red Lodge           MT\n",
       "3618                      Tamarack Brewing      Lakeside           MT\n",
       "3619                      Wildwood Brewing  Stevensville           MT\n",
       "\n",
       "[3620 rows x 3 columns]"
      ]
     },
     "execution_count": 94,
     "metadata": {},
     "output_type": "execute_result"
    }
   ],
   "source": [
    "# removing all breweries which are closed\n",
    "allBreweries = allBreweries[~(allBreweries['breweryName'].str.contains('closed',na=False, flags= re.IGNORECASE))]\n",
    "allBreweries.reset_index(drop=True)"
   ]
  },
  {
   "cell_type": "code",
   "execution_count": 95,
   "id": "c90cb54c",
   "metadata": {},
   "outputs": [],
   "source": [
    "# removing opened in yyyy \n",
    "allBreweries['breweryCity'] = allBreweries['breweryCity'].str.replace(', opened in \\d{4}','', regex=True)"
   ]
  },
  {
   "cell_type": "code",
   "execution_count": 96,
   "id": "13b6592e",
   "metadata": {},
   "outputs": [],
   "source": [
    "# Only keeping the first location for breweries in multiple locations\n",
    "# Names seperated by commas\n",
    "multilocs_df = allBreweries[allBreweries['breweryCity'].str.contains(',',na=False)].copy()\n",
    "multilocs_df['firstLocation'] = multilocs_df['breweryCity'].str.extract(r'(\\w*),?(\\w*)?')[0]\n",
    "for idx in multilocs_df.index:\n",
    "    allBreweries.loc[idx, 'breweryCity'] = multilocs_df.loc[idx, 'firstLocation']\n",
    "    \n",
    "#Names seperated by and    \n",
    "multilocs_df = allBreweries[allBreweries['breweryCity'].str.contains(' and ',na=False)].copy()\n",
    "multilocs_df['firstLocation'] = multilocs_df['breweryCity'].str.extract(r'(\\w*) and? (\\w*)?')[0]\n",
    "for idx in multilocs_df.index:\n",
    "    allBreweries.loc[idx, 'breweryCity'] = multilocs_df.loc[idx, 'firstLocation']\n",
    "    \n",
    "#Names seperated by (original) or (2nd location) etc  \n",
    "multilocs_df = allBreweries[allBreweries['breweryCity'].str.contains(r'\\([\\w \\s]*\\)',na=False)].copy()\n",
    "multilocs_df['firstLocation'] = multilocs_df['breweryCity'].str.extract(r'([\\w \\s]*)\\s?(\\([\\w \\s]*\\)) ?')[0]\n",
    "for idx in multilocs_df.index:\n",
    "    allBreweries.loc[idx, 'breweryCity'] = multilocs_df.loc[idx, 'firstLocation']"
   ]
  },
  {
   "cell_type": "code",
   "execution_count": 97,
   "id": "eb284719",
   "metadata": {},
   "outputs": [],
   "source": [
    "# Some manual corrections\n",
    "allBreweries.loc[2906,'breweryCity'] = 'Tucson'\n",
    "allBreweries.loc[1610,'breweryCity'] = 'Chicago'\n",
    "allBreweries.loc[1702,'breweryCity'] = 'Chicago'\n",
    "allBreweries.loc[1799,'breweryCity'] = 'Chicago'\n",
    "\n",
    "allBreweries.drop(index = [1834], inplace=True)\n",
    "\n",
    "#more manual corrections in hindsight\n",
    "\n",
    "allBreweries.loc[76, 'breweryCity'] = 'Bailey'\n",
    "allBreweries.loc[81, 'breweryCity'] = 'Lyons'\n",
    "allBreweries.loc[315, 'breweryCity'] = 'Ferndale'\n",
    "allBreweries.loc[430, ['breweryName','breweryCity']] = ['Eighty Three Brewing', 'Akron']\n",
    "allBreweries.loc[494, 'breweryCity'] = 'Canton'\n",
    "allBreweries.loc[516, 'breweryCity'] = 'Mount Orab'\n",
    "allBreweries.loc[573, 'breweryCity'] = 'Mount Orab'\n",
    "allBreweries.loc[622, ['breweryName','breweryCity']] = ['Land Grant Brewing Company', 'Columbus']\n",
    "allBreweries.loc[737, 'breweryCity'] = 'Newport'\n",
    "allBreweries.loc[825, ['breweryName','breweryCity']] = ['Schulz Brau Brewing', 'Knoxville']\n",
    "allBreweries.loc[884, ['breweryName','breweryCity']] = ['Tri Hop brewery', 'Maryville']\n",
    "allBreweries.loc[906, ['breweryName','breweryCity']] = ['Drop In Brewing Company', 'Middlebury']\n",
    "allBreweries.loc[926, 'breweryCity'] = 'Boise'\n",
    "allBreweries.loc[1153, 'breweryCity'] = 'Denver'\n",
    "allBreweries.loc[1032, 'breweryCity'] = 'Napannee'\n",
    "allBreweries.loc[1156, 'breweryCity'] = 'Tualatin'\n",
    "allBreweries.loc[1160, 'breweryCity'] = 'Portland'\n",
    "allBreweries.loc[1163, 'breweryCity'] = 'Portland'\n",
    "allBreweries.loc[1164, 'breweryCity'] = 'Redmond'\n",
    "allBreweries.loc[1169, 'breweryCity'] = 'Oregon City'\n",
    "allBreweries.loc[1179, 'breweryCity'] = 'Portland'\n",
    "allBreweries.loc[1187, 'breweryCity'] = 'Pacific City'\n",
    "\n",
    "#standardizing names\n",
    "allBreweries['breweryCity'] = allBreweries['breweryCity'].str.replace('Mt\\.','Mount', regex=True)\n",
    "allBreweries['breweryName'] = allBreweries['breweryName'].str.replace('Company$', r'Co.', regex=True)\n",
    "allBreweries['breweryName'] = allBreweries['breweryName'].str.replace('Co$', r'Co.', regex=True)\n",
    "allBreweries['breweryName'] = allBreweries['breweryName'].str.title()"
   ]
  },
  {
   "cell_type": "code",
   "execution_count": 98,
   "id": "93d1e58e",
   "metadata": {},
   "outputs": [
    {
     "data": {
      "text/plain": [
       "breweryName          Old 690\n",
       "breweryCity     Purcellville\n",
       "breweryState              VA\n",
       "Name: 3512, dtype: object"
      ]
     },
     "execution_count": 98,
     "metadata": {},
     "output_type": "execute_result"
    }
   ],
   "source": [
    "allBreweries.loc[3512]"
   ]
  },
  {
   "cell_type": "code",
   "execution_count": 99,
   "id": "e8167c06",
   "metadata": {},
   "outputs": [
    {
     "data": {
      "text/html": [
       "<div>\n",
       "<style scoped>\n",
       "    .dataframe tbody tr th:only-of-type {\n",
       "        vertical-align: middle;\n",
       "    }\n",
       "\n",
       "    .dataframe tbody tr th {\n",
       "        vertical-align: top;\n",
       "    }\n",
       "\n",
       "    .dataframe thead th {\n",
       "        text-align: right;\n",
       "    }\n",
       "</style>\n",
       "<table border=\"1\" class=\"dataframe\">\n",
       "  <thead>\n",
       "    <tr style=\"text-align: right;\">\n",
       "      <th></th>\n",
       "      <th>breweryName</th>\n",
       "      <th>breweryCity</th>\n",
       "      <th>breweryState</th>\n",
       "    </tr>\n",
       "  </thead>\n",
       "  <tbody>\n",
       "    <tr>\n",
       "      <th>0</th>\n",
       "      <td>Avondale Brewing Company</td>\n",
       "      <td>Birmingham</td>\n",
       "      <td>AL</td>\n",
       "    </tr>\n",
       "    <tr>\n",
       "      <th>1</th>\n",
       "      <td>Back Forty Beer Company</td>\n",
       "      <td>Gadsden</td>\n",
       "      <td>AL</td>\n",
       "    </tr>\n",
       "    <tr>\n",
       "      <th>2</th>\n",
       "      <td>Below The Radar Brewhouse</td>\n",
       "      <td>Huntsville</td>\n",
       "      <td>AL</td>\n",
       "    </tr>\n",
       "    <tr>\n",
       "      <th>3</th>\n",
       "      <td>Big Beach Brewing Company</td>\n",
       "      <td>Gulf Shores</td>\n",
       "      <td>AL</td>\n",
       "    </tr>\n",
       "    <tr>\n",
       "      <th>4</th>\n",
       "      <td>Birmingham District Brewing Company</td>\n",
       "      <td>Birmingham</td>\n",
       "      <td>AL</td>\n",
       "    </tr>\n",
       "    <tr>\n",
       "      <th>...</th>\n",
       "      <td>...</td>\n",
       "      <td>...</td>\n",
       "      <td>...</td>\n",
       "    </tr>\n",
       "    <tr>\n",
       "      <th>3633</th>\n",
       "      <td>Philipsburg Brewing Company, Llc</td>\n",
       "      <td>Philipsburg</td>\n",
       "      <td>MT</td>\n",
       "    </tr>\n",
       "    <tr>\n",
       "      <th>3634</th>\n",
       "      <td>Quarry Brewing</td>\n",
       "      <td>Butte</td>\n",
       "      <td>MT</td>\n",
       "    </tr>\n",
       "    <tr>\n",
       "      <th>3635</th>\n",
       "      <td>Red Lodge Ales Brewing Co.</td>\n",
       "      <td>Red Lodge</td>\n",
       "      <td>MT</td>\n",
       "    </tr>\n",
       "    <tr>\n",
       "      <th>3636</th>\n",
       "      <td>Tamarack Brewing</td>\n",
       "      <td>Lakeside</td>\n",
       "      <td>MT</td>\n",
       "    </tr>\n",
       "    <tr>\n",
       "      <th>3637</th>\n",
       "      <td>Wildwood Brewing</td>\n",
       "      <td>Stevensville</td>\n",
       "      <td>MT</td>\n",
       "    </tr>\n",
       "  </tbody>\n",
       "</table>\n",
       "<p>3619 rows × 3 columns</p>\n",
       "</div>"
      ],
      "text/plain": [
       "                               breweryName   breweryCity breweryState\n",
       "0                Avondale Brewing Company     Birmingham           AL\n",
       "1                 Back Forty Beer Company        Gadsden           AL\n",
       "2               Below The Radar Brewhouse     Huntsville           AL\n",
       "3               Big Beach Brewing Company    Gulf Shores           AL\n",
       "4     Birmingham District Brewing Company     Birmingham           AL\n",
       "...                                    ...           ...          ...\n",
       "3633      Philipsburg Brewing Company, Llc   Philipsburg           MT\n",
       "3634                        Quarry Brewing         Butte           MT\n",
       "3635            Red Lodge Ales Brewing Co.     Red Lodge           MT\n",
       "3636                      Tamarack Brewing      Lakeside           MT\n",
       "3637                      Wildwood Brewing  Stevensville           MT\n",
       "\n",
       "[3619 rows x 3 columns]"
      ]
     },
     "execution_count": 99,
     "metadata": {},
     "output_type": "execute_result"
    }
   ],
   "source": [
    "allBreweries"
   ]
  },
  {
   "cell_type": "code",
   "execution_count": 100,
   "id": "3704c1d8",
   "metadata": {},
   "outputs": [],
   "source": [
    "# cached_latlons = {} # dictionary where the keys are of the form Bend,OR and values are [lat,lon] \n",
    "#!!!!!!!UNCOMMENT IF RUNNING FRESH!!!!\n",
    "\n",
    "def generate_url(city,state):\n",
    "    url = \"http://www.geonames.org/search.html?q=\"\n",
    "    city = str(city).replace(' ','+')\n",
    "    url += city\n",
    "    url += \"%2C+\"\n",
    "    url += state\n",
    "    url += '&country=US'\n",
    "    return url\n",
    "\n",
    "\n",
    "\n",
    "def get_latlon(x):\n",
    "    city = x.breweryCity\n",
    "    state = x.breweryState\n",
    "    index = x.name\n",
    "    \n",
    "    location = str(city)+','+str(state)\n",
    "    \n",
    "    if location in cached_latlons.keys():\n",
    "        # we have already searched for a particular city,state before\n",
    "        return cached_latlons[location][0],cached_latlons[location][1]\n",
    "    else:\n",
    "        # we are searching this location for the first time\n",
    "        http = urllib3.PoolManager()\n",
    "        r = http.request('GET', generate_url(city,state))\n",
    "        html_doc = r.data\n",
    "        soup = BeautifulSoup(html_doc, 'html.parser')\n",
    "        try:\n",
    "            lon = float(soup.find_all('span', class_=\"longitude\")[0].text)\n",
    "            lat = float(soup.find_all('span', class_=\"latitude\")[0].text)\n",
    "            cached_latlons[location] =[lat,lon]\n",
    "            return lat,lon\n",
    "        except IndexError as e:\n",
    "            print(f'could not find {x.breweryName} in \\n {city} \\n {state} at \\n index: {index}')\n",
    "            return np.nan, np.nan\n",
    "    "
   ]
  },
  {
   "cell_type": "code",
   "execution_count": 101,
   "id": "0e7ca162",
   "metadata": {},
   "outputs": [
    {
     "name": "stdout",
     "output_type": "stream",
     "text": [
      "could not find Fifth Street Brewpub Co. in \n",
      " op \n",
      " OH at \n",
      " index: 535\n",
      "could not find Providence Brewing Company  in \n",
      " North Providence. Established \n",
      " RI at \n",
      " index: 747\n",
      "could not find Dempsey'S Brewery in \n",
      " Pub \n",
      " SD at \n",
      " index: 767\n",
      "could not find Yee in \n",
      " Haw Brewing Company \n",
      " TN at \n",
      " index: 878\n",
      "could not find Harpoon Brewery  in \n",
      " headquartered in Boston \n",
      " VT at \n",
      " index: 910\n",
      "could not find River Of No Return Brewing  in \n",
      " Challis closed \n",
      " ID at \n",
      " index: 963\n",
      "could not find Ruhe152  in \n",
      " Napannee \n",
      " IN at \n",
      " index: 1032\n",
      "could not find Great Notion Brewing  in \n",
      " Portland brewpub \n",
      " OR at \n",
      " index: 1176\n",
      "could not find Iron Hill Brewery & Restaurant in \n",
      " multiple locations \n",
      " PA at \n",
      " index: 1205\n",
      "could not find Adams Street Brewery in \n",
      " Opened in 2019 in the Berghoff restaurant in Chicago. \n",
      " IL at \n",
      " index: 1614\n",
      "could not find Afterthought Brewing Co. in \n",
      " Nanobrewery in Lombard. \n",
      " IL at \n",
      " index: 1615\n",
      "could not find Alarmist Brewing in \n",
      " Chicago. Added a taproom in 2017. \n",
      " IL at \n",
      " index: 1616\n",
      "could not find Alter Brewing Co. in \n",
      " Downers Grove. Added a canning line in 2017. \n",
      " IL at \n",
      " index: 1619\n",
      "could not find Apple Knocker Hard Cider in \n",
      " Cider brewery in Cobden. \n",
      " IL at \n",
      " index: 1622\n",
      "could not find Begyle Brewing Co. in \n",
      " Chicago. The taproom opened in 2015. \n",
      " IL at \n",
      " index: 1626\n",
      "could not find Bent River Brewing Co. in \n",
      " Brewpub \n",
      " IL at \n",
      " index: 1628\n",
      "could not find Birreria Chicago in \n",
      " Chicago inside Eataly Chicago. \n",
      " IL at \n",
      " index: 1631\n",
      "could not find Blind Pig Brewery in \n",
      " microbrewery \n",
      " IL at \n",
      " index: 1636\n",
      "could not find Cary Ale House & Brewing Co. in \n",
      " Cary. The restaurant opened in 2015. They added an in-house brewery in 2018. \n",
      " IL at \n",
      " index: 1648\n",
      "could not find Corridor Brewery & Provisions in \n",
      " Chicago. Added a canning line in 2017. \n",
      " IL at \n",
      " index: 1650\n",
      "could not find Cruz Blanca in \n",
      " Founded \n",
      " IL at \n",
      " index: 1652\n",
      "could not find Destihl Restaurant & Brew Works in \n",
      " 2007 \n",
      " IL at \n",
      " index: 1656\n",
      "could not find Empirical Brewery in \n",
      " Chicago. In 2015 they added a taproom. \n",
      " IL at \n",
      " index: 1667\n",
      "could not find Forbidden Root in \n",
      " Founded \n",
      " IL at \n",
      " index: 1680\n",
      "could not find Galena Brewing Co. in \n",
      " The brewpub in Galena opened in 2010. The taproom in Moline opened in 2019. \n",
      " IL at \n",
      " index: 1683\n",
      "could not find Goose Island Beer Co. in \n",
      " Founded \n",
      " IL at \n",
      " index: 1689\n",
      "could not find Great Central Brewing Co. in \n",
      " Contract brewery in Chicago. The taproom opened in 2017. \n",
      " IL at \n",
      " index: 1691\n",
      "could not find Greenstar Brewing in \n",
      " Located \n",
      " IL at \n",
      " index: 1692\n",
      "could not find Hardware in \n",
      " Brewpub \n",
      " IL at \n",
      " index: 1699\n",
      "could not find Kings & Convicts Brewing Co. in \n",
      " Highwood. In 2019 they acquired Ballast Point Brewing Company. \n",
      " IL at \n",
      " index: 1719\n",
      "could not find Lagunitas Brewing Co. in \n",
      " Founded \n",
      " IL at \n",
      " index: 1723\n",
      "could not find Limerick Brewing Co. in \n",
      " Lincoln. The Spirited Republic tavern opened in 2015. They added a brewery in 2018. \n",
      " IL at \n",
      " index: 1730\n",
      "could not find Lo-Rez Brewing in \n",
      " Chicago. Added a taproom in 2017. \n",
      " IL at \n",
      " index: 1733\n",
      "could not find Maplewood Brewery & Distillery in \n",
      " Founded \n",
      " IL at \n",
      " index: 1739\n",
      "could not find Mickey Finn'S Brewery in \n",
      " Libertyville; moved to a new location in 2014. \n",
      " IL at \n",
      " index: 1744\n",
      "could not find Mikerphone Brewing in \n",
      " Founded \n",
      " IL at \n",
      " index: 1747\n",
      "could not find More Brewing Co. in \n",
      " The brewpub in Villa Park opened in 2017. The one in Huntley opened in 2020. \n",
      " IL at \n",
      " index: 1753\n",
      "could not find North Shore Cider Co. in \n",
      " Cider brewery in Evanston. \n",
      " IL at \n",
      " index: 1758\n",
      "could not find Obed & Isaac'S in \n",
      " The brewpub in Springfield opened in 2012. The brewpub in Peoria opened in 2016. \n",
      " IL at \n",
      " index: 1760\n",
      "could not find Old Irving Brewing Co. in \n",
      " Chicago; brewpub inspired by the cuisine of Homaro Cantu. \n",
      " IL at \n",
      " index: 1765\n",
      "could not find Only Child Brewing in \n",
      " Opened \n",
      " IL at \n",
      " index: 1770\n",
      "could not find Pig Minds Brewing Co. in \n",
      " Vegan brewpub in Machesney Park. \n",
      " IL at \n",
      " index: 1780\n",
      "could not find Pips Meadery in \n",
      " Mead brewery in Beach Park. \n",
      " IL at \n",
      " index: 1783\n",
      "could not find Ravinia Brewing Co. in \n",
      " Founded \n",
      " IL at \n",
      " index: 1789\n",
      "could not find Rhodell Brewery in \n",
      " Peoria. Moved to a larger location in 2015. \n",
      " IL at \n",
      " index: 1793\n",
      "could not find Right Bee Cider in \n",
      " Apple cider brewery in Chicago. The taproom opened in 2019. \n",
      " IL at \n",
      " index: 1795\n",
      "could not find Second City Meadery in \n",
      " Chicago meadery. \n",
      " IL at \n",
      " index: 1804\n",
      "could not find Smylie Brothers Brewing Co. in \n",
      " Evanston brewpub. In 2018 they started brewing some of their beer in Chicago at the former Aquanaut brewery. \n",
      " IL at \n",
      " index: 1811\n",
      "could not find Spiteful Brewing in \n",
      " location \n",
      " IL at \n",
      " index: 1815\n",
      "could not find Ten Ninety Brewing Co. in \n",
      " Founded \n",
      " IL at \n",
      " index: 1823\n",
      "could not find Trail'S Edge Brewing Co. in \n",
      " Frankfort at the Smokey Barque restaurant. \n",
      " IL at \n",
      " index: 1826\n",
      "could not find Tribes Beer Co. in \n",
      " Started \n",
      " IL at \n",
      " index: 1827\n",
      "could not find Twisted Hippo in \n",
      " Founded \n",
      " IL at \n",
      " index: 1829\n",
      "could not find Two Hound Red in \n",
      " Glen Ellyn brewpub. \n",
      " IL at \n",
      " index: 1832\n",
      "could not find Von Jakob Vineyard & Brewery in \n",
      " Alto Pass. The vineyard was founded in 1996. The brewery opened in 2011. \n",
      " IL at \n",
      " index: 1839\n",
      "could not find White Oak Brewing in \n",
      " Normal; added a taproom in 2017. \n",
      " IL at \n",
      " index: 1844\n",
      "could not find Wild Onion Brewery in \n",
      " 1996 \n",
      " IL at \n",
      " index: 1847\n",
      "could not find Calvert Brewing Co. in \n",
      " Prince Frederick/Upper Marlboro \n",
      " MD at \n",
      " index: 1963\n",
      "could not find Denizens Brewing Co. in \n",
      " Silver Spring/Riverdale Park \n",
      " MD at \n",
      " index: 1971\n",
      "could not find Ministry Of Brewing in \n",
      " Baltimore (Fell's Point) \n",
      " MD at \n",
      " index: 2006\n",
      "could not find Frye Brewing in \n",
      " Point Pleasant Boro \n",
      " NJ at \n",
      " index: 2332\n",
      "could not find Beast Brewing Co. in \n",
      " Bisbee Closed \n",
      " AZ at \n",
      " index: 2902\n",
      "could not find Adventure Brewing South in \n",
      " Previously Blue \n",
      " VA at \n",
      " index: 3473\n",
      "could not find Strangeways in \n",
      " Brewing \n",
      " VA at \n",
      " index: 3487\n",
      "could not find The Answer in \n",
      " Brewpub \n",
      " VA at \n",
      " index: 3491\n",
      "CPU times: user 12.6 s, sys: 211 ms, total: 12.8 s\n",
      "Wall time: 47 s\n"
     ]
    }
   ],
   "source": [
    "%%time\n",
    "#Getting lat and lon for all cities in dataframe\n",
    "tmp = allBreweries.apply(lambda x: get_latlon(x),axis=1)\n",
    "lats=list(zip(*tmp))[0]\n",
    "lons=list(zip(*tmp))[1]\n",
    "allBreweries['lat'] = lats\n",
    "allBreweries['lon'] = lons"
   ]
  },
  {
   "cell_type": "code",
   "execution_count": 102,
   "id": "59199657",
   "metadata": {},
   "outputs": [],
   "source": [
    "#saving to file\n",
    "allBreweries.to_excel(os.path.join(BBS_DIR,'cleaned_v3.xlsx'), index=False)\n"
   ]
  },
  {
   "cell_type": "markdown",
   "id": "d0207c71",
   "metadata": {},
   "source": [
    "# Plotting the data"
   ]
  },
  {
   "cell_type": "code",
   "execution_count": 111,
   "id": "b7bb15b7",
   "metadata": {},
   "outputs": [
    {
     "data": {
      "application/vnd.plotly.v1+json": {
       "config": {
        "plotlyServerURL": "https://plot.ly"
       },
       "data": [
        {
         "customdata": [
          [
           "AL",
           8
          ],
          [
           "AL",
           1
          ],
          [
           "AL",
           10
          ],
          [
           "AL",
           1
          ],
          [
           "AL",
           8
          ],
          [
           "AL",
           2
          ],
          [
           "AL",
           10
          ],
          [
           "AL",
           4
          ],
          [
           "AL",
           8
          ],
          [
           "AL",
           10
          ],
          [
           "AL",
           1
          ],
          [
           "AL",
           3
          ],
          [
           "AL",
           4
          ],
          [
           "AL",
           2
          ],
          [
           "AL",
           1
          ],
          [
           "AL",
           1
          ],
          [
           "AL",
           10
          ],
          [
           "AL",
           8
          ],
          [
           "AL",
           1
          ],
          [
           "AL",
           8
          ],
          [
           "AL",
           10
          ],
          [
           "AL",
           4
          ],
          [
           "AL",
           10
          ],
          [
           "AL",
           2
          ],
          [
           "AL",
           4
          ],
          [
           "AL",
           1
          ],
          [
           "AL",
           24
          ],
          [
           "AL",
           1
          ],
          [
           "AL",
           15
          ],
          [
           "AL",
           2
          ],
          [
           "AL",
           3
          ],
          [
           "AL",
           2
          ],
          [
           "AL",
           2
          ],
          [
           "AL",
           15
          ],
          [
           "AL",
           10
          ],
          [
           "AL",
           4
          ],
          [
           "AL",
           2
          ],
          [
           "AL",
           2
          ],
          [
           "AL",
           1
          ],
          [
           "AL",
           10
          ],
          [
           "AL",
           2
          ],
          [
           "AL",
           8
          ],
          [
           "AL",
           8
          ],
          [
           "AL",
           2
          ],
          [
           "AL",
           10
          ],
          [
           "CO",
           1
          ],
          [
           "CO",
           6
          ],
          [
           "CO",
           3
          ],
          [
           "CO",
           6
          ],
          [
           "CO",
           6
          ],
          [
           "CO",
           6
          ],
          [
           "CO",
           5
          ],
          [
           "CO",
           6
          ],
          [
           "CO",
           6
          ],
          [
           "CO",
           3
          ],
          [
           "CO",
           1
          ],
          [
           "CO",
           12
          ],
          [
           "CO",
           3
          ],
          [
           "CO",
           6
          ],
          [
           "CO",
           2
          ],
          [
           "CO",
           12
          ],
          [
           "CO",
           12
          ],
          [
           "CO",
           1
          ],
          [
           "CO",
           1
          ],
          [
           "CO",
           1
          ],
          [
           "CO",
           1
          ],
          [
           "CO",
           12
          ],
          [
           "CO",
           5
          ],
          [
           "CO",
           6
          ],
          [
           "CO",
           12
          ],
          [
           "CO",
           6
          ],
          [
           "CO",
           12
          ],
          [
           "CO",
           6
          ],
          [
           "CO",
           3
          ],
          [
           "CO",
           12
          ],
          [
           "CO",
           3
          ],
          [
           "CO",
           1
          ],
          [
           "CO",
           3
          ],
          [
           "CO",
           5
          ],
          [
           "CO",
           12
          ],
          [
           "CO",
           5
          ],
          [
           "CO",
           1
          ],
          [
           "CO",
           1
          ],
          [
           "CO",
           1
          ],
          [
           "CO",
           6
          ],
          [
           "CO",
           12
          ],
          [
           "CO",
           2
          ],
          [
           "CO",
           1
          ],
          [
           "CO",
           1
          ],
          [
           "CO",
           5
          ],
          [
           "CO",
           1
          ],
          [
           "CO",
           1
          ],
          [
           "CO",
           6
          ],
          [
           "CO",
           6
          ],
          [
           "CO",
           12
          ],
          [
           "CO",
           6
          ],
          [
           "CO",
           2
          ],
          [
           "CO",
           1
          ],
          [
           "CO",
           2
          ],
          [
           "CO",
           12
          ],
          [
           "CT",
           1
          ],
          [
           "CT",
           2
          ],
          [
           "CT",
           3
          ],
          [
           "CT",
           3
          ],
          [
           "CT",
           2
          ],
          [
           "CT",
           1
          ],
          [
           "CT",
           2
          ],
          [
           "CT",
           1
          ],
          [
           "CT",
           1
          ],
          [
           "CT",
           1
          ],
          [
           "CT",
           4
          ],
          [
           "CT",
           1
          ],
          [
           "CT",
           2
          ],
          [
           "CT",
           1
          ],
          [
           "CT",
           3
          ],
          [
           "CT",
           1
          ],
          [
           "CT",
           1
          ],
          [
           "CT",
           4
          ],
          [
           "CT",
           2
          ],
          [
           "CT",
           1
          ],
          [
           "CT",
           1
          ],
          [
           "CT",
           1
          ],
          [
           "CT",
           2
          ],
          [
           "CT",
           3
          ],
          [
           "CT",
           2
          ],
          [
           "CT",
           1
          ],
          [
           "CT",
           7
          ],
          [
           "CT",
           2
          ],
          [
           "CT",
           11
          ],
          [
           "CT",
           2
          ],
          [
           "CT",
           4
          ],
          [
           "CT",
           1
          ],
          [
           "CT",
           2
          ],
          [
           "CT",
           4
          ],
          [
           "CT",
           4
          ],
          [
           "CT",
           1
          ],
          [
           "CT",
           4
          ],
          [
           "CT",
           2
          ],
          [
           "CT",
           2
          ],
          [
           "CT",
           3
          ],
          [
           "CT",
           3
          ],
          [
           "CT",
           1
          ],
          [
           "CT",
           2
          ],
          [
           "CT",
           1
          ],
          [
           "CT",
           4
          ],
          [
           "CT",
           1
          ],
          [
           "CT",
           1
          ],
          [
           "CT",
           1
          ],
          [
           "CT",
           4
          ],
          [
           "CT",
           1
          ],
          [
           "CT",
           7
          ],
          [
           "CT",
           1
          ],
          [
           "CT",
           1
          ],
          [
           "CT",
           1
          ],
          [
           "CT",
           3
          ],
          [
           "CT",
           11
          ],
          [
           "CT",
           3
          ],
          [
           "CT",
           1
          ],
          [
           "CT",
           2
          ],
          [
           "CT",
           24
          ],
          [
           "CT",
           3
          ],
          [
           "CT",
           1
          ],
          [
           "CT",
           2
          ],
          [
           "CT",
           2
          ],
          [
           "DE",
           1
          ],
          [
           "DE",
           5
          ],
          [
           "DE",
           3
          ],
          [
           "DE",
           7
          ],
          [
           "IA",
           6
          ],
          [
           "IA",
           2
          ],
          [
           "IA",
           1
          ],
          [
           "IA",
           4
          ],
          [
           "IA",
           4
          ],
          [
           "IA",
           1
          ],
          [
           "IA",
           2
          ],
          [
           "IA",
           2
          ],
          [
           "IA",
           3
          ],
          [
           "IA",
           24
          ],
          [
           "IA",
           2
          ],
          [
           "IA",
           3
          ],
          [
           "IA",
           3
          ],
          [
           "IA",
           5
          ],
          [
           "IA",
           5
          ],
          [
           "IA",
           1
          ],
          [
           "IA",
           1
          ],
          [
           "IA",
           1
          ],
          [
           "IA",
           2
          ],
          [
           "IA",
           1
          ],
          [
           "IA",
           1
          ],
          [
           "IA",
           3
          ],
          [
           "IA",
           3
          ],
          [
           "IA",
           4
          ],
          [
           "IA",
           7
          ],
          [
           "IA",
           6
          ],
          [
           "IA",
           1
          ],
          [
           "IA",
           6
          ],
          [
           "IA",
           4
          ],
          [
           "IA",
           1
          ],
          [
           "IA",
           1
          ],
          [
           "IA",
           4
          ],
          [
           "IA",
           1
          ],
          [
           "IA",
           2
          ],
          [
           "IA",
           6
          ],
          [
           "IA",
           1
          ],
          [
           "IA",
           2
          ],
          [
           "IA",
           1
          ],
          [
           "IA",
           1
          ],
          [
           "IA",
           2
          ],
          [
           "IA",
           4
          ],
          [
           "IA",
           6
          ],
          [
           "IA",
           3
          ],
          [
           "IA",
           2
          ],
          [
           "IA",
           3
          ],
          [
           "IA",
           1
          ],
          [
           "IA",
           1
          ],
          [
           "IA",
           7
          ],
          [
           "IA",
           1
          ],
          [
           "IA",
           1
          ],
          [
           "IA",
           1
          ],
          [
           "IA",
           2
          ],
          [
           "IA",
           7
          ],
          [
           "IA",
           3
          ],
          [
           "IA",
           4
          ],
          [
           "IA",
           1
          ],
          [
           "IA",
           1
          ],
          [
           "IA",
           1
          ],
          [
           "IA",
           2
          ],
          [
           "IA",
           1
          ],
          [
           "IA",
           3
          ],
          [
           "IA",
           1
          ],
          [
           "IA",
           7
          ],
          [
           "IA",
           1
          ],
          [
           "IA",
           6
          ],
          [
           "IA",
           1
          ],
          [
           "IA",
           3
          ],
          [
           "IA",
           2
          ],
          [
           "IA",
           1
          ],
          [
           "IA",
           2
          ],
          [
           "IA",
           1
          ],
          [
           "IA",
           1
          ],
          [
           "IA",
           1
          ],
          [
           "IA",
           5
          ],
          [
           "IA",
           21
          ],
          [
           "IA",
           1
          ],
          [
           "IA",
           2
          ],
          [
           "IA",
           1
          ],
          [
           "IA",
           1
          ],
          [
           "IA",
           2
          ],
          [
           "IA",
           5
          ],
          [
           "IA",
           1
          ],
          [
           "IA",
           4
          ],
          [
           "IA",
           3
          ],
          [
           "IA",
           2
          ],
          [
           "IA",
           3
          ],
          [
           "IA",
           3
          ],
          [
           "IA",
           1
          ],
          [
           "IA",
           1
          ],
          [
           "IA",
           2
          ],
          [
           "IA",
           1
          ],
          [
           "IA",
           1
          ],
          [
           "IA",
           7
          ],
          [
           "IA",
           7
          ],
          [
           "IA",
           7
          ],
          [
           "IA",
           1
          ],
          [
           "IA",
           1
          ],
          [
           "IA",
           2
          ],
          [
           "IA",
           2
          ],
          [
           "IA",
           1
          ],
          [
           "IA",
           4
          ],
          [
           "IA",
           3
          ],
          [
           "IA",
           1
          ],
          [
           "IA",
           2
          ],
          [
           "IA",
           1
          ],
          [
           "IA",
           1
          ],
          [
           "IA",
           1
          ],
          [
           "KY",
           1
          ],
          [
           "KY",
           6
          ],
          [
           "KY",
           9
          ],
          [
           "KY",
           9
          ],
          [
           "KY",
           6
          ],
          [
           "KY",
           9
          ],
          [
           "KY",
           9
          ],
          [
           "KY",
           9
          ],
          [
           "KY",
           2
          ],
          [
           "KY",
           9
          ],
          [
           "KY",
           1
          ],
          [
           "KY",
           5
          ],
          [
           "KY",
           2
          ],
          [
           "KY",
           9
          ],
          [
           "KY",
           9
          ],
          [
           "KY",
           1
          ],
          [
           "KY",
           9
          ],
          [
           "KY",
           9
          ],
          [
           "KY",
           9
          ],
          [
           "KY",
           1
          ],
          [
           "KY",
           3
          ],
          [
           "KY",
           9
          ],
          [
           "KY",
           2
          ],
          [
           "KY",
           9
          ],
          [
           "KY",
           2
          ],
          [
           "KY",
           3
          ],
          [
           "KY",
           1
          ],
          [
           "KY",
           9
          ],
          [
           "KY",
           7
          ],
          [
           "KY",
           1
          ],
          [
           "MI",
           1
          ],
          [
           "MI",
           2
          ],
          [
           "MI",
           3
          ],
          [
           "MI",
           1
          ],
          [
           "MI",
           2
          ],
          [
           "MI",
           1
          ],
          [
           "MI",
           24
          ],
          [
           "MI",
           2
          ],
          [
           "MI",
           2
          ],
          [
           "MI",
           2
          ],
          [
           "MI",
           3
          ],
          [
           "MI",
           1
          ],
          [
           "MI",
           2
          ],
          [
           "MI",
           2
          ],
          [
           "MI",
           1
          ],
          [
           "MI",
           5
          ],
          [
           "MI",
           1
          ],
          [
           "MI",
           5
          ],
          [
           "MI",
           1
          ],
          [
           "MI",
           8
          ],
          [
           "MI",
           4
          ],
          [
           "MI",
           1
          ],
          [
           "MI",
           8
          ],
          [
           "MI",
           1
          ],
          [
           "MI",
           1
          ],
          [
           "MI",
           1
          ],
          [
           "MI",
           5
          ],
          [
           "MI",
           2
          ],
          [
           "MI",
           3
          ],
          [
           "MI",
           2
          ],
          [
           "MI",
           1
          ],
          [
           "MI",
           1
          ],
          [
           "MI",
           2
          ],
          [
           "MI",
           2
          ],
          [
           "MI",
           1
          ],
          [
           "MI",
           24
          ],
          [
           "MI",
           2
          ],
          [
           "MI",
           2
          ],
          [
           "MI",
           1
          ],
          [
           "MI",
           11
          ],
          [
           "MI",
           1
          ],
          [
           "MI",
           5
          ],
          [
           "MI",
           1
          ],
          [
           "MI",
           1
          ],
          [
           "MI",
           1
          ],
          [
           "MI",
           5
          ],
          [
           "MI",
           24
          ],
          [
           "MI",
           1
          ],
          [
           "MI",
           2
          ],
          [
           "MS",
           1
          ],
          [
           "MS",
           24
          ],
          [
           "MS",
           1
          ],
          [
           "MS",
           2
          ],
          [
           "MS",
           4
          ],
          [
           "MS",
           2
          ],
          [
           "MS",
           2
          ],
          [
           "MS",
           24
          ],
          [
           "MS",
           1
          ],
          [
           "MS",
           8
          ],
          [
           "MS",
           24
          ],
          [
           "MS",
           2
          ],
          [
           "MS",
           2
          ],
          [
           "MS",
           1
          ],
          [
           "MS",
           2
          ],
          [
           "MS",
           4
          ],
          [
           "MS",
           4
          ],
          [
           "MS",
           1
          ],
          [
           "MS",
           1
          ],
          [
           "MS",
           4
          ],
          [
           "MS",
           4
          ],
          [
           "MS",
           2
          ],
          [
           "NC",
           1
          ],
          [
           "NC",
           1
          ],
          [
           "NC",
           1
          ],
          [
           "NC",
           1
          ],
          [
           "NC",
           2
          ],
          [
           "NC",
           2
          ],
          [
           "NC",
           1
          ],
          [
           "NC",
           2
          ],
          [
           "NC",
           1
          ],
          [
           "NC",
           2
          ],
          [
           "NC",
           2
          ],
          [
           "NC",
           2
          ],
          [
           "NC",
           2
          ],
          [
           "NC",
           1
          ],
          [
           "NH",
           5
          ],
          [
           "NH",
           1
          ],
          [
           "NV",
           1
          ],
          [
           "NV",
           1
          ],
          [
           "NV",
           4
          ],
          [
           "NV",
           4
          ],
          [
           "NV",
           4
          ],
          [
           "NV",
           4
          ],
          [
           "OH",
           1
          ],
          [
           "OH",
           1
          ],
          [
           "OH",
           11
          ],
          [
           "OH",
           4
          ],
          [
           "OH",
           22
          ],
          [
           "OH",
           1
          ],
          [
           "OH",
           2
          ],
          [
           "OH",
           1
          ],
          [
           "OH",
           6
          ],
          [
           "OH",
           1
          ],
          [
           "OH",
           22
          ],
          [
           "OH",
           3
          ],
          [
           "OH",
           3
          ],
          [
           "OH",
           3
          ],
          [
           "OH",
           3
          ],
          [
           "OH",
           1
          ],
          [
           "OH",
           22
          ],
          [
           "OH",
           11
          ],
          [
           "OH",
           1
          ],
          [
           "OH",
           1
          ],
          [
           "OH",
           24
          ],
          [
           "OH",
           7
          ],
          [
           "OH",
           22
          ],
          [
           "OH",
           1
          ],
          [
           "OH",
           5
          ],
          [
           "OH",
           2
          ],
          [
           "OH",
           22
          ],
          [
           "OH",
           1
          ],
          [
           "OH",
           1
          ],
          [
           "OH",
           15
          ],
          [
           "OH",
           1
          ],
          [
           "OH",
           22
          ],
          [
           "OH",
           11
          ],
          [
           "OH",
           1
          ],
          [
           "OH",
           1
          ],
          [
           "OH",
           7
          ],
          [
           "OH",
           22
          ],
          [
           "OH",
           1
          ],
          [
           "OH",
           22
          ],
          [
           "OH",
           2
          ],
          [
           "OH",
           22
          ],
          [
           "OH",
           24
          ],
          [
           "OH",
           22
          ],
          [
           "OH",
           5
          ],
          [
           "OH",
           1
          ],
          [
           "OH",
           1
          ],
          [
           "OH",
           1
          ],
          [
           "OH",
           4
          ],
          [
           "OH",
           22
          ],
          [
           "OH",
           3
          ],
          [
           "OH",
           11
          ],
          [
           "OH",
           1
          ],
          [
           "OH",
           1
          ],
          [
           "OH",
           4
          ],
          [
           "OH",
           1
          ],
          [
           "OH",
           24
          ],
          [
           "OH",
           22
          ],
          [
           "OH",
           6
          ],
          [
           "OH",
           2
          ],
          [
           "OH",
           9
          ],
          [
           "OH",
           2
          ],
          [
           "OH",
           11
          ],
          [
           "OH",
           1
          ],
          [
           "OH",
           1
          ],
          [
           "OH",
           6
          ],
          [
           "OH",
           4
          ],
          [
           "OH",
           11
          ],
          [
           "OH",
           24
          ],
          [
           "OH",
           1
          ],
          [
           "OH",
           22
          ],
          [
           "OH",
           22
          ],
          [
           "OH",
           4
          ],
          [
           "OH",
           6
          ],
          [
           "OH",
           7
          ],
          [
           "OH",
           1
          ],
          [
           "OH",
           11
          ],
          [
           "OH",
           4
          ],
          [
           "OH",
           5
          ],
          [
           "OH",
           22
          ],
          [
           "OH",
           24
          ],
          [
           "OH",
           11
          ],
          [
           "OH",
           7
          ],
          [
           "OH",
           22
          ],
          [
           "OH",
           22
          ],
          [
           "OH",
           1
          ],
          [
           "OH",
           4
          ],
          [
           "OH",
           1
          ],
          [
           "OH",
           4
          ],
          [
           "OH",
           2
          ],
          [
           "OH",
           1
          ],
          [
           "OH",
           1
          ],
          [
           "OH",
           6
          ],
          [
           "OH",
           22
          ],
          [
           "OH",
           11
          ],
          [
           "OH",
           4
          ],
          [
           "OH",
           1
          ],
          [
           "OH",
           7
          ],
          [
           "OH",
           1
          ],
          [
           "OH",
           22
          ],
          [
           "OH",
           7
          ],
          [
           "OH",
           2
          ],
          [
           "OH",
           22
          ],
          [
           "OH",
           2
          ],
          [
           "OH",
           22
          ],
          [
           "OH",
           11
          ],
          [
           "OH",
           11
          ],
          [
           "OH",
           9
          ],
          [
           "OH",
           3
          ],
          [
           "OH",
           1
          ],
          [
           "OH",
           1
          ],
          [
           "OH",
           7
          ],
          [
           "OH",
           22
          ],
          [
           "OH",
           6
          ],
          [
           "OH",
           4
          ],
          [
           "OH",
           31
          ],
          [
           "OH",
           3
          ],
          [
           "OH",
           1
          ],
          [
           "OH",
           31
          ],
          [
           "OH",
           2
          ],
          [
           "OH",
           31
          ],
          [
           "OH",
           7
          ],
          [
           "OH",
           2
          ],
          [
           "OH",
           2
          ],
          [
           "OH",
           31
          ],
          [
           "OH",
           7
          ],
          [
           "OH",
           1
          ],
          [
           "OH",
           1
          ],
          [
           "OH",
           31
          ],
          [
           "OH",
           1
          ],
          [
           "OH",
           3
          ],
          [
           "OH",
           2
          ],
          [
           "OH",
           7
          ],
          [
           "OH",
           31
          ],
          [
           "OH",
           1
          ],
          [
           "OH",
           2
          ],
          [
           "OH",
           2
          ],
          [
           "OH",
           31
          ],
          [
           "OH",
           31
          ],
          [
           "OH",
           11
          ],
          [
           "OH",
           31
          ],
          [
           "OH",
           2
          ],
          [
           "OH",
           1
          ],
          [
           "OH",
           31
          ],
          [
           "OH",
           4
          ],
          [
           "OH",
           1
          ],
          [
           "OH",
           31
          ],
          [
           "OH",
           31
          ],
          [
           "OH",
           2
          ],
          [
           "OH",
           4
          ],
          [
           "OH",
           3
          ],
          [
           "OH",
           4
          ],
          [
           "OH",
           4
          ],
          [
           "OH",
           2
          ],
          [
           "OH",
           31
          ],
          [
           "OH",
           31
          ],
          [
           "OH",
           31
          ],
          [
           "OH",
           9
          ],
          [
           "OH",
           31
          ],
          [
           "OH",
           2
          ],
          [
           "OH",
           1
          ],
          [
           "OH",
           11
          ],
          [
           "OH",
           31
          ],
          [
           "OH",
           31
          ],
          [
           "OH",
           2
          ],
          [
           "OH",
           31
          ],
          [
           "OH",
           7
          ],
          [
           "OH",
           31
          ],
          [
           "OH",
           1
          ],
          [
           "OH",
           31
          ],
          [
           "OH",
           4
          ],
          [
           "OH",
           11
          ],
          [
           "OH",
           31
          ],
          [
           "OH",
           4
          ],
          [
           "OH",
           3
          ],
          [
           "OH",
           2
          ],
          [
           "OH",
           2
          ],
          [
           "OH",
           31
          ],
          [
           "OH",
           31
          ],
          [
           "OH",
           31
          ],
          [
           "OH",
           31
          ],
          [
           "OH",
           7
          ],
          [
           "OH",
           31
          ],
          [
           "OH",
           1
          ],
          [
           "OH",
           7
          ],
          [
           "OH",
           2
          ],
          [
           "OH",
           31
          ],
          [
           "OH",
           31
          ],
          [
           "OH",
           31
          ],
          [
           "OH",
           1
          ],
          [
           "OH",
           2
          ],
          [
           "OH",
           1
          ],
          [
           "OH",
           31
          ],
          [
           "OH",
           31
          ],
          [
           "OH",
           31
          ],
          [
           "OH",
           2
          ],
          [
           "OH",
           1
          ],
          [
           "OH",
           5
          ],
          [
           "OH",
           2
          ],
          [
           "OH",
           31
          ],
          [
           "OH",
           1
          ],
          [
           "OH",
           3
          ],
          [
           "OH",
           1
          ],
          [
           "OH",
           2
          ],
          [
           "OH",
           5
          ],
          [
           "OH",
           31
          ],
          [
           "OH",
           5
          ],
          [
           "OH",
           2
          ],
          [
           "OH",
           1
          ],
          [
           "OH",
           3
          ],
          [
           "OH",
           1
          ],
          [
           "OH",
           31
          ],
          [
           "OH",
           31
          ],
          [
           "OH",
           2
          ],
          [
           "OH",
           31
          ],
          [
           "OH",
           2
          ],
          [
           "OH",
           1
          ],
          [
           "OH",
           31
          ],
          [
           "OH",
           2
          ],
          [
           "OH",
           31
          ],
          [
           "OH",
           1
          ],
          [
           "OH",
           3
          ],
          [
           "OH",
           31
          ],
          [
           "OH",
           31
          ],
          [
           "OH",
           31
          ],
          [
           "OH",
           31
          ],
          [
           "OH",
           2
          ],
          [
           "OH",
           3
          ],
          [
           "OH",
           31
          ],
          [
           "OH",
           1
          ],
          [
           "OH",
           3
          ],
          [
           "OH",
           3
          ],
          [
           "OH",
           1
          ],
          [
           "OH",
           3
          ],
          [
           "OH",
           31
          ],
          [
           "OH",
           31
          ],
          [
           "OH",
           31
          ],
          [
           "OH",
           31
          ],
          [
           "OH",
           22
          ],
          [
           "OH",
           3
          ],
          [
           "OH",
           5
          ],
          [
           "OH",
           31
          ],
          [
           "OH",
           31
          ],
          [
           "OH",
           31
          ],
          [
           "OH",
           31
          ],
          [
           "OH",
           31
          ],
          [
           "OH",
           31
          ],
          [
           "OH",
           3
          ],
          [
           "OH",
           5
          ],
          [
           "OH",
           2
          ],
          [
           "OH",
           2
          ],
          [
           "OH",
           5
          ],
          [
           "OH",
           31
          ],
          [
           "OH",
           2
          ],
          [
           "OH",
           31
          ],
          [
           "OH",
           1
          ],
          [
           "OH",
           6
          ],
          [
           "OH",
           1
          ],
          [
           "OH",
           6
          ],
          [
           "OH",
           6
          ],
          [
           "OH",
           1
          ],
          [
           "OH",
           4
          ],
          [
           "OH",
           1
          ],
          [
           "OH",
           1
          ],
          [
           "OH",
           5
          ],
          [
           "OH",
           8
          ],
          [
           "OH",
           2
          ],
          [
           "OH",
           2
          ],
          [
           "OH",
           2
          ],
          [
           "OH",
           1
          ],
          [
           "OH",
           1
          ],
          [
           "OH",
           2
          ],
          [
           "OH",
           1
          ],
          [
           "OH",
           7
          ],
          [
           "OH",
           2
          ],
          [
           "OH",
           2
          ],
          [
           "OH",
           2
          ],
          [
           "OH",
           1
          ],
          [
           "OH",
           7
          ],
          [
           "OH",
           1
          ],
          [
           "OH",
           2
          ],
          [
           "OH",
           1
          ],
          [
           "OH",
           1
          ],
          [
           "OH",
           7
          ],
          [
           "OH",
           1
          ],
          [
           "OH",
           7
          ],
          [
           "OH",
           2
          ],
          [
           "OH",
           1
          ],
          [
           "OH",
           2
          ],
          [
           "OH",
           1
          ],
          [
           "OH",
           1
          ],
          [
           "OH",
           7
          ],
          [
           "OH",
           1
          ],
          [
           "OH",
           1
          ],
          [
           "OH",
           5
          ],
          [
           "OH",
           1
          ],
          [
           "OH",
           10
          ],
          [
           "OH",
           7
          ],
          [
           "OH",
           1
          ],
          [
           "OH",
           1
          ],
          [
           "OH",
           2
          ],
          [
           "OH",
           1
          ],
          [
           "OH",
           2
          ],
          [
           "OH",
           2
          ],
          [
           "OH",
           1
          ],
          [
           "OH",
           1
          ],
          [
           "OH",
           2
          ],
          [
           "OH",
           1
          ],
          [
           "OH",
           5
          ],
          [
           "OK",
           2
          ],
          [
           "OK",
           10
          ],
          [
           "OK",
           9
          ],
          [
           "OK",
           9
          ],
          [
           "OK",
           2
          ],
          [
           "OK",
           9
          ],
          [
           "OK",
           1
          ],
          [
           "OK",
           10
          ],
          [
           "OK",
           1
          ],
          [
           "OK",
           9
          ],
          [
           "OK",
           10
          ],
          [
           "OK",
           9
          ],
          [
           "OK",
           2
          ],
          [
           "OK",
           10
          ],
          [
           "OK",
           10
          ],
          [
           "OK",
           9
          ],
          [
           "OK",
           2
          ],
          [
           "OK",
           2
          ],
          [
           "OK",
           10
          ],
          [
           "OK",
           9
          ],
          [
           "OK",
           1
          ],
          [
           "OK",
           10
          ],
          [
           "OK",
           10
          ],
          [
           "OK",
           9
          ],
          [
           "OK",
           10
          ],
          [
           "OK",
           1
          ],
          [
           "OK",
           9
          ],
          [
           "OK",
           10
          ],
          [
           "RI",
           2
          ],
          [
           "RI",
           1
          ],
          [
           "RI",
           7
          ],
          [
           "RI",
           4
          ],
          [
           "RI",
           4
          ],
          [
           "RI",
           1
          ],
          [
           "RI",
           1
          ],
          [
           "RI",
           3
          ],
          [
           "RI",
           2
          ],
          [
           "RI",
           3
          ],
          [
           "RI",
           4
          ],
          [
           "RI",
           2
          ],
          [
           "RI",
           5
          ],
          [
           "RI",
           2
          ],
          [
           "RI",
           11
          ],
          [
           "RI",
           3
          ],
          [
           "RI",
           1
          ],
          [
           "RI",
           4
          ],
          [
           "RI",
           1
          ],
          [
           "RI",
           7
          ],
          [
           "RI",
           1
          ],
          [
           "SD",
           1
          ],
          [
           "SD",
           2
          ],
          [
           "SD",
           2
          ],
          [
           "SD",
           4
          ],
          [
           "SD",
           1
          ],
          [
           "SD",
           7
          ],
          [
           "SD",
           9
          ],
          [
           "SD",
           3
          ],
          [
           "SD",
           7
          ],
          [
           "SD",
           1
          ],
          [
           "SD",
           2
          ],
          [
           "SD",
           9
          ],
          [
           "SD",
           7
          ],
          [
           "SD",
           9
          ],
          [
           "SD",
           7
          ],
          [
           "SD",
           1
          ],
          [
           "SD",
           1
          ],
          [
           "SD",
           9
          ],
          [
           "SD",
           7
          ],
          [
           "SD",
           9
          ],
          [
           "SD",
           2
          ],
          [
           "SD",
           1
          ],
          [
           "SD",
           9
          ],
          [
           "SD",
           1
          ],
          [
           "SD",
           7
          ],
          [
           "SD",
           9
          ],
          [
           "SD",
           3
          ],
          [
           "SD",
           9
          ],
          [
           "SD",
           2
          ],
          [
           "SD",
           3
          ],
          [
           "SD",
           1
          ],
          [
           "SD",
           2
          ],
          [
           "SD",
           9
          ],
          [
           "SD",
           7
          ],
          [
           "TN",
           12
          ],
          [
           "TN",
           12
          ],
          [
           "TN",
           12
          ],
          [
           "TN",
           12
          ],
          [
           "TN",
           12
          ],
          [
           "TN",
           12
          ],
          [
           "TN",
           12
          ],
          [
           "TN",
           12
          ],
          [
           "TN",
           12
          ],
          [
           "TN",
           12
          ],
          [
           "TN",
           12
          ],
          [
           "TN",
           12
          ],
          [
           "TN",
           1
          ],
          [
           "TN",
           3
          ],
          [
           "TN",
           3
          ],
          [
           "TN",
           3
          ],
          [
           "TN",
           3
          ],
          [
           "TN",
           3
          ],
          [
           "TN",
           21
          ],
          [
           "TN",
           21
          ],
          [
           "TN",
           21
          ],
          [
           "TN",
           21
          ],
          [
           "TN",
           21
          ],
          [
           "TN",
           21
          ],
          [
           "TN",
           21
          ],
          [
           "TN",
           21
          ],
          [
           "TN",
           21
          ],
          [
           "TN",
           21
          ],
          [
           "TN",
           21
          ],
          [
           "TN",
           21
          ],
          [
           "TN",
           21
          ],
          [
           "TN",
           21
          ],
          [
           "TN",
           21
          ],
          [
           "TN",
           21
          ],
          [
           "TN",
           21
          ],
          [
           "TN",
           21
          ],
          [
           "TN",
           21
          ],
          [
           "TN",
           21
          ],
          [
           "TN",
           7
          ],
          [
           "TN",
           7
          ],
          [
           "TN",
           7
          ],
          [
           "TN",
           7
          ],
          [
           "TN",
           7
          ],
          [
           "TN",
           7
          ],
          [
           "TN",
           7
          ],
          [
           "TN",
           3
          ],
          [
           "TN",
           3
          ],
          [
           "TN",
           3
          ],
          [
           "TN",
           28
          ],
          [
           "TN",
           28
          ],
          [
           "TN",
           28
          ],
          [
           "TN",
           28
          ],
          [
           "TN",
           28
          ],
          [
           "TN",
           28
          ],
          [
           "TN",
           28
          ],
          [
           "TN",
           28
          ],
          [
           "TN",
           28
          ],
          [
           "TN",
           28
          ],
          [
           "TN",
           28
          ],
          [
           "TN",
           28
          ],
          [
           "TN",
           28
          ],
          [
           "TN",
           28
          ],
          [
           "TN",
           28
          ],
          [
           "TN",
           28
          ],
          [
           "TN",
           28
          ],
          [
           "TN",
           28
          ],
          [
           "TN",
           28
          ],
          [
           "TN",
           28
          ],
          [
           "TN",
           28
          ],
          [
           "TN",
           28
          ],
          [
           "TN",
           28
          ],
          [
           "TN",
           28
          ],
          [
           "TN",
           28
          ],
          [
           "TN",
           28
          ],
          [
           "TN",
           28
          ],
          [
           "TN",
           7
          ],
          [
           "TN",
           7
          ],
          [
           "TN",
           3
          ],
          [
           "TN",
           2
          ],
          [
           "TN",
           7
          ],
          [
           "TN",
           3
          ],
          [
           "TN",
           3
          ],
          [
           "TN",
           1
          ],
          [
           "TN",
           2
          ],
          [
           "TN",
           7
          ],
          [
           "TN",
           7
          ],
          [
           "TN",
           1
          ],
          [
           "TN",
           1
          ],
          [
           "TN",
           7
          ],
          [
           "TN",
           2
          ],
          [
           "TN",
           1
          ],
          [
           "TN",
           2
          ],
          [
           "TN",
           1
          ],
          [
           "TN",
           12
          ],
          [
           "TN",
           12
          ],
          [
           "TN",
           1
          ],
          [
           "TN",
           1
          ],
          [
           "TN",
           2
          ],
          [
           "TN",
           1
          ],
          [
           "TN",
           1
          ],
          [
           "TN",
           1
          ],
          [
           "TN",
           2
          ],
          [
           "TN",
           8
          ],
          [
           "VT",
           1
          ],
          [
           "VT",
           1
          ],
          [
           "VT",
           2
          ],
          [
           "VT",
           1
          ],
          [
           "VT",
           1
          ],
          [
           "VT",
           1
          ],
          [
           "VT",
           2
          ],
          [
           "VT",
           1
          ],
          [
           "VT",
           1
          ],
          [
           "VT",
           1
          ],
          [
           "VT",
           3
          ],
          [
           "VT",
           1
          ],
          [
           "VT",
           1
          ],
          [
           "VT",
           1
          ],
          [
           "VT",
           1
          ],
          [
           "VT",
           1
          ],
          [
           "VT",
           5
          ],
          [
           "VT",
           1
          ],
          [
           "VT",
           2
          ],
          [
           "VT",
           1
          ],
          [
           "VT",
           1
          ],
          [
           "VT",
           1
          ],
          [
           "VT",
           3
          ],
          [
           "VT",
           2
          ],
          [
           "VT",
           1
          ],
          [
           "VT",
           1
          ],
          [
           "VT",
           5
          ],
          [
           "VT",
           1
          ],
          [
           "VT",
           9
          ],
          [
           "ID",
           11
          ],
          [
           "ID",
           6
          ],
          [
           "ID",
           11
          ],
          [
           "ID",
           6
          ],
          [
           "ID",
           1
          ],
          [
           "ID",
           11
          ],
          [
           "ID",
           3
          ],
          [
           "ID",
           11
          ],
          [
           "ID",
           6
          ],
          [
           "ID",
           2
          ],
          [
           "ID",
           1
          ],
          [
           "ID",
           4
          ],
          [
           "ID",
           3
          ],
          [
           "ID",
           11
          ],
          [
           "ID",
           2
          ],
          [
           "ID",
           11
          ],
          [
           "ID",
           3
          ],
          [
           "ID",
           2
          ],
          [
           "ID",
           1
          ],
          [
           "ID",
           1
          ],
          [
           "ID",
           1
          ],
          [
           "ID",
           11
          ],
          [
           "ID",
           1
          ],
          [
           "ID",
           3
          ],
          [
           "ID",
           1
          ],
          [
           "ID",
           3
          ],
          [
           "ID",
           2
          ],
          [
           "ID",
           2
          ],
          [
           "ID",
           3
          ],
          [
           "ID",
           4
          ],
          [
           "ID",
           11
          ],
          [
           "ID",
           3
          ],
          [
           "ID",
           3
          ],
          [
           "ID",
           6
          ],
          [
           "ID",
           2
          ],
          [
           "ID",
           3
          ],
          [
           "ID",
           3
          ],
          [
           "ID",
           3
          ],
          [
           "ID",
           3
          ],
          [
           "ID",
           3
          ],
          [
           "ID",
           2
          ],
          [
           "ID",
           3
          ],
          [
           "ID",
           4
          ],
          [
           "ID",
           2
          ],
          [
           "ID",
           11
          ],
          [
           "ID",
           1
          ],
          [
           "ID",
           1
          ],
          [
           "ID",
           4
          ],
          [
           "ID",
           1
          ],
          [
           "ID",
           2
          ],
          [
           "ID",
           3
          ],
          [
           "ID",
           6
          ],
          [
           "ID",
           11
          ],
          [
           "ID",
           2
          ],
          [
           "ID",
           1
          ],
          [
           "ID",
           11
          ],
          [
           "IN",
           1
          ],
          [
           "IN",
           6
          ],
          [
           "IN",
           31
          ],
          [
           "IN",
           8
          ],
          [
           "IN",
           1
          ],
          [
           "IN",
           2
          ],
          [
           "IN",
           10
          ],
          [
           "IN",
           3
          ],
          [
           "IN",
           10
          ],
          [
           "IN",
           1
          ],
          [
           "IN",
           2
          ],
          [
           "IN",
           2
          ],
          [
           "IN",
           2
          ],
          [
           "IN",
           10
          ],
          [
           "IN",
           1
          ],
          [
           "IN",
           1
          ],
          [
           "IN",
           2
          ],
          [
           "IN",
           2
          ],
          [
           "IN",
           1
          ],
          [
           "IN",
           1
          ],
          [
           "IN",
           1
          ],
          [
           "IN",
           1
          ],
          [
           "IN",
           10
          ],
          [
           "IN",
           2
          ],
          [
           "IN",
           6
          ],
          [
           "IN",
           3
          ],
          [
           "IN",
           1
          ],
          [
           "IN",
           1
          ],
          [
           "IN",
           10
          ],
          [
           "IN",
           1
          ],
          [
           "IN",
           31
          ],
          [
           "IN",
           1
          ],
          [
           "IN",
           10
          ],
          [
           "IN",
           6
          ],
          [
           "IN",
           6
          ],
          [
           "IN",
           6
          ],
          [
           "IN",
           1
          ],
          [
           "IN",
           1
          ],
          [
           "IN",
           10
          ],
          [
           "IN",
           2
          ],
          [
           "IN",
           2
          ],
          [
           "IN",
           22
          ],
          [
           "IN",
           3
          ],
          [
           "IN",
           2
          ],
          [
           "IN",
           6
          ],
          [
           "IN",
           2
          ],
          [
           "IN",
           28
          ],
          [
           "IN",
           10
          ],
          [
           "IN",
           2
          ],
          [
           "IN",
           2
          ],
          [
           "IN",
           2
          ],
          [
           "IN",
           3
          ],
          [
           "IN",
           2
          ],
          [
           "IN",
           6
          ],
          [
           "IN",
           10
          ],
          [
           "IN",
           1
          ],
          [
           "IN",
           1
          ],
          [
           "IN",
           6
          ],
          [
           "IN",
           1
          ],
          [
           "IN",
           1
          ],
          [
           "IN",
           6
          ],
          [
           "IN",
           10
          ],
          [
           "IN",
           3
          ],
          [
           "IN",
           3
          ],
          [
           "IN",
           3
          ],
          [
           "IN",
           3
          ],
          [
           "IN",
           1
          ],
          [
           "IN",
           31
          ],
          [
           "ME",
           5
          ],
          [
           "ME",
           24
          ],
          [
           "ME",
           23
          ],
          [
           "ME",
           2
          ],
          [
           "ME",
           1
          ],
          [
           "ME",
           23
          ],
          [
           "ME",
           1
          ],
          [
           "ME",
           24
          ],
          [
           "ME",
           5
          ],
          [
           "ME",
           1
          ],
          [
           "ME",
           1
          ],
          [
           "ME",
           1
          ],
          [
           "ME",
           1
          ],
          [
           "ME",
           23
          ],
          [
           "ME",
           2
          ],
          [
           "ME",
           2
          ],
          [
           "ME",
           1
          ],
          [
           "ME",
           1
          ],
          [
           "ME",
           23
          ],
          [
           "ME",
           3
          ],
          [
           "ME",
           4
          ],
          [
           "ME",
           2
          ],
          [
           "ME",
           1
          ],
          [
           "ME",
           1
          ],
          [
           "ME",
           3
          ],
          [
           "ME",
           23
          ],
          [
           "ME",
           1
          ],
          [
           "ME",
           23
          ],
          [
           "ME",
           1
          ],
          [
           "ME",
           3
          ],
          [
           "ME",
           23
          ],
          [
           "ME",
           1
          ],
          [
           "ME",
           23
          ],
          [
           "ME",
           1
          ],
          [
           "ME",
           4
          ],
          [
           "ME",
           2
          ],
          [
           "ME",
           1
          ],
          [
           "ME",
           1
          ],
          [
           "ME",
           3
          ],
          [
           "ME",
           3
          ],
          [
           "ME",
           23
          ],
          [
           "ME",
           5
          ],
          [
           "ME",
           1
          ],
          [
           "ME",
           1
          ],
          [
           "ME",
           5
          ],
          [
           "ME",
           1
          ],
          [
           "ME",
           1
          ],
          [
           "ME",
           23
          ],
          [
           "ME",
           1
          ],
          [
           "ME",
           3
          ],
          [
           "ME",
           3
          ],
          [
           "ME",
           2
          ],
          [
           "ME",
           1
          ],
          [
           "ME",
           3
          ],
          [
           "ME",
           1
          ],
          [
           "ME",
           1
          ],
          [
           "ME",
           3
          ],
          [
           "ME",
           24
          ],
          [
           "ME",
           23
          ],
          [
           "ME",
           8
          ],
          [
           "ME",
           1
          ],
          [
           "ME",
           1
          ],
          [
           "ME",
           3
          ],
          [
           "ME",
           2
          ],
          [
           "ME",
           3
          ],
          [
           "ME",
           24
          ],
          [
           "ME",
           2
          ],
          [
           "ME",
           2
          ],
          [
           "ME",
           4
          ],
          [
           "ME",
           1
          ],
          [
           "ME",
           1
          ],
          [
           "ME",
           1
          ],
          [
           "ME",
           1
          ],
          [
           "ME",
           1
          ],
          [
           "ME",
           1
          ],
          [
           "ME",
           1
          ],
          [
           "ME",
           3
          ],
          [
           "ME",
           1
          ],
          [
           "ME",
           1
          ],
          [
           "ME",
           23
          ],
          [
           "ME",
           1
          ],
          [
           "ME",
           23
          ],
          [
           "ME",
           1
          ],
          [
           "ME",
           1
          ],
          [
           "ME",
           5
          ],
          [
           "ME",
           24
          ],
          [
           "ME",
           23
          ],
          [
           "ME",
           8
          ],
          [
           "ME",
           3
          ],
          [
           "ME",
           1
          ],
          [
           "ME",
           1
          ],
          [
           "ME",
           1
          ],
          [
           "ME",
           1
          ],
          [
           "ME",
           2
          ],
          [
           "ME",
           1
          ],
          [
           "ME",
           1
          ],
          [
           "ME",
           23
          ],
          [
           "ME",
           2
          ],
          [
           "ME",
           2
          ],
          [
           "ME",
           2
          ],
          [
           "ME",
           1
          ],
          [
           "OR",
           12
          ],
          [
           "OR",
           10
          ],
          [
           "OR",
           1
          ],
          [
           "OR",
           1
          ],
          [
           "OR",
           1
          ],
          [
           "OR",
           1
          ],
          [
           "OR",
           3
          ],
          [
           "OR",
           23
          ],
          [
           "OR",
           3
          ],
          [
           "OR",
           1
          ],
          [
           "OR",
           23
          ],
          [
           "OR",
           6
          ],
          [
           "OR",
           10
          ],
          [
           "OR",
           10
          ],
          [
           "OR",
           1
          ],
          [
           "OR",
           3
          ],
          [
           "OR",
           1
          ],
          [
           "OR",
           10
          ],
          [
           "OR",
           10
          ],
          [
           "OR",
           1
          ],
          [
           "OR",
           3
          ],
          [
           "OR",
           3
          ],
          [
           "OR",
           4
          ],
          [
           "OR",
           23
          ],
          [
           "OR",
           10
          ],
          [
           "OR",
           23
          ],
          [
           "OR",
           1
          ],
          [
           "OR",
           3
          ],
          [
           "OR",
           1
          ],
          [
           "OR",
           10
          ],
          [
           "OR",
           10
          ],
          [
           "OR",
           23
          ],
          [
           "OR",
           1
          ],
          [
           "OR",
           1
          ],
          [
           "OR",
           3
          ],
          [
           "OR",
           9
          ],
          [
           "OR",
           23
          ],
          [
           "OR",
           1
          ],
          [
           "OR",
           7
          ],
          [
           "OR",
           10
          ],
          [
           "OR",
           1
          ],
          [
           "OR",
           23
          ],
          [
           "OR",
           10
          ],
          [
           "OR",
           23
          ],
          [
           "OR",
           1
          ],
          [
           "OR",
           3
          ],
          [
           "OR",
           1
          ],
          [
           "PA",
           7
          ],
          [
           "PA",
           7
          ],
          [
           "PA",
           7
          ],
          [
           "PA",
           7
          ],
          [
           "PA",
           5
          ],
          [
           "PA",
           7
          ],
          [
           "PA",
           1
          ],
          [
           "PA",
           7
          ],
          [
           "PA",
           1
          ],
          [
           "PA",
           1
          ],
          [
           "PA",
           2
          ],
          [
           "PA",
           1
          ],
          [
           "PA",
           2
          ],
          [
           "PA",
           2
          ],
          [
           "PA",
           1
          ],
          [
           "PA",
           3
          ],
          [
           "PA",
           7
          ],
          [
           "PA",
           1
          ],
          [
           "PA",
           1
          ],
          [
           "PA",
           1
          ],
          [
           "PA",
           24
          ],
          [
           "PA",
           6
          ],
          [
           "PA",
           1
          ],
          [
           "PA",
           6
          ],
          [
           "PA",
           6
          ],
          [
           "PA",
           6
          ],
          [
           "PA",
           6
          ],
          [
           "PA",
           6
          ],
          [
           "PA",
           2
          ],
          [
           "PA",
           1
          ],
          [
           "PA",
           2
          ],
          [
           "PA",
           1
          ],
          [
           "NY",
           1
          ],
          [
           "NY",
           1
          ],
          [
           "NY",
           1
          ],
          [
           "NY",
           2
          ],
          [
           "NY",
           4
          ],
          [
           "NY",
           10
          ],
          [
           "NY",
           1
          ],
          [
           "NY",
           1
          ],
          [
           "NY",
           2
          ],
          [
           "NY",
           2
          ],
          [
           "NY",
           1
          ],
          [
           "NY",
           7
          ],
          [
           "NY",
           1
          ],
          [
           "NY",
           10
          ],
          [
           "NY",
           1
          ],
          [
           "NY",
           10
          ],
          [
           "NY",
           1
          ],
          [
           "NY",
           2
          ],
          [
           "NY",
           1
          ],
          [
           "NY",
           1
          ],
          [
           "NY",
           11
          ],
          [
           "NY",
           1
          ],
          [
           "NY",
           11
          ],
          [
           "NY",
           2
          ],
          [
           "NY",
           1
          ],
          [
           "NY",
           10
          ],
          [
           "NY",
           3
          ],
          [
           "NY",
           10
          ],
          [
           "NY",
           11
          ],
          [
           "NY",
           1
          ],
          [
           "NY",
           2
          ],
          [
           "NY",
           7
          ],
          [
           "NY",
           1
          ],
          [
           "NY",
           1
          ],
          [
           "NY",
           1
          ],
          [
           "NY",
           1
          ],
          [
           "NY",
           11
          ],
          [
           "NY",
           3
          ],
          [
           "NY",
           2
          ],
          [
           "NY",
           1
          ],
          [
           "NY",
           10
          ],
          [
           "NY",
           4
          ],
          [
           "NY",
           2
          ],
          [
           "NY",
           1
          ],
          [
           "NY",
           4
          ],
          [
           "NY",
           1
          ],
          [
           "NY",
           1
          ],
          [
           "NY",
           1
          ],
          [
           "NY",
           10
          ],
          [
           "NY",
           2
          ],
          [
           "NY",
           2
          ],
          [
           "NY",
           10
          ],
          [
           "NY",
           4
          ],
          [
           "NY",
           11
          ],
          [
           "NY",
           1
          ],
          [
           "NY",
           3
          ],
          [
           "NY",
           1
          ],
          [
           "NY",
           1
          ],
          [
           "NY",
           2
          ],
          [
           "NY",
           4
          ],
          [
           "NY",
           2
          ],
          [
           "NY",
           11
          ],
          [
           "NY",
           2
          ],
          [
           "NY",
           4
          ],
          [
           "NY",
           1
          ],
          [
           "NY",
           2
          ],
          [
           "NY",
           1
          ],
          [
           "TX",
           8
          ],
          [
           "TX",
           5
          ],
          [
           "TX",
           15
          ],
          [
           "TX",
           15
          ],
          [
           "TX",
           15
          ],
          [
           "TX",
           8
          ],
          [
           "TX",
           2
          ],
          [
           "TX",
           1
          ],
          [
           "TX",
           1
          ],
          [
           "TX",
           1
          ],
          [
           "TX",
           2
          ],
          [
           "TX",
           15
          ],
          [
           "TX",
           6
          ],
          [
           "TX",
           8
          ],
          [
           "TX",
           1
          ],
          [
           "TX",
           1
          ],
          [
           "TX",
           6
          ],
          [
           "TX",
           1
          ],
          [
           "TX",
           6
          ],
          [
           "TX",
           2
          ],
          [
           "TX",
           8
          ],
          [
           "TX",
           1
          ],
          [
           "TX",
           5
          ],
          [
           "TX",
           15
          ],
          [
           "TX",
           6
          ],
          [
           "TX",
           3
          ],
          [
           "TX",
           1
          ],
          [
           "TX",
           8
          ],
          [
           "TX",
           15
          ],
          [
           "TX",
           15
          ],
          [
           "TX",
           2
          ],
          [
           "TX",
           15
          ],
          [
           "TX",
           8
          ],
          [
           "TX",
           6
          ],
          [
           "TX",
           5
          ],
          [
           "TX",
           2
          ],
          [
           "TX",
           15
          ],
          [
           "TX",
           1
          ],
          [
           "TX",
           3
          ],
          [
           "TX",
           15
          ],
          [
           "TX",
           1
          ],
          [
           "TX",
           3
          ],
          [
           "TX",
           1
          ],
          [
           "TX",
           1
          ],
          [
           "TX",
           15
          ],
          [
           "TX",
           6
          ],
          [
           "TX",
           3
          ],
          [
           "TX",
           5
          ],
          [
           "TX",
           1
          ],
          [
           "TX",
           1
          ],
          [
           "TX",
           15
          ],
          [
           "TX",
           8
          ],
          [
           "TX",
           1
          ],
          [
           "TX",
           5
          ],
          [
           "TX",
           2
          ],
          [
           "TX",
           1
          ],
          [
           "TX",
           2
          ],
          [
           "TX",
           3
          ],
          [
           "TX",
           22
          ],
          [
           "TX",
           15
          ],
          [
           "TX",
           2
          ],
          [
           "TX",
           1
          ],
          [
           "TX",
           8
          ],
          [
           "FL",
           7
          ],
          [
           "FL",
           1
          ],
          [
           "FL",
           3
          ],
          [
           "FL",
           1
          ],
          [
           "FL",
           2
          ],
          [
           "FL",
           12
          ],
          [
           "FL",
           9
          ],
          [
           "FL",
           6
          ],
          [
           "FL",
           3
          ],
          [
           "FL",
           2
          ],
          [
           "FL",
           12
          ],
          [
           "FL",
           9
          ],
          [
           "FL",
           2
          ],
          [
           "FL",
           2
          ],
          [
           "FL",
           1
          ],
          [
           "FL",
           2
          ],
          [
           "FL",
           3
          ],
          [
           "FL",
           1
          ],
          [
           "FL",
           1
          ],
          [
           "FL",
           1
          ],
          [
           "FL",
           1
          ],
          [
           "FL",
           2
          ],
          [
           "FL",
           9
          ],
          [
           "FL",
           3
          ],
          [
           "FL",
           12
          ],
          [
           "FL",
           1
          ],
          [
           "FL",
           7
          ],
          [
           "FL",
           3
          ],
          [
           "FL",
           8
          ],
          [
           "FL",
           1
          ],
          [
           "FL",
           3
          ],
          [
           "FL",
           7
          ],
          [
           "FL",
           3
          ],
          [
           "FL",
           1
          ],
          [
           "FL",
           2
          ],
          [
           "FL",
           1
          ],
          [
           "FL",
           2
          ],
          [
           "FL",
           12
          ],
          [
           "FL",
           1
          ],
          [
           "FL",
           2
          ],
          [
           "FL",
           4
          ],
          [
           "FL",
           1
          ],
          [
           "FL",
           2
          ],
          [
           "FL",
           12
          ],
          [
           "FL",
           1
          ],
          [
           "FL",
           1
          ],
          [
           "FL",
           1
          ],
          [
           "FL",
           7
          ],
          [
           "FL",
           3
          ],
          [
           "FL",
           7
          ],
          [
           "FL",
           8
          ],
          [
           "FL",
           2
          ],
          [
           "FL",
           7
          ],
          [
           "FL",
           1
          ],
          [
           "FL",
           2
          ],
          [
           "FL",
           1
          ],
          [
           "FL",
           1
          ],
          [
           "FL",
           6
          ],
          [
           "FL",
           1
          ],
          [
           "FL",
           1
          ],
          [
           "FL",
           1
          ],
          [
           "FL",
           3
          ],
          [
           "FL",
           1
          ],
          [
           "FL",
           7
          ],
          [
           "FL",
           7
          ],
          [
           "FL",
           2
          ],
          [
           "FL",
           7
          ],
          [
           "FL",
           3
          ],
          [
           "FL",
           11
          ],
          [
           "FL",
           1
          ],
          [
           "FL",
           2
          ],
          [
           "FL",
           3
          ],
          [
           "FL",
           2
          ],
          [
           "FL",
           1
          ],
          [
           "FL",
           9
          ],
          [
           "FL",
           2
          ],
          [
           "FL",
           1
          ],
          [
           "FL",
           2
          ],
          [
           "FL",
           9
          ],
          [
           "FL",
           1
          ],
          [
           "FL",
           4
          ],
          [
           "FL",
           3
          ],
          [
           "FL",
           1
          ],
          [
           "FL",
           3
          ],
          [
           "FL",
           1
          ],
          [
           "FL",
           7
          ],
          [
           "FL",
           12
          ],
          [
           "FL",
           3
          ],
          [
           "FL",
           3
          ],
          [
           "FL",
           1
          ],
          [
           "FL",
           1
          ],
          [
           "FL",
           1
          ],
          [
           "FL",
           1
          ],
          [
           "FL",
           1
          ],
          [
           "FL",
           7
          ],
          [
           "FL",
           3
          ],
          [
           "FL",
           1
          ],
          [
           "FL",
           3
          ],
          [
           "FL",
           1
          ],
          [
           "FL",
           2
          ],
          [
           "FL",
           8
          ],
          [
           "FL",
           3
          ],
          [
           "FL",
           1
          ],
          [
           "FL",
           8
          ],
          [
           "FL",
           1
          ],
          [
           "FL",
           1
          ],
          [
           "FL",
           1
          ],
          [
           "FL",
           2
          ],
          [
           "FL",
           1
          ],
          [
           "FL",
           1
          ],
          [
           "FL",
           1
          ],
          [
           "FL",
           3
          ],
          [
           "FL",
           7
          ],
          [
           "FL",
           1
          ],
          [
           "FL",
           3
          ],
          [
           "FL",
           1
          ],
          [
           "FL",
           2
          ],
          [
           "FL",
           1
          ],
          [
           "FL",
           1
          ],
          [
           "FL",
           8
          ],
          [
           "FL",
           3
          ],
          [
           "FL",
           3
          ],
          [
           "FL",
           9
          ],
          [
           "FL",
           8
          ],
          [
           "FL",
           1
          ],
          [
           "FL",
           2
          ],
          [
           "FL",
           1
          ],
          [
           "FL",
           3
          ],
          [
           "FL",
           1
          ],
          [
           "FL",
           9
          ],
          [
           "FL",
           8
          ],
          [
           "FL",
           12
          ],
          [
           "FL",
           12
          ],
          [
           "FL",
           7
          ],
          [
           "FL",
           12
          ],
          [
           "FL",
           12
          ],
          [
           "FL",
           4
          ],
          [
           "FL",
           1
          ],
          [
           "FL",
           1
          ],
          [
           "FL",
           1
          ],
          [
           "FL",
           1
          ],
          [
           "FL",
           1
          ],
          [
           "FL",
           3
          ],
          [
           "FL",
           6
          ],
          [
           "FL",
           12
          ],
          [
           "FL",
           2
          ],
          [
           "FL",
           7
          ],
          [
           "FL",
           9
          ],
          [
           "FL",
           3
          ],
          [
           "FL",
           3
          ],
          [
           "FL",
           9
          ],
          [
           "FL",
           2
          ],
          [
           "FL",
           4
          ],
          [
           "FL",
           1
          ],
          [
           "FL",
           12
          ],
          [
           "FL",
           3
          ],
          [
           "GA",
           1
          ],
          [
           "GA",
           1
          ],
          [
           "GA",
           4
          ],
          [
           "GA",
           2
          ],
          [
           "GA",
           1
          ],
          [
           "GA",
           4
          ],
          [
           "GA",
           1
          ],
          [
           "GA",
           6
          ],
          [
           "GA",
           2
          ],
          [
           "GA",
           1
          ],
          [
           "GA",
           11
          ],
          [
           "GA",
           2
          ],
          [
           "GA",
           1
          ],
          [
           "GA",
           1
          ],
          [
           "GA",
           2
          ],
          [
           "GA",
           2
          ],
          [
           "GA",
           4
          ],
          [
           "GA",
           2
          ],
          [
           "GA",
           6
          ],
          [
           "GA",
           1
          ],
          [
           "GA",
           2
          ],
          [
           "GA",
           11
          ],
          [
           "GA",
           11
          ],
          [
           "GA",
           4
          ],
          [
           "GA",
           10
          ],
          [
           "GA",
           11
          ],
          [
           "GA",
           1
          ],
          [
           "GA",
           2
          ],
          [
           "GA",
           11
          ],
          [
           "GA",
           2
          ],
          [
           "GA",
           11
          ],
          [
           "GA",
           4
          ],
          [
           "GA",
           2
          ],
          [
           "GA",
           3
          ],
          [
           "GA",
           11
          ],
          [
           "GA",
           4
          ],
          [
           "GA",
           3
          ],
          [
           "GA",
           11
          ],
          [
           "GA",
           4
          ],
          [
           "GA",
           4
          ],
          [
           "GA",
           1
          ],
          [
           "GA",
           4
          ],
          [
           "GA",
           6
          ],
          [
           "GA",
           11
          ],
          [
           "GA",
           6
          ],
          [
           "GA",
           31
          ],
          [
           "GA",
           4
          ],
          [
           "GA",
           11
          ],
          [
           "GA",
           4
          ],
          [
           "GA",
           1
          ],
          [
           "GA",
           1
          ],
          [
           "GA",
           11
          ],
          [
           "HI",
           1
          ],
          [
           "HI",
           1
          ],
          [
           "HI",
           1
          ],
          [
           "HI",
           1
          ],
          [
           "HI",
           1
          ],
          [
           "HI",
           1
          ],
          [
           "HI",
           1
          ],
          [
           "HI",
           1
          ],
          [
           "HI",
           3
          ],
          [
           "HI",
           1
          ],
          [
           "HI",
           1
          ],
          [
           "HI",
           1
          ],
          [
           "HI",
           3
          ],
          [
           "HI",
           3
          ],
          [
           "IL",
           5
          ],
          [
           "IL",
           1
          ],
          [
           "IL",
           3
          ],
          [
           "IL",
           1
          ],
          [
           "IL",
           13
          ],
          [
           "IL",
           1
          ],
          [
           "IL",
           1
          ],
          [
           "IL",
           3
          ],
          [
           "IL",
           13
          ],
          [
           "IL",
           4
          ],
          [
           "IL",
           20
          ],
          [
           "IL",
           3
          ],
          [
           "IL",
           2
          ],
          [
           "IL",
           3
          ],
          [
           "IL",
           2
          ],
          [
           "IL",
           1
          ],
          [
           "IL",
           1
          ],
          [
           "IL",
           1
          ],
          [
           "IL",
           20
          ],
          [
           "IL",
           1
          ],
          [
           "IL",
           1
          ],
          [
           "IL",
           1
          ],
          [
           "IL",
           1
          ],
          [
           "IL",
           2
          ],
          [
           "IL",
           1
          ],
          [
           "IL",
           1
          ],
          [
           "IL",
           1
          ],
          [
           "IL",
           1
          ],
          [
           "IL",
           1
          ],
          [
           "IL",
           20
          ],
          [
           "IL",
           9
          ],
          [
           "IL",
           1
          ],
          [
           "IL",
           2
          ],
          [
           "IL",
           2
          ],
          [
           "IL",
           20
          ],
          [
           "IL",
           1
          ],
          [
           "IL",
           3
          ],
          [
           "IL",
           3
          ],
          [
           "IL",
           13
          ],
          [
           "IL",
           3
          ],
          [
           "IL",
           20
          ],
          [
           "IL",
           1
          ],
          [
           "IL",
           20
          ],
          [
           "IL",
           1
          ],
          [
           "IL",
           2
          ],
          [
           "IL",
           1
          ],
          [
           "IL",
           1
          ],
          [
           "IL",
           1
          ],
          [
           "IL",
           1
          ],
          [
           "IL",
           3
          ],
          [
           "IL",
           1
          ],
          [
           "IL",
           1
          ],
          [
           "IL",
           1
          ],
          [
           "IL",
           1
          ],
          [
           "IL",
           1
          ],
          [
           "IL",
           13
          ],
          [
           "IL",
           1
          ],
          [
           "IL",
           1
          ],
          [
           "IL",
           1
          ],
          [
           "IL",
           1
          ],
          [
           "IL",
           5
          ],
          [
           "IL",
           1
          ],
          [
           "IL",
           2
          ],
          [
           "IL",
           1
          ],
          [
           "IL",
           2
          ],
          [
           "IL",
           3
          ],
          [
           "IL",
           1
          ],
          [
           "IL",
           1
          ],
          [
           "IL",
           3
          ],
          [
           "IL",
           1
          ],
          [
           "IL",
           1
          ],
          [
           "IL",
           1
          ],
          [
           "IL",
           1
          ],
          [
           "IL",
           1
          ],
          [
           "IL",
           4
          ],
          [
           "IL",
           2
          ],
          [
           "IL",
           13
          ],
          [
           "IL",
           2
          ],
          [
           "IL",
           1
          ],
          [
           "IL",
           20
          ],
          [
           "IL",
           2
          ],
          [
           "IL",
           1
          ],
          [
           "IL",
           20
          ],
          [
           "IL",
           2
          ],
          [
           "IL",
           20
          ],
          [
           "IL",
           5
          ],
          [
           "IL",
           2
          ],
          [
           "IL",
           1
          ],
          [
           "IL",
           2
          ],
          [
           "IL",
           1
          ],
          [
           "IL",
           1
          ],
          [
           "IL",
           2
          ],
          [
           "IL",
           1
          ],
          [
           "IL",
           2
          ],
          [
           "IL",
           2
          ],
          [
           "IL",
           1
          ],
          [
           "IL",
           1
          ],
          [
           "IL",
           20
          ],
          [
           "IL",
           2
          ],
          [
           "IL",
           1
          ],
          [
           "IL",
           1
          ],
          [
           "IL",
           2
          ],
          [
           "IL",
           2
          ],
          [
           "IL",
           1
          ],
          [
           "IL",
           1
          ],
          [
           "IL",
           1
          ],
          [
           "IL",
           1
          ],
          [
           "IL",
           1
          ],
          [
           "IL",
           2
          ],
          [
           "IL",
           13
          ],
          [
           "IL",
           1
          ],
          [
           "IL",
           1
          ],
          [
           "IL",
           13
          ],
          [
           "IL",
           13
          ],
          [
           "IL",
           20
          ],
          [
           "IL",
           1
          ],
          [
           "IL",
           1
          ],
          [
           "IL",
           1
          ],
          [
           "IL",
           1
          ],
          [
           "IL",
           13
          ],
          [
           "IL",
           2
          ],
          [
           "IL",
           2
          ],
          [
           "IL",
           1
          ],
          [
           "IL",
           4
          ],
          [
           "IL",
           1
          ],
          [
           "IL",
           1
          ],
          [
           "IL",
           13
          ],
          [
           "IL",
           1
          ],
          [
           "IL",
           1
          ],
          [
           "IL",
           20
          ],
          [
           "IL",
           1
          ],
          [
           "IL",
           2
          ],
          [
           "IL",
           1
          ],
          [
           "IL",
           20
          ],
          [
           "IL",
           1
          ],
          [
           "IL",
           20
          ],
          [
           "IL",
           1
          ],
          [
           "IL",
           2
          ],
          [
           "IL",
           1
          ],
          [
           "IL",
           3
          ],
          [
           "IL",
           1
          ],
          [
           "IL",
           20
          ],
          [
           "IL",
           20
          ],
          [
           "IL",
           13
          ],
          [
           "IL",
           1
          ],
          [
           "IL",
           2
          ],
          [
           "IL",
           1
          ],
          [
           "IL",
           1
          ],
          [
           "IL",
           1
          ],
          [
           "IL",
           1
          ],
          [
           "IL",
           1
          ],
          [
           "IL",
           5
          ],
          [
           "IL",
           1
          ],
          [
           "IL",
           1
          ],
          [
           "IL",
           3
          ],
          [
           "IL",
           1
          ],
          [
           "IL",
           13
          ],
          [
           "IL",
           20
          ],
          [
           "IL",
           1
          ],
          [
           "IL",
           2
          ],
          [
           "IL",
           1
          ],
          [
           "IL",
           1
          ],
          [
           "IL",
           2
          ],
          [
           "IL",
           1
          ],
          [
           "IL",
           1
          ],
          [
           "IL",
           2
          ],
          [
           "IL",
           4
          ],
          [
           "IL",
           1
          ],
          [
           "IL",
           3
          ],
          [
           "IL",
           1
          ],
          [
           "IL",
           3
          ],
          [
           "IL",
           1
          ],
          [
           "IL",
           1
          ],
          [
           "IL",
           3
          ],
          [
           "IL",
           2
          ],
          [
           "IL",
           5
          ],
          [
           "IL",
           2
          ],
          [
           "IL",
           1
          ],
          [
           "IL",
           2
          ],
          [
           "IL",
           1
          ],
          [
           "IL",
           1
          ],
          [
           "IL",
           1
          ],
          [
           "IL",
           1
          ],
          [
           "IL",
           20
          ],
          [
           "IL",
           2
          ],
          [
           "IL",
           20
          ],
          [
           "IL",
           2
          ],
          [
           "IL",
           1
          ],
          [
           "IL",
           2
          ],
          [
           "IL",
           20
          ],
          [
           "IL",
           1
          ],
          [
           "IL",
           1
          ],
          [
           "IL",
           13
          ],
          [
           "IL",
           2
          ],
          [
           "IL",
           2
          ],
          [
           "IL",
           1
          ],
          [
           "IL",
           2
          ],
          [
           "KS",
           1
          ],
          [
           "KS",
           6
          ],
          [
           "KS",
           8
          ],
          [
           "KS",
           5
          ],
          [
           "KS",
           1
          ],
          [
           "KS",
           6
          ],
          [
           "KS",
           5
          ],
          [
           "KS",
           1
          ],
          [
           "KS",
           1
          ],
          [
           "KS",
           1
          ],
          [
           "KS",
           1
          ],
          [
           "KS",
           8
          ],
          [
           "KS",
           2
          ],
          [
           "KS",
           1
          ],
          [
           "KS",
           1
          ],
          [
           "KS",
           3
          ],
          [
           "KS",
           6
          ],
          [
           "KS",
           6
          ],
          [
           "KS",
           1
          ],
          [
           "KS",
           6
          ],
          [
           "KS",
           1
          ],
          [
           "KS",
           5
          ],
          [
           "KS",
           8
          ],
          [
           "KS",
           5
          ],
          [
           "KS",
           2
          ],
          [
           "KS",
           3
          ],
          [
           "KS",
           2
          ],
          [
           "KS",
           6
          ],
          [
           "KS",
           8
          ],
          [
           "KS",
           2
          ],
          [
           "KS",
           2
          ],
          [
           "KS",
           2
          ],
          [
           "KS",
           2
          ],
          [
           "KS",
           5
          ],
          [
           "KS",
           8
          ],
          [
           "KS",
           1
          ],
          [
           "KS",
           1
          ],
          [
           "KS",
           3
          ],
          [
           "KS",
           1
          ],
          [
           "KS",
           1
          ],
          [
           "KS",
           8
          ],
          [
           "KS",
           1
          ],
          [
           "KS",
           1
          ],
          [
           "KS",
           3
          ],
          [
           "KS",
           2
          ],
          [
           "KS",
           8
          ],
          [
           "KS",
           1
          ],
          [
           "KS",
           3
          ],
          [
           "KS",
           1
          ],
          [
           "KS",
           1
          ],
          [
           "KS",
           8
          ],
          [
           "KS",
           6
          ],
          [
           "LA",
           2
          ],
          [
           "LA",
           16
          ],
          [
           "LA",
           1
          ],
          [
           "LA",
           16
          ],
          [
           "LA",
           1
          ],
          [
           "LA",
           1
          ],
          [
           "LA",
           2
          ],
          [
           "LA",
           16
          ],
          [
           "LA",
           16
          ],
          [
           "LA",
           1
          ],
          [
           "LA",
           16
          ],
          [
           "LA",
           1
          ],
          [
           "LA",
           4
          ],
          [
           "LA",
           1
          ],
          [
           "LA",
           2
          ],
          [
           "LA",
           16
          ],
          [
           "LA",
           2
          ],
          [
           "LA",
           6
          ],
          [
           "LA",
           16
          ],
          [
           "LA",
           1
          ],
          [
           "LA",
           16
          ],
          [
           "LA",
           16
          ],
          [
           "LA",
           2
          ],
          [
           "LA",
           1
          ],
          [
           "LA",
           1
          ],
          [
           "LA",
           16
          ],
          [
           "LA",
           16
          ],
          [
           "LA",
           16
          ],
          [
           "LA",
           3
          ],
          [
           "LA",
           2
          ],
          [
           "LA",
           16
          ],
          [
           "LA",
           16
          ],
          [
           "LA",
           3
          ],
          [
           "LA",
           1
          ],
          [
           "LA",
           3
          ],
          [
           "LA",
           6
          ],
          [
           "LA",
           16
          ],
          [
           "LA",
           1
          ],
          [
           "LA",
           16
          ],
          [
           "MD",
           1
          ],
          [
           "MD",
           2
          ],
          [
           "MD",
           2
          ],
          [
           "MD",
           2
          ],
          [
           "MD",
           2
          ],
          [
           "MD",
           10
          ],
          [
           "MD",
           2
          ],
          [
           "MD",
           1
          ],
          [
           "MD",
           2
          ],
          [
           "MD",
           1
          ],
          [
           "MD",
           12
          ],
          [
           "MD",
           1
          ],
          [
           "MD",
           2
          ],
          [
           "MD",
           1
          ],
          [
           "MD",
           10
          ],
          [
           "MD",
           13
          ],
          [
           "MD",
           1
          ],
          [
           "MD",
           1
          ],
          [
           "MD",
           2
          ],
          [
           "MD",
           2
          ],
          [
           "MD",
           13
          ],
          [
           "MD",
           1
          ],
          [
           "MD",
           1
          ],
          [
           "MD",
           1
          ],
          [
           "MD",
           3
          ],
          [
           "MD",
           1
          ],
          [
           "MD",
           13
          ],
          [
           "MD",
           13
          ],
          [
           "MD",
           2
          ],
          [
           "MD",
           1
          ],
          [
           "MD",
           1
          ],
          [
           "MD",
           1
          ],
          [
           "MD",
           1
          ],
          [
           "MD",
           2
          ],
          [
           "MD",
           2
          ],
          [
           "MD",
           1
          ],
          [
           "MD",
           10
          ],
          [
           "MD",
           1
          ],
          [
           "MD",
           1
          ],
          [
           "MD",
           2
          ],
          [
           "MD",
           3
          ],
          [
           "MD",
           13
          ],
          [
           "MD",
           1
          ],
          [
           "MD",
           2
          ],
          [
           "MD",
           1
          ],
          [
           "MD",
           2
          ],
          [
           "MD",
           1
          ],
          [
           "MD",
           12
          ],
          [
           "MD",
           10
          ],
          [
           "MD",
           2
          ],
          [
           "MD",
           1
          ],
          [
           "MD",
           2
          ],
          [
           "MD",
           3
          ],
          [
           "MD",
           10
          ],
          [
           "MD",
           1
          ],
          [
           "MD",
           1
          ],
          [
           "MD",
           2
          ],
          [
           "MD",
           2
          ],
          [
           "MD",
           2
          ],
          [
           "MD",
           10
          ],
          [
           "MD",
           3
          ],
          [
           "MD",
           10
          ],
          [
           "MD",
           13
          ],
          [
           "MD",
           1
          ],
          [
           "MD",
           3
          ],
          [
           "MD",
           13
          ],
          [
           "MD",
           10
          ],
          [
           "MD",
           13
          ],
          [
           "MD",
           1
          ],
          [
           "MD",
           13
          ],
          [
           "MD",
           1
          ],
          [
           "MD",
           2
          ],
          [
           "MD",
           1
          ],
          [
           "MD",
           3
          ],
          [
           "MD",
           2
          ],
          [
           "MD",
           1
          ],
          [
           "MD",
           12
          ],
          [
           "MD",
           3
          ],
          [
           "MD",
           10
          ],
          [
           "MD",
           1
          ],
          [
           "MD",
           1
          ],
          [
           "MD",
           2
          ],
          [
           "MD",
           12
          ],
          [
           "MD",
           1
          ],
          [
           "MD",
           2
          ],
          [
           "MD",
           1
          ],
          [
           "MD",
           1
          ],
          [
           "MD",
           1
          ],
          [
           "MD",
           10
          ],
          [
           "MD",
           2
          ],
          [
           "MD",
           13
          ],
          [
           "MD",
           1
          ],
          [
           "MD",
           1
          ],
          [
           "MD",
           1
          ],
          [
           "MD",
           13
          ],
          [
           "MD",
           2
          ],
          [
           "MD",
           2
          ],
          [
           "MD",
           2
          ],
          [
           "MD",
           13
          ],
          [
           "MD",
           13
          ],
          [
           "MD",
           1
          ],
          [
           "MD",
           3
          ],
          [
           "MN",
           1
          ],
          [
           "MN",
           23
          ],
          [
           "MN",
           23
          ],
          [
           "MN",
           2
          ],
          [
           "MN",
           15
          ],
          [
           "MN",
           2
          ],
          [
           "MN",
           1
          ],
          [
           "MN",
           1
          ],
          [
           "MN",
           1
          ],
          [
           "MN",
           9
          ],
          [
           "MN",
           1
          ],
          [
           "MN",
           1
          ],
          [
           "MN",
           1
          ],
          [
           "MN",
           9
          ],
          [
           "MN",
           23
          ],
          [
           "MN",
           3
          ],
          [
           "MN",
           1
          ],
          [
           "MN",
           6
          ],
          [
           "MN",
           1
          ],
          [
           "MN",
           1
          ],
          [
           "MN",
           9
          ],
          [
           "MN",
           6
          ],
          [
           "MN",
           1
          ],
          [
           "MN",
           2
          ],
          [
           "MN",
           23
          ],
          [
           "MN",
           1
          ],
          [
           "MN",
           6
          ],
          [
           "MN",
           1
          ],
          [
           "MN",
           9
          ],
          [
           "MN",
           6
          ],
          [
           "MN",
           23
          ],
          [
           "MN",
           9
          ],
          [
           "MN",
           23
          ],
          [
           "MN",
           23
          ],
          [
           "MN",
           1
          ],
          [
           "MN",
           23
          ],
          [
           "MN",
           23
          ],
          [
           "MN",
           6
          ],
          [
           "MN",
           9
          ],
          [
           "MN",
           11
          ],
          [
           "MN",
           2
          ],
          [
           "MN",
           1
          ],
          [
           "MN",
           23
          ],
          [
           "MN",
           23
          ],
          [
           "MN",
           1
          ],
          [
           "MN",
           11
          ],
          [
           "MN",
           15
          ],
          [
           "MN",
           1
          ],
          [
           "MN",
           1
          ],
          [
           "MN",
           10
          ],
          [
           "MN",
           6
          ],
          [
           "MN",
           1
          ],
          [
           "MN",
           2
          ],
          [
           "MN",
           23
          ],
          [
           "MN",
           23
          ],
          [
           "MN",
           23
          ],
          [
           "MN",
           1
          ],
          [
           "MN",
           11
          ],
          [
           "MN",
           6
          ],
          [
           "MN",
           2
          ],
          [
           "MN",
           2
          ],
          [
           "MN",
           2
          ],
          [
           "MN",
           1
          ],
          [
           "MN",
           1
          ],
          [
           "MN",
           11
          ],
          [
           "MN",
           3
          ],
          [
           "MN",
           1
          ],
          [
           "MN",
           23
          ],
          [
           "MN",
           2
          ],
          [
           "MN",
           23
          ],
          [
           "MN",
           3
          ],
          [
           "MN",
           2
          ],
          [
           "MN",
           1
          ],
          [
           "MN",
           3
          ],
          [
           "MN",
           9
          ],
          [
           "MN",
           23
          ],
          [
           "MN",
           1
          ],
          [
           "MN",
           1
          ],
          [
           "MN",
           23
          ],
          [
           "MN",
           1
          ],
          [
           "MN",
           2
          ],
          [
           "MN",
           23
          ],
          [
           "MN",
           1
          ],
          [
           "MN",
           1
          ],
          [
           "MN",
           3
          ],
          [
           "MN",
           1
          ],
          [
           "MN",
           9
          ],
          [
           "MN",
           23
          ],
          [
           "MN",
           1
          ],
          [
           "MN",
           1
          ],
          [
           "MN",
           1
          ],
          [
           "MN",
           2
          ],
          [
           "MN",
           1
          ],
          [
           "MN",
           1
          ],
          [
           "MN",
           1
          ],
          [
           "MN",
           23
          ],
          [
           "MN",
           1
          ],
          [
           "MN",
           1
          ],
          [
           "MN",
           23
          ],
          [
           "MN",
           23
          ],
          [
           "MN",
           1
          ],
          [
           "MN",
           9
          ],
          [
           "MN",
           1
          ],
          [
           "MN",
           1
          ],
          [
           "MO",
           19
          ],
          [
           "MO",
           3
          ],
          [
           "MO",
           9
          ],
          [
           "MO",
           19
          ],
          [
           "MO",
           19
          ],
          [
           "MO",
           19
          ],
          [
           "MO",
           1
          ],
          [
           "MO",
           19
          ],
          [
           "MO",
           10
          ],
          [
           "MO",
           10
          ],
          [
           "MO",
           10
          ],
          [
           "MO",
           12
          ],
          [
           "MO",
           12
          ],
          [
           "MO",
           19
          ],
          [
           "MO",
           1
          ],
          [
           "MO",
           10
          ],
          [
           "MO",
           10
          ],
          [
           "MO",
           19
          ],
          [
           "MO",
           1
          ],
          [
           "MO",
           10
          ],
          [
           "MO",
           19
          ],
          [
           "MO",
           3
          ],
          [
           "MO",
           1
          ],
          [
           "MO",
           12
          ],
          [
           "MO",
           1
          ],
          [
           "MO",
           9
          ],
          [
           "MO",
           3
          ],
          [
           "MO",
           10
          ],
          [
           "MO",
           19
          ],
          [
           "MO",
           19
          ],
          [
           "MO",
           10
          ],
          [
           "MO",
           1
          ],
          [
           "MO",
           2
          ],
          [
           "MO",
           12
          ],
          [
           "MO",
           9
          ],
          [
           "MO",
           1
          ],
          [
           "MO",
           1
          ],
          [
           "MO",
           2
          ],
          [
           "MO",
           3
          ],
          [
           "MO",
           19
          ],
          [
           "MO",
           19
          ],
          [
           "MO",
           9
          ],
          [
           "MO",
           1
          ],
          [
           "MO",
           2
          ],
          [
           "MO",
           19
          ],
          [
           "MO",
           3
          ],
          [
           "MO",
           1
          ],
          [
           "MO",
           2
          ],
          [
           "MO",
           12
          ],
          [
           "MO",
           19
          ],
          [
           "MO",
           19
          ],
          [
           "MO",
           2
          ],
          [
           "MO",
           2
          ],
          [
           "MO",
           9
          ],
          [
           "MO",
           19
          ],
          [
           "MO",
           10
          ],
          [
           "MO",
           1
          ],
          [
           "MO",
           10
          ],
          [
           "MO",
           3
          ],
          [
           "MO",
           19
          ],
          [
           "MO",
           3
          ],
          [
           "MO",
           19
          ],
          [
           "MO",
           19
          ],
          [
           "ND",
           2
          ],
          [
           "ND",
           4
          ],
          [
           "ND",
           4
          ],
          [
           "ND",
           4
          ],
          [
           "ND",
           4
          ],
          [
           "ND",
           2
          ],
          [
           "ND",
           2
          ],
          [
           "ND",
           3
          ],
          [
           "ND",
           3
          ],
          [
           "ND",
           1
          ],
          [
           "ND",
           1
          ],
          [
           "ND",
           2
          ],
          [
           "ND",
           2
          ],
          [
           "ND",
           2
          ],
          [
           "ND",
           3
          ],
          [
           "ND",
           1
          ],
          [
           "ND",
           3
          ],
          [
           "NE",
           11
          ],
          [
           "NE",
           11
          ],
          [
           "NE",
           10
          ],
          [
           "NE",
           11
          ],
          [
           "NE",
           1
          ],
          [
           "NE",
           2
          ],
          [
           "NE",
           2
          ],
          [
           "NE",
           1
          ],
          [
           "NE",
           10
          ],
          [
           "NE",
           1
          ],
          [
           "NE",
           1
          ],
          [
           "NE",
           11
          ],
          [
           "NE",
           11
          ],
          [
           "NE",
           9
          ],
          [
           "NE",
           11
          ],
          [
           "NE",
           7
          ],
          [
           "NE",
           10
          ],
          [
           "NE",
           3
          ],
          [
           "NE",
           1
          ],
          [
           "NE",
           31
          ],
          [
           "NE",
           11
          ],
          [
           "NE",
           1
          ],
          [
           "NE",
           10
          ],
          [
           "NE",
           10
          ],
          [
           "NE",
           1
          ],
          [
           "NE",
           1
          ],
          [
           "NE",
           3
          ],
          [
           "NE",
           1
          ],
          [
           "NE",
           1
          ],
          [
           "NE",
           3
          ],
          [
           "NE",
           1
          ],
          [
           "NE",
           1
          ],
          [
           "NE",
           3
          ],
          [
           "NE",
           2
          ],
          [
           "NE",
           1
          ],
          [
           "NE",
           1
          ],
          [
           "NE",
           1
          ],
          [
           "NE",
           1
          ],
          [
           "NE",
           10
          ],
          [
           "NE",
           10
          ],
          [
           "NE",
           3
          ],
          [
           "NE",
           1
          ],
          [
           "NE",
           2
          ],
          [
           "NE",
           10
          ],
          [
           "NE",
           10
          ],
          [
           "NE",
           11
          ],
          [
           "NE",
           11
          ],
          [
           "NJ",
           2
          ],
          [
           "NJ",
           3
          ],
          [
           "NJ",
           2
          ],
          [
           "NJ",
           2
          ],
          [
           "NJ",
           2
          ],
          [
           "NJ",
           6
          ],
          [
           "NJ",
           5
          ],
          [
           "NJ",
           2
          ],
          [
           "NJ",
           2
          ],
          [
           "NJ",
           1
          ],
          [
           "NJ",
           1
          ],
          [
           "NJ",
           1
          ],
          [
           "NJ",
           1
          ],
          [
           "NJ",
           11
          ],
          [
           "NJ",
           2
          ],
          [
           "NJ",
           3
          ],
          [
           "NJ",
           1
          ],
          [
           "NJ",
           1
          ],
          [
           "NJ",
           1
          ],
          [
           "NJ",
           1
          ],
          [
           "NJ",
           1
          ],
          [
           "NJ",
           1
          ],
          [
           "NJ",
           1
          ],
          [
           "NJ",
           1
          ],
          [
           "NJ",
           3
          ],
          [
           "NJ",
           2
          ],
          [
           "NJ",
           1
          ],
          [
           "NJ",
           1
          ],
          [
           "NJ",
           3
          ],
          [
           "NJ",
           1
          ],
          [
           "NJ",
           1
          ],
          [
           "NJ",
           1
          ],
          [
           "NJ",
           7
          ],
          [
           "NJ",
           2
          ],
          [
           "NJ",
           1
          ],
          [
           "NJ",
           3
          ],
          [
           "NJ",
           2
          ],
          [
           "NJ",
           1
          ],
          [
           "NJ",
           1
          ],
          [
           "NJ",
           1
          ],
          [
           "NJ",
           1
          ],
          [
           "NJ",
           1
          ],
          [
           "NJ",
           5
          ],
          [
           "NJ",
           2
          ],
          [
           "NJ",
           1
          ],
          [
           "NJ",
           1
          ],
          [
           "NJ",
           1
          ],
          [
           "NJ",
           1
          ],
          [
           "NJ",
           1
          ],
          [
           "NJ",
           1
          ],
          [
           "NJ",
           1
          ],
          [
           "NJ",
           1
          ],
          [
           "NJ",
           1
          ],
          [
           "NJ",
           2
          ],
          [
           "NJ",
           1
          ],
          [
           "NJ",
           1
          ],
          [
           "NJ",
           2
          ],
          [
           "NJ",
           2
          ],
          [
           "NJ",
           2
          ],
          [
           "NJ",
           3
          ],
          [
           "NJ",
           4
          ],
          [
           "NJ",
           1
          ],
          [
           "NJ",
           1
          ],
          [
           "NJ",
           3
          ],
          [
           "NJ",
           3
          ],
          [
           "NJ",
           1
          ],
          [
           "NJ",
           1
          ],
          [
           "NJ",
           3
          ],
          [
           "NJ",
           1
          ],
          [
           "NJ",
           2
          ],
          [
           "NJ",
           1
          ],
          [
           "NJ",
           1
          ],
          [
           "NJ",
           1
          ],
          [
           "NJ",
           1
          ],
          [
           "NJ",
           2
          ],
          [
           "NJ",
           1
          ],
          [
           "NJ",
           1
          ],
          [
           "NJ",
           7
          ],
          [
           "NJ",
           3
          ],
          [
           "NJ",
           1
          ],
          [
           "NJ",
           5
          ],
          [
           "NJ",
           1
          ],
          [
           "NJ",
           2
          ],
          [
           "NJ",
           3
          ],
          [
           "NJ",
           1
          ],
          [
           "NJ",
           1
          ],
          [
           "NJ",
           1
          ],
          [
           "NJ",
           1
          ],
          [
           "NJ",
           1
          ],
          [
           "NJ",
           1
          ],
          [
           "NJ",
           3
          ],
          [
           "NJ",
           1
          ],
          [
           "NJ",
           1
          ],
          [
           "NJ",
           1
          ],
          [
           "NJ",
           1
          ],
          [
           "NJ",
           3
          ],
          [
           "NJ",
           3
          ],
          [
           "NJ",
           2
          ],
          [
           "NJ",
           2
          ],
          [
           "NJ",
           5
          ],
          [
           "NJ",
           3
          ],
          [
           "NJ",
           3
          ],
          [
           "NJ",
           2
          ],
          [
           "NJ",
           1
          ],
          [
           "NJ",
           1
          ],
          [
           "NJ",
           3
          ],
          [
           "NJ",
           3
          ],
          [
           "NJ",
           1
          ],
          [
           "NJ",
           2
          ],
          [
           "NJ",
           1
          ],
          [
           "NJ",
           1
          ],
          [
           "NJ",
           1
          ],
          [
           "NJ",
           1
          ],
          [
           "NJ",
           2
          ],
          [
           "NJ",
           3
          ],
          [
           "NJ",
           1
          ],
          [
           "NJ",
           1
          ],
          [
           "NJ",
           1
          ],
          [
           "NJ",
           1
          ],
          [
           "NJ",
           1
          ],
          [
           "SC",
           2
          ],
          [
           "SC",
           1
          ],
          [
           "SC",
           12
          ],
          [
           "SC",
           2
          ],
          [
           "SC",
           1
          ],
          [
           "SC",
           2
          ],
          [
           "UT",
           3
          ],
          [
           "UT",
           3
          ],
          [
           "UT",
           3
          ],
          [
           "WA",
           5
          ],
          [
           "WA",
           38
          ],
          [
           "WA",
           6
          ],
          [
           "WA",
           1
          ],
          [
           "WA",
           3
          ],
          [
           "WA",
           38
          ],
          [
           "WA",
           38
          ],
          [
           "WA",
           38
          ],
          [
           "WA",
           38
          ],
          [
           "WA",
           5
          ],
          [
           "WA",
           5
          ],
          [
           "WA",
           5
          ],
          [
           "WA",
           1
          ],
          [
           "WA",
           2
          ],
          [
           "WA",
           1
          ],
          [
           "WA",
           8
          ],
          [
           "WA",
           1
          ],
          [
           "WA",
           38
          ],
          [
           "WA",
           38
          ],
          [
           "WA",
           2
          ],
          [
           "WA",
           1
          ],
          [
           "WA",
           1
          ],
          [
           "WA",
           1
          ],
          [
           "WA",
           1
          ],
          [
           "WA",
           2
          ],
          [
           "WA",
           2
          ],
          [
           "WA",
           2
          ],
          [
           "WA",
           1
          ],
          [
           "WA",
           38
          ],
          [
           "WA",
           6
          ],
          [
           "WA",
           1
          ],
          [
           "WA",
           1
          ],
          [
           "WA",
           5
          ],
          [
           "WA",
           38
          ],
          [
           "WA",
           5
          ],
          [
           "WA",
           1
          ],
          [
           "WA",
           38
          ],
          [
           "WA",
           5
          ],
          [
           "WA",
           1
          ],
          [
           "WA",
           5
          ],
          [
           "WA",
           38
          ],
          [
           "WA",
           1
          ],
          [
           "WA",
           1
          ],
          [
           "WA",
           1
          ],
          [
           "WA",
           2
          ],
          [
           "WA",
           1
          ],
          [
           "WA",
           4
          ],
          [
           "WA",
           5
          ],
          [
           "WA",
           4
          ],
          [
           "WA",
           1
          ],
          [
           "WA",
           1
          ],
          [
           "WA",
           2
          ],
          [
           "WA",
           5
          ],
          [
           "WA",
           1
          ],
          [
           "WA",
           38
          ],
          [
           "WA",
           5
          ],
          [
           "WA",
           1
          ],
          [
           "WA",
           1
          ],
          [
           "WA",
           2
          ],
          [
           "WA",
           1
          ],
          [
           "WA",
           4
          ],
          [
           "WA",
           5
          ],
          [
           "WA",
           6
          ],
          [
           "WA",
           1
          ],
          [
           "WA",
           8
          ],
          [
           "WA",
           3
          ],
          [
           "WA",
           38
          ],
          [
           "WA",
           1
          ],
          [
           "WA",
           1
          ],
          [
           "WA",
           5
          ],
          [
           "WA",
           1
          ],
          [
           "WA",
           38
          ],
          [
           "WA",
           38
          ],
          [
           "WA",
           6
          ],
          [
           "WA",
           1
          ],
          [
           "WA",
           8
          ],
          [
           "WA",
           3
          ],
          [
           "WA",
           3
          ],
          [
           "WA",
           1
          ],
          [
           "WA",
           8
          ],
          [
           "WA",
           1
          ],
          [
           "WA",
           1
          ],
          [
           "WA",
           4
          ],
          [
           "WA",
           3
          ],
          [
           "WA",
           38
          ],
          [
           "WA",
           10
          ],
          [
           "WA",
           10
          ],
          [
           "WA",
           4
          ],
          [
           "WA",
           1
          ],
          [
           "WA",
           1
          ],
          [
           "WA",
           2
          ],
          [
           "WA",
           38
          ],
          [
           "WA",
           1
          ],
          [
           "WA",
           1
          ],
          [
           "WA",
           8
          ],
          [
           "WA",
           5
          ],
          [
           "WA",
           2
          ],
          [
           "WA",
           4
          ],
          [
           "WA",
           4
          ],
          [
           "WA",
           2
          ],
          [
           "WA",
           5
          ],
          [
           "WA",
           38
          ],
          [
           "WA",
           2
          ],
          [
           "WA",
           1
          ],
          [
           "WA",
           38
          ],
          [
           "WA",
           6
          ],
          [
           "WA",
           38
          ],
          [
           "WA",
           38
          ],
          [
           "WA",
           3
          ],
          [
           "WA",
           38
          ],
          [
           "WA",
           10
          ],
          [
           "WA",
           1
          ],
          [
           "WA",
           5
          ],
          [
           "WA",
           1
          ],
          [
           "WA",
           6
          ],
          [
           "WA",
           1
          ],
          [
           "WA",
           4
          ],
          [
           "WA",
           8
          ],
          [
           "WA",
           8
          ],
          [
           "WA",
           38
          ],
          [
           "WA",
           2
          ],
          [
           "WA",
           38
          ],
          [
           "WA",
           38
          ],
          [
           "WA",
           4
          ],
          [
           "WA",
           2
          ],
          [
           "WA",
           3
          ],
          [
           "WA",
           1
          ],
          [
           "WA",
           5
          ],
          [
           "WA",
           3
          ],
          [
           "WA",
           7
          ],
          [
           "WA",
           38
          ],
          [
           "WA",
           3
          ],
          [
           "WA",
           38
          ],
          [
           "WA",
           2
          ],
          [
           "WA",
           1
          ],
          [
           "WA",
           1
          ],
          [
           "WA",
           3
          ],
          [
           "WA",
           2
          ],
          [
           "WA",
           1
          ],
          [
           "WA",
           2
          ],
          [
           "WA",
           10
          ],
          [
           "WA",
           2
          ],
          [
           "WA",
           2
          ],
          [
           "WA",
           8
          ],
          [
           "WA",
           1
          ],
          [
           "WA",
           38
          ],
          [
           "WA",
           10
          ],
          [
           "WA",
           2
          ],
          [
           "WA",
           10
          ],
          [
           "WA",
           2
          ],
          [
           "WA",
           6
          ],
          [
           "WA",
           38
          ],
          [
           "WA",
           6
          ],
          [
           "WA",
           10
          ],
          [
           "WA",
           5
          ],
          [
           "WA",
           1
          ],
          [
           "WA",
           3
          ],
          [
           "WA",
           1
          ],
          [
           "WA",
           1
          ],
          [
           "WA",
           3
          ],
          [
           "WA",
           38
          ],
          [
           "WA",
           5
          ],
          [
           "WA",
           4
          ],
          [
           "WA",
           3
          ],
          [
           "WA",
           6
          ],
          [
           "WA",
           38
          ],
          [
           "WA",
           38
          ],
          [
           "WA",
           7
          ],
          [
           "WA",
           4
          ],
          [
           "WA",
           5
          ],
          [
           "WA",
           1
          ],
          [
           "WA",
           1
          ],
          [
           "WA",
           3
          ],
          [
           "WA",
           5
          ],
          [
           "WA",
           1
          ],
          [
           "WA",
           2
          ],
          [
           "WA",
           6
          ],
          [
           "WA",
           1
          ],
          [
           "WA",
           1
          ],
          [
           "WA",
           3
          ],
          [
           "WA",
           1
          ],
          [
           "WA",
           5
          ],
          [
           "WA",
           2
          ],
          [
           "WA",
           38
          ],
          [
           "WA",
           2
          ],
          [
           "WA",
           38
          ],
          [
           "WA",
           1
          ],
          [
           "WA",
           5
          ],
          [
           "WA",
           3
          ],
          [
           "WA",
           2
          ],
          [
           "WA",
           2
          ],
          [
           "WA",
           2
          ],
          [
           "WA",
           38
          ],
          [
           "WA",
           5
          ],
          [
           "WA",
           38
          ],
          [
           "WA",
           2
          ],
          [
           "WA",
           2
          ],
          [
           "WA",
           6
          ],
          [
           "WA",
           8
          ],
          [
           "WA",
           2
          ],
          [
           "WA",
           2
          ],
          [
           "WA",
           10
          ],
          [
           "WA",
           1
          ],
          [
           "WA",
           3
          ],
          [
           "WA",
           7
          ],
          [
           "WA",
           3
          ],
          [
           "WA",
           2
          ],
          [
           "WA",
           7
          ],
          [
           "WA",
           10
          ],
          [
           "WA",
           4
          ],
          [
           "WA",
           2
          ],
          [
           "WA",
           1
          ],
          [
           "WA",
           2
          ],
          [
           "WA",
           4
          ],
          [
           "WA",
           4
          ],
          [
           "WA",
           1
          ],
          [
           "WA",
           3
          ],
          [
           "WA",
           2
          ],
          [
           "WA",
           1
          ],
          [
           "WA",
           5
          ],
          [
           "WA",
           3
          ],
          [
           "WA",
           2
          ],
          [
           "WA",
           1
          ],
          [
           "WA",
           5
          ],
          [
           "WA",
           5
          ],
          [
           "WA",
           1
          ],
          [
           "WA",
           10
          ],
          [
           "WA",
           2
          ],
          [
           "WA",
           1
          ],
          [
           "WA",
           38
          ],
          [
           "WA",
           5
          ],
          [
           "WA",
           5
          ],
          [
           "WA",
           1
          ],
          [
           "WA",
           1
          ],
          [
           "WA",
           38
          ],
          [
           "WI",
           19
          ],
          [
           "WI",
           2
          ],
          [
           "WI",
           3
          ],
          [
           "WI",
           1
          ],
          [
           "WI",
           15
          ],
          [
           "WI",
           15
          ],
          [
           "WI",
           2
          ],
          [
           "WI",
           2
          ],
          [
           "WI",
           4
          ],
          [
           "WI",
           3
          ],
          [
           "WI",
           2
          ],
          [
           "WI",
           3
          ],
          [
           "WI",
           1
          ],
          [
           "WI",
           1
          ],
          [
           "WI",
           19
          ],
          [
           "WI",
           1
          ],
          [
           "WI",
           1
          ],
          [
           "WI",
           1
          ],
          [
           "WI",
           3
          ],
          [
           "WI",
           1
          ],
          [
           "WI",
           3
          ],
          [
           "WI",
           19
          ],
          [
           "WI",
           2
          ],
          [
           "WI",
           1
          ],
          [
           "WI",
           3
          ],
          [
           "WI",
           3
          ],
          [
           "WI",
           19
          ],
          [
           "WI",
           19
          ],
          [
           "WI",
           19
          ],
          [
           "WI",
           1
          ],
          [
           "WI",
           2
          ],
          [
           "WI",
           19
          ],
          [
           "WI",
           1
          ],
          [
           "WI",
           2
          ],
          [
           "WI",
           1
          ],
          [
           "WI",
           1
          ],
          [
           "WI",
           19
          ],
          [
           "WI",
           2
          ],
          [
           "WI",
           19
          ],
          [
           "WI",
           1
          ],
          [
           "WI",
           1
          ],
          [
           "WI",
           3
          ],
          [
           "WI",
           3
          ],
          [
           "WI",
           2
          ],
          [
           "WI",
           1
          ],
          [
           "WI",
           15
          ],
          [
           "WI",
           19
          ],
          [
           "WI",
           15
          ],
          [
           "WI",
           1
          ],
          [
           "WI",
           1
          ],
          [
           "WI",
           4
          ],
          [
           "WI",
           1
          ],
          [
           "WI",
           1
          ],
          [
           "WI",
           15
          ],
          [
           "WI",
           3
          ],
          [
           "WI",
           1
          ],
          [
           "WI",
           19
          ],
          [
           "WI",
           3
          ],
          [
           "WI",
           2
          ],
          [
           "WI",
           2
          ],
          [
           "WI",
           3
          ],
          [
           "WI",
           2
          ],
          [
           "WI",
           1
          ],
          [
           "WI",
           19
          ],
          [
           "WI",
           19
          ],
          [
           "WI",
           1
          ],
          [
           "WI",
           4
          ],
          [
           "WI",
           19
          ],
          [
           "WI",
           1
          ],
          [
           "WI",
           15
          ],
          [
           "WI",
           1
          ],
          [
           "WI",
           2
          ],
          [
           "WI",
           3
          ],
          [
           "WI",
           1
          ],
          [
           "WI",
           15
          ],
          [
           "WI",
           1
          ],
          [
           "WI",
           19
          ],
          [
           "WI",
           3
          ],
          [
           "WI",
           3
          ],
          [
           "WI",
           1
          ],
          [
           "WI",
           1
          ],
          [
           "WI",
           3
          ],
          [
           "WI",
           3
          ],
          [
           "WI",
           1
          ],
          [
           "WI",
           1
          ],
          [
           "WI",
           1
          ],
          [
           "WI",
           2
          ],
          [
           "WI",
           1
          ],
          [
           "WI",
           1
          ],
          [
           "WI",
           15
          ],
          [
           "WI",
           1
          ],
          [
           "WI",
           1
          ],
          [
           "WI",
           1
          ],
          [
           "WI",
           3
          ],
          [
           "WI",
           2
          ],
          [
           "WI",
           1
          ],
          [
           "WI",
           2
          ],
          [
           "WI",
           1
          ],
          [
           "WI",
           1
          ],
          [
           "WI",
           3
          ],
          [
           "WI",
           3
          ],
          [
           "WI",
           1
          ],
          [
           "WI",
           2
          ],
          [
           "WI",
           4
          ],
          [
           "WI",
           1
          ],
          [
           "WI",
           1
          ],
          [
           "WI",
           19
          ],
          [
           "WI",
           2
          ],
          [
           "WI",
           4
          ],
          [
           "WI",
           2
          ],
          [
           "WI",
           2
          ],
          [
           "WI",
           19
          ],
          [
           "WI",
           6
          ],
          [
           "WI",
           19
          ],
          [
           "WI",
           15
          ],
          [
           "WI",
           19
          ],
          [
           "WI",
           1
          ],
          [
           "WI",
           1
          ],
          [
           "WI",
           15
          ],
          [
           "WI",
           15
          ],
          [
           "WI",
           3
          ],
          [
           "WV",
           1
          ],
          [
           "WV",
           2
          ],
          [
           "WV",
           1
          ],
          [
           "WV",
           1
          ],
          [
           "WV",
           1
          ],
          [
           "WV",
           2
          ],
          [
           "WV",
           2
          ],
          [
           "WV",
           2
          ],
          [
           "WV",
           8
          ],
          [
           "WV",
           3
          ],
          [
           "WV",
           1
          ],
          [
           "WV",
           8
          ],
          [
           "WV",
           1
          ],
          [
           "WV",
           1
          ],
          [
           "WV",
           3
          ],
          [
           "WV",
           3
          ],
          [
           "WV",
           2
          ],
          [
           "WV",
           1
          ],
          [
           "WV",
           2
          ],
          [
           "WV",
           1
          ],
          [
           "WV",
           1
          ],
          [
           "WV",
           3
          ],
          [
           "WV",
           5
          ],
          [
           "WV",
           1
          ],
          [
           "WV",
           1
          ],
          [
           "WV",
           1
          ],
          [
           "WV",
           2
          ],
          [
           "WY",
           3
          ],
          [
           "WY",
           4
          ],
          [
           "WY",
           1
          ],
          [
           "WY",
           2
          ],
          [
           "WY",
           2
          ],
          [
           "WY",
           4
          ],
          [
           "WY",
           10
          ],
          [
           "WY",
           4
          ],
          [
           "WY",
           3
          ],
          [
           "WY",
           3
          ],
          [
           "WY",
           3
          ],
          [
           "WY",
           2
          ],
          [
           "WY",
           2
          ],
          [
           "WY",
           2
          ],
          [
           "WY",
           8
          ],
          [
           "WY",
           1
          ],
          [
           "WY",
           4
          ],
          [
           "WY",
           2
          ],
          [
           "WY",
           8
          ],
          [
           "WY",
           3
          ],
          [
           "WY",
           3
          ],
          [
           "WY",
           8
          ],
          [
           "WY",
           8
          ],
          [
           "WY",
           1
          ],
          [
           "WY",
           1
          ],
          [
           "WY",
           1
          ],
          [
           "WY",
           1
          ],
          [
           "WY",
           3
          ],
          [
           "WY",
           2
          ],
          [
           "NM",
           1
          ],
          [
           "NM",
           1
          ],
          [
           "NM",
           1
          ],
          [
           "NM",
           2
          ],
          [
           "NM",
           2
          ],
          [
           "NM",
           11
          ],
          [
           "NM",
           11
          ],
          [
           "NM",
           11
          ],
          [
           "NM",
           11
          ],
          [
           "NM",
           11
          ],
          [
           "NM",
           11
          ],
          [
           "NM",
           11
          ],
          [
           "NM",
           11
          ],
          [
           "NM",
           11
          ],
          [
           "NM",
           11
          ],
          [
           "NM",
           11
          ],
          [
           "NM",
           1
          ],
          [
           "MA",
           1
          ],
          [
           "MA",
           1
          ],
          [
           "MA",
           1
          ],
          [
           "MA",
           1
          ],
          [
           "MA",
           7
          ],
          [
           "MA",
           2
          ],
          [
           "MA",
           2
          ],
          [
           "MA",
           3
          ],
          [
           "MA",
           1
          ],
          [
           "AR",
           2
          ],
          [
           "AR",
           2
          ],
          [
           "AR",
           8
          ],
          [
           "AR",
           8
          ],
          [
           "AR",
           8
          ],
          [
           "AR",
           8
          ],
          [
           "AR",
           8
          ],
          [
           "AR",
           8
          ],
          [
           "AR",
           1
          ],
          [
           "AR",
           2
          ],
          [
           "AR",
           1
          ],
          [
           "AR",
           10
          ],
          [
           "AR",
           10
          ],
          [
           "AR",
           10
          ],
          [
           "AR",
           10
          ],
          [
           "AR",
           10
          ],
          [
           "AR",
           10
          ],
          [
           "AR",
           10
          ],
          [
           "AR",
           10
          ],
          [
           "AR",
           10
          ],
          [
           "AR",
           10
          ],
          [
           "AR",
           1
          ],
          [
           "AR",
           2
          ],
          [
           "AR",
           1
          ],
          [
           "AR",
           2
          ],
          [
           "AR",
           2
          ],
          [
           "AZ",
           1
          ],
          [
           "AZ",
           6
          ],
          [
           "AZ",
           1
          ],
          [
           "AZ",
           6
          ],
          [
           "AZ",
           6
          ],
          [
           "AZ",
           1
          ],
          [
           "AZ",
           1
          ],
          [
           "AZ",
           6
          ],
          [
           "AZ",
           6
          ],
          [
           "AZ",
           6
          ],
          [
           "AZ",
           1
          ],
          [
           "AZ",
           3
          ],
          [
           "AZ",
           2
          ],
          [
           "AZ",
           4
          ],
          [
           "AZ",
           3
          ],
          [
           "AZ",
           4
          ],
          [
           "AZ",
           6
          ],
          [
           "AZ",
           6
          ],
          [
           "AZ",
           3
          ],
          [
           "AZ",
           5
          ],
          [
           "AZ",
           1
          ],
          [
           "AZ",
           6
          ],
          [
           "AZ",
           6
          ],
          [
           "AZ",
           5
          ],
          [
           "AZ",
           2
          ],
          [
           "AZ",
           1
          ],
          [
           "AZ",
           2
          ],
          [
           "AZ",
           5
          ],
          [
           "AZ",
           4
          ],
          [
           "AZ",
           1
          ],
          [
           "AZ",
           2
          ],
          [
           "AZ",
           4
          ],
          [
           "AZ",
           3
          ],
          [
           "AZ",
           1
          ],
          [
           "AZ",
           5
          ],
          [
           "AZ",
           6
          ],
          [
           "AZ",
           1
          ],
          [
           "AZ",
           4
          ],
          [
           "AZ",
           6
          ],
          [
           "AZ",
           5
          ],
          [
           "AK",
           1
          ],
          [
           "AK",
           4
          ],
          [
           "AK",
           9
          ],
          [
           "AK",
           4
          ],
          [
           "AK",
           4
          ],
          [
           "AK",
           1
          ],
          [
           "AK",
           2
          ],
          [
           "AK",
           2
          ],
          [
           "AK",
           4
          ],
          [
           "AK",
           9
          ],
          [
           "AK",
           1
          ],
          [
           "AK",
           9
          ],
          [
           "AK",
           1
          ],
          [
           "AK",
           4
          ],
          [
           "AK",
           4
          ],
          [
           "AK",
           1
          ],
          [
           "AK",
           1
          ],
          [
           "AK",
           9
          ],
          [
           "AK",
           2
          ],
          [
           "AK",
           1
          ],
          [
           "AK",
           1
          ],
          [
           "AK",
           2
          ],
          [
           "AK",
           2
          ],
          [
           "AK",
           1
          ],
          [
           "AK",
           1
          ],
          [
           "AK",
           2
          ],
          [
           "AK",
           9
          ],
          [
           "AK",
           2
          ],
          [
           "AK",
           1
          ],
          [
           "AK",
           2
          ],
          [
           "AK",
           4
          ],
          [
           "AK",
           4
          ],
          [
           "AK",
           9
          ],
          [
           "AK",
           2
          ],
          [
           "AK",
           9
          ],
          [
           "AK",
           9
          ],
          [
           "AK",
           1
          ],
          [
           "AK",
           2
          ],
          [
           "AK",
           1
          ],
          [
           "AK",
           2
          ],
          [
           "AK",
           2
          ],
          [
           "AK",
           9
          ],
          [
           "AK",
           1
          ],
          [
           "CA",
           3
          ],
          [
           "CA",
           6
          ],
          [
           "CA",
           4
          ],
          [
           "CA",
           7
          ],
          [
           "CA",
           2
          ],
          [
           "CA",
           3
          ],
          [
           "CA",
           6
          ],
          [
           "CA",
           3
          ],
          [
           "CA",
           4
          ],
          [
           "CA",
           1
          ],
          [
           "CA",
           7
          ],
          [
           "CA",
           7
          ],
          [
           "CA",
           1
          ],
          [
           "CA",
           6
          ],
          [
           "CA",
           6
          ],
          [
           "CA",
           6
          ],
          [
           "CA",
           7
          ],
          [
           "CA",
           7
          ],
          [
           "CA",
           4
          ],
          [
           "CA",
           7
          ],
          [
           "CA",
           7
          ],
          [
           "CA",
           6
          ],
          [
           "CA",
           4
          ],
          [
           "CA",
           3
          ],
          [
           "CA",
           5
          ],
          [
           "CA",
           5
          ],
          [
           "CA",
           2
          ],
          [
           "CA",
           1
          ],
          [
           "CA",
           5
          ],
          [
           "CA",
           5
          ],
          [
           "CA",
           5
          ],
          [
           "CA",
           1
          ],
          [
           "CA",
           2
          ],
          [
           "CA",
           2
          ],
          [
           "CA",
           2
          ],
          [
           "CA",
           3
          ],
          [
           "CA",
           2
          ],
          [
           "CA",
           1
          ],
          [
           "CA",
           1
          ],
          [
           "CA",
           2
          ],
          [
           "CA",
           1
          ],
          [
           "CA",
           7
          ],
          [
           "CA",
           7
          ],
          [
           "CA",
           1
          ],
          [
           "CA",
           2
          ],
          [
           "CA",
           3
          ],
          [
           "CA",
           2
          ],
          [
           "CA",
           2
          ],
          [
           "CA",
           7
          ],
          [
           "CA",
           1
          ],
          [
           "CA",
           3
          ],
          [
           "CA",
           7
          ],
          [
           "CA",
           3
          ],
          [
           "CA",
           7
          ],
          [
           "CA",
           2
          ],
          [
           "CA",
           7
          ],
          [
           "CA",
           1
          ],
          [
           "CA",
           7
          ],
          [
           "CA",
           7
          ],
          [
           "CA",
           7
          ],
          [
           "CA",
           7
          ],
          [
           "CA",
           7
          ],
          [
           "CA",
           7
          ],
          [
           "CA",
           7
          ],
          [
           "CA",
           1
          ],
          [
           "CA",
           2
          ],
          [
           "CA",
           1
          ],
          [
           "CA",
           1
          ],
          [
           "CA",
           1
          ],
          [
           "CA",
           1
          ],
          [
           "CA",
           5
          ],
          [
           "CA",
           5
          ],
          [
           "CA",
           5
          ],
          [
           "CA",
           1
          ],
          [
           "CA",
           5
          ],
          [
           "CA",
           1
          ],
          [
           "CA",
           5
          ],
          [
           "CA",
           1
          ],
          [
           "CA",
           1
          ],
          [
           "CA",
           1
          ],
          [
           "CA",
           11
          ],
          [
           "CA",
           1
          ],
          [
           "CA",
           8
          ],
          [
           "CA",
           1
          ],
          [
           "CA",
           7
          ],
          [
           "CA",
           6
          ],
          [
           "CA",
           7
          ],
          [
           "CA",
           7
          ],
          [
           "CA",
           5
          ],
          [
           "CA",
           1
          ],
          [
           "CA",
           1
          ],
          [
           "CA",
           2
          ],
          [
           "CA",
           8
          ],
          [
           "CA",
           1
          ],
          [
           "CA",
           8
          ],
          [
           "CA",
           6
          ],
          [
           "CA",
           1
          ],
          [
           "CA",
           6
          ],
          [
           "CA",
           1
          ],
          [
           "CA",
           1
          ],
          [
           "CA",
           2
          ],
          [
           "CA",
           1
          ],
          [
           "CA",
           5
          ],
          [
           "CA",
           1
          ],
          [
           "CA",
           2
          ],
          [
           "CA",
           7
          ],
          [
           "CA",
           7
          ],
          [
           "CA",
           6
          ],
          [
           "CA",
           1
          ],
          [
           "CA",
           8
          ],
          [
           "CA",
           6
          ],
          [
           "CA",
           6
          ],
          [
           "CA",
           1
          ],
          [
           "CA",
           1
          ],
          [
           "CA",
           8
          ],
          [
           "CA",
           1
          ],
          [
           "CA",
           2
          ],
          [
           "CA",
           8
          ],
          [
           "CA",
           8
          ],
          [
           "CA",
           8
          ],
          [
           "CA",
           1
          ],
          [
           "CA",
           4
          ],
          [
           "CA",
           1
          ],
          [
           "CA",
           7
          ],
          [
           "CA",
           1
          ],
          [
           "CA",
           7
          ],
          [
           "CA",
           1
          ],
          [
           "CA",
           3
          ],
          [
           "CA",
           3
          ],
          [
           "CA",
           2
          ],
          [
           "CA",
           1
          ],
          [
           "CA",
           3
          ],
          [
           "CA",
           2
          ],
          [
           "CA",
           2
          ],
          [
           "CA",
           1
          ],
          [
           "CA",
           1
          ],
          [
           "CA",
           1
          ],
          [
           "CA",
           1
          ],
          [
           "CA",
           1
          ],
          [
           "CA",
           1
          ],
          [
           "CA",
           1
          ],
          [
           "CA",
           3
          ],
          [
           "CA",
           3
          ],
          [
           "CA",
           1
          ],
          [
           "CA",
           3
          ],
          [
           "CA",
           2
          ],
          [
           "CA",
           1
          ],
          [
           "CA",
           6
          ],
          [
           "CA",
           1
          ],
          [
           "CA",
           6
          ],
          [
           "CA",
           6
          ],
          [
           "CA",
           6
          ],
          [
           "CA",
           6
          ],
          [
           "CA",
           6
          ],
          [
           "CA",
           2
          ],
          [
           "CA",
           1
          ],
          [
           "CA",
           2
          ],
          [
           "CA",
           2
          ],
          [
           "CA",
           2
          ],
          [
           "CA",
           2
          ],
          [
           "CA",
           2
          ],
          [
           "CA",
           2
          ],
          [
           "CA",
           4
          ],
          [
           "CA",
           4
          ],
          [
           "CA",
           1
          ],
          [
           "CA",
           1
          ],
          [
           "CA",
           4
          ],
          [
           "CA",
           3
          ],
          [
           "CA",
           3
          ],
          [
           "CA",
           4
          ],
          [
           "CA",
           4
          ],
          [
           "CA",
           1
          ],
          [
           "CA",
           1
          ],
          [
           "CA",
           3
          ],
          [
           "CA",
           2
          ],
          [
           "CA",
           4
          ],
          [
           "CA",
           1
          ],
          [
           "CA",
           4
          ],
          [
           "CA",
           1
          ],
          [
           "CA",
           2
          ],
          [
           "CA",
           2
          ],
          [
           "CA",
           4
          ],
          [
           "CA",
           8
          ],
          [
           "CA",
           3
          ],
          [
           "CA",
           8
          ],
          [
           "CA",
           11
          ],
          [
           "CA",
           8
          ],
          [
           "CA",
           1
          ],
          [
           "CA",
           3
          ],
          [
           "CA",
           8
          ],
          [
           "CA",
           3
          ],
          [
           "CA",
           11
          ],
          [
           "CA",
           1
          ],
          [
           "CA",
           1
          ],
          [
           "CA",
           1
          ],
          [
           "CA",
           1
          ],
          [
           "CA",
           11
          ],
          [
           "CA",
           8
          ],
          [
           "CA",
           1
          ],
          [
           "CA",
           11
          ],
          [
           "CA",
           11
          ],
          [
           "CA",
           1
          ],
          [
           "CA",
           1
          ],
          [
           "CA",
           1
          ],
          [
           "CA",
           2
          ],
          [
           "CA",
           3
          ],
          [
           "CA",
           3
          ],
          [
           "CA",
           8
          ],
          [
           "CA",
           5
          ],
          [
           "CA",
           11
          ],
          [
           "CA",
           1
          ],
          [
           "CA",
           8
          ],
          [
           "CA",
           1
          ],
          [
           "CA",
           8
          ],
          [
           "CA",
           3
          ],
          [
           "CA",
           11
          ],
          [
           "CA",
           11
          ],
          [
           "CA",
           2
          ],
          [
           "CA",
           1
          ],
          [
           "CA",
           5
          ],
          [
           "CA",
           1
          ],
          [
           "CA",
           11
          ],
          [
           "CA",
           8
          ],
          [
           "CA",
           11
          ],
          [
           "CA",
           11
          ],
          [
           "CA",
           8
          ],
          [
           "CA",
           5
          ],
          [
           "CA",
           5
          ],
          [
           "CA",
           5
          ],
          [
           "CA",
           11
          ],
          [
           "CA",
           8
          ],
          [
           "CA",
           8
          ],
          [
           "CA",
           11
          ],
          [
           "CA",
           1
          ],
          [
           "CA",
           18
          ],
          [
           "CA",
           18
          ],
          [
           "CA",
           18
          ],
          [
           "CA",
           18
          ],
          [
           "CA",
           18
          ],
          [
           "CA",
           3
          ],
          [
           "CA",
           3
          ],
          [
           "CA",
           18
          ],
          [
           "CA",
           18
          ],
          [
           "CA",
           3
          ],
          [
           "CA",
           3
          ],
          [
           "CA",
           3
          ],
          [
           "CA",
           18
          ],
          [
           "CA",
           18
          ],
          [
           "CA",
           18
          ],
          [
           "CA",
           18
          ],
          [
           "CA",
           18
          ],
          [
           "CA",
           1
          ],
          [
           "CA",
           18
          ],
          [
           "CA",
           1
          ],
          [
           "CA",
           1
          ],
          [
           "CA",
           18
          ],
          [
           "CA",
           18
          ],
          [
           "CA",
           18
          ],
          [
           "CA",
           18
          ],
          [
           "CA",
           3
          ],
          [
           "CA",
           18
          ],
          [
           "CA",
           1
          ],
          [
           "CA",
           2
          ],
          [
           "CA",
           2
          ],
          [
           "CA",
           2
          ],
          [
           "CA",
           5
          ],
          [
           "CA",
           4
          ],
          [
           "CA",
           6
          ],
          [
           "CA",
           4
          ],
          [
           "CA",
           2
          ],
          [
           "CA",
           1
          ],
          [
           "CA",
           6
          ],
          [
           "CA",
           1
          ],
          [
           "CA",
           4
          ],
          [
           "CA",
           6
          ],
          [
           "CA",
           2
          ],
          [
           "CA",
           1
          ],
          [
           "CA",
           4
          ],
          [
           "CA",
           4
          ],
          [
           "CA",
           5
          ],
          [
           "CA",
           4
          ],
          [
           "CA",
           4
          ],
          [
           "CA",
           6
          ],
          [
           "CA",
           5
          ],
          [
           "CA",
           6
          ],
          [
           "CA",
           6
          ],
          [
           "CA",
           4
          ],
          [
           "CA",
           2
          ],
          [
           "CA",
           5
          ],
          [
           "CA",
           5
          ],
          [
           "CA",
           5
          ],
          [
           "CA",
           5
          ],
          [
           "CA",
           5
          ],
          [
           "CA",
           1
          ],
          [
           "CA",
           1
          ],
          [
           "CA",
           2
          ],
          [
           "CA",
           2
          ],
          [
           "CA",
           2
          ],
          [
           "CA",
           2
          ],
          [
           "CA",
           2
          ],
          [
           "CA",
           2
          ],
          [
           "CA",
           2
          ],
          [
           "CA",
           1
          ],
          [
           "CA",
           2
          ],
          [
           "CA",
           1
          ],
          [
           "CA",
           3
          ],
          [
           "CA",
           1
          ],
          [
           "CA",
           1
          ],
          [
           "CA",
           1
          ],
          [
           "CA",
           2
          ],
          [
           "CA",
           2
          ],
          [
           "CA",
           2
          ],
          [
           "CA",
           1
          ],
          [
           "CA",
           2
          ],
          [
           "CA",
           2
          ],
          [
           "CA",
           1
          ],
          [
           "CA",
           2
          ],
          [
           "CA",
           13
          ],
          [
           "CA",
           2
          ],
          [
           "CA",
           13
          ],
          [
           "CA",
           13
          ],
          [
           "CA",
           2
          ],
          [
           "CA",
           13
          ],
          [
           "CA",
           13
          ],
          [
           "CA",
           1
          ],
          [
           "CA",
           13
          ],
          [
           "CA",
           13
          ],
          [
           "CA",
           13
          ],
          [
           "CA",
           13
          ],
          [
           "CA",
           13
          ],
          [
           "CA",
           13
          ],
          [
           "CA",
           1
          ],
          [
           "CA",
           13
          ],
          [
           "CA",
           13
          ],
          [
           "CA",
           1
          ],
          [
           "CA",
           1
          ],
          [
           "CA",
           1
          ],
          [
           "CA",
           4
          ],
          [
           "CA",
           2
          ],
          [
           "CA",
           4
          ],
          [
           "CA",
           2
          ],
          [
           "CA",
           4
          ],
          [
           "CA",
           1
          ],
          [
           "CA",
           4
          ],
          [
           "CA",
           1
          ],
          [
           "CA",
           4
          ],
          [
           "CA",
           4
          ],
          [
           "CA",
           4
          ],
          [
           "CA",
           1
          ],
          [
           "CA",
           1
          ],
          [
           "CA",
           1
          ],
          [
           "CA",
           7
          ],
          [
           "CA",
           7
          ],
          [
           "CA",
           1
          ],
          [
           "CA",
           1
          ],
          [
           "CA",
           1
          ],
          [
           "CA",
           3
          ],
          [
           "CA",
           6
          ],
          [
           "CA",
           6
          ],
          [
           "CA",
           2
          ],
          [
           "CA",
           6
          ],
          [
           "CA",
           3
          ],
          [
           "CA",
           2
          ],
          [
           "CA",
           2
          ],
          [
           "CA",
           6
          ],
          [
           "CA",
           6
          ],
          [
           "CA",
           3
          ],
          [
           "CA",
           2
          ],
          [
           "CA",
           1
          ],
          [
           "CA",
           6
          ],
          [
           "CA",
           1
          ],
          [
           "CA",
           1
          ],
          [
           "CA",
           1
          ],
          [
           "CA",
           9
          ],
          [
           "CA",
           9
          ],
          [
           "CA",
           1
          ],
          [
           "CA",
           2
          ],
          [
           "CA",
           2
          ],
          [
           "CA",
           9
          ],
          [
           "CA",
           9
          ],
          [
           "CA",
           2
          ],
          [
           "CA",
           9
          ],
          [
           "CA",
           9
          ],
          [
           "CA",
           9
          ],
          [
           "CA",
           9
          ],
          [
           "CA",
           9
          ],
          [
           "CA",
           1
          ],
          [
           "CA",
           2
          ],
          [
           "CA",
           3
          ],
          [
           "CA",
           5
          ],
          [
           "CA",
           3
          ],
          [
           "CA",
           5
          ],
          [
           "CA",
           5
          ],
          [
           "CA",
           5
          ],
          [
           "CA",
           3
          ],
          [
           "VA",
           1
          ],
          [
           "VA",
           5
          ],
          [
           "VA",
           1
          ],
          [
           "VA",
           5
          ],
          [
           "VA",
           5
          ],
          [
           "VA",
           5
          ],
          [
           "VA",
           1
          ],
          [
           "VA",
           5
          ],
          [
           "VA",
           3
          ],
          [
           "VA",
           6
          ],
          [
           "VA",
           6
          ],
          [
           "VA",
           1
          ],
          [
           "VA",
           5
          ],
          [
           "VA",
           5
          ],
          [
           "VA",
           3
          ],
          [
           "VA",
           3
          ],
          [
           "VA",
           3
          ],
          [
           "VA",
           1
          ],
          [
           "VA",
           1
          ],
          [
           "VA",
           2
          ],
          [
           "VA",
           1
          ],
          [
           "VA",
           2
          ],
          [
           "VA",
           2
          ],
          [
           "VA",
           2
          ],
          [
           "VA",
           2
          ],
          [
           "VA",
           2
          ],
          [
           "VA",
           2
          ],
          [
           "VA",
           2
          ],
          [
           "VA",
           1
          ],
          [
           "VA",
           1
          ],
          [
           "VA",
           1
          ],
          [
           "VA",
           1
          ],
          [
           "VA",
           2
          ],
          [
           "VA",
           2
          ],
          [
           "VA",
           1
          ],
          [
           "VA",
           1
          ],
          [
           "VA",
           2
          ],
          [
           "VA",
           24
          ],
          [
           "VA",
           3
          ],
          [
           "VA",
           3
          ],
          [
           "VA",
           3
          ],
          [
           "VA",
           2
          ],
          [
           "VA",
           2
          ],
          [
           "VA",
           2
          ],
          [
           "VA",
           1
          ],
          [
           "VA",
           1
          ],
          [
           "VA",
           2
          ],
          [
           "VA",
           1
          ],
          [
           "VA",
           11
          ],
          [
           "VA",
           6
          ],
          [
           "VA",
           6
          ],
          [
           "VA",
           6
          ],
          [
           "VA",
           6
          ],
          [
           "VA",
           6
          ],
          [
           "VA",
           4
          ],
          [
           "VA",
           4
          ],
          [
           "VA",
           4
          ],
          [
           "VA",
           4
          ],
          [
           "VA",
           1
          ],
          [
           "VA",
           2
          ],
          [
           "VA",
           2
          ],
          [
           "VA",
           4
          ],
          [
           "VA",
           4
          ],
          [
           "VA",
           4
          ],
          [
           "VA",
           4
          ],
          [
           "VA",
           4
          ],
          [
           "VA",
           4
          ],
          [
           "VA",
           1
          ],
          [
           "VA",
           4
          ],
          [
           "VA",
           3
          ],
          [
           "VA",
           4
          ],
          [
           "VA",
           4
          ],
          [
           "VA",
           1
          ],
          [
           "VA",
           4
          ],
          [
           "VA",
           11
          ],
          [
           "VA",
           2
          ],
          [
           "VA",
           4
          ],
          [
           "VA",
           6
          ],
          [
           "VA",
           11
          ],
          [
           "VA",
           11
          ],
          [
           "VA",
           11
          ],
          [
           "VA",
           11
          ],
          [
           "VA",
           11
          ],
          [
           "VA",
           2
          ],
          [
           "VA",
           24
          ],
          [
           "VA",
           11
          ],
          [
           "VA",
           4
          ],
          [
           "VA",
           2
          ],
          [
           "VA",
           1
          ],
          [
           "VA",
           11
          ],
          [
           "VA",
           11
          ],
          [
           "VA",
           11
          ],
          [
           "VA",
           6
          ],
          [
           "VA",
           4
          ],
          [
           "VA",
           2
          ],
          [
           "VA",
           1
          ],
          [
           "VA",
           6
          ],
          [
           "VA",
           6
          ],
          [
           "VA",
           6
          ],
          [
           "VA",
           6
          ],
          [
           "VA",
           15
          ],
          [
           "VA",
           4
          ],
          [
           "VA",
           4
          ],
          [
           "VA",
           4
          ],
          [
           "VA",
           3
          ],
          [
           "VA",
           3
          ],
          [
           "VA",
           3
          ],
          [
           "VA",
           1
          ],
          [
           "VA",
           1
          ],
          [
           "VA",
           1
          ],
          [
           "VA",
           1
          ],
          [
           "VA",
           1
          ],
          [
           "VA",
           7
          ],
          [
           "VA",
           7
          ],
          [
           "VA",
           9
          ],
          [
           "VA",
           9
          ],
          [
           "VA",
           9
          ],
          [
           "VA",
           9
          ],
          [
           "VA",
           9
          ],
          [
           "VA",
           9
          ],
          [
           "VA",
           9
          ],
          [
           "VA",
           9
          ],
          [
           "VA",
           1
          ],
          [
           "VA",
           5
          ],
          [
           "VA",
           5
          ],
          [
           "VA",
           2
          ],
          [
           "VA",
           2
          ],
          [
           "VA",
           3
          ],
          [
           "VA",
           6
          ],
          [
           "VA",
           4
          ],
          [
           "VA",
           1
          ],
          [
           "VA",
           1
          ],
          [
           "VA",
           22
          ],
          [
           "VA",
           22
          ],
          [
           "VA",
           22
          ],
          [
           "VA",
           22
          ],
          [
           "VA",
           22
          ],
          [
           "VA",
           22
          ],
          [
           "VA",
           22
          ],
          [
           "VA",
           22
          ],
          [
           "VA",
           22
          ],
          [
           "VA",
           22
          ],
          [
           "VA",
           22
          ],
          [
           "VA",
           22
          ],
          [
           "VA",
           22
          ],
          [
           "VA",
           22
          ],
          [
           "VA",
           22
          ],
          [
           "VA",
           22
          ],
          [
           "VA",
           22
          ],
          [
           "VA",
           22
          ],
          [
           "VA",
           22
          ],
          [
           "VA",
           2
          ],
          [
           "VA",
           2
          ],
          [
           "VA",
           1
          ],
          [
           "VA",
           4
          ],
          [
           "VA",
           4
          ],
          [
           "VA",
           1
          ],
          [
           "VA",
           9
          ],
          [
           "VA",
           24
          ],
          [
           "VA",
           9
          ],
          [
           "VA",
           5
          ],
          [
           "VA",
           5
          ],
          [
           "VA",
           5
          ],
          [
           "VA",
           5
          ],
          [
           "VA",
           5
          ],
          [
           "VA",
           1
          ],
          [
           "VA",
           1
          ],
          [
           "VA",
           1
          ],
          [
           "VA",
           1
          ],
          [
           "VA",
           14
          ],
          [
           "VA",
           14
          ],
          [
           "VA",
           14
          ],
          [
           "VA",
           14
          ],
          [
           "VA",
           14
          ],
          [
           "VA",
           14
          ],
          [
           "VA",
           14
          ],
          [
           "VA",
           14
          ],
          [
           "VA",
           14
          ],
          [
           "VA",
           14
          ],
          [
           "VA",
           14
          ],
          [
           "VA",
           14
          ],
          [
           "VA",
           14
          ],
          [
           "VA",
           14
          ],
          [
           "VA",
           11
          ],
          [
           "VA",
           11
          ],
          [
           "VA",
           1
          ],
          [
           "VA",
           1
          ],
          [
           "VA",
           1
          ],
          [
           "VA",
           2
          ],
          [
           "VA",
           2
          ],
          [
           "VA",
           7
          ],
          [
           "VA",
           7
          ],
          [
           "VA",
           7
          ],
          [
           "VA",
           7
          ],
          [
           "MT",
           2
          ],
          [
           "MT",
           3
          ],
          [
           "MT",
           5
          ],
          [
           "MT",
           1
          ],
          [
           "MT",
           5
          ],
          [
           "MT",
           2
          ],
          [
           "MT",
           3
          ],
          [
           "MT",
           2
          ],
          [
           "MT",
           3
          ],
          [
           "MT",
           5
          ],
          [
           "MT",
           1
          ],
          [
           "MT",
           1
          ],
          [
           "MT",
           1
          ],
          [
           "MT",
           1
          ],
          [
           "MT",
           5
          ],
          [
           "MT",
           5
          ],
          [
           "MT",
           1
          ],
          [
           "MT",
           3
          ],
          [
           "MT",
           2
          ],
          [
           "MT",
           1
          ],
          [
           "MT",
           2
          ],
          [
           "MT",
           1
          ],
          [
           "MT",
           1
          ],
          [
           "MT",
           3
          ]
         ],
         "hovertemplate": "<b>%{hovertext}</b><br><br>breweryCounts=%{customdata[1]}<br>lat=%{lat}<br>lon=%{lon}<br>breweryState=%{customdata[0]}<extra></extra>",
         "hovertext": [
          "Birmingham",
          "Gadsden",
          "Huntsville",
          "Gulf Shores",
          "Birmingham",
          "Tuscaloosa",
          "Huntsville",
          "Mobile",
          "Birmingham",
          "Huntsville",
          "Phenix City",
          "Montgomery",
          "Decatur",
          "Tuscaloosa",
          "Fairhope",
          "Dothan",
          "Huntsville",
          "Birmingham",
          "Cullman",
          "Birmingham",
          "Huntsville",
          "Mobile",
          "Huntsville",
          "Alabaster",
          "Mobile",
          "Foley",
          "",
          "Guntersville",
          "Madison",
          "Helena",
          "Montgomery",
          "Opelika",
          "Opelika",
          "Madison",
          "Huntsville",
          "Mobile",
          "Alabaster",
          "Florence",
          "Trussville",
          "Huntsville",
          "Jasper",
          "Birmingham",
          "Birmingham",
          "Jasper",
          "Huntsville",
          "Highlands Ranch",
          "Longmont",
          "Golden",
          "Boulder",
          "Boulder",
          "Boulder",
          "Fort Collins",
          "Longmont",
          "Boulder",
          "Littleton",
          "Colorado Springs",
          "Denver",
          "Golden",
          "Longmont",
          "Greeley",
          "Denver",
          "Denver",
          "Dillon",
          "Aurora",
          "Salida",
          "Parker",
          "Denver",
          "Fort Collins",
          "Lafayette",
          "Denver",
          "Longmont",
          "Denver",
          "Longmont",
          "Littleton",
          "Denver",
          "Littleton",
          "Bailey",
          "Golden",
          "Fort Collins",
          "Denver",
          "Fort Collins",
          "Lyons",
          "Paonia",
          "Divide",
          "Lafayette",
          "Denver",
          "Broomfield",
          "Durango",
          "Fairplay",
          "Fort Collins",
          "Del Norte",
          "Idaho Springs",
          "Boulder",
          "Boulder",
          "Denver",
          "Longmont",
          "Greeley",
          "Cortez",
          "Broomfield",
          "Denver",
          "Old Saybrook",
          "New Britain",
          "Stratford",
          "Bridgeport",
          "Bloomfield",
          "Derby",
          "New Haven",
          "Mystic",
          "Greens Farms",
          "Stonington",
          "Oxford",
          "Danielson",
          "Waterbury",
          "New Hartford",
          "Bridgeport",
          "East Windsor",
          "Danbury",
          "Hartford",
          "Wallingford",
          "Pawcatuck",
          "Ellington",
          "South Windsor",
          "Hamden",
          "Branford",
          "New Haven",
          "East Hampton",
          "Bristol",
          "New Britain",
          "Middletown",
          "Wallingford",
          "Salem",
          "North Canaan",
          "Stamford",
          "Hartford",
          "Hartford",
          "Norwalk",
          "Kent",
          "Southington",
          "Stamford",
          "Milford",
          "Woodbridge",
          "West Hartford",
          "Hamden",
          "Ridgefield",
          "Oxford",
          "East Haven",
          "East Hartford",
          "Enfield",
          "Redding",
          "Plainville",
          "Fairfield",
          "Wolcott",
          "East Haddam",
          "Rocky Hill",
          "Branford",
          "Middletown",
          "Branford",
          "Norwich",
          "Bloomfield",
          "",
          "Stratford",
          "Willimantic",
          "Southington",
          "Woodbury",
          "Milton",
          "Newark",
          "Dover",
          "Newport",
          "Des Moines",
          "Lake Mills",
          "Clive",
          "Dubuque",
          "Bettendorf",
          "Albia",
          "Independence",
          "Ames",
          "Stratford",
          "",
          "Carlisle",
          "Davenport",
          "West Des Moines",
          "Burlington",
          "Mount Vernon",
          "Solon",
          "Winterset",
          "Central City",
          "Boone",
          "Sheldon",
          "Altoona",
          "Sioux City",
          "Carroll",
          "Dubuque",
          "Cedar Rapids",
          "Des Moines",
          "Muscatine",
          "Des Moines",
          "Bettendorf",
          "Elkader",
          "Shenandoah",
          "Dubuque",
          "Sibley",
          "Boone",
          "Des Moines",
          "Earling",
          "Mason City",
          "Huxley",
          "Polk City",
          "Ankeny",
          "Bettendorf",
          "Des Moines",
          "West Des Moines",
          "Manchester",
          "Davenport",
          "Council Bluffs",
          "Newton",
          "Cedar Rapids",
          "Le Claire",
          "Creston",
          "Ely",
          "Indianola",
          "Cedar Rapids",
          "Sioux City",
          "Dubuque",
          "Kalona",
          "Glenwood",
          "Waukee",
          "Carlisle",
          "Clear Lake",
          "Cedar Falls",
          "Osage",
          "Cedar Rapids",
          "Fort Madison",
          "Des Moines",
          "Maquoketa",
          "Sioux City",
          "Mason City",
          "Amana",
          "Ankeny",
          "Oskaloosa",
          "Spirit Lake",
          "Ottumwa",
          "Burlington",
          "Knoxville",
          "Calmar",
          "Decorah",
          "Bondurant",
          "Coralville",
          "Fort Dodge",
          "Bellevue",
          "Rock Rapids",
          "Hampton",
          "Cedar Falls",
          "Fort Dodge",
          "Cedar Falls",
          "Davenport",
          "Charles City",
          "Dyersville",
          "Spencer",
          "McGregor",
          "Belmond",
          "Cedar Rapids",
          "Cedar Rapids",
          "Cedar Rapids",
          "Clarion",
          "Titonka",
          "Decorah",
          "Ames",
          "Humboldt",
          "Bettendorf",
          "West Des Moines",
          "Keokuk",
          "Indianola",
          "West Okoboji",
          "Le Mars",
          "Northwood",
          "Jeffersontown",
          "Winchester",
          "Louisville",
          "Louisville",
          "Alexandria",
          "Louisville",
          "Lexington",
          "Louisville",
          "Covington",
          "Lexington",
          "Benton",
          "Bellevue",
          "Paducah",
          "Lexington",
          "Louisville",
          "Elizabethtown",
          "Lexington",
          "Louisville",
          "Louisville",
          "Murray",
          "Somerset",
          "Lexington",
          "Florence",
          "Louisville",
          "Paducah",
          "Somerset",
          "Robertson County",
          "Lexington",
          "Newport",
          "Glasgow",
          "Alpha",
          "Ann Arbor",
          "Ferndale",
          "Saint Clair Shores",
          "Kalamazoo",
          "Charlevoix",
          "",
          "Brighton",
          "Detroit",
          "Brighton",
          "Ferndale",
          "Constantine",
          "Marshall",
          "Detroit",
          "Vicksburg",
          "Warren",
          "Howell",
          "Grand Rapids",
          "Clare",
          "Jackson",
          "Oxford",
          "Sawyer",
          "Birmingham",
          "Saugatuck",
          "Dexter",
          "Houghton",
          "Warren",
          "Portage",
          "Plymouth",
          "Midland",
          "Lansing",
          "Holland",
          "Traverse City",
          "Kalamazoo",
          "Wayland",
          "",
          "Portage",
          "Traverse City",
          "Reed City",
          "Rochester",
          "Douglas",
          "Grand Rapids",
          "Bellaire",
          "Frankfort",
          "Flint",
          "Grand Rapids",
          "",
          "South Lyon",
          "Ann Arbor",
          "Okolona",
          "",
          "Biloxi",
          "Gulfport",
          "Hattiesburg",
          "Ocean Springs",
          "Ocean Springs",
          "",
          "Kiln",
          "Jackson",
          "",
          "Starkville",
          "Gulfport",
          "Natchez",
          "Laurel",
          "Hattiesburg",
          "Hattiesburg",
          "Meridian",
          "Water Valley",
          "Hattiesburg",
          "Oxford",
          "Starkville",
          "Asheville",
          "Waynesville",
          "High Point",
          "Apex",
          "Greensboro",
          "Gastonia",
          "Carolina Beach",
          "Charlotte",
          "Raleigh",
          "Wilmington",
          "Greensboro",
          "Gastonia",
          "Charlotte",
          "Grandy",
          "Portsmouth",
          "Conway",
          "Sparks",
          "Reno",
          "Las Vegas",
          "Las Vegas",
          "Las Vegas",
          "Las Vegas",
          "New Philadelphia",
          "Mentor",
          "Akron",
          "Avon",
          "Cleveland",
          "Lorain",
          "Austintown",
          "Columbiana",
          "Medina",
          "North Royalton",
          "Cleveland",
          "Cleveland Heights",
          "Cleveland Heights",
          "Cleveland Heights",
          "Amherst",
          "Strongsville",
          "Cleveland",
          "Akron",
          "Copley",
          "Broadview Heights",
          "",
          "Canton",
          "Cleveland",
          "Ashtabula",
          "Warren",
          "North Canton",
          "Cleveland",
          "Berea",
          "Chagrin Falls",
          "Madison",
          "Bloomingdale",
          "Cleveland",
          "Akron",
          "Middleburg Heights",
          "North Olmsted",
          "Canton",
          "Cleveland",
          "Garrettsville",
          "Cleveland",
          "Geneva",
          "Cleveland",
          "",
          "Cleveland",
          "Mount Vernon",
          "Coshocton",
          "Stow",
          "Rayland",
          "Cuyahoga Falls",
          "Cleveland",
          "Dover",
          "Akron",
          "Hudson",
          "Barberton",
          "Lakewood",
          "Wooster",
          "",
          "Cleveland",
          "Medina",
          "Lake Milton",
          "Lexington",
          "Lake Milton",
          "Akron",
          "Bolivar",
          "Bainbridge",
          "Medina",
          "Kent",
          "Akron",
          "",
          "Hartville",
          "Cleveland",
          "Cleveland",
          "Cuyahoga Falls",
          "Medina",
          "Canton",
          "Millersburg",
          "Akron",
          "Cuyahoga Falls",
          "Warren",
          "Cleveland",
          "",
          "Akron",
          "Canton",
          "Cleveland",
          "Cleveland",
          "Youngstown",
          "Kent",
          "Lisbon",
          "Cuyahoga Falls",
          "Austintown",
          "Massillon",
          "Mansfield",
          "Medina",
          "Cleveland",
          "Akron",
          "Avon",
          "Rocky River",
          "Canton",
          "Minerva",
          "Cleveland",
          "Canton",
          "Westlake",
          "Cleveland",
          "North Canton",
          "Cleveland",
          "Akron",
          "Akron",
          "Louisville",
          "Ashland",
          "Elyria",
          "Wadsworth",
          "Fresno",
          "Cleveland",
          "Medina",
          "Avon",
          "Cincinnati",
          "Mason",
          "Huber Heights",
          "Cincinnati",
          "Mount Orab",
          "Cincinnati",
          "Dayton",
          "Wilmington",
          "Arcanum",
          "Cincinnati",
          "Dayton",
          "Maineville",
          "Morrow",
          "Cincinnati",
          "Lockland",
          "Mason",
          "Springboro",
          "Dayton",
          "Cincinnati",
          "Xenia",
          "West Chester",
          "Kettering",
          "Cincinnati",
          "Cincinnati",
          "Middletown",
          "Cincinnati",
          "West Chester",
          "Vandalia",
          "Cincinnati",
          "Centerville",
          "Silverton",
          "Cincinnati",
          "Cincinnati",
          "Fairfax",
          "Company",
          "Milford",
          "Centerville",
          "Centerville",
          "Miamisburg",
          "Cincinnati",
          "Cincinnati",
          "Cincinnati",
          "Springfield",
          "Cincinnati",
          "Hamilton",
          "Loveland",
          "Middletown",
          "Cincinnati",
          "Cincinnati",
          "Kettering",
          "Cincinnati",
          "Williamsburg",
          "Cincinnati",
          "Medway",
          "Cincinnati",
          "Monroe",
          "Middletown",
          "Cincinnati",
          "Centerville",
          "Mason",
          "Mount Orab",
          "Miamisburg",
          "Cincinnati",
          "Cincinnati",
          "Cincinnati",
          "Cincinnati",
          "Dayton",
          "Cincinnati",
          "Beavercreek",
          "Dayton",
          "Springboro",
          "Cincinnati",
          "Cincinnati",
          "Cincinnati",
          "Yellow Springs",
          "Whitehall",
          "Plain City",
          "Columbus",
          "Columbus",
          "Columbus",
          "Canal Winchester",
          "Buckeye Lake",
          "Newark",
          "Whitehall",
          "Columbus",
          "Pickerington",
          "Gahanna",
          "Hilliard",
          "Marysville",
          "Newark",
          "Columbus",
          "Lancaster",
          "Heath",
          "Reynoldsburg",
          "Gahanna",
          "Lithopolis",
          "Columbus",
          "Columbus",
          "Westerville",
          "Columbus",
          "Granville",
          "Grove City",
          "Columbus",
          "Heath",
          "Columbus",
          "Marengo",
          "Powell",
          "Columbus",
          "Columbus",
          "Columbus",
          "Columbus",
          "Canal Winchester",
          "Powell",
          "Columbus",
          "Dublin",
          "Gahanna",
          "Delaware",
          "Lewis Center",
          "Carroll",
          "Columbus",
          "Columbus",
          "Columbus",
          "Columbus",
          "Richmond",
          "Delaware",
          "Lancaster",
          "Cincinnati",
          "Columbus",
          "Columbus",
          "Columbus",
          "Columbus",
          "Columbus",
          "Delaware",
          "Mount Vernon",
          "Westerville",
          "Granville",
          "Newark",
          "Columbus",
          "Worthington",
          "Columbus",
          "Logan",
          "Athens",
          "Chillicothe",
          "Athens",
          "Athens",
          "Pomeroy",
          "Marietta",
          "McConnelsville",
          "Bidwell",
          "Portsmouth",
          "Jackson",
          "Cambridge",
          "Zanesville",
          "Zanesville",
          "Galion",
          "Defiance",
          "Bowling Green",
          "Sandusky",
          "Toledo",
          "Bowling Green",
          "Arcanum",
          "Port Clinton",
          "Montpelier",
          "Toledo",
          "Versailles",
          "Bryan",
          "Findlay",
          "Napoleon",
          "Toledo",
          "New Bremen",
          "Toledo",
          "Sylvania",
          "Kelley",
          "Tiffin",
          "Celina",
          "Marion",
          "Toledo",
          "Maria Stein",
          "Troy",
          "Grand Rapids",
          "Wauseon",
          "Huntsville",
          "Toledo",
          "in",
          "Bellefontaine",
          "Rockford",
          "Coldwater",
          "Tiffin",
          "Port Clinton",
          "Hicksville",
          "Fostoria",
          "Sylvania",
          "Nevada",
          "Grand Rapids",
          "Norman",
          "Tulsa",
          "Oklahoma City",
          "Oklahoma City",
          "Edmond",
          "Oklahoma City",
          "Broken Arrow",
          "Tulsa",
          "Krebs",
          "Oklahoma City",
          "Tulsa",
          "Oklahoma City",
          "Edmond",
          "Tulsa",
          "Tulsa",
          "Oklahoma City",
          "Stillwater",
          "Norman",
          "Tulsa",
          "Oklahoma City",
          "Era",
          "Tulsa",
          "Tulsa",
          "Oklahoma City",
          "Tulsa",
          "Midwest City",
          "Oklahoma City",
          "Tulsa",
          "Warwick",
          "Cranston",
          "Newport",
          "Pawtucket",
          "Pawtucket",
          "Westerly",
          "East Greenwich",
          "Providence",
          "Woonsocket",
          "Providence",
          "Pawtucket",
          "Warwick",
          "Portsmouth",
          "Woonsocket",
          "Middletown",
          "Providence",
          "West Kingston",
          "Pawtucket",
          "Exeter",
          "Bristol",
          "Wakefield",
          "Armour",
          "Yankton",
          "Yankton",
          "Hartford",
          "Wagner",
          "Rapid City",
          "Sioux Falls",
          "Spearfish",
          "Rapid City",
          "Lead",
          "Brookings",
          "Sioux Falls",
          "Rapid City",
          "Sioux Falls",
          "Rapid City",
          "Valley Springs",
          "Sturgis",
          "Sioux Falls",
          "Rapid City",
          "Sioux Falls",
          "Hill City",
          "Custer",
          "Sioux Falls",
          "Aberdeen",
          "Rapid City",
          "Sioux Falls",
          "Spearfish",
          "Sioux Falls",
          "Hill City",
          "Spearfish",
          "Watertown",
          "Brookings",
          "Sioux Falls",
          "Rapid City",
          "Chattanooga",
          "Chattanooga",
          "Chattanooga",
          "Chattanooga",
          "Chattanooga",
          "Chattanooga",
          "Chattanooga",
          "Chattanooga",
          "Chattanooga",
          "Chattanooga",
          "Chattanooga",
          "Chattanooga",
          "Clarksville",
          "Cookeville",
          "Cookeville",
          "Cookeville",
          "Franklin",
          "Franklin",
          "Knoxville",
          "Knoxville",
          "Knoxville",
          "Knoxville",
          "Knoxville",
          "Knoxville",
          "Knoxville",
          "Knoxville",
          "Knoxville",
          "Knoxville",
          "Knoxville",
          "Knoxville",
          "Knoxville",
          "Knoxville",
          "Knoxville",
          "Knoxville",
          "Knoxville",
          "Knoxville",
          "Knoxville",
          "Knoxville",
          "Memphis",
          "Memphis",
          "Memphis",
          "Memphis",
          "Memphis",
          "Memphis",
          "Memphis",
          "Murfreesboro",
          "Murfreesboro",
          "Murfreesboro",
          "Nashville",
          "Nashville",
          "Nashville",
          "Nashville",
          "Nashville",
          "Nashville",
          "Nashville",
          "Nashville",
          "Nashville",
          "Nashville",
          "Nashville",
          "Nashville",
          "Nashville",
          "Nashville",
          "Nashville",
          "Nashville",
          "Nashville",
          "Nashville",
          "Nashville",
          "Nashville",
          "Nashville",
          "Nashville",
          "Nashville",
          "Nashville",
          "Nashville",
          "Nashville",
          "Nashville",
          "Bristol",
          "Bristol",
          "Johnson City",
          "Kingsport",
          "Bristol",
          "Johnson City",
          "Johnson City",
          "Johnson CIty",
          "Kingsport",
          "Bristol",
          "Bristol",
          "Norris",
          "Jonesborough",
          "Dayton",
          "Maryville",
          "Gatlinburg",
          "Maryville",
          "Sevierville",
          "Columbia",
          "Columbia",
          "Cottontown",
          "Hendersonville",
          "Sparta",
          "Nolensville",
          "Tullahoma",
          "Cordova",
          "Paris",
          "Jackson",
          "St. Albans",
          "Essex",
          "Waterbury",
          "Weston",
          "Marlboro",
          "Braintree Hill",
          "Jeffersonville",
          "Tunbridge",
          "Waitsfield",
          "Lyndonville",
          "Middlebury",
          "Shelburne",
          "Brandon",
          "Cabot",
          "Greensboro Bend",
          "Newport Center",
          "Warren",
          "Bridgewater Corners",
          "Morrisville",
          "South Burlington",
          "Brattleboro",
          "Bennington",
          "Middlebury",
          "Morrisville",
          "Rutland",
          "White River Junction",
          "Burlington",
          "Stowe",
          "Springfield",
          "Boise",
          "Garden City",
          "Boise",
          "Garden City",
          "Salmon",
          "Boise",
          "McCall",
          "Boise",
          "Garden City",
          "Nampa",
          "Eagle",
          "Coeur d",
          "Post Falls",
          "Boise",
          "Victor",
          "Boise",
          "Moscow",
          "Idaho Falls",
          "Bonners Ferry",
          "Ponderay",
          "Hayden",
          "Boise",
          "Buhl",
          "McCall",
          "Sandpoint",
          "Moscow",
          "Nampa",
          "Wallace",
          "Pocatello",
          "Coeur d",
          "Boise",
          "Pocatello",
          "Post Falls",
          "Garden City",
          "Washington",
          "Moscow",
          "Ketchum",
          "McCall",
          "Ketchum",
          "Post Falls",
          "Elk River",
          "Pocatello",
          "Coeur d",
          "Idaho Falls",
          "Boise",
          "Hailey",
          "Ferdinand",
          "Coeur d",
          "Twin Falls",
          "Wallace",
          "Ketchum",
          "Garden City",
          "Boise",
          "Victor",
          "Cottonwood",
          "Boise",
          "Gary",
          "Fort Wayne",
          "Columbus",
          "Auburn",
          "Granger",
          "Noblesville",
          "Indianapolis",
          "Bloomington",
          "Indianapolis",
          "Whiting",
          "Michigan City",
          "Hammond",
          "Evansville",
          "Indianapolis",
          "Angola",
          "Chesterton",
          "Spencer",
          "South Bend",
          "Crown Point",
          "Speedway",
          "Merrillville",
          "Mishawaka",
          "Indianapolis",
          "Carmel",
          "Fort Wayne",
          "Bloomington",
          "Goshen",
          "Muncie",
          "Indianapolis",
          "Wawaka",
          "Columbus",
          "Elkhart",
          "Indianapolis",
          "Fort Wayne",
          "Lafayette",
          "Fort Wayne",
          "St. John",
          "Greenwood",
          "Indianapolis",
          "Evansville",
          "New Albany",
          "Richmond",
          "Griffith",
          "New Albany",
          "Lafayette",
          "Noblesville",
          "Nashville",
          "Indianapolis",
          "Jeffersonville",
          "Bedford",
          "South Bend",
          "Franklin",
          "Michigan City",
          "Fort Wayne",
          "Indianapolis",
          "Bargersville",
          "Terre Haute",
          "Lafayette",
          "Munster",
          "Kokomo",
          "Fort Wayne",
          "Indianapolis",
          "Bloomington",
          "Griffith",
          "Middlebury",
          "Griffith",
          "Dyer",
          "Columbus",
          "Bangor",
          "",
          "Portland",
          "Bar Harbor",
          "Wilton",
          "Portland",
          "Carrabassett Valley",
          "",
          "Bangor",
          "Saco",
          "Gardiner",
          "Bath",
          "Kennebunk",
          "Portland",
          "Lewiston",
          "Lewiston",
          "Skowhegan",
          "Gray",
          "Portland",
          "Orono",
          "Brunswick",
          "Brewer",
          "Camden",
          "Boothbay",
          "Naples",
          "Portland",
          "Yarmouth",
          "Portland",
          "Berwick",
          "Augusta",
          "Portland",
          "Blue Hill",
          "Portland",
          "Fort Kent",
          "Brunswick",
          "Harrison",
          "Ellsworth",
          "Boothbay Harbor",
          "South Portland",
          "South Portland",
          "Portland",
          "Bangor",
          "Belfast",
          "Lyman",
          "Bangor",
          "Old Orchard Beach",
          "Limerick",
          "Portland",
          "Monmouth",
          "Freeport",
          "South Portland",
          "Bar Harbor",
          "The Forks",
          "Liberty",
          "Hallowell",
          "Rockland",
          "Liberty",
          "",
          "Portland",
          "Auburn",
          "Lubec",
          "Machias",
          "Freeport",
          "Waterville",
          "Orono",
          "",
          "Brewer",
          "Westbrook",
          "Brunswick",
          "Monhegan",
          "Scarborough",
          "North Haven",
          "Caribou",
          "Norway",
          "New Gloucester",
          "Waldoboro",
          "Orono",
          "Pittsfield",
          "Newcastle",
          "Portland",
          "Union",
          "Portland",
          "Fryeburg",
          "Westport Island",
          "Bangor",
          "",
          "Portland",
          "Auburn",
          "Freeport",
          "Sedgwick",
          "Bethel",
          "Wells",
          "Searsmont",
          "Kittery",
          "Farmington",
          "Monson",
          "Portland",
          "Waterville",
          "Kittery",
          "Westbrook",
          "York",
          "Denver",
          "Eugene",
          "Lorane",
          "Tualatin",
          "Baker City",
          "Corvallis",
          "Bend",
          "Portland",
          "Astoria",
          "Saint Helens",
          "Portland",
          "Redmond",
          "Eugene",
          "Eugene",
          "Tillamook",
          "Bend",
          "Oregon City",
          "Eugene",
          "Eugene",
          "Estacada",
          "Astoria",
          "Hood River",
          "Salem",
          "Portland",
          "Eugene",
          "Portland",
          "Clackamas",
          "Hood River",
          "Oregon",
          "Eugene",
          "Eugene",
          "Portland",
          "Boardman",
          "Pacific City",
          "Hood River",
          "Springfield",
          "Portland",
          "Pendleton",
          "Newport",
          "Eugene",
          "Lake Oswego",
          "Portland",
          "Eugene",
          "Portland",
          "Newberg",
          "Bend",
          "Yachats",
          "Philadelphia",
          "Philadelphia",
          "Philadelphia",
          "Philadelphia",
          "Lancaster",
          "Philadelphia",
          "Croydon",
          "Philadelphia",
          "Reading",
          "Pottstown",
          "Adamstown",
          "Ardmore",
          "New Hope",
          "New Hope",
          "Downingtown",
          "Easton",
          "Philadelphia",
          "Harrisburg",
          "State College",
          "Hershey",
          "",
          "Pittsburgh",
          "Latrobe",
          "Pittsburgh",
          "Pittsburgh",
          "Pittsburgh",
          "Pittsburgh",
          "Pittsburgh",
          "Erie",
          "St. Marys",
          "Erie",
          "Inc.",
          "Penn Yan",
          "Lake George",
          "Farmingdale",
          "Oceanside",
          "Long Island City",
          "Buffalo",
          "Honeoye",
          "Patchogue",
          "Cooperstown",
          "Ridgewood",
          "The Bronx",
          "Williamsburg",
          "Sunset",
          "Buffalo",
          "Elmsford",
          "Buffalo",
          "Coney",
          "Riverhead",
          "Flatbush",
          "Pearl River",
          "Rochester",
          "Ellicottville",
          "Rochester",
          "Ridgewood",
          "Staten Island",
          "Buffalo",
          "Carroll",
          "Buffalo",
          "Rochester",
          "Bay Shore",
          "Greenpoint",
          "Williamsburg",
          "Williamsbridge",
          "Garnerville",
          "East",
          "Ithaca",
          "Rochester",
          "Kingston",
          "Greenpoint",
          "Blauvelt",
          "Buffalo",
          "Long Island City",
          "Riverhead",
          "Utica",
          "Avon",
          "Lockport",
          "Gardens",
          "Schroon Lake",
          "Buffalo",
          "Cooperstown",
          "Manchester",
          "Buffalo",
          "Long Island City",
          "Rochester",
          "Clifton Park",
          "Astoria",
          "Red Hook",
          "Elizaville",
          "Oceanside",
          "Lakewood",
          "Gowanus",
          "Rochester",
          "Gowanus",
          "Long Island City",
          "Elmira",
          "Geneva",
          "Greece",
          "Houston",
          "San Antonio",
          "Austin",
          "Austin",
          "Austin",
          "Houston",
          "Conroe",
          "Waco",
          "Salado",
          "Alpine",
          "Bryan",
          "Austin",
          "Dallas",
          "Houston",
          "Adkins",
          "Seven Points",
          "Dallas",
          "Winnsboro",
          "Dallas",
          "Tyler",
          "Houston",
          "McKinney",
          "San Antonio",
          "Austin",
          "Dallas",
          "Dickinson",
          "Galveston",
          "Houston",
          "Austin",
          "Austin",
          "Garland",
          "Austin",
          "Houston",
          "Gainesville",
          "San Antonio",
          "Garland",
          "Austin",
          "Magnolia",
          "Fort Worth",
          "Austin",
          "San Marcos",
          "Fort Worth",
          "College Station",
          "Katy",
          "Austin",
          "Dallas",
          "Fort Worth",
          "San Antonio",
          "Blanco",
          "Granbury",
          "Austin",
          "Houston",
          "Keller",
          "San Antonio",
          "Conroe",
          "Shiner",
          "Taylor",
          "Dickinson",
          "Richmond",
          "Austin",
          "Tyler",
          "Irving",
          "Houston",
          "St. Petersburg",
          "Panama City",
          "Bradenton",
          "Dania",
          "Dunedin",
          "Tampa",
          "Jacksonville",
          "Gainesville",
          "Vero Beach",
          "St. Augustine",
          "Tampa",
          "Jacksonville",
          "Largo",
          "Atlantic Beach",
          "Pompano Beach",
          "Largo",
          "Boca Raton",
          "Coral Springs",
          "Lake Buena Vista",
          "Odessa ",
          "Sarasota ",
          "St. Augustine",
          "Jacksonville",
          "Key West",
          "Tampa",
          "Lakeland",
          "St. Petersburg",
          "Boca Raton",
          "Orlando",
          "Cocoa",
          "Fort Myers",
          "Tallahassee",
          "Sarasota",
          "Cape Coral",
          "Winter Park",
          "DeBary",
          "Cocoa Beach",
          "Tampa",
          "Jupiter & West Palm Beach",
          "Cocoa Beach",
          "Miami",
          "Crystal River",
          "Boynton Beach",
          "Tampa",
          "Palmetto",
          "Winter Garden",
          "Safety Harbor",
          "St. Petersburg",
          "Bradenton",
          "St. Petersburg",
          "Orlando",
          "Winter Park",
          "Tallahassee",
          "Destin",
          "Dunedin",
          "Jacksonville Beach ",
          "Punta Gorda",
          "Gainesville",
          "Cape Canaveral",
          "Auburndale",
          "Islamorada",
          "Fort Myers",
          "Boca Raton ",
          "Tallahassee",
          "Tallahassee",
          "Santa Rosa Beach",
          "St. Petersburg",
          "Jacksonville Beach",
          "Leesburg",
          "Winter Haven",
          "Pensacola",
          "Fort Lauderdale",
          "Melbourne",
          "Longwood",
          "Jacksonville",
          "Santa Rosa Beach",
          "Ocala",
          "Melbourne",
          "Jacksonville",
          "Islamorada ",
          "Miami",
          "Sarasota",
          "Fernandina Beach",
          "Key West",
          "Palm Harbor",
          "Tallahassee",
          "Tampa",
          "Fort Lauderdale",
          "Fort Lauderdale",
          "Madeira Beach",
          "Marco Island",
          "Pensacola ",
          "Doral",
          "Homestead",
          "Tallahassee",
          "Bradenton",
          "Mount Dora",
          "Naples",
          "New Smyrna Beach",
          "Boynton Beach",
          "Orlando",
          "Vero Beach",
          "Hollywood",
          "Orlando",
          "Ormond",
          "Clearwater",
          "Sebastian",
          "Pensacola",
          "DeLand",
          "Orange Park",
          "Titusville ",
          "Fort Myers",
          "Tallahassee",
          "Fort Walton Beach",
          "Boca Raton",
          "Treasure Island",
          "Atlantic Beach",
          "Seminole",
          "New Port Richey",
          "Orlando",
          "St. Cloud",
          "Naples",
          "Jacksonville",
          "Orlando",
          "Fort Pierce",
          "Tarpon Springs",
          "Delray Beach",
          "Sarasota",
          "Clearwater and",
          "Jacksonville",
          "Orlando",
          "Tampa",
          "Tampa",
          "St. Petersburg",
          "Tampa",
          "Tampa",
          "Miami",
          "Tequesta",
          "Miami Beach",
          "Coral Gables",
          "Ormond Beach",
          "Plant City",
          "Jacksonville Beach",
          "Gainesville",
          "Tampa",
          "Tarpon Springs",
          "St. Petersburg",
          "Jacksonville",
          "Vero Beach",
          "Key West",
          "Jacksonville",
          "Odessa",
          "Miami",
          "Navarre",
          "Tampa",
          "Jacksonville Beach",
          "Newnan",
          "Hapeville",
          "Decatur",
          "Kennesaw",
          "Cumming",
          "Savannah",
          "Fairburn",
          "Athens",
          "Kennesaw",
          "Statesboro",
          "Atlanta",
          "Blue Ridge",
          "Roswell",
          "Atlanta & Buckhead",
          "Blue Ridge",
          "Alpharetta",
          "Marietta",
          "Alpharetta",
          "Gainesville",
          "Peachtree City",
          "Macon",
          "Atlanta",
          "Atlanta",
          "Savannah",
          "Omaha",
          "Atlanta",
          "Stone Mountain",
          "Macon",
          "Atlanta",
          "Carrollton",
          "Atlanta",
          "Marietta",
          "Woodstock",
          "Augusta",
          "Atlanta",
          "Marietta",
          "Augusta",
          "Atlanta",
          "Savannah",
          "Brunswick",
          "Lawrenceville",
          "Savannah",
          "Athens",
          "Atlanta",
          "Athens",
          "Columbus",
          "Decatur",
          "Atlanta",
          "Decatur",
          "Avondale Estates",
          "LaGrange",
          "Atlanta",
          "Waimea",
          "Waikīkī",
          "Kāneohe",
          "Kihei",
          "Kailua",
          "Kailua-Kona",
          "Lāhainā",
          "Port Allen",
          "Kaka",
          "Lihue",
          "Hilo",
          "Mō",
          "Kaka",
          "Kaka",
          "brewery",
          "Urbana",
          "Tinley Park.",
          "Belleville",
          "Chicago",
          "Teutopolis.",
          "Metropolis.",
          "St. Charles.",
          "Chicago",
          "The",
          "Chicago.",
          "Springfield.",
          "New Lenox.",
          "Geneva.",
          "Peoria.",
          "Western Springs.",
          "Murphysboro",
          "Georgetown.",
          "Chicago.",
          "East Dundee.",
          "Willowbrook.",
          "as",
          "Blue Island.",
          "Mundelein.",
          "Bourbonnais.",
          "North Aurora.",
          "Mokena.",
          "Lyons.",
          "Long Grove.",
          "Chicago.",
          "Springfield",
          "Ava",
          "Rockford.",
          "Itasca.",
          "Chicago.",
          "Crystal Lake.",
          "St. Charles.",
          "Decatur.",
          "Chicago",
          "Decatur.",
          "Chicago.",
          "Wheaton.",
          "Chicago.",
          "Effingham.",
          "Joliet.",
          "Elmhurst.",
          "Fairbury.",
          "West",
          "Batavia.",
          "Springfield.",
          "Cider",
          "Crete.",
          "Breese",
          "Forest Park.",
          "Des Plaines.",
          "Chicago",
          "Hodgkins.",
          "Berwyn.",
          "Barrington",
          "Flossmoor",
          "brewery",
          "Macomb.",
          "Plainfield.",
          "Freeport.",
          "Geneseo.",
          "Decatur.",
          "Downers Grove.",
          "With",
          "Tinley Park.",
          "Byron.",
          "Half",
          "Lincolnshire.",
          "Petersburg.",
          "Winthrop Harbor.",
          "The",
          "New Lenox.",
          "Chicago",
          "Woodstock.",
          "Christopher.",
          "Chicago.",
          "Waterloo.",
          "Aurora.",
          "Chicago.",
          "Woodridge.",
          "Chicago.",
          "brewery",
          "Peoria.",
          "Galesburg",
          "Itasca.",
          "Jolly",
          "Mahomet.",
          "Bloomington.",
          "distillery",
          "Oak Park.",
          "Woodstock.",
          "Galesburg.",
          "Lake Bluff.",
          "Chicago.",
          "Lena.",
          "Red Bud.",
          "Grayslake.",
          "Bloomington.",
          "Geneseo.",
          "Buffalo Grove.",
          "Paris.",
          "South Barrington.",
          "Villa Park.",
          "Glenview.",
          "Shorewood.",
          "Chicago",
          "McHenry.",
          "Romeoville.",
          "Chicago",
          "Chicago",
          "Chicago.",
          "La Grange.",
          "Darien.",
          "Murphysboro.",
          "Monticello.",
          "Chicago",
          "Joliet.",
          "Waukegan.",
          "Lockport.",
          "The",
          "Oak",
          "Beer",
          "Chicago",
          "Alton.",
          "Collinsville.",
          "Chicago.",
          "Chicago Ridge.",
          "Oak Park.",
          "Lansing.",
          "Chicago.",
          "Hillsboro.",
          "Chicago.",
          "Oswego.",
          "Evanston.",
          "O'Fallon.",
          "Geneva.",
          "Lake",
          "Chicago.",
          "Chicago.",
          "Chicago",
          "Lemont",
          "Rockford",
          "Homewood.",
          "Rock",
          "Ottawa.",
          "Moline.",
          "Edwardsville.",
          "brewery",
          "Urbana.",
          "Channahon.",
          "St. Charles.",
          "Lake Zurich.",
          "Chicago",
          "Chicago.",
          "Elkville.",
          "Algonquin.",
          "Ava.",
          "Huntley.",
          "Woodstock",
          "Schiller Park.",
          "Wauconda.",
          "Woodridge.",
          "The",
          "Naperville",
          "Tinley Park.",
          "Cary.",
          "Springfield.",
          "Manteno.",
          "Du Quoin.",
          "Geneva.",
          "Waterloo.",
          "brewery",
          "Evanston.",
          "Yorkville.",
          "Mundelein.",
          "Savoy.",
          "Two",
          "Clinton.",
          "Niles",
          "Chicago.",
          "Rockford.",
          "Chicago.",
          "Algonquin.",
          "Rock Island.",
          "Plainfield.",
          "Chicago.",
          "Westmont.",
          "Sparta.",
          "Chicago",
          "Shorewood.",
          "Lena.",
          "Bloomingdale.",
          "Waukegan.",
          "Clay Center",
          "Lawrence",
          "Wichita",
          "Topeka",
          "Galena",
          "Lawrence",
          "Topeka",
          "Salina",
          "Fort Scott",
          "Overland Park",
          "Quinter",
          "Wichita",
          "Hays",
          "Dodge City",
          "Beloit",
          "Pittsburg",
          "Lawrence",
          "Garden City",
          "Sylvan Grove",
          "Lawrence",
          "Cheney",
          "Topeka",
          "Wichita",
          "Topeka",
          "Independence",
          "Pittsburg",
          "Washington",
          "Lawrence",
          "Wichita",
          "Lenexa",
          "Hays",
          "Lenexa",
          "Manhattan",
          "Topeka",
          "Wichita",
          "Ottawa",
          "Edwardsville",
          "Shawnee",
          "Emporia",
          "Olathe",
          "Wichita",
          "Hutchinson",
          "Mission",
          "Shawnee",
          "Manhattan",
          "Wichita",
          "McPherson",
          "Shawnee",
          "Eudora",
          "El Dorado",
          "Wichita",
          "Lawrence",
          "Covington",
          "New Orleans",
          "Arnaudville",
          "New Orleans",
          "Marksville",
          "Natchitoches",
          "Mandeville",
          "New Orleans",
          "New Orleans",
          "Lake Charles",
          "New Orleans",
          "Bossier City",
          "Monroe",
          "Gonzales",
          "Hammond",
          "New Orleans",
          "Shreveport",
          "Alexandria",
          "New Orleans",
          "Thibodaux",
          "New Orleans",
          "New Orleans",
          "Mandeville",
          "West Monroe",
          "Broussard",
          "New Orleans",
          "New Orleans",
          "New Orleans",
          "Baton Rouge",
          "Shreveport",
          "New Orleans",
          "New Orleans",
          "Baton Rouge",
          "Houma",
          "Baton Rouge",
          "Alexandria",
          "New Orleans",
          "Ruston",
          "New Orleans",
          "Eldersburg",
          "Cumberland",
          "Rockville",
          "Bel Air",
          "Hagerstown",
          "Frederick",
          "Silver Spring",
          "Hunt Valley",
          "Ocean City",
          "Chesapeake City",
          "Columbia",
          "Rising Sun",
          "Gaithersburg",
          "Lusby",
          "Frederick",
          "Baltimore ",
          "Taneytown",
          "Brookeville",
          "Centreville",
          "Berlin",
          "Baltimore ",
          "Crofton",
          "Whaleyville",
          "Odenton",
          "Stevensville",
          "Williamsport",
          "Baltimore ",
          "Baltimore ",
          "Cumberland",
          "Rosedale",
          "St. Michaels",
          "Salisbury",
          "Street",
          "Butler",
          "Ocean City",
          "Colora",
          "Frederick",
          "Union Bridge",
          "Annapolis",
          "Hyattsville",
          "Mount Airy",
          "Baltimore ",
          "Chesapeake Beach",
          "Halethorpe",
          "Huntingtown",
          "Halethorpe",
          "Havre de Grace",
          "Columbia",
          "Frederick",
          "Bel Air",
          "Monkton",
          "Laurel",
          "Westminster",
          "Frederick",
          "Dundalk",
          "Olney",
          "Adamstown",
          "Ellicott City",
          "Elkton",
          "Frederick",
          "Mount Airy",
          "Frederick",
          "Baltimore ",
          "Prince Frederick",
          "Easton",
          "Baltimore ",
          "Frederick",
          "Baltimore ",
          "Sudlersville",
          "Baltimore ",
          "Waldorf",
          "Ellicott City",
          "Middle River",
          "Westminster",
          "Cambridge",
          "Baltimore",
          "Columbia",
          "Mount Airy",
          "Frederick",
          "Dowell",
          "Hampstead",
          "Rockville",
          "Columbia",
          "Owings",
          "Silver Spring",
          "Whiteford",
          "Brunswick/Frederick",
          "Thurmont",
          "Frederick",
          "Hyattsville",
          "Baltimore ",
          "Parsonsburg",
          "Queenstown",
          "Derwood",
          "Baltimore ",
          "Hagerstown",
          "Elkton",
          "Gaithersburg",
          "Baltimore ",
          "Baltimore ",
          "White Marsh",
          "Easton",
          "Anoka",
          "Minneapolis",
          "Minneapolis",
          "Elk River",
          "Austin",
          "Lakeville",
          "New Ulm",
          "Spring Park",
          "St. Joseph",
          "Saint Paul",
          "Shakopee",
          "Eagan",
          "Hendricks",
          "Saint Paul",
          "Minneapolis",
          "St. Cloud",
          "Bemidji",
          "Duluth",
          "White Bear Lake",
          "Long Lake",
          "Saint Paul",
          "Duluth",
          "Minnetonka",
          "Marshall",
          "Minneapolis",
          "Two Harbors",
          "Duluth",
          "Dundas",
          "Saint Paul",
          "Alexandria",
          "Minneapolis",
          "Saint Paul",
          "Minneapolis",
          "Minneapolis",
          "Victoria",
          "Minneapolis",
          "Minneapolis",
          "Duluth",
          "Saint Paul",
          "Rochester",
          "Worthington",
          "Willmar",
          "Minneapolis",
          "Minneapolis",
          "New Prague",
          "Rochester",
          "Austin",
          "Nisswa",
          "Lino Lakes",
          "Buffalo",
          "Duluth",
          "Blaine",
          "Northfield",
          "Minneapolis",
          "Minneapolis",
          "Minneapolis",
          "Baxter",
          "Rochester",
          "Duluth",
          "Lakeville",
          "Stillwater",
          "Mankato",
          "Ranier",
          "Madelia",
          "Rochester",
          "Plymouth",
          "Big Lake",
          "Minneapolis",
          "Mankato",
          "Minneapolis",
          "Montgomery",
          "Monticello",
          "Maple Grove",
          "St. Cloud",
          "Saint Paul",
          "Minneapolis",
          "Reads Landing",
          "Hallock",
          "Minneapolis",
          "Brainerd",
          "Monticello",
          "Minneapolis",
          "Sleepy Eye",
          "Annandale",
          "Hastings",
          "St. Louis Park",
          "Saint Paul",
          "Minneapolis",
          "Lanesboro",
          "Luverne",
          "Montevideo",
          "Northfield",
          "Cold Spring",
          "Pine City",
          "Cannon Falls",
          "Minneapolis",
          "Chisago City",
          "Golden Valley",
          "Minneapolis",
          "Minneapolis",
          "Grand Marais",
          "Saint Paul",
          "Waconia",
          "Robbinsdale",
          "St. Louis",
          "Liberty",
          "Springfield",
          "St. Louis",
          "St. Louis",
          "St. Louis",
          "Ozark",
          "St. Louis",
          "Kansas City",
          "Kansas City",
          "Kansas City",
          "Columbia",
          "Columbia",
          "St. Louis",
          "North Kansas City",
          "Kansas City",
          "Kansas City",
          "St. Louis",
          "Raytown",
          "Kansas City",
          "St. Louis",
          "St. Charles",
          "Ferguson",
          "Columbia",
          "Wentzville",
          "Springfield",
          "O'Fallon",
          "Kansas City",
          "St. Louis",
          "St. Louis",
          "Kansas City",
          "Osage Beach",
          "Hamilton",
          "Columbia",
          "Springfield",
          "Valley Park",
          "Festus",
          "Eureka",
          "O'Fallon",
          "St. Louis",
          "St. Louis",
          "Springfield",
          "Florissant",
          "Maryland Heights",
          "St. Louis",
          "O'Fallon",
          "Labadie",
          "Carrollton",
          "Columbia",
          "St. Louis",
          "St. Louis",
          "Maplewood",
          "Maryland Heights",
          "Springfield",
          "St. Louis",
          "Kansas City",
          "St. Peters",
          "Kansas City",
          "St. Charles",
          "St. Louis",
          "St. Charles",
          "St. Louis",
          "St. Louis",
          "Grand Forks",
          "Fargo",
          "Fargo",
          "Fargo",
          "Fargo",
          "Bismarck",
          "Grand Forks",
          "Minot",
          "Minot",
          "Williston",
          "Watford City",
          "Bismarck",
          "Mandan",
          "Mandan",
          "Dickinson",
          "Mapleton",
          "Minot",
          "Lincoln",
          "Lincoln",
          "Omaha",
          "Lincoln",
          "Valentine",
          "Taylor",
          "Seward",
          "Alliance",
          "Omaha",
          "Atkinson",
          "Johnson Lake",
          "Lincoln",
          "Lincoln",
          "Norfolk",
          "Lincoln",
          "Fairfield",
          "Omaha",
          "Hastings",
          "Scottsbluff",
          "Columbus",
          "Lincoln",
          "Albion",
          "Omaha",
          "Omaha",
          "Wayne",
          "Broken Bow",
          "La Vista",
          "McCook",
          "Holdrege",
          "La Vista",
          "Papillion",
          "North Platte",
          "La Vista",
          "Kearney",
          "Grand Island",
          "Syracuse",
          "Pawnee City",
          "Ord",
          "Omaha",
          "Omaha",
          "Hastings",
          "Beatrice",
          "Kearney",
          "Omaha",
          "Omaha",
          "Lincoln",
          "Lincoln",
          "Williamstown",
          "Dover",
          "Rio Grande",
          "Hoboken",
          "Hackensack",
          "Lafayette",
          "Newark",
          "Toms River",
          "Asbury Park",
          "Atco",
          "Avalon",
          "Forked River",
          "Belmar",
          "Middletown",
          "Berlin",
          "Red Bank",
          "Carlstadt",
          "Glassboro",
          "Bradley Beach",
          "Vineland",
          "Little Ferry",
          "Manville",
          "Shamong",
          "Blairstown",
          "Cape May Court House",
          "Rio Grande",
          "Atlantic Highlands",
          "Roselle Park",
          "Cape May Court House",
          "Cape May",
          "Bordentown",
          "Raritan Township",
          "Fairfield",
          "Williamstown",
          "Edison",
          "Hackettstown",
          "Asbury Park",
          "Clarksboro",
          "Jersey City",
          "Collingswood",
          "Pennsauken",
          "Merchantville",
          "Montclair",
          "Woodbury",
          "Hillsborough",
          "Cherry Hill",
          "Denville",
          "Somerdale",
          "South Orange",
          "Galloway",
          "Clifton",
          "Millville",
          "North Cape May",
          "Hackensack",
          "New Brunswick",
          "Seaside Heights",
          "Egg Harbor Township",
          "Butler",
          "Hoboken",
          "Pitman",
          "Lakewood",
          "Maple Shade",
          "Voorhees",
          "Woodbridge",
          "Hackettstown",
          "Tinton Falls",
          "Ocean Township",
          "Pitman",
          "Haddonfield",
          "Sparta",
          "Point Pleasant Beach",
          "Neptune City",
          "Flemington",
          "Long Valley",
          "Medford",
          "Ocean View",
          "Haddon Heights",
          "Fairfield",
          "Hackettstown",
          "Manahawkin",
          "Montclair",
          "Wildwood",
          "Medford",
          "Pitman",
          "North Bergen",
          "Stockton",
          "Waretown",
          "Island Heights",
          "Little Egg Harbor",
          "Keansburg",
          "Red Bank",
          "Pennington",
          "Ewing Township",
          "Cream Ridge",
          "Beach Haven",
          "Milford",
          "Cape May Court House",
          "Maplewood",
          "Mount Holly",
          "Burlington",
          "Hammonton",
          "Hammonton",
          "Toms River",
          "Oaklyn",
          "Berkley Heights",
          "Princeton",
          "Red Bank",
          "Hopewell",
          "Egg Harbor Township",
          "Atlantic City",
          "Chatham",
          "Kenilworth",
          "New Providence",
          "Mount Holly",
          "Hammonton",
          "Westville",
          "Rahway",
          "Long Branch",
          "Cranford",
          "Marlton",
          "Greenville",
          "North Charleston",
          "Columbia",
          "Charleston",
          "Spartanburg",
          "Greenville",
          "Salt Lake City",
          "Salt Lake City",
          "Salt Lake City",
          "Woodinville",
          "Seattle",
          "Redmond",
          "Seattle ",
          "Olympia",
          "Seattle",
          "Seattle",
          "Seattle",
          "Seattle",
          "Arlington",
          "Bellingham",
          "Everett",
          "Mountlake",
          "Bremerton",
          "Ellensburg",
          "Spokane",
          "Snoqualmie",
          "Seattle",
          "Seattle",
          "Centralia",
          "Tacoma ",
          "Mill",
          "Burien & Seattle",
          "Leavenworth",
          "Port Townsend",
          "Edmonds",
          "Kennewick",
          "White Salmon",
          "Seattle",
          "Redmond",
          "Pacific",
          "Moxee",
          "Bellevue",
          "Seattle",
          "Mount Vernon",
          "Gig Harbor",
          "Seattle",
          "Bellingham",
          "Bellingham ",
          "Everett",
          "Seattle",
          "Lynnwood",
          "Stevenson",
          "Anacortes",
          "Oroville",
          "Airway Heights",
          "Poulsbo",
          "Yakima",
          "Kent",
          "Deming",
          "Clarkston",
          "Roslyn",
          "Arlington",
          "Winthrop",
          "Seattle",
          "Bellevue",
          "Pullman",
          "Sunnyside",
          "Washougal",
          "Oak Harbor",
          "Richland",
          "Woodinville",
          "Tacoma",
          "Buckley",
          "Spokane",
          "Kingston",
          "Seattle",
          "Waitsburg",
          "Bainbridge Island",
          "Mount Vernon",
          "Issaquah",
          "Seattle",
          "Seattle",
          "Tacoma",
          "Eastsound",
          "Spokane",
          "Puyallup",
          "Carson",
          "Twisp",
          "Spokane",
          "La Conner",
          "Kettle Falls",
          "Poulsbo",
          "Spokane Valley",
          "Seattle",
          "Vancouver",
          "Vancouver",
          "Richland",
          "Republic",
          "Concrete",
          "Prosser",
          "Seattle",
          "Camas",
          "Shelton",
          "Spokane",
          "Bellingham",
          "Wenatchee",
          "Richland",
          "Walla Walla",
          "Bremerton",
          "Bellingham",
          "Seattle",
          "Prosser",
          "Graham",
          "Seattle",
          "Tacoma",
          "Seattle",
          "Seattle",
          "Westport",
          "Seattle",
          "Vancouver",
          "Colville",
          "Woodinville",
          "Silverdale",
          "Redmond",
          "Bothell",
          "Richland",
          "Spokane",
          "Spokane",
          "Seattle",
          "Edmonds",
          "Seattle",
          "Seattle",
          "Monroe",
          "Moses Lake",
          "Port Angeles",
          "Port Orchard",
          "Woodinville",
          "Puyallup",
          "Dayton",
          "Seattle",
          "Olympia",
          "Seattle",
          "Longview",
          "Vashon",
          "Seaview",
          "Spokane Valley",
          "Lacey",
          "Mead",
          "Washougal",
          "Vancouver",
          "Moses Lake",
          "Port Townsend",
          "Spokane",
          "Snoqualmie Pass",
          "Seattle",
          "Vancouver",
          "Odessa",
          "Vancouver",
          "Centralia",
          "Tacoma",
          "Seattle",
          "Redmond",
          "Vancouver",
          "Bellevue",
          "Manson",
          "Carson",
          "Cathlamet",
          "Enumclaw",
          "Port Angeles",
          "Seattle",
          "Bellingham",
          "Walla Walla",
          "Ferndale",
          "Tacoma",
          "Seattle",
          "Seattle",
          "Newport",
          "Poulsbo",
          "Everett",
          "Quilcene",
          "Castle Rock",
          "Spokane Valley",
          "Everett",
          "Sammamish",
          "Marysville",
          "Redmond",
          "Kirkland",
          "Kenmore",
          "Port Angeles",
          "Sumner",
          "Yakima",
          "Snohomish",
          "Seattle",
          "Sequim",
          "Seattle",
          "Kittitas",
          "Woodinville",
          "Westport",
          "Roslyn",
          "Sequim",
          "Duvall",
          "Seattle",
          "Yakima",
          "Seattle",
          "Renton",
          "Longview",
          "Tacoma",
          "Auburn",
          "Snohomish",
          "Lacey",
          "Vancouver",
          "Benton City",
          "Kingston",
          "Toledo",
          "Puyallup",
          "Darrington",
          "Fairfield",
          "Vancouver",
          "Walla Walla",
          "Duvall",
          "Newman Lake",
          "Darrington",
          "Poulsbo",
          "Walla Walla",
          "Lake Stevens",
          "Olympia",
          "Renton",
          "Cashmere",
          "Everett",
          "Carson",
          "Kennewick",
          "Index",
          "Burlington",
          "Arlington",
          "Pasco",
          "Vancouver",
          "Wenatchee",
          "Battle Ground",
          "Seattle",
          "Yakima",
          "Yakima",
          "Bonney Lake",
          "Chehalis",
          "Seattle",
          "Milwaukee",
          "Sheboygan",
          "La Crosse",
          "Algoma",
          "Madison",
          "Madison",
          "Hayward",
          "Appleton",
          "Green Bay",
          "Oshkosh",
          "Neenah",
          "Glendale",
          "Wauwatosa",
          "Brookfield",
          "Milwaukee",
          "Bloomer",
          "Marshfield",
          "Mineral Point",
          "Menomonie",
          "Oconomowoc",
          "Eau Claire",
          "Milwaukee",
          "Wausau",
          "Middleton",
          "Amherst",
          "La Crosse",
          "Milwaukee",
          "Milwaukee",
          "Milwaukee",
          "Cross Plains",
          "Wilson",
          "Milwaukee",
          "Delafield",
          "Stevens Point",
          "Baileys Harbor",
          "Elkhorn",
          "Milwaukee",
          "Superior",
          "Milwaukee",
          "Greendale",
          "Cedarburg",
          "Oshkosh",
          "Oshkosh",
          "Black River Falls",
          "Lake Geneva",
          "Madison",
          "Milwaukee",
          "Madison",
          "Mount Horeb",
          "Hillsboro",
          "Green Bay",
          "Port Washington",
          "Chippewa Falls",
          "Madison",
          "Eau Claire",
          "Arena",
          "Milwaukee",
          "Eau Claire",
          "Neenah",
          "Waunakee",
          "Menomonie",
          "Appleton",
          "Hartland",
          "Milwaukee",
          "Milwaukee",
          "Minocqua",
          "Monroe",
          "Milwaukee",
          "New Glarus",
          "Madison",
          "Osseo",
          "Waunakee",
          "Somerset",
          "Omro",
          "Madison",
          "Plover",
          "Milwaukee",
          "Westport",
          "La Crosse",
          "Wisconsin Dells",
          "Potosi",
          "Kenosha",
          "Kenosha",
          "Racine",
          "Marinette",
          "Waukesha",
          "Wausau",
          "Rhinelander",
          "Janesville",
          "Madison",
          "Woodruff",
          "Chilton",
          "River Falls",
          "Kenosha",
          "Black River Falls",
          "Whitewater",
          "Sheboygan",
          "Egg Harbor",
          "Manitowish Waters",
          "Ashland",
          "Glendale",
          "Sturgeon Bay",
          "Stevens Point",
          "Green Bay",
          "Shawano",
          "Elkhart Lake",
          "Milwaukee",
          "Superior",
          "Green Bay",
          "Eagle River",
          "Lake Mills",
          "Milwaukee",
          "Dallas",
          "Milwaukee",
          "Madison",
          "Milwaukee",
          "West Allis",
          "Verona",
          "Madison",
          "Madison",
          "Menomonie",
          "Charles Town",
          "Charleston",
          "Summersville",
          "Shepherdstown",
          "Berkeley Springs",
          "Elkins",
          "Wheeling",
          "Elkins",
          "Fayetteville",
          "Morgantown",
          "Beckley",
          "Fayetteville",
          "Lewisburg",
          "Terra Alta",
          "Morgantown",
          "Morgantown",
          "Parkersburg",
          "Snowshoe",
          "Parkersburg",
          "Bruceton Mills",
          "Rivesville",
          "Princeton",
          "Davis",
          "Huntington",
          "Fairmont",
          "Cool Ridge",
          "Wheeling",
          "Cheyenne",
          "Laramie",
          "Rock Springs",
          "Gillette",
          "Sheridan",
          "Laramie",
          "Buffalo",
          "Laramie",
          "Cheyenne",
          "Cheyenne",
          "Cody",
          "Gillette",
          "Wilson",
          "Casper",
          "Jackson",
          "Lander",
          "Laramie",
          "Sheridan",
          "Jackson",
          "Cody",
          "Cody",
          "Jackson",
          "Jackson",
          "Saratoga",
          "Evanston",
          "Ten Sleep",
          "Pinedale",
          "Powell",
          "Casper",
          "Abiquiú",
          "Los Alamos",
          "Red River",
          "Santa Fe",
          "Santa Fe",
          "Albuquerque",
          "Albuquerque",
          "Albuquerque",
          "Albuquerque",
          "Albuquerque",
          "Albuquerque",
          "Albuquerque",
          "Albuquerque",
          "Albuquerque",
          "Albuquerque",
          "Albuquerque",
          "Corrales",
          "Edgartown",
          "Ipswich",
          "Newburyport",
          "Nantucket",
          "Canton",
          "Boston",
          "Boston",
          "Westminster",
          "Charlton",
          "Bentonville",
          "Bentonville",
          "Fayetteville",
          "Fayetteville",
          "Fayetteville",
          "Fayetteville",
          "Fayetteville",
          "Fayetteville",
          "Fort Smith",
          "Harrison",
          "Hot Springs",
          "Little Rock",
          "Little Rock",
          "Little Rock",
          "Little Rock",
          "Little Rock",
          "Little Rock",
          "Little Rock",
          "Little Rock",
          "Little Rock",
          "Little Rock",
          "Morrilton",
          "Paris",
          "Rogers",
          "Springdale",
          "Springdale",
          "Avondale",
          "Tucson",
          "Gilbert",
          "Tucson",
          "Flagstaff",
          "Kingman",
          "Show Low",
          "Tucson",
          "Tucson",
          "Flagstaff",
          "Mesa",
          "Glendale",
          "Bisbee",
          "Scottsdale",
          "Tempe",
          "Scottsdale",
          "Tucson",
          "Flagstaff",
          "Tempe",
          "Phoenix",
          "Prescott",
          "Flagstaff",
          "Flagstaff",
          "Phoenix",
          "Bisbee",
          "Peoria",
          "Chandler",
          "Phoenix",
          "Company",
          "Goodyear",
          "Chandler",
          "Scottsdale",
          "Tempe",
          "Clarkdale",
          "Phoenix",
          "Tucson",
          "Tombstone",
          "Scottsdale",
          "Flagstaff",
          "Phoenix",
          "Healy",
          "Juneau",
          "Anchorage",
          "Palmer",
          "Juneau",
          "Ketchikan",
          "Wasilla",
          "Fairbanks",
          "Palmer",
          "Anchorage",
          "Cooper Landing",
          "Anchorage",
          "Talkeetna",
          "Juneau",
          "Juneau",
          "Gakona",
          "Girdwood",
          "Anchorage",
          "Homer",
          "Haines",
          "Sitka",
          "Homer",
          "Fairbanks",
          "Hoonah",
          "Nikiski",
          "Soldotna",
          "Anchorage",
          "Skagway",
          "Kodiak",
          "Wasilla",
          "Palmer",
          "Palmer",
          "Anchorage",
          "Eagle River",
          "Anchorage",
          "Anchorage",
          "Nenana",
          "Seward",
          "Fox",
          "Skagway",
          "Soldotna",
          "Anchorage",
          "Valdez",
          "San Leandro",
          "Oakland",
          "Livermore",
          "Berkeley",
          "Hayward",
          "San Leandro",
          "Oakland",
          "San Leandro",
          "Livermore",
          "Alameda",
          "Berkeley",
          "Berkeley",
          "Fremont",
          "Oakland",
          "Oakland",
          "Oakland",
          "Berkeley",
          "Berkeley",
          "Livermore",
          "Berkeley",
          "Berkeley",
          "Oakland",
          "Livermore",
          "Plymouth",
          "Chico",
          "Chico",
          "Oroville",
          "Magalia",
          "Chico",
          "Chico",
          "Chico",
          "Arnold",
          "Concord",
          "Walnut Creek",
          "Danville",
          "Pittsburg",
          "Walnut Creek",
          "El Cerrito",
          "San Ramon",
          "Concord",
          "Albany",
          "South Lake Tahoe",
          "South Lake Tahoe",
          "Cool",
          "Diamond Springs",
          "Placerville",
          "Camino",
          "Camino",
          "South Lake Tahoe",
          "El Dorado Hills",
          "Placerville",
          "South Lake Tahoe",
          "Placerville",
          "South Lake Tahoe",
          "Diamond Springs",
          "South Lake Tahoe",
          "Garden Valley",
          "South Lake Tahoe",
          "Fresno",
          "Fresno",
          "Fresno",
          "Fresno",
          "Fresno",
          "Fresno",
          "Fortuna",
          "Eureka",
          "Blue Lake",
          "Arcata",
          "McKinleyville",
          "Bishop",
          "Bakersfield",
          "Bakersfield",
          "Bakersfield",
          "Kernville",
          "Bakersfield",
          "Tehachapi",
          "Bakersfield",
          "Lemoore",
          "Hanford",
          "Kelseyville",
          "Middletown",
          "Lakeport",
          "Torrance",
          "Covina",
          "Long Beach",
          "Los Angeles",
          "Long Beach",
          "Long Beach",
          "Lancaster",
          "San Pedro",
          "Hawthorne",
          "Azusa",
          "Torrance",
          "Claremont",
          "Torrance",
          "Los Angeles",
          "El Segundo",
          "Los Angeles",
          "Burbank",
          "Chatsworth",
          "Pomona",
          "Universal City",
          "Lancaster",
          "Redondo Beach",
          "Azusa",
          "Long Beach",
          "Long Beach",
          "Los Angeles",
          "Irwindale",
          "Torrance",
          "Los Angeles",
          "Los Angeles",
          "Monrovia",
          "South El Monte",
          "Torrance",
          "El Monte",
          "Pomona",
          "Torrance",
          "Torrance",
          "Torrance",
          "Signal Hill",
          "Lakewood",
          "Inglewood",
          "Long Beach",
          "Palmdale",
          "Long Beach",
          "Oakhurst",
          "Novato",
          "Novato",
          "Fairfax",
          "Larkspur",
          "Novato",
          "San Rafael",
          "San Rafael",
          "Mariposa",
          "Boonville",
          "Ukiah",
          "Fort Bragg",
          "Merced",
          "Mammoth Lakes",
          "June Lake",
          "Monterey",
          "Monterey",
          "Marina",
          "Monterey",
          "Carmel",
          "Calistoga",
          "Napa",
          "St",
          "Napa",
          "Napa",
          "Napa",
          "Napa",
          "Napa",
          "Grass Valley",
          "Boca",
          "Truckee",
          "Grass Valley",
          "Nevada City",
          "Truckee",
          "Nevada City",
          "Anaheim",
          "Costa Mesa",
          "Costa Mesa",
          "Fullerton",
          "Placentia",
          "Orange",
          "Santa Ana",
          "Santa Ana",
          "Orange",
          "Costa Mesa",
          "Margarita",
          "Clemente",
          "Santa Ana",
          "Anaheim",
          "Orange",
          "Huntington Beach",
          "Costa Mesa",
          "Irvine",
          "Tustin",
          "Tustin",
          "Orange",
          "Auburn",
          "Rocklin",
          "Auburn",
          "Lincoln",
          "Auburn",
          "Loomis",
          "Rocklin",
          "Auburn",
          "Rocklin",
          "Lincoln",
          "Roseville",
          "Blairsden",
          "Chester",
          "Quincy",
          "Temecula",
          "Riverside",
          "Rancho Mirage",
          "Temecula",
          "Temecula",
          "Banning",
          "Thousand Palms",
          "Lake Elsinore",
          "Palm Desert",
          "Murrieta",
          "Murrieta",
          "Riverside",
          "Corona",
          "Temecula",
          "Norco",
          "Riverside",
          "Idyllwild",
          "Riverside",
          "Murrieta",
          "Temecula",
          "Temecula",
          "Palm Desert",
          "Palm Springs",
          "Corona",
          "Menifee",
          "Temecula",
          "Riverside",
          "Temecula",
          "Temecula",
          "Riverside",
          "Corona",
          "Corona",
          "Corona",
          "Temecula",
          "Riverside",
          "Riverside",
          "Temecula",
          "Moreno Valley",
          "Sacramento",
          "Sacramento",
          "Sacramento",
          "Sacramento",
          "Sacramento",
          "Rancho Cordova",
          "Rancho Cordova",
          "Sacramento",
          "Sacramento",
          "Elk Grove",
          "Elk Grove",
          "Rancho Cordova",
          "Sacramento",
          "Sacramento",
          "Sacramento",
          "Sacramento",
          "Sacramento",
          "Orangevale",
          "Sacramento",
          "Folsom",
          "Galt",
          "Sacramento",
          "Sacramento",
          "Sacramento",
          "Sacramento",
          "Elk Grove",
          "Sacramento",
          "Colton",
          "Ontario",
          "Yucaipa",
          "Hesperia",
          "Montclair",
          "Redlands",
          "Rancho Cucamonga",
          "Redlands",
          "Yucaipa",
          "Chino",
          "Rancho Cucamonga",
          "Lake Arrowhead",
          "Upland",
          "Rancho Cucamonga",
          "Hesperia",
          "Apple Valley",
          "Redlands",
          "Upland",
          "Montclair",
          "Redlands",
          "Upland",
          "Rancho Cucamonga",
          "Montclair",
          "Rancho Cucamonga",
          "Rancho Cucamonga",
          "Upland",
          "Ontario",
          "Lodi",
          "Lodi",
          "Lodi",
          "Lodi",
          "Lodi",
          "Tracy",
          "Cambria",
          "Paso Robles",
          "Paso Robles",
          "San Luis Obispo",
          "San Luis Obispo",
          "South San Francisco",
          "Belmont",
          "South San Francisco",
          "San Carlos",
          "Belmont",
          "Redwood City",
          "Princeton",
          "Pescadero",
          "El Granada",
          "Half Moon Bay",
          "Goleta",
          "Buellton",
          "Buellton",
          "Carpinteria",
          "Goleta",
          "Santa Barbara",
          "Solvang",
          "Santa Barbara",
          "San Jose",
          "Morgan Hill",
          "San Jose",
          "San Jose",
          "Morgan Hill",
          "San Jose",
          "San Jose",
          "Santa Clara",
          "San Jose",
          "San Jose",
          "San Jose",
          "San Jose",
          "San Jose",
          "San Jose",
          "Sunnyvale",
          "San Jose",
          "San Jose",
          "Los Gatos",
          "Gilroy",
          "Soquel",
          "Santa Cruz",
          "Capitola",
          "Santa Cruz",
          "Capitola",
          "Santa Cruz",
          "Scotts Valley",
          "Santa Cruz",
          "Fall River Mills",
          "Redding",
          "Redding",
          "Redding",
          "Dunsmuir",
          "Etna",
          "Weed",
          "Fairfield",
          "Fairfield",
          "Suisun",
          "Vallejo",
          "Healdsburg",
          "Sonoma",
          "Santa Rosa",
          "Santa Rosa",
          "Petaluma",
          "Santa Rosa",
          "Sonoma",
          "Windsor",
          "Petaluma",
          "Santa Rosa",
          "Santa Rosa",
          "Sonoma",
          "Windsor",
          "Guerneville",
          "Santa Rosa",
          "Turlock",
          "Modesto",
          "Ceres",
          "Ventura",
          "Ventura",
          "Moorpark",
          "Camarillo",
          "Camarillo",
          "Ventura",
          "Ventura",
          "Thousand Oaks",
          "Ventura",
          "Ventura",
          "Ventura",
          "Ventura",
          "Ventura",
          "Westlake Village",
          "Thousand Oaks",
          "West Sacramento",
          "Davis",
          "West Sacramento",
          "Davis",
          "Davis",
          "Davis",
          "West Sacramento",
          "Chincoteague",
          "Charlottesville",
          "Scottsville",
          "Charlottesville",
          "Charlottesville",
          "Charlottesville",
          "Crozet",
          "Charlottesville",
          "Amherst",
          "Alexandria",
          "Alexandria",
          "Amelia Courthouse",
          "Arlington",
          "Arlington",
          "Staunton",
          "Staunton",
          "Staunton",
          "Forest",
          "Hardy",
          "Bedford",
          "Ruther Glen",
          "Chesapeake",
          "Chesapeake",
          "Midlothian",
          "Midlothian",
          "Culpeper",
          "Culpeper",
          "Danville",
          "Fairfax City",
          "Herndon",
          "Vienna",
          "Broad Run",
          "Lorton",
          "Lorton",
          "McLean",
          "Chantilly",
          "Centreville",
          "",
          "Falls Church",
          "Falls Church",
          "Falls Church",
          "Warrenton",
          "Midland",
          "Warrenton",
          "Delaplane",
          "Callaway",
          "Westlake",
          "Boones Mill",
          "Middletown",
          "Winchester",
          "Winchester",
          "Winchester",
          "Winchester",
          "Winchester",
          "Fredericksburg",
          "Fredericksburg",
          "Fredericksburg",
          "Fredericksburg",
          "Galax",
          "Gloucester",
          "Gloucester",
          "Goochland",
          "Goochland",
          "Goochland",
          "Goochland",
          "Hampton",
          "Hampton",
          "Fort Monroe",
          "Hampton",
          "Ashland",
          "Company",
          "Company",
          "Brewery",
          "Purcellville",
          "Leesburg",
          "Bluemont",
          "Purcellville",
          "Sterling",
          "Leesburg",
          "Leesburg",
          "Leesburg",
          "Leesburg",
          "Leesburg",
          "Bluemont",
          "",
          "Leesburg",
          "Purcellville",
          "Ashburn",
          "Brambleton",
          "Leesburg",
          "Leesburg",
          "Leesburg",
          "Sterling",
          "Purcellville",
          "Ashburn",
          "Aldie",
          "Sterling",
          "Sterling",
          "Sterling",
          "Sterling",
          "Madison",
          "Manassas",
          "Manassas",
          "Manassas",
          "Blacksburg",
          "Blacksburg",
          "Blacksburg",
          "Afton",
          "Nelson",
          "Roseland",
          "Nellysford",
          "New Kent",
          "Newport",
          "Newport",
          "Norfolk",
          "Norfolk",
          "Norfolk",
          "Norfolk",
          "Norfolk",
          "Norfolk",
          "Norfolk",
          "Norfolk",
          "Cape Charles",
          "Portsmouth",
          "Portsmouth",
          "Powhatan",
          "Powhatan",
          "Woodbridge",
          "Gainesville",
          "Manassas",
          "Yorkshire",
          "Fairlawn",
          "Richmond",
          "Richmond",
          "Richmond",
          "Richmond",
          "Richmond",
          "Richmond",
          "Richmond",
          "Richmond",
          "Richmond",
          "Richmond",
          "Richmond",
          "Richmond",
          "Richmond",
          "Richmond",
          "Richmond",
          "Richmond",
          "Richmond",
          "Richmond",
          "Richmond",
          "Roanoke",
          "Roanoke",
          "Cave Spring",
          "Salem",
          "Salem",
          "Vinton",
          "Lexington",
          "",
          "Lexington",
          "Harrisonburg",
          "Harrisonburg",
          "Harrisonburg",
          "Harrisonburg",
          "Harrisonburg",
          "Smithfield",
          "Northern Stafford",
          "Suffolk",
          "Beach",
          "Virginia Beach",
          "Virginia Beach",
          "Virginia Beach",
          "Virginia Beach",
          "Virginia Beach",
          "Virginia Beach",
          "Virginia Beach",
          "Virginia Beach",
          "Virginia Beach",
          "Virginia Beach",
          "Virginia Beach",
          "Virginia Beach",
          "Virginia Beach",
          "Virginia Beach",
          "Middletown",
          "Middletown",
          "Glade Spring",
          "Damascus",
          "Abingdon",
          "Waynesboro",
          "Waynesboro",
          "Williamsburg",
          "Williamsburg",
          "Williamsburg",
          "Williamsburg",
          "Bozeman",
          "Billings",
          "Missoula",
          "Wibaux",
          "Missoula",
          "Helena",
          "Stevensville",
          "Bozeman",
          "Billings",
          "Missoula",
          "Woods Bay",
          "Polson",
          "Whitefish",
          "Belt",
          "Missoula",
          "Missoula",
          "Big Sky",
          "Billings",
          "Butte",
          "Philipsburg",
          "Butte",
          "Red Lodge",
          "Lakeside",
          "Stevensville"
         ],
         "lat": [
          33.40368231686402,
          34.01434,
          34.7304,
          30.2460361,
          33.40368231686402,
          33.2098407,
          34.7304,
          30.6943566,
          33.40368231686402,
          34.7304,
          32.4709761,
          32.3668052,
          34.6059254,
          33.2098407,
          30.5229719,
          31.2232313,
          34.7304,
          33.40368231686402,
          34.1748208,
          33.40368231686402,
          34.7304,
          30.6943566,
          34.7304,
          33.2442813,
          30.6943566,
          30.4065868,
          34.607389,
          34.35823,
          34.7304,
          33.296224,
          32.3668052,
          32.6454116,
          32.6454116,
          34.7304,
          34.7304,
          30.6943566,
          33.2442813,
          34.79981,
          33.6198251,
          34.7304,
          33.8312185,
          33.40368231686402,
          33.40368231686402,
          33.8312185,
          34.7304,
          39.5538771,
          40.1672069,
          39.755543,
          40.0149856,
          40.0149856,
          40.0149856,
          40.5852602,
          40.1672069,
          40.0149856,
          39.613321,
          38.8338816,
          39.7391536,
          39.755543,
          40.1672069,
          40.4233142,
          39.7391536,
          39.7391536,
          39.6302643,
          39.7294319,
          38.5347193,
          39.5186002,
          39.7391536,
          40.5852602,
          39.9935959,
          39.7391536,
          40.1672069,
          39.7391536,
          40.1672069,
          39.613321,
          39.7391536,
          39.613321,
          39.7419155,
          39.755543,
          40.5852602,
          39.7391536,
          40.5852602,
          40.2247075,
          38.9569344,
          39.1222138,
          39.9935959,
          39.7391536,
          39.9205411,
          37.27528,
          39.2247126,
          40.5852602,
          37.6788919,
          39.7424881,
          40.0149856,
          40.0149856,
          39.7391536,
          40.1672069,
          40.4233142,
          37.3027719,
          39.9205411,
          39.7391536,
          41.2917652,
          41.6612104,
          41.1845415,
          41.17923,
          41.826488,
          41.3206523,
          41.3081527,
          41.3542656,
          41.1239856,
          41.3359327,
          41.4339853,
          41.8025986,
          41.5581525,
          41.7637111,
          41.17923,
          41.8525984,
          41.394817,
          41.7637111,
          41.4570418,
          41.3773218,
          41.9039863,
          41.8237099,
          41.3959304,
          41.2795414,
          41.3081527,
          41.5759325,
          41.6717648,
          41.6612104,
          41.71812866342432,
          41.4570418,
          41.4903761,
          42.0273147,
          41.0534302,
          41.7637111,
          41.7637111,
          41.1175966,
          41.7248164,
          41.5964869,
          41.0534302,
          41.2223194,
          41.352597,
          41.7620447,
          41.3959304,
          41.2814842,
          41.4339853,
          41.3081527,
          41.7637111,
          41.9762077,
          41.3025956,
          41.6745432,
          41.17923,
          41.6023196,
          41.4531547,
          41.6648216,
          41.2795414,
          41.71812866342432,
          41.2795414,
          41.5242649,
          41.826488,
          41.71812866342432,
          41.1845415,
          41.7106543,
          41.5964869,
          41.5445404,
          42.2495435,
          40.735657,
          39.158168,
          37.08339,
          41.6005448,
          40.9897218,
          41.6030446,
          42.5005583,
          41.5244777,
          41.0266746,
          42.4536,
          42.0347081,
          42.2713655,
          41.6005448,
          41.5008234,
          41.5236437,
          41.6005448,
          40.8075391,
          41.9219522,
          41.8072344,
          41.3308237,
          42.4999942,
          42.0597047,
          43.1810893,
          41.6441557,
          42.4999942,
          42.0362382,
          42.5005583,
          42.0083328,
          41.6005448,
          41.3633485,
          41.6005448,
          41.5244777,
          42.8538739,
          40.7655528,
          42.5005583,
          43.399136,
          42.0597047,
          41.6005448,
          41.7755432,
          43.1535728,
          41.895265,
          41.7713764,
          41.7297102,
          41.5244777,
          41.6005448,
          41.6005448,
          42.484154,
          41.5236437,
          41.2619444,
          41.6997129,
          42.0083328,
          41.5986442,
          41.0213781,
          41.8736183,
          41.3580484,
          42.0083328,
          42.4999942,
          42.5005583,
          41.4830723,
          41.0469437,
          41.6116552,
          41.5008234,
          43.1380151,
          42.5277622,
          43.2841383,
          42.0083328,
          40.6297632,
          41.6005448,
          42.1175163,
          42.4999942,
          43.1535728,
          41.8000071,
          41.7297102,
          41.3352034583358,
          43.37798476312797,
          41.03058453673449,
          40.8075391,
          41.3208297,
          43.1835847,
          43.2752514,
          41.7005441,
          41.6764044,
          42.427942664131734,
          41.1366656,
          43.4271945,
          42.7253761,
          42.5277622,
          42.427942664131734,
          42.5277622,
          41.5236437,
          43.0724728,
          42.4844404,
          43.08258039909438,
          43.018318,
          42.84608,
          42.0083328,
          42.0083328,
          42.0083328,
          42.7316387,
          43.236906,
          43.2752514,
          42.0347081,
          42.7764686,
          41.5244777,
          41.6005448,
          41.336465,
          41.3580484,
          43.3863521,
          42.7941567,
          43.4441245,
          38.1942356,
          37.990079,
          38.3030813461952,
          38.3030813461952,
          38.9595078,
          38.3030813461952,
          37.9886892,
          38.3030813461952,
          39.0836712,
          37.9886892,
          36.8572781,
          39.1064489,
          37.0833893,
          37.9886892,
          38.3030813461952,
          37.693952,
          37.9886892,
          38.3030813461952,
          38.3030813461952,
          36.62110127843932,
          37.0920222,
          37.9886892,
          38.9989499,
          38.3030813461952,
          37.0833893,
          37.0920222,
          38.5188243,
          37.9886892,
          39.091449,
          36.97476956017339,
          46.0438421,
          42.277562797398,
          42.4605917,
          42.4969805,
          42.2917069,
          45.26715,
          42.716181896687345,
          42.5294773,
          42.331427,
          42.5294773,
          42.4605917,
          41.8411603,
          34.7622545,
          42.331427,
          32.3526457,
          42.716181896687345,
          36.7740136,
          42.9633599,
          43.9878745,
          32.2987573,
          42.8247524,
          46.3536111111111,
          42.5467012,
          42.6550248,
          42.33834,
          47.1682599,
          42.716181896687345,
          41.6833813,
          42.3714253,
          31.9973456,
          42.732535,
          42.7875235,
          44.7630567,
          42.2917069,
          42.3625953,
          42.716181896687345,
          41.6833813,
          44.7630567,
          43.8750174,
          42.680588,
          36.9325976,
          42.9633599,
          44.9802822,
          44.6336096,
          43.0125274,
          42.9633599,
          42.716181896687345,
          42.46059,
          42.277562797398,
          34.001778,
          35.02387325984121,
          30.3960318,
          30.3674198,
          31.3271189,
          30.4113097,
          30.4113097,
          35.02387325984121,
          30.4090829,
          32.2987573,
          35.02387325984121,
          33.45049,
          30.3674198,
          31.56017,
          31.6940509,
          31.3271189,
          31.3271189,
          32.3643098,
          34.1514989,
          31.3271189,
          34.356757805927984,
          33.45049,
          35.6009452,
          35.4887145,
          35.9556924,
          35.732652,
          36.0726355,
          35.168591330360044,
          33.6890603,
          35.2270869,
          35.772096,
          34.2257256,
          36.0726355,
          35.168591330360044,
          35.2270869,
          36.2421053,
          43.07704,
          43.9792376,
          39.5349112,
          39.5296329,
          36.1749705,
          36.1749705,
          36.1749705,
          36.1749705,
          40.440936696485835,
          41.6661573,
          41.0814447,
          41.4517093,
          41.4994954,
          41.452819,
          41.1017247,
          40.6186756,
          41.1383878,
          41.3136644,
          41.4994954,
          41.5200518,
          41.5200518,
          41.5200518,
          41.3978217,
          41.3144966,
          41.4994954,
          41.0814447,
          41.0989439,
          41.3139426,
          39.968128914621474,
          40.7989473,
          41.4994954,
          41.9475551,
          41.2375569,
          40.7989473,
          41.4994954,
          41.3661614,
          41.4361644,
          39.8940298,
          40.3428455,
          41.4994954,
          41.0814447,
          41.3614401,
          41.4156025,
          40.7989473,
          41.4994954,
          41.2842224,
          41.4994954,
          41.8050539,
          41.4994954,
          39.968128914621474,
          41.4994954,
          40.39876740983258,
          40.2720151,
          41.1595005,
          40.1825712,
          41.1339449,
          41.4994954,
          40.5206198,
          41.0814447,
          41.240056,
          41.012833,
          41.4819932,
          40.80517,
          39.968128914621474,
          41.4994954,
          41.1383878,
          41.0995019,
          40.6786691,
          41.0995019,
          41.0814447,
          40.650061,
          41.3864428,
          41.1383878,
          41.1536674,
          41.0814447,
          39.968128914621474,
          40.9636685,
          41.4994954,
          41.4994954,
          41.1339449,
          41.1383878,
          40.7989473,
          40.5545071,
          41.0814447,
          41.1339449,
          41.2375569,
          41.4994954,
          39.968128914621474,
          41.0814447,
          40.7989473,
          41.4994954,
          41.4994954,
          41.0997803,
          41.1536674,
          40.7720044,
          41.1339449,
          41.1017247,
          40.7967244,
          40.75839,
          41.1383878,
          41.4994954,
          41.0814447,
          41.4517093,
          41.4756031,
          40.7989473,
          40.7297817,
          41.4994954,
          40.7989473,
          41.4553232,
          41.4994954,
          40.7989473,
          41.4994954,
          41.0814447,
          41.0814447,
          40.8372809,
          40.8686675,
          41.59241517978612,
          41.0256101,
          40.3325692,
          41.4994954,
          41.1383878,
          41.4517093,
          39.12711,
          39.3600586,
          39.843947,
          39.12711,
          39.0275659,
          39.12711,
          39.7589478,
          39.4453393,
          39.9900504,
          39.12711,
          39.7589478,
          39.3150592,
          40.5240863,
          39.12711,
          39.2292249,
          39.3600586,
          39.5522815,
          39.7589478,
          39.12711,
          39.6847822,
          39.3317246,
          39.6895036,
          39.12711,
          39.12711,
          39.5150576,
          39.12711,
          39.3317246,
          39.8906122,
          39.12711,
          39.6283928,
          39.1928369,
          39.12711,
          39.12711,
          39.1453377,
          40.9532544,
          39.1753377,
          39.6283928,
          39.6283928,
          39.6428362,
          39.12711,
          39.12711,
          39.12711,
          39.9242266,
          39.12711,
          39.12711,
          39.2689476,
          39.5150576,
          39.12711,
          39.12711,
          39.6895036,
          39.12711,
          39.0542312,
          39.12711,
          39.8820036,
          39.12711,
          39.7273473,
          39.5150576,
          39.12711,
          39.6283928,
          39.3600586,
          39.0275659,
          39.6428362,
          39.12711,
          39.12711,
          39.12711,
          39.12711,
          39.7589478,
          39.12711,
          39.7092262,
          39.7589478,
          39.5522815,
          39.12711,
          39.12711,
          39.12711,
          39.8064486,
          39.9667308,
          40.1075615,
          39.9611755,
          39.9611755,
          39.9611755,
          39.8428415,
          39.9336753,
          40.0581205,
          39.9667308,
          39.9611755,
          39.8842304,
          40.0192307,
          40.0333961,
          40.2364486,
          40.0581205,
          39.9611755,
          39.7136754,
          40.0228421,
          39.9547861,
          40.0192307,
          39.8028415,
          39.9611755,
          39.9611755,
          40.1261743,
          39.9611755,
          40.0681192,
          39.8814519,
          39.9611755,
          40.0228421,
          39.9611755,
          40.4008945,
          40.1578403,
          39.9611755,
          39.9611755,
          39.9611755,
          39.9611755,
          39.8428415,
          40.1578403,
          39.9611755,
          40.0992294,
          40.0192307,
          40.2986724,
          40.1983958,
          40.5795915,
          39.9611755,
          39.9611755,
          39.9611755,
          39.9611755,
          39.2020121,
          40.2986724,
          39.7136754,
          39.12711,
          39.9611755,
          39.9611755,
          39.9611755,
          39.9611755,
          39.9611755,
          40.2986724,
          40.39876740983258,
          40.1261743,
          40.0681192,
          40.0581205,
          39.9611755,
          40.0931191,
          39.9611755,
          40.3611643,
          39.3292396,
          39.33762772544186,
          39.3292396,
          39.3292396,
          39.0275781,
          39.415352,
          39.6486822,
          38.9186892,
          38.80390381646248,
          39.0196722,
          40.05205364552497,
          39.9403453,
          39.9403453,
          40.7336688,
          41.2844933,
          41.3747744,
          41.3503303,
          41.6639383,
          41.3747744,
          39.9900504,
          39.5520056,
          41.5844951,
          41.6639383,
          40.2225481,
          39.7911709,
          41.0442201,
          41.3922726,
          41.6639383,
          40.4369919,
          41.6639383,
          41.7189392,
          40.8972811,
          41.1144992,
          40.54001136523413,
          40.5886699,
          41.6639383,
          40.4078249,
          40.0394982,
          41.4119963,
          41.5492182,
          40.4433848,
          41.6639383,
          39.10068187330403,
          40.38847345848254,
          40.6878252,
          40.4797688,
          41.1144992,
          39.5520056,
          41.293106,
          41.156998,
          41.7189392,
          40.8192237,
          41.4119963,
          35.2225668,
          36.1539816,
          35.4675602,
          35.4675602,
          35.6528323,
          35.4675602,
          36.0525993,
          36.1539816,
          34.9278748,
          35.4675602,
          36.1539816,
          35.4675602,
          35.6528323,
          36.1539816,
          36.1539816,
          35.4675602,
          36.1156071,
          35.2225668,
          36.1539816,
          35.4675602,
          36.3477778,
          36.1539816,
          36.1539816,
          35.4675602,
          36.1539816,
          35.4495065,
          35.4675602,
          36.1539816,
          41.644934344544595,
          41.7798226,
          41.4901024,
          41.878711,
          41.878711,
          41.3775996,
          41.6603788,
          41.8239891,
          42.0028761,
          41.8239891,
          41.878711,
          41.644934344544595,
          41.6023245,
          42.0028761,
          41.5456578,
          41.8239891,
          44.7747549,
          41.878711,
          41.5776008,
          41.7014912,
          41.437324,
          43.3186012,
          42.9163862,
          42.9163862,
          43.6230323,
          43.0797156,
          44.0805434,
          43.5499749,
          44.4908172,
          44.0805434,
          44.3522065,
          44.3113573,
          43.5499749,
          44.0805434,
          43.5499749,
          44.0805434,
          43.5824734,
          44.4097069,
          43.5499749,
          44.0805434,
          43.5499749,
          43.9324855,
          43.7666507,
          43.5499749,
          45.4646985,
          44.0805434,
          43.5499749,
          44.4908172,
          43.5499749,
          43.9324855,
          44.4908172,
          44.9138532,
          44.3113573,
          43.5499749,
          44.0805434,
          35.0456297,
          35.0456297,
          35.0456297,
          35.0456297,
          35.0456297,
          35.0456297,
          35.0456297,
          35.0456297,
          35.0456297,
          35.0456297,
          35.0456297,
          35.0456297,
          36.5297706,
          36.162839,
          36.162839,
          36.162839,
          36.11934598336451,
          36.11934598336451,
          35.9606384,
          35.9606384,
          35.9606384,
          35.9606384,
          35.9606384,
          35.9606384,
          35.9606384,
          35.9606384,
          35.9606384,
          35.9606384,
          35.9606384,
          35.9606384,
          35.9606384,
          35.9606384,
          35.9606384,
          35.9606384,
          35.9606384,
          35.9606384,
          35.9606384,
          35.9606384,
          35.1495343,
          35.1495343,
          35.1495343,
          35.1495343,
          35.1495343,
          35.1495343,
          35.1495343,
          36.11934598336451,
          36.11934598336451,
          36.11934598336451,
          36.1658899,
          36.1658899,
          36.1658899,
          36.1658899,
          36.1658899,
          36.1658899,
          36.1658899,
          36.1658899,
          36.1658899,
          36.1658899,
          36.1658899,
          36.1658899,
          36.1658899,
          36.1658899,
          36.1658899,
          36.1658899,
          36.1658899,
          36.1658899,
          36.1658899,
          36.1658899,
          36.1658899,
          36.1658899,
          36.1658899,
          36.1658899,
          36.1658899,
          36.1658899,
          36.1658899,
          36.5964948,
          36.5964948,
          36.3134397,
          36.548434,
          36.5964948,
          36.3134397,
          36.3134397,
          36.3134397,
          36.548434,
          36.5964948,
          36.5964948,
          36.1956343,
          36.2942722,
          35.608670794006535,
          35.7564719,
          35.8585328,
          35.7564719,
          35.8681455,
          35.6150716,
          35.6150716,
          36.4514343,
          36.3047735,
          35.9258986,
          35.9522852,
          35.297948365480146,
          35.1556451,
          36.33183758018426,
          35.6145169,
          44.810879,
          44.4906054,
          44.3378343,
          43.2911853,
          42.859526,
          43.9695091,
          44.6439391,
          43.8909001,
          44.1900592,
          44.5336666,
          44.01553,
          44.3806065,
          43.7981195,
          44.4014457,
          44.5489422,
          44.9508795,
          44.1169201,
          43.5884026,
          44.5373407,
          44.4758825,
          42.8509152,
          42.8781345,
          44.01553,
          44.5373407,
          43.6106237,
          43.6489596,
          44.4758825,
          44.5373407,
          43.2984078,
          43.6135002,
          43.6221108,
          43.6135002,
          43.6221108,
          45.1757547,
          43.6135002,
          44.911006,
          43.6135002,
          43.6221108,
          43.5407172,
          43.6954424,
          47.6776832,
          47.7179578,
          43.6135002,
          43.6026976,
          43.6135002,
          46.7323875,
          43.4665809,
          48.6913257,
          48.3054806,
          33.4222685,
          43.6135002,
          42.5990714,
          44.911006,
          48.30002500224318,
          46.7323875,
          43.5407172,
          47.4740945,
          42.8713032,
          47.6776832,
          43.6135002,
          42.8713032,
          47.7179578,
          43.6221108,
          47.6062095,
          46.7323875,
          43.6807403,
          44.911006,
          43.6807403,
          47.7179578,
          46.7871252,
          42.8713032,
          47.6776832,
          43.4665809,
          43.6135002,
          43.42679507570621,
          46.1523849,
          47.6776832,
          42.4815791,
          47.4740945,
          43.6807403,
          43.6221108,
          43.6135002,
          43.6026976,
          46.0484923,
          43.6135002,
          41.5933696,
          41.1306041,
          32.4609764,
          41.39758001675841,
          41.7533819,
          40.0455918,
          39.7683765,
          39.165325,
          39.7683765,
          41.6797578,
          41.7075394,
          41.5833688,
          37.9747644,
          39.7683765,
          41.64386786839968,
          41.6105938,
          38.0140589,
          41.6833813,
          41.4169806,
          39.8022653,
          41.4828144,
          41.6619927,
          39.7683765,
          39.74743133131512,
          41.1306041,
          39.165325,
          41.5822716,
          40.1933767,
          39.7683765,
          41.4569936,
          32.4609764,
          41.6819935,
          39.7683765,
          41.1306041,
          40.4167022,
          41.1306041,
          41.4500356,
          39.6136578,
          39.7683765,
          37.9747644,
          38.2856247,
          33.4709702,
          41.522022,
          38.2856247,
          40.4167022,
          40.0455918,
          39.2072708,
          39.7683765,
          38.2775702,
          38.84116289151349,
          41.6833813,
          34.3754359,
          41.7075394,
          41.1306041,
          39.7683765,
          39.5208818,
          39.4667034,
          40.4167022,
          41.5644798,
          40.486427,
          41.1306041,
          39.7683765,
          39.165325,
          41.522022,
          41.675328,
          41.522022,
          41.4942021,
          32.4609764,
          44.8011821,
          43.65737,
          43.65737,
          44.4492446,
          44.5928394,
          43.65737,
          45.0668721,
          43.65737,
          44.8011821,
          43.5009176,
          44.2300698,
          43.9106353,
          43.4086955,
          43.65737,
          44.100351,
          44.100351,
          44.7650618,
          43.885632,
          43.65737,
          44.8831249,
          43.9145244,
          44.7967379,
          44.2098011,
          43.8764706,
          43.971739,
          43.65737,
          43.8006354,
          43.65737,
          43.2659168,
          44.3106241,
          43.65737,
          44.4139662,
          43.65737,
          47.2586502,
          43.9145244,
          44.1103479,
          44.5434095,
          43.8523046,
          43.65737,
          43.65737,
          43.65737,
          44.8011821,
          44.4259092,
          43.5025361,
          44.8011821,
          43.5173066,
          43.6884112,
          43.65737,
          44.238682,
          43.8570242,
          43.65737,
          44.4492446,
          45.3361624,
          44.38924,
          44.2859022,
          44.1036915,
          44.38924,
          43.65737,
          43.65737,
          44.0978509,
          44.8606355,
          44.7150773,
          43.8570242,
          44.5520105,
          44.8831249,
          43.65737,
          44.7967379,
          43.6770252,
          43.9145244,
          43.76533,
          43.5781391,
          44.1281362,
          46.8714315,
          44.2139587,
          43.962853,
          44.0953569,
          44.8831249,
          44.7825642,
          44.0350791,
          43.65737,
          44.2114665,
          43.65737,
          43.9906261,
          43.9311907,
          44.8011821,
          43.65737,
          43.65737,
          44.0978509,
          43.8570242,
          44.3036899,
          44.404232,
          43.3220301,
          44.3617419,
          43.0834222,
          44.6706157,
          45.2869937,
          43.65737,
          44.5520105,
          43.0834222,
          43.6770252,
          43.4925843,
          45.583848,
          44.0520691,
          43.8376221,
          45.3840077,
          44.7748748,
          44.5645659,
          44.0581728,
          45.5234515,
          46.1878841,
          45.8640034,
          45.5234515,
          44.2726203,
          44.0520691,
          44.0520691,
          45.4187005,
          44.0581728,
          45.5234515,
          44.0520691,
          44.0520691,
          45.2895655,
          46.1878841,
          45.3733428,
          44.9428975,
          45.5234515,
          44.0520691,
          45.5234515,
          45.4206749,
          45.3733428,
          44.0001313,
          44.0520691,
          44.0520691,
          45.5234515,
          45.839855,
          45.5234515,
          45.3733428,
          44.0462362,
          45.5234515,
          45.52501004579744,
          44.57984,
          44.0520691,
          45.4206749,
          45.5234515,
          44.0520691,
          45.5234515,
          45.3001179,
          44.0581728,
          44.3112312,
          39.952335,
          39.952335,
          39.952335,
          39.952335,
          40.0378755,
          39.952335,
          40.0873329,
          39.952335,
          40.3356483,
          40.2453741,
          40.2412035,
          40.0067786,
          40.3642728,
          40.3642728,
          40.0064958,
          40.688432,
          39.952335,
          40.2737002,
          40.793395,
          40.2859239,
          39.952335,
          40.4406248,
          40.3211808,
          40.4406248,
          40.4406248,
          40.4406248,
          40.4406248,
          40.4406248,
          42.1292241,
          41.41248,
          42.1292241,
          40.9490552,
          42.6411438,
          43.6019166,
          40.1965018,
          40.6387141,
          40.7576601499703,
          42.8864468,
          42.9522855,
          40.7656539,
          42.6284848,
          40.9792645,
          40.84985217202898,
          40.7142692,
          40.64548,
          42.8864468,
          41.0550969,
          42.8864468,
          40.5778831,
          40.9170435,
          40.6520481,
          41.0589855,
          43.1547845,
          42.2750639,
          43.1547845,
          40.9792645,
          40.5623272,
          42.8864468,
          41.1184293,
          42.8864468,
          43.1547845,
          40.7250986,
          40.7237134,
          40.7142692,
          40.8773219,
          41.2017613,
          40.7142691,
          42.4406284,
          43.1547845,
          41.9270367,
          40.7237134,
          41.0634299,
          42.8864468,
          40.7576601499703,
          40.9170435,
          43.1009031,
          40.1923357,
          43.1706128,
          40.66312,
          43.8386732,
          42.8864468,
          42.6284848,
          40.9167654,
          42.8864468,
          40.7576601499703,
          43.1547845,
          42.8656325,
          40.7720458,
          41.9950919,
          42.0509242,
          40.6387141,
          40.0978929,
          40.6847222,
          43.1547845,
          40.6847222,
          40.7576601499703,
          42.0897965,
          42.8689552,
          43.0481221,
          29.7632836,
          29.4241219,
          30.267153,
          30.267153,
          30.267153,
          29.7632836,
          30.3118769,
          31.549333,
          30.9471278,
          30.35862,
          30.6743643,
          30.267153,
          32.7830556,
          29.7632836,
          29.3930129,
          32.3204226,
          32.7830556,
          32.9573449,
          32.7830556,
          32.3512601,
          29.7632836,
          33.1976164,
          29.4241219,
          30.267153,
          32.7830556,
          29.4607876,
          29.3013479,
          29.7632836,
          30.267153,
          30.267153,
          32.912624,
          30.267153,
          29.7632836,
          33.639200347139145,
          29.4241219,
          32.912624,
          30.267153,
          30.2093794,
          32.725409,
          30.267153,
          29.8832749,
          32.725409,
          30.627977,
          29.7857853,
          30.267153,
          32.7830556,
          32.725409,
          29.4241219,
          30.2663768,
          32.4299286886598,
          30.267153,
          29.7632836,
          32.9345701,
          29.4241219,
          30.3118769,
          29.4291304,
          32.4487364,
          29.4607876,
          29.5821811,
          30.267153,
          32.3512601,
          32.8140177,
          29.7632836,
          28.123415643482907,
          30.159456,
          27.4989278,
          26.052311,
          28.0199,
          27.9475216,
          30.3321838,
          29.6516344,
          27.6386434,
          29.894691,
          27.9475216,
          30.3321838,
          27.90979,
          26.13527567132018,
          26.2378597,
          27.90979,
          26.3586885,
          26.271192,
          28.3936186,
          28.1939007,
          27.3364347,
          29.894691,
          30.3321838,
          25.10152,
          27.9475216,
          28.0394654,
          28.123415643482907,
          26.3586885,
          28.5383355,
          28.3861159,
          26.621679885115643,
          30.4382559,
          27.3364347,
          26.5628537,
          28.5999998,
          28.8830452,
          28.32055,
          27.9475216,
          26.9342246,
          28.32055,
          25.7742658,
          28.902479,
          26.5253491,
          27.9475216,
          27.5214269,
          28.5652787,
          27.9908529,
          28.123415643482907,
          27.4989278,
          28.123415643482907,
          28.5383355,
          28.5999998,
          30.4382559,
          30.3935337,
          28.0199,
          30.2946859,
          26.9297836,
          29.6516344,
          28.4586118,
          28.0652975,
          24.9242995,
          26.621679885115643,
          26.3586885,
          30.4382559,
          30.4382559,
          30.3821438,
          28.123415643482907,
          30.2946859,
          28.810823,
          28.0222435,
          30.421309,
          26.1223084,
          28.0836269,
          28.7030519,
          30.3321838,
          30.3821438,
          29.1871986,
          28.0836269,
          30.3321838,
          24.9242995,
          25.7742658,
          27.3364347,
          30.6696818,
          25.10152,
          28.0780718,
          30.4382559,
          27.9475216,
          26.1223084,
          26.1223084,
          27.7980814,
          26.100370910203456,
          30.421309,
          25.8195424,
          25.4687224,
          30.4382559,
          27.4989278,
          28.8024918,
          26.14234,
          29.0258191,
          26.5253491,
          28.5383355,
          27.6386434,
          26.0112014,
          28.5383355,
          29.2858129,
          28.123415643482907,
          27.816415,
          30.421309,
          29.028318,
          28.5999998,
          28.6122187,
          26.621679885115643,
          30.4382559,
          30.42059,
          26.3586885,
          27.7691937,
          26.13527567132018,
          28.6611089,
          28.2441768,
          28.5383355,
          28.2489016,
          26.14234,
          30.3321838,
          28.5383355,
          27.4467056,
          28.1461248,
          26.4614625,
          27.3364347,
          27.81993,
          30.3321838,
          28.5383355,
          27.9475216,
          27.9475216,
          28.123415643482907,
          27.9475216,
          27.9475216,
          25.7742658,
          26.9681123,
          25.7742658,
          25.72149,
          29.2858129,
          28.01888,
          30.2946859,
          29.6516344,
          27.9475216,
          28.1461248,
          28.123415643482907,
          30.3321838,
          27.6386434,
          25.10152,
          30.3321838,
          28.1939007,
          25.7742658,
          30.4015879,
          27.9475216,
          30.2946859,
          33.3806716,
          33.660109,
          30.9712979,
          34.0234337,
          34.2073196,
          32.0835407,
          33.5670562,
          33.960948,
          34.0234337,
          32.4487877,
          33.7489954,
          34.8461948,
          34.0231553,
          33.7489954,
          34.8461948,
          33.692765426101694,
          33.952602,
          33.692765426101694,
          29.6516344,
          33.3967829,
          32.8406946,
          33.7489954,
          33.7489954,
          32.0835407,
          32.1462643,
          33.7489954,
          33.8081608,
          32.8406946,
          33.7489954,
          33.5801103,
          33.7489954,
          33.952602,
          34.1014873,
          33.4709702,
          33.7489954,
          33.952602,
          33.4709702,
          33.7489954,
          32.0835407,
          31.1499528,
          33.9562149,
          32.0835407,
          33.960948,
          33.7489954,
          33.960948,
          32.4609764,
          30.9712979,
          33.7489954,
          30.9712979,
          33.771494,
          33.039291,
          33.7489954,
          21.957069,
          21.2716667,
          21.39994,
          20.76462,
          19.64016,
          19.64016,
          20.87429,
          21.8970807,
          20.51333,
          21.9758333,
          19.72991,
          20.78785,
          20.51333,
          20.51333,
          38.5978,
          40.1105875,
          41.5733669,
          38.5200504,
          41.850033,
          39.1330967,
          37.1511655,
          38.78394,
          41.850033,
          41.850033,
          41.850033,
          39.8017171,
          41.5119761,
          41.8875281,
          40.6936488,
          41.8097533,
          37.7644952,
          39.9753144,
          41.850033,
          42.1211364,
          41.7697533,
          40.7855955,
          41.6572562,
          42.263079,
          41.15376,
          41.7605849,
          41.5261437,
          41.8050314,
          41.6975304,
          41.850033,
          39.8017171,
          37.8883846,
          42.2711311,
          41.9750288,
          41.850033,
          42.2411344,
          38.78394,
          39.8403147,
          41.850033,
          39.8403147,
          41.850033,
          41.8661403,
          41.850033,
          39.1200418,
          41.52519,
          41.8994745,
          40.7472566,
          38.73525362374768,
          41.8500284,
          39.8017171,
          41.6902778,
          41.4444791,
          38.6106042,
          41.8794758,
          42.0333623,
          41.850033,
          41.7689207,
          41.8505874,
          42.1539141,
          41.5428123,
          38.5978,
          40.4592076,
          41.6269745,
          42.35182910358377,
          41.4480902,
          39.8403147,
          41.8089191,
          41.8158668,
          41.5733669,
          42.1269692,
          38.8058064,
          42.1900249,
          40.0117151,
          42.4789098,
          41.850033,
          41.5119761,
          41.850033,
          42.3147436,
          37.9725501,
          41.850033,
          38.3358857,
          41.7605849,
          41.850033,
          41.7469749,
          41.850033,
          38.5978,
          40.6936488,
          40.9478158,
          41.9750288,
          40.2169845,
          40.1953106,
          40.4842027,
          39.8644903,
          41.8850317,
          42.3147436,
          40.9478158,
          42.2789117,
          41.850033,
          42.3794586,
          38.2117173,
          42.3444664,
          40.4842027,
          41.4480902,
          42.1514146,
          39.611146,
          42.0914152,
          41.8897519,
          42.0697509,
          41.5200305,
          41.850033,
          42.333355,
          41.6475306,
          41.850033,
          41.850033,
          41.850033,
          41.8050314,
          41.7519754,
          37.7644952,
          40.0278116,
          41.850033,
          41.52519,
          42.3636331,
          41.5894753,
          41.850033,
          41.8850317,
          38.4544444,
          41.850033,
          38.8906038,
          38.6703267,
          41.850033,
          41.8850317,
          41.8850317,
          41.5647575,
          41.850033,
          39.16128,
          41.850033,
          41.6828074,
          42.0411414,
          38.8106075,
          41.8875281,
          41.5933696,
          41.850033,
          41.850033,
          41.850033,
          41.673642,
          42.2711311,
          41.5572567,
          41.5094771,
          41.35704522008721,
          41.5067003,
          38.8114364,
          38.5978,
          40.1105875,
          41.4294753,
          38.78394,
          42.1976889,
          41.850033,
          41.850033,
          37.9100505,
          42.1655801,
          37.8883846,
          42.1680796,
          42.3147436,
          41.9558637,
          42.2589122,
          41.7469749,
          41.850033,
          41.850033,
          41.5733669,
          42.2119684,
          39.8017171,
          41.2505881,
          38.0114393,
          41.8875281,
          38.3358857,
          38.5978,
          42.0411414,
          41.6411409,
          42.263079,
          40.054753,
          38.9970768,
          38.6064519,
          42.0333636,
          41.850033,
          42.2711311,
          41.850033,
          42.1655801,
          41.5094771,
          41.6269745,
          41.850033,
          41.7958639,
          38.1231053,
          41.850033,
          41.5200305,
          42.3794586,
          41.9125286,
          42.3636331,
          39.39298,
          38.9716689,
          37.6922361,
          39.0483336,
          37.0758952,
          38.9716689,
          39.0483336,
          38.8402805,
          37.7941041,
          38.9822282,
          39.0694514,
          37.6922361,
          38.8791783,
          37.7527982,
          39.4561178,
          37.4108841,
          38.9716689,
          37.9716898,
          39.0094539,
          38.9716689,
          37.6300146,
          39.0483336,
          37.6922361,
          39.0483336,
          39.0911161,
          37.4108841,
          39.7686055,
          38.9716689,
          37.6922361,
          38.9536174,
          38.8791783,
          38.9536174,
          39.1836082,
          39.0483336,
          37.6922361,
          39.1325375,
          39.0611154,
          39.0483336,
          38.3327935,
          38.8813958,
          37.6922361,
          38.0608445,
          39.0277832,
          39.0483336,
          39.1836082,
          37.6922361,
          38.3585535,
          39.0483336,
          38.9433372,
          37.7776428,
          37.6922361,
          38.9716689,
          31.00518,
          29.9546482,
          30.3976973,
          29.9546482,
          31.12478,
          31.7607195,
          30.3582506,
          29.9546482,
          29.9546482,
          30.213091663685034,
          29.9546482,
          32.5159852,
          32.5093109,
          30.2385294,
          30.50463,
          29.9546482,
          32.5251516,
          31.3112936,
          29.9546482,
          29.404820780857822,
          29.9546482,
          29.9546482,
          30.3582506,
          32.5093109,
          30.147146,
          29.9546482,
          29.9546482,
          29.9546482,
          30.44332,
          32.5251516,
          29.9546482,
          29.9546482,
          30.44332,
          29.5957696,
          30.44332,
          31.3112936,
          29.9546482,
          32.5232053,
          29.9546482,
          39.4037147,
          39.6528654,
          39.0839973,
          39.5359406,
          39.6417629,
          39.4142688,
          38.9906657,
          39.4998282,
          38.3365033,
          39.530946,
          39.30554235214238,
          39.6978871,
          39.1434406,
          38.4106791,
          39.4142688,
          39.2903848,
          39.6578773,
          39.1806623,
          38.8403909,
          38.3226154,
          39.2903848,
          39.0017772,
          38.396782,
          39.0839981,
          38.9806679,
          39.6006523,
          39.2903848,
          39.2903848,
          39.6528654,
          39.3201074,
          38.7851173,
          38.3606736,
          39.6689941,
          39.5353831,
          38.3365033,
          39.6720536,
          39.4142688,
          39.5689895,
          38.97859,
          38.9559442,
          39.3762145,
          39.2903848,
          38.6862299,
          39.2398292,
          38.6159533,
          39.2398292,
          39.5492792,
          39.30554235214238,
          39.4142688,
          39.5359406,
          39.5787164,
          39.0992752,
          39.5753791,
          39.4142688,
          39.2506633,
          39.1531628,
          39.3109356,
          39.2673284,
          39.6067789,
          39.4142688,
          39.3762145,
          39.4142688,
          39.2903848,
          38.5403996,
          38.8040042,
          39.2903848,
          39.4142688,
          39.2903848,
          39.1870554,
          39.2903848,
          38.6245628,
          39.2673284,
          39.3342744,
          39.5753791,
          38.42260804271403,
          39.2903848,
          39.30554235214238,
          39.3762145,
          39.4142688,
          38.3462353,
          39.6048253,
          39.0839973,
          39.30554235214238,
          39.4195499,
          38.9906657,
          39.7089937,
          39.3142682,
          39.6237094,
          39.4142688,
          38.9559442,
          39.2903848,
          38.3876168,
          38.9906679,
          39.11733,
          39.2903848,
          39.6417629,
          39.6067789,
          39.1434406,
          39.2903848,
          39.2903848,
          39.3837187,
          38.8040042,
          45.2332985,
          44.9799654,
          44.9799654,
          45.3038538,
          43.6666296,
          44.6496868,
          44.3124626,
          45.1077433,
          45.5649647,
          44.9444101,
          44.7980186,
          44.8041322,
          44.5071858,
          44.9444101,
          44.9799654,
          45.5607986,
          47.97378290261454,
          46.7832731,
          45.0846885,
          44.9866298,
          44.9444101,
          46.7832731,
          44.9132965,
          48.358126,
          44.9799654,
          47.0227111,
          46.7832731,
          44.4294089,
          44.9444101,
          45.8852397,
          44.9799654,
          44.9444101,
          44.9799654,
          44.9799654,
          44.8585738,
          44.9799654,
          44.9799654,
          46.7832731,
          44.9444101,
          44.0216306,
          43.6199639,
          45.1219075,
          44.9799654,
          44.9799654,
          44.5432966,
          44.0216306,
          43.6666296,
          46.5205224,
          45.1602442,
          45.1719084,
          46.7832731,
          45.1607987,
          44.4582983,
          44.9799654,
          44.9799654,
          44.9799654,
          46.3433005,
          44.0216306,
          46.7832731,
          44.6496868,
          45.0563558,
          44.15906,
          48.6129906,
          44.0507937,
          44.0216306,
          45.0105194,
          45.3324647,
          44.9799654,
          44.15906,
          44.9799654,
          44.4388525,
          45.3055202,
          45.0724642,
          45.5607986,
          44.9444101,
          44.9799654,
          44.4021892,
          48.7744263,
          44.9799654,
          46.79913358700017,
          45.3055202,
          44.9799654,
          44.2971832,
          45.2627428,
          44.7433008,
          44.9482979,
          44.9444101,
          44.9799654,
          43.7207974,
          43.6541362,
          44.9700118,
          44.4582983,
          45.4557973,
          45.8260672,
          44.5069113,
          44.9799654,
          45.3735757,
          45.0096869,
          44.9799654,
          44.9799654,
          47.7504469,
          44.9444101,
          44.8507957,
          45.032187,
          38.6272733,
          39.2461138,
          37.215326,
          38.6272733,
          38.6272733,
          38.6272733,
          36.6493219,
          38.6272733,
          39.0997266,
          39.0997266,
          39.0997266,
          38.9517053,
          38.9517053,
          38.6272733,
          39.0997266,
          39.0997266,
          39.0997266,
          38.6272733,
          39.0086171,
          39.0997266,
          38.6272733,
          38.78394,
          38.7442175,
          38.9517053,
          38.81144,
          37.215326,
          38.8106075,
          39.0997266,
          38.6272733,
          38.6272733,
          39.0997266,
          38.1135945,
          39.7436184,
          38.9517053,
          37.215326,
          38.5492205,
          38.2206101,
          38.5025537,
          38.8106075,
          38.6272733,
          38.6272733,
          37.215326,
          38.789217,
          38.7131073,
          38.6272733,
          38.8106075,
          38.5289415,
          39.3583539,
          38.9517053,
          38.6272733,
          38.6272733,
          38.6125521,
          38.7131073,
          37.215326,
          38.6272733,
          39.0997266,
          38.8003294,
          39.0997266,
          38.78394,
          38.6272733,
          38.78394,
          38.6272733,
          38.6272733,
          47.9252568,
          46.8771863,
          46.8771863,
          46.8771863,
          46.8771863,
          46.8083268,
          47.9252568,
          48.2325095,
          48.2325095,
          48.1469683,
          47.8022412,
          46.8083268,
          46.8266603,
          46.8266603,
          46.8791756,
          46.8891375,
          48.2325095,
          40.8000011,
          40.8000011,
          41.25626,
          40.8000011,
          42.8727833,
          41.6197132,
          40.8723858,
          42.0530255,
          41.25626,
          42.5313912,
          42.6833356,
          40.8000011,
          40.8000011,
          42.0283379,
          40.8000011,
          40.4316782,
          41.25626,
          40.5861246,
          42.15930937517974,
          41.4297341,
          40.8000011,
          41.6908444,
          41.25626,
          41.25626,
          42.2092886,
          41.4363951,
          41.1838878,
          40.2061149,
          40.4402885,
          41.1838878,
          41.1544433,
          41.4297341,
          41.1838878,
          40.5067072,
          40.9250123,
          43.0481221,
          40.1083334,
          41.6033429,
          41.25626,
          41.25626,
          40.5861246,
          40.261929694586485,
          40.5067072,
          41.25626,
          41.25626,
          40.8000011,
          40.8000011,
          39.6862263,
          39.9537291,
          39.0145573,
          40.7439906,
          40.8859326,
          41.0984301,
          40.77331463824435,
          39.9537291,
          40.2203907,
          39.769838,
          39.101225,
          39.8398413,
          40.1784471,
          40.3942754,
          39.7912262,
          40.3470543,
          40.8403778,
          39.7028923,
          40.2023355,
          39.4862267,
          40.8528777,
          40.5409367,
          39.7779986,
          40.9828753,
          39.0826135,
          39.0145573,
          40.4078865,
          40.6645469,
          39.0826135,
          38.9351126,
          40.1462213,
          40.5165636,
          40.8750992,
          39.6862263,
          40.5187154,
          40.8539879,
          40.2203907,
          39.7998356,
          40.7281575,
          39.9181686,
          39.9562238,
          39.947335,
          40.8259332,
          39.8381691,
          40.4776044,
          39.9348351,
          40.8923212,
          39.8440027,
          40.7489898,
          39.4784504,
          40.8584328,
          39.4020596,
          38.9351126,
          40.8859326,
          40.4862158,
          39.944285,
          39.4576169,
          41.0037087,
          40.7439906,
          39.732892,
          40.0978929,
          39.9526127,
          40.4812157,
          40.5576045,
          40.8539879,
          40.3042774,
          39.9537291,
          39.732892,
          39.8915022,
          41.0334307,
          40.0912268,
          40.2001133,
          40.5123258,
          40.7859331,
          39.8584481,
          39.1765032,
          39.8773356,
          40.8750992,
          40.8539879,
          39.686786,
          40.8259332,
          38.9917797,
          39.8584481,
          39.732892,
          40.9445428,
          39.9259463,
          39.7915084,
          39.9420626,
          39.5442846,
          40.4417743,
          40.3470543,
          40.3284403,
          40.2767746,
          40.1351122,
          39.5592848,
          40.735657,
          39.0826135,
          40.7312123,
          39.9928898,
          40.071222,
          39.6365056,
          39.6365056,
          39.9537291,
          39.9009465,
          40.6834349,
          40.3487181,
          40.3470543,
          40.3892726,
          39.4576169,
          40.77331463824435,
          40.7409341,
          40.6764911,
          40.6984348,
          39.9928898,
          39.6365056,
          39.8678912,
          40.6081591,
          40.3042778,
          40.6584358,
          39.8912248,
          34.8526176,
          32.7765656,
          34.0007104,
          32.7765656,
          34.9495672,
          34.8526176,
          40.7607794,
          40.7607794,
          40.7607794,
          47.7542651,
          47.6062095,
          47.6739882,
          47.6062095,
          47.0378741,
          47.6062095,
          47.6062095,
          47.6062095,
          47.6062095,
          48.1987118,
          48.7595529,
          47.9789848,
          47.7881528,
          47.5673176,
          47.12426615192883,
          47.659664499384675,
          47.5287132,
          47.6062095,
          47.6062095,
          46.7162136,
          47.2528769,
          40.3931218,
          47.4703768,
          47.5962326,
          48.1170387,
          47.8106521,
          46.2112458,
          45.7276194,
          47.6062095,
          47.6739882,
          47.0378741,
          46.5537388,
          47.55747454366985,
          47.6062095,
          48.421216,
          47.329264,
          47.6062095,
          48.7595529,
          48.7595529,
          47.9789848,
          47.6062095,
          47.8209301,
          45.6956723,
          48.5126045,
          48.9390509,
          47.644611,
          47.735928,
          46.6020711,
          47.3809335,
          48.8256718,
          46.41629,
          47.2234523,
          48.1987118,
          42.4733189,
          47.6062095,
          47.55747454366985,
          46.7312745,
          46.3237423,
          45.5826188,
          48.2931559,
          46.2856907,
          47.7542651,
          47.2528769,
          47.1631573,
          47.659664499384675,
          47.7985,
          47.6062095,
          46.2704176,
          47.6262081,
          48.421216,
          47.5301011,
          47.6062095,
          47.6062095,
          47.2528769,
          48.696771,
          47.659664499384675,
          47.1853785,
          41.2366607,
          48.3503647,
          47.659664499384675,
          48.3887143,
          48.6107354,
          47.735928,
          47.659664499384675,
          47.6062095,
          45.6387281,
          45.6387281,
          46.2856907,
          38.1040864,
          48.5392813,
          46.2067997,
          47.6062095,
          45.5870631,
          47.35053513161962,
          47.659664499384675,
          48.7595529,
          47.818479114529474,
          46.2856907,
          46.0645809,
          47.5673176,
          48.7595529,
          47.6062095,
          46.2067997,
          47.0528789,
          47.6062095,
          47.2528769,
          47.6062095,
          47.6062095,
          46.8900903,
          47.6062095,
          45.6387281,
          48.5465695,
          47.7542651,
          47.6445386,
          47.6739882,
          47.7623204,
          46.2856907,
          47.659664499384675,
          47.659664499384675,
          47.6062095,
          47.8106521,
          47.6062095,
          47.6062095,
          41.0297826,
          47.20566467668412,
          48.110291717859475,
          47.5403732,
          47.7542651,
          47.1853785,
          45.2206729,
          47.6062095,
          47.0378741,
          47.6062095,
          46.1381677,
          47.4473205,
          46.3345443,
          47.659664499384675,
          47.0342629,
          47.7673923,
          45.5826188,
          45.6387281,
          47.20566467668412,
          48.1170387,
          47.659664499384675,
          47.4220568,
          47.6062095,
          45.6387281,
          47.3332023,
          45.6387281,
          46.7162136,
          47.2528769,
          47.6062095,
          47.6739882,
          45.6387281,
          47.55747454366985,
          42.5291439,
          41.2366607,
          46.2031656,
          47.2042681,
          48.110291717859475,
          47.6062095,
          48.7595529,
          46.0645809,
          48.8464992,
          47.2528769,
          47.6062095,
          47.6062095,
          48.1796277,
          47.735928,
          47.9789848,
          47.8223137,
          46.2751111,
          47.659664499384675,
          47.9789848,
          47.6417664,
          48.0517637,
          47.6739882,
          47.6814876,
          47.7573202,
          48.110291717859475,
          47.2031566,
          46.6020711,
          47.9789848,
          47.6062095,
          48.07963,
          47.6062095,
          47.0337366,
          47.7542651,
          46.8900903,
          47.2234523,
          48.07963,
          47.7423218,
          47.6062095,
          46.6020711,
          47.6062095,
          47.4828776,
          46.1381677,
          47.2528769,
          47.3073228,
          47.9789848,
          47.0342629,
          45.6387281,
          46.3043015,
          47.7985,
          46.47733,
          47.1853785,
          48.2553867,
          41.0530743,
          45.6387281,
          46.0645809,
          47.7423218,
          47.7768431,
          48.2553867,
          47.735928,
          46.0645809,
          48.015098,
          47.0378741,
          47.4828776,
          47.5223465,
          47.9789848,
          41.2366607,
          46.2112458,
          47.8206605,
          40.8075391,
          48.1987118,
          46.2395793,
          45.6387281,
          47.818479114529474,
          45.7809491,
          47.6062095,
          46.6020711,
          46.6020711,
          47.189006,
          46.6741626,
          47.6062095,
          43.0389025,
          43.7508284,
          43.8013556,
          44.0247062,
          43.0730517,
          43.0730517,
          46.0130065,
          44.2619309,
          44.519159,
          44.0247062,
          44.1858193,
          41.9146,
          43.0494572,
          43.0605671,
          43.0389025,
          45.1002389,
          44.6688524,
          42.859997,
          44.8755183,
          43.1116731,
          44.811349,
          43.0389025,
          44.9591352,
          43.0972174,
          44.4508079,
          43.8013556,
          43.0389025,
          43.0389025,
          43.0389025,
          43.1144385,
          44.9535753,
          43.0389025,
          43.060842,
          44.5235792,
          45.0649933,
          42.6727927,
          43.0389025,
          46.7207737,
          43.0389025,
          42.9405711,
          43.2966716,
          44.0247062,
          44.0247062,
          44.2529937,
          42.5650143,
          43.0730517,
          43.0389025,
          43.0730517,
          43.008608,
          43.6521958,
          44.519159,
          43.3872247,
          44.9369054,
          43.0730517,
          44.811349,
          43.165548,
          43.0389025,
          44.811349,
          44.1858193,
          43.1919373,
          44.8755183,
          44.2619309,
          43.105008,
          43.0389025,
          43.0389025,
          45.8713419,
          43.9582995,
          43.0389025,
          42.8144473,
          43.0730517,
          45.1194091,
          43.1919373,
          45.1244108,
          44.0394263,
          43.0730517,
          44.4563579,
          43.0389025,
          43.1582298,
          43.8013556,
          43.6274794,
          42.6894392,
          42.5847425,
          42.5847425,
          42.7261309,
          45.3509016,
          43.180397506977286,
          44.9591352,
          45.6269162,
          42.6827885,
          43.0730517,
          45.8963415,
          44.0288803,
          44.8613563,
          42.5847425,
          44.2529937,
          42.8336205,
          43.7508284,
          45.0463807,
          46.1216326,
          46.50974,
          41.9146,
          44.8341639,
          44.5235792,
          44.519159,
          44.7891468,
          43.8333269,
          43.0389025,
          46.7207737,
          44.519159,
          45.9318981,
          43.0813888,
          43.0389025,
          45.2591275,
          43.0389025,
          43.0730517,
          43.0389025,
          43.0166806,
          42.990831,
          43.0730517,
          43.0730517,
          44.8755183,
          38.3498195,
          38.3498195,
          38.2812203,
          39.4300996,
          39.4914864,
          38.9259397,
          39.97475608155399,
          38.9259397,
          38.0528884,
          39.629526,
          37.7781702,
          38.0528884,
          37.8017879,
          39.445649,
          39.629526,
          39.629526,
          39.2667418,
          38.4133491,
          39.2667418,
          39.6586918,
          39.5298059,
          37.3662293,
          38.8669949,
          38.4192496,
          39.4850848,
          37.6581725,
          39.97475608155399,
          41.1399814,
          41.1399814,
          41.65949614084745,
          44.249168899019125,
          44.7971939,
          41.1399814,
          44.3483072,
          41.1399814,
          41.1399814,
          41.1399814,
          44.5263422,
          44.249168899019125,
          43.5007599,
          42.866632,
          43.917782286748114,
          42.833014,
          41.1399814,
          44.7971939,
          43.917782286748114,
          44.5263422,
          44.5263422,
          43.917782286748114,
          43.917782286748114,
          41.4549621,
          41.2682794,
          44.0341263,
          42.8666103,
          44.7538408,
          42.866632,
          36.207241,
          35.8880796,
          36.7080849,
          35.6869752,
          35.6869752,
          35.0844909,
          35.0844909,
          35.0844909,
          35.0844909,
          35.0844909,
          35.0844909,
          35.0844909,
          35.0844909,
          35.0844909,
          35.0844909,
          35.0844909,
          35.2378197,
          41.3890052,
          42.6792602,
          42.8125913,
          41.2834563,
          42.1584324,
          42.3584308,
          42.3584308,
          39.5753791,
          42.13565,
          36.3728538,
          36.3728538,
          36.0625795,
          36.0625795,
          36.0625795,
          36.0625795,
          36.0625795,
          36.0625795,
          35.3859242,
          36.2297936,
          34.5317,
          34.7464809,
          34.7464809,
          34.7464809,
          34.7464809,
          34.7464809,
          34.7464809,
          34.7464809,
          34.7464809,
          34.7464809,
          34.7464809,
          35.1509173,
          35.2920325,
          36.3320197,
          36.1867442,
          36.1867442,
          33.4355977,
          32.2217429,
          33.3528264,
          32.2217429,
          35.1980671,
          35.70406832401879,
          35.3995503368607,
          32.2217429,
          32.2217429,
          35.1980671,
          33.4222685,
          33.5386523,
          31.4689877,
          33.5092103,
          33.414768,
          33.5092103,
          32.2217429,
          35.1980671,
          33.414768,
          33.4483771,
          34.599844436687825,
          35.1980671,
          35.1980671,
          33.4483771,
          31.4689877,
          33.5805955,
          33.18586574722176,
          33.4483771,
          36.517221,
          33.4353199,
          33.18586574722176,
          33.5092103,
          33.414768,
          34.7711319,
          33.4483771,
          32.2217429,
          31.7128683,
          33.5092103,
          35.1980671,
          33.4483771,
          63.8569444,
          58.3019444,
          61.2180556,
          61.59941,
          58.3019444,
          55.3418,
          61.5809,
          64.8377778,
          61.59941,
          61.2180556,
          60.48988,
          61.2180556,
          62.3216667,
          58.3019444,
          58.3019444,
          62.30208,
          60.9425,
          61.2180556,
          59.6425,
          59.23595,
          57.05315,
          59.6425,
          64.8377778,
          58.7586,
          60.6902778,
          60.4877778,
          61.2180556,
          59.4583333,
          57.78852,
          61.5809,
          61.59941,
          61.59941,
          61.2180556,
          61.3213889,
          61.2180556,
          61.2180556,
          64.56341,
          60.10426,
          53.94073,
          59.4583333,
          60.4877778,
          61.2180556,
          61.5005556,
          37.7249296,
          37.8043722,
          37.6818745,
          37.8715926,
          37.6688205,
          37.7249296,
          37.8043722,
          37.7249296,
          37.6818745,
          37.5482697,
          37.8715926,
          37.8715926,
          37.5482697,
          37.8043722,
          37.8043722,
          37.8043722,
          37.8715926,
          37.8715926,
          37.6818745,
          37.8715926,
          37.8715926,
          37.8043722,
          37.6818745,
          38.4818531,
          39.7284945,
          39.7284945,
          39.51394,
          39.8121058,
          39.7284945,
          39.7284945,
          39.7284945,
          38.2554729,
          37.9779777,
          37.9063131,
          37.8215929,
          38.0279762,
          37.9063131,
          37.9157581,
          37.7799273,
          37.9779777,
          37.88687,
          38.9332411,
          38.9332411,
          38.88722,
          38.6946259,
          38.7296252,
          38.7382366,
          38.7382366,
          38.9332411,
          38.6857367,
          38.7296252,
          38.9332411,
          38.7296252,
          38.9332411,
          38.6946259,
          38.9332411,
          37.7696522,
          38.9332411,
          36.7477272,
          36.7477272,
          36.7477272,
          36.7477272,
          36.7477272,
          36.7477272,
          40.5981867,
          40.8020712,
          40.8829072,
          40.8665166,
          40.9465152,
          37.3635404,
          35.3732921,
          35.3732921,
          35.3732921,
          35.7546732,
          35.3732921,
          35.1321878,
          35.3732921,
          36.3007835,
          36.3274502,
          38.9779531,
          38.7524045,
          39.0429506,
          33.8358492,
          34.0686208,
          34.11176346103805,
          34.0522342,
          34.11176346103805,
          34.11176346103805,
          34.6980406,
          33.7358518,
          33.9164032,
          34.1336186,
          33.8358492,
          34.0966764,
          33.8358492,
          34.0522342,
          33.9191799,
          34.0522342,
          34.1808392,
          34.2572252,
          34.0552886,
          34.1388962,
          34.6980406,
          33.8491816,
          34.1336186,
          34.11176346103805,
          34.11176346103805,
          34.0522342,
          34.1069527,
          33.8358492,
          34.0522342,
          34.0522342,
          34.1480621,
          34.0519548,
          33.8358492,
          34.0686207,
          34.0552886,
          33.8358492,
          33.8358492,
          33.8358492,
          33.8044614,
          33.8536269,
          33.9616801,
          34.11176346103805,
          34.5794343,
          34.11176346103805,
          37.3279997,
          38.1074199,
          38.1074199,
          37.9871455,
          37.9340915,
          38.1074199,
          37.9735346,
          37.9735346,
          36.5785462,
          39.0090663,
          39.43362381528912,
          39.445723,
          37.3021633,
          37.6238225,
          37.7886451,
          36.6002378,
          36.6002378,
          37.9735346,
          36.6002378,
          36.5552387,
          38.5787966,
          38.2971367,
          60.29321,
          38.2971367,
          38.2971367,
          38.2971367,
          38.2971367,
          38.2971367,
          39.2190608,
          39.3860184,
          39.327962,
          39.2190608,
          39.26173,
          39.327962,
          39.26173,
          34.11176346103805,
          33.6411316,
          33.6411316,
          33.8702924,
          33.8722371,
          33.7877945,
          33.7455731,
          33.7455731,
          33.7877945,
          33.6411316,
          33.640855,
          33.4269728,
          33.7455731,
          34.11176346103805,
          33.7877945,
          33.660297,
          33.6411316,
          33.6694649,
          33.7458511,
          33.7458511,
          33.7877945,
          38.8965654,
          38.7907339,
          38.8965654,
          38.891565,
          38.8965654,
          38.8212889,
          38.7907339,
          38.8965654,
          38.7907339,
          38.891565,
          38.78046315425049,
          39.7810095,
          40.3062736,
          39.93682,
          33.4936391,
          33.9533487,
          33.739744,
          33.4936391,
          33.4936391,
          33.9255713,
          33.8200183,
          33.6680772,
          33.72255,
          33.5539143,
          33.5539143,
          33.9533487,
          33.8752935,
          33.4936391,
          33.9311257,
          33.9533487,
          33.7400209,
          33.9533487,
          33.5539143,
          33.4936391,
          33.4936391,
          33.72255,
          33.8302961,
          33.8752935,
          33.728354,
          33.4936391,
          33.9533487,
          33.4936391,
          33.4936391,
          33.9533487,
          33.8752935,
          33.8752935,
          33.8752935,
          33.4936391,
          33.9533487,
          33.9533487,
          33.4936391,
          33.937517,
          38.5815719,
          38.5815719,
          38.5815719,
          38.5815719,
          38.5815719,
          38.5890723,
          38.5890723,
          38.5815719,
          38.5815719,
          38.4087993,
          38.4087993,
          38.5890723,
          38.5815719,
          38.5815719,
          38.5815719,
          38.5815719,
          38.5815719,
          38.6785145,
          38.5815719,
          38.78046315425049,
          38.2546373,
          38.5815719,
          38.5815719,
          38.5815719,
          38.5815719,
          38.4087993,
          38.5815719,
          34.0739016,
          34.55168825211584,
          34.033625,
          34.4263886,
          34.0775104,
          34.0555693,
          34.1063989,
          34.0555693,
          34.033625,
          34.0122346,
          34.1063989,
          34.2483396,
          34.09751,
          34.1063989,
          34.4263886,
          34.5008311,
          34.0555693,
          34.09751,
          34.0775104,
          34.0555693,
          34.09751,
          34.1063989,
          34.0775104,
          34.1063989,
          34.1063989,
          34.09751,
          34.55168825211584,
          38.1301968,
          38.1301968,
          38.1301968,
          38.1301968,
          38.1301968,
          37.73987,
          35.5641381,
          35.6266369,
          35.6266369,
          35.2827524,
          35.2827524,
          37.654656,
          37.5202145,
          37.654656,
          37.5071591,
          37.5202145,
          37.4852152,
          39.4032192,
          37.2638334,
          37.5027185,
          37.4635519,
          34.4358295,
          34.613597,
          34.613597,
          34.3988838,
          34.4358295,
          34.4208305,
          34.5958201,
          34.4208305,
          37.3393857,
          37.1305012,
          37.3393857,
          37.3393857,
          37.1305012,
          37.3393857,
          37.3393857,
          37.354108,
          37.3393857,
          37.3393857,
          37.3393857,
          37.3393857,
          37.3393857,
          37.3393857,
          36.91030847870616,
          37.3393857,
          37.3393857,
          37.226611,
          37.0057816,
          36.9880057,
          36.9741171,
          36.971895,
          36.9741171,
          36.971895,
          36.9741171,
          37.0510595,
          36.9741171,
          41.0046076,
          40.5865396,
          40.5865396,
          40.5865396,
          41.2660872,
          41.4568065,
          41.4226498,
          38.2493581,
          38.2493581,
          38.2382474,
          38.1040864,
          38.6104658,
          38.4404675,
          38.4404675,
          38.4404675,
          38.232417,
          38.4404675,
          38.4404675,
          38.5471327,
          38.232417,
          38.4404675,
          38.4404675,
          38.4404675,
          38.5471327,
          38.5018575,
          38.4404675,
          37.4946568,
          37.6390972,
          37.5949316,
          34.2694474,
          34.2694474,
          34.285558,
          34.2163937,
          34.2163937,
          34.2694474,
          34.2694474,
          34.1705609,
          34.2694474,
          34.2694474,
          34.2694474,
          34.2694474,
          34.2694474,
          34.1458389,
          34.1705609,
          38.5815719,
          38.5449065,
          38.5815719,
          38.5449065,
          38.5449065,
          38.5449065,
          38.5815719,
          38.8048356,
          38.0293059,
          37.798754,
          38.0293059,
          38.0293059,
          38.0293059,
          38.0695815,
          38.0293059,
          37.6047745,
          38.8048356,
          38.8048356,
          37.3387756,
          38.8810112826588,
          38.8810112826588,
          38.14991,
          38.14991,
          38.14991,
          39.1434406,
          37.2318062,
          37.3343079,
          37.9287494,
          36.8190369,
          36.8190369,
          37.5059814,
          37.5059814,
          38.4731815,
          38.4731815,
          36.5859718,
          38.8462236,
          38.9695545,
          38.9012225,
          38.8237257,
          38.704282,
          38.704282,
          38.9342776,
          38.8942786,
          38.8403909,
          38.8951118,
          38.882334,
          38.882334,
          38.882334,
          38.7134516,
          38.5995665,
          38.7134516,
          38.9151113,
          37.0115267,
          37.1231974,
          37.1168053,
          39.0276078,
          39.1856597,
          39.1856597,
          39.1856597,
          39.1856597,
          39.1856597,
          38.3031837,
          38.3031837,
          38.3031837,
          38.3031837,
          36.6612387,
          37.4012074,
          37.4012074,
          37.7219829,
          37.7219829,
          37.7219829,
          37.7219829,
          37.0298687,
          37.0298687,
          37.0039921,
          37.0298687,
          37.7590318,
          38.8992784,
          38.8992784,
          38.8959451,
          39.1367717,
          39.1156615,
          39.1112168,
          39.1367717,
          39.0062204,
          39.1156615,
          39.1156615,
          39.1156615,
          39.1156615,
          39.1156615,
          39.1112168,
          38.8951118,
          39.1156615,
          39.1367717,
          39.0437192,
          38.9820541,
          39.1156615,
          39.1156615,
          39.1156615,
          39.0062204,
          39.1367717,
          39.0437192,
          38.9756654,
          39.0062204,
          39.0062204,
          39.0062204,
          39.0062204,
          38.4136924,
          38.7509488,
          38.7509488,
          38.7509488,
          37.2295733,
          37.2295733,
          37.2295733,
          42.7092397,
          37.7874087,
          37.7476406,
          37.8904176,
          37.5051429,
          36.80740012178075,
          36.80740012178075,
          36.8468146,
          36.8468146,
          36.8468146,
          36.8468146,
          36.8468146,
          36.8468146,
          36.8468146,
          36.8468146,
          37.27008,
          36.8354258,
          36.8354258,
          37.5502024,
          37.5502024,
          38.6581723,
          38.7956706,
          38.7509488,
          38.7931699,
          38.8709456,
          37.5537575,
          37.5537575,
          37.5537575,
          37.5537575,
          37.5537575,
          37.5537575,
          37.5537575,
          37.5537575,
          37.5537575,
          37.5537575,
          37.5537575,
          37.5537575,
          37.5537575,
          37.5537575,
          37.5537575,
          37.5537575,
          37.5537575,
          37.5537575,
          37.5537575,
          37.2709704,
          37.2709704,
          37.2276369,
          37.2934681,
          37.2934681,
          37.2809707,
          37.77309,
          38.8951118,
          37.77309,
          38.4495688,
          38.4495688,
          38.4495688,
          38.4495688,
          38.4495688,
          36.9823709,
          38.4220694,
          36.72836,
          36.8529263,
          36.8529263,
          36.8529263,
          36.8529263,
          36.8529263,
          36.8529263,
          36.8529263,
          36.8529263,
          36.8529263,
          36.8529263,
          36.8529263,
          36.8529263,
          36.8529263,
          36.8529263,
          36.8529263,
          39.0276078,
          39.0276078,
          36.791225,
          39.2884381,
          36.7098335,
          38.0684693,
          38.0684693,
          37.2707022,
          37.2707022,
          37.2707022,
          37.2707022,
          45.6796526,
          45.7832856,
          46.872146,
          46.965346,
          46.872146,
          46.5927122,
          46.5099225,
          45.6796526,
          45.7832856,
          46.872146,
          48.0016171,
          47.6935498,
          48.4110757,
          47.386077,
          46.872146,
          46.872146,
          45.2683217,
          45.7832856,
          46.0038153,
          46.3321477,
          46.0038153,
          45.1857782,
          48.0193947,
          46.5099225
         ],
         "legendgroup": "",
         "lon": [
          -86.72819335341748,
          -86.00639,
          -86.58594,
          -87.7008193,
          -86.72819335341748,
          -87.5691735,
          -86.58594,
          -88.0430541,
          -86.72819335341748,
          -86.58594,
          -85.0007653,
          -86.2999689,
          -86.9833417,
          -87.5691735,
          -87.9033261,
          -85.3904889,
          -86.58594,
          -86.72819335341748,
          -86.8436124,
          -86.72819335341748,
          -86.58594,
          -88.0430541,
          -86.58594,
          -86.8163773,
          -88.0430541,
          -87.6835974,
          -86.979767,
          -86.29446,
          -86.58594,
          -86.8436004,
          -86.2999689,
          -85.3782795,
          -85.3782795,
          -86.58594,
          -86.58594,
          -88.0430541,
          -86.8163773,
          -87.677251,
          -86.6088756,
          -86.58594,
          -87.2775053,
          -86.72819335341748,
          -86.72819335341748,
          -87.2775053,
          -86.58594,
          -104.9694264,
          -105.1019275,
          -105.2210997,
          -105.2705456,
          -105.2705456,
          -105.2705456,
          -105.084423,
          -105.1019275,
          -105.2705456,
          -105.0166498,
          -104.8213634,
          -104.9847034,
          -105.2210997,
          -105.1019275,
          -104.7091322,
          -104.9847034,
          -104.9847034,
          -106.0433518,
          -104.8319195,
          -105.9989022,
          -104.7613634,
          -104.9847034,
          -105.084423,
          -105.0897058,
          -104.9847034,
          -105.1019275,
          -104.9847034,
          -105.1019275,
          -105.0166498,
          -104.9847034,
          -105.0166498,
          -104.9744593,
          -105.2210997,
          -105.084423,
          -104.9847034,
          -105.084423,
          -105.271378,
          -107.3400522,
          -104.917204,
          -105.0897058,
          -104.9847034,
          -105.0866504,
          -107.8800667,
          -106.0019618,
          -105.084423,
          -106.3533684,
          -105.5136082,
          -105.2705456,
          -105.2705456,
          -104.9847034,
          -105.1019275,
          -104.7091322,
          -108.6287055,
          -105.0866504,
          -104.9847034,
          -72.3761956,
          -72.7795419,
          -73.1331651,
          -73.18945,
          -72.7300945,
          -73.0889973,
          -72.9281578,
          -71.966462,
          -73.3192829,
          -71.9059042,
          -73.1167766,
          -71.8859054,
          -73.0514966,
          -72.6850932,
          -73.18945,
          -72.6437022,
          -73.4540111,
          -72.6850932,
          -72.8231552,
          -71.8336802,
          -72.4698071,
          -72.6212015,
          -72.8967684,
          -72.8150989,
          -72.9281578,
          -72.5025877,
          -72.9492703,
          -72.7795419,
          -72.57266142973738,
          -72.8231552,
          -72.275359,
          -73.3292834,
          -73.5387341,
          -72.6850932,
          -72.6850932,
          -73.4078968,
          -73.4770682,
          -72.8776013,
          -73.5387341,
          -73.0564953,
          -73.0084385,
          -72.7420399,
          -72.8967684,
          -73.4981792,
          -73.1167766,
          -72.9281578,
          -72.6850932,
          -72.5917554,
          -73.3834532,
          -72.8581558,
          -73.18945,
          -72.9867718,
          -72.4611984,
          -72.6392587,
          -72.8150989,
          -72.57266142973738,
          -72.8150989,
          -72.0759105,
          -72.7300945,
          -72.57266142973738,
          -73.1331651,
          -72.2081338,
          -72.8776013,
          -73.2090025,
          -71.0661612,
          -74.1723667,
          -75.5243682,
          -76.46965,
          -93.6091064,
          -95.8047286,
          -93.7241104,
          -90.6645718,
          -90.51569,
          -92.8057514,
          -91.94762,
          -93.6199402,
          -93.9271721,
          -93.6091064,
          -93.4910468,
          -90.5776367,
          -93.6091064,
          -91.1129233,
          -91.4168371,
          -91.4940604,
          -94.0138393,
          -96.4003069,
          -93.8802273,
          -95.8561276,
          -93.4646571,
          -96.4003069,
          -94.8605593,
          -90.6645718,
          -91.6440683,
          -93.6091064,
          -91.1449078,
          -93.6091064,
          -90.51569,
          -91.4054159,
          -95.3722103,
          -90.6645718,
          -95.7519604,
          -93.8802273,
          -93.6091064,
          -95.4175002,
          -93.2010367,
          -93.6007732,
          -93.7129997,
          -93.6057734,
          -90.51569,
          -93.6091064,
          -93.6091064,
          -91.4554252,
          -90.5776367,
          -95.8608333,
          -93.0479756,
          -91.6440683,
          -90.3434618,
          -94.3632916,
          -91.585175,
          -93.5574376,
          -91.6440683,
          -96.4003069,
          -90.6645718,
          -91.7060016,
          -95.7425056,
          -93.8852266,
          -93.4910468,
          -93.3793725,
          -92.4454654,
          -92.8110279,
          -91.6440683,
          -91.3151506,
          -93.6091064,
          -90.7806932,
          -96.4003069,
          -93.2010367,
          -91.8707335,
          -93.6057734,
          -92.64090935965085,
          -95.1508300608426,
          -92.40944988579567,
          -91.1129233,
          -93.1093708,
          -91.8640483,
          -91.7393184,
          -93.462157,
          -91.5804475,
          -94.18176461854742,
          -95.8908446,
          -96.1758598,
          -93.224741,
          -92.4454654,
          -94.18176461854742,
          -92.4454654,
          -90.5776367,
          -92.610742,
          -91.1229136,
          -95.15091942237915,
          -91.1826299,
          -93.6140991,
          -91.6440683,
          -91.6440683,
          -91.6440683,
          -93.732992,
          -94.0413443,
          -91.7393184,
          -93.6199402,
          -94.2071868,
          -90.51569,
          -93.6091064,
          -92.1786426,
          -93.5574376,
          -95.1483293,
          -96.1655778,
          -93.2210371,
          -85.5644033,
          -84.1796503,
          -85.68221911748951,
          -85.68221911748951,
          -84.3879946,
          -85.68221911748951,
          -84.4777153,
          -85.68221911748951,
          -84.5085537,
          -84.4777153,
          -88.350315,
          -84.478831,
          -88.6000478,
          -84.4777153,
          -85.68221911748951,
          -85.8591285,
          -84.4777153,
          -85.68221911748951,
          -85.68221911748951,
          -88.272201110153,
          -84.6041084,
          -84.4777153,
          -84.6266111,
          -85.68221911748951,
          -88.6000478,
          -84.6041084,
          -84.0520296,
          -84.4777153,
          -84.4957757,
          -85.82160444774996,
          -88.3770789,
          -83.7408828735352,
          -83.1346478,
          -82.8888054,
          -85.5872286,
          -85.24017,
          -83.20581686886989,
          -83.7802214,
          -83.0457538,
          -83.7802214,
          -83.1346478,
          -85.6686026,
          -89.5030549,
          -83.0457538,
          -90.8778821,
          -83.20581686886989,
          -91.8865417,
          -85.6680863,
          -84.8478363,
          -90.1848103,
          -83.2646624,
          -87.3952777777778,
          -83.2113192,
          -86.2019826,
          -83.88954,
          -88.4890092,
          -83.20581686886989,
          -86.2500066,
          -83.4702132,
          -102.0779147,
          -84.5555347,
          -86.1089301,
          -85.6206317,
          -85.5872286,
          -71.3614484,
          -83.20581686886989,
          -86.2500066,
          -85.6206317,
          -85.5100498,
          -83.1338214,
          -92.4988058,
          -85.6680863,
          -85.2111728,
          -86.2345396,
          -83.6874562,
          -85.6680863,
          -83.20581686886989,
          -83.6516063,
          -83.7408828735352,
          -88.7553294,
          -89.86915243348875,
          -88.8853078,
          -89.0928155,
          -89.2903392,
          -88.8278058,
          -88.8278058,
          -89.86915243348875,
          -89.4350519,
          -90.1848103,
          -89.86915243348875,
          -88.81961,
          -89.0928155,
          -91.40329,
          -89.1306124,
          -89.2903392,
          -89.2903392,
          -88.703656,
          -89.6314736,
          -89.2903392,
          -89.48491926712342,
          -88.81961,
          -82.554015,
          -82.9887477,
          -80.0053176,
          -78.8502856,
          -79.7919754,
          -80.79535941810936,
          -78.8866943,
          -80.8431268,
          -78.6386145,
          -77.9447102,
          -79.7919754,
          -80.79535941810936,
          -80.8431268,
          -75.8790835,
          -70.75766,
          -71.1203476,
          -119.7526886,
          -119.8138027,
          -115.137223,
          -115.137223,
          -115.137223,
          -115.137223,
          -81.47375930771435,
          -81.339552,
          -81.5190053,
          -82.0354225,
          -81.6954088,
          -82.1823746,
          -80.7645239,
          -80.5772928,
          -81.8637474,
          -81.7245739,
          -81.6954088,
          -81.556235,
          -81.556235,
          -81.556235,
          -82.2223775,
          -81.83569,
          -81.6954088,
          -81.5190053,
          -81.6445685,
          -81.6851271,
          -82.83677951827705,
          -81.378447,
          -81.6954088,
          -80.5542409,
          -80.8184166,
          -81.378447,
          -81.6954088,
          -81.8543026,
          -81.3865012,
          -83.4001988,
          -80.8181404,
          -81.6954088,
          -81.5190053,
          -81.812912,
          -81.9234726,
          -81.378447,
          -81.6954088,
          -81.0964856,
          -81.6954088,
          -80.9481489,
          -81.6954088,
          -82.83677951827705,
          -81.6954088,
          -82.42153604692692,
          -81.8595757,
          -81.4403898,
          -80.6911904,
          -81.4845585,
          -81.6954088,
          -81.4740054,
          -81.5190053,
          -81.440667,
          -81.6051221,
          -81.7981908,
          -81.93646,
          -82.83677951827705,
          -81.6954088,
          -81.8637474,
          -80.9703684,
          -82.5823931,
          -80.9703684,
          -81.5190053,
          -81.4520613,
          -81.339553,
          -81.8637474,
          -81.357886,
          -81.5190053,
          -82.83677951827705,
          -81.3312195,
          -81.6954088,
          -81.6954088,
          -81.4845585,
          -81.8637474,
          -81.378447,
          -81.9179198,
          -81.5190053,
          -81.4845585,
          -80.8184166,
          -81.6954088,
          -82.83677951827705,
          -81.5190053,
          -81.378447,
          -81.6954088,
          -81.6954088,
          -80.6495194,
          -81.357886,
          -80.7681336,
          -81.4845585,
          -80.7645239,
          -81.5215093,
          -82.5154471,
          -81.8637474,
          -81.6954088,
          -81.5190053,
          -82.0354225,
          -81.8393034,
          -81.378447,
          -81.1053764,
          -81.6954088,
          -81.378447,
          -81.9179174,
          -81.6954088,
          -81.378447,
          -81.6954088,
          -81.5190053,
          -81.5190053,
          -81.2595519,
          -82.3182178,
          -81.66112344400182,
          -81.7298519,
          -81.7415163,
          -81.6954088,
          -81.8637474,
          -82.0354225,
          -84.51439,
          -84.309939,
          -84.1246608,
          -84.51439,
          -83.919652,
          -84.51439,
          -84.1916069,
          -83.8285375,
          -84.553286,
          -84.51439,
          -84.1916069,
          -84.2207697,
          -82.7940678,
          -84.51439,
          -84.4577201,
          -84.309939,
          -84.2332718,
          -84.1916069,
          -84.51439,
          -83.9296526,
          -84.4071639,
          -84.1688274,
          -84.51439,
          -84.51439,
          -84.3982763,
          -84.51439,
          -84.4071639,
          -84.1988308,
          -84.51439,
          -84.1593818,
          -84.4004962,
          -84.51439,
          -84.51439,
          -84.3932734,
          -83.9769774,
          -84.2943821,
          -84.1593818,
          -84.1593818,
          -84.2866083,
          -84.51439,
          -84.51439,
          -84.51439,
          -83.8088172,
          -84.51439,
          -84.51439,
          -84.263826,
          -84.3982763,
          -84.51439,
          -84.51439,
          -84.1688274,
          -84.51439,
          -84.0529886,
          -84.51439,
          -84.0096569,
          -84.51439,
          -81.0829173,
          -84.3982763,
          -84.51439,
          -84.1593818,
          -84.309939,
          -83.919652,
          -84.2866083,
          -84.51439,
          -84.51439,
          -84.51439,
          -84.51439,
          -84.1916069,
          -84.51439,
          -84.0632685,
          -84.1916069,
          -84.2332718,
          -84.51439,
          -84.51439,
          -84.51439,
          -83.886874,
          -82.8854559,
          -83.2674165,
          -82.9987942,
          -82.9987942,
          -82.9987942,
          -82.8046182,
          -82.4723781,
          -82.4012643,
          -82.8854559,
          -82.9987942,
          -82.7535049,
          -82.8793446,
          -83.1582451,
          -83.3671432,
          -82.4012643,
          -82.9987942,
          -82.5993294,
          -82.4445991,
          -82.8121191,
          -82.8793446,
          -82.8062848,
          -82.9987942,
          -82.9987942,
          -82.9290696,
          -82.9987942,
          -82.5196037,
          -83.0929645,
          -82.9987942,
          -82.4445991,
          -82.9987942,
          -82.8107329,
          -83.0751869,
          -82.9987942,
          -82.9987942,
          -82.9987942,
          -82.9987942,
          -82.8046182,
          -83.0751869,
          -82.9987942,
          -83.1140771,
          -82.8793446,
          -83.067965,
          -83.0101843,
          -81.0897166,
          -82.9987942,
          -82.9987942,
          -82.9987942,
          -82.9987942,
          -82.8137836,
          -83.067965,
          -82.5993294,
          -84.51439,
          -82.9987942,
          -82.9987942,
          -82.9987942,
          -82.9987942,
          -82.9987942,
          -83.067965,
          -82.42153604692692,
          -82.9290696,
          -82.5196037,
          -82.4012643,
          -82.9987942,
          -83.017962,
          -82.9987942,
          -83.7596557,
          -82.1012555,
          -83.05702557918843,
          -82.1012555,
          -82.1012555,
          -82.033752,
          -81.4548436,
          -81.8531912,
          -82.2990401,
          -82.99288891030135,
          -82.618383,
          -81.4942562213119,
          -82.0131924,
          -82.0131924,
          -82.7899026,
          -84.3557802,
          -83.6513229,
          -83.1218634,
          -83.555212,
          -83.6513229,
          -84.553286,
          -83.786314,
          -84.6055076,
          -83.555212,
          -84.484396,
          -83.8543727,
          -83.6499321,
          -84.1252243,
          -83.555212,
          -84.3796729,
          -83.555212,
          -83.7129935,
          -80.8695287,
          -83.1779747,
          -84.62936034185161,
          -83.1285242,
          -83.555212,
          -84.4932862,
          -84.2032767,
          -83.8643852,
          -84.1416147,
          -83.8049353,
          -83.555212,
          -84.48113861844284,
          -83.76585220545537,
          -84.6466255,
          -84.628291,
          -83.1779747,
          -83.786314,
          -84.7619032,
          -83.4168702,
          -83.7129935,
          -83.1304704,
          -83.8643852,
          -97.4394777,
          -95.992775,
          -97.5164276,
          -97.5164276,
          -97.4780954,
          -97.5164276,
          -95.7908195,
          -95.992775,
          -95.7158221,
          -97.5164276,
          -95.992775,
          -97.5164276,
          -97.4780954,
          -95.992775,
          -95.992775,
          -97.5164276,
          -97.0583681,
          -97.4394777,
          -95.992775,
          -97.5164276,
          -98.2116667,
          -95.992775,
          -95.992775,
          -97.5164276,
          -95.992775,
          -97.3967019,
          -97.5164276,
          -95.992775,
          -71.38966600426784,
          -71.4372796,
          -71.3128285,
          -71.3825558,
          -71.3825558,
          -71.8272911,
          -71.4558911,
          -71.4128343,
          -71.5147839,
          -71.4128343,
          -71.3825558,
          -71.38966600426784,
          -71.2503257,
          -71.5147839,
          -71.2914388,
          -71.4128343,
          -122.7306193,
          -71.3825558,
          -71.537561,
          -71.1550451,
          -71.5014469,
          -98.3467455,
          -97.3858922,
          -97.3858922,
          -96.942555,
          -98.2931342,
          -103.2310149,
          -96.700327,
          -103.8593698,
          -103.2310149,
          -103.7651984,
          -96.7983877,
          -96.700327,
          -103.2310149,
          -96.700327,
          -103.2310149,
          -96.4678189,
          -103.5090786,
          -96.700327,
          -103.2310149,
          -96.700327,
          -103.575193,
          -103.5988057,
          -96.700327,
          -98.4864829,
          -103.2310149,
          -96.700327,
          -103.8593698,
          -96.700327,
          -103.575193,
          -103.8593698,
          -97.1545189,
          -96.7983877,
          -96.700327,
          -103.2310149,
          -85.3096801,
          -85.3096801,
          -85.3096801,
          -85.3096801,
          -85.3096801,
          -85.3096801,
          -85.3096801,
          -85.3096801,
          -85.3096801,
          -85.3096801,
          -85.3096801,
          -85.3096801,
          -87.3594529,
          -85.5016423,
          -85.5016423,
          -85.5016423,
          -86.64517878256372,
          -86.64517878256372,
          -83.9207392,
          -83.9207392,
          -83.9207392,
          -83.9207392,
          -83.9207392,
          -83.9207392,
          -83.9207392,
          -83.9207392,
          -83.9207392,
          -83.9207392,
          -83.9207392,
          -83.9207392,
          -83.9207392,
          -83.9207392,
          -83.9207392,
          -83.9207392,
          -83.9207392,
          -83.9207392,
          -83.9207392,
          -83.9207392,
          -90.0489801,
          -90.0489801,
          -90.0489801,
          -90.0489801,
          -90.0489801,
          -90.0489801,
          -90.0489801,
          -86.64517878256372,
          -86.64517878256372,
          -86.64517878256372,
          -86.7844432,
          -86.7844432,
          -86.7844432,
          -86.7844432,
          -86.7844432,
          -86.7844432,
          -86.7844432,
          -86.7844432,
          -86.7844432,
          -86.7844432,
          -86.7844432,
          -86.7844432,
          -86.7844432,
          -86.7844432,
          -86.7844432,
          -86.7844432,
          -86.7844432,
          -86.7844432,
          -86.7844432,
          -86.7844432,
          -86.7844432,
          -86.7844432,
          -86.7844432,
          -86.7844432,
          -86.7844432,
          -86.7844432,
          -86.7844432,
          -82.1884666,
          -82.1884666,
          -82.3534727,
          -82.5618186,
          -82.1884666,
          -82.3534727,
          -82.3534727,
          -82.3534727,
          -82.5618186,
          -82.1884666,
          -82.1884666,
          -84.067974,
          -82.4734787,
          -84.92442485859762,
          -83.9704593,
          -83.5269671,
          -83.9704593,
          -83.561835,
          -87.0352831,
          -87.0352831,
          -86.53805,
          -86.6199957,
          -85.4641421,
          -86.6694413,
          -86.11600081026027,
          -89.7761955,
          -88.30121356858366,
          -88.8139469,
          -73.0831924,
          -73.1109604,
          -72.756229,
          -72.7931534,
          -72.7259271,
          -72.6884394,
          -72.8292945,
          -72.4912096,
          -72.8248379,
          -72.0031513,
          -73.16937,
          -73.227626,
          -73.0876119,
          -72.3123248,
          -72.2648257,
          -72.3064943,
          -72.8287287,
          -72.6559308,
          -72.6152849,
          -73.212072,
          -72.5578678,
          -73.1967741,
          -73.16937,
          -72.6152849,
          -72.9726065,
          -72.3192579,
          -73.212072,
          -72.6152849,
          -72.4823117,
          -116.2034505,
          -116.2381744,
          -116.2034505,
          -116.2381744,
          -113.8959008,
          -116.2034505,
          -116.0987364,
          -116.2034505,
          -116.2381744,
          -116.5634624,
          -116.3540138,
          -116.7804664,
          -116.9515856,
          -116.2034505,
          -111.1113318,
          -116.2034505,
          -117.0001651,
          -112.0341374,
          -116.3163092,
          -116.5338037,
          -111.8226402,
          -116.2034505,
          -114.7594946,
          -116.0987364,
          -116.60106137478641,
          -117.0001651,
          -116.5634624,
          -115.9279387,
          -112.4455344,
          -116.7804664,
          -116.2034505,
          -112.4455344,
          -116.9515856,
          -116.2381744,
          -122.3320708,
          -117.0001651,
          -114.3636619,
          -116.0987364,
          -114.3636619,
          -116.9515856,
          -116.1765388,
          -112.4455344,
          -116.7804664,
          -112.0341374,
          -116.2034505,
          -114.21882012723589,
          -116.3893111,
          -116.7804664,
          -114.4875376,
          -115.9279387,
          -114.3636619,
          -116.2381744,
          -116.2034505,
          -111.1113318,
          -116.3495898,
          -116.2034505,
          -87.3464271,
          -85.1288597,
          -84.9877094,
          -84.99908427940171,
          -86.1108377,
          -86.0085955,
          -86.1580423,
          -86.5263857,
          -86.1580423,
          -87.4944873,
          -86.8950297,
          -87.5000412,
          -87.5558482,
          -86.1580423,
          -85.00076485073735,
          -87.0641992,
          -87.0077059,
          -86.2500066,
          -87.3653136,
          -86.2672127,
          -87.3328139,
          -86.1586156,
          -86.1580423,
          -86.20613804524166,
          -85.1288597,
          -86.5263857,
          -85.8344383,
          -85.3863599,
          -86.1580423,
          -85.4822038,
          -84.9877094,
          -85.9766671,
          -86.1580423,
          -85.1288597,
          -86.8752869,
          -85.1288597,
          -87.4700381,
          -86.1066526,
          -86.1580423,
          -87.5558482,
          -85.8241312,
          -81.9748379,
          -87.3991848,
          -85.8241312,
          -86.8752869,
          -86.0085955,
          -86.2511011,
          -86.1580423,
          -85.7371847,
          -86.48345113091605,
          -86.2500066,
          -83.2291753,
          -86.8950297,
          -85.1288597,
          -86.1580423,
          -86.1677657,
          -87.4139092,
          -86.8752869,
          -87.5125412,
          -86.1336033,
          -85.1288597,
          -86.1580423,
          -86.5263857,
          -87.3991848,
          -85.7061011,
          -87.3991848,
          -87.5217068,
          -84.9877094,
          -68.7778138,
          -70.2589,
          -70.2589,
          -68.3619621,
          -70.228117,
          -70.2589,
          -70.2695476,
          -70.2589,
          -68.7778138,
          -70.4428286,
          -69.7753222,
          -69.8206023,
          -70.5814425,
          -70.2589,
          -70.2147764,
          -70.2147764,
          -69.719218,
          -70.3317195,
          -70.2589,
          -68.671977,
          -69.9653278,
          -68.7614246,
          -69.0647593,
          -69.6336571,
          -70.6092258,
          -70.2589,
          -70.1867161,
          -70.2589,
          -70.8645039,
          -69.7794897,
          -70.2589,
          -68.5866904,
          -70.2589,
          -68.589491,
          -69.9653278,
          -70.6792289,
          -68.4194642,
          -69.6281014,
          -70.2589,
          -70.2589,
          -70.2589,
          -68.7778138,
          -69.0064234,
          -70.6435659,
          -68.7778138,
          -70.3775496,
          -70.7936719,
          -70.2589,
          -70.0356069,
          -70.1031057,
          -70.2589,
          -68.3619621,
          -69.9672843,
          -69.3028205,
          -69.7908786,
          -69.1089294,
          -69.3028205,
          -70.2589,
          -70.2589,
          -70.2311655,
          -66.9841453,
          -67.4613805,
          -70.1031057,
          -69.6317121,
          -68.671977,
          -70.2589,
          -68.7614246,
          -70.3711617,
          -69.9653278,
          -69.31369,
          -70.3217154,
          -68.8741989,
          -68.0172493,
          -70.5447825,
          -70.2825536,
          -69.3756017,
          -68.671977,
          -69.3833814,
          -69.5367138,
          -70.2589,
          -69.2742109,
          -70.2589,
          -70.9464559,
          -69.6906013,
          -68.7778138,
          -70.2589,
          -70.2589,
          -70.2311655,
          -70.1031057,
          -68.6161357,
          -70.7906249,
          -70.5808867,
          -69.1950411,
          -70.7078301,
          -70.1511729,
          -69.5011619,
          -70.2589,
          -69.6317121,
          -70.7078301,
          -70.3711617,
          -70.4533844,
          -122.685895,
          -123.0867536,
          -123.2389784,
          -122.7639851,
          -117.8343848,
          -123.2620435,
          -121.3153096,
          -122.6762071,
          -123.8312534,
          -122.8064922,
          -122.6762071,
          -121.1739212,
          -123.0867536,
          -123.0867536,
          -123.8179589,
          -121.3153096,
          -122.6762071,
          -123.0867536,
          -123.0867536,
          -122.3336963,
          -123.8312534,
          -121.6957283,
          -123.0350963,
          -122.6762071,
          -123.0867536,
          -122.6762071,
          -122.6706498,
          -121.6957283,
          -120.5013876,
          -123.0867536,
          -123.0867536,
          -122.6762071,
          -119.7005834,
          -122.6762071,
          -121.6957283,
          -123.0220289,
          -122.6762071,
          -119.06489452187557,
          -124.0581737,
          -123.0867536,
          -122.6706498,
          -122.6762071,
          -123.0867536,
          -122.6762071,
          -122.9731565,
          -121.3153096,
          -124.1087309,
          -75.163789,
          -75.163789,
          -75.163789,
          -75.163789,
          -76.3055144,
          -75.163789,
          -74.9034996,
          -75.163789,
          -75.9268747,
          -75.6496302,
          -76.0563303,
          -75.2854622,
          -74.9512785,
          -74.9512785,
          -75.7032742,
          -75.2207323,
          -75.163789,
          -76.8844179,
          -77.8600013,
          -76.6502468,
          -75.163789,
          -79.9958864,
          -79.3794811,
          -79.9958864,
          -79.9958864,
          -79.9958864,
          -79.9958864,
          -79.9958864,
          -80.085059,
          -78.5033238,
          -80.085059,
          -80.8571569,
          -77.0556775,
          -73.5794567,
          -74.1684757,
          -73.6401296,
          -73.91326904296875,
          -78.8783689,
          -77.5902759,
          -73.0151084,
          -74.8916307,
          -74.1165313,
          -73.86640548706055,
          -73.9534714,
          -74.012412,
          -78.8783689,
          -73.8201338,
          -78.8783689,
          -73.9940279,
          -72.6620402,
          -73.959027,
          -74.0218063,
          -77.6155568,
          -78.6728071,
          -77.6155568,
          -74.1165313,
          -74.1398649,
          -78.8783689,
          -73.7740216,
          -78.8783689,
          -77.6155568,
          -73.2453946,
          -73.9509714,
          -73.9534714,
          -73.8773577,
          -73.9943068,
          -74.0059729,
          -76.4966071,
          -77.6155568,
          -73.9973608,
          -73.9509714,
          -73.9576378,
          -78.8783689,
          -73.91326904296875,
          -72.6620402,
          -75.2326641,
          -74.0159703,
          -78.6903098,
          -73.76221,
          -73.7609635,
          -78.8783689,
          -74.8916307,
          -74.171811,
          -78.8783689,
          -73.91326904296875,
          -77.6155568,
          -73.7709535,
          -73.9301374,
          -73.8754114,
          -73.7937408,
          -73.6401296,
          -74.2176435,
          -73.9880556,
          -77.6155568,
          -73.9880556,
          -73.91326904296875,
          -76.8077338,
          -76.9777436,
          -76.1474244,
          -95.3632715,
          -98.4936282,
          -97.7430608,
          -97.7430608,
          -97.7430608,
          -95.3632715,
          -95.4560512,
          -97.1466695,
          -97.5386205,
          -103.66206,
          -96.3699632,
          -97.7430608,
          -96.8066667,
          -95.3632715,
          -98.2372329,
          -96.2130315,
          -96.8066667,
          -95.2902224,
          -96.8066667,
          -95.3010624,
          -95.3632715,
          -96.6152693,
          -98.4936282,
          -97.7430608,
          -96.8066667,
          -95.0513173,
          -94.7976959,
          -95.3632715,
          -97.7430608,
          -97.7430608,
          -96.6388833,
          -97.7430608,
          -95.3632715,
          -97.21262612813669,
          -98.4936282,
          -96.6388833,
          -97.7430608,
          -95.7507815,
          -97.3208496,
          -97.7430608,
          -97.9413941,
          -97.3208496,
          -96.3344068,
          -95.8243956,
          -97.7430608,
          -96.8066667,
          -97.3208496,
          -98.4936282,
          -98.399865,
          -97.83227674559555,
          -97.7430608,
          -95.3632715,
          -97.251682,
          -98.4936282,
          -95.4560512,
          -97.1705425,
          -99.7331439,
          -95.0513173,
          -95.7607832,
          -97.7430608,
          -95.3010624,
          -96.9488945,
          -95.3632715,
          -82.52852989304125,
          -85.659828,
          -82.5748194,
          -80.1439343,
          -82.77323,
          -82.4584279,
          -81.655651,
          -82.3248262,
          -80.3972736,
          -81.314517,
          -82.4584279,
          -81.655651,
          -82.78842,
          -80.46862510947562,
          -80.1247667,
          -82.78842,
          -80.0830984,
          -80.2706044,
          -81.5386842,
          -82.5917642,
          -82.5306527,
          -81.314517,
          -81.655651,
          -80.81417053812677,
          -82.4584279,
          -81.9498042,
          -82.52852989304125,
          -80.0830984,
          -81.3792365,
          -80.7419984,
          -81.84059143066406,
          -84.2807329,
          -82.5306527,
          -81.9495331,
          -81.3392352,
          -81.3086755,
          -80.60922,
          -82.4584279,
          -80.0942087,
          -80.60922,
          -80.1936589,
          -82.5926012,
          -80.0664309,
          -82.4584279,
          -82.5723193,
          -81.5861847,
          -82.6931553,
          -82.52852989304125,
          -82.5748194,
          -82.52852989304125,
          -81.3792365,
          -81.3392352,
          -84.2807329,
          -86.4957834,
          -82.77323,
          -81.3931396,
          -82.0453664,
          -82.3248262,
          -80.533105,
          -81.7886906,
          -80.6278404,
          -81.84059143066406,
          -80.0830984,
          -84.2807329,
          -84.2807329,
          -86.8610708,
          -82.52852989304125,
          -81.3931396,
          -81.8778582,
          -81.7328568,
          -87.2169149,
          -80.1433786,
          -80.6081089,
          -81.3384011,
          -81.655651,
          -86.8610708,
          -82.1400923,
          -80.6081089,
          -81.655651,
          -80.6278404,
          -80.1936589,
          -82.5306527,
          -81.4625919,
          -80.81417053812677,
          -82.7637127,
          -84.2807329,
          -82.4584279,
          -80.1433786,
          -80.1433786,
          -82.7973247,
          -81.44452500578161,
          -87.2169149,
          -80.3553302,
          -80.4775569,
          -84.2807329,
          -82.5748194,
          -81.644519,
          -81.79596,
          -80.9269984,
          -80.0664309,
          -81.3792365,
          -80.3972736,
          -80.1494901,
          -81.3792365,
          -81.0558894,
          -82.52852989304125,
          -80.4706078,
          -87.2169149,
          -81.3031179,
          -81.3392352,
          -80.8075538,
          -81.84059143066406,
          -84.2807329,
          -86.61707,
          -80.0830984,
          -82.7689906,
          -80.46862510947562,
          -81.3656243,
          -82.7192671,
          -81.3792365,
          -81.2811801,
          -81.79596,
          -81.655651,
          -81.3792365,
          -80.3256056,
          -82.756768,
          -80.0728201,
          -82.5306527,
          -82.689441,
          -81.655651,
          -81.3792365,
          -82.4584279,
          -82.4584279,
          -82.52852989304125,
          -82.4584279,
          -82.4584279,
          -80.1936589,
          -80.1286542,
          -80.1936589,
          -80.2683838,
          -81.0558894,
          -82.11469,
          -81.3931396,
          -82.3248262,
          -82.4584279,
          -82.756768,
          -82.52852989304125,
          -81.655651,
          -80.3972736,
          -80.81417053812677,
          -81.655651,
          -82.5917642,
          -80.1936589,
          -86.863571,
          -82.4584279,
          -81.3931396,
          -84.7996573,
          -84.4102046,
          -84.6374164,
          -84.6154897,
          -84.1401926,
          -81.0998342,
          -84.5810418,
          -83.3779358,
          -84.6154897,
          -81.7831674,
          -84.3879824,
          -84.2910297,
          -84.3615928,
          -84.3879824,
          -84.2910297,
          -84.39957229745012,
          -84.5499327,
          -84.39957229745012,
          -82.3248262,
          -84.5957629,
          -83.6324022,
          -84.3879824,
          -84.3879824,
          -81.0998342,
          -85.0132629,
          -84.3879824,
          -84.170196,
          -83.6324022,
          -84.3879824,
          -85.0766113,
          -84.3879824,
          -84.5499327,
          -84.5193754,
          -81.9748379,
          -84.3879824,
          -84.5499327,
          -81.9748379,
          -84.3879824,
          -81.0998342,
          -81.4914894,
          -83.9879625,
          -81.0998342,
          -83.3779358,
          -84.3879824,
          -83.3779358,
          -84.9877094,
          -84.6374164,
          -84.3879824,
          -84.6374164,
          -84.2671444,
          -85.0313269,
          -84.3879824,
          -159.6689261,
          -157.8213889,
          -157.79895,
          -156.44578,
          -155.99912,
          -155.99912,
          -156.67663,
          -159.6004756,
          -156.54625,
          -159.3386111,
          -155.09073,
          -156.38612,
          -156.54625,
          -156.54625,
          -90.21159,
          -88.2072697,
          -87.7844944,
          -89.9839935,
          -87.6500523,
          -88.4719918,
          -88.7319979,
          -90.4812298,
          -87.6500523,
          -87.6500523,
          -87.6500523,
          -89.6437107,
          -87.9656098,
          -88.3053525,
          -89.5889864,
          -87.9006155,
          -89.3350888,
          -87.6358546,
          -87.6500523,
          -88.2578582,
          -87.9358931,
          -90.9906974,
          -87.6800486,
          -88.0039653,
          -87.88754,
          -88.3200715,
          -87.8892189,
          -87.8692254,
          -90.5826381,
          -87.6500523,
          -89.6437107,
          -89.4948169,
          -89.0939952,
          -88.0072909,
          -87.6500523,
          -88.3161965,
          -90.4812298,
          -88.9548001,
          -87.6500523,
          -88.9548001,
          -87.6500523,
          -88.1070127,
          -87.6500523,
          -88.5433829,
          -88.0834,
          -87.9403418,
          -88.5147789,
          -90.35010497807345,
          -88.3125738,
          -89.6437107,
          -88.1541667,
          -87.6314312,
          -89.5270306,
          -87.81367,
          -87.8833991,
          -87.6500523,
          -87.857835,
          -87.7936685,
          -88.1361888,
          -87.6847684,
          -90.21159,
          -90.6717971,
          -88.2039539,
          -89.66225429355744,
          -90.1542849,
          -88.9548001,
          -88.0111746,
          -87.6311618,
          -87.7844944,
          -89.2556618,
          -89.2086035,
          -87.9084039,
          -89.8481652,
          -87.8236841,
          -87.6500523,
          -87.9656098,
          -87.6500523,
          -88.4487021,
          -89.053408,
          -87.6500523,
          -90.1498341,
          -88.3200715,
          -87.6500523,
          -88.0503406,
          -87.6500523,
          -90.21159,
          -89.5889864,
          -90.3712395,
          -88.0072909,
          -89.2053671,
          -88.4042234,
          -88.9936873,
          -91.3890385,
          -87.7845025,
          -88.4487021,
          -90.3712395,
          -87.8342362,
          -87.6500523,
          -89.8223426,
          -89.9942741,
          -88.041746,
          -88.9936873,
          -90.1542849,
          -87.959794,
          -87.6961374,
          -88.1217421,
          -87.9889543,
          -87.7878408,
          -88.2017293,
          -87.6500523,
          -88.2667534,
          -88.0895061,
          -87.6500523,
          -87.6500523,
          -87.6500523,
          -87.8692254,
          -87.9739494,
          -89.3350888,
          -88.5733979,
          -87.6500523,
          -88.0834,
          -87.8447938,
          -88.057837,
          -87.6500523,
          -87.7845025,
          -89.7172222,
          -87.6500523,
          -90.1842764,
          -89.9845476,
          -87.6500523,
          -87.7845025,
          -87.7845025,
          -87.538931,
          -87.6500523,
          -89.4954,
          -87.6500523,
          -88.3514596,
          -87.6900587,
          -90.6998477,
          -88.3053525,
          -87.3464271,
          -87.6500523,
          -87.6500523,
          -87.6500523,
          -88.0017261,
          -89.0939952,
          -87.6656015,
          -90.5787477,
          -89.1733325447223,
          -90.5151342,
          -89.953157,
          -90.21159,
          -88.2072697,
          -88.2286735,
          -90.4812298,
          -88.1033115,
          -87.6500523,
          -87.6500523,
          -89.2359165,
          -88.2942493,
          -89.4948169,
          -88.4281415,
          -88.4487021,
          -87.8708965,
          -88.1392474,
          -88.0503406,
          -87.6500523,
          -87.6500523,
          -87.7844944,
          -88.2381381,
          -89.6437107,
          -87.8314324,
          -89.2361935,
          -88.3053525,
          -90.1498341,
          -90.21159,
          -87.6900587,
          -88.4472948,
          -88.0039653,
          -88.2517165,
          -90.576751,
          -89.4224849,
          -87.7333934,
          -87.6500523,
          -89.0939952,
          -87.6500523,
          -88.2942493,
          -90.5787477,
          -88.2039539,
          -87.6500523,
          -87.9756175,
          -89.7017658,
          -87.6500523,
          -88.2017293,
          -89.8223426,
          -88.1347927,
          -87.8447938,
          -97.1575345,
          -95.2352501,
          -97.3375448,
          -95.6780371,
          -94.6396714,
          -95.2352501,
          -95.6780371,
          -97.6114237,
          -94.7667845,
          -94.6707917,
          -100.2323551,
          -97.3375448,
          -99.3267702,
          -100.0170787,
          -98.1061595,
          -94.70496,
          -95.2352501,
          -100.8726618,
          -98.394228,
          -95.2352501,
          -97.7825513,
          -95.6780371,
          -97.3375448,
          -95.6780371,
          -94.4155068,
          -94.70496,
          -94.8466322,
          -95.2352501,
          -97.3375448,
          -94.7335709,
          -99.3267702,
          -94.7335709,
          -96.5716694,
          -95.6780371,
          -97.3375448,
          -97.6502158,
          -94.8196847,
          -95.6780371,
          -96.1911073,
          -94.8191285,
          -97.3375448,
          -97.9297743,
          -94.6557914,
          -95.6780371,
          -96.5716694,
          -97.3375448,
          -97.6874174,
          -95.6780371,
          -95.0985808,
          -96.8169811,
          -97.3375448,
          -95.2352501,
          -86.3280018,
          -90.075072,
          -91.9315062,
          -90.075072,
          -92.04802,
          -93.0862749,
          -90.0656311,
          -90.075072,
          -90.075072,
          -93.20440292358398,
          -90.075072,
          -93.7321229,
          -92.1193012,
          -90.9200987,
          -90.46293,
          -90.075072,
          -93.7501789,
          -92.4451371,
          -90.075072,
          -90.65753635095963,
          -90.075072,
          -90.075072,
          -90.0656311,
          -92.1193012,
          -91.9612306,
          -90.075072,
          -90.075072,
          -90.075072,
          -91.18747,
          -93.7501789,
          -90.075072,
          -90.075072,
          -91.18747,
          -90.7195348,
          -91.18747,
          -92.4451371,
          -90.075072,
          -92.637927,
          -90.075072,
          -76.9502567,
          -78.7625185,
          -77.1527578,
          -76.3482931,
          -77.7199932,
          -77.4105409,
          -77.026088,
          -76.6410821,
          -75.0849058,
          -75.8074367,
          -76.55100876835004,
          -76.0627266,
          -77.2013705,
          -76.4552294,
          -77.4105409,
          -76.6121893,
          -77.1744279,
          -77.0591452,
          -77.4288769,
          -75.2176892,
          -76.6121893,
          -76.6874671,
          -75.3021363,
          -76.7002462,
          -76.3143999,
          -77.8205508,
          -76.6121893,
          -76.6121893,
          -78.7625185,
          -76.5155191,
          -76.2243919,
          -75.5993692,
          -76.3794052,
          -76.7280298,
          -75.0849058,
          -76.0985613,
          -77.4105409,
          -77.176927,
          -76.49184,
          -76.9455301,
          -77.154704,
          -76.6121893,
          -76.534678,
          -76.6802471,
          -76.613015,
          -76.6802471,
          -76.091617,
          -76.55100876835004,
          -77.4105409,
          -76.3482931,
          -76.6155252,
          -76.8483061,
          -76.9958149,
          -77.4105409,
          -76.5205184,
          -77.066923,
          -77.4747088,
          -76.7983067,
          -75.8332718,
          -77.4105409,
          -77.154704,
          -77.4105409,
          -76.6121893,
          -76.5844017,
          -76.0688306,
          -76.6121893,
          -77.4105409,
          -76.6121893,
          -75.8588257,
          -76.6121893,
          -76.9391395,
          -76.7983067,
          -76.4394056,
          -76.9958149,
          -76.08332531091463,
          -76.6121893,
          -76.55100876835004,
          -77.154704,
          -77.4105409,
          -76.4588409,
          -76.8499774,
          -77.1527578,
          -76.55100876835004,
          -76.7802529,
          -77.026088,
          -76.3455151,
          -77.6277679,
          -77.4108201,
          -77.4105409,
          -76.9455301,
          -76.6121893,
          -75.4710313,
          -76.1577268,
          -77.1610916,
          -76.6121893,
          -77.7199932,
          -75.8332718,
          -77.2013705,
          -76.6121893,
          -76.6121893,
          -76.4321837,
          -76.0688306,
          -93.2913405,
          -93.2638361,
          -93.2638361,
          -93.5671825,
          -92.9746367,
          -93.24272,
          -94.4605287,
          -93.2380038,
          -94.3183284,
          -93.0932742,
          -93.5268986,
          -93.1668858,
          -96.424213,
          -93.0932742,
          -93.2638361,
          -94.1624895,
          -94.93765445102548,
          -92.1065787,
          -93.0099398,
          -93.5716243,
          -93.0932742,
          -92.1065787,
          -93.5032877,
          -96.3684744,
          -93.2638361,
          -91.6707322,
          -92.1065787,
          -93.2018826,
          -93.0932742,
          -95.3775379,
          -93.2638361,
          -93.0932742,
          -93.2638361,
          -93.2638361,
          -93.6616266,
          -93.2638361,
          -93.2638361,
          -92.1065787,
          -93.0932742,
          -92.4698992,
          -95.5963979,
          -95.0433424,
          -93.2638361,
          -93.2638361,
          -93.5760652,
          -92.4698992,
          -92.9746367,
          -94.288609,
          -93.0888324,
          -93.8746941,
          -92.1065787,
          -93.2349489,
          -93.161604,
          -93.2638361,
          -93.2638361,
          -93.2638361,
          -94.286666,
          -92.4698992,
          -92.1065787,
          -93.24272,
          -92.8060408,
          -94.00915,
          -93.3487579,
          -94.4182981,
          -92.4698992,
          -93.4555093,
          -93.7460804,
          -93.2638361,
          -94.00915,
          -93.2638361,
          -93.5813413,
          -93.7941378,
          -93.4557877,
          -94.1624895,
          -93.0932742,
          -93.2638361,
          -92.079058,
          -96.946447,
          -93.2638361,
          -94.24339921892499,
          -93.7941378,
          -93.2638361,
          -94.7241498,
          -94.1244271,
          -92.8524273,
          -93.3480051,
          -93.0932742,
          -93.2638361,
          -91.9768224,
          -96.2128071,
          -95.7147234,
          -93.161604,
          -94.4288849,
          -92.9685423,
          -92.905484,
          -93.2638361,
          -92.8899376,
          -93.349117,
          -93.2638361,
          -93.2638361,
          -90.3342727,
          -93.0932742,
          -93.7869088,
          -93.3385614,
          -90.1978889,
          -94.4191177,
          -93.2982436,
          -90.1978889,
          -90.1978889,
          -90.1978889,
          -92.4446636,
          -90.1978889,
          -94.5785667,
          -94.5785667,
          -94.5785667,
          -92.3340724,
          -92.3340724,
          -90.1978889,
          -94.5785667,
          -94.5785667,
          -94.5785667,
          -90.1978889,
          -94.4635638,
          -94.5785667,
          -90.1978889,
          -90.4812298,
          -90.3053915,
          -92.3340724,
          -90.8529107,
          -93.2982436,
          -90.6998477,
          -94.5785667,
          -90.1978889,
          -90.1978889,
          -94.5785667,
          -92.6824986,
          -93.9982743,
          -92.3340724,
          -93.2982436,
          -90.4926214,
          -90.3959543,
          -90.6279044,
          -90.6998477,
          -90.1978889,
          -90.1978889,
          -93.2982436,
          -90.322614,
          -90.4298401,
          -90.1978889,
          -90.6998477,
          -90.8501356,
          -93.4957675,
          -92.3340724,
          -90.1978889,
          -90.1978889,
          -90.3245599,
          -90.4298401,
          -93.2982436,
          -90.1978889,
          -94.5785667,
          -90.6265121,
          -94.5785667,
          -90.4812298,
          -90.1978889,
          -90.4812298,
          -90.1978889,
          -90.1978889,
          -97.0328547,
          -96.7898034,
          -96.7898034,
          -96.7898034,
          -96.7898034,
          -100.7837392,
          -97.0328547,
          -101.2962732,
          -101.2962732,
          -103.6179745,
          -103.2832467,
          -100.7837392,
          -100.8895762,
          -100.8895762,
          -102.7896242,
          -97.0525872,
          -101.2962732,
          -96.6669599,
          -96.6669599,
          -95.94043,
          -96.6669599,
          -100.5509669,
          -96.0119563,
          -97.1395097,
          -102.8040888,
          -95.94043,
          -98.9781525,
          -103.5204378,
          -96.6669599,
          -96.6669599,
          -97.4169964,
          -96.6669599,
          -98.1058806,
          -95.94043,
          -98.388393,
          -103.73820689795699,
          -97.3683753,
          -96.6669599,
          -98.0036724,
          -95.94043,
          -95.94043,
          -97.1192603,
          -99.6423354,
          -96.031127,
          -100.5920956,
          -99.3698217,
          -96.031127,
          -96.0422378,
          -97.3683753,
          -96.031127,
          -98.9480216,
          -98.3420068,
          -76.1474244,
          -96.1544512,
          -98.9261987,
          -95.94043,
          -95.94043,
          -98.388393,
          -96.6894414418072,
          -98.9480216,
          -95.94043,
          -95.94043,
          -96.6669599,
          -96.6669599,
          -74.995168,
          -74.1979192,
          -74.8815594,
          -74.0323626,
          -74.0434736,
          -74.6884965,
          -73.8798928848545,
          -74.1979192,
          -74.0120817,
          -74.8873855,
          -74.7176622,
          -74.1901399,
          -74.0218037,
          -74.117086,
          -74.9290536,
          -74.0643065,
          -74.0906974,
          -75.1118422,
          -74.0120814,
          -75.0257313,
          -74.0420848,
          -74.587657,
          -74.7266704,
          -74.9604501,
          -74.8237786,
          -74.8815594,
          -74.034306,
          -74.2643133,
          -74.8237786,
          -74.9060053,
          -74.7118264,
          -74.8983303,
          -74.2807035,
          -74.995168,
          -74.4120953,
          -74.8290555,
          -74.0120817,
          -75.2237934,
          -74.0776417,
          -75.071284,
          -75.0579502,
          -75.0665617,
          -74.2090344,
          -75.1526774,
          -74.6268245,
          -75.0307264,
          -74.4773775,
          -75.0226691,
          -74.2612583,
          -74.5751557,
          -74.1637553,
          -75.0393438,
          -74.9060053,
          -74.0434736,
          -74.4518188,
          -74.0729139,
          -74.5765445,
          -74.3415394,
          -74.0323626,
          -75.1315651,
          -74.2176435,
          -74.9923915,
          -74.4832088,
          -74.2845911,
          -74.8290555,
          -74.1004185,
          -74.1979192,
          -75.1315651,
          -75.0376707,
          -74.6384947,
          -74.0479146,
          -74.0279152,
          -74.8593318,
          -74.7801645,
          -74.8029395,
          -74.7334961,
          -75.0646165,
          -74.2807035,
          -74.8290555,
          -74.2218067,
          -74.2090344,
          -74.8148894,
          -74.8029395,
          -75.1315651,
          -74.0754189,
          -75.1196199,
          -74.1951395,
          -74.1498616,
          -74.3823691,
          -74.1298643,
          -74.0643065,
          -74.790718,
          -74.8129407,
          -74.5240423,
          -74.2431963,
          -74.1723667,
          -74.8237786,
          -74.2734808,
          -74.7876624,
          -74.8648873,
          -74.8023853,
          -74.8023853,
          -74.1979192,
          -75.0846179,
          -74.442653,
          -74.6590472,
          -74.0643065,
          -74.7618285,
          -74.5765445,
          -73.8798928848545,
          -74.3837624,
          -74.2907032,
          -74.4015405,
          -74.7876624,
          -74.8023853,
          -75.1315649,
          -74.2776468,
          -73.9923596,
          -74.2995923,
          -74.9218325,
          -82.3940105,
          -79.9309216,
          -81.0348144,
          -79.9309216,
          -81.9320482,
          -82.3940105,
          -111.8910474,
          -111.8910474,
          -111.8910474,
          -122.1634582,
          -122.3320708,
          -122.121512,
          -122.3320708,
          -122.9006951,
          -122.3320708,
          -122.3320708,
          -122.3320708,
          -122.3320708,
          -122.1251418,
          -122.4882249,
          -122.2020794,
          -122.3087405,
          -122.6326391,
          -120.67968323465554,
          -117.42908477783203,
          -121.8253906,
          -122.3320708,
          -122.3320708,
          -122.9542972,
          -122.4442906,
          -81.3464998,
          -122.3467918,
          -120.6614765,
          -122.7604472,
          -122.3773552,
          -119.1372338,
          -121.4864619,
          -122.3320708,
          -122.121512,
          -122.9006951,
          -120.3831161,
          -121.88142767876026,
          -122.3320708,
          -122.3340474,
          -122.5801293,
          -122.3320708,
          -122.4882249,
          -122.4882249,
          -122.2020794,
          -122.3320708,
          -122.3151313,
          -121.8845241,
          -122.6126718,
          -119.4356211,
          -117.5932728,
          -122.6465372,
          -120.5058987,
          -122.2348431,
          -122.21599,
          -117.04557,
          -120.9931394,
          -122.1251418,
          -91.7343327,
          -122.3320708,
          -121.88142767876026,
          -117.1796158,
          -120.0086538,
          -122.3534247,
          -122.6432245,
          -119.2844621,
          -122.1634582,
          -122.4442906,
          -122.0267787,
          -117.42908477783203,
          -122.49806,
          -122.3320708,
          -118.1532861,
          -122.5212448,
          -122.3340474,
          -122.0326191,
          -122.3320708,
          -122.3320708,
          -122.4442906,
          -122.9054625,
          -117.42908477783203,
          -122.2928974,
          -95.4180561,
          -120.094785,
          -117.42908477783203,
          -122.4962752,
          -118.0558218,
          -122.6465372,
          -117.42908477783203,
          -122.3320708,
          -122.6614861,
          -122.6614861,
          -119.2844621,
          -122.2566367,
          -121.7462513,
          -119.7689222,
          -122.3320708,
          -122.3995363,
          -123.18300977673154,
          -117.42908477783203,
          -122.4882249,
          -120.26558814519379,
          -119.2844621,
          -118.3430209,
          -122.6326391,
          -122.4882249,
          -122.3320708,
          -119.7689222,
          -122.2942839,
          -122.3320708,
          -122.4442906,
          -122.3320708,
          -122.3320708,
          -124.1040613,
          -122.3320708,
          -122.6614861,
          -117.905537,
          -122.1634582,
          -122.6948697,
          -122.121512,
          -122.2054035,
          -119.2844621,
          -117.42908477783203,
          -117.42908477783203,
          -122.3320708,
          -122.3773552,
          -122.3320708,
          -122.3320708,
          -92.8689877,
          -119.45176171249143,
          -123.93421390717111,
          -122.6362492,
          -122.1634582,
          -122.2928974,
          -123.0762134,
          -122.3320708,
          -122.9006951,
          -122.3320708,
          -122.9381672,
          -122.4598502,
          -124.0546003,
          -117.42908477783203,
          -122.8231915,
          -117.354939,
          -122.3534247,
          -122.6614861,
          -119.45176171249143,
          -122.7604472,
          -117.42908477783203,
          -121.4112054,
          -122.3320708,
          -122.6614861,
          -118.6908274,
          -122.6614861,
          -122.9542972,
          -122.4442906,
          -122.3320708,
          -122.121512,
          -122.6614861,
          -121.88142767876026,
          -94.5341421,
          -95.4180561,
          -123.3831834,
          -121.9915003,
          -123.93421390717111,
          -122.3320708,
          -122.4882249,
          -118.3430209,
          -122.5910056,
          -122.4442906,
          -122.3320708,
          -122.3320708,
          -117.0432583,
          -122.6465372,
          -122.2020794,
          -122.8757199,
          -122.9076141,
          -117.42908477783203,
          -122.2020794,
          -122.0803998,
          -122.1770818,
          -122.121512,
          -122.2087353,
          -122.2440148,
          -123.93421390717111,
          -122.2403966,
          -120.5058987,
          -122.2020794,
          -122.3320708,
          -123.10234,
          -122.3320708,
          -120.5314587,
          -122.1634582,
          -124.1040613,
          -120.9931394,
          -123.10234,
          -121.9856781,
          -122.3320708,
          -120.5058987,
          -122.3320708,
          -122.2170661,
          -122.9381672,
          -122.4442906,
          -122.2284532,
          -122.2020794,
          -122.8231915,
          -122.6614861,
          -119.3614092,
          -122.49806,
          -122.8070602,
          -122.2928974,
          -121.6015142,
          -91.9787846,
          -122.6614861,
          -118.3430209,
          -121.9856781,
          -117.0949268,
          -121.6015142,
          -122.6465372,
          -118.3430209,
          -122.0637425,
          -122.9006951,
          -122.2170661,
          -120.4698024,
          -122.2020794,
          -95.4180561,
          -119.1372338,
          -121.5551086,
          -91.1129233,
          -122.1251418,
          -119.1005657,
          -122.6614861,
          -120.26558814519379,
          -122.5334307,
          -122.3320708,
          -120.5058987,
          -120.5058987,
          -122.1857755,
          -122.9855747,
          -122.3320708,
          -87.9064736,
          -87.71453,
          -91.2395807,
          -88.5426136,
          -89.4012302,
          -89.4012302,
          -91.4846208,
          -88.4153847,
          -88.019826,
          -88.5426136,
          -88.462609,
          -88.06486,
          -88.0075875,
          -88.1064787,
          -87.9064736,
          -91.4887724,
          -90.1717987,
          -90.1798473,
          -91.9193422,
          -88.4992659,
          -91.4984941,
          -87.9064736,
          -89.6301221,
          -89.5042876,
          -89.2848359,
          -91.2395807,
          -87.9064736,
          -87.9064736,
          -87.9064736,
          -89.6556777,
          -92.1735179,
          -87.9064736,
          -88.4037079,
          -89.574563,
          -87.1242739,
          -88.5445447,
          -87.9064736,
          -92.1040796,
          -87.9064736,
          -87.9959191,
          -87.9875898,
          -88.5426136,
          -88.5426136,
          -90.8477425,
          -88.5037547,
          -89.4012302,
          -87.9064736,
          -89.4012302,
          -89.7384562,
          -90.3440178,
          -88.019826,
          -87.875644,
          -91.3929348,
          -89.4012302,
          -91.4984941,
          -89.9129013,
          -87.9064736,
          -91.4984941,
          -88.462609,
          -89.4556749,
          -91.9193422,
          -88.4153847,
          -88.3420398,
          -87.9064736,
          -87.9064736,
          -89.7109807,
          -90.7379119,
          -87.9064736,
          -89.6351218,
          -89.4012302,
          -93.4024532,
          -89.4556749,
          -92.6735365,
          -88.7442772,
          -89.4012302,
          -89.544007,
          -87.9064736,
          -89.4247366,
          -91.2395807,
          -89.7709579,
          -90.7120713,
          -87.8211854,
          -87.8211854,
          -87.7828523,
          -88.0022249,
          -87.79696267906142,
          -89.6301221,
          -89.4631014,
          -89.0187223,
          -89.4012302,
          -89.6990365,
          -88.1628785,
          -92.6238083,
          -87.8211854,
          -90.8477425,
          -88.7323272,
          -87.71453,
          -87.2970502,
          -89.8798933,
          -90.7196,
          -88.06486,
          -87.3770419,
          -89.574563,
          -88.019826,
          -88.7654449,
          -88.0178729,
          -87.9064736,
          -92.1040796,
          -88.019826,
          -89.267911,
          -88.9117742,
          -87.9064736,
          -91.8148954,
          -87.9064736,
          -89.4012302,
          -87.9064736,
          -88.0070315,
          -89.5331773,
          -89.4012302,
          -89.4012302,
          -91.9193422,
          -81.6326235,
          -81.6326235,
          -80.8525981,
          -77.804161,
          -78.0952796,
          -79.8467349,
          -80.84132872392844,
          -79.8467349,
          -81.1039911,
          -79.9558968,
          -81.1881557,
          -81.1039911,
          -80.4456303,
          -79.5464388,
          -79.9558968,
          -79.9558968,
          -81.5615135,
          -80.006828,
          -81.5615135,
          -79.6411594,
          -80.1167417,
          -81.1025918,
          -76.9510203,
          -82.445154,
          -80.1425781,
          -81.0956508,
          -80.84132872392844,
          -104.8202462,
          -104.8202462,
          -108.87943078410353,
          -105.03632082980366,
          -106.9561792,
          -104.8202462,
          -106.6989376,
          -104.8202462,
          -104.8202462,
          -104.8202462,
          -109.0565308,
          -105.03632082980366,
          -110.8752112,
          -106.313081,
          -110.64924307702209,
          -108.7306725,
          -104.8202462,
          -106.9561792,
          -110.64924307702209,
          -109.0565308,
          -109.0565308,
          -110.64924307702209,
          -110.64924307702209,
          -106.8064263,
          -110.9632373,
          -107.4511871,
          -109.8609864,
          -108.7573524,
          -106.313081,
          -106.3186397,
          -106.3069722,
          -105.4061159,
          -105.937799,
          -105.937799,
          -106.6511367,
          -106.6511367,
          -106.6511367,
          -106.6511367,
          -106.6511367,
          -106.6511367,
          -106.6511367,
          -106.6511367,
          -106.6511367,
          -106.6511367,
          -106.6511367,
          -106.6066926,
          -70.5133599,
          -70.8411612,
          -70.8772751,
          -70.0994605,
          -71.1447732,
          -71.0597732,
          -71.0597732,
          -76.9958149,
          -71.970074,
          -94.2088172,
          -94.2088172,
          -94.1574263,
          -94.1574263,
          -94.1574263,
          -94.1574263,
          -94.1574263,
          -94.1574263,
          -94.3985475,
          -93.1076765,
          -93.06377,
          -92.2895948,
          -92.2895948,
          -92.2895948,
          -92.2895948,
          -92.2895948,
          -92.2895948,
          -92.2895948,
          -92.2895948,
          -92.2895948,
          -92.2895948,
          -92.7440538,
          -93.7299173,
          -94.1185366,
          -94.1288142,
          -94.1288142,
          -112.3496021,
          -110.926479,
          -111.789027,
          -110.926479,
          -111.6512725,
          -113.75790300573257,
          -110.32141934752849,
          -110.926479,
          -110.926479,
          -111.6512725,
          -111.8226402,
          -112.1859866,
          -109.6042357,
          -111.8990327,
          -111.9093095,
          -111.8990327,
          -110.926479,
          -111.6512725,
          -111.9093095,
          -112.0740373,
          -112.55373566997312,
          -111.6512725,
          -111.6512725,
          -112.0740373,
          -109.6042357,
          -112.2373779,
          -112.07070114747218,
          -112.0740373,
          -110.3912476,
          -112.3582135,
          -112.07070114747218,
          -111.8990327,
          -111.9093095,
          -112.0579367,
          -112.0740373,
          -110.926479,
          -110.0675764,
          -111.8990327,
          -111.6512725,
          -112.0740373,
          -148.9661111,
          -134.4197222,
          -149.9002778,
          -149.11456,
          -134.4197222,
          -131.64757,
          -149.4415,
          -147.7163889,
          -149.11456,
          -149.9002778,
          -149.82629,
          -149.9002778,
          -150.0938889,
          -134.4197222,
          -134.4197222,
          -145.30289,
          -149.1663889,
          -149.9002778,
          -151.5494,
          -135.44533,
          -135.33088,
          -151.5494,
          -147.7163889,
          -136.23715,
          -151.2888889,
          -151.0583333,
          -149.9002778,
          -135.3138889,
          -152.40533,
          -149.4415,
          -149.11456,
          -149.11456,
          -149.9002778,
          -149.5677778,
          -149.9002778,
          -149.9002778,
          -149.09577,
          -149.4435,
          -165.97595,
          -135.3138889,
          -151.0583333,
          -149.9002778,
          -144.5005556,
          -122.1560768,
          -122.2708026,
          -121.7680088,
          -122.272747,
          -122.0807964,
          -122.1560768,
          -122.2708026,
          -122.1560768,
          -121.7680088,
          -121.9885719,
          -122.272747,
          -122.272747,
          -121.9885719,
          -122.2708026,
          -122.2708026,
          -122.2708026,
          -122.272747,
          -122.272747,
          -121.7680088,
          -122.272747,
          -122.272747,
          -122.2708026,
          -121.7680088,
          -120.844659,
          -121.8374777,
          -121.8374777,
          -121.55776,
          -121.5783059,
          -121.8374777,
          -121.8374777,
          -121.8374777,
          -120.3510307,
          -122.0310733,
          -122.064963,
          -121.9999606,
          -121.8846806,
          -122.064963,
          -122.3116367,
          -121.9780153,
          -122.0310733,
          -122.2977475,
          -119.9843482,
          -119.9843482,
          -121.01472,
          -120.8149355,
          -120.798546,
          -120.6749302,
          -120.6749302,
          -119.9843482,
          -121.082167,
          -120.798546,
          -119.9843482,
          -120.798546,
          -119.9843482,
          -120.8149355,
          -119.9843482,
          -122.4696938,
          -119.9843482,
          -119.7723661,
          -119.7723661,
          -119.7723661,
          -119.7723661,
          -119.7723661,
          -119.7723661,
          -124.1572756,
          -124.1636729,
          -123.9839488,
          -124.0828396,
          -124.1006205,
          -118.3951101,
          -119.0187125,
          -119.0187125,
          -119.0187125,
          -118.4253627,
          -119.0187125,
          -118.4489739,
          -119.0187125,
          -119.7829107,
          -119.6456844,
          -122.8394375,
          -122.6149853,
          -122.9158293,
          -118.3406288,
          -117.9389526,
          -118.18075741460018,
          -118.2436849,
          -118.18075741460018,
          -118.18075741460018,
          -118.1367393,
          -118.2922934,
          -118.3525748,
          -117.9075627,
          -118.3406288,
          -117.7197785,
          -118.3406288,
          -118.2436849,
          -118.4164652,
          -118.2436849,
          -118.3089661,
          -118.6011992,
          -117.7522793,
          -118.3534115,
          -118.1367393,
          -118.3884078,
          -117.9075627,
          -118.18075741460018,
          -118.18075741460018,
          -118.2436849,
          -117.9353413,
          -118.3406288,
          -118.2436849,
          -118.2436849,
          -117.9989548,
          -118.0467339,
          -118.3406288,
          -118.0275667,
          -117.7522793,
          -118.3406288,
          -118.3406288,
          -118.3406288,
          -118.1678456,
          -118.1339563,
          -118.3531311,
          -118.18075741460018,
          -118.1164613,
          -118.18075741460018,
          -119.6493154,
          -122.5697032,
          -122.5697032,
          -122.5888686,
          -122.5352539,
          -122.5697032,
          -122.5310874,
          -122.5310874,
          -118.2934244,
          -123.3661194,
          -123.4315539046526,
          -123.8052935,
          -120.4829677,
          -118.8395746,
          -119.0736094,
          -121.8946761,
          -121.8946761,
          -122.5310874,
          -121.8946761,
          -121.9232879,
          -122.5797054,
          -122.2855293,
          -140.92978,
          -122.2855293,
          -122.2855293,
          -122.2855293,
          -122.2855293,
          -122.2855293,
          -121.0610606,
          -120.0940868,
          -120.1832533,
          -121.0610606,
          -121.01779,
          -120.1832533,
          -121.01779,
          -118.18075741460018,
          -117.9186689,
          -117.9186689,
          -117.925338,
          -117.8703363,
          -117.8531119,
          -117.8678338,
          -117.8678338,
          -117.8531119,
          -117.9186689,
          -117.603104,
          -117.6119925,
          -117.8678338,
          -118.18075741460018,
          -117.8531119,
          -117.9992265,
          -117.9186689,
          -117.8231107,
          -117.826166,
          -117.826166,
          -117.8531119,
          -121.0768901,
          -121.2357828,
          -121.0768901,
          -121.2930079,
          -121.0768901,
          -121.1930041,
          -121.2357828,
          -121.0768901,
          -121.2357828,
          -121.2930079,
          -120.99764131611157,
          -120.6166077,
          -121.2319098,
          -120.94647,
          -117.1483648,
          -117.3961564,
          -116.41279,
          -117.1483648,
          -117.1483648,
          -116.8764103,
          -116.3902887,
          -117.3272615,
          -116.37697,
          -117.2139232,
          -117.2139232,
          -117.3961564,
          -117.5664384,
          -117.1483648,
          -117.548661,
          -117.3961564,
          -116.7189075,
          -117.3961564,
          -117.2139232,
          -117.1483648,
          -117.1483648,
          -116.37697,
          -116.5452921,
          -117.5664384,
          -117.1464209,
          -117.1483648,
          -117.3961564,
          -117.1483648,
          -117.1483648,
          -117.3961564,
          -117.5664384,
          -117.5664384,
          -117.5664384,
          -117.1483648,
          -117.3961564,
          -117.3961564,
          -117.1483648,
          -117.2305944,
          -121.4943996,
          -121.4943996,
          -121.4943996,
          -121.4943996,
          -121.4943996,
          -121.302728,
          -121.302728,
          -121.4943996,
          -121.4943996,
          -121.3716178,
          -121.3716178,
          -121.302728,
          -121.4943996,
          -121.4943996,
          -121.4943996,
          -121.4943996,
          -121.4943996,
          -121.2257818,
          -121.4943996,
          -120.99764131611157,
          -121.2999485,
          -121.4943996,
          -121.4943996,
          -121.4943996,
          -121.4943996,
          -121.3716178,
          -121.4943996,
          -117.3136547,
          -116.12973933507142,
          -117.0430865,
          -117.3008784,
          -117.6897776,
          -117.1825381,
          -117.5931084,
          -117.1825381,
          -117.0430865,
          -117.688944,
          -117.5931084,
          -117.1892078,
          -117.6483876,
          -117.5931084,
          -117.3008784,
          -117.1858759,
          -117.1825381,
          -117.6483876,
          -117.6897776,
          -117.1825381,
          -117.6483876,
          -117.5931084,
          -117.6897776,
          -117.5931084,
          -117.5931084,
          -117.6483876,
          -116.12973933507142,
          -121.2724473,
          -121.2724473,
          -121.2724473,
          -121.2724473,
          -121.2724473,
          -121.42618,
          -121.0807468,
          -120.6910043,
          -120.6910043,
          -120.6596156,
          -120.6596156,
          -122.4077498,
          -122.2758008,
          -122.4077498,
          -122.2605222,
          -122.2758008,
          -122.2363548,
          -122.009975,
          -122.4296982,
          -122.4694214,
          -122.4285862,
          -119.8276389,
          -120.1926505,
          -120.1926505,
          -119.5184564,
          -119.8276389,
          -119.6981901,
          -120.1376481,
          -119.6981901,
          -121.8949555,
          -121.6543901,
          -121.8949555,
          -121.8949555,
          -121.6543901,
          -121.8949555,
          -121.8949555,
          -121.9552356,
          -121.8949555,
          -121.8949555,
          -121.8949555,
          -121.8949555,
          -121.8949555,
          -121.8949555,
          -121.37692780284193,
          -121.8949555,
          -121.8949555,
          -121.9746797,
          -121.5682751,
          -121.9566267,
          -122.0307963,
          -121.9494038,
          -122.0307963,
          -121.9494038,
          -122.0307963,
          -122.0146841,
          -122.0307963,
          -121.4383139,
          -122.3916754,
          -122.3916754,
          -122.3916754,
          -122.2730661,
          -122.8947551,
          -122.3861269,
          -122.0399663,
          -122.0399663,
          -122.040244,
          -122.2566367,
          -122.8691609,
          -122.7144314,
          -122.7144314,
          -122.7144314,
          -122.6366524,
          -122.7144314,
          -122.7144314,
          -122.8163802,
          -122.6366524,
          -122.7144314,
          -122.7144314,
          -122.7144314,
          -122.8163802,
          -122.9961102,
          -122.7144314,
          -120.8465941,
          -120.9968782,
          -120.9577098,
          -118.781482,
          -118.781482,
          -118.8820414,
          -119.0376023,
          -119.0376023,
          -118.781482,
          -118.781482,
          -118.8375937,
          -118.781482,
          -118.781482,
          -118.781482,
          -118.781482,
          -118.781482,
          -118.8056474,
          -118.8375937,
          -121.4943996,
          -121.7405167,
          -121.4943996,
          -121.7405167,
          -121.7405167,
          -121.7405167,
          -121.4943996,
          -77.0469214,
          -78.4766781,
          -78.4955648,
          -78.4766781,
          -78.4766781,
          -78.4766781,
          -78.700575,
          -78.4766781,
          -79.1451067,
          -77.0469214,
          -77.0469214,
          -77.9908599,
          -77.1042823791504,
          -77.1042823791504,
          -79.0732,
          -79.0732,
          -79.0732,
          -77.2013705,
          -79.8105908,
          -79.5230877,
          -77.4558151,
          -76.2749399,
          -76.2749399,
          -77.6491578,
          -77.6491578,
          -77.9966639,
          -77.9966639,
          -79.3950228,
          -77.3063733,
          -77.3860976,
          -77.2652604,
          -77.7130483,
          -77.2277604,
          -77.2277604,
          -77.1774801,
          -77.4310992,
          -77.4288769,
          -77.0363658,
          -77.1710914,
          -77.1710914,
          -77.1710914,
          -77.7952712,
          -77.7244362,
          -77.7952712,
          -77.9202734,
          -80.0494814,
          -79.6994761,
          -79.9553136,
          -78.280558,
          -78.1633341,
          -78.1633341,
          -78.1633341,
          -78.1633341,
          -78.1633341,
          -77.4605399,
          -77.4605399,
          -77.4605399,
          -77.4605399,
          -80.9239671,
          -76.5229666,
          -76.5229666,
          -77.9163635,
          -77.9163635,
          -77.9163635,
          -77.9163635,
          -76.3452218,
          -76.3452218,
          -76.3073874,
          -76.3452218,
          -77.4799837,
          -77.0335879,
          -77.0335879,
          -77.0555328,
          -77.7147153,
          -77.5636015,
          -77.8338839,
          -77.7147153,
          -77.4285992,
          -77.5636015,
          -77.5636015,
          -77.5636015,
          -77.5636015,
          -77.5636015,
          -77.8338839,
          -77.0363658,
          -77.5636015,
          -77.7147153,
          -77.4874899,
          -77.5386025,
          -77.5636015,
          -77.5636015,
          -77.5636015,
          -77.4285992,
          -77.7147153,
          -77.4874899,
          -77.6413817,
          -77.4285992,
          -77.4285992,
          -77.4285992,
          -77.4285992,
          -78.2792401,
          -77.4752667,
          -77.4752667,
          -77.4752667,
          -80.4139393,
          -80.4139393,
          -80.4139393,
          -110.9407492,
          -78.8867565,
          -78.9758579,
          -78.8722444,
          -76.9971279,
          -76.4533869259279,
          -76.4533869259279,
          -76.2852183,
          -76.2852183,
          -76.2852183,
          -76.2852183,
          -76.2852183,
          -76.2852183,
          -76.2852183,
          -76.2852183,
          -76.01649,
          -76.2982742,
          -76.2982742,
          -77.9151855,
          -77.9151855,
          -77.2497049,
          -77.6138802,
          -77.4752667,
          -77.4477662,
          -76.9788641,
          -77.4602617,
          -77.4602617,
          -77.4602617,
          -77.4602617,
          -77.4602617,
          -77.4602617,
          -77.4602617,
          -77.4602617,
          -77.4602617,
          -77.4602617,
          -77.4602617,
          -77.4602617,
          -77.4602617,
          -77.4602617,
          -77.4602617,
          -77.4602617,
          -77.4602617,
          -77.4602617,
          -77.4602617,
          -79.9414267,
          -79.9414267,
          -80.0128158,
          -80.0547626,
          -80.0547626,
          -79.8969819,
          -79.45244,
          -77.0363658,
          -79.45244,
          -78.8689156,
          -78.8689156,
          -78.8689156,
          -78.8689156,
          -78.8689156,
          -76.6310662,
          -77.4083162,
          -76.58496,
          -75.977985,
          -75.977985,
          -75.977985,
          -75.977985,
          -75.977985,
          -75.977985,
          -75.977985,
          -75.977985,
          -75.977985,
          -75.977985,
          -75.977985,
          -75.977985,
          -75.977985,
          -75.977985,
          -75.977985,
          -78.280558,
          -78.280558,
          -81.7712324,
          -77.2038717,
          -81.9773482,
          -78.8894682,
          -78.8894682,
          -76.7074571,
          -76.7074571,
          -76.7074571,
          -76.7074571,
          -111.0385582,
          -108.5006904,
          -113.9939982,
          -104.2489733,
          -113.9939982,
          -112.036109,
          -114.0931588,
          -111.0385582,
          -108.5006904,
          -113.9939982,
          -114.050388,
          -114.1631719,
          -114.3376334,
          -110.925513,
          -113.9939982,
          -113.9939982,
          -111.6502985,
          -108.5006904,
          -112.5347447,
          -113.2942303,
          -112.5347447,
          -109.2468211,
          -114.2245664,
          -114.0931588
         ],
         "marker": {
          "color": "fuchsia",
          "opacity": 0.2,
          "size": [
           8,
           1,
           10,
           1,
           8,
           2,
           10,
           4,
           8,
           10,
           1,
           3,
           4,
           2,
           1,
           1,
           10,
           8,
           1,
           8,
           10,
           4,
           10,
           2,
           4,
           1,
           24,
           1,
           15,
           2,
           3,
           2,
           2,
           15,
           10,
           4,
           2,
           2,
           1,
           10,
           2,
           8,
           8,
           2,
           10,
           1,
           6,
           3,
           6,
           6,
           6,
           5,
           6,
           6,
           3,
           1,
           12,
           3,
           6,
           2,
           12,
           12,
           1,
           1,
           1,
           1,
           12,
           5,
           6,
           12,
           6,
           12,
           6,
           3,
           12,
           3,
           1,
           3,
           5,
           12,
           5,
           1,
           1,
           1,
           6,
           12,
           2,
           1,
           1,
           5,
           1,
           1,
           6,
           6,
           12,
           6,
           2,
           1,
           2,
           12,
           1,
           2,
           3,
           3,
           2,
           1,
           2,
           1,
           1,
           1,
           4,
           1,
           2,
           1,
           3,
           1,
           1,
           4,
           2,
           1,
           1,
           1,
           2,
           3,
           2,
           1,
           7,
           2,
           11,
           2,
           4,
           1,
           2,
           4,
           4,
           1,
           4,
           2,
           2,
           3,
           3,
           1,
           2,
           1,
           4,
           1,
           1,
           1,
           4,
           1,
           7,
           1,
           1,
           1,
           3,
           11,
           3,
           1,
           2,
           24,
           3,
           1,
           2,
           2,
           1,
           5,
           3,
           7,
           6,
           2,
           1,
           4,
           4,
           1,
           2,
           2,
           3,
           24,
           2,
           3,
           3,
           5,
           5,
           1,
           1,
           1,
           2,
           1,
           1,
           3,
           3,
           4,
           7,
           6,
           1,
           6,
           4,
           1,
           1,
           4,
           1,
           2,
           6,
           1,
           2,
           1,
           1,
           2,
           4,
           6,
           3,
           2,
           3,
           1,
           1,
           7,
           1,
           1,
           1,
           2,
           7,
           3,
           4,
           1,
           1,
           1,
           2,
           1,
           3,
           1,
           7,
           1,
           6,
           1,
           3,
           2,
           1,
           2,
           1,
           1,
           1,
           5,
           21,
           1,
           2,
           1,
           1,
           2,
           5,
           1,
           4,
           3,
           2,
           3,
           3,
           1,
           1,
           2,
           1,
           1,
           7,
           7,
           7,
           1,
           1,
           2,
           2,
           1,
           4,
           3,
           1,
           2,
           1,
           1,
           1,
           1,
           6,
           9,
           9,
           6,
           9,
           9,
           9,
           2,
           9,
           1,
           5,
           2,
           9,
           9,
           1,
           9,
           9,
           9,
           1,
           3,
           9,
           2,
           9,
           2,
           3,
           1,
           9,
           7,
           1,
           1,
           2,
           3,
           1,
           2,
           1,
           24,
           2,
           2,
           2,
           3,
           1,
           2,
           2,
           1,
           5,
           1,
           5,
           1,
           8,
           4,
           1,
           8,
           1,
           1,
           1,
           5,
           2,
           3,
           2,
           1,
           1,
           2,
           2,
           1,
           24,
           2,
           2,
           1,
           11,
           1,
           5,
           1,
           1,
           1,
           5,
           24,
           1,
           2,
           1,
           24,
           1,
           2,
           4,
           2,
           2,
           24,
           1,
           8,
           24,
           2,
           2,
           1,
           2,
           4,
           4,
           1,
           1,
           4,
           4,
           2,
           1,
           1,
           1,
           1,
           2,
           2,
           1,
           2,
           1,
           2,
           2,
           2,
           2,
           1,
           5,
           1,
           1,
           1,
           4,
           4,
           4,
           4,
           1,
           1,
           11,
           4,
           22,
           1,
           2,
           1,
           6,
           1,
           22,
           3,
           3,
           3,
           3,
           1,
           22,
           11,
           1,
           1,
           24,
           7,
           22,
           1,
           5,
           2,
           22,
           1,
           1,
           15,
           1,
           22,
           11,
           1,
           1,
           7,
           22,
           1,
           22,
           2,
           22,
           24,
           22,
           5,
           1,
           1,
           1,
           4,
           22,
           3,
           11,
           1,
           1,
           4,
           1,
           24,
           22,
           6,
           2,
           9,
           2,
           11,
           1,
           1,
           6,
           4,
           11,
           24,
           1,
           22,
           22,
           4,
           6,
           7,
           1,
           11,
           4,
           5,
           22,
           24,
           11,
           7,
           22,
           22,
           1,
           4,
           1,
           4,
           2,
           1,
           1,
           6,
           22,
           11,
           4,
           1,
           7,
           1,
           22,
           7,
           2,
           22,
           2,
           22,
           11,
           11,
           9,
           3,
           1,
           1,
           7,
           22,
           6,
           4,
           31,
           3,
           1,
           31,
           2,
           31,
           7,
           2,
           2,
           31,
           7,
           1,
           1,
           31,
           1,
           3,
           2,
           7,
           31,
           1,
           2,
           2,
           31,
           31,
           11,
           31,
           2,
           1,
           31,
           4,
           1,
           31,
           31,
           2,
           4,
           3,
           4,
           4,
           2,
           31,
           31,
           31,
           9,
           31,
           2,
           1,
           11,
           31,
           31,
           2,
           31,
           7,
           31,
           1,
           31,
           4,
           11,
           31,
           4,
           3,
           2,
           2,
           31,
           31,
           31,
           31,
           7,
           31,
           1,
           7,
           2,
           31,
           31,
           31,
           1,
           2,
           1,
           31,
           31,
           31,
           2,
           1,
           5,
           2,
           31,
           1,
           3,
           1,
           2,
           5,
           31,
           5,
           2,
           1,
           3,
           1,
           31,
           31,
           2,
           31,
           2,
           1,
           31,
           2,
           31,
           1,
           3,
           31,
           31,
           31,
           31,
           2,
           3,
           31,
           1,
           3,
           3,
           1,
           3,
           31,
           31,
           31,
           31,
           22,
           3,
           5,
           31,
           31,
           31,
           31,
           31,
           31,
           3,
           5,
           2,
           2,
           5,
           31,
           2,
           31,
           1,
           6,
           1,
           6,
           6,
           1,
           4,
           1,
           1,
           5,
           8,
           2,
           2,
           2,
           1,
           1,
           2,
           1,
           7,
           2,
           2,
           2,
           1,
           7,
           1,
           2,
           1,
           1,
           7,
           1,
           7,
           2,
           1,
           2,
           1,
           1,
           7,
           1,
           1,
           5,
           1,
           10,
           7,
           1,
           1,
           2,
           1,
           2,
           2,
           1,
           1,
           2,
           1,
           5,
           2,
           10,
           9,
           9,
           2,
           9,
           1,
           10,
           1,
           9,
           10,
           9,
           2,
           10,
           10,
           9,
           2,
           2,
           10,
           9,
           1,
           10,
           10,
           9,
           10,
           1,
           9,
           10,
           2,
           1,
           7,
           4,
           4,
           1,
           1,
           3,
           2,
           3,
           4,
           2,
           5,
           2,
           11,
           3,
           1,
           4,
           1,
           7,
           1,
           1,
           2,
           2,
           4,
           1,
           7,
           9,
           3,
           7,
           1,
           2,
           9,
           7,
           9,
           7,
           1,
           1,
           9,
           7,
           9,
           2,
           1,
           9,
           1,
           7,
           9,
           3,
           9,
           2,
           3,
           1,
           2,
           9,
           7,
           12,
           12,
           12,
           12,
           12,
           12,
           12,
           12,
           12,
           12,
           12,
           12,
           1,
           3,
           3,
           3,
           3,
           3,
           21,
           21,
           21,
           21,
           21,
           21,
           21,
           21,
           21,
           21,
           21,
           21,
           21,
           21,
           21,
           21,
           21,
           21,
           21,
           21,
           7,
           7,
           7,
           7,
           7,
           7,
           7,
           3,
           3,
           3,
           28,
           28,
           28,
           28,
           28,
           28,
           28,
           28,
           28,
           28,
           28,
           28,
           28,
           28,
           28,
           28,
           28,
           28,
           28,
           28,
           28,
           28,
           28,
           28,
           28,
           28,
           28,
           7,
           7,
           3,
           2,
           7,
           3,
           3,
           1,
           2,
           7,
           7,
           1,
           1,
           7,
           2,
           1,
           2,
           1,
           12,
           12,
           1,
           1,
           2,
           1,
           1,
           1,
           2,
           8,
           1,
           1,
           2,
           1,
           1,
           1,
           2,
           1,
           1,
           1,
           3,
           1,
           1,
           1,
           1,
           1,
           5,
           1,
           2,
           1,
           1,
           1,
           3,
           2,
           1,
           1,
           5,
           1,
           9,
           11,
           6,
           11,
           6,
           1,
           11,
           3,
           11,
           6,
           2,
           1,
           4,
           3,
           11,
           2,
           11,
           3,
           2,
           1,
           1,
           1,
           11,
           1,
           3,
           1,
           3,
           2,
           2,
           3,
           4,
           11,
           3,
           3,
           6,
           2,
           3,
           3,
           3,
           3,
           3,
           2,
           3,
           4,
           2,
           11,
           1,
           1,
           4,
           1,
           2,
           3,
           6,
           11,
           2,
           1,
           11,
           1,
           6,
           31,
           8,
           1,
           2,
           10,
           3,
           10,
           1,
           2,
           2,
           2,
           10,
           1,
           1,
           2,
           2,
           1,
           1,
           1,
           1,
           10,
           2,
           6,
           3,
           1,
           1,
           10,
           1,
           31,
           1,
           10,
           6,
           6,
           6,
           1,
           1,
           10,
           2,
           2,
           22,
           3,
           2,
           6,
           2,
           28,
           10,
           2,
           2,
           2,
           3,
           2,
           6,
           10,
           1,
           1,
           6,
           1,
           1,
           6,
           10,
           3,
           3,
           3,
           3,
           1,
           31,
           5,
           24,
           23,
           2,
           1,
           23,
           1,
           24,
           5,
           1,
           1,
           1,
           1,
           23,
           2,
           2,
           1,
           1,
           23,
           3,
           4,
           2,
           1,
           1,
           3,
           23,
           1,
           23,
           1,
           3,
           23,
           1,
           23,
           1,
           4,
           2,
           1,
           1,
           3,
           3,
           23,
           5,
           1,
           1,
           5,
           1,
           1,
           23,
           1,
           3,
           3,
           2,
           1,
           3,
           1,
           1,
           3,
           24,
           23,
           8,
           1,
           1,
           3,
           2,
           3,
           24,
           2,
           2,
           4,
           1,
           1,
           1,
           1,
           1,
           1,
           1,
           3,
           1,
           1,
           23,
           1,
           23,
           1,
           1,
           5,
           24,
           23,
           8,
           3,
           1,
           1,
           1,
           1,
           2,
           1,
           1,
           23,
           2,
           2,
           2,
           1,
           12,
           10,
           1,
           1,
           1,
           1,
           3,
           23,
           3,
           1,
           23,
           6,
           10,
           10,
           1,
           3,
           1,
           10,
           10,
           1,
           3,
           3,
           4,
           23,
           10,
           23,
           1,
           3,
           1,
           10,
           10,
           23,
           1,
           1,
           3,
           9,
           23,
           1,
           7,
           10,
           1,
           23,
           10,
           23,
           1,
           3,
           1,
           7,
           7,
           7,
           7,
           5,
           7,
           1,
           7,
           1,
           1,
           2,
           1,
           2,
           2,
           1,
           3,
           7,
           1,
           1,
           1,
           24,
           6,
           1,
           6,
           6,
           6,
           6,
           6,
           2,
           1,
           2,
           1,
           1,
           1,
           1,
           2,
           4,
           10,
           1,
           1,
           2,
           2,
           1,
           7,
           1,
           10,
           1,
           10,
           1,
           2,
           1,
           1,
           11,
           1,
           11,
           2,
           1,
           10,
           3,
           10,
           11,
           1,
           2,
           7,
           1,
           1,
           1,
           1,
           11,
           3,
           2,
           1,
           10,
           4,
           2,
           1,
           4,
           1,
           1,
           1,
           10,
           2,
           2,
           10,
           4,
           11,
           1,
           3,
           1,
           1,
           2,
           4,
           2,
           11,
           2,
           4,
           1,
           2,
           1,
           8,
           5,
           15,
           15,
           15,
           8,
           2,
           1,
           1,
           1,
           2,
           15,
           6,
           8,
           1,
           1,
           6,
           1,
           6,
           2,
           8,
           1,
           5,
           15,
           6,
           3,
           1,
           8,
           15,
           15,
           2,
           15,
           8,
           6,
           5,
           2,
           15,
           1,
           3,
           15,
           1,
           3,
           1,
           1,
           15,
           6,
           3,
           5,
           1,
           1,
           15,
           8,
           1,
           5,
           2,
           1,
           2,
           3,
           22,
           15,
           2,
           1,
           8,
           7,
           1,
           3,
           1,
           2,
           12,
           9,
           6,
           3,
           2,
           12,
           9,
           2,
           2,
           1,
           2,
           3,
           1,
           1,
           1,
           1,
           2,
           9,
           3,
           12,
           1,
           7,
           3,
           8,
           1,
           3,
           7,
           3,
           1,
           2,
           1,
           2,
           12,
           1,
           2,
           4,
           1,
           2,
           12,
           1,
           1,
           1,
           7,
           3,
           7,
           8,
           2,
           7,
           1,
           2,
           1,
           1,
           6,
           1,
           1,
           1,
           3,
           1,
           7,
           7,
           2,
           7,
           3,
           11,
           1,
           2,
           3,
           2,
           1,
           9,
           2,
           1,
           2,
           9,
           1,
           4,
           3,
           1,
           3,
           1,
           7,
           12,
           3,
           3,
           1,
           1,
           1,
           1,
           1,
           7,
           3,
           1,
           3,
           1,
           2,
           8,
           3,
           1,
           8,
           1,
           1,
           1,
           2,
           1,
           1,
           1,
           3,
           7,
           1,
           3,
           1,
           2,
           1,
           1,
           8,
           3,
           3,
           9,
           8,
           1,
           2,
           1,
           3,
           1,
           9,
           8,
           12,
           12,
           7,
           12,
           12,
           4,
           1,
           1,
           1,
           1,
           1,
           3,
           6,
           12,
           2,
           7,
           9,
           3,
           3,
           9,
           2,
           4,
           1,
           12,
           3,
           1,
           1,
           4,
           2,
           1,
           4,
           1,
           6,
           2,
           1,
           11,
           2,
           1,
           1,
           2,
           2,
           4,
           2,
           6,
           1,
           2,
           11,
           11,
           4,
           10,
           11,
           1,
           2,
           11,
           2,
           11,
           4,
           2,
           3,
           11,
           4,
           3,
           11,
           4,
           4,
           1,
           4,
           6,
           11,
           6,
           31,
           4,
           11,
           4,
           1,
           1,
           11,
           1,
           1,
           1,
           1,
           1,
           1,
           1,
           1,
           3,
           1,
           1,
           1,
           3,
           3,
           5,
           1,
           3,
           1,
           13,
           1,
           1,
           3,
           13,
           4,
           20,
           3,
           2,
           3,
           2,
           1,
           1,
           1,
           20,
           1,
           1,
           1,
           1,
           2,
           1,
           1,
           1,
           1,
           1,
           20,
           9,
           1,
           2,
           2,
           20,
           1,
           3,
           3,
           13,
           3,
           20,
           1,
           20,
           1,
           2,
           1,
           1,
           1,
           1,
           3,
           1,
           1,
           1,
           1,
           1,
           13,
           1,
           1,
           1,
           1,
           5,
           1,
           2,
           1,
           2,
           3,
           1,
           1,
           3,
           1,
           1,
           1,
           1,
           1,
           4,
           2,
           13,
           2,
           1,
           20,
           2,
           1,
           20,
           2,
           20,
           5,
           2,
           1,
           2,
           1,
           1,
           2,
           1,
           2,
           2,
           1,
           1,
           20,
           2,
           1,
           1,
           2,
           2,
           1,
           1,
           1,
           1,
           1,
           2,
           13,
           1,
           1,
           13,
           13,
           20,
           1,
           1,
           1,
           1,
           13,
           2,
           2,
           1,
           4,
           1,
           1,
           13,
           1,
           1,
           20,
           1,
           2,
           1,
           20,
           1,
           20,
           1,
           2,
           1,
           3,
           1,
           20,
           20,
           13,
           1,
           2,
           1,
           1,
           1,
           1,
           1,
           5,
           1,
           1,
           3,
           1,
           13,
           20,
           1,
           2,
           1,
           1,
           2,
           1,
           1,
           2,
           4,
           1,
           3,
           1,
           3,
           1,
           1,
           3,
           2,
           5,
           2,
           1,
           2,
           1,
           1,
           1,
           1,
           20,
           2,
           20,
           2,
           1,
           2,
           20,
           1,
           1,
           13,
           2,
           2,
           1,
           2,
           1,
           6,
           8,
           5,
           1,
           6,
           5,
           1,
           1,
           1,
           1,
           8,
           2,
           1,
           1,
           3,
           6,
           6,
           1,
           6,
           1,
           5,
           8,
           5,
           2,
           3,
           2,
           6,
           8,
           2,
           2,
           2,
           2,
           5,
           8,
           1,
           1,
           3,
           1,
           1,
           8,
           1,
           1,
           3,
           2,
           8,
           1,
           3,
           1,
           1,
           8,
           6,
           2,
           16,
           1,
           16,
           1,
           1,
           2,
           16,
           16,
           1,
           16,
           1,
           4,
           1,
           2,
           16,
           2,
           6,
           16,
           1,
           16,
           16,
           2,
           1,
           1,
           16,
           16,
           16,
           3,
           2,
           16,
           16,
           3,
           1,
           3,
           6,
           16,
           1,
           16,
           1,
           2,
           2,
           2,
           2,
           10,
           2,
           1,
           2,
           1,
           12,
           1,
           2,
           1,
           10,
           13,
           1,
           1,
           2,
           2,
           13,
           1,
           1,
           1,
           3,
           1,
           13,
           13,
           2,
           1,
           1,
           1,
           1,
           2,
           2,
           1,
           10,
           1,
           1,
           2,
           3,
           13,
           1,
           2,
           1,
           2,
           1,
           12,
           10,
           2,
           1,
           2,
           3,
           10,
           1,
           1,
           2,
           2,
           2,
           10,
           3,
           10,
           13,
           1,
           3,
           13,
           10,
           13,
           1,
           13,
           1,
           2,
           1,
           3,
           2,
           1,
           12,
           3,
           10,
           1,
           1,
           2,
           12,
           1,
           2,
           1,
           1,
           1,
           10,
           2,
           13,
           1,
           1,
           1,
           13,
           2,
           2,
           2,
           13,
           13,
           1,
           3,
           1,
           23,
           23,
           2,
           15,
           2,
           1,
           1,
           1,
           9,
           1,
           1,
           1,
           9,
           23,
           3,
           1,
           6,
           1,
           1,
           9,
           6,
           1,
           2,
           23,
           1,
           6,
           1,
           9,
           6,
           23,
           9,
           23,
           23,
           1,
           23,
           23,
           6,
           9,
           11,
           2,
           1,
           23,
           23,
           1,
           11,
           15,
           1,
           1,
           10,
           6,
           1,
           2,
           23,
           23,
           23,
           1,
           11,
           6,
           2,
           2,
           2,
           1,
           1,
           11,
           3,
           1,
           23,
           2,
           23,
           3,
           2,
           1,
           3,
           9,
           23,
           1,
           1,
           23,
           1,
           2,
           23,
           1,
           1,
           3,
           1,
           9,
           23,
           1,
           1,
           1,
           2,
           1,
           1,
           1,
           23,
           1,
           1,
           23,
           23,
           1,
           9,
           1,
           1,
           19,
           3,
           9,
           19,
           19,
           19,
           1,
           19,
           10,
           10,
           10,
           12,
           12,
           19,
           1,
           10,
           10,
           19,
           1,
           10,
           19,
           3,
           1,
           12,
           1,
           9,
           3,
           10,
           19,
           19,
           10,
           1,
           2,
           12,
           9,
           1,
           1,
           2,
           3,
           19,
           19,
           9,
           1,
           2,
           19,
           3,
           1,
           2,
           12,
           19,
           19,
           2,
           2,
           9,
           19,
           10,
           1,
           10,
           3,
           19,
           3,
           19,
           19,
           2,
           4,
           4,
           4,
           4,
           2,
           2,
           3,
           3,
           1,
           1,
           2,
           2,
           2,
           3,
           1,
           3,
           11,
           11,
           10,
           11,
           1,
           2,
           2,
           1,
           10,
           1,
           1,
           11,
           11,
           9,
           11,
           7,
           10,
           3,
           1,
           31,
           11,
           1,
           10,
           10,
           1,
           1,
           3,
           1,
           1,
           3,
           1,
           1,
           3,
           2,
           1,
           1,
           1,
           1,
           10,
           10,
           3,
           1,
           2,
           10,
           10,
           11,
           11,
           2,
           3,
           2,
           2,
           2,
           6,
           5,
           2,
           2,
           1,
           1,
           1,
           1,
           11,
           2,
           3,
           1,
           1,
           1,
           1,
           1,
           1,
           1,
           1,
           3,
           2,
           1,
           1,
           3,
           1,
           1,
           1,
           7,
           2,
           1,
           3,
           2,
           1,
           1,
           1,
           1,
           1,
           5,
           2,
           1,
           1,
           1,
           1,
           1,
           1,
           1,
           1,
           1,
           2,
           1,
           1,
           2,
           2,
           2,
           3,
           4,
           1,
           1,
           3,
           3,
           1,
           1,
           3,
           1,
           2,
           1,
           1,
           1,
           1,
           2,
           1,
           1,
           7,
           3,
           1,
           5,
           1,
           2,
           3,
           1,
           1,
           1,
           1,
           1,
           1,
           3,
           1,
           1,
           1,
           1,
           3,
           3,
           2,
           2,
           5,
           3,
           3,
           2,
           1,
           1,
           3,
           3,
           1,
           2,
           1,
           1,
           1,
           1,
           2,
           3,
           1,
           1,
           1,
           1,
           1,
           2,
           1,
           12,
           2,
           1,
           2,
           3,
           3,
           3,
           5,
           38,
           6,
           1,
           3,
           38,
           38,
           38,
           38,
           5,
           5,
           5,
           1,
           2,
           1,
           8,
           1,
           38,
           38,
           2,
           1,
           1,
           1,
           1,
           2,
           2,
           2,
           1,
           38,
           6,
           1,
           1,
           5,
           38,
           5,
           1,
           38,
           5,
           1,
           5,
           38,
           1,
           1,
           1,
           2,
           1,
           4,
           5,
           4,
           1,
           1,
           2,
           5,
           1,
           38,
           5,
           1,
           1,
           2,
           1,
           4,
           5,
           6,
           1,
           8,
           3,
           38,
           1,
           1,
           5,
           1,
           38,
           38,
           6,
           1,
           8,
           3,
           3,
           1,
           8,
           1,
           1,
           4,
           3,
           38,
           10,
           10,
           4,
           1,
           1,
           2,
           38,
           1,
           1,
           8,
           5,
           2,
           4,
           4,
           2,
           5,
           38,
           2,
           1,
           38,
           6,
           38,
           38,
           3,
           38,
           10,
           1,
           5,
           1,
           6,
           1,
           4,
           8,
           8,
           38,
           2,
           38,
           38,
           4,
           2,
           3,
           1,
           5,
           3,
           7,
           38,
           3,
           38,
           2,
           1,
           1,
           3,
           2,
           1,
           2,
           10,
           2,
           2,
           8,
           1,
           38,
           10,
           2,
           10,
           2,
           6,
           38,
           6,
           10,
           5,
           1,
           3,
           1,
           1,
           3,
           38,
           5,
           4,
           3,
           6,
           38,
           38,
           7,
           4,
           5,
           1,
           1,
           3,
           5,
           1,
           2,
           6,
           1,
           1,
           3,
           1,
           5,
           2,
           38,
           2,
           38,
           1,
           5,
           3,
           2,
           2,
           2,
           38,
           5,
           38,
           2,
           2,
           6,
           8,
           2,
           2,
           10,
           1,
           3,
           7,
           3,
           2,
           7,
           10,
           4,
           2,
           1,
           2,
           4,
           4,
           1,
           3,
           2,
           1,
           5,
           3,
           2,
           1,
           5,
           5,
           1,
           10,
           2,
           1,
           38,
           5,
           5,
           1,
           1,
           38,
           19,
           2,
           3,
           1,
           15,
           15,
           2,
           2,
           4,
           3,
           2,
           3,
           1,
           1,
           19,
           1,
           1,
           1,
           3,
           1,
           3,
           19,
           2,
           1,
           3,
           3,
           19,
           19,
           19,
           1,
           2,
           19,
           1,
           2,
           1,
           1,
           19,
           2,
           19,
           1,
           1,
           3,
           3,
           2,
           1,
           15,
           19,
           15,
           1,
           1,
           4,
           1,
           1,
           15,
           3,
           1,
           19,
           3,
           2,
           2,
           3,
           2,
           1,
           19,
           19,
           1,
           4,
           19,
           1,
           15,
           1,
           2,
           3,
           1,
           15,
           1,
           19,
           3,
           3,
           1,
           1,
           3,
           3,
           1,
           1,
           1,
           2,
           1,
           1,
           15,
           1,
           1,
           1,
           3,
           2,
           1,
           2,
           1,
           1,
           3,
           3,
           1,
           2,
           4,
           1,
           1,
           19,
           2,
           4,
           2,
           2,
           19,
           6,
           19,
           15,
           19,
           1,
           1,
           15,
           15,
           3,
           1,
           2,
           1,
           1,
           1,
           2,
           2,
           2,
           8,
           3,
           1,
           8,
           1,
           1,
           3,
           3,
           2,
           1,
           2,
           1,
           1,
           3,
           5,
           1,
           1,
           1,
           2,
           3,
           4,
           1,
           2,
           2,
           4,
           10,
           4,
           3,
           3,
           3,
           2,
           2,
           2,
           8,
           1,
           4,
           2,
           8,
           3,
           3,
           8,
           8,
           1,
           1,
           1,
           1,
           3,
           2,
           1,
           1,
           1,
           2,
           2,
           11,
           11,
           11,
           11,
           11,
           11,
           11,
           11,
           11,
           11,
           11,
           1,
           1,
           1,
           1,
           1,
           7,
           2,
           2,
           3,
           1,
           2,
           2,
           8,
           8,
           8,
           8,
           8,
           8,
           1,
           2,
           1,
           10,
           10,
           10,
           10,
           10,
           10,
           10,
           10,
           10,
           10,
           1,
           2,
           1,
           2,
           2,
           1,
           6,
           1,
           6,
           6,
           1,
           1,
           6,
           6,
           6,
           1,
           3,
           2,
           4,
           3,
           4,
           6,
           6,
           3,
           5,
           1,
           6,
           6,
           5,
           2,
           1,
           2,
           5,
           4,
           1,
           2,
           4,
           3,
           1,
           5,
           6,
           1,
           4,
           6,
           5,
           1,
           4,
           9,
           4,
           4,
           1,
           2,
           2,
           4,
           9,
           1,
           9,
           1,
           4,
           4,
           1,
           1,
           9,
           2,
           1,
           1,
           2,
           2,
           1,
           1,
           2,
           9,
           2,
           1,
           2,
           4,
           4,
           9,
           2,
           9,
           9,
           1,
           2,
           1,
           2,
           2,
           9,
           1,
           3,
           6,
           4,
           7,
           2,
           3,
           6,
           3,
           4,
           1,
           7,
           7,
           1,
           6,
           6,
           6,
           7,
           7,
           4,
           7,
           7,
           6,
           4,
           3,
           5,
           5,
           2,
           1,
           5,
           5,
           5,
           1,
           2,
           2,
           2,
           3,
           2,
           1,
           1,
           2,
           1,
           7,
           7,
           1,
           2,
           3,
           2,
           2,
           7,
           1,
           3,
           7,
           3,
           7,
           2,
           7,
           1,
           7,
           7,
           7,
           7,
           7,
           7,
           7,
           1,
           2,
           1,
           1,
           1,
           1,
           5,
           5,
           5,
           1,
           5,
           1,
           5,
           1,
           1,
           1,
           11,
           1,
           8,
           1,
           7,
           6,
           7,
           7,
           5,
           1,
           1,
           2,
           8,
           1,
           8,
           6,
           1,
           6,
           1,
           1,
           2,
           1,
           5,
           1,
           2,
           7,
           7,
           6,
           1,
           8,
           6,
           6,
           1,
           1,
           8,
           1,
           2,
           8,
           8,
           8,
           1,
           4,
           1,
           7,
           1,
           7,
           1,
           3,
           3,
           2,
           1,
           3,
           2,
           2,
           1,
           1,
           1,
           1,
           1,
           1,
           1,
           3,
           3,
           1,
           3,
           2,
           1,
           6,
           1,
           6,
           6,
           6,
           6,
           6,
           2,
           1,
           2,
           2,
           2,
           2,
           2,
           2,
           4,
           4,
           1,
           1,
           4,
           3,
           3,
           4,
           4,
           1,
           1,
           3,
           2,
           4,
           1,
           4,
           1,
           2,
           2,
           4,
           8,
           3,
           8,
           11,
           8,
           1,
           3,
           8,
           3,
           11,
           1,
           1,
           1,
           1,
           11,
           8,
           1,
           11,
           11,
           1,
           1,
           1,
           2,
           3,
           3,
           8,
           5,
           11,
           1,
           8,
           1,
           8,
           3,
           11,
           11,
           2,
           1,
           5,
           1,
           11,
           8,
           11,
           11,
           8,
           5,
           5,
           5,
           11,
           8,
           8,
           11,
           1,
           18,
           18,
           18,
           18,
           18,
           3,
           3,
           18,
           18,
           3,
           3,
           3,
           18,
           18,
           18,
           18,
           18,
           1,
           18,
           1,
           1,
           18,
           18,
           18,
           18,
           3,
           18,
           1,
           2,
           2,
           2,
           5,
           4,
           6,
           4,
           2,
           1,
           6,
           1,
           4,
           6,
           2,
           1,
           4,
           4,
           5,
           4,
           4,
           6,
           5,
           6,
           6,
           4,
           2,
           5,
           5,
           5,
           5,
           5,
           1,
           1,
           2,
           2,
           2,
           2,
           2,
           2,
           2,
           1,
           2,
           1,
           3,
           1,
           1,
           1,
           2,
           2,
           2,
           1,
           2,
           2,
           1,
           2,
           13,
           2,
           13,
           13,
           2,
           13,
           13,
           1,
           13,
           13,
           13,
           13,
           13,
           13,
           1,
           13,
           13,
           1,
           1,
           1,
           4,
           2,
           4,
           2,
           4,
           1,
           4,
           1,
           4,
           4,
           4,
           1,
           1,
           1,
           7,
           7,
           1,
           1,
           1,
           3,
           6,
           6,
           2,
           6,
           3,
           2,
           2,
           6,
           6,
           3,
           2,
           1,
           6,
           1,
           1,
           1,
           9,
           9,
           1,
           2,
           2,
           9,
           9,
           2,
           9,
           9,
           9,
           9,
           9,
           1,
           2,
           3,
           5,
           3,
           5,
           5,
           5,
           3,
           1,
           5,
           1,
           5,
           5,
           5,
           1,
           5,
           3,
           6,
           6,
           1,
           5,
           5,
           3,
           3,
           3,
           1,
           1,
           2,
           1,
           2,
           2,
           2,
           2,
           2,
           2,
           2,
           1,
           1,
           1,
           1,
           2,
           2,
           1,
           1,
           2,
           24,
           3,
           3,
           3,
           2,
           2,
           2,
           1,
           1,
           2,
           1,
           11,
           6,
           6,
           6,
           6,
           6,
           4,
           4,
           4,
           4,
           1,
           2,
           2,
           4,
           4,
           4,
           4,
           4,
           4,
           1,
           4,
           3,
           4,
           4,
           1,
           4,
           11,
           2,
           4,
           6,
           11,
           11,
           11,
           11,
           11,
           2,
           24,
           11,
           4,
           2,
           1,
           11,
           11,
           11,
           6,
           4,
           2,
           1,
           6,
           6,
           6,
           6,
           15,
           4,
           4,
           4,
           3,
           3,
           3,
           1,
           1,
           1,
           1,
           1,
           7,
           7,
           9,
           9,
           9,
           9,
           9,
           9,
           9,
           9,
           1,
           5,
           5,
           2,
           2,
           3,
           6,
           4,
           1,
           1,
           22,
           22,
           22,
           22,
           22,
           22,
           22,
           22,
           22,
           22,
           22,
           22,
           22,
           22,
           22,
           22,
           22,
           22,
           22,
           2,
           2,
           1,
           4,
           4,
           1,
           9,
           24,
           9,
           5,
           5,
           5,
           5,
           5,
           1,
           1,
           1,
           1,
           14,
           14,
           14,
           14,
           14,
           14,
           14,
           14,
           14,
           14,
           14,
           14,
           14,
           14,
           11,
           11,
           1,
           1,
           1,
           2,
           2,
           7,
           7,
           7,
           7,
           2,
           3,
           5,
           1,
           5,
           2,
           3,
           2,
           3,
           5,
           1,
           1,
           1,
           1,
           5,
           5,
           1,
           3,
           2,
           1,
           2,
           1,
           1,
           3
          ],
          "sizemode": "area",
          "sizeref": 0.095
         },
         "mode": "markers",
         "name": "",
         "showlegend": false,
         "subplot": "mapbox",
         "type": "scattermapbox"
        }
       ],
       "layout": {
        "height": 700,
        "legend": {
         "itemsizing": "constant",
         "tracegroupgap": 0
        },
        "mapbox": {
         "center": {
          "lat": 39.717621161950156,
          "lon": -94.11142036456808
         },
         "domain": {
          "x": [
           0,
           1
          ],
          "y": [
           0,
           1
          ]
         },
         "style": "open-street-map",
         "zoom": 3
        },
        "margin": {
         "b": 0,
         "l": 0,
         "r": 0,
         "t": 0
        },
        "template": {
         "data": {
          "bar": [
           {
            "error_x": {
             "color": "#2a3f5f"
            },
            "error_y": {
             "color": "#2a3f5f"
            },
            "marker": {
             "line": {
              "color": "#E5ECF6",
              "width": 0.5
             }
            },
            "type": "bar"
           }
          ],
          "barpolar": [
           {
            "marker": {
             "line": {
              "color": "#E5ECF6",
              "width": 0.5
             }
            },
            "type": "barpolar"
           }
          ],
          "carpet": [
           {
            "aaxis": {
             "endlinecolor": "#2a3f5f",
             "gridcolor": "white",
             "linecolor": "white",
             "minorgridcolor": "white",
             "startlinecolor": "#2a3f5f"
            },
            "baxis": {
             "endlinecolor": "#2a3f5f",
             "gridcolor": "white",
             "linecolor": "white",
             "minorgridcolor": "white",
             "startlinecolor": "#2a3f5f"
            },
            "type": "carpet"
           }
          ],
          "choropleth": [
           {
            "colorbar": {
             "outlinewidth": 0,
             "ticks": ""
            },
            "type": "choropleth"
           }
          ],
          "contour": [
           {
            "colorbar": {
             "outlinewidth": 0,
             "ticks": ""
            },
            "colorscale": [
             [
              0,
              "#0d0887"
             ],
             [
              0.1111111111111111,
              "#46039f"
             ],
             [
              0.2222222222222222,
              "#7201a8"
             ],
             [
              0.3333333333333333,
              "#9c179e"
             ],
             [
              0.4444444444444444,
              "#bd3786"
             ],
             [
              0.5555555555555556,
              "#d8576b"
             ],
             [
              0.6666666666666666,
              "#ed7953"
             ],
             [
              0.7777777777777778,
              "#fb9f3a"
             ],
             [
              0.8888888888888888,
              "#fdca26"
             ],
             [
              1,
              "#f0f921"
             ]
            ],
            "type": "contour"
           }
          ],
          "contourcarpet": [
           {
            "colorbar": {
             "outlinewidth": 0,
             "ticks": ""
            },
            "type": "contourcarpet"
           }
          ],
          "heatmap": [
           {
            "colorbar": {
             "outlinewidth": 0,
             "ticks": ""
            },
            "colorscale": [
             [
              0,
              "#0d0887"
             ],
             [
              0.1111111111111111,
              "#46039f"
             ],
             [
              0.2222222222222222,
              "#7201a8"
             ],
             [
              0.3333333333333333,
              "#9c179e"
             ],
             [
              0.4444444444444444,
              "#bd3786"
             ],
             [
              0.5555555555555556,
              "#d8576b"
             ],
             [
              0.6666666666666666,
              "#ed7953"
             ],
             [
              0.7777777777777778,
              "#fb9f3a"
             ],
             [
              0.8888888888888888,
              "#fdca26"
             ],
             [
              1,
              "#f0f921"
             ]
            ],
            "type": "heatmap"
           }
          ],
          "heatmapgl": [
           {
            "colorbar": {
             "outlinewidth": 0,
             "ticks": ""
            },
            "colorscale": [
             [
              0,
              "#0d0887"
             ],
             [
              0.1111111111111111,
              "#46039f"
             ],
             [
              0.2222222222222222,
              "#7201a8"
             ],
             [
              0.3333333333333333,
              "#9c179e"
             ],
             [
              0.4444444444444444,
              "#bd3786"
             ],
             [
              0.5555555555555556,
              "#d8576b"
             ],
             [
              0.6666666666666666,
              "#ed7953"
             ],
             [
              0.7777777777777778,
              "#fb9f3a"
             ],
             [
              0.8888888888888888,
              "#fdca26"
             ],
             [
              1,
              "#f0f921"
             ]
            ],
            "type": "heatmapgl"
           }
          ],
          "histogram": [
           {
            "marker": {
             "colorbar": {
              "outlinewidth": 0,
              "ticks": ""
             }
            },
            "type": "histogram"
           }
          ],
          "histogram2d": [
           {
            "colorbar": {
             "outlinewidth": 0,
             "ticks": ""
            },
            "colorscale": [
             [
              0,
              "#0d0887"
             ],
             [
              0.1111111111111111,
              "#46039f"
             ],
             [
              0.2222222222222222,
              "#7201a8"
             ],
             [
              0.3333333333333333,
              "#9c179e"
             ],
             [
              0.4444444444444444,
              "#bd3786"
             ],
             [
              0.5555555555555556,
              "#d8576b"
             ],
             [
              0.6666666666666666,
              "#ed7953"
             ],
             [
              0.7777777777777778,
              "#fb9f3a"
             ],
             [
              0.8888888888888888,
              "#fdca26"
             ],
             [
              1,
              "#f0f921"
             ]
            ],
            "type": "histogram2d"
           }
          ],
          "histogram2dcontour": [
           {
            "colorbar": {
             "outlinewidth": 0,
             "ticks": ""
            },
            "colorscale": [
             [
              0,
              "#0d0887"
             ],
             [
              0.1111111111111111,
              "#46039f"
             ],
             [
              0.2222222222222222,
              "#7201a8"
             ],
             [
              0.3333333333333333,
              "#9c179e"
             ],
             [
              0.4444444444444444,
              "#bd3786"
             ],
             [
              0.5555555555555556,
              "#d8576b"
             ],
             [
              0.6666666666666666,
              "#ed7953"
             ],
             [
              0.7777777777777778,
              "#fb9f3a"
             ],
             [
              0.8888888888888888,
              "#fdca26"
             ],
             [
              1,
              "#f0f921"
             ]
            ],
            "type": "histogram2dcontour"
           }
          ],
          "mesh3d": [
           {
            "colorbar": {
             "outlinewidth": 0,
             "ticks": ""
            },
            "type": "mesh3d"
           }
          ],
          "parcoords": [
           {
            "line": {
             "colorbar": {
              "outlinewidth": 0,
              "ticks": ""
             }
            },
            "type": "parcoords"
           }
          ],
          "pie": [
           {
            "automargin": true,
            "type": "pie"
           }
          ],
          "scatter": [
           {
            "marker": {
             "colorbar": {
              "outlinewidth": 0,
              "ticks": ""
             }
            },
            "type": "scatter"
           }
          ],
          "scatter3d": [
           {
            "line": {
             "colorbar": {
              "outlinewidth": 0,
              "ticks": ""
             }
            },
            "marker": {
             "colorbar": {
              "outlinewidth": 0,
              "ticks": ""
             }
            },
            "type": "scatter3d"
           }
          ],
          "scattercarpet": [
           {
            "marker": {
             "colorbar": {
              "outlinewidth": 0,
              "ticks": ""
             }
            },
            "type": "scattercarpet"
           }
          ],
          "scattergeo": [
           {
            "marker": {
             "colorbar": {
              "outlinewidth": 0,
              "ticks": ""
             }
            },
            "type": "scattergeo"
           }
          ],
          "scattergl": [
           {
            "marker": {
             "colorbar": {
              "outlinewidth": 0,
              "ticks": ""
             }
            },
            "type": "scattergl"
           }
          ],
          "scattermapbox": [
           {
            "marker": {
             "colorbar": {
              "outlinewidth": 0,
              "ticks": ""
             }
            },
            "type": "scattermapbox"
           }
          ],
          "scatterpolar": [
           {
            "marker": {
             "colorbar": {
              "outlinewidth": 0,
              "ticks": ""
             }
            },
            "type": "scatterpolar"
           }
          ],
          "scatterpolargl": [
           {
            "marker": {
             "colorbar": {
              "outlinewidth": 0,
              "ticks": ""
             }
            },
            "type": "scatterpolargl"
           }
          ],
          "scatterternary": [
           {
            "marker": {
             "colorbar": {
              "outlinewidth": 0,
              "ticks": ""
             }
            },
            "type": "scatterternary"
           }
          ],
          "surface": [
           {
            "colorbar": {
             "outlinewidth": 0,
             "ticks": ""
            },
            "colorscale": [
             [
              0,
              "#0d0887"
             ],
             [
              0.1111111111111111,
              "#46039f"
             ],
             [
              0.2222222222222222,
              "#7201a8"
             ],
             [
              0.3333333333333333,
              "#9c179e"
             ],
             [
              0.4444444444444444,
              "#bd3786"
             ],
             [
              0.5555555555555556,
              "#d8576b"
             ],
             [
              0.6666666666666666,
              "#ed7953"
             ],
             [
              0.7777777777777778,
              "#fb9f3a"
             ],
             [
              0.8888888888888888,
              "#fdca26"
             ],
             [
              1,
              "#f0f921"
             ]
            ],
            "type": "surface"
           }
          ],
          "table": [
           {
            "cells": {
             "fill": {
              "color": "#EBF0F8"
             },
             "line": {
              "color": "white"
             }
            },
            "header": {
             "fill": {
              "color": "#C8D4E3"
             },
             "line": {
              "color": "white"
             }
            },
            "type": "table"
           }
          ]
         },
         "layout": {
          "annotationdefaults": {
           "arrowcolor": "#2a3f5f",
           "arrowhead": 0,
           "arrowwidth": 1
          },
          "autotypenumbers": "strict",
          "coloraxis": {
           "colorbar": {
            "outlinewidth": 0,
            "ticks": ""
           }
          },
          "colorscale": {
           "diverging": [
            [
             0,
             "#8e0152"
            ],
            [
             0.1,
             "#c51b7d"
            ],
            [
             0.2,
             "#de77ae"
            ],
            [
             0.3,
             "#f1b6da"
            ],
            [
             0.4,
             "#fde0ef"
            ],
            [
             0.5,
             "#f7f7f7"
            ],
            [
             0.6,
             "#e6f5d0"
            ],
            [
             0.7,
             "#b8e186"
            ],
            [
             0.8,
             "#7fbc41"
            ],
            [
             0.9,
             "#4d9221"
            ],
            [
             1,
             "#276419"
            ]
           ],
           "sequential": [
            [
             0,
             "#0d0887"
            ],
            [
             0.1111111111111111,
             "#46039f"
            ],
            [
             0.2222222222222222,
             "#7201a8"
            ],
            [
             0.3333333333333333,
             "#9c179e"
            ],
            [
             0.4444444444444444,
             "#bd3786"
            ],
            [
             0.5555555555555556,
             "#d8576b"
            ],
            [
             0.6666666666666666,
             "#ed7953"
            ],
            [
             0.7777777777777778,
             "#fb9f3a"
            ],
            [
             0.8888888888888888,
             "#fdca26"
            ],
            [
             1,
             "#f0f921"
            ]
           ],
           "sequentialminus": [
            [
             0,
             "#0d0887"
            ],
            [
             0.1111111111111111,
             "#46039f"
            ],
            [
             0.2222222222222222,
             "#7201a8"
            ],
            [
             0.3333333333333333,
             "#9c179e"
            ],
            [
             0.4444444444444444,
             "#bd3786"
            ],
            [
             0.5555555555555556,
             "#d8576b"
            ],
            [
             0.6666666666666666,
             "#ed7953"
            ],
            [
             0.7777777777777778,
             "#fb9f3a"
            ],
            [
             0.8888888888888888,
             "#fdca26"
            ],
            [
             1,
             "#f0f921"
            ]
           ]
          },
          "colorway": [
           "#636efa",
           "#EF553B",
           "#00cc96",
           "#ab63fa",
           "#FFA15A",
           "#19d3f3",
           "#FF6692",
           "#B6E880",
           "#FF97FF",
           "#FECB52"
          ],
          "font": {
           "color": "#2a3f5f"
          },
          "geo": {
           "bgcolor": "white",
           "lakecolor": "white",
           "landcolor": "#E5ECF6",
           "showlakes": true,
           "showland": true,
           "subunitcolor": "white"
          },
          "hoverlabel": {
           "align": "left"
          },
          "hovermode": "closest",
          "mapbox": {
           "style": "light"
          },
          "paper_bgcolor": "white",
          "plot_bgcolor": "#E5ECF6",
          "polar": {
           "angularaxis": {
            "gridcolor": "white",
            "linecolor": "white",
            "ticks": ""
           },
           "bgcolor": "#E5ECF6",
           "radialaxis": {
            "gridcolor": "white",
            "linecolor": "white",
            "ticks": ""
           }
          },
          "scene": {
           "xaxis": {
            "backgroundcolor": "#E5ECF6",
            "gridcolor": "white",
            "gridwidth": 2,
            "linecolor": "white",
            "showbackground": true,
            "ticks": "",
            "zerolinecolor": "white"
           },
           "yaxis": {
            "backgroundcolor": "#E5ECF6",
            "gridcolor": "white",
            "gridwidth": 2,
            "linecolor": "white",
            "showbackground": true,
            "ticks": "",
            "zerolinecolor": "white"
           },
           "zaxis": {
            "backgroundcolor": "#E5ECF6",
            "gridcolor": "white",
            "gridwidth": 2,
            "linecolor": "white",
            "showbackground": true,
            "ticks": "",
            "zerolinecolor": "white"
           }
          },
          "shapedefaults": {
           "line": {
            "color": "#2a3f5f"
           }
          },
          "ternary": {
           "aaxis": {
            "gridcolor": "white",
            "linecolor": "white",
            "ticks": ""
           },
           "baxis": {
            "gridcolor": "white",
            "linecolor": "white",
            "ticks": ""
           },
           "bgcolor": "#E5ECF6",
           "caxis": {
            "gridcolor": "white",
            "linecolor": "white",
            "ticks": ""
           }
          },
          "title": {
           "x": 0.05
          },
          "xaxis": {
           "automargin": true,
           "gridcolor": "white",
           "linecolor": "white",
           "ticks": "",
           "title": {
            "standoff": 15
           },
           "zerolinecolor": "white",
           "zerolinewidth": 2
          },
          "yaxis": {
           "automargin": true,
           "gridcolor": "white",
           "linecolor": "white",
           "ticks": "",
           "title": {
            "standoff": 15
           },
           "zerolinecolor": "white",
           "zerolinewidth": 2
          }
         }
        }
       }
      },
      "text/html": [
       "<div>                            <div id=\"d72435de-6696-4364-ad26-c666b78f24a5\" class=\"plotly-graph-div\" style=\"height:700px; width:100%;\"></div>            <script type=\"text/javascript\">                require([\"plotly\"], function(Plotly) {                    window.PLOTLYENV=window.PLOTLYENV || {};                                    if (document.getElementById(\"d72435de-6696-4364-ad26-c666b78f24a5\")) {                    Plotly.newPlot(                        \"d72435de-6696-4364-ad26-c666b78f24a5\",                        [{\"customdata\": [[\"AL\", 8.0], [\"AL\", 1.0], [\"AL\", 10.0], [\"AL\", 1.0], [\"AL\", 8.0], [\"AL\", 2.0], [\"AL\", 10.0], [\"AL\", 4.0], [\"AL\", 8.0], [\"AL\", 10.0], [\"AL\", 1.0], [\"AL\", 3.0], [\"AL\", 4.0], [\"AL\", 2.0], [\"AL\", 1.0], [\"AL\", 1.0], [\"AL\", 10.0], [\"AL\", 8.0], [\"AL\", 1.0], [\"AL\", 8.0], [\"AL\", 10.0], [\"AL\", 4.0], [\"AL\", 10.0], [\"AL\", 2.0], [\"AL\", 4.0], [\"AL\", 1.0], [\"AL\", 24.0], [\"AL\", 1.0], [\"AL\", 15.0], [\"AL\", 2.0], [\"AL\", 3.0], [\"AL\", 2.0], [\"AL\", 2.0], [\"AL\", 15.0], [\"AL\", 10.0], [\"AL\", 4.0], [\"AL\", 2.0], [\"AL\", 2.0], [\"AL\", 1.0], [\"AL\", 10.0], [\"AL\", 2.0], [\"AL\", 8.0], [\"AL\", 8.0], [\"AL\", 2.0], [\"AL\", 10.0], [\"CO\", 1.0], [\"CO\", 6.0], [\"CO\", 3.0], [\"CO\", 6.0], [\"CO\", 6.0], [\"CO\", 6.0], [\"CO\", 5.0], [\"CO\", 6.0], [\"CO\", 6.0], [\"CO\", 3.0], [\"CO\", 1.0], [\"CO\", 12.0], [\"CO\", 3.0], [\"CO\", 6.0], [\"CO\", 2.0], [\"CO\", 12.0], [\"CO\", 12.0], [\"CO\", 1.0], [\"CO\", 1.0], [\"CO\", 1.0], [\"CO\", 1.0], [\"CO\", 12.0], [\"CO\", 5.0], [\"CO\", 6.0], [\"CO\", 12.0], [\"CO\", 6.0], [\"CO\", 12.0], [\"CO\", 6.0], [\"CO\", 3.0], [\"CO\", 12.0], [\"CO\", 3.0], [\"CO\", 1.0], [\"CO\", 3.0], [\"CO\", 5.0], [\"CO\", 12.0], [\"CO\", 5.0], [\"CO\", 1.0], [\"CO\", 1.0], [\"CO\", 1.0], [\"CO\", 6.0], [\"CO\", 12.0], [\"CO\", 2.0], [\"CO\", 1.0], [\"CO\", 1.0], [\"CO\", 5.0], [\"CO\", 1.0], [\"CO\", 1.0], [\"CO\", 6.0], [\"CO\", 6.0], [\"CO\", 12.0], [\"CO\", 6.0], [\"CO\", 2.0], [\"CO\", 1.0], [\"CO\", 2.0], [\"CO\", 12.0], [\"CT\", 1.0], [\"CT\", 2.0], [\"CT\", 3.0], [\"CT\", 3.0], [\"CT\", 2.0], [\"CT\", 1.0], [\"CT\", 2.0], [\"CT\", 1.0], [\"CT\", 1.0], [\"CT\", 1.0], [\"CT\", 4.0], [\"CT\", 1.0], [\"CT\", 2.0], [\"CT\", 1.0], [\"CT\", 3.0], [\"CT\", 1.0], [\"CT\", 1.0], [\"CT\", 4.0], [\"CT\", 2.0], [\"CT\", 1.0], [\"CT\", 1.0], [\"CT\", 1.0], [\"CT\", 2.0], [\"CT\", 3.0], [\"CT\", 2.0], [\"CT\", 1.0], [\"CT\", 7.0], [\"CT\", 2.0], [\"CT\", 11.0], [\"CT\", 2.0], [\"CT\", 4.0], [\"CT\", 1.0], [\"CT\", 2.0], [\"CT\", 4.0], [\"CT\", 4.0], [\"CT\", 1.0], [\"CT\", 4.0], [\"CT\", 2.0], [\"CT\", 2.0], [\"CT\", 3.0], [\"CT\", 3.0], [\"CT\", 1.0], [\"CT\", 2.0], [\"CT\", 1.0], [\"CT\", 4.0], [\"CT\", 1.0], [\"CT\", 1.0], [\"CT\", 1.0], [\"CT\", 4.0], [\"CT\", 1.0], [\"CT\", 7.0], [\"CT\", 1.0], [\"CT\", 1.0], [\"CT\", 1.0], [\"CT\", 3.0], [\"CT\", 11.0], [\"CT\", 3.0], [\"CT\", 1.0], [\"CT\", 2.0], [\"CT\", 24.0], [\"CT\", 3.0], [\"CT\", 1.0], [\"CT\", 2.0], [\"CT\", 2.0], [\"DE\", 1.0], [\"DE\", 5.0], [\"DE\", 3.0], [\"DE\", 7.0], [\"IA\", 6.0], [\"IA\", 2.0], [\"IA\", 1.0], [\"IA\", 4.0], [\"IA\", 4.0], [\"IA\", 1.0], [\"IA\", 2.0], [\"IA\", 2.0], [\"IA\", 3.0], [\"IA\", 24.0], [\"IA\", 2.0], [\"IA\", 3.0], [\"IA\", 3.0], [\"IA\", 5.0], [\"IA\", 5.0], [\"IA\", 1.0], [\"IA\", 1.0], [\"IA\", 1.0], [\"IA\", 2.0], [\"IA\", 1.0], [\"IA\", 1.0], [\"IA\", 3.0], [\"IA\", 3.0], [\"IA\", 4.0], [\"IA\", 7.0], [\"IA\", 6.0], [\"IA\", 1.0], [\"IA\", 6.0], [\"IA\", 4.0], [\"IA\", 1.0], [\"IA\", 1.0], [\"IA\", 4.0], [\"IA\", 1.0], [\"IA\", 2.0], [\"IA\", 6.0], [\"IA\", 1.0], [\"IA\", 2.0], [\"IA\", 1.0], [\"IA\", 1.0], [\"IA\", 2.0], [\"IA\", 4.0], [\"IA\", 6.0], [\"IA\", 3.0], [\"IA\", 2.0], [\"IA\", 3.0], [\"IA\", 1.0], [\"IA\", 1.0], [\"IA\", 7.0], [\"IA\", 1.0], [\"IA\", 1.0], [\"IA\", 1.0], [\"IA\", 2.0], [\"IA\", 7.0], [\"IA\", 3.0], [\"IA\", 4.0], [\"IA\", 1.0], [\"IA\", 1.0], [\"IA\", 1.0], [\"IA\", 2.0], [\"IA\", 1.0], [\"IA\", 3.0], [\"IA\", 1.0], [\"IA\", 7.0], [\"IA\", 1.0], [\"IA\", 6.0], [\"IA\", 1.0], [\"IA\", 3.0], [\"IA\", 2.0], [\"IA\", 1.0], [\"IA\", 2.0], [\"IA\", 1.0], [\"IA\", 1.0], [\"IA\", 1.0], [\"IA\", 5.0], [\"IA\", 21.0], [\"IA\", 1.0], [\"IA\", 2.0], [\"IA\", 1.0], [\"IA\", 1.0], [\"IA\", 2.0], [\"IA\", 5.0], [\"IA\", 1.0], [\"IA\", 4.0], [\"IA\", 3.0], [\"IA\", 2.0], [\"IA\", 3.0], [\"IA\", 3.0], [\"IA\", 1.0], [\"IA\", 1.0], [\"IA\", 2.0], [\"IA\", 1.0], [\"IA\", 1.0], [\"IA\", 7.0], [\"IA\", 7.0], [\"IA\", 7.0], [\"IA\", 1.0], [\"IA\", 1.0], [\"IA\", 2.0], [\"IA\", 2.0], [\"IA\", 1.0], [\"IA\", 4.0], [\"IA\", 3.0], [\"IA\", 1.0], [\"IA\", 2.0], [\"IA\", 1.0], [\"IA\", 1.0], [\"IA\", 1.0], [\"KY\", 1.0], [\"KY\", 6.0], [\"KY\", 9.0], [\"KY\", 9.0], [\"KY\", 6.0], [\"KY\", 9.0], [\"KY\", 9.0], [\"KY\", 9.0], [\"KY\", 2.0], [\"KY\", 9.0], [\"KY\", 1.0], [\"KY\", 5.0], [\"KY\", 2.0], [\"KY\", 9.0], [\"KY\", 9.0], [\"KY\", 1.0], [\"KY\", 9.0], [\"KY\", 9.0], [\"KY\", 9.0], [\"KY\", 1.0], [\"KY\", 3.0], [\"KY\", 9.0], [\"KY\", 2.0], [\"KY\", 9.0], [\"KY\", 2.0], [\"KY\", 3.0], [\"KY\", 1.0], [\"KY\", 9.0], [\"KY\", 7.0], [\"KY\", 1.0], [\"MI\", 1.0], [\"MI\", 2.0], [\"MI\", 3.0], [\"MI\", 1.0], [\"MI\", 2.0], [\"MI\", 1.0], [\"MI\", 24.0], [\"MI\", 2.0], [\"MI\", 2.0], [\"MI\", 2.0], [\"MI\", 3.0], [\"MI\", 1.0], [\"MI\", 2.0], [\"MI\", 2.0], [\"MI\", 1.0], [\"MI\", 5.0], [\"MI\", 1.0], [\"MI\", 5.0], [\"MI\", 1.0], [\"MI\", 8.0], [\"MI\", 4.0], [\"MI\", 1.0], [\"MI\", 8.0], [\"MI\", 1.0], [\"MI\", 1.0], [\"MI\", 1.0], [\"MI\", 5.0], [\"MI\", 2.0], [\"MI\", 3.0], [\"MI\", 2.0], [\"MI\", 1.0], [\"MI\", 1.0], [\"MI\", 2.0], [\"MI\", 2.0], [\"MI\", 1.0], [\"MI\", 24.0], [\"MI\", 2.0], [\"MI\", 2.0], [\"MI\", 1.0], [\"MI\", 11.0], [\"MI\", 1.0], [\"MI\", 5.0], [\"MI\", 1.0], [\"MI\", 1.0], [\"MI\", 1.0], [\"MI\", 5.0], [\"MI\", 24.0], [\"MI\", 1.0], [\"MI\", 2.0], [\"MS\", 1.0], [\"MS\", 24.0], [\"MS\", 1.0], [\"MS\", 2.0], [\"MS\", 4.0], [\"MS\", 2.0], [\"MS\", 2.0], [\"MS\", 24.0], [\"MS\", 1.0], [\"MS\", 8.0], [\"MS\", 24.0], [\"MS\", 2.0], [\"MS\", 2.0], [\"MS\", 1.0], [\"MS\", 2.0], [\"MS\", 4.0], [\"MS\", 4.0], [\"MS\", 1.0], [\"MS\", 1.0], [\"MS\", 4.0], [\"MS\", 4.0], [\"MS\", 2.0], [\"NC\", 1.0], [\"NC\", 1.0], [\"NC\", 1.0], [\"NC\", 1.0], [\"NC\", 2.0], [\"NC\", 2.0], [\"NC\", 1.0], [\"NC\", 2.0], [\"NC\", 1.0], [\"NC\", 2.0], [\"NC\", 2.0], [\"NC\", 2.0], [\"NC\", 2.0], [\"NC\", 1.0], [\"NH\", 5.0], [\"NH\", 1.0], [\"NV\", 1.0], [\"NV\", 1.0], [\"NV\", 4.0], [\"NV\", 4.0], [\"NV\", 4.0], [\"NV\", 4.0], [\"OH\", 1.0], [\"OH\", 1.0], [\"OH\", 11.0], [\"OH\", 4.0], [\"OH\", 22.0], [\"OH\", 1.0], [\"OH\", 2.0], [\"OH\", 1.0], [\"OH\", 6.0], [\"OH\", 1.0], [\"OH\", 22.0], [\"OH\", 3.0], [\"OH\", 3.0], [\"OH\", 3.0], [\"OH\", 3.0], [\"OH\", 1.0], [\"OH\", 22.0], [\"OH\", 11.0], [\"OH\", 1.0], [\"OH\", 1.0], [\"OH\", 24.0], [\"OH\", 7.0], [\"OH\", 22.0], [\"OH\", 1.0], [\"OH\", 5.0], [\"OH\", 2.0], [\"OH\", 22.0], [\"OH\", 1.0], [\"OH\", 1.0], [\"OH\", 15.0], [\"OH\", 1.0], [\"OH\", 22.0], [\"OH\", 11.0], [\"OH\", 1.0], [\"OH\", 1.0], [\"OH\", 7.0], [\"OH\", 22.0], [\"OH\", 1.0], [\"OH\", 22.0], [\"OH\", 2.0], [\"OH\", 22.0], [\"OH\", 24.0], [\"OH\", 22.0], [\"OH\", 5.0], [\"OH\", 1.0], [\"OH\", 1.0], [\"OH\", 1.0], [\"OH\", 4.0], [\"OH\", 22.0], [\"OH\", 3.0], [\"OH\", 11.0], [\"OH\", 1.0], [\"OH\", 1.0], [\"OH\", 4.0], [\"OH\", 1.0], [\"OH\", 24.0], [\"OH\", 22.0], [\"OH\", 6.0], [\"OH\", 2.0], [\"OH\", 9.0], [\"OH\", 2.0], [\"OH\", 11.0], [\"OH\", 1.0], [\"OH\", 1.0], [\"OH\", 6.0], [\"OH\", 4.0], [\"OH\", 11.0], [\"OH\", 24.0], [\"OH\", 1.0], [\"OH\", 22.0], [\"OH\", 22.0], [\"OH\", 4.0], [\"OH\", 6.0], [\"OH\", 7.0], [\"OH\", 1.0], [\"OH\", 11.0], [\"OH\", 4.0], [\"OH\", 5.0], [\"OH\", 22.0], [\"OH\", 24.0], [\"OH\", 11.0], [\"OH\", 7.0], [\"OH\", 22.0], [\"OH\", 22.0], [\"OH\", 1.0], [\"OH\", 4.0], [\"OH\", 1.0], [\"OH\", 4.0], [\"OH\", 2.0], [\"OH\", 1.0], [\"OH\", 1.0], [\"OH\", 6.0], [\"OH\", 22.0], [\"OH\", 11.0], [\"OH\", 4.0], [\"OH\", 1.0], [\"OH\", 7.0], [\"OH\", 1.0], [\"OH\", 22.0], [\"OH\", 7.0], [\"OH\", 2.0], [\"OH\", 22.0], [\"OH\", 2.0], [\"OH\", 22.0], [\"OH\", 11.0], [\"OH\", 11.0], [\"OH\", 9.0], [\"OH\", 3.0], [\"OH\", 1.0], [\"OH\", 1.0], [\"OH\", 7.0], [\"OH\", 22.0], [\"OH\", 6.0], [\"OH\", 4.0], [\"OH\", 31.0], [\"OH\", 3.0], [\"OH\", 1.0], [\"OH\", 31.0], [\"OH\", 2.0], [\"OH\", 31.0], [\"OH\", 7.0], [\"OH\", 2.0], [\"OH\", 2.0], [\"OH\", 31.0], [\"OH\", 7.0], [\"OH\", 1.0], [\"OH\", 1.0], [\"OH\", 31.0], [\"OH\", 1.0], [\"OH\", 3.0], [\"OH\", 2.0], [\"OH\", 7.0], [\"OH\", 31.0], [\"OH\", 1.0], [\"OH\", 2.0], [\"OH\", 2.0], [\"OH\", 31.0], [\"OH\", 31.0], [\"OH\", 11.0], [\"OH\", 31.0], [\"OH\", 2.0], [\"OH\", 1.0], [\"OH\", 31.0], [\"OH\", 4.0], [\"OH\", 1.0], [\"OH\", 31.0], [\"OH\", 31.0], [\"OH\", 2.0], [\"OH\", 4.0], [\"OH\", 3.0], [\"OH\", 4.0], [\"OH\", 4.0], [\"OH\", 2.0], [\"OH\", 31.0], [\"OH\", 31.0], [\"OH\", 31.0], [\"OH\", 9.0], [\"OH\", 31.0], [\"OH\", 2.0], [\"OH\", 1.0], [\"OH\", 11.0], [\"OH\", 31.0], [\"OH\", 31.0], [\"OH\", 2.0], [\"OH\", 31.0], [\"OH\", 7.0], [\"OH\", 31.0], [\"OH\", 1.0], [\"OH\", 31.0], [\"OH\", 4.0], [\"OH\", 11.0], [\"OH\", 31.0], [\"OH\", 4.0], [\"OH\", 3.0], [\"OH\", 2.0], [\"OH\", 2.0], [\"OH\", 31.0], [\"OH\", 31.0], [\"OH\", 31.0], [\"OH\", 31.0], [\"OH\", 7.0], [\"OH\", 31.0], [\"OH\", 1.0], [\"OH\", 7.0], [\"OH\", 2.0], [\"OH\", 31.0], [\"OH\", 31.0], [\"OH\", 31.0], [\"OH\", 1.0], [\"OH\", 2.0], [\"OH\", 1.0], [\"OH\", 31.0], [\"OH\", 31.0], [\"OH\", 31.0], [\"OH\", 2.0], [\"OH\", 1.0], [\"OH\", 5.0], [\"OH\", 2.0], [\"OH\", 31.0], [\"OH\", 1.0], [\"OH\", 3.0], [\"OH\", 1.0], [\"OH\", 2.0], [\"OH\", 5.0], [\"OH\", 31.0], [\"OH\", 5.0], [\"OH\", 2.0], [\"OH\", 1.0], [\"OH\", 3.0], [\"OH\", 1.0], [\"OH\", 31.0], [\"OH\", 31.0], [\"OH\", 2.0], [\"OH\", 31.0], [\"OH\", 2.0], [\"OH\", 1.0], [\"OH\", 31.0], [\"OH\", 2.0], [\"OH\", 31.0], [\"OH\", 1.0], [\"OH\", 3.0], [\"OH\", 31.0], [\"OH\", 31.0], [\"OH\", 31.0], [\"OH\", 31.0], [\"OH\", 2.0], [\"OH\", 3.0], [\"OH\", 31.0], [\"OH\", 1.0], [\"OH\", 3.0], [\"OH\", 3.0], [\"OH\", 1.0], [\"OH\", 3.0], [\"OH\", 31.0], [\"OH\", 31.0], [\"OH\", 31.0], [\"OH\", 31.0], [\"OH\", 22.0], [\"OH\", 3.0], [\"OH\", 5.0], [\"OH\", 31.0], [\"OH\", 31.0], [\"OH\", 31.0], [\"OH\", 31.0], [\"OH\", 31.0], [\"OH\", 31.0], [\"OH\", 3.0], [\"OH\", 5.0], [\"OH\", 2.0], [\"OH\", 2.0], [\"OH\", 5.0], [\"OH\", 31.0], [\"OH\", 2.0], [\"OH\", 31.0], [\"OH\", 1.0], [\"OH\", 6.0], [\"OH\", 1.0], [\"OH\", 6.0], [\"OH\", 6.0], [\"OH\", 1.0], [\"OH\", 4.0], [\"OH\", 1.0], [\"OH\", 1.0], [\"OH\", 5.0], [\"OH\", 8.0], [\"OH\", 2.0], [\"OH\", 2.0], [\"OH\", 2.0], [\"OH\", 1.0], [\"OH\", 1.0], [\"OH\", 2.0], [\"OH\", 1.0], [\"OH\", 7.0], [\"OH\", 2.0], [\"OH\", 2.0], [\"OH\", 2.0], [\"OH\", 1.0], [\"OH\", 7.0], [\"OH\", 1.0], [\"OH\", 2.0], [\"OH\", 1.0], [\"OH\", 1.0], [\"OH\", 7.0], [\"OH\", 1.0], [\"OH\", 7.0], [\"OH\", 2.0], [\"OH\", 1.0], [\"OH\", 2.0], [\"OH\", 1.0], [\"OH\", 1.0], [\"OH\", 7.0], [\"OH\", 1.0], [\"OH\", 1.0], [\"OH\", 5.0], [\"OH\", 1.0], [\"OH\", 10.0], [\"OH\", 7.0], [\"OH\", 1.0], [\"OH\", 1.0], [\"OH\", 2.0], [\"OH\", 1.0], [\"OH\", 2.0], [\"OH\", 2.0], [\"OH\", 1.0], [\"OH\", 1.0], [\"OH\", 2.0], [\"OH\", 1.0], [\"OH\", 5.0], [\"OK\", 2.0], [\"OK\", 10.0], [\"OK\", 9.0], [\"OK\", 9.0], [\"OK\", 2.0], [\"OK\", 9.0], [\"OK\", 1.0], [\"OK\", 10.0], [\"OK\", 1.0], [\"OK\", 9.0], [\"OK\", 10.0], [\"OK\", 9.0], [\"OK\", 2.0], [\"OK\", 10.0], [\"OK\", 10.0], [\"OK\", 9.0], [\"OK\", 2.0], [\"OK\", 2.0], [\"OK\", 10.0], [\"OK\", 9.0], [\"OK\", 1.0], [\"OK\", 10.0], [\"OK\", 10.0], [\"OK\", 9.0], [\"OK\", 10.0], [\"OK\", 1.0], [\"OK\", 9.0], [\"OK\", 10.0], [\"RI\", 2.0], [\"RI\", 1.0], [\"RI\", 7.0], [\"RI\", 4.0], [\"RI\", 4.0], [\"RI\", 1.0], [\"RI\", 1.0], [\"RI\", 3.0], [\"RI\", 2.0], [\"RI\", 3.0], [\"RI\", 4.0], [\"RI\", 2.0], [\"RI\", 5.0], [\"RI\", 2.0], [\"RI\", 11.0], [\"RI\", 3.0], [\"RI\", 1.0], [\"RI\", 4.0], [\"RI\", 1.0], [\"RI\", 7.0], [\"RI\", 1.0], [\"SD\", 1.0], [\"SD\", 2.0], [\"SD\", 2.0], [\"SD\", 4.0], [\"SD\", 1.0], [\"SD\", 7.0], [\"SD\", 9.0], [\"SD\", 3.0], [\"SD\", 7.0], [\"SD\", 1.0], [\"SD\", 2.0], [\"SD\", 9.0], [\"SD\", 7.0], [\"SD\", 9.0], [\"SD\", 7.0], [\"SD\", 1.0], [\"SD\", 1.0], [\"SD\", 9.0], [\"SD\", 7.0], [\"SD\", 9.0], [\"SD\", 2.0], [\"SD\", 1.0], [\"SD\", 9.0], [\"SD\", 1.0], [\"SD\", 7.0], [\"SD\", 9.0], [\"SD\", 3.0], [\"SD\", 9.0], [\"SD\", 2.0], [\"SD\", 3.0], [\"SD\", 1.0], [\"SD\", 2.0], [\"SD\", 9.0], [\"SD\", 7.0], [\"TN\", 12.0], [\"TN\", 12.0], [\"TN\", 12.0], [\"TN\", 12.0], [\"TN\", 12.0], [\"TN\", 12.0], [\"TN\", 12.0], [\"TN\", 12.0], [\"TN\", 12.0], [\"TN\", 12.0], [\"TN\", 12.0], [\"TN\", 12.0], [\"TN\", 1.0], [\"TN\", 3.0], [\"TN\", 3.0], [\"TN\", 3.0], [\"TN\", 3.0], [\"TN\", 3.0], [\"TN\", 21.0], [\"TN\", 21.0], [\"TN\", 21.0], [\"TN\", 21.0], [\"TN\", 21.0], [\"TN\", 21.0], [\"TN\", 21.0], [\"TN\", 21.0], [\"TN\", 21.0], [\"TN\", 21.0], [\"TN\", 21.0], [\"TN\", 21.0], [\"TN\", 21.0], [\"TN\", 21.0], [\"TN\", 21.0], [\"TN\", 21.0], [\"TN\", 21.0], [\"TN\", 21.0], [\"TN\", 21.0], [\"TN\", 21.0], [\"TN\", 7.0], [\"TN\", 7.0], [\"TN\", 7.0], [\"TN\", 7.0], [\"TN\", 7.0], [\"TN\", 7.0], [\"TN\", 7.0], [\"TN\", 3.0], [\"TN\", 3.0], [\"TN\", 3.0], [\"TN\", 28.0], [\"TN\", 28.0], [\"TN\", 28.0], [\"TN\", 28.0], [\"TN\", 28.0], [\"TN\", 28.0], [\"TN\", 28.0], [\"TN\", 28.0], [\"TN\", 28.0], [\"TN\", 28.0], [\"TN\", 28.0], [\"TN\", 28.0], [\"TN\", 28.0], [\"TN\", 28.0], [\"TN\", 28.0], [\"TN\", 28.0], [\"TN\", 28.0], [\"TN\", 28.0], [\"TN\", 28.0], [\"TN\", 28.0], [\"TN\", 28.0], [\"TN\", 28.0], [\"TN\", 28.0], [\"TN\", 28.0], [\"TN\", 28.0], [\"TN\", 28.0], [\"TN\", 28.0], [\"TN\", 7.0], [\"TN\", 7.0], [\"TN\", 3.0], [\"TN\", 2.0], [\"TN\", 7.0], [\"TN\", 3.0], [\"TN\", 3.0], [\"TN\", 1.0], [\"TN\", 2.0], [\"TN\", 7.0], [\"TN\", 7.0], [\"TN\", 1.0], [\"TN\", 1.0], [\"TN\", 7.0], [\"TN\", 2.0], [\"TN\", 1.0], [\"TN\", 2.0], [\"TN\", 1.0], [\"TN\", 12.0], [\"TN\", 12.0], [\"TN\", 1.0], [\"TN\", 1.0], [\"TN\", 2.0], [\"TN\", 1.0], [\"TN\", 1.0], [\"TN\", 1.0], [\"TN\", 2.0], [\"TN\", 8.0], [\"VT\", 1.0], [\"VT\", 1.0], [\"VT\", 2.0], [\"VT\", 1.0], [\"VT\", 1.0], [\"VT\", 1.0], [\"VT\", 2.0], [\"VT\", 1.0], [\"VT\", 1.0], [\"VT\", 1.0], [\"VT\", 3.0], [\"VT\", 1.0], [\"VT\", 1.0], [\"VT\", 1.0], [\"VT\", 1.0], [\"VT\", 1.0], [\"VT\", 5.0], [\"VT\", 1.0], [\"VT\", 2.0], [\"VT\", 1.0], [\"VT\", 1.0], [\"VT\", 1.0], [\"VT\", 3.0], [\"VT\", 2.0], [\"VT\", 1.0], [\"VT\", 1.0], [\"VT\", 5.0], [\"VT\", 1.0], [\"VT\", 9.0], [\"ID\", 11.0], [\"ID\", 6.0], [\"ID\", 11.0], [\"ID\", 6.0], [\"ID\", 1.0], [\"ID\", 11.0], [\"ID\", 3.0], [\"ID\", 11.0], [\"ID\", 6.0], [\"ID\", 2.0], [\"ID\", 1.0], [\"ID\", 4.0], [\"ID\", 3.0], [\"ID\", 11.0], [\"ID\", 2.0], [\"ID\", 11.0], [\"ID\", 3.0], [\"ID\", 2.0], [\"ID\", 1.0], [\"ID\", 1.0], [\"ID\", 1.0], [\"ID\", 11.0], [\"ID\", 1.0], [\"ID\", 3.0], [\"ID\", 1.0], [\"ID\", 3.0], [\"ID\", 2.0], [\"ID\", 2.0], [\"ID\", 3.0], [\"ID\", 4.0], [\"ID\", 11.0], [\"ID\", 3.0], [\"ID\", 3.0], [\"ID\", 6.0], [\"ID\", 2.0], [\"ID\", 3.0], [\"ID\", 3.0], [\"ID\", 3.0], [\"ID\", 3.0], [\"ID\", 3.0], [\"ID\", 2.0], [\"ID\", 3.0], [\"ID\", 4.0], [\"ID\", 2.0], [\"ID\", 11.0], [\"ID\", 1.0], [\"ID\", 1.0], [\"ID\", 4.0], [\"ID\", 1.0], [\"ID\", 2.0], [\"ID\", 3.0], [\"ID\", 6.0], [\"ID\", 11.0], [\"ID\", 2.0], [\"ID\", 1.0], [\"ID\", 11.0], [\"IN\", 1.0], [\"IN\", 6.0], [\"IN\", 31.0], [\"IN\", 8.0], [\"IN\", 1.0], [\"IN\", 2.0], [\"IN\", 10.0], [\"IN\", 3.0], [\"IN\", 10.0], [\"IN\", 1.0], [\"IN\", 2.0], [\"IN\", 2.0], [\"IN\", 2.0], [\"IN\", 10.0], [\"IN\", 1.0], [\"IN\", 1.0], [\"IN\", 2.0], [\"IN\", 2.0], [\"IN\", 1.0], [\"IN\", 1.0], [\"IN\", 1.0], [\"IN\", 1.0], [\"IN\", 10.0], [\"IN\", 2.0], [\"IN\", 6.0], [\"IN\", 3.0], [\"IN\", 1.0], [\"IN\", 1.0], [\"IN\", 10.0], [\"IN\", 1.0], [\"IN\", 31.0], [\"IN\", 1.0], [\"IN\", 10.0], [\"IN\", 6.0], [\"IN\", 6.0], [\"IN\", 6.0], [\"IN\", 1.0], [\"IN\", 1.0], [\"IN\", 10.0], [\"IN\", 2.0], [\"IN\", 2.0], [\"IN\", 22.0], [\"IN\", 3.0], [\"IN\", 2.0], [\"IN\", 6.0], [\"IN\", 2.0], [\"IN\", 28.0], [\"IN\", 10.0], [\"IN\", 2.0], [\"IN\", 2.0], [\"IN\", 2.0], [\"IN\", 3.0], [\"IN\", 2.0], [\"IN\", 6.0], [\"IN\", 10.0], [\"IN\", 1.0], [\"IN\", 1.0], [\"IN\", 6.0], [\"IN\", 1.0], [\"IN\", 1.0], [\"IN\", 6.0], [\"IN\", 10.0], [\"IN\", 3.0], [\"IN\", 3.0], [\"IN\", 3.0], [\"IN\", 3.0], [\"IN\", 1.0], [\"IN\", 31.0], [\"ME\", 5.0], [\"ME\", 24.0], [\"ME\", 23.0], [\"ME\", 2.0], [\"ME\", 1.0], [\"ME\", 23.0], [\"ME\", 1.0], [\"ME\", 24.0], [\"ME\", 5.0], [\"ME\", 1.0], [\"ME\", 1.0], [\"ME\", 1.0], [\"ME\", 1.0], [\"ME\", 23.0], [\"ME\", 2.0], [\"ME\", 2.0], [\"ME\", 1.0], [\"ME\", 1.0], [\"ME\", 23.0], [\"ME\", 3.0], [\"ME\", 4.0], [\"ME\", 2.0], [\"ME\", 1.0], [\"ME\", 1.0], [\"ME\", 3.0], [\"ME\", 23.0], [\"ME\", 1.0], [\"ME\", 23.0], [\"ME\", 1.0], [\"ME\", 3.0], [\"ME\", 23.0], [\"ME\", 1.0], [\"ME\", 23.0], [\"ME\", 1.0], [\"ME\", 4.0], [\"ME\", 2.0], [\"ME\", 1.0], [\"ME\", 1.0], [\"ME\", 3.0], [\"ME\", 3.0], [\"ME\", 23.0], [\"ME\", 5.0], [\"ME\", 1.0], [\"ME\", 1.0], [\"ME\", 5.0], [\"ME\", 1.0], [\"ME\", 1.0], [\"ME\", 23.0], [\"ME\", 1.0], [\"ME\", 3.0], [\"ME\", 3.0], [\"ME\", 2.0], [\"ME\", 1.0], [\"ME\", 3.0], [\"ME\", 1.0], [\"ME\", 1.0], [\"ME\", 3.0], [\"ME\", 24.0], [\"ME\", 23.0], [\"ME\", 8.0], [\"ME\", 1.0], [\"ME\", 1.0], [\"ME\", 3.0], [\"ME\", 2.0], [\"ME\", 3.0], [\"ME\", 24.0], [\"ME\", 2.0], [\"ME\", 2.0], [\"ME\", 4.0], [\"ME\", 1.0], [\"ME\", 1.0], [\"ME\", 1.0], [\"ME\", 1.0], [\"ME\", 1.0], [\"ME\", 1.0], [\"ME\", 1.0], [\"ME\", 3.0], [\"ME\", 1.0], [\"ME\", 1.0], [\"ME\", 23.0], [\"ME\", 1.0], [\"ME\", 23.0], [\"ME\", 1.0], [\"ME\", 1.0], [\"ME\", 5.0], [\"ME\", 24.0], [\"ME\", 23.0], [\"ME\", 8.0], [\"ME\", 3.0], [\"ME\", 1.0], [\"ME\", 1.0], [\"ME\", 1.0], [\"ME\", 1.0], [\"ME\", 2.0], [\"ME\", 1.0], [\"ME\", 1.0], [\"ME\", 23.0], [\"ME\", 2.0], [\"ME\", 2.0], [\"ME\", 2.0], [\"ME\", 1.0], [\"OR\", 12.0], [\"OR\", 10.0], [\"OR\", 1.0], [\"OR\", 1.0], [\"OR\", 1.0], [\"OR\", 1.0], [\"OR\", 3.0], [\"OR\", 23.0], [\"OR\", 3.0], [\"OR\", 1.0], [\"OR\", 23.0], [\"OR\", 6.0], [\"OR\", 10.0], [\"OR\", 10.0], [\"OR\", 1.0], [\"OR\", 3.0], [\"OR\", 1.0], [\"OR\", 10.0], [\"OR\", 10.0], [\"OR\", 1.0], [\"OR\", 3.0], [\"OR\", 3.0], [\"OR\", 4.0], [\"OR\", 23.0], [\"OR\", 10.0], [\"OR\", 23.0], [\"OR\", 1.0], [\"OR\", 3.0], [\"OR\", 1.0], [\"OR\", 10.0], [\"OR\", 10.0], [\"OR\", 23.0], [\"OR\", 1.0], [\"OR\", 1.0], [\"OR\", 3.0], [\"OR\", 9.0], [\"OR\", 23.0], [\"OR\", 1.0], [\"OR\", 7.0], [\"OR\", 10.0], [\"OR\", 1.0], [\"OR\", 23.0], [\"OR\", 10.0], [\"OR\", 23.0], [\"OR\", 1.0], [\"OR\", 3.0], [\"OR\", 1.0], [\"PA\", 7.0], [\"PA\", 7.0], [\"PA\", 7.0], [\"PA\", 7.0], [\"PA\", 5.0], [\"PA\", 7.0], [\"PA\", 1.0], [\"PA\", 7.0], [\"PA\", 1.0], [\"PA\", 1.0], [\"PA\", 2.0], [\"PA\", 1.0], [\"PA\", 2.0], [\"PA\", 2.0], [\"PA\", 1.0], [\"PA\", 3.0], [\"PA\", 7.0], [\"PA\", 1.0], [\"PA\", 1.0], [\"PA\", 1.0], [\"PA\", 24.0], [\"PA\", 6.0], [\"PA\", 1.0], [\"PA\", 6.0], [\"PA\", 6.0], [\"PA\", 6.0], [\"PA\", 6.0], [\"PA\", 6.0], [\"PA\", 2.0], [\"PA\", 1.0], [\"PA\", 2.0], [\"PA\", 1.0], [\"NY\", 1.0], [\"NY\", 1.0], [\"NY\", 1.0], [\"NY\", 2.0], [\"NY\", 4.0], [\"NY\", 10.0], [\"NY\", 1.0], [\"NY\", 1.0], [\"NY\", 2.0], [\"NY\", 2.0], [\"NY\", 1.0], [\"NY\", 7.0], [\"NY\", 1.0], [\"NY\", 10.0], [\"NY\", 1.0], [\"NY\", 10.0], [\"NY\", 1.0], [\"NY\", 2.0], [\"NY\", 1.0], [\"NY\", 1.0], [\"NY\", 11.0], [\"NY\", 1.0], [\"NY\", 11.0], [\"NY\", 2.0], [\"NY\", 1.0], [\"NY\", 10.0], [\"NY\", 3.0], [\"NY\", 10.0], [\"NY\", 11.0], [\"NY\", 1.0], [\"NY\", 2.0], [\"NY\", 7.0], [\"NY\", 1.0], [\"NY\", 1.0], [\"NY\", 1.0], [\"NY\", 1.0], [\"NY\", 11.0], [\"NY\", 3.0], [\"NY\", 2.0], [\"NY\", 1.0], [\"NY\", 10.0], [\"NY\", 4.0], [\"NY\", 2.0], [\"NY\", 1.0], [\"NY\", 4.0], [\"NY\", 1.0], [\"NY\", 1.0], [\"NY\", 1.0], [\"NY\", 10.0], [\"NY\", 2.0], [\"NY\", 2.0], [\"NY\", 10.0], [\"NY\", 4.0], [\"NY\", 11.0], [\"NY\", 1.0], [\"NY\", 3.0], [\"NY\", 1.0], [\"NY\", 1.0], [\"NY\", 2.0], [\"NY\", 4.0], [\"NY\", 2.0], [\"NY\", 11.0], [\"NY\", 2.0], [\"NY\", 4.0], [\"NY\", 1.0], [\"NY\", 2.0], [\"NY\", 1.0], [\"TX\", 8.0], [\"TX\", 5.0], [\"TX\", 15.0], [\"TX\", 15.0], [\"TX\", 15.0], [\"TX\", 8.0], [\"TX\", 2.0], [\"TX\", 1.0], [\"TX\", 1.0], [\"TX\", 1.0], [\"TX\", 2.0], [\"TX\", 15.0], [\"TX\", 6.0], [\"TX\", 8.0], [\"TX\", 1.0], [\"TX\", 1.0], [\"TX\", 6.0], [\"TX\", 1.0], [\"TX\", 6.0], [\"TX\", 2.0], [\"TX\", 8.0], [\"TX\", 1.0], [\"TX\", 5.0], [\"TX\", 15.0], [\"TX\", 6.0], [\"TX\", 3.0], [\"TX\", 1.0], [\"TX\", 8.0], [\"TX\", 15.0], [\"TX\", 15.0], [\"TX\", 2.0], [\"TX\", 15.0], [\"TX\", 8.0], [\"TX\", 6.0], [\"TX\", 5.0], [\"TX\", 2.0], [\"TX\", 15.0], [\"TX\", 1.0], [\"TX\", 3.0], [\"TX\", 15.0], [\"TX\", 1.0], [\"TX\", 3.0], [\"TX\", 1.0], [\"TX\", 1.0], [\"TX\", 15.0], [\"TX\", 6.0], [\"TX\", 3.0], [\"TX\", 5.0], [\"TX\", 1.0], [\"TX\", 1.0], [\"TX\", 15.0], [\"TX\", 8.0], [\"TX\", 1.0], [\"TX\", 5.0], [\"TX\", 2.0], [\"TX\", 1.0], [\"TX\", 2.0], [\"TX\", 3.0], [\"TX\", 22.0], [\"TX\", 15.0], [\"TX\", 2.0], [\"TX\", 1.0], [\"TX\", 8.0], [\"FL\", 7.0], [\"FL\", 1.0], [\"FL\", 3.0], [\"FL\", 1.0], [\"FL\", 2.0], [\"FL\", 12.0], [\"FL\", 9.0], [\"FL\", 6.0], [\"FL\", 3.0], [\"FL\", 2.0], [\"FL\", 12.0], [\"FL\", 9.0], [\"FL\", 2.0], [\"FL\", 2.0], [\"FL\", 1.0], [\"FL\", 2.0], [\"FL\", 3.0], [\"FL\", 1.0], [\"FL\", 1.0], [\"FL\", 1.0], [\"FL\", 1.0], [\"FL\", 2.0], [\"FL\", 9.0], [\"FL\", 3.0], [\"FL\", 12.0], [\"FL\", 1.0], [\"FL\", 7.0], [\"FL\", 3.0], [\"FL\", 8.0], [\"FL\", 1.0], [\"FL\", 3.0], [\"FL\", 7.0], [\"FL\", 3.0], [\"FL\", 1.0], [\"FL\", 2.0], [\"FL\", 1.0], [\"FL\", 2.0], [\"FL\", 12.0], [\"FL\", 1.0], [\"FL\", 2.0], [\"FL\", 4.0], [\"FL\", 1.0], [\"FL\", 2.0], [\"FL\", 12.0], [\"FL\", 1.0], [\"FL\", 1.0], [\"FL\", 1.0], [\"FL\", 7.0], [\"FL\", 3.0], [\"FL\", 7.0], [\"FL\", 8.0], [\"FL\", 2.0], [\"FL\", 7.0], [\"FL\", 1.0], [\"FL\", 2.0], [\"FL\", 1.0], [\"FL\", 1.0], [\"FL\", 6.0], [\"FL\", 1.0], [\"FL\", 1.0], [\"FL\", 1.0], [\"FL\", 3.0], [\"FL\", 1.0], [\"FL\", 7.0], [\"FL\", 7.0], [\"FL\", 2.0], [\"FL\", 7.0], [\"FL\", 3.0], [\"FL\", 11.0], [\"FL\", 1.0], [\"FL\", 2.0], [\"FL\", 3.0], [\"FL\", 2.0], [\"FL\", 1.0], [\"FL\", 9.0], [\"FL\", 2.0], [\"FL\", 1.0], [\"FL\", 2.0], [\"FL\", 9.0], [\"FL\", 1.0], [\"FL\", 4.0], [\"FL\", 3.0], [\"FL\", 1.0], [\"FL\", 3.0], [\"FL\", 1.0], [\"FL\", 7.0], [\"FL\", 12.0], [\"FL\", 3.0], [\"FL\", 3.0], [\"FL\", 1.0], [\"FL\", 1.0], [\"FL\", 1.0], [\"FL\", 1.0], [\"FL\", 1.0], [\"FL\", 7.0], [\"FL\", 3.0], [\"FL\", 1.0], [\"FL\", 3.0], [\"FL\", 1.0], [\"FL\", 2.0], [\"FL\", 8.0], [\"FL\", 3.0], [\"FL\", 1.0], [\"FL\", 8.0], [\"FL\", 1.0], [\"FL\", 1.0], [\"FL\", 1.0], [\"FL\", 2.0], [\"FL\", 1.0], [\"FL\", 1.0], [\"FL\", 1.0], [\"FL\", 3.0], [\"FL\", 7.0], [\"FL\", 1.0], [\"FL\", 3.0], [\"FL\", 1.0], [\"FL\", 2.0], [\"FL\", 1.0], [\"FL\", 1.0], [\"FL\", 8.0], [\"FL\", 3.0], [\"FL\", 3.0], [\"FL\", 9.0], [\"FL\", 8.0], [\"FL\", 1.0], [\"FL\", 2.0], [\"FL\", 1.0], [\"FL\", 3.0], [\"FL\", 1.0], [\"FL\", 9.0], [\"FL\", 8.0], [\"FL\", 12.0], [\"FL\", 12.0], [\"FL\", 7.0], [\"FL\", 12.0], [\"FL\", 12.0], [\"FL\", 4.0], [\"FL\", 1.0], [\"FL\", 1.0], [\"FL\", 1.0], [\"FL\", 1.0], [\"FL\", 1.0], [\"FL\", 3.0], [\"FL\", 6.0], [\"FL\", 12.0], [\"FL\", 2.0], [\"FL\", 7.0], [\"FL\", 9.0], [\"FL\", 3.0], [\"FL\", 3.0], [\"FL\", 9.0], [\"FL\", 2.0], [\"FL\", 4.0], [\"FL\", 1.0], [\"FL\", 12.0], [\"FL\", 3.0], [\"GA\", 1.0], [\"GA\", 1.0], [\"GA\", 4.0], [\"GA\", 2.0], [\"GA\", 1.0], [\"GA\", 4.0], [\"GA\", 1.0], [\"GA\", 6.0], [\"GA\", 2.0], [\"GA\", 1.0], [\"GA\", 11.0], [\"GA\", 2.0], [\"GA\", 1.0], [\"GA\", 1.0], [\"GA\", 2.0], [\"GA\", 2.0], [\"GA\", 4.0], [\"GA\", 2.0], [\"GA\", 6.0], [\"GA\", 1.0], [\"GA\", 2.0], [\"GA\", 11.0], [\"GA\", 11.0], [\"GA\", 4.0], [\"GA\", 10.0], [\"GA\", 11.0], [\"GA\", 1.0], [\"GA\", 2.0], [\"GA\", 11.0], [\"GA\", 2.0], [\"GA\", 11.0], [\"GA\", 4.0], [\"GA\", 2.0], [\"GA\", 3.0], [\"GA\", 11.0], [\"GA\", 4.0], [\"GA\", 3.0], [\"GA\", 11.0], [\"GA\", 4.0], [\"GA\", 4.0], [\"GA\", 1.0], [\"GA\", 4.0], [\"GA\", 6.0], [\"GA\", 11.0], [\"GA\", 6.0], [\"GA\", 31.0], [\"GA\", 4.0], [\"GA\", 11.0], [\"GA\", 4.0], [\"GA\", 1.0], [\"GA\", 1.0], [\"GA\", 11.0], [\"HI\", 1.0], [\"HI\", 1.0], [\"HI\", 1.0], [\"HI\", 1.0], [\"HI\", 1.0], [\"HI\", 1.0], [\"HI\", 1.0], [\"HI\", 1.0], [\"HI\", 3.0], [\"HI\", 1.0], [\"HI\", 1.0], [\"HI\", 1.0], [\"HI\", 3.0], [\"HI\", 3.0], [\"IL\", 5.0], [\"IL\", 1.0], [\"IL\", 3.0], [\"IL\", 1.0], [\"IL\", 13.0], [\"IL\", 1.0], [\"IL\", 1.0], [\"IL\", 3.0], [\"IL\", 13.0], [\"IL\", 4.0], [\"IL\", 20.0], [\"IL\", 3.0], [\"IL\", 2.0], [\"IL\", 3.0], [\"IL\", 2.0], [\"IL\", 1.0], [\"IL\", 1.0], [\"IL\", 1.0], [\"IL\", 20.0], [\"IL\", 1.0], [\"IL\", 1.0], [\"IL\", 1.0], [\"IL\", 1.0], [\"IL\", 2.0], [\"IL\", 1.0], [\"IL\", 1.0], [\"IL\", 1.0], [\"IL\", 1.0], [\"IL\", 1.0], [\"IL\", 20.0], [\"IL\", 9.0], [\"IL\", 1.0], [\"IL\", 2.0], [\"IL\", 2.0], [\"IL\", 20.0], [\"IL\", 1.0], [\"IL\", 3.0], [\"IL\", 3.0], [\"IL\", 13.0], [\"IL\", 3.0], [\"IL\", 20.0], [\"IL\", 1.0], [\"IL\", 20.0], [\"IL\", 1.0], [\"IL\", 2.0], [\"IL\", 1.0], [\"IL\", 1.0], [\"IL\", 1.0], [\"IL\", 1.0], [\"IL\", 3.0], [\"IL\", 1.0], [\"IL\", 1.0], [\"IL\", 1.0], [\"IL\", 1.0], [\"IL\", 1.0], [\"IL\", 13.0], [\"IL\", 1.0], [\"IL\", 1.0], [\"IL\", 1.0], [\"IL\", 1.0], [\"IL\", 5.0], [\"IL\", 1.0], [\"IL\", 2.0], [\"IL\", 1.0], [\"IL\", 2.0], [\"IL\", 3.0], [\"IL\", 1.0], [\"IL\", 1.0], [\"IL\", 3.0], [\"IL\", 1.0], [\"IL\", 1.0], [\"IL\", 1.0], [\"IL\", 1.0], [\"IL\", 1.0], [\"IL\", 4.0], [\"IL\", 2.0], [\"IL\", 13.0], [\"IL\", 2.0], [\"IL\", 1.0], [\"IL\", 20.0], [\"IL\", 2.0], [\"IL\", 1.0], [\"IL\", 20.0], [\"IL\", 2.0], [\"IL\", 20.0], [\"IL\", 5.0], [\"IL\", 2.0], [\"IL\", 1.0], [\"IL\", 2.0], [\"IL\", 1.0], [\"IL\", 1.0], [\"IL\", 2.0], [\"IL\", 1.0], [\"IL\", 2.0], [\"IL\", 2.0], [\"IL\", 1.0], [\"IL\", 1.0], [\"IL\", 20.0], [\"IL\", 2.0], [\"IL\", 1.0], [\"IL\", 1.0], [\"IL\", 2.0], [\"IL\", 2.0], [\"IL\", 1.0], [\"IL\", 1.0], [\"IL\", 1.0], [\"IL\", 1.0], [\"IL\", 1.0], [\"IL\", 2.0], [\"IL\", 13.0], [\"IL\", 1.0], [\"IL\", 1.0], [\"IL\", 13.0], [\"IL\", 13.0], [\"IL\", 20.0], [\"IL\", 1.0], [\"IL\", 1.0], [\"IL\", 1.0], [\"IL\", 1.0], [\"IL\", 13.0], [\"IL\", 2.0], [\"IL\", 2.0], [\"IL\", 1.0], [\"IL\", 4.0], [\"IL\", 1.0], [\"IL\", 1.0], [\"IL\", 13.0], [\"IL\", 1.0], [\"IL\", 1.0], [\"IL\", 20.0], [\"IL\", 1.0], [\"IL\", 2.0], [\"IL\", 1.0], [\"IL\", 20.0], [\"IL\", 1.0], [\"IL\", 20.0], [\"IL\", 1.0], [\"IL\", 2.0], [\"IL\", 1.0], [\"IL\", 3.0], [\"IL\", 1.0], [\"IL\", 20.0], [\"IL\", 20.0], [\"IL\", 13.0], [\"IL\", 1.0], [\"IL\", 2.0], [\"IL\", 1.0], [\"IL\", 1.0], [\"IL\", 1.0], [\"IL\", 1.0], [\"IL\", 1.0], [\"IL\", 5.0], [\"IL\", 1.0], [\"IL\", 1.0], [\"IL\", 3.0], [\"IL\", 1.0], [\"IL\", 13.0], [\"IL\", 20.0], [\"IL\", 1.0], [\"IL\", 2.0], [\"IL\", 1.0], [\"IL\", 1.0], [\"IL\", 2.0], [\"IL\", 1.0], [\"IL\", 1.0], [\"IL\", 2.0], [\"IL\", 4.0], [\"IL\", 1.0], [\"IL\", 3.0], [\"IL\", 1.0], [\"IL\", 3.0], [\"IL\", 1.0], [\"IL\", 1.0], [\"IL\", 3.0], [\"IL\", 2.0], [\"IL\", 5.0], [\"IL\", 2.0], [\"IL\", 1.0], [\"IL\", 2.0], [\"IL\", 1.0], [\"IL\", 1.0], [\"IL\", 1.0], [\"IL\", 1.0], [\"IL\", 20.0], [\"IL\", 2.0], [\"IL\", 20.0], [\"IL\", 2.0], [\"IL\", 1.0], [\"IL\", 2.0], [\"IL\", 20.0], [\"IL\", 1.0], [\"IL\", 1.0], [\"IL\", 13.0], [\"IL\", 2.0], [\"IL\", 2.0], [\"IL\", 1.0], [\"IL\", 2.0], [\"KS\", 1.0], [\"KS\", 6.0], [\"KS\", 8.0], [\"KS\", 5.0], [\"KS\", 1.0], [\"KS\", 6.0], [\"KS\", 5.0], [\"KS\", 1.0], [\"KS\", 1.0], [\"KS\", 1.0], [\"KS\", 1.0], [\"KS\", 8.0], [\"KS\", 2.0], [\"KS\", 1.0], [\"KS\", 1.0], [\"KS\", 3.0], [\"KS\", 6.0], [\"KS\", 6.0], [\"KS\", 1.0], [\"KS\", 6.0], [\"KS\", 1.0], [\"KS\", 5.0], [\"KS\", 8.0], [\"KS\", 5.0], [\"KS\", 2.0], [\"KS\", 3.0], [\"KS\", 2.0], [\"KS\", 6.0], [\"KS\", 8.0], [\"KS\", 2.0], [\"KS\", 2.0], [\"KS\", 2.0], [\"KS\", 2.0], [\"KS\", 5.0], [\"KS\", 8.0], [\"KS\", 1.0], [\"KS\", 1.0], [\"KS\", 3.0], [\"KS\", 1.0], [\"KS\", 1.0], [\"KS\", 8.0], [\"KS\", 1.0], [\"KS\", 1.0], [\"KS\", 3.0], [\"KS\", 2.0], [\"KS\", 8.0], [\"KS\", 1.0], [\"KS\", 3.0], [\"KS\", 1.0], [\"KS\", 1.0], [\"KS\", 8.0], [\"KS\", 6.0], [\"LA\", 2.0], [\"LA\", 16.0], [\"LA\", 1.0], [\"LA\", 16.0], [\"LA\", 1.0], [\"LA\", 1.0], [\"LA\", 2.0], [\"LA\", 16.0], [\"LA\", 16.0], [\"LA\", 1.0], [\"LA\", 16.0], [\"LA\", 1.0], [\"LA\", 4.0], [\"LA\", 1.0], [\"LA\", 2.0], [\"LA\", 16.0], [\"LA\", 2.0], [\"LA\", 6.0], [\"LA\", 16.0], [\"LA\", 1.0], [\"LA\", 16.0], [\"LA\", 16.0], [\"LA\", 2.0], [\"LA\", 1.0], [\"LA\", 1.0], [\"LA\", 16.0], [\"LA\", 16.0], [\"LA\", 16.0], [\"LA\", 3.0], [\"LA\", 2.0], [\"LA\", 16.0], [\"LA\", 16.0], [\"LA\", 3.0], [\"LA\", 1.0], [\"LA\", 3.0], [\"LA\", 6.0], [\"LA\", 16.0], [\"LA\", 1.0], [\"LA\", 16.0], [\"MD\", 1.0], [\"MD\", 2.0], [\"MD\", 2.0], [\"MD\", 2.0], [\"MD\", 2.0], [\"MD\", 10.0], [\"MD\", 2.0], [\"MD\", 1.0], [\"MD\", 2.0], [\"MD\", 1.0], [\"MD\", 12.0], [\"MD\", 1.0], [\"MD\", 2.0], [\"MD\", 1.0], [\"MD\", 10.0], [\"MD\", 13.0], [\"MD\", 1.0], [\"MD\", 1.0], [\"MD\", 2.0], [\"MD\", 2.0], [\"MD\", 13.0], [\"MD\", 1.0], [\"MD\", 1.0], [\"MD\", 1.0], [\"MD\", 3.0], [\"MD\", 1.0], [\"MD\", 13.0], [\"MD\", 13.0], [\"MD\", 2.0], [\"MD\", 1.0], [\"MD\", 1.0], [\"MD\", 1.0], [\"MD\", 1.0], [\"MD\", 2.0], [\"MD\", 2.0], [\"MD\", 1.0], [\"MD\", 10.0], [\"MD\", 1.0], [\"MD\", 1.0], [\"MD\", 2.0], [\"MD\", 3.0], [\"MD\", 13.0], [\"MD\", 1.0], [\"MD\", 2.0], [\"MD\", 1.0], [\"MD\", 2.0], [\"MD\", 1.0], [\"MD\", 12.0], [\"MD\", 10.0], [\"MD\", 2.0], [\"MD\", 1.0], [\"MD\", 2.0], [\"MD\", 3.0], [\"MD\", 10.0], [\"MD\", 1.0], [\"MD\", 1.0], [\"MD\", 2.0], [\"MD\", 2.0], [\"MD\", 2.0], [\"MD\", 10.0], [\"MD\", 3.0], [\"MD\", 10.0], [\"MD\", 13.0], [\"MD\", 1.0], [\"MD\", 3.0], [\"MD\", 13.0], [\"MD\", 10.0], [\"MD\", 13.0], [\"MD\", 1.0], [\"MD\", 13.0], [\"MD\", 1.0], [\"MD\", 2.0], [\"MD\", 1.0], [\"MD\", 3.0], [\"MD\", 2.0], [\"MD\", 1.0], [\"MD\", 12.0], [\"MD\", 3.0], [\"MD\", 10.0], [\"MD\", 1.0], [\"MD\", 1.0], [\"MD\", 2.0], [\"MD\", 12.0], [\"MD\", 1.0], [\"MD\", 2.0], [\"MD\", 1.0], [\"MD\", 1.0], [\"MD\", 1.0], [\"MD\", 10.0], [\"MD\", 2.0], [\"MD\", 13.0], [\"MD\", 1.0], [\"MD\", 1.0], [\"MD\", 1.0], [\"MD\", 13.0], [\"MD\", 2.0], [\"MD\", 2.0], [\"MD\", 2.0], [\"MD\", 13.0], [\"MD\", 13.0], [\"MD\", 1.0], [\"MD\", 3.0], [\"MN\", 1.0], [\"MN\", 23.0], [\"MN\", 23.0], [\"MN\", 2.0], [\"MN\", 15.0], [\"MN\", 2.0], [\"MN\", 1.0], [\"MN\", 1.0], [\"MN\", 1.0], [\"MN\", 9.0], [\"MN\", 1.0], [\"MN\", 1.0], [\"MN\", 1.0], [\"MN\", 9.0], [\"MN\", 23.0], [\"MN\", 3.0], [\"MN\", 1.0], [\"MN\", 6.0], [\"MN\", 1.0], [\"MN\", 1.0], [\"MN\", 9.0], [\"MN\", 6.0], [\"MN\", 1.0], [\"MN\", 2.0], [\"MN\", 23.0], [\"MN\", 1.0], [\"MN\", 6.0], [\"MN\", 1.0], [\"MN\", 9.0], [\"MN\", 6.0], [\"MN\", 23.0], [\"MN\", 9.0], [\"MN\", 23.0], [\"MN\", 23.0], [\"MN\", 1.0], [\"MN\", 23.0], [\"MN\", 23.0], [\"MN\", 6.0], [\"MN\", 9.0], [\"MN\", 11.0], [\"MN\", 2.0], [\"MN\", 1.0], [\"MN\", 23.0], [\"MN\", 23.0], [\"MN\", 1.0], [\"MN\", 11.0], [\"MN\", 15.0], [\"MN\", 1.0], [\"MN\", 1.0], [\"MN\", 10.0], [\"MN\", 6.0], [\"MN\", 1.0], [\"MN\", 2.0], [\"MN\", 23.0], [\"MN\", 23.0], [\"MN\", 23.0], [\"MN\", 1.0], [\"MN\", 11.0], [\"MN\", 6.0], [\"MN\", 2.0], [\"MN\", 2.0], [\"MN\", 2.0], [\"MN\", 1.0], [\"MN\", 1.0], [\"MN\", 11.0], [\"MN\", 3.0], [\"MN\", 1.0], [\"MN\", 23.0], [\"MN\", 2.0], [\"MN\", 23.0], [\"MN\", 3.0], [\"MN\", 2.0], [\"MN\", 1.0], [\"MN\", 3.0], [\"MN\", 9.0], [\"MN\", 23.0], [\"MN\", 1.0], [\"MN\", 1.0], [\"MN\", 23.0], [\"MN\", 1.0], [\"MN\", 2.0], [\"MN\", 23.0], [\"MN\", 1.0], [\"MN\", 1.0], [\"MN\", 3.0], [\"MN\", 1.0], [\"MN\", 9.0], [\"MN\", 23.0], [\"MN\", 1.0], [\"MN\", 1.0], [\"MN\", 1.0], [\"MN\", 2.0], [\"MN\", 1.0], [\"MN\", 1.0], [\"MN\", 1.0], [\"MN\", 23.0], [\"MN\", 1.0], [\"MN\", 1.0], [\"MN\", 23.0], [\"MN\", 23.0], [\"MN\", 1.0], [\"MN\", 9.0], [\"MN\", 1.0], [\"MN\", 1.0], [\"MO\", 19.0], [\"MO\", 3.0], [\"MO\", 9.0], [\"MO\", 19.0], [\"MO\", 19.0], [\"MO\", 19.0], [\"MO\", 1.0], [\"MO\", 19.0], [\"MO\", 10.0], [\"MO\", 10.0], [\"MO\", 10.0], [\"MO\", 12.0], [\"MO\", 12.0], [\"MO\", 19.0], [\"MO\", 1.0], [\"MO\", 10.0], [\"MO\", 10.0], [\"MO\", 19.0], [\"MO\", 1.0], [\"MO\", 10.0], [\"MO\", 19.0], [\"MO\", 3.0], [\"MO\", 1.0], [\"MO\", 12.0], [\"MO\", 1.0], [\"MO\", 9.0], [\"MO\", 3.0], [\"MO\", 10.0], [\"MO\", 19.0], [\"MO\", 19.0], [\"MO\", 10.0], [\"MO\", 1.0], [\"MO\", 2.0], [\"MO\", 12.0], [\"MO\", 9.0], [\"MO\", 1.0], [\"MO\", 1.0], [\"MO\", 2.0], [\"MO\", 3.0], [\"MO\", 19.0], [\"MO\", 19.0], [\"MO\", 9.0], [\"MO\", 1.0], [\"MO\", 2.0], [\"MO\", 19.0], [\"MO\", 3.0], [\"MO\", 1.0], [\"MO\", 2.0], [\"MO\", 12.0], [\"MO\", 19.0], [\"MO\", 19.0], [\"MO\", 2.0], [\"MO\", 2.0], [\"MO\", 9.0], [\"MO\", 19.0], [\"MO\", 10.0], [\"MO\", 1.0], [\"MO\", 10.0], [\"MO\", 3.0], [\"MO\", 19.0], [\"MO\", 3.0], [\"MO\", 19.0], [\"MO\", 19.0], [\"ND\", 2.0], [\"ND\", 4.0], [\"ND\", 4.0], [\"ND\", 4.0], [\"ND\", 4.0], [\"ND\", 2.0], [\"ND\", 2.0], [\"ND\", 3.0], [\"ND\", 3.0], [\"ND\", 1.0], [\"ND\", 1.0], [\"ND\", 2.0], [\"ND\", 2.0], [\"ND\", 2.0], [\"ND\", 3.0], [\"ND\", 1.0], [\"ND\", 3.0], [\"NE\", 11.0], [\"NE\", 11.0], [\"NE\", 10.0], [\"NE\", 11.0], [\"NE\", 1.0], [\"NE\", 2.0], [\"NE\", 2.0], [\"NE\", 1.0], [\"NE\", 10.0], [\"NE\", 1.0], [\"NE\", 1.0], [\"NE\", 11.0], [\"NE\", 11.0], [\"NE\", 9.0], [\"NE\", 11.0], [\"NE\", 7.0], [\"NE\", 10.0], [\"NE\", 3.0], [\"NE\", 1.0], [\"NE\", 31.0], [\"NE\", 11.0], [\"NE\", 1.0], [\"NE\", 10.0], [\"NE\", 10.0], [\"NE\", 1.0], [\"NE\", 1.0], [\"NE\", 3.0], [\"NE\", 1.0], [\"NE\", 1.0], [\"NE\", 3.0], [\"NE\", 1.0], [\"NE\", 1.0], [\"NE\", 3.0], [\"NE\", 2.0], [\"NE\", 1.0], [\"NE\", 1.0], [\"NE\", 1.0], [\"NE\", 1.0], [\"NE\", 10.0], [\"NE\", 10.0], [\"NE\", 3.0], [\"NE\", 1.0], [\"NE\", 2.0], [\"NE\", 10.0], [\"NE\", 10.0], [\"NE\", 11.0], [\"NE\", 11.0], [\"NJ\", 2.0], [\"NJ\", 3.0], [\"NJ\", 2.0], [\"NJ\", 2.0], [\"NJ\", 2.0], [\"NJ\", 6.0], [\"NJ\", 5.0], [\"NJ\", 2.0], [\"NJ\", 2.0], [\"NJ\", 1.0], [\"NJ\", 1.0], [\"NJ\", 1.0], [\"NJ\", 1.0], [\"NJ\", 11.0], [\"NJ\", 2.0], [\"NJ\", 3.0], [\"NJ\", 1.0], [\"NJ\", 1.0], [\"NJ\", 1.0], [\"NJ\", 1.0], [\"NJ\", 1.0], [\"NJ\", 1.0], [\"NJ\", 1.0], [\"NJ\", 1.0], [\"NJ\", 3.0], [\"NJ\", 2.0], [\"NJ\", 1.0], [\"NJ\", 1.0], [\"NJ\", 3.0], [\"NJ\", 1.0], [\"NJ\", 1.0], [\"NJ\", 1.0], [\"NJ\", 7.0], [\"NJ\", 2.0], [\"NJ\", 1.0], [\"NJ\", 3.0], [\"NJ\", 2.0], [\"NJ\", 1.0], [\"NJ\", 1.0], [\"NJ\", 1.0], [\"NJ\", 1.0], [\"NJ\", 1.0], [\"NJ\", 5.0], [\"NJ\", 2.0], [\"NJ\", 1.0], [\"NJ\", 1.0], [\"NJ\", 1.0], [\"NJ\", 1.0], [\"NJ\", 1.0], [\"NJ\", 1.0], [\"NJ\", 1.0], [\"NJ\", 1.0], [\"NJ\", 1.0], [\"NJ\", 2.0], [\"NJ\", 1.0], [\"NJ\", 1.0], [\"NJ\", 2.0], [\"NJ\", 2.0], [\"NJ\", 2.0], [\"NJ\", 3.0], [\"NJ\", 4.0], [\"NJ\", 1.0], [\"NJ\", 1.0], [\"NJ\", 3.0], [\"NJ\", 3.0], [\"NJ\", 1.0], [\"NJ\", 1.0], [\"NJ\", 3.0], [\"NJ\", 1.0], [\"NJ\", 2.0], [\"NJ\", 1.0], [\"NJ\", 1.0], [\"NJ\", 1.0], [\"NJ\", 1.0], [\"NJ\", 2.0], [\"NJ\", 1.0], [\"NJ\", 1.0], [\"NJ\", 7.0], [\"NJ\", 3.0], [\"NJ\", 1.0], [\"NJ\", 5.0], [\"NJ\", 1.0], [\"NJ\", 2.0], [\"NJ\", 3.0], [\"NJ\", 1.0], [\"NJ\", 1.0], [\"NJ\", 1.0], [\"NJ\", 1.0], [\"NJ\", 1.0], [\"NJ\", 1.0], [\"NJ\", 3.0], [\"NJ\", 1.0], [\"NJ\", 1.0], [\"NJ\", 1.0], [\"NJ\", 1.0], [\"NJ\", 3.0], [\"NJ\", 3.0], [\"NJ\", 2.0], [\"NJ\", 2.0], [\"NJ\", 5.0], [\"NJ\", 3.0], [\"NJ\", 3.0], [\"NJ\", 2.0], [\"NJ\", 1.0], [\"NJ\", 1.0], [\"NJ\", 3.0], [\"NJ\", 3.0], [\"NJ\", 1.0], [\"NJ\", 2.0], [\"NJ\", 1.0], [\"NJ\", 1.0], [\"NJ\", 1.0], [\"NJ\", 1.0], [\"NJ\", 2.0], [\"NJ\", 3.0], [\"NJ\", 1.0], [\"NJ\", 1.0], [\"NJ\", 1.0], [\"NJ\", 1.0], [\"NJ\", 1.0], [\"SC\", 2.0], [\"SC\", 1.0], [\"SC\", 12.0], [\"SC\", 2.0], [\"SC\", 1.0], [\"SC\", 2.0], [\"UT\", 3.0], [\"UT\", 3.0], [\"UT\", 3.0], [\"WA\", 5.0], [\"WA\", 38.0], [\"WA\", 6.0], [\"WA\", 1.0], [\"WA\", 3.0], [\"WA\", 38.0], [\"WA\", 38.0], [\"WA\", 38.0], [\"WA\", 38.0], [\"WA\", 5.0], [\"WA\", 5.0], [\"WA\", 5.0], [\"WA\", 1.0], [\"WA\", 2.0], [\"WA\", 1.0], [\"WA\", 8.0], [\"WA\", 1.0], [\"WA\", 38.0], [\"WA\", 38.0], [\"WA\", 2.0], [\"WA\", 1.0], [\"WA\", 1.0], [\"WA\", 1.0], [\"WA\", 1.0], [\"WA\", 2.0], [\"WA\", 2.0], [\"WA\", 2.0], [\"WA\", 1.0], [\"WA\", 38.0], [\"WA\", 6.0], [\"WA\", 1.0], [\"WA\", 1.0], [\"WA\", 5.0], [\"WA\", 38.0], [\"WA\", 5.0], [\"WA\", 1.0], [\"WA\", 38.0], [\"WA\", 5.0], [\"WA\", 1.0], [\"WA\", 5.0], [\"WA\", 38.0], [\"WA\", 1.0], [\"WA\", 1.0], [\"WA\", 1.0], [\"WA\", 2.0], [\"WA\", 1.0], [\"WA\", 4.0], [\"WA\", 5.0], [\"WA\", 4.0], [\"WA\", 1.0], [\"WA\", 1.0], [\"WA\", 2.0], [\"WA\", 5.0], [\"WA\", 1.0], [\"WA\", 38.0], [\"WA\", 5.0], [\"WA\", 1.0], [\"WA\", 1.0], [\"WA\", 2.0], [\"WA\", 1.0], [\"WA\", 4.0], [\"WA\", 5.0], [\"WA\", 6.0], [\"WA\", 1.0], [\"WA\", 8.0], [\"WA\", 3.0], [\"WA\", 38.0], [\"WA\", 1.0], [\"WA\", 1.0], [\"WA\", 5.0], [\"WA\", 1.0], [\"WA\", 38.0], [\"WA\", 38.0], [\"WA\", 6.0], [\"WA\", 1.0], [\"WA\", 8.0], [\"WA\", 3.0], [\"WA\", 3.0], [\"WA\", 1.0], [\"WA\", 8.0], [\"WA\", 1.0], [\"WA\", 1.0], [\"WA\", 4.0], [\"WA\", 3.0], [\"WA\", 38.0], [\"WA\", 10.0], [\"WA\", 10.0], [\"WA\", 4.0], [\"WA\", 1.0], [\"WA\", 1.0], [\"WA\", 2.0], [\"WA\", 38.0], [\"WA\", 1.0], [\"WA\", 1.0], [\"WA\", 8.0], [\"WA\", 5.0], [\"WA\", 2.0], [\"WA\", 4.0], [\"WA\", 4.0], [\"WA\", 2.0], [\"WA\", 5.0], [\"WA\", 38.0], [\"WA\", 2.0], [\"WA\", 1.0], [\"WA\", 38.0], [\"WA\", 6.0], [\"WA\", 38.0], [\"WA\", 38.0], [\"WA\", 3.0], [\"WA\", 38.0], [\"WA\", 10.0], [\"WA\", 1.0], [\"WA\", 5.0], [\"WA\", 1.0], [\"WA\", 6.0], [\"WA\", 1.0], [\"WA\", 4.0], [\"WA\", 8.0], [\"WA\", 8.0], [\"WA\", 38.0], [\"WA\", 2.0], [\"WA\", 38.0], [\"WA\", 38.0], [\"WA\", 4.0], [\"WA\", 2.0], [\"WA\", 3.0], [\"WA\", 1.0], [\"WA\", 5.0], [\"WA\", 3.0], [\"WA\", 7.0], [\"WA\", 38.0], [\"WA\", 3.0], [\"WA\", 38.0], [\"WA\", 2.0], [\"WA\", 1.0], [\"WA\", 1.0], [\"WA\", 3.0], [\"WA\", 2.0], [\"WA\", 1.0], [\"WA\", 2.0], [\"WA\", 10.0], [\"WA\", 2.0], [\"WA\", 2.0], [\"WA\", 8.0], [\"WA\", 1.0], [\"WA\", 38.0], [\"WA\", 10.0], [\"WA\", 2.0], [\"WA\", 10.0], [\"WA\", 2.0], [\"WA\", 6.0], [\"WA\", 38.0], [\"WA\", 6.0], [\"WA\", 10.0], [\"WA\", 5.0], [\"WA\", 1.0], [\"WA\", 3.0], [\"WA\", 1.0], [\"WA\", 1.0], [\"WA\", 3.0], [\"WA\", 38.0], [\"WA\", 5.0], [\"WA\", 4.0], [\"WA\", 3.0], [\"WA\", 6.0], [\"WA\", 38.0], [\"WA\", 38.0], [\"WA\", 7.0], [\"WA\", 4.0], [\"WA\", 5.0], [\"WA\", 1.0], [\"WA\", 1.0], [\"WA\", 3.0], [\"WA\", 5.0], [\"WA\", 1.0], [\"WA\", 2.0], [\"WA\", 6.0], [\"WA\", 1.0], [\"WA\", 1.0], [\"WA\", 3.0], [\"WA\", 1.0], [\"WA\", 5.0], [\"WA\", 2.0], [\"WA\", 38.0], [\"WA\", 2.0], [\"WA\", 38.0], [\"WA\", 1.0], [\"WA\", 5.0], [\"WA\", 3.0], [\"WA\", 2.0], [\"WA\", 2.0], [\"WA\", 2.0], [\"WA\", 38.0], [\"WA\", 5.0], [\"WA\", 38.0], [\"WA\", 2.0], [\"WA\", 2.0], [\"WA\", 6.0], [\"WA\", 8.0], [\"WA\", 2.0], [\"WA\", 2.0], [\"WA\", 10.0], [\"WA\", 1.0], [\"WA\", 3.0], [\"WA\", 7.0], [\"WA\", 3.0], [\"WA\", 2.0], [\"WA\", 7.0], [\"WA\", 10.0], [\"WA\", 4.0], [\"WA\", 2.0], [\"WA\", 1.0], [\"WA\", 2.0], [\"WA\", 4.0], [\"WA\", 4.0], [\"WA\", 1.0], [\"WA\", 3.0], [\"WA\", 2.0], [\"WA\", 1.0], [\"WA\", 5.0], [\"WA\", 3.0], [\"WA\", 2.0], [\"WA\", 1.0], [\"WA\", 5.0], [\"WA\", 5.0], [\"WA\", 1.0], [\"WA\", 10.0], [\"WA\", 2.0], [\"WA\", 1.0], [\"WA\", 38.0], [\"WA\", 5.0], [\"WA\", 5.0], [\"WA\", 1.0], [\"WA\", 1.0], [\"WA\", 38.0], [\"WI\", 19.0], [\"WI\", 2.0], [\"WI\", 3.0], [\"WI\", 1.0], [\"WI\", 15.0], [\"WI\", 15.0], [\"WI\", 2.0], [\"WI\", 2.0], [\"WI\", 4.0], [\"WI\", 3.0], [\"WI\", 2.0], [\"WI\", 3.0], [\"WI\", 1.0], [\"WI\", 1.0], [\"WI\", 19.0], [\"WI\", 1.0], [\"WI\", 1.0], [\"WI\", 1.0], [\"WI\", 3.0], [\"WI\", 1.0], [\"WI\", 3.0], [\"WI\", 19.0], [\"WI\", 2.0], [\"WI\", 1.0], [\"WI\", 3.0], [\"WI\", 3.0], [\"WI\", 19.0], [\"WI\", 19.0], [\"WI\", 19.0], [\"WI\", 1.0], [\"WI\", 2.0], [\"WI\", 19.0], [\"WI\", 1.0], [\"WI\", 2.0], [\"WI\", 1.0], [\"WI\", 1.0], [\"WI\", 19.0], [\"WI\", 2.0], [\"WI\", 19.0], [\"WI\", 1.0], [\"WI\", 1.0], [\"WI\", 3.0], [\"WI\", 3.0], [\"WI\", 2.0], [\"WI\", 1.0], [\"WI\", 15.0], [\"WI\", 19.0], [\"WI\", 15.0], [\"WI\", 1.0], [\"WI\", 1.0], [\"WI\", 4.0], [\"WI\", 1.0], [\"WI\", 1.0], [\"WI\", 15.0], [\"WI\", 3.0], [\"WI\", 1.0], [\"WI\", 19.0], [\"WI\", 3.0], [\"WI\", 2.0], [\"WI\", 2.0], [\"WI\", 3.0], [\"WI\", 2.0], [\"WI\", 1.0], [\"WI\", 19.0], [\"WI\", 19.0], [\"WI\", 1.0], [\"WI\", 4.0], [\"WI\", 19.0], [\"WI\", 1.0], [\"WI\", 15.0], [\"WI\", 1.0], [\"WI\", 2.0], [\"WI\", 3.0], [\"WI\", 1.0], [\"WI\", 15.0], [\"WI\", 1.0], [\"WI\", 19.0], [\"WI\", 3.0], [\"WI\", 3.0], [\"WI\", 1.0], [\"WI\", 1.0], [\"WI\", 3.0], [\"WI\", 3.0], [\"WI\", 1.0], [\"WI\", 1.0], [\"WI\", 1.0], [\"WI\", 2.0], [\"WI\", 1.0], [\"WI\", 1.0], [\"WI\", 15.0], [\"WI\", 1.0], [\"WI\", 1.0], [\"WI\", 1.0], [\"WI\", 3.0], [\"WI\", 2.0], [\"WI\", 1.0], [\"WI\", 2.0], [\"WI\", 1.0], [\"WI\", 1.0], [\"WI\", 3.0], [\"WI\", 3.0], [\"WI\", 1.0], [\"WI\", 2.0], [\"WI\", 4.0], [\"WI\", 1.0], [\"WI\", 1.0], [\"WI\", 19.0], [\"WI\", 2.0], [\"WI\", 4.0], [\"WI\", 2.0], [\"WI\", 2.0], [\"WI\", 19.0], [\"WI\", 6.0], [\"WI\", 19.0], [\"WI\", 15.0], [\"WI\", 19.0], [\"WI\", 1.0], [\"WI\", 1.0], [\"WI\", 15.0], [\"WI\", 15.0], [\"WI\", 3.0], [\"WV\", 1.0], [\"WV\", 2.0], [\"WV\", 1.0], [\"WV\", 1.0], [\"WV\", 1.0], [\"WV\", 2.0], [\"WV\", 2.0], [\"WV\", 2.0], [\"WV\", 8.0], [\"WV\", 3.0], [\"WV\", 1.0], [\"WV\", 8.0], [\"WV\", 1.0], [\"WV\", 1.0], [\"WV\", 3.0], [\"WV\", 3.0], [\"WV\", 2.0], [\"WV\", 1.0], [\"WV\", 2.0], [\"WV\", 1.0], [\"WV\", 1.0], [\"WV\", 3.0], [\"WV\", 5.0], [\"WV\", 1.0], [\"WV\", 1.0], [\"WV\", 1.0], [\"WV\", 2.0], [\"WY\", 3.0], [\"WY\", 4.0], [\"WY\", 1.0], [\"WY\", 2.0], [\"WY\", 2.0], [\"WY\", 4.0], [\"WY\", 10.0], [\"WY\", 4.0], [\"WY\", 3.0], [\"WY\", 3.0], [\"WY\", 3.0], [\"WY\", 2.0], [\"WY\", 2.0], [\"WY\", 2.0], [\"WY\", 8.0], [\"WY\", 1.0], [\"WY\", 4.0], [\"WY\", 2.0], [\"WY\", 8.0], [\"WY\", 3.0], [\"WY\", 3.0], [\"WY\", 8.0], [\"WY\", 8.0], [\"WY\", 1.0], [\"WY\", 1.0], [\"WY\", 1.0], [\"WY\", 1.0], [\"WY\", 3.0], [\"WY\", 2.0], [\"NM\", 1.0], [\"NM\", 1.0], [\"NM\", 1.0], [\"NM\", 2.0], [\"NM\", 2.0], [\"NM\", 11.0], [\"NM\", 11.0], [\"NM\", 11.0], [\"NM\", 11.0], [\"NM\", 11.0], [\"NM\", 11.0], [\"NM\", 11.0], [\"NM\", 11.0], [\"NM\", 11.0], [\"NM\", 11.0], [\"NM\", 11.0], [\"NM\", 1.0], [\"MA\", 1.0], [\"MA\", 1.0], [\"MA\", 1.0], [\"MA\", 1.0], [\"MA\", 7.0], [\"MA\", 2.0], [\"MA\", 2.0], [\"MA\", 3.0], [\"MA\", 1.0], [\"AR\", 2.0], [\"AR\", 2.0], [\"AR\", 8.0], [\"AR\", 8.0], [\"AR\", 8.0], [\"AR\", 8.0], [\"AR\", 8.0], [\"AR\", 8.0], [\"AR\", 1.0], [\"AR\", 2.0], [\"AR\", 1.0], [\"AR\", 10.0], [\"AR\", 10.0], [\"AR\", 10.0], [\"AR\", 10.0], [\"AR\", 10.0], [\"AR\", 10.0], [\"AR\", 10.0], [\"AR\", 10.0], [\"AR\", 10.0], [\"AR\", 10.0], [\"AR\", 1.0], [\"AR\", 2.0], [\"AR\", 1.0], [\"AR\", 2.0], [\"AR\", 2.0], [\"AZ\", 1.0], [\"AZ\", 6.0], [\"AZ\", 1.0], [\"AZ\", 6.0], [\"AZ\", 6.0], [\"AZ\", 1.0], [\"AZ\", 1.0], [\"AZ\", 6.0], [\"AZ\", 6.0], [\"AZ\", 6.0], [\"AZ\", 1.0], [\"AZ\", 3.0], [\"AZ\", 2.0], [\"AZ\", 4.0], [\"AZ\", 3.0], [\"AZ\", 4.0], [\"AZ\", 6.0], [\"AZ\", 6.0], [\"AZ\", 3.0], [\"AZ\", 5.0], [\"AZ\", 1.0], [\"AZ\", 6.0], [\"AZ\", 6.0], [\"AZ\", 5.0], [\"AZ\", 2.0], [\"AZ\", 1.0], [\"AZ\", 2.0], [\"AZ\", 5.0], [\"AZ\", 4.0], [\"AZ\", 1.0], [\"AZ\", 2.0], [\"AZ\", 4.0], [\"AZ\", 3.0], [\"AZ\", 1.0], [\"AZ\", 5.0], [\"AZ\", 6.0], [\"AZ\", 1.0], [\"AZ\", 4.0], [\"AZ\", 6.0], [\"AZ\", 5.0], [\"AK\", 1.0], [\"AK\", 4.0], [\"AK\", 9.0], [\"AK\", 4.0], [\"AK\", 4.0], [\"AK\", 1.0], [\"AK\", 2.0], [\"AK\", 2.0], [\"AK\", 4.0], [\"AK\", 9.0], [\"AK\", 1.0], [\"AK\", 9.0], [\"AK\", 1.0], [\"AK\", 4.0], [\"AK\", 4.0], [\"AK\", 1.0], [\"AK\", 1.0], [\"AK\", 9.0], [\"AK\", 2.0], [\"AK\", 1.0], [\"AK\", 1.0], [\"AK\", 2.0], [\"AK\", 2.0], [\"AK\", 1.0], [\"AK\", 1.0], [\"AK\", 2.0], [\"AK\", 9.0], [\"AK\", 2.0], [\"AK\", 1.0], [\"AK\", 2.0], [\"AK\", 4.0], [\"AK\", 4.0], [\"AK\", 9.0], [\"AK\", 2.0], [\"AK\", 9.0], [\"AK\", 9.0], [\"AK\", 1.0], [\"AK\", 2.0], [\"AK\", 1.0], [\"AK\", 2.0], [\"AK\", 2.0], [\"AK\", 9.0], [\"AK\", 1.0], [\"CA\", 3.0], [\"CA\", 6.0], [\"CA\", 4.0], [\"CA\", 7.0], [\"CA\", 2.0], [\"CA\", 3.0], [\"CA\", 6.0], [\"CA\", 3.0], [\"CA\", 4.0], [\"CA\", 1.0], [\"CA\", 7.0], [\"CA\", 7.0], [\"CA\", 1.0], [\"CA\", 6.0], [\"CA\", 6.0], [\"CA\", 6.0], [\"CA\", 7.0], [\"CA\", 7.0], [\"CA\", 4.0], [\"CA\", 7.0], [\"CA\", 7.0], [\"CA\", 6.0], [\"CA\", 4.0], [\"CA\", 3.0], [\"CA\", 5.0], [\"CA\", 5.0], [\"CA\", 2.0], [\"CA\", 1.0], [\"CA\", 5.0], [\"CA\", 5.0], [\"CA\", 5.0], [\"CA\", 1.0], [\"CA\", 2.0], [\"CA\", 2.0], [\"CA\", 2.0], [\"CA\", 3.0], [\"CA\", 2.0], [\"CA\", 1.0], [\"CA\", 1.0], [\"CA\", 2.0], [\"CA\", 1.0], [\"CA\", 7.0], [\"CA\", 7.0], [\"CA\", 1.0], [\"CA\", 2.0], [\"CA\", 3.0], [\"CA\", 2.0], [\"CA\", 2.0], [\"CA\", 7.0], [\"CA\", 1.0], [\"CA\", 3.0], [\"CA\", 7.0], [\"CA\", 3.0], [\"CA\", 7.0], [\"CA\", 2.0], [\"CA\", 7.0], [\"CA\", 1.0], [\"CA\", 7.0], [\"CA\", 7.0], [\"CA\", 7.0], [\"CA\", 7.0], [\"CA\", 7.0], [\"CA\", 7.0], [\"CA\", 7.0], [\"CA\", 1.0], [\"CA\", 2.0], [\"CA\", 1.0], [\"CA\", 1.0], [\"CA\", 1.0], [\"CA\", 1.0], [\"CA\", 5.0], [\"CA\", 5.0], [\"CA\", 5.0], [\"CA\", 1.0], [\"CA\", 5.0], [\"CA\", 1.0], [\"CA\", 5.0], [\"CA\", 1.0], [\"CA\", 1.0], [\"CA\", 1.0], [\"CA\", 11.0], [\"CA\", 1.0], [\"CA\", 8.0], [\"CA\", 1.0], [\"CA\", 7.0], [\"CA\", 6.0], [\"CA\", 7.0], [\"CA\", 7.0], [\"CA\", 5.0], [\"CA\", 1.0], [\"CA\", 1.0], [\"CA\", 2.0], [\"CA\", 8.0], [\"CA\", 1.0], [\"CA\", 8.0], [\"CA\", 6.0], [\"CA\", 1.0], [\"CA\", 6.0], [\"CA\", 1.0], [\"CA\", 1.0], [\"CA\", 2.0], [\"CA\", 1.0], [\"CA\", 5.0], [\"CA\", 1.0], [\"CA\", 2.0], [\"CA\", 7.0], [\"CA\", 7.0], [\"CA\", 6.0], [\"CA\", 1.0], [\"CA\", 8.0], [\"CA\", 6.0], [\"CA\", 6.0], [\"CA\", 1.0], [\"CA\", 1.0], [\"CA\", 8.0], [\"CA\", 1.0], [\"CA\", 2.0], [\"CA\", 8.0], [\"CA\", 8.0], [\"CA\", 8.0], [\"CA\", 1.0], [\"CA\", 4.0], [\"CA\", 1.0], [\"CA\", 7.0], [\"CA\", 1.0], [\"CA\", 7.0], [\"CA\", 1.0], [\"CA\", 3.0], [\"CA\", 3.0], [\"CA\", 2.0], [\"CA\", 1.0], [\"CA\", 3.0], [\"CA\", 2.0], [\"CA\", 2.0], [\"CA\", 1.0], [\"CA\", 1.0], [\"CA\", 1.0], [\"CA\", 1.0], [\"CA\", 1.0], [\"CA\", 1.0], [\"CA\", 1.0], [\"CA\", 3.0], [\"CA\", 3.0], [\"CA\", 1.0], [\"CA\", 3.0], [\"CA\", 2.0], [\"CA\", 1.0], [\"CA\", 6.0], [\"CA\", 1.0], [\"CA\", 6.0], [\"CA\", 6.0], [\"CA\", 6.0], [\"CA\", 6.0], [\"CA\", 6.0], [\"CA\", 2.0], [\"CA\", 1.0], [\"CA\", 2.0], [\"CA\", 2.0], [\"CA\", 2.0], [\"CA\", 2.0], [\"CA\", 2.0], [\"CA\", 2.0], [\"CA\", 4.0], [\"CA\", 4.0], [\"CA\", 1.0], [\"CA\", 1.0], [\"CA\", 4.0], [\"CA\", 3.0], [\"CA\", 3.0], [\"CA\", 4.0], [\"CA\", 4.0], [\"CA\", 1.0], [\"CA\", 1.0], [\"CA\", 3.0], [\"CA\", 2.0], [\"CA\", 4.0], [\"CA\", 1.0], [\"CA\", 4.0], [\"CA\", 1.0], [\"CA\", 2.0], [\"CA\", 2.0], [\"CA\", 4.0], [\"CA\", 8.0], [\"CA\", 3.0], [\"CA\", 8.0], [\"CA\", 11.0], [\"CA\", 8.0], [\"CA\", 1.0], [\"CA\", 3.0], [\"CA\", 8.0], [\"CA\", 3.0], [\"CA\", 11.0], [\"CA\", 1.0], [\"CA\", 1.0], [\"CA\", 1.0], [\"CA\", 1.0], [\"CA\", 11.0], [\"CA\", 8.0], [\"CA\", 1.0], [\"CA\", 11.0], [\"CA\", 11.0], [\"CA\", 1.0], [\"CA\", 1.0], [\"CA\", 1.0], [\"CA\", 2.0], [\"CA\", 3.0], [\"CA\", 3.0], [\"CA\", 8.0], [\"CA\", 5.0], [\"CA\", 11.0], [\"CA\", 1.0], [\"CA\", 8.0], [\"CA\", 1.0], [\"CA\", 8.0], [\"CA\", 3.0], [\"CA\", 11.0], [\"CA\", 11.0], [\"CA\", 2.0], [\"CA\", 1.0], [\"CA\", 5.0], [\"CA\", 1.0], [\"CA\", 11.0], [\"CA\", 8.0], [\"CA\", 11.0], [\"CA\", 11.0], [\"CA\", 8.0], [\"CA\", 5.0], [\"CA\", 5.0], [\"CA\", 5.0], [\"CA\", 11.0], [\"CA\", 8.0], [\"CA\", 8.0], [\"CA\", 11.0], [\"CA\", 1.0], [\"CA\", 18.0], [\"CA\", 18.0], [\"CA\", 18.0], [\"CA\", 18.0], [\"CA\", 18.0], [\"CA\", 3.0], [\"CA\", 3.0], [\"CA\", 18.0], [\"CA\", 18.0], [\"CA\", 3.0], [\"CA\", 3.0], [\"CA\", 3.0], [\"CA\", 18.0], [\"CA\", 18.0], [\"CA\", 18.0], [\"CA\", 18.0], [\"CA\", 18.0], [\"CA\", 1.0], [\"CA\", 18.0], [\"CA\", 1.0], [\"CA\", 1.0], [\"CA\", 18.0], [\"CA\", 18.0], [\"CA\", 18.0], [\"CA\", 18.0], [\"CA\", 3.0], [\"CA\", 18.0], [\"CA\", 1.0], [\"CA\", 2.0], [\"CA\", 2.0], [\"CA\", 2.0], [\"CA\", 5.0], [\"CA\", 4.0], [\"CA\", 6.0], [\"CA\", 4.0], [\"CA\", 2.0], [\"CA\", 1.0], [\"CA\", 6.0], [\"CA\", 1.0], [\"CA\", 4.0], [\"CA\", 6.0], [\"CA\", 2.0], [\"CA\", 1.0], [\"CA\", 4.0], [\"CA\", 4.0], [\"CA\", 5.0], [\"CA\", 4.0], [\"CA\", 4.0], [\"CA\", 6.0], [\"CA\", 5.0], [\"CA\", 6.0], [\"CA\", 6.0], [\"CA\", 4.0], [\"CA\", 2.0], [\"CA\", 5.0], [\"CA\", 5.0], [\"CA\", 5.0], [\"CA\", 5.0], [\"CA\", 5.0], [\"CA\", 1.0], [\"CA\", 1.0], [\"CA\", 2.0], [\"CA\", 2.0], [\"CA\", 2.0], [\"CA\", 2.0], [\"CA\", 2.0], [\"CA\", 2.0], [\"CA\", 2.0], [\"CA\", 1.0], [\"CA\", 2.0], [\"CA\", 1.0], [\"CA\", 3.0], [\"CA\", 1.0], [\"CA\", 1.0], [\"CA\", 1.0], [\"CA\", 2.0], [\"CA\", 2.0], [\"CA\", 2.0], [\"CA\", 1.0], [\"CA\", 2.0], [\"CA\", 2.0], [\"CA\", 1.0], [\"CA\", 2.0], [\"CA\", 13.0], [\"CA\", 2.0], [\"CA\", 13.0], [\"CA\", 13.0], [\"CA\", 2.0], [\"CA\", 13.0], [\"CA\", 13.0], [\"CA\", 1.0], [\"CA\", 13.0], [\"CA\", 13.0], [\"CA\", 13.0], [\"CA\", 13.0], [\"CA\", 13.0], [\"CA\", 13.0], [\"CA\", 1.0], [\"CA\", 13.0], [\"CA\", 13.0], [\"CA\", 1.0], [\"CA\", 1.0], [\"CA\", 1.0], [\"CA\", 4.0], [\"CA\", 2.0], [\"CA\", 4.0], [\"CA\", 2.0], [\"CA\", 4.0], [\"CA\", 1.0], [\"CA\", 4.0], [\"CA\", 1.0], [\"CA\", 4.0], [\"CA\", 4.0], [\"CA\", 4.0], [\"CA\", 1.0], [\"CA\", 1.0], [\"CA\", 1.0], [\"CA\", 7.0], [\"CA\", 7.0], [\"CA\", 1.0], [\"CA\", 1.0], [\"CA\", 1.0], [\"CA\", 3.0], [\"CA\", 6.0], [\"CA\", 6.0], [\"CA\", 2.0], [\"CA\", 6.0], [\"CA\", 3.0], [\"CA\", 2.0], [\"CA\", 2.0], [\"CA\", 6.0], [\"CA\", 6.0], [\"CA\", 3.0], [\"CA\", 2.0], [\"CA\", 1.0], [\"CA\", 6.0], [\"CA\", 1.0], [\"CA\", 1.0], [\"CA\", 1.0], [\"CA\", 9.0], [\"CA\", 9.0], [\"CA\", 1.0], [\"CA\", 2.0], [\"CA\", 2.0], [\"CA\", 9.0], [\"CA\", 9.0], [\"CA\", 2.0], [\"CA\", 9.0], [\"CA\", 9.0], [\"CA\", 9.0], [\"CA\", 9.0], [\"CA\", 9.0], [\"CA\", 1.0], [\"CA\", 2.0], [\"CA\", 3.0], [\"CA\", 5.0], [\"CA\", 3.0], [\"CA\", 5.0], [\"CA\", 5.0], [\"CA\", 5.0], [\"CA\", 3.0], [\"VA\", 1.0], [\"VA\", 5.0], [\"VA\", 1.0], [\"VA\", 5.0], [\"VA\", 5.0], [\"VA\", 5.0], [\"VA\", 1.0], [\"VA\", 5.0], [\"VA\", 3.0], [\"VA\", 6.0], [\"VA\", 6.0], [\"VA\", 1.0], [\"VA\", 5.0], [\"VA\", 5.0], [\"VA\", 3.0], [\"VA\", 3.0], [\"VA\", 3.0], [\"VA\", 1.0], [\"VA\", 1.0], [\"VA\", 2.0], [\"VA\", 1.0], [\"VA\", 2.0], [\"VA\", 2.0], [\"VA\", 2.0], [\"VA\", 2.0], [\"VA\", 2.0], [\"VA\", 2.0], [\"VA\", 2.0], [\"VA\", 1.0], [\"VA\", 1.0], [\"VA\", 1.0], [\"VA\", 1.0], [\"VA\", 2.0], [\"VA\", 2.0], [\"VA\", 1.0], [\"VA\", 1.0], [\"VA\", 2.0], [\"VA\", 24.0], [\"VA\", 3.0], [\"VA\", 3.0], [\"VA\", 3.0], [\"VA\", 2.0], [\"VA\", 2.0], [\"VA\", 2.0], [\"VA\", 1.0], [\"VA\", 1.0], [\"VA\", 2.0], [\"VA\", 1.0], [\"VA\", 11.0], [\"VA\", 6.0], [\"VA\", 6.0], [\"VA\", 6.0], [\"VA\", 6.0], [\"VA\", 6.0], [\"VA\", 4.0], [\"VA\", 4.0], [\"VA\", 4.0], [\"VA\", 4.0], [\"VA\", 1.0], [\"VA\", 2.0], [\"VA\", 2.0], [\"VA\", 4.0], [\"VA\", 4.0], [\"VA\", 4.0], [\"VA\", 4.0], [\"VA\", 4.0], [\"VA\", 4.0], [\"VA\", 1.0], [\"VA\", 4.0], [\"VA\", 3.0], [\"VA\", 4.0], [\"VA\", 4.0], [\"VA\", 1.0], [\"VA\", 4.0], [\"VA\", 11.0], [\"VA\", 2.0], [\"VA\", 4.0], [\"VA\", 6.0], [\"VA\", 11.0], [\"VA\", 11.0], [\"VA\", 11.0], [\"VA\", 11.0], [\"VA\", 11.0], [\"VA\", 2.0], [\"VA\", 24.0], [\"VA\", 11.0], [\"VA\", 4.0], [\"VA\", 2.0], [\"VA\", 1.0], [\"VA\", 11.0], [\"VA\", 11.0], [\"VA\", 11.0], [\"VA\", 6.0], [\"VA\", 4.0], [\"VA\", 2.0], [\"VA\", 1.0], [\"VA\", 6.0], [\"VA\", 6.0], [\"VA\", 6.0], [\"VA\", 6.0], [\"VA\", 15.0], [\"VA\", 4.0], [\"VA\", 4.0], [\"VA\", 4.0], [\"VA\", 3.0], [\"VA\", 3.0], [\"VA\", 3.0], [\"VA\", 1.0], [\"VA\", 1.0], [\"VA\", 1.0], [\"VA\", 1.0], [\"VA\", 1.0], [\"VA\", 7.0], [\"VA\", 7.0], [\"VA\", 9.0], [\"VA\", 9.0], [\"VA\", 9.0], [\"VA\", 9.0], [\"VA\", 9.0], [\"VA\", 9.0], [\"VA\", 9.0], [\"VA\", 9.0], [\"VA\", 1.0], [\"VA\", 5.0], [\"VA\", 5.0], [\"VA\", 2.0], [\"VA\", 2.0], [\"VA\", 3.0], [\"VA\", 6.0], [\"VA\", 4.0], [\"VA\", 1.0], [\"VA\", 1.0], [\"VA\", 22.0], [\"VA\", 22.0], [\"VA\", 22.0], [\"VA\", 22.0], [\"VA\", 22.0], [\"VA\", 22.0], [\"VA\", 22.0], [\"VA\", 22.0], [\"VA\", 22.0], [\"VA\", 22.0], [\"VA\", 22.0], [\"VA\", 22.0], [\"VA\", 22.0], [\"VA\", 22.0], [\"VA\", 22.0], [\"VA\", 22.0], [\"VA\", 22.0], [\"VA\", 22.0], [\"VA\", 22.0], [\"VA\", 2.0], [\"VA\", 2.0], [\"VA\", 1.0], [\"VA\", 4.0], [\"VA\", 4.0], [\"VA\", 1.0], [\"VA\", 9.0], [\"VA\", 24.0], [\"VA\", 9.0], [\"VA\", 5.0], [\"VA\", 5.0], [\"VA\", 5.0], [\"VA\", 5.0], [\"VA\", 5.0], [\"VA\", 1.0], [\"VA\", 1.0], [\"VA\", 1.0], [\"VA\", 1.0], [\"VA\", 14.0], [\"VA\", 14.0], [\"VA\", 14.0], [\"VA\", 14.0], [\"VA\", 14.0], [\"VA\", 14.0], [\"VA\", 14.0], [\"VA\", 14.0], [\"VA\", 14.0], [\"VA\", 14.0], [\"VA\", 14.0], [\"VA\", 14.0], [\"VA\", 14.0], [\"VA\", 14.0], [\"VA\", 11.0], [\"VA\", 11.0], [\"VA\", 1.0], [\"VA\", 1.0], [\"VA\", 1.0], [\"VA\", 2.0], [\"VA\", 2.0], [\"VA\", 7.0], [\"VA\", 7.0], [\"VA\", 7.0], [\"VA\", 7.0], [\"MT\", 2.0], [\"MT\", 3.0], [\"MT\", 5.0], [\"MT\", 1.0], [\"MT\", 5.0], [\"MT\", 2.0], [\"MT\", 3.0], [\"MT\", 2.0], [\"MT\", 3.0], [\"MT\", 5.0], [\"MT\", 1.0], [\"MT\", 1.0], [\"MT\", 1.0], [\"MT\", 1.0], [\"MT\", 5.0], [\"MT\", 5.0], [\"MT\", 1.0], [\"MT\", 3.0], [\"MT\", 2.0], [\"MT\", 1.0], [\"MT\", 2.0], [\"MT\", 1.0], [\"MT\", 1.0], [\"MT\", 3.0]], \"hovertemplate\": \"<b>%{hovertext}</b><br><br>breweryCounts=%{customdata[1]}<br>lat=%{lat}<br>lon=%{lon}<br>breweryState=%{customdata[0]}<extra></extra>\", \"hovertext\": [\"Birmingham\", \"Gadsden\", \"Huntsville\", \"Gulf Shores\", \"Birmingham\", \"Tuscaloosa\", \"Huntsville\", \"Mobile\", \"Birmingham\", \"Huntsville\", \"Phenix City\", \"Montgomery\", \"Decatur\", \"Tuscaloosa\", \"Fairhope\", \"Dothan\", \"Huntsville\", \"Birmingham\", \"Cullman\", \"Birmingham\", \"Huntsville\", \"Mobile\", \"Huntsville\", \"Alabaster\", \"Mobile\", \"Foley\", \"\", \"Guntersville\", \"Madison\", \"Helena\", \"Montgomery\", \"Opelika\", \"Opelika\", \"Madison\", \"Huntsville\", \"Mobile\", \"Alabaster\", \"Florence\", \"Trussville\", \"Huntsville\", \"Jasper\", \"Birmingham\", \"Birmingham\", \"Jasper\", \"Huntsville\", \"Highlands Ranch\", \"Longmont\", \"Golden\", \"Boulder\", \"Boulder\", \"Boulder\", \"Fort Collins\", \"Longmont\", \"Boulder\", \"Littleton\", \"Colorado Springs\", \"Denver\", \"Golden\", \"Longmont\", \"Greeley\", \"Denver\", \"Denver\", \"Dillon\", \"Aurora\", \"Salida\", \"Parker\", \"Denver\", \"Fort Collins\", \"Lafayette\", \"Denver\", \"Longmont\", \"Denver\", \"Longmont\", \"Littleton\", \"Denver\", \"Littleton\", \"Bailey\", \"Golden\", \"Fort Collins\", \"Denver\", \"Fort Collins\", \"Lyons\", \"Paonia\", \"Divide\", \"Lafayette\", \"Denver\", \"Broomfield\", \"Durango\", \"Fairplay\", \"Fort Collins\", \"Del Norte\", \"Idaho Springs\", \"Boulder\", \"Boulder\", \"Denver\", \"Longmont\", \"Greeley\", \"Cortez\", \"Broomfield\", \"Denver\", \"Old Saybrook\", \"New Britain\", \"Stratford\", \"Bridgeport\", \"Bloomfield\", \"Derby\", \"New Haven\", \"Mystic\", \"Greens Farms\", \"Stonington\", \"Oxford\", \"Danielson\", \"Waterbury\", \"New Hartford\", \"Bridgeport\", \"East Windsor\", \"Danbury\", \"Hartford\", \"Wallingford\", \"Pawcatuck\", \"Ellington\", \"South Windsor\", \"Hamden\", \"Branford\", \"New Haven\", \"East Hampton\", \"Bristol\", \"New Britain\", \"Middletown\", \"Wallingford\", \"Salem\", \"North Canaan\", \"Stamford\", \"Hartford\", \"Hartford\", \"Norwalk\", \"Kent\", \"Southington\", \"Stamford\", \"Milford\", \"Woodbridge\", \"West Hartford\", \"Hamden\", \"Ridgefield\", \"Oxford\", \"East Haven\", \"East Hartford\", \"Enfield\", \"Redding\", \"Plainville\", \"Fairfield\", \"Wolcott\", \"East Haddam\", \"Rocky Hill\", \"Branford\", \"Middletown\", \"Branford\", \"Norwich\", \"Bloomfield\", \"\", \"Stratford\", \"Willimantic\", \"Southington\", \"Woodbury\", \"Milton\", \"Newark\", \"Dover\", \"Newport\", \"Des Moines\", \"Lake Mills\", \"Clive\", \"Dubuque\", \"Bettendorf\", \"Albia\", \"Independence\", \"Ames\", \"Stratford\", \"\", \"Carlisle\", \"Davenport\", \"West Des Moines\", \"Burlington\", \"Mount Vernon\", \"Solon\", \"Winterset\", \"Central City\", \"Boone\", \"Sheldon\", \"Altoona\", \"Sioux City\", \"Carroll\", \"Dubuque\", \"Cedar Rapids\", \"Des Moines\", \"Muscatine\", \"Des Moines\", \"Bettendorf\", \"Elkader\", \"Shenandoah\", \"Dubuque\", \"Sibley\", \"Boone\", \"Des Moines\", \"Earling\", \"Mason City\", \"Huxley\", \"Polk City\", \"Ankeny\", \"Bettendorf\", \"Des Moines\", \"West Des Moines\", \"Manchester\", \"Davenport\", \"Council Bluffs\", \"Newton\", \"Cedar Rapids\", \"Le Claire\", \"Creston\", \"Ely\", \"Indianola\", \"Cedar Rapids\", \"Sioux City\", \"Dubuque\", \"Kalona\", \"Glenwood\", \"Waukee\", \"Carlisle\", \"Clear Lake\", \"Cedar Falls\", \"Osage\", \"Cedar Rapids\", \"Fort Madison\", \"Des Moines\", \"Maquoketa\", \"Sioux City\", \"Mason City\", \"Amana\", \"Ankeny\", \"Oskaloosa\", \"Spirit Lake\", \"Ottumwa\", \"Burlington\", \"Knoxville\", \"Calmar\", \"Decorah\", \"Bondurant\", \"Coralville\", \"Fort Dodge\", \"Bellevue\", \"Rock Rapids\", \"Hampton\", \"Cedar Falls\", \"Fort Dodge\", \"Cedar Falls\", \"Davenport\", \"Charles City\", \"Dyersville\", \"Spencer\", \"McGregor\", \"Belmond\", \"Cedar Rapids\", \"Cedar Rapids\", \"Cedar Rapids\", \"Clarion\", \"Titonka\", \"Decorah\", \"Ames\", \"Humboldt\", \"Bettendorf\", \"West Des Moines\", \"Keokuk\", \"Indianola\", \"West Okoboji\", \"Le Mars\", \"Northwood\", \"Jeffersontown\", \"Winchester\", \"Louisville\", \"Louisville\", \"Alexandria\", \"Louisville\", \"Lexington\", \"Louisville\", \"Covington\", \"Lexington\", \"Benton\", \"Bellevue\", \"Paducah\", \"Lexington\", \"Louisville\", \"Elizabethtown\", \"Lexington\", \"Louisville\", \"Louisville\", \"Murray\", \"Somerset\", \"Lexington\", \"Florence\", \"Louisville\", \"Paducah\", \"Somerset\", \"Robertson County\", \"Lexington\", \"Newport\", \"Glasgow\", \"Alpha\", \"Ann Arbor\", \"Ferndale\", \"Saint Clair Shores\", \"Kalamazoo\", \"Charlevoix\", \"\", \"Brighton\", \"Detroit\", \"Brighton\", \"Ferndale\", \"Constantine\", \"Marshall\", \"Detroit\", \"Vicksburg\", \"Warren\", \"Howell\", \"Grand Rapids\", \"Clare\", \"Jackson\", \"Oxford\", \"Sawyer\", \"Birmingham\", \"Saugatuck\", \"Dexter\", \"Houghton\", \"Warren\", \"Portage\", \"Plymouth\", \"Midland\", \"Lansing\", \"Holland\", \"Traverse City\", \"Kalamazoo\", \"Wayland\", \"\", \"Portage\", \"Traverse City\", \"Reed City\", \"Rochester\", \"Douglas\", \"Grand Rapids\", \"Bellaire\", \"Frankfort\", \"Flint\", \"Grand Rapids\", \"\", \"South Lyon\", \"Ann Arbor\", \"Okolona\", \"\", \"Biloxi\", \"Gulfport\", \"Hattiesburg\", \"Ocean Springs\", \"Ocean Springs\", \"\", \"Kiln\", \"Jackson\", \"\", \"Starkville\", \"Gulfport\", \"Natchez\", \"Laurel\", \"Hattiesburg\", \"Hattiesburg\", \"Meridian\", \"Water Valley\", \"Hattiesburg\", \"Oxford\", \"Starkville\", \"Asheville\", \"Waynesville\", \"High Point\", \"Apex\", \"Greensboro\", \"Gastonia\", \"Carolina Beach\", \"Charlotte\", \"Raleigh\", \"Wilmington\", \"Greensboro\", \"Gastonia\", \"Charlotte\", \"Grandy\", \"Portsmouth\", \"Conway\", \"Sparks\", \"Reno\", \"Las Vegas\", \"Las Vegas\", \"Las Vegas\", \"Las Vegas\", \"New Philadelphia\", \"Mentor\", \"Akron\", \"Avon\", \"Cleveland\", \"Lorain\", \"Austintown\", \"Columbiana\", \"Medina\", \"North Royalton\", \"Cleveland\", \"Cleveland Heights\", \"Cleveland Heights\", \"Cleveland Heights\", \"Amherst\", \"Strongsville\", \"Cleveland\", \"Akron\", \"Copley\", \"Broadview Heights\", \"\", \"Canton\", \"Cleveland\", \"Ashtabula\", \"Warren\", \"North Canton\", \"Cleveland\", \"Berea\", \"Chagrin Falls\", \"Madison\", \"Bloomingdale\", \"Cleveland\", \"Akron\", \"Middleburg Heights\", \"North Olmsted\", \"Canton\", \"Cleveland\", \"Garrettsville\", \"Cleveland\", \"Geneva\", \"Cleveland\", \"\", \"Cleveland\", \"Mount Vernon\", \"Coshocton\", \"Stow\", \"Rayland\", \"Cuyahoga Falls\", \"Cleveland\", \"Dover\", \"Akron\", \"Hudson\", \"Barberton\", \"Lakewood\", \"Wooster\", \"\", \"Cleveland\", \"Medina\", \"Lake Milton\", \"Lexington\", \"Lake Milton\", \"Akron\", \"Bolivar\", \"Bainbridge\", \"Medina\", \"Kent\", \"Akron\", \"\", \"Hartville\", \"Cleveland\", \"Cleveland\", \"Cuyahoga Falls\", \"Medina\", \"Canton\", \"Millersburg\", \"Akron\", \"Cuyahoga Falls\", \"Warren\", \"Cleveland\", \"\", \"Akron\", \"Canton\", \"Cleveland\", \"Cleveland\", \"Youngstown\", \"Kent\", \"Lisbon\", \"Cuyahoga Falls\", \"Austintown\", \"Massillon\", \"Mansfield\", \"Medina\", \"Cleveland\", \"Akron\", \"Avon\", \"Rocky River\", \"Canton\", \"Minerva\", \"Cleveland\", \"Canton\", \"Westlake\", \"Cleveland\", \"North Canton\", \"Cleveland\", \"Akron\", \"Akron\", \"Louisville\", \"Ashland\", \"Elyria\", \"Wadsworth\", \"Fresno\", \"Cleveland\", \"Medina\", \"Avon\", \"Cincinnati\", \"Mason\", \"Huber Heights\", \"Cincinnati\", \"Mount Orab\", \"Cincinnati\", \"Dayton\", \"Wilmington\", \"Arcanum\", \"Cincinnati\", \"Dayton\", \"Maineville\", \"Morrow\", \"Cincinnati\", \"Lockland\", \"Mason\", \"Springboro\", \"Dayton\", \"Cincinnati\", \"Xenia\", \"West Chester\", \"Kettering\", \"Cincinnati\", \"Cincinnati\", \"Middletown\", \"Cincinnati\", \"West Chester\", \"Vandalia\", \"Cincinnati\", \"Centerville\", \"Silverton\", \"Cincinnati\", \"Cincinnati\", \"Fairfax\", \"Company\", \"Milford\", \"Centerville\", \"Centerville\", \"Miamisburg\", \"Cincinnati\", \"Cincinnati\", \"Cincinnati\", \"Springfield\", \"Cincinnati\", \"Hamilton\", \"Loveland\", \"Middletown\", \"Cincinnati\", \"Cincinnati\", \"Kettering\", \"Cincinnati\", \"Williamsburg\", \"Cincinnati\", \"Medway\", \"Cincinnati\", \"Monroe\", \"Middletown\", \"Cincinnati\", \"Centerville\", \"Mason\", \"Mount Orab\", \"Miamisburg\", \"Cincinnati\", \"Cincinnati\", \"Cincinnati\", \"Cincinnati\", \"Dayton\", \"Cincinnati\", \"Beavercreek\", \"Dayton\", \"Springboro\", \"Cincinnati\", \"Cincinnati\", \"Cincinnati\", \"Yellow Springs\", \"Whitehall\", \"Plain City\", \"Columbus\", \"Columbus\", \"Columbus\", \"Canal Winchester\", \"Buckeye Lake\", \"Newark\", \"Whitehall\", \"Columbus\", \"Pickerington\", \"Gahanna\", \"Hilliard\", \"Marysville\", \"Newark\", \"Columbus\", \"Lancaster\", \"Heath\", \"Reynoldsburg\", \"Gahanna\", \"Lithopolis\", \"Columbus\", \"Columbus\", \"Westerville\", \"Columbus\", \"Granville\", \"Grove City\", \"Columbus\", \"Heath\", \"Columbus\", \"Marengo\", \"Powell\", \"Columbus\", \"Columbus\", \"Columbus\", \"Columbus\", \"Canal Winchester\", \"Powell\", \"Columbus\", \"Dublin\", \"Gahanna\", \"Delaware\", \"Lewis Center\", \"Carroll\", \"Columbus\", \"Columbus\", \"Columbus\", \"Columbus\", \"Richmond\", \"Delaware\", \"Lancaster\", \"Cincinnati\", \"Columbus\", \"Columbus\", \"Columbus\", \"Columbus\", \"Columbus\", \"Delaware\", \"Mount Vernon\", \"Westerville\", \"Granville\", \"Newark\", \"Columbus\", \"Worthington\", \"Columbus\", \"Logan\", \"Athens\", \"Chillicothe\", \"Athens\", \"Athens\", \"Pomeroy\", \"Marietta\", \"McConnelsville\", \"Bidwell\", \"Portsmouth\", \"Jackson\", \"Cambridge\", \"Zanesville\", \"Zanesville\", \"Galion\", \"Defiance\", \"Bowling Green\", \"Sandusky\", \"Toledo\", \"Bowling Green\", \"Arcanum\", \"Port Clinton\", \"Montpelier\", \"Toledo\", \"Versailles\", \"Bryan\", \"Findlay\", \"Napoleon\", \"Toledo\", \"New Bremen\", \"Toledo\", \"Sylvania\", \"Kelley\", \"Tiffin\", \"Celina\", \"Marion\", \"Toledo\", \"Maria Stein\", \"Troy\", \"Grand Rapids\", \"Wauseon\", \"Huntsville\", \"Toledo\", \"in\", \"Bellefontaine\", \"Rockford\", \"Coldwater\", \"Tiffin\", \"Port Clinton\", \"Hicksville\", \"Fostoria\", \"Sylvania\", \"Nevada\", \"Grand Rapids\", \"Norman\", \"Tulsa\", \"Oklahoma City\", \"Oklahoma City\", \"Edmond\", \"Oklahoma City\", \"Broken Arrow\", \"Tulsa\", \"Krebs\", \"Oklahoma City\", \"Tulsa\", \"Oklahoma City\", \"Edmond\", \"Tulsa\", \"Tulsa\", \"Oklahoma City\", \"Stillwater\", \"Norman\", \"Tulsa\", \"Oklahoma City\", \"Era\", \"Tulsa\", \"Tulsa\", \"Oklahoma City\", \"Tulsa\", \"Midwest City\", \"Oklahoma City\", \"Tulsa\", \"Warwick\", \"Cranston\", \"Newport\", \"Pawtucket\", \"Pawtucket\", \"Westerly\", \"East Greenwich\", \"Providence\", \"Woonsocket\", \"Providence\", \"Pawtucket\", \"Warwick\", \"Portsmouth\", \"Woonsocket\", \"Middletown\", \"Providence\", \"West Kingston\", \"Pawtucket\", \"Exeter\", \"Bristol\", \"Wakefield\", \"Armour\", \"Yankton\", \"Yankton\", \"Hartford\", \"Wagner\", \"Rapid City\", \"Sioux Falls\", \"Spearfish\", \"Rapid City\", \"Lead\", \"Brookings\", \"Sioux Falls\", \"Rapid City\", \"Sioux Falls\", \"Rapid City\", \"Valley Springs\", \"Sturgis\", \"Sioux Falls\", \"Rapid City\", \"Sioux Falls\", \"Hill City\", \"Custer\", \"Sioux Falls\", \"Aberdeen\", \"Rapid City\", \"Sioux Falls\", \"Spearfish\", \"Sioux Falls\", \"Hill City\", \"Spearfish\", \"Watertown\", \"Brookings\", \"Sioux Falls\", \"Rapid City\", \"Chattanooga\", \"Chattanooga\", \"Chattanooga\", \"Chattanooga\", \"Chattanooga\", \"Chattanooga\", \"Chattanooga\", \"Chattanooga\", \"Chattanooga\", \"Chattanooga\", \"Chattanooga\", \"Chattanooga\", \"Clarksville\", \"Cookeville\", \"Cookeville\", \"Cookeville\", \"Franklin\", \"Franklin\", \"Knoxville\", \"Knoxville\", \"Knoxville\", \"Knoxville\", \"Knoxville\", \"Knoxville\", \"Knoxville\", \"Knoxville\", \"Knoxville\", \"Knoxville\", \"Knoxville\", \"Knoxville\", \"Knoxville\", \"Knoxville\", \"Knoxville\", \"Knoxville\", \"Knoxville\", \"Knoxville\", \"Knoxville\", \"Knoxville\", \"Memphis\", \"Memphis\", \"Memphis\", \"Memphis\", \"Memphis\", \"Memphis\", \"Memphis\", \"Murfreesboro\", \"Murfreesboro\", \"Murfreesboro\", \"Nashville\", \"Nashville\", \"Nashville\", \"Nashville\", \"Nashville\", \"Nashville\", \"Nashville\", \"Nashville\", \"Nashville\", \"Nashville\", \"Nashville\", \"Nashville\", \"Nashville\", \"Nashville\", \"Nashville\", \"Nashville\", \"Nashville\", \"Nashville\", \"Nashville\", \"Nashville\", \"Nashville\", \"Nashville\", \"Nashville\", \"Nashville\", \"Nashville\", \"Nashville\", \"Nashville\", \"Bristol\", \"Bristol\", \"Johnson City\", \"Kingsport\", \"Bristol\", \"Johnson City\", \"Johnson City\", \"Johnson CIty\", \"Kingsport\", \"Bristol\", \"Bristol\", \"Norris\", \"Jonesborough\", \"Dayton\", \"Maryville\", \"Gatlinburg\", \"Maryville\", \"Sevierville\", \"Columbia\", \"Columbia\", \"Cottontown\", \"Hendersonville\", \"Sparta\", \"Nolensville\", \"Tullahoma\", \"Cordova\", \"Paris\", \"Jackson\", \"St. Albans\", \"Essex\", \"Waterbury\", \"Weston\", \"Marlboro\", \"Braintree Hill\", \"Jeffersonville\", \"Tunbridge\", \"Waitsfield\", \"Lyndonville\", \"Middlebury\", \"Shelburne\", \"Brandon\", \"Cabot\", \"Greensboro Bend\", \"Newport Center\", \"Warren\", \"Bridgewater Corners\", \"Morrisville\", \"South Burlington\", \"Brattleboro\", \"Bennington\", \"Middlebury\", \"Morrisville\", \"Rutland\", \"White River Junction\", \"Burlington\", \"Stowe\", \"Springfield\", \"Boise\", \"Garden City\", \"Boise\", \"Garden City\", \"Salmon\", \"Boise\", \"McCall\", \"Boise\", \"Garden City\", \"Nampa\", \"Eagle\", \"Coeur d\", \"Post Falls\", \"Boise\", \"Victor\", \"Boise\", \"Moscow\", \"Idaho Falls\", \"Bonners Ferry\", \"Ponderay\", \"Hayden\", \"Boise\", \"Buhl\", \"McCall\", \"Sandpoint\", \"Moscow\", \"Nampa\", \"Wallace\", \"Pocatello\", \"Coeur d\", \"Boise\", \"Pocatello\", \"Post Falls\", \"Garden City\", \"Washington\", \"Moscow\", \"Ketchum\", \"McCall\", \"Ketchum\", \"Post Falls\", \"Elk River\", \"Pocatello\", \"Coeur d\", \"Idaho Falls\", \"Boise\", \"Hailey\", \"Ferdinand\", \"Coeur d\", \"Twin Falls\", \"Wallace\", \"Ketchum\", \"Garden City\", \"Boise\", \"Victor\", \"Cottonwood\", \"Boise\", \"Gary\", \"Fort Wayne\", \"Columbus\", \"Auburn\", \"Granger\", \"Noblesville\", \"Indianapolis\", \"Bloomington\", \"Indianapolis\", \"Whiting\", \"Michigan City\", \"Hammond\", \"Evansville\", \"Indianapolis\", \"Angola\", \"Chesterton\", \"Spencer\", \"South Bend\", \"Crown Point\", \"Speedway\", \"Merrillville\", \"Mishawaka\", \"Indianapolis\", \"Carmel\", \"Fort Wayne\", \"Bloomington\", \"Goshen\", \"Muncie\", \"Indianapolis\", \"Wawaka\", \"Columbus\", \"Elkhart\", \"Indianapolis\", \"Fort Wayne\", \"Lafayette\", \"Fort Wayne\", \"St. John\", \"Greenwood\", \"Indianapolis\", \"Evansville\", \"New Albany\", \"Richmond\", \"Griffith\", \"New Albany\", \"Lafayette\", \"Noblesville\", \"Nashville\", \"Indianapolis\", \"Jeffersonville\", \"Bedford\", \"South Bend\", \"Franklin\", \"Michigan City\", \"Fort Wayne\", \"Indianapolis\", \"Bargersville\", \"Terre Haute\", \"Lafayette\", \"Munster\", \"Kokomo\", \"Fort Wayne\", \"Indianapolis\", \"Bloomington\", \"Griffith\", \"Middlebury\", \"Griffith\", \"Dyer\", \"Columbus\", \"Bangor\", \"\", \"Portland\", \"Bar Harbor\", \"Wilton\", \"Portland\", \"Carrabassett Valley\", \"\", \"Bangor\", \"Saco\", \"Gardiner\", \"Bath\", \"Kennebunk\", \"Portland\", \"Lewiston\", \"Lewiston\", \"Skowhegan\", \"Gray\", \"Portland\", \"Orono\", \"Brunswick\", \"Brewer\", \"Camden\", \"Boothbay\", \"Naples\", \"Portland\", \"Yarmouth\", \"Portland\", \"Berwick\", \"Augusta\", \"Portland\", \"Blue Hill\", \"Portland\", \"Fort Kent\", \"Brunswick\", \"Harrison\", \"Ellsworth\", \"Boothbay Harbor\", \"South Portland\", \"South Portland\", \"Portland\", \"Bangor\", \"Belfast\", \"Lyman\", \"Bangor\", \"Old Orchard Beach\", \"Limerick\", \"Portland\", \"Monmouth\", \"Freeport\", \"South Portland\", \"Bar Harbor\", \"The Forks\", \"Liberty\", \"Hallowell\", \"Rockland\", \"Liberty\", \"\", \"Portland\", \"Auburn\", \"Lubec\", \"Machias\", \"Freeport\", \"Waterville\", \"Orono\", \"\", \"Brewer\", \"Westbrook\", \"Brunswick\", \"Monhegan\", \"Scarborough\", \"North Haven\", \"Caribou\", \"Norway\", \"New Gloucester\", \"Waldoboro\", \"Orono\", \"Pittsfield\", \"Newcastle\", \"Portland\", \"Union\", \"Portland\", \"Fryeburg\", \"Westport Island\", \"Bangor\", \"\", \"Portland\", \"Auburn\", \"Freeport\", \"Sedgwick\", \"Bethel\", \"Wells\", \"Searsmont\", \"Kittery\", \"Farmington\", \"Monson\", \"Portland\", \"Waterville\", \"Kittery\", \"Westbrook\", \"York\", \"Denver\", \"Eugene\", \"Lorane\", \"Tualatin\", \"Baker City\", \"Corvallis\", \"Bend\", \"Portland\", \"Astoria\", \"Saint Helens\", \"Portland\", \"Redmond\", \"Eugene\", \"Eugene\", \"Tillamook\", \"Bend\", \"Oregon City\", \"Eugene\", \"Eugene\", \"Estacada\", \"Astoria\", \"Hood River\", \"Salem\", \"Portland\", \"Eugene\", \"Portland\", \"Clackamas\", \"Hood River\", \"Oregon\", \"Eugene\", \"Eugene\", \"Portland\", \"Boardman\", \"Pacific City\", \"Hood River\", \"Springfield\", \"Portland\", \"Pendleton\", \"Newport\", \"Eugene\", \"Lake Oswego\", \"Portland\", \"Eugene\", \"Portland\", \"Newberg\", \"Bend\", \"Yachats\", \"Philadelphia\", \"Philadelphia\", \"Philadelphia\", \"Philadelphia\", \"Lancaster\", \"Philadelphia\", \"Croydon\", \"Philadelphia\", \"Reading\", \"Pottstown\", \"Adamstown\", \"Ardmore\", \"New Hope\", \"New Hope\", \"Downingtown\", \"Easton\", \"Philadelphia\", \"Harrisburg\", \"State College\", \"Hershey\", \"\", \"Pittsburgh\", \"Latrobe\", \"Pittsburgh\", \"Pittsburgh\", \"Pittsburgh\", \"Pittsburgh\", \"Pittsburgh\", \"Erie\", \"St. Marys\", \"Erie\", \"Inc.\", \"Penn Yan\", \"Lake George\", \"Farmingdale\", \"Oceanside\", \"Long Island City\", \"Buffalo\", \"Honeoye\", \"Patchogue\", \"Cooperstown\", \"Ridgewood\", \"The Bronx\", \"Williamsburg\", \"Sunset\", \"Buffalo\", \"Elmsford\", \"Buffalo\", \"Coney\", \"Riverhead\", \"Flatbush\", \"Pearl River\", \"Rochester\", \"Ellicottville\", \"Rochester\", \"Ridgewood\", \"Staten Island\", \"Buffalo\", \"Carroll\", \"Buffalo\", \"Rochester\", \"Bay Shore\", \"Greenpoint\", \"Williamsburg\", \"Williamsbridge\", \"Garnerville\", \"East\", \"Ithaca\", \"Rochester\", \"Kingston\", \"Greenpoint\", \"Blauvelt\", \"Buffalo\", \"Long Island City\", \"Riverhead\", \"Utica\", \"Avon\", \"Lockport\", \"Gardens\", \"Schroon Lake\", \"Buffalo\", \"Cooperstown\", \"Manchester\", \"Buffalo\", \"Long Island City\", \"Rochester\", \"Clifton Park\", \"Astoria\", \"Red Hook\", \"Elizaville\", \"Oceanside\", \"Lakewood\", \"Gowanus\", \"Rochester\", \"Gowanus\", \"Long Island City\", \"Elmira\", \"Geneva\", \"Greece\", \"Houston\", \"San Antonio\", \"Austin\", \"Austin\", \"Austin\", \"Houston\", \"Conroe\", \"Waco\", \"Salado\", \"Alpine\", \"Bryan\", \"Austin\", \"Dallas\", \"Houston\", \"Adkins\", \"Seven Points\", \"Dallas\", \"Winnsboro\", \"Dallas\", \"Tyler\", \"Houston\", \"McKinney\", \"San Antonio\", \"Austin\", \"Dallas\", \"Dickinson\", \"Galveston\", \"Houston\", \"Austin\", \"Austin\", \"Garland\", \"Austin\", \"Houston\", \"Gainesville\", \"San Antonio\", \"Garland\", \"Austin\", \"Magnolia\", \"Fort Worth\", \"Austin\", \"San Marcos\", \"Fort Worth\", \"College Station\", \"Katy\", \"Austin\", \"Dallas\", \"Fort Worth\", \"San Antonio\", \"Blanco\", \"Granbury\", \"Austin\", \"Houston\", \"Keller\", \"San Antonio\", \"Conroe\", \"Shiner\", \"Taylor\", \"Dickinson\", \"Richmond\", \"Austin\", \"Tyler\", \"Irving\", \"Houston\", \"St. Petersburg\", \"Panama City\", \"Bradenton\", \"Dania\", \"Dunedin\", \"Tampa\", \"Jacksonville\", \"Gainesville\", \"Vero Beach\", \"St. Augustine\", \"Tampa\", \"Jacksonville\", \"Largo\", \"Atlantic Beach\", \"Pompano Beach\", \"Largo\", \"Boca Raton\", \"Coral Springs\", \"Lake Buena Vista\", \"Odessa \", \"Sarasota \", \"St. Augustine\", \"Jacksonville\", \"Key West\", \"Tampa\", \"Lakeland\", \"St. Petersburg\", \"Boca Raton\", \"Orlando\", \"Cocoa\", \"Fort Myers\", \"Tallahassee\", \"Sarasota\", \"Cape Coral\", \"Winter Park\", \"DeBary\", \"Cocoa Beach\", \"Tampa\", \"Jupiter & West Palm Beach\", \"Cocoa Beach\", \"Miami\", \"Crystal River\", \"Boynton Beach\", \"Tampa\", \"Palmetto\", \"Winter Garden\", \"Safety Harbor\", \"St. Petersburg\", \"Bradenton\", \"St. Petersburg\", \"Orlando\", \"Winter Park\", \"Tallahassee\", \"Destin\", \"Dunedin\", \"Jacksonville Beach \", \"Punta Gorda\", \"Gainesville\", \"Cape Canaveral\", \"Auburndale\", \"Islamorada\", \"Fort Myers\", \"Boca Raton \", \"Tallahassee\", \"Tallahassee\", \"Santa Rosa Beach\", \"St. Petersburg\", \"Jacksonville Beach\", \"Leesburg\", \"Winter Haven\", \"Pensacola\", \"Fort Lauderdale\", \"Melbourne\", \"Longwood\", \"Jacksonville\", \"Santa Rosa Beach\", \"Ocala\", \"Melbourne\", \"Jacksonville\", \"Islamorada \", \"Miami\", \"Sarasota\", \"Fernandina Beach\", \"Key West\", \"Palm Harbor\", \"Tallahassee\", \"Tampa\", \"Fort Lauderdale\", \"Fort Lauderdale\", \"Madeira Beach\", \"Marco Island\", \"Pensacola \", \"Doral\", \"Homestead\", \"Tallahassee\", \"Bradenton\", \"Mount Dora\", \"Naples\", \"New Smyrna Beach\", \"Boynton Beach\", \"Orlando\", \"Vero Beach\", \"Hollywood\", \"Orlando\", \"Ormond\", \"Clearwater\", \"Sebastian\", \"Pensacola\", \"DeLand\", \"Orange Park\", \"Titusville \", \"Fort Myers\", \"Tallahassee\", \"Fort Walton Beach\", \"Boca Raton\", \"Treasure Island\", \"Atlantic Beach\", \"Seminole\", \"New Port Richey\", \"Orlando\", \"St. Cloud\", \"Naples\", \"Jacksonville\", \"Orlando\", \"Fort Pierce\", \"Tarpon Springs\", \"Delray Beach\", \"Sarasota\", \"Clearwater and\", \"Jacksonville\", \"Orlando\", \"Tampa\", \"Tampa\", \"St. Petersburg\", \"Tampa\", \"Tampa\", \"Miami\", \"Tequesta\", \"Miami Beach\", \"Coral Gables\", \"Ormond Beach\", \"Plant City\", \"Jacksonville Beach\", \"Gainesville\", \"Tampa\", \"Tarpon Springs\", \"St. Petersburg\", \"Jacksonville\", \"Vero Beach\", \"Key West\", \"Jacksonville\", \"Odessa\", \"Miami\", \"Navarre\", \"Tampa\", \"Jacksonville Beach\", \"Newnan\", \"Hapeville\", \"Decatur\", \"Kennesaw\", \"Cumming\", \"Savannah\", \"Fairburn\", \"Athens\", \"Kennesaw\", \"Statesboro\", \"Atlanta\", \"Blue Ridge\", \"Roswell\", \"Atlanta & Buckhead\", \"Blue Ridge\", \"Alpharetta\", \"Marietta\", \"Alpharetta\", \"Gainesville\", \"Peachtree City\", \"Macon\", \"Atlanta\", \"Atlanta\", \"Savannah\", \"Omaha\", \"Atlanta\", \"Stone Mountain\", \"Macon\", \"Atlanta\", \"Carrollton\", \"Atlanta\", \"Marietta\", \"Woodstock\", \"Augusta\", \"Atlanta\", \"Marietta\", \"Augusta\", \"Atlanta\", \"Savannah\", \"Brunswick\", \"Lawrenceville\", \"Savannah\", \"Athens\", \"Atlanta\", \"Athens\", \"Columbus\", \"Decatur\", \"Atlanta\", \"Decatur\", \"Avondale Estates\", \"LaGrange\", \"Atlanta\", \"Waimea\", \"Waik\\u012bk\\u012b\", \"K\\u0101neohe\", \"Kihei\", \"Kailua\", \"Kailua-Kona\", \"L\\u0101hain\\u0101\", \"Port Allen\", \"Kaka\", \"Lihue\", \"Hilo\", \"M\\u014d\", \"Kaka\", \"Kaka\", \"brewery\", \"Urbana\", \"Tinley Park.\", \"Belleville\", \"Chicago\", \"Teutopolis.\", \"Metropolis.\", \"St. Charles.\", \"Chicago\", \"The\", \"Chicago.\", \"Springfield.\", \"New Lenox.\", \"Geneva.\", \"Peoria.\", \"Western Springs.\", \"Murphysboro\", \"Georgetown.\", \"Chicago.\", \"East Dundee.\", \"Willowbrook.\", \"as\", \"Blue Island.\", \"Mundelein.\", \"Bourbonnais.\", \"North Aurora.\", \"Mokena.\", \"Lyons.\", \"Long Grove.\", \"Chicago.\", \"Springfield\", \"Ava\", \"Rockford.\", \"Itasca.\", \"Chicago.\", \"Crystal Lake.\", \"St. Charles.\", \"Decatur.\", \"Chicago\", \"Decatur.\", \"Chicago.\", \"Wheaton.\", \"Chicago.\", \"Effingham.\", \"Joliet.\", \"Elmhurst.\", \"Fairbury.\", \"West\", \"Batavia.\", \"Springfield.\", \"Cider\", \"Crete.\", \"Breese\", \"Forest Park.\", \"Des Plaines.\", \"Chicago\", \"Hodgkins.\", \"Berwyn.\", \"Barrington\", \"Flossmoor\", \"brewery\", \"Macomb.\", \"Plainfield.\", \"Freeport.\", \"Geneseo.\", \"Decatur.\", \"Downers Grove.\", \"With\", \"Tinley Park.\", \"Byron.\", \"Half\", \"Lincolnshire.\", \"Petersburg.\", \"Winthrop Harbor.\", \"The\", \"New Lenox.\", \"Chicago\", \"Woodstock.\", \"Christopher.\", \"Chicago.\", \"Waterloo.\", \"Aurora.\", \"Chicago.\", \"Woodridge.\", \"Chicago.\", \"brewery\", \"Peoria.\", \"Galesburg\", \"Itasca.\", \"Jolly\", \"Mahomet.\", \"Bloomington.\", \"distillery\", \"Oak Park.\", \"Woodstock.\", \"Galesburg.\", \"Lake Bluff.\", \"Chicago.\", \"Lena.\", \"Red Bud.\", \"Grayslake.\", \"Bloomington.\", \"Geneseo.\", \"Buffalo Grove.\", \"Paris.\", \"South Barrington.\", \"Villa Park.\", \"Glenview.\", \"Shorewood.\", \"Chicago\", \"McHenry.\", \"Romeoville.\", \"Chicago\", \"Chicago\", \"Chicago.\", \"La Grange.\", \"Darien.\", \"Murphysboro.\", \"Monticello.\", \"Chicago\", \"Joliet.\", \"Waukegan.\", \"Lockport.\", \"The\", \"Oak\", \"Beer\", \"Chicago\", \"Alton.\", \"Collinsville.\", \"Chicago.\", \"Chicago Ridge.\", \"Oak Park.\", \"Lansing.\", \"Chicago.\", \"Hillsboro.\", \"Chicago.\", \"Oswego.\", \"Evanston.\", \"O'Fallon.\", \"Geneva.\", \"Lake\", \"Chicago.\", \"Chicago.\", \"Chicago\", \"Lemont\", \"Rockford\", \"Homewood.\", \"Rock\", \"Ottawa.\", \"Moline.\", \"Edwardsville.\", \"brewery\", \"Urbana.\", \"Channahon.\", \"St. Charles.\", \"Lake Zurich.\", \"Chicago\", \"Chicago.\", \"Elkville.\", \"Algonquin.\", \"Ava.\", \"Huntley.\", \"Woodstock\", \"Schiller Park.\", \"Wauconda.\", \"Woodridge.\", \"The\", \"Naperville\", \"Tinley Park.\", \"Cary.\", \"Springfield.\", \"Manteno.\", \"Du Quoin.\", \"Geneva.\", \"Waterloo.\", \"brewery\", \"Evanston.\", \"Yorkville.\", \"Mundelein.\", \"Savoy.\", \"Two\", \"Clinton.\", \"Niles\", \"Chicago.\", \"Rockford.\", \"Chicago.\", \"Algonquin.\", \"Rock Island.\", \"Plainfield.\", \"Chicago.\", \"Westmont.\", \"Sparta.\", \"Chicago\", \"Shorewood.\", \"Lena.\", \"Bloomingdale.\", \"Waukegan.\", \"Clay Center\", \"Lawrence\", \"Wichita\", \"Topeka\", \"Galena\", \"Lawrence\", \"Topeka\", \"Salina\", \"Fort Scott\", \"Overland Park\", \"Quinter\", \"Wichita\", \"Hays\", \"Dodge City\", \"Beloit\", \"Pittsburg\", \"Lawrence\", \"Garden City\", \"Sylvan Grove\", \"Lawrence\", \"Cheney\", \"Topeka\", \"Wichita\", \"Topeka\", \"Independence\", \"Pittsburg\", \"Washington\", \"Lawrence\", \"Wichita\", \"Lenexa\", \"Hays\", \"Lenexa\", \"Manhattan\", \"Topeka\", \"Wichita\", \"Ottawa\", \"Edwardsville\", \"Shawnee\", \"Emporia\", \"Olathe\", \"Wichita\", \"Hutchinson\", \"Mission\", \"Shawnee\", \"Manhattan\", \"Wichita\", \"McPherson\", \"Shawnee\", \"Eudora\", \"El Dorado\", \"Wichita\", \"Lawrence\", \"Covington\", \"New Orleans\", \"Arnaudville\", \"New Orleans\", \"Marksville\", \"Natchitoches\", \"Mandeville\", \"New Orleans\", \"New Orleans\", \"Lake Charles\", \"New Orleans\", \"Bossier City\", \"Monroe\", \"Gonzales\", \"Hammond\", \"New Orleans\", \"Shreveport\", \"Alexandria\", \"New Orleans\", \"Thibodaux\", \"New Orleans\", \"New Orleans\", \"Mandeville\", \"West Monroe\", \"Broussard\", \"New Orleans\", \"New Orleans\", \"New Orleans\", \"Baton Rouge\", \"Shreveport\", \"New Orleans\", \"New Orleans\", \"Baton Rouge\", \"Houma\", \"Baton Rouge\", \"Alexandria\", \"New Orleans\", \"Ruston\", \"New Orleans\", \"Eldersburg\", \"Cumberland\", \"Rockville\", \"Bel Air\", \"Hagerstown\", \"Frederick\", \"Silver Spring\", \"Hunt Valley\", \"Ocean City\", \"Chesapeake City\", \"Columbia\", \"Rising Sun\", \"Gaithersburg\", \"Lusby\", \"Frederick\", \"Baltimore \", \"Taneytown\", \"Brookeville\", \"Centreville\", \"Berlin\", \"Baltimore \", \"Crofton\", \"Whaleyville\", \"Odenton\", \"Stevensville\", \"Williamsport\", \"Baltimore \", \"Baltimore \", \"Cumberland\", \"Rosedale\", \"St. Michaels\", \"Salisbury\", \"Street\", \"Butler\", \"Ocean City\", \"Colora\", \"Frederick\", \"Union Bridge\", \"Annapolis\", \"Hyattsville\", \"Mount Airy\", \"Baltimore \", \"Chesapeake Beach\", \"Halethorpe\", \"Huntingtown\", \"Halethorpe\", \"Havre de Grace\", \"Columbia\", \"Frederick\", \"Bel Air\", \"Monkton\", \"Laurel\", \"Westminster\", \"Frederick\", \"Dundalk\", \"Olney\", \"Adamstown\", \"Ellicott City\", \"Elkton\", \"Frederick\", \"Mount Airy\", \"Frederick\", \"Baltimore \", \"Prince Frederick\", \"Easton\", \"Baltimore \", \"Frederick\", \"Baltimore \", \"Sudlersville\", \"Baltimore \", \"Waldorf\", \"Ellicott City\", \"Middle River\", \"Westminster\", \"Cambridge\", \"Baltimore\", \"Columbia\", \"Mount Airy\", \"Frederick\", \"Dowell\", \"Hampstead\", \"Rockville\", \"Columbia\", \"Owings\", \"Silver Spring\", \"Whiteford\", \"Brunswick/Frederick\", \"Thurmont\", \"Frederick\", \"Hyattsville\", \"Baltimore \", \"Parsonsburg\", \"Queenstown\", \"Derwood\", \"Baltimore \", \"Hagerstown\", \"Elkton\", \"Gaithersburg\", \"Baltimore \", \"Baltimore \", \"White Marsh\", \"Easton\", \"Anoka\", \"Minneapolis\", \"Minneapolis\", \"Elk River\", \"Austin\", \"Lakeville\", \"New Ulm\", \"Spring Park\", \"St. Joseph\", \"Saint Paul\", \"Shakopee\", \"Eagan\", \"Hendricks\", \"Saint Paul\", \"Minneapolis\", \"St. Cloud\", \"Bemidji\", \"Duluth\", \"White Bear Lake\", \"Long Lake\", \"Saint Paul\", \"Duluth\", \"Minnetonka\", \"Marshall\", \"Minneapolis\", \"Two Harbors\", \"Duluth\", \"Dundas\", \"Saint Paul\", \"Alexandria\", \"Minneapolis\", \"Saint Paul\", \"Minneapolis\", \"Minneapolis\", \"Victoria\", \"Minneapolis\", \"Minneapolis\", \"Duluth\", \"Saint Paul\", \"Rochester\", \"Worthington\", \"Willmar\", \"Minneapolis\", \"Minneapolis\", \"New Prague\", \"Rochester\", \"Austin\", \"Nisswa\", \"Lino Lakes\", \"Buffalo\", \"Duluth\", \"Blaine\", \"Northfield\", \"Minneapolis\", \"Minneapolis\", \"Minneapolis\", \"Baxter\", \"Rochester\", \"Duluth\", \"Lakeville\", \"Stillwater\", \"Mankato\", \"Ranier\", \"Madelia\", \"Rochester\", \"Plymouth\", \"Big Lake\", \"Minneapolis\", \"Mankato\", \"Minneapolis\", \"Montgomery\", \"Monticello\", \"Maple Grove\", \"St. Cloud\", \"Saint Paul\", \"Minneapolis\", \"Reads Landing\", \"Hallock\", \"Minneapolis\", \"Brainerd\", \"Monticello\", \"Minneapolis\", \"Sleepy Eye\", \"Annandale\", \"Hastings\", \"St. Louis Park\", \"Saint Paul\", \"Minneapolis\", \"Lanesboro\", \"Luverne\", \"Montevideo\", \"Northfield\", \"Cold Spring\", \"Pine City\", \"Cannon Falls\", \"Minneapolis\", \"Chisago City\", \"Golden Valley\", \"Minneapolis\", \"Minneapolis\", \"Grand Marais\", \"Saint Paul\", \"Waconia\", \"Robbinsdale\", \"St. Louis\", \"Liberty\", \"Springfield\", \"St. Louis\", \"St. Louis\", \"St. Louis\", \"Ozark\", \"St. Louis\", \"Kansas City\", \"Kansas City\", \"Kansas City\", \"Columbia\", \"Columbia\", \"St. Louis\", \"North Kansas City\", \"Kansas City\", \"Kansas City\", \"St. Louis\", \"Raytown\", \"Kansas City\", \"St. Louis\", \"St. Charles\", \"Ferguson\", \"Columbia\", \"Wentzville\", \"Springfield\", \"O'Fallon\", \"Kansas City\", \"St. Louis\", \"St. Louis\", \"Kansas City\", \"Osage Beach\", \"Hamilton\", \"Columbia\", \"Springfield\", \"Valley Park\", \"Festus\", \"Eureka\", \"O'Fallon\", \"St. Louis\", \"St. Louis\", \"Springfield\", \"Florissant\", \"Maryland Heights\", \"St. Louis\", \"O'Fallon\", \"Labadie\", \"Carrollton\", \"Columbia\", \"St. Louis\", \"St. Louis\", \"Maplewood\", \"Maryland Heights\", \"Springfield\", \"St. Louis\", \"Kansas City\", \"St. Peters\", \"Kansas City\", \"St. Charles\", \"St. Louis\", \"St. Charles\", \"St. Louis\", \"St. Louis\", \"Grand Forks\", \"Fargo\", \"Fargo\", \"Fargo\", \"Fargo\", \"Bismarck\", \"Grand Forks\", \"Minot\", \"Minot\", \"Williston\", \"Watford City\", \"Bismarck\", \"Mandan\", \"Mandan\", \"Dickinson\", \"Mapleton\", \"Minot\", \"Lincoln\", \"Lincoln\", \"Omaha\", \"Lincoln\", \"Valentine\", \"Taylor\", \"Seward\", \"Alliance\", \"Omaha\", \"Atkinson\", \"Johnson Lake\", \"Lincoln\", \"Lincoln\", \"Norfolk\", \"Lincoln\", \"Fairfield\", \"Omaha\", \"Hastings\", \"Scottsbluff\", \"Columbus\", \"Lincoln\", \"Albion\", \"Omaha\", \"Omaha\", \"Wayne\", \"Broken Bow\", \"La Vista\", \"McCook\", \"Holdrege\", \"La Vista\", \"Papillion\", \"North Platte\", \"La Vista\", \"Kearney\", \"Grand Island\", \"Syracuse\", \"Pawnee City\", \"Ord\", \"Omaha\", \"Omaha\", \"Hastings\", \"Beatrice\", \"Kearney\", \"Omaha\", \"Omaha\", \"Lincoln\", \"Lincoln\", \"Williamstown\", \"Dover\", \"Rio Grande\", \"Hoboken\", \"Hackensack\", \"Lafayette\", \"Newark\", \"Toms River\", \"Asbury Park\", \"Atco\", \"Avalon\", \"Forked River\", \"Belmar\", \"Middletown\", \"Berlin\", \"Red Bank\", \"Carlstadt\", \"Glassboro\", \"Bradley Beach\", \"Vineland\", \"Little Ferry\", \"Manville\", \"Shamong\", \"Blairstown\", \"Cape May Court House\", \"Rio Grande\", \"Atlantic Highlands\", \"Roselle Park\", \"Cape May Court House\", \"Cape May\", \"Bordentown\", \"Raritan Township\", \"Fairfield\", \"Williamstown\", \"Edison\", \"Hackettstown\", \"Asbury Park\", \"Clarksboro\", \"Jersey City\", \"Collingswood\", \"Pennsauken\", \"Merchantville\", \"Montclair\", \"Woodbury\", \"Hillsborough\", \"Cherry Hill\", \"Denville\", \"Somerdale\", \"South Orange\", \"Galloway\", \"Clifton\", \"Millville\", \"North Cape May\", \"Hackensack\", \"New Brunswick\", \"Seaside Heights\", \"Egg Harbor Township\", \"Butler\", \"Hoboken\", \"Pitman\", \"Lakewood\", \"Maple Shade\", \"Voorhees\", \"Woodbridge\", \"Hackettstown\", \"Tinton Falls\", \"Ocean Township\", \"Pitman\", \"Haddonfield\", \"Sparta\", \"Point Pleasant Beach\", \"Neptune City\", \"Flemington\", \"Long Valley\", \"Medford\", \"Ocean View\", \"Haddon Heights\", \"Fairfield\", \"Hackettstown\", \"Manahawkin\", \"Montclair\", \"Wildwood\", \"Medford\", \"Pitman\", \"North Bergen\", \"Stockton\", \"Waretown\", \"Island Heights\", \"Little Egg Harbor\", \"Keansburg\", \"Red Bank\", \"Pennington\", \"Ewing Township\", \"Cream Ridge\", \"Beach Haven\", \"Milford\", \"Cape May Court House\", \"Maplewood\", \"Mount Holly\", \"Burlington\", \"Hammonton\", \"Hammonton\", \"Toms River\", \"Oaklyn\", \"Berkley Heights\", \"Princeton\", \"Red Bank\", \"Hopewell\", \"Egg Harbor Township\", \"Atlantic City\", \"Chatham\", \"Kenilworth\", \"New Providence\", \"Mount Holly\", \"Hammonton\", \"Westville\", \"Rahway\", \"Long Branch\", \"Cranford\", \"Marlton\", \"Greenville\", \"North Charleston\", \"Columbia\", \"Charleston\", \"Spartanburg\", \"Greenville\", \"Salt Lake City\", \"Salt Lake City\", \"Salt Lake City\", \"Woodinville\", \"Seattle\", \"Redmond\", \"Seattle \", \"Olympia\", \"Seattle\", \"Seattle\", \"Seattle\", \"Seattle\", \"Arlington\", \"Bellingham\", \"Everett\", \"Mountlake\", \"Bremerton\", \"Ellensburg\", \"Spokane\", \"Snoqualmie\", \"Seattle\", \"Seattle\", \"Centralia\", \"Tacoma \", \"Mill\", \"Burien & Seattle\", \"Leavenworth\", \"Port Townsend\", \"Edmonds\", \"Kennewick\", \"White Salmon\", \"Seattle\", \"Redmond\", \"Pacific\", \"Moxee\", \"Bellevue\", \"Seattle\", \"Mount Vernon\", \"Gig Harbor\", \"Seattle\", \"Bellingham\", \"Bellingham \", \"Everett\", \"Seattle\", \"Lynnwood\", \"Stevenson\", \"Anacortes\", \"Oroville\", \"Airway Heights\", \"Poulsbo\", \"Yakima\", \"Kent\", \"Deming\", \"Clarkston\", \"Roslyn\", \"Arlington\", \"Winthrop\", \"Seattle\", \"Bellevue\", \"Pullman\", \"Sunnyside\", \"Washougal\", \"Oak Harbor\", \"Richland\", \"Woodinville\", \"Tacoma\", \"Buckley\", \"Spokane\", \"Kingston\", \"Seattle\", \"Waitsburg\", \"Bainbridge Island\", \"Mount Vernon\", \"Issaquah\", \"Seattle\", \"Seattle\", \"Tacoma\", \"Eastsound\", \"Spokane\", \"Puyallup\", \"Carson\", \"Twisp\", \"Spokane\", \"La Conner\", \"Kettle Falls\", \"Poulsbo\", \"Spokane Valley\", \"Seattle\", \"Vancouver\", \"Vancouver\", \"Richland\", \"Republic\", \"Concrete\", \"Prosser\", \"Seattle\", \"Camas\", \"Shelton\", \"Spokane\", \"Bellingham\", \"Wenatchee\", \"Richland\", \"Walla Walla\", \"Bremerton\", \"Bellingham\", \"Seattle\", \"Prosser\", \"Graham\", \"Seattle\", \"Tacoma\", \"Seattle\", \"Seattle\", \"Westport\", \"Seattle\", \"Vancouver\", \"Colville\", \"Woodinville\", \"Silverdale\", \"Redmond\", \"Bothell\", \"Richland\", \"Spokane\", \"Spokane\", \"Seattle\", \"Edmonds\", \"Seattle\", \"Seattle\", \"Monroe\", \"Moses Lake\", \"Port Angeles\", \"Port Orchard\", \"Woodinville\", \"Puyallup\", \"Dayton\", \"Seattle\", \"Olympia\", \"Seattle\", \"Longview\", \"Vashon\", \"Seaview\", \"Spokane Valley\", \"Lacey\", \"Mead\", \"Washougal\", \"Vancouver\", \"Moses Lake\", \"Port Townsend\", \"Spokane\", \"Snoqualmie Pass\", \"Seattle\", \"Vancouver\", \"Odessa\", \"Vancouver\", \"Centralia\", \"Tacoma\", \"Seattle\", \"Redmond\", \"Vancouver\", \"Bellevue\", \"Manson\", \"Carson\", \"Cathlamet\", \"Enumclaw\", \"Port Angeles\", \"Seattle\", \"Bellingham\", \"Walla Walla\", \"Ferndale\", \"Tacoma\", \"Seattle\", \"Seattle\", \"Newport\", \"Poulsbo\", \"Everett\", \"Quilcene\", \"Castle Rock\", \"Spokane Valley\", \"Everett\", \"Sammamish\", \"Marysville\", \"Redmond\", \"Kirkland\", \"Kenmore\", \"Port Angeles\", \"Sumner\", \"Yakima\", \"Snohomish\", \"Seattle\", \"Sequim\", \"Seattle\", \"Kittitas\", \"Woodinville\", \"Westport\", \"Roslyn\", \"Sequim\", \"Duvall\", \"Seattle\", \"Yakima\", \"Seattle\", \"Renton\", \"Longview\", \"Tacoma\", \"Auburn\", \"Snohomish\", \"Lacey\", \"Vancouver\", \"Benton City\", \"Kingston\", \"Toledo\", \"Puyallup\", \"Darrington\", \"Fairfield\", \"Vancouver\", \"Walla Walla\", \"Duvall\", \"Newman Lake\", \"Darrington\", \"Poulsbo\", \"Walla Walla\", \"Lake Stevens\", \"Olympia\", \"Renton\", \"Cashmere\", \"Everett\", \"Carson\", \"Kennewick\", \"Index\", \"Burlington\", \"Arlington\", \"Pasco\", \"Vancouver\", \"Wenatchee\", \"Battle Ground\", \"Seattle\", \"Yakima\", \"Yakima\", \"Bonney Lake\", \"Chehalis\", \"Seattle\", \"Milwaukee\", \"Sheboygan\", \"La Crosse\", \"Algoma\", \"Madison\", \"Madison\", \"Hayward\", \"Appleton\", \"Green Bay\", \"Oshkosh\", \"Neenah\", \"Glendale\", \"Wauwatosa\", \"Brookfield\", \"Milwaukee\", \"Bloomer\", \"Marshfield\", \"Mineral Point\", \"Menomonie\", \"Oconomowoc\", \"Eau Claire\", \"Milwaukee\", \"Wausau\", \"Middleton\", \"Amherst\", \"La Crosse\", \"Milwaukee\", \"Milwaukee\", \"Milwaukee\", \"Cross Plains\", \"Wilson\", \"Milwaukee\", \"Delafield\", \"Stevens Point\", \"Baileys Harbor\", \"Elkhorn\", \"Milwaukee\", \"Superior\", \"Milwaukee\", \"Greendale\", \"Cedarburg\", \"Oshkosh\", \"Oshkosh\", \"Black River Falls\", \"Lake Geneva\", \"Madison\", \"Milwaukee\", \"Madison\", \"Mount Horeb\", \"Hillsboro\", \"Green Bay\", \"Port Washington\", \"Chippewa Falls\", \"Madison\", \"Eau Claire\", \"Arena\", \"Milwaukee\", \"Eau Claire\", \"Neenah\", \"Waunakee\", \"Menomonie\", \"Appleton\", \"Hartland\", \"Milwaukee\", \"Milwaukee\", \"Minocqua\", \"Monroe\", \"Milwaukee\", \"New Glarus\", \"Madison\", \"Osseo\", \"Waunakee\", \"Somerset\", \"Omro\", \"Madison\", \"Plover\", \"Milwaukee\", \"Westport\", \"La Crosse\", \"Wisconsin Dells\", \"Potosi\", \"Kenosha\", \"Kenosha\", \"Racine\", \"Marinette\", \"Waukesha\", \"Wausau\", \"Rhinelander\", \"Janesville\", \"Madison\", \"Woodruff\", \"Chilton\", \"River Falls\", \"Kenosha\", \"Black River Falls\", \"Whitewater\", \"Sheboygan\", \"Egg Harbor\", \"Manitowish Waters\", \"Ashland\", \"Glendale\", \"Sturgeon Bay\", \"Stevens Point\", \"Green Bay\", \"Shawano\", \"Elkhart Lake\", \"Milwaukee\", \"Superior\", \"Green Bay\", \"Eagle River\", \"Lake Mills\", \"Milwaukee\", \"Dallas\", \"Milwaukee\", \"Madison\", \"Milwaukee\", \"West Allis\", \"Verona\", \"Madison\", \"Madison\", \"Menomonie\", \"Charles Town\", \"Charleston\", \"Summersville\", \"Shepherdstown\", \"Berkeley Springs\", \"Elkins\", \"Wheeling\", \"Elkins\", \"Fayetteville\", \"Morgantown\", \"Beckley\", \"Fayetteville\", \"Lewisburg\", \"Terra Alta\", \"Morgantown\", \"Morgantown\", \"Parkersburg\", \"Snowshoe\", \"Parkersburg\", \"Bruceton Mills\", \"Rivesville\", \"Princeton\", \"Davis\", \"Huntington\", \"Fairmont\", \"Cool Ridge\", \"Wheeling\", \"Cheyenne\", \"Laramie\", \"Rock Springs\", \"Gillette\", \"Sheridan\", \"Laramie\", \"Buffalo\", \"Laramie\", \"Cheyenne\", \"Cheyenne\", \"Cody\", \"Gillette\", \"Wilson\", \"Casper\", \"Jackson\", \"Lander\", \"Laramie\", \"Sheridan\", \"Jackson\", \"Cody\", \"Cody\", \"Jackson\", \"Jackson\", \"Saratoga\", \"Evanston\", \"Ten Sleep\", \"Pinedale\", \"Powell\", \"Casper\", \"Abiqui\\u00fa\", \"Los Alamos\", \"Red River\", \"Santa Fe\", \"Santa Fe\", \"Albuquerque\", \"Albuquerque\", \"Albuquerque\", \"Albuquerque\", \"Albuquerque\", \"Albuquerque\", \"Albuquerque\", \"Albuquerque\", \"Albuquerque\", \"Albuquerque\", \"Albuquerque\", \"Corrales\", \"Edgartown\", \"Ipswich\", \"Newburyport\", \"Nantucket\", \"Canton\", \"Boston\", \"Boston\", \"Westminster\", \"Charlton\", \"Bentonville\", \"Bentonville\", \"Fayetteville\", \"Fayetteville\", \"Fayetteville\", \"Fayetteville\", \"Fayetteville\", \"Fayetteville\", \"Fort Smith\", \"Harrison\", \"Hot Springs\", \"Little Rock\", \"Little Rock\", \"Little Rock\", \"Little Rock\", \"Little Rock\", \"Little Rock\", \"Little Rock\", \"Little Rock\", \"Little Rock\", \"Little Rock\", \"Morrilton\", \"Paris\", \"Rogers\", \"Springdale\", \"Springdale\", \"Avondale\", \"Tucson\", \"Gilbert\", \"Tucson\", \"Flagstaff\", \"Kingman\", \"Show Low\", \"Tucson\", \"Tucson\", \"Flagstaff\", \"Mesa\", \"Glendale\", \"Bisbee\", \"Scottsdale\", \"Tempe\", \"Scottsdale\", \"Tucson\", \"Flagstaff\", \"Tempe\", \"Phoenix\", \"Prescott\", \"Flagstaff\", \"Flagstaff\", \"Phoenix\", \"Bisbee\", \"Peoria\", \"Chandler\", \"Phoenix\", \"Company\", \"Goodyear\", \"Chandler\", \"Scottsdale\", \"Tempe\", \"Clarkdale\", \"Phoenix\", \"Tucson\", \"Tombstone\", \"Scottsdale\", \"Flagstaff\", \"Phoenix\", \"Healy\", \"Juneau\", \"Anchorage\", \"Palmer\", \"Juneau\", \"Ketchikan\", \"Wasilla\", \"Fairbanks\", \"Palmer\", \"Anchorage\", \"Cooper Landing\", \"Anchorage\", \"Talkeetna\", \"Juneau\", \"Juneau\", \"Gakona\", \"Girdwood\", \"Anchorage\", \"Homer\", \"Haines\", \"Sitka\", \"Homer\", \"Fairbanks\", \"Hoonah\", \"Nikiski\", \"Soldotna\", \"Anchorage\", \"Skagway\", \"Kodiak\", \"Wasilla\", \"Palmer\", \"Palmer\", \"Anchorage\", \"Eagle River\", \"Anchorage\", \"Anchorage\", \"Nenana\", \"Seward\", \"Fox\", \"Skagway\", \"Soldotna\", \"Anchorage\", \"Valdez\", \"San Leandro\", \"Oakland\", \"Livermore\", \"Berkeley\", \"Hayward\", \"San Leandro\", \"Oakland\", \"San Leandro\", \"Livermore\", \"Alameda\", \"Berkeley\", \"Berkeley\", \"Fremont\", \"Oakland\", \"Oakland\", \"Oakland\", \"Berkeley\", \"Berkeley\", \"Livermore\", \"Berkeley\", \"Berkeley\", \"Oakland\", \"Livermore\", \"Plymouth\", \"Chico\", \"Chico\", \"Oroville\", \"Magalia\", \"Chico\", \"Chico\", \"Chico\", \"Arnold\", \"Concord\", \"Walnut Creek\", \"Danville\", \"Pittsburg\", \"Walnut Creek\", \"El Cerrito\", \"San Ramon\", \"Concord\", \"Albany\", \"South Lake Tahoe\", \"South Lake Tahoe\", \"Cool\", \"Diamond Springs\", \"Placerville\", \"Camino\", \"Camino\", \"South Lake Tahoe\", \"El Dorado Hills\", \"Placerville\", \"South Lake Tahoe\", \"Placerville\", \"South Lake Tahoe\", \"Diamond Springs\", \"South Lake Tahoe\", \"Garden Valley\", \"South Lake Tahoe\", \"Fresno\", \"Fresno\", \"Fresno\", \"Fresno\", \"Fresno\", \"Fresno\", \"Fortuna\", \"Eureka\", \"Blue Lake\", \"Arcata\", \"McKinleyville\", \"Bishop\", \"Bakersfield\", \"Bakersfield\", \"Bakersfield\", \"Kernville\", \"Bakersfield\", \"Tehachapi\", \"Bakersfield\", \"Lemoore\", \"Hanford\", \"Kelseyville\", \"Middletown\", \"Lakeport\", \"Torrance\", \"Covina\", \"Long Beach\", \"Los Angeles\", \"Long Beach\", \"Long Beach\", \"Lancaster\", \"San Pedro\", \"Hawthorne\", \"Azusa\", \"Torrance\", \"Claremont\", \"Torrance\", \"Los Angeles\", \"El Segundo\", \"Los Angeles\", \"Burbank\", \"Chatsworth\", \"Pomona\", \"Universal City\", \"Lancaster\", \"Redondo Beach\", \"Azusa\", \"Long Beach\", \"Long Beach\", \"Los Angeles\", \"Irwindale\", \"Torrance\", \"Los Angeles\", \"Los Angeles\", \"Monrovia\", \"South El Monte\", \"Torrance\", \"El Monte\", \"Pomona\", \"Torrance\", \"Torrance\", \"Torrance\", \"Signal Hill\", \"Lakewood\", \"Inglewood\", \"Long Beach\", \"Palmdale\", \"Long Beach\", \"Oakhurst\", \"Novato\", \"Novato\", \"Fairfax\", \"Larkspur\", \"Novato\", \"San Rafael\", \"San Rafael\", \"Mariposa\", \"Boonville\", \"Ukiah\", \"Fort Bragg\", \"Merced\", \"Mammoth Lakes\", \"June Lake\", \"Monterey\", \"Monterey\", \"Marina\", \"Monterey\", \"Carmel\", \"Calistoga\", \"Napa\", \"St\", \"Napa\", \"Napa\", \"Napa\", \"Napa\", \"Napa\", \"Grass Valley\", \"Boca\", \"Truckee\", \"Grass Valley\", \"Nevada City\", \"Truckee\", \"Nevada City\", \"Anaheim\", \"Costa Mesa\", \"Costa Mesa\", \"Fullerton\", \"Placentia\", \"Orange\", \"Santa Ana\", \"Santa Ana\", \"Orange\", \"Costa Mesa\", \"Margarita\", \"Clemente\", \"Santa Ana\", \"Anaheim\", \"Orange\", \"Huntington Beach\", \"Costa Mesa\", \"Irvine\", \"Tustin\", \"Tustin\", \"Orange\", \"Auburn\", \"Rocklin\", \"Auburn\", \"Lincoln\", \"Auburn\", \"Loomis\", \"Rocklin\", \"Auburn\", \"Rocklin\", \"Lincoln\", \"Roseville\", \"Blairsden\", \"Chester\", \"Quincy\", \"Temecula\", \"Riverside\", \"Rancho Mirage\", \"Temecula\", \"Temecula\", \"Banning\", \"Thousand Palms\", \"Lake Elsinore\", \"Palm Desert\", \"Murrieta\", \"Murrieta\", \"Riverside\", \"Corona\", \"Temecula\", \"Norco\", \"Riverside\", \"Idyllwild\", \"Riverside\", \"Murrieta\", \"Temecula\", \"Temecula\", \"Palm Desert\", \"Palm Springs\", \"Corona\", \"Menifee\", \"Temecula\", \"Riverside\", \"Temecula\", \"Temecula\", \"Riverside\", \"Corona\", \"Corona\", \"Corona\", \"Temecula\", \"Riverside\", \"Riverside\", \"Temecula\", \"Moreno Valley\", \"Sacramento\", \"Sacramento\", \"Sacramento\", \"Sacramento\", \"Sacramento\", \"Rancho Cordova\", \"Rancho Cordova\", \"Sacramento\", \"Sacramento\", \"Elk Grove\", \"Elk Grove\", \"Rancho Cordova\", \"Sacramento\", \"Sacramento\", \"Sacramento\", \"Sacramento\", \"Sacramento\", \"Orangevale\", \"Sacramento\", \"Folsom\", \"Galt\", \"Sacramento\", \"Sacramento\", \"Sacramento\", \"Sacramento\", \"Elk Grove\", \"Sacramento\", \"Colton\", \"Ontario\", \"Yucaipa\", \"Hesperia\", \"Montclair\", \"Redlands\", \"Rancho Cucamonga\", \"Redlands\", \"Yucaipa\", \"Chino\", \"Rancho Cucamonga\", \"Lake Arrowhead\", \"Upland\", \"Rancho Cucamonga\", \"Hesperia\", \"Apple Valley\", \"Redlands\", \"Upland\", \"Montclair\", \"Redlands\", \"Upland\", \"Rancho Cucamonga\", \"Montclair\", \"Rancho Cucamonga\", \"Rancho Cucamonga\", \"Upland\", \"Ontario\", \"Lodi\", \"Lodi\", \"Lodi\", \"Lodi\", \"Lodi\", \"Tracy\", \"Cambria\", \"Paso Robles\", \"Paso Robles\", \"San Luis Obispo\", \"San Luis Obispo\", \"South San Francisco\", \"Belmont\", \"South San Francisco\", \"San Carlos\", \"Belmont\", \"Redwood City\", \"Princeton\", \"Pescadero\", \"El Granada\", \"Half Moon Bay\", \"Goleta\", \"Buellton\", \"Buellton\", \"Carpinteria\", \"Goleta\", \"Santa Barbara\", \"Solvang\", \"Santa Barbara\", \"San Jose\", \"Morgan Hill\", \"San Jose\", \"San Jose\", \"Morgan Hill\", \"San Jose\", \"San Jose\", \"Santa Clara\", \"San Jose\", \"San Jose\", \"San Jose\", \"San Jose\", \"San Jose\", \"San Jose\", \"Sunnyvale\", \"San Jose\", \"San Jose\", \"Los Gatos\", \"Gilroy\", \"Soquel\", \"Santa Cruz\", \"Capitola\", \"Santa Cruz\", \"Capitola\", \"Santa Cruz\", \"Scotts Valley\", \"Santa Cruz\", \"Fall River Mills\", \"Redding\", \"Redding\", \"Redding\", \"Dunsmuir\", \"Etna\", \"Weed\", \"Fairfield\", \"Fairfield\", \"Suisun\", \"Vallejo\", \"Healdsburg\", \"Sonoma\", \"Santa Rosa\", \"Santa Rosa\", \"Petaluma\", \"Santa Rosa\", \"Sonoma\", \"Windsor\", \"Petaluma\", \"Santa Rosa\", \"Santa Rosa\", \"Sonoma\", \"Windsor\", \"Guerneville\", \"Santa Rosa\", \"Turlock\", \"Modesto\", \"Ceres\", \"Ventura\", \"Ventura\", \"Moorpark\", \"Camarillo\", \"Camarillo\", \"Ventura\", \"Ventura\", \"Thousand Oaks\", \"Ventura\", \"Ventura\", \"Ventura\", \"Ventura\", \"Ventura\", \"Westlake Village\", \"Thousand Oaks\", \"West Sacramento\", \"Davis\", \"West Sacramento\", \"Davis\", \"Davis\", \"Davis\", \"West Sacramento\", \"Chincoteague\", \"Charlottesville\", \"Scottsville\", \"Charlottesville\", \"Charlottesville\", \"Charlottesville\", \"Crozet\", \"Charlottesville\", \"Amherst\", \"Alexandria\", \"Alexandria\", \"Amelia Courthouse\", \"Arlington\", \"Arlington\", \"Staunton\", \"Staunton\", \"Staunton\", \"Forest\", \"Hardy\", \"Bedford\", \"Ruther Glen\", \"Chesapeake\", \"Chesapeake\", \"Midlothian\", \"Midlothian\", \"Culpeper\", \"Culpeper\", \"Danville\", \"Fairfax City\", \"Herndon\", \"Vienna\", \"Broad Run\", \"Lorton\", \"Lorton\", \"McLean\", \"Chantilly\", \"Centreville\", \"\", \"Falls Church\", \"Falls Church\", \"Falls Church\", \"Warrenton\", \"Midland\", \"Warrenton\", \"Delaplane\", \"Callaway\", \"Westlake\", \"Boones Mill\", \"Middletown\", \"Winchester\", \"Winchester\", \"Winchester\", \"Winchester\", \"Winchester\", \"Fredericksburg\", \"Fredericksburg\", \"Fredericksburg\", \"Fredericksburg\", \"Galax\", \"Gloucester\", \"Gloucester\", \"Goochland\", \"Goochland\", \"Goochland\", \"Goochland\", \"Hampton\", \"Hampton\", \"Fort Monroe\", \"Hampton\", \"Ashland\", \"Company\", \"Company\", \"Brewery\", \"Purcellville\", \"Leesburg\", \"Bluemont\", \"Purcellville\", \"Sterling\", \"Leesburg\", \"Leesburg\", \"Leesburg\", \"Leesburg\", \"Leesburg\", \"Bluemont\", \"\", \"Leesburg\", \"Purcellville\", \"Ashburn\", \"Brambleton\", \"Leesburg\", \"Leesburg\", \"Leesburg\", \"Sterling\", \"Purcellville\", \"Ashburn\", \"Aldie\", \"Sterling\", \"Sterling\", \"Sterling\", \"Sterling\", \"Madison\", \"Manassas\", \"Manassas\", \"Manassas\", \"Blacksburg\", \"Blacksburg\", \"Blacksburg\", \"Afton\", \"Nelson\", \"Roseland\", \"Nellysford\", \"New Kent\", \"Newport\", \"Newport\", \"Norfolk\", \"Norfolk\", \"Norfolk\", \"Norfolk\", \"Norfolk\", \"Norfolk\", \"Norfolk\", \"Norfolk\", \"Cape Charles\", \"Portsmouth\", \"Portsmouth\", \"Powhatan\", \"Powhatan\", \"Woodbridge\", \"Gainesville\", \"Manassas\", \"Yorkshire\", \"Fairlawn\", \"Richmond\", \"Richmond\", \"Richmond\", \"Richmond\", \"Richmond\", \"Richmond\", \"Richmond\", \"Richmond\", \"Richmond\", \"Richmond\", \"Richmond\", \"Richmond\", \"Richmond\", \"Richmond\", \"Richmond\", \"Richmond\", \"Richmond\", \"Richmond\", \"Richmond\", \"Roanoke\", \"Roanoke\", \"Cave Spring\", \"Salem\", \"Salem\", \"Vinton\", \"Lexington\", \"\", \"Lexington\", \"Harrisonburg\", \"Harrisonburg\", \"Harrisonburg\", \"Harrisonburg\", \"Harrisonburg\", \"Smithfield\", \"Northern Stafford\", \"Suffolk\", \"Beach\", \"Virginia Beach\", \"Virginia Beach\", \"Virginia Beach\", \"Virginia Beach\", \"Virginia Beach\", \"Virginia Beach\", \"Virginia Beach\", \"Virginia Beach\", \"Virginia Beach\", \"Virginia Beach\", \"Virginia Beach\", \"Virginia Beach\", \"Virginia Beach\", \"Virginia Beach\", \"Middletown\", \"Middletown\", \"Glade Spring\", \"Damascus\", \"Abingdon\", \"Waynesboro\", \"Waynesboro\", \"Williamsburg\", \"Williamsburg\", \"Williamsburg\", \"Williamsburg\", \"Bozeman\", \"Billings\", \"Missoula\", \"Wibaux\", \"Missoula\", \"Helena\", \"Stevensville\", \"Bozeman\", \"Billings\", \"Missoula\", \"Woods Bay\", \"Polson\", \"Whitefish\", \"Belt\", \"Missoula\", \"Missoula\", \"Big Sky\", \"Billings\", \"Butte\", \"Philipsburg\", \"Butte\", \"Red Lodge\", \"Lakeside\", \"Stevensville\"], \"lat\": [33.40368231686402, 34.01434, 34.7304, 30.2460361, 33.40368231686402, 33.2098407, 34.7304, 30.6943566, 33.40368231686402, 34.7304, 32.4709761, 32.3668052, 34.6059254, 33.2098407, 30.5229719, 31.2232313, 34.7304, 33.40368231686402, 34.1748208, 33.40368231686402, 34.7304, 30.6943566, 34.7304, 33.2442813, 30.6943566, 30.4065868, 34.607389, 34.35823, 34.7304, 33.296224, 32.3668052, 32.6454116, 32.6454116, 34.7304, 34.7304, 30.6943566, 33.2442813, 34.79981, 33.6198251, 34.7304, 33.8312185, 33.40368231686402, 33.40368231686402, 33.8312185, 34.7304, 39.5538771, 40.1672069, 39.755543, 40.0149856, 40.0149856, 40.0149856, 40.5852602, 40.1672069, 40.0149856, 39.613321, 38.8338816, 39.7391536, 39.755543, 40.1672069, 40.4233142, 39.7391536, 39.7391536, 39.6302643, 39.7294319, 38.5347193, 39.5186002, 39.7391536, 40.5852602, 39.9935959, 39.7391536, 40.1672069, 39.7391536, 40.1672069, 39.613321, 39.7391536, 39.613321, 39.7419155, 39.755543, 40.5852602, 39.7391536, 40.5852602, 40.2247075, 38.9569344, 39.1222138, 39.9935959, 39.7391536, 39.9205411, 37.27528, 39.2247126, 40.5852602, 37.6788919, 39.7424881, 40.0149856, 40.0149856, 39.7391536, 40.1672069, 40.4233142, 37.3027719, 39.9205411, 39.7391536, 41.2917652, 41.6612104, 41.1845415, 41.17923, 41.826488, 41.3206523, 41.3081527, 41.3542656, 41.1239856, 41.3359327, 41.4339853, 41.8025986, 41.5581525, 41.7637111, 41.17923, 41.8525984, 41.394817, 41.7637111, 41.4570418, 41.3773218, 41.9039863, 41.8237099, 41.3959304, 41.2795414, 41.3081527, 41.5759325, 41.6717648, 41.6612104, 41.71812866342432, 41.4570418, 41.4903761, 42.0273147, 41.0534302, 41.7637111, 41.7637111, 41.1175966, 41.7248164, 41.5964869, 41.0534302, 41.2223194, 41.352597, 41.7620447, 41.3959304, 41.2814842, 41.4339853, 41.3081527, 41.7637111, 41.9762077, 41.3025956, 41.6745432, 41.17923, 41.6023196, 41.4531547, 41.6648216, 41.2795414, 41.71812866342432, 41.2795414, 41.5242649, 41.826488, 41.71812866342432, 41.1845415, 41.7106543, 41.5964869, 41.5445404, 42.2495435, 40.735657, 39.158168, 37.08339, 41.6005448, 40.9897218, 41.6030446, 42.5005583, 41.5244777, 41.0266746, 42.4536, 42.0347081, 42.2713655, 41.6005448, 41.5008234, 41.5236437, 41.6005448, 40.8075391, 41.9219522, 41.8072344, 41.3308237, 42.4999942, 42.0597047, 43.1810893, 41.6441557, 42.4999942, 42.0362382, 42.5005583, 42.0083328, 41.6005448, 41.3633485, 41.6005448, 41.5244777, 42.8538739, 40.7655528, 42.5005583, 43.399136, 42.0597047, 41.6005448, 41.7755432, 43.1535728, 41.895265, 41.7713764, 41.7297102, 41.5244777, 41.6005448, 41.6005448, 42.484154, 41.5236437, 41.2619444, 41.6997129, 42.0083328, 41.5986442, 41.0213781, 41.8736183, 41.3580484, 42.0083328, 42.4999942, 42.5005583, 41.4830723, 41.0469437, 41.6116552, 41.5008234, 43.1380151, 42.5277622, 43.2841383, 42.0083328, 40.6297632, 41.6005448, 42.1175163, 42.4999942, 43.1535728, 41.8000071, 41.7297102, 41.3352034583358, 43.37798476312797, 41.03058453673449, 40.8075391, 41.3208297, 43.1835847, 43.2752514, 41.7005441, 41.6764044, 42.427942664131734, 41.1366656, 43.4271945, 42.7253761, 42.5277622, 42.427942664131734, 42.5277622, 41.5236437, 43.0724728, 42.4844404, 43.08258039909438, 43.018318, 42.84608, 42.0083328, 42.0083328, 42.0083328, 42.7316387, 43.236906, 43.2752514, 42.0347081, 42.7764686, 41.5244777, 41.6005448, 41.336465, 41.3580484, 43.3863521, 42.7941567, 43.4441245, 38.1942356, 37.990079, 38.3030813461952, 38.3030813461952, 38.9595078, 38.3030813461952, 37.9886892, 38.3030813461952, 39.0836712, 37.9886892, 36.8572781, 39.1064489, 37.0833893, 37.9886892, 38.3030813461952, 37.693952, 37.9886892, 38.3030813461952, 38.3030813461952, 36.62110127843932, 37.0920222, 37.9886892, 38.9989499, 38.3030813461952, 37.0833893, 37.0920222, 38.5188243, 37.9886892, 39.091449, 36.97476956017339, 46.0438421, 42.277562797398, 42.4605917, 42.4969805, 42.2917069, 45.26715, 42.716181896687345, 42.5294773, 42.331427, 42.5294773, 42.4605917, 41.8411603, 34.7622545, 42.331427, 32.3526457, 42.716181896687345, 36.7740136, 42.9633599, 43.9878745, 32.2987573, 42.8247524, 46.3536111111111, 42.5467012, 42.6550248, 42.33834, 47.1682599, 42.716181896687345, 41.6833813, 42.3714253, 31.9973456, 42.732535, 42.7875235, 44.7630567, 42.2917069, 42.3625953, 42.716181896687345, 41.6833813, 44.7630567, 43.8750174, 42.680588, 36.9325976, 42.9633599, 44.9802822, 44.6336096, 43.0125274, 42.9633599, 42.716181896687345, 42.46059, 42.277562797398, 34.001778, 35.02387325984121, 30.3960318, 30.3674198, 31.3271189, 30.4113097, 30.4113097, 35.02387325984121, 30.4090829, 32.2987573, 35.02387325984121, 33.45049, 30.3674198, 31.56017, 31.6940509, 31.3271189, 31.3271189, 32.3643098, 34.1514989, 31.3271189, 34.356757805927984, 33.45049, 35.6009452, 35.4887145, 35.9556924, 35.732652, 36.0726355, 35.168591330360044, 33.6890603, 35.2270869, 35.772096, 34.2257256, 36.0726355, 35.168591330360044, 35.2270869, 36.2421053, 43.07704, 43.9792376, 39.5349112, 39.5296329, 36.1749705, 36.1749705, 36.1749705, 36.1749705, 40.440936696485835, 41.6661573, 41.0814447, 41.4517093, 41.4994954, 41.452819, 41.1017247, 40.6186756, 41.1383878, 41.3136644, 41.4994954, 41.5200518, 41.5200518, 41.5200518, 41.3978217, 41.3144966, 41.4994954, 41.0814447, 41.0989439, 41.3139426, 39.968128914621474, 40.7989473, 41.4994954, 41.9475551, 41.2375569, 40.7989473, 41.4994954, 41.3661614, 41.4361644, 39.8940298, 40.3428455, 41.4994954, 41.0814447, 41.3614401, 41.4156025, 40.7989473, 41.4994954, 41.2842224, 41.4994954, 41.8050539, 41.4994954, 39.968128914621474, 41.4994954, 40.39876740983258, 40.2720151, 41.1595005, 40.1825712, 41.1339449, 41.4994954, 40.5206198, 41.0814447, 41.240056, 41.012833, 41.4819932, 40.80517, 39.968128914621474, 41.4994954, 41.1383878, 41.0995019, 40.6786691, 41.0995019, 41.0814447, 40.650061, 41.3864428, 41.1383878, 41.1536674, 41.0814447, 39.968128914621474, 40.9636685, 41.4994954, 41.4994954, 41.1339449, 41.1383878, 40.7989473, 40.5545071, 41.0814447, 41.1339449, 41.2375569, 41.4994954, 39.968128914621474, 41.0814447, 40.7989473, 41.4994954, 41.4994954, 41.0997803, 41.1536674, 40.7720044, 41.1339449, 41.1017247, 40.7967244, 40.75839, 41.1383878, 41.4994954, 41.0814447, 41.4517093, 41.4756031, 40.7989473, 40.7297817, 41.4994954, 40.7989473, 41.4553232, 41.4994954, 40.7989473, 41.4994954, 41.0814447, 41.0814447, 40.8372809, 40.8686675, 41.59241517978612, 41.0256101, 40.3325692, 41.4994954, 41.1383878, 41.4517093, 39.12711, 39.3600586, 39.843947, 39.12711, 39.0275659, 39.12711, 39.7589478, 39.4453393, 39.9900504, 39.12711, 39.7589478, 39.3150592, 40.5240863, 39.12711, 39.2292249, 39.3600586, 39.5522815, 39.7589478, 39.12711, 39.6847822, 39.3317246, 39.6895036, 39.12711, 39.12711, 39.5150576, 39.12711, 39.3317246, 39.8906122, 39.12711, 39.6283928, 39.1928369, 39.12711, 39.12711, 39.1453377, 40.9532544, 39.1753377, 39.6283928, 39.6283928, 39.6428362, 39.12711, 39.12711, 39.12711, 39.9242266, 39.12711, 39.12711, 39.2689476, 39.5150576, 39.12711, 39.12711, 39.6895036, 39.12711, 39.0542312, 39.12711, 39.8820036, 39.12711, 39.7273473, 39.5150576, 39.12711, 39.6283928, 39.3600586, 39.0275659, 39.6428362, 39.12711, 39.12711, 39.12711, 39.12711, 39.7589478, 39.12711, 39.7092262, 39.7589478, 39.5522815, 39.12711, 39.12711, 39.12711, 39.8064486, 39.9667308, 40.1075615, 39.9611755, 39.9611755, 39.9611755, 39.8428415, 39.9336753, 40.0581205, 39.9667308, 39.9611755, 39.8842304, 40.0192307, 40.0333961, 40.2364486, 40.0581205, 39.9611755, 39.7136754, 40.0228421, 39.9547861, 40.0192307, 39.8028415, 39.9611755, 39.9611755, 40.1261743, 39.9611755, 40.0681192, 39.8814519, 39.9611755, 40.0228421, 39.9611755, 40.4008945, 40.1578403, 39.9611755, 39.9611755, 39.9611755, 39.9611755, 39.8428415, 40.1578403, 39.9611755, 40.0992294, 40.0192307, 40.2986724, 40.1983958, 40.5795915, 39.9611755, 39.9611755, 39.9611755, 39.9611755, 39.2020121, 40.2986724, 39.7136754, 39.12711, 39.9611755, 39.9611755, 39.9611755, 39.9611755, 39.9611755, 40.2986724, 40.39876740983258, 40.1261743, 40.0681192, 40.0581205, 39.9611755, 40.0931191, 39.9611755, 40.3611643, 39.3292396, 39.33762772544186, 39.3292396, 39.3292396, 39.0275781, 39.415352, 39.6486822, 38.9186892, 38.80390381646248, 39.0196722, 40.05205364552497, 39.9403453, 39.9403453, 40.7336688, 41.2844933, 41.3747744, 41.3503303, 41.6639383, 41.3747744, 39.9900504, 39.5520056, 41.5844951, 41.6639383, 40.2225481, 39.7911709, 41.0442201, 41.3922726, 41.6639383, 40.4369919, 41.6639383, 41.7189392, 40.8972811, 41.1144992, 40.54001136523413, 40.5886699, 41.6639383, 40.4078249, 40.0394982, 41.4119963, 41.5492182, 40.4433848, 41.6639383, 39.10068187330403, 40.38847345848254, 40.6878252, 40.4797688, 41.1144992, 39.5520056, 41.293106, 41.156998, 41.7189392, 40.8192237, 41.4119963, 35.2225668, 36.1539816, 35.4675602, 35.4675602, 35.6528323, 35.4675602, 36.0525993, 36.1539816, 34.9278748, 35.4675602, 36.1539816, 35.4675602, 35.6528323, 36.1539816, 36.1539816, 35.4675602, 36.1156071, 35.2225668, 36.1539816, 35.4675602, 36.3477778, 36.1539816, 36.1539816, 35.4675602, 36.1539816, 35.4495065, 35.4675602, 36.1539816, 41.644934344544595, 41.7798226, 41.4901024, 41.878711, 41.878711, 41.3775996, 41.6603788, 41.8239891, 42.0028761, 41.8239891, 41.878711, 41.644934344544595, 41.6023245, 42.0028761, 41.5456578, 41.8239891, 44.7747549, 41.878711, 41.5776008, 41.7014912, 41.437324, 43.3186012, 42.9163862, 42.9163862, 43.6230323, 43.0797156, 44.0805434, 43.5499749, 44.4908172, 44.0805434, 44.3522065, 44.3113573, 43.5499749, 44.0805434, 43.5499749, 44.0805434, 43.5824734, 44.4097069, 43.5499749, 44.0805434, 43.5499749, 43.9324855, 43.7666507, 43.5499749, 45.4646985, 44.0805434, 43.5499749, 44.4908172, 43.5499749, 43.9324855, 44.4908172, 44.9138532, 44.3113573, 43.5499749, 44.0805434, 35.0456297, 35.0456297, 35.0456297, 35.0456297, 35.0456297, 35.0456297, 35.0456297, 35.0456297, 35.0456297, 35.0456297, 35.0456297, 35.0456297, 36.5297706, 36.162839, 36.162839, 36.162839, 36.11934598336451, 36.11934598336451, 35.9606384, 35.9606384, 35.9606384, 35.9606384, 35.9606384, 35.9606384, 35.9606384, 35.9606384, 35.9606384, 35.9606384, 35.9606384, 35.9606384, 35.9606384, 35.9606384, 35.9606384, 35.9606384, 35.9606384, 35.9606384, 35.9606384, 35.9606384, 35.1495343, 35.1495343, 35.1495343, 35.1495343, 35.1495343, 35.1495343, 35.1495343, 36.11934598336451, 36.11934598336451, 36.11934598336451, 36.1658899, 36.1658899, 36.1658899, 36.1658899, 36.1658899, 36.1658899, 36.1658899, 36.1658899, 36.1658899, 36.1658899, 36.1658899, 36.1658899, 36.1658899, 36.1658899, 36.1658899, 36.1658899, 36.1658899, 36.1658899, 36.1658899, 36.1658899, 36.1658899, 36.1658899, 36.1658899, 36.1658899, 36.1658899, 36.1658899, 36.1658899, 36.5964948, 36.5964948, 36.3134397, 36.548434, 36.5964948, 36.3134397, 36.3134397, 36.3134397, 36.548434, 36.5964948, 36.5964948, 36.1956343, 36.2942722, 35.608670794006535, 35.7564719, 35.8585328, 35.7564719, 35.8681455, 35.6150716, 35.6150716, 36.4514343, 36.3047735, 35.9258986, 35.9522852, 35.297948365480146, 35.1556451, 36.33183758018426, 35.6145169, 44.810879, 44.4906054, 44.3378343, 43.2911853, 42.859526, 43.9695091, 44.6439391, 43.8909001, 44.1900592, 44.5336666, 44.01553, 44.3806065, 43.7981195, 44.4014457, 44.5489422, 44.9508795, 44.1169201, 43.5884026, 44.5373407, 44.4758825, 42.8509152, 42.8781345, 44.01553, 44.5373407, 43.6106237, 43.6489596, 44.4758825, 44.5373407, 43.2984078, 43.6135002, 43.6221108, 43.6135002, 43.6221108, 45.1757547, 43.6135002, 44.911006, 43.6135002, 43.6221108, 43.5407172, 43.6954424, 47.6776832, 47.7179578, 43.6135002, 43.6026976, 43.6135002, 46.7323875, 43.4665809, 48.6913257, 48.3054806, 33.4222685, 43.6135002, 42.5990714, 44.911006, 48.30002500224318, 46.7323875, 43.5407172, 47.4740945, 42.8713032, 47.6776832, 43.6135002, 42.8713032, 47.7179578, 43.6221108, 47.6062095, 46.7323875, 43.6807403, 44.911006, 43.6807403, 47.7179578, 46.7871252, 42.8713032, 47.6776832, 43.4665809, 43.6135002, 43.42679507570621, 46.1523849, 47.6776832, 42.4815791, 47.4740945, 43.6807403, 43.6221108, 43.6135002, 43.6026976, 46.0484923, 43.6135002, 41.5933696, 41.1306041, 32.4609764, 41.39758001675841, 41.7533819, 40.0455918, 39.7683765, 39.165325, 39.7683765, 41.6797578, 41.7075394, 41.5833688, 37.9747644, 39.7683765, 41.64386786839968, 41.6105938, 38.0140589, 41.6833813, 41.4169806, 39.8022653, 41.4828144, 41.6619927, 39.7683765, 39.74743133131512, 41.1306041, 39.165325, 41.5822716, 40.1933767, 39.7683765, 41.4569936, 32.4609764, 41.6819935, 39.7683765, 41.1306041, 40.4167022, 41.1306041, 41.4500356, 39.6136578, 39.7683765, 37.9747644, 38.2856247, 33.4709702, 41.522022, 38.2856247, 40.4167022, 40.0455918, 39.2072708, 39.7683765, 38.2775702, 38.84116289151349, 41.6833813, 34.3754359, 41.7075394, 41.1306041, 39.7683765, 39.5208818, 39.4667034, 40.4167022, 41.5644798, 40.486427, 41.1306041, 39.7683765, 39.165325, 41.522022, 41.675328, 41.522022, 41.4942021, 32.4609764, 44.8011821, 43.65737, 43.65737, 44.4492446, 44.5928394, 43.65737, 45.0668721, 43.65737, 44.8011821, 43.5009176, 44.2300698, 43.9106353, 43.4086955, 43.65737, 44.100351, 44.100351, 44.7650618, 43.885632, 43.65737, 44.8831249, 43.9145244, 44.7967379, 44.2098011, 43.8764706, 43.971739, 43.65737, 43.8006354, 43.65737, 43.2659168, 44.3106241, 43.65737, 44.4139662, 43.65737, 47.2586502, 43.9145244, 44.1103479, 44.5434095, 43.8523046, 43.65737, 43.65737, 43.65737, 44.8011821, 44.4259092, 43.5025361, 44.8011821, 43.5173066, 43.6884112, 43.65737, 44.238682, 43.8570242, 43.65737, 44.4492446, 45.3361624, 44.38924, 44.2859022, 44.1036915, 44.38924, 43.65737, 43.65737, 44.0978509, 44.8606355, 44.7150773, 43.8570242, 44.5520105, 44.8831249, 43.65737, 44.7967379, 43.6770252, 43.9145244, 43.76533, 43.5781391, 44.1281362, 46.8714315, 44.2139587, 43.962853, 44.0953569, 44.8831249, 44.7825642, 44.0350791, 43.65737, 44.2114665, 43.65737, 43.9906261, 43.9311907, 44.8011821, 43.65737, 43.65737, 44.0978509, 43.8570242, 44.3036899, 44.404232, 43.3220301, 44.3617419, 43.0834222, 44.6706157, 45.2869937, 43.65737, 44.5520105, 43.0834222, 43.6770252, 43.4925843, 45.583848, 44.0520691, 43.8376221, 45.3840077, 44.7748748, 44.5645659, 44.0581728, 45.5234515, 46.1878841, 45.8640034, 45.5234515, 44.2726203, 44.0520691, 44.0520691, 45.4187005, 44.0581728, 45.5234515, 44.0520691, 44.0520691, 45.2895655, 46.1878841, 45.3733428, 44.9428975, 45.5234515, 44.0520691, 45.5234515, 45.4206749, 45.3733428, 44.0001313, 44.0520691, 44.0520691, 45.5234515, 45.839855, 45.5234515, 45.3733428, 44.0462362, 45.5234515, 45.52501004579744, 44.57984, 44.0520691, 45.4206749, 45.5234515, 44.0520691, 45.5234515, 45.3001179, 44.0581728, 44.3112312, 39.952335, 39.952335, 39.952335, 39.952335, 40.0378755, 39.952335, 40.0873329, 39.952335, 40.3356483, 40.2453741, 40.2412035, 40.0067786, 40.3642728, 40.3642728, 40.0064958, 40.688432, 39.952335, 40.2737002, 40.793395, 40.2859239, 39.952335, 40.4406248, 40.3211808, 40.4406248, 40.4406248, 40.4406248, 40.4406248, 40.4406248, 42.1292241, 41.41248, 42.1292241, 40.9490552, 42.6411438, 43.6019166, 40.1965018, 40.6387141, 40.7576601499703, 42.8864468, 42.9522855, 40.7656539, 42.6284848, 40.9792645, 40.84985217202898, 40.7142692, 40.64548, 42.8864468, 41.0550969, 42.8864468, 40.5778831, 40.9170435, 40.6520481, 41.0589855, 43.1547845, 42.2750639, 43.1547845, 40.9792645, 40.5623272, 42.8864468, 41.1184293, 42.8864468, 43.1547845, 40.7250986, 40.7237134, 40.7142692, 40.8773219, 41.2017613, 40.7142691, 42.4406284, 43.1547845, 41.9270367, 40.7237134, 41.0634299, 42.8864468, 40.7576601499703, 40.9170435, 43.1009031, 40.1923357, 43.1706128, 40.66312, 43.8386732, 42.8864468, 42.6284848, 40.9167654, 42.8864468, 40.7576601499703, 43.1547845, 42.8656325, 40.7720458, 41.9950919, 42.0509242, 40.6387141, 40.0978929, 40.6847222, 43.1547845, 40.6847222, 40.7576601499703, 42.0897965, 42.8689552, 43.0481221, 29.7632836, 29.4241219, 30.267153, 30.267153, 30.267153, 29.7632836, 30.3118769, 31.549333, 30.9471278, 30.35862, 30.6743643, 30.267153, 32.7830556, 29.7632836, 29.3930129, 32.3204226, 32.7830556, 32.9573449, 32.7830556, 32.3512601, 29.7632836, 33.1976164, 29.4241219, 30.267153, 32.7830556, 29.4607876, 29.3013479, 29.7632836, 30.267153, 30.267153, 32.912624, 30.267153, 29.7632836, 33.639200347139145, 29.4241219, 32.912624, 30.267153, 30.2093794, 32.725409, 30.267153, 29.8832749, 32.725409, 30.627977, 29.7857853, 30.267153, 32.7830556, 32.725409, 29.4241219, 30.2663768, 32.4299286886598, 30.267153, 29.7632836, 32.9345701, 29.4241219, 30.3118769, 29.4291304, 32.4487364, 29.4607876, 29.5821811, 30.267153, 32.3512601, 32.8140177, 29.7632836, 28.123415643482907, 30.159456, 27.4989278, 26.052311, 28.0199, 27.9475216, 30.3321838, 29.6516344, 27.6386434, 29.894691, 27.9475216, 30.3321838, 27.90979, 26.13527567132018, 26.2378597, 27.90979, 26.3586885, 26.271192, 28.3936186, 28.1939007, 27.3364347, 29.894691, 30.3321838, 25.10152, 27.9475216, 28.0394654, 28.123415643482907, 26.3586885, 28.5383355, 28.3861159, 26.621679885115643, 30.4382559, 27.3364347, 26.5628537, 28.5999998, 28.8830452, 28.32055, 27.9475216, 26.9342246, 28.32055, 25.7742658, 28.902479, 26.5253491, 27.9475216, 27.5214269, 28.5652787, 27.9908529, 28.123415643482907, 27.4989278, 28.123415643482907, 28.5383355, 28.5999998, 30.4382559, 30.3935337, 28.0199, 30.2946859, 26.9297836, 29.6516344, 28.4586118, 28.0652975, 24.9242995, 26.621679885115643, 26.3586885, 30.4382559, 30.4382559, 30.3821438, 28.123415643482907, 30.2946859, 28.810823, 28.0222435, 30.421309, 26.1223084, 28.0836269, 28.7030519, 30.3321838, 30.3821438, 29.1871986, 28.0836269, 30.3321838, 24.9242995, 25.7742658, 27.3364347, 30.6696818, 25.10152, 28.0780718, 30.4382559, 27.9475216, 26.1223084, 26.1223084, 27.7980814, 26.100370910203456, 30.421309, 25.8195424, 25.4687224, 30.4382559, 27.4989278, 28.8024918, 26.14234, 29.0258191, 26.5253491, 28.5383355, 27.6386434, 26.0112014, 28.5383355, 29.2858129, 28.123415643482907, 27.816415, 30.421309, 29.028318, 28.5999998, 28.6122187, 26.621679885115643, 30.4382559, 30.42059, 26.3586885, 27.7691937, 26.13527567132018, 28.6611089, 28.2441768, 28.5383355, 28.2489016, 26.14234, 30.3321838, 28.5383355, 27.4467056, 28.1461248, 26.4614625, 27.3364347, 27.81993, 30.3321838, 28.5383355, 27.9475216, 27.9475216, 28.123415643482907, 27.9475216, 27.9475216, 25.7742658, 26.9681123, 25.7742658, 25.72149, 29.2858129, 28.01888, 30.2946859, 29.6516344, 27.9475216, 28.1461248, 28.123415643482907, 30.3321838, 27.6386434, 25.10152, 30.3321838, 28.1939007, 25.7742658, 30.4015879, 27.9475216, 30.2946859, 33.3806716, 33.660109, 30.9712979, 34.0234337, 34.2073196, 32.0835407, 33.5670562, 33.960948, 34.0234337, 32.4487877, 33.7489954, 34.8461948, 34.0231553, 33.7489954, 34.8461948, 33.692765426101694, 33.952602, 33.692765426101694, 29.6516344, 33.3967829, 32.8406946, 33.7489954, 33.7489954, 32.0835407, 32.1462643, 33.7489954, 33.8081608, 32.8406946, 33.7489954, 33.5801103, 33.7489954, 33.952602, 34.1014873, 33.4709702, 33.7489954, 33.952602, 33.4709702, 33.7489954, 32.0835407, 31.1499528, 33.9562149, 32.0835407, 33.960948, 33.7489954, 33.960948, 32.4609764, 30.9712979, 33.7489954, 30.9712979, 33.771494, 33.039291, 33.7489954, 21.957069, 21.2716667, 21.39994, 20.76462, 19.64016, 19.64016, 20.87429, 21.8970807, 20.51333, 21.9758333, 19.72991, 20.78785, 20.51333, 20.51333, 38.5978, 40.1105875, 41.5733669, 38.5200504, 41.850033, 39.1330967, 37.1511655, 38.78394, 41.850033, 41.850033, 41.850033, 39.8017171, 41.5119761, 41.8875281, 40.6936488, 41.8097533, 37.7644952, 39.9753144, 41.850033, 42.1211364, 41.7697533, 40.7855955, 41.6572562, 42.263079, 41.15376, 41.7605849, 41.5261437, 41.8050314, 41.6975304, 41.850033, 39.8017171, 37.8883846, 42.2711311, 41.9750288, 41.850033, 42.2411344, 38.78394, 39.8403147, 41.850033, 39.8403147, 41.850033, 41.8661403, 41.850033, 39.1200418, 41.52519, 41.8994745, 40.7472566, 38.73525362374768, 41.8500284, 39.8017171, 41.6902778, 41.4444791, 38.6106042, 41.8794758, 42.0333623, 41.850033, 41.7689207, 41.8505874, 42.1539141, 41.5428123, 38.5978, 40.4592076, 41.6269745, 42.35182910358377, 41.4480902, 39.8403147, 41.8089191, 41.8158668, 41.5733669, 42.1269692, 38.8058064, 42.1900249, 40.0117151, 42.4789098, 41.850033, 41.5119761, 41.850033, 42.3147436, 37.9725501, 41.850033, 38.3358857, 41.7605849, 41.850033, 41.7469749, 41.850033, 38.5978, 40.6936488, 40.9478158, 41.9750288, 40.2169845, 40.1953106, 40.4842027, 39.8644903, 41.8850317, 42.3147436, 40.9478158, 42.2789117, 41.850033, 42.3794586, 38.2117173, 42.3444664, 40.4842027, 41.4480902, 42.1514146, 39.611146, 42.0914152, 41.8897519, 42.0697509, 41.5200305, 41.850033, 42.333355, 41.6475306, 41.850033, 41.850033, 41.850033, 41.8050314, 41.7519754, 37.7644952, 40.0278116, 41.850033, 41.52519, 42.3636331, 41.5894753, 41.850033, 41.8850317, 38.4544444, 41.850033, 38.8906038, 38.6703267, 41.850033, 41.8850317, 41.8850317, 41.5647575, 41.850033, 39.16128, 41.850033, 41.6828074, 42.0411414, 38.8106075, 41.8875281, 41.5933696, 41.850033, 41.850033, 41.850033, 41.673642, 42.2711311, 41.5572567, 41.5094771, 41.35704522008721, 41.5067003, 38.8114364, 38.5978, 40.1105875, 41.4294753, 38.78394, 42.1976889, 41.850033, 41.850033, 37.9100505, 42.1655801, 37.8883846, 42.1680796, 42.3147436, 41.9558637, 42.2589122, 41.7469749, 41.850033, 41.850033, 41.5733669, 42.2119684, 39.8017171, 41.2505881, 38.0114393, 41.8875281, 38.3358857, 38.5978, 42.0411414, 41.6411409, 42.263079, 40.054753, 38.9970768, 38.6064519, 42.0333636, 41.850033, 42.2711311, 41.850033, 42.1655801, 41.5094771, 41.6269745, 41.850033, 41.7958639, 38.1231053, 41.850033, 41.5200305, 42.3794586, 41.9125286, 42.3636331, 39.39298, 38.9716689, 37.6922361, 39.0483336, 37.0758952, 38.9716689, 39.0483336, 38.8402805, 37.7941041, 38.9822282, 39.0694514, 37.6922361, 38.8791783, 37.7527982, 39.4561178, 37.4108841, 38.9716689, 37.9716898, 39.0094539, 38.9716689, 37.6300146, 39.0483336, 37.6922361, 39.0483336, 39.0911161, 37.4108841, 39.7686055, 38.9716689, 37.6922361, 38.9536174, 38.8791783, 38.9536174, 39.1836082, 39.0483336, 37.6922361, 39.1325375, 39.0611154, 39.0483336, 38.3327935, 38.8813958, 37.6922361, 38.0608445, 39.0277832, 39.0483336, 39.1836082, 37.6922361, 38.3585535, 39.0483336, 38.9433372, 37.7776428, 37.6922361, 38.9716689, 31.00518, 29.9546482, 30.3976973, 29.9546482, 31.12478, 31.7607195, 30.3582506, 29.9546482, 29.9546482, 30.213091663685034, 29.9546482, 32.5159852, 32.5093109, 30.2385294, 30.50463, 29.9546482, 32.5251516, 31.3112936, 29.9546482, 29.404820780857822, 29.9546482, 29.9546482, 30.3582506, 32.5093109, 30.147146, 29.9546482, 29.9546482, 29.9546482, 30.44332, 32.5251516, 29.9546482, 29.9546482, 30.44332, 29.5957696, 30.44332, 31.3112936, 29.9546482, 32.5232053, 29.9546482, 39.4037147, 39.6528654, 39.0839973, 39.5359406, 39.6417629, 39.4142688, 38.9906657, 39.4998282, 38.3365033, 39.530946, 39.30554235214238, 39.6978871, 39.1434406, 38.4106791, 39.4142688, 39.2903848, 39.6578773, 39.1806623, 38.8403909, 38.3226154, 39.2903848, 39.0017772, 38.396782, 39.0839981, 38.9806679, 39.6006523, 39.2903848, 39.2903848, 39.6528654, 39.3201074, 38.7851173, 38.3606736, 39.6689941, 39.5353831, 38.3365033, 39.6720536, 39.4142688, 39.5689895, 38.97859, 38.9559442, 39.3762145, 39.2903848, 38.6862299, 39.2398292, 38.6159533, 39.2398292, 39.5492792, 39.30554235214238, 39.4142688, 39.5359406, 39.5787164, 39.0992752, 39.5753791, 39.4142688, 39.2506633, 39.1531628, 39.3109356, 39.2673284, 39.6067789, 39.4142688, 39.3762145, 39.4142688, 39.2903848, 38.5403996, 38.8040042, 39.2903848, 39.4142688, 39.2903848, 39.1870554, 39.2903848, 38.6245628, 39.2673284, 39.3342744, 39.5753791, 38.42260804271403, 39.2903848, 39.30554235214238, 39.3762145, 39.4142688, 38.3462353, 39.6048253, 39.0839973, 39.30554235214238, 39.4195499, 38.9906657, 39.7089937, 39.3142682, 39.6237094, 39.4142688, 38.9559442, 39.2903848, 38.3876168, 38.9906679, 39.11733, 39.2903848, 39.6417629, 39.6067789, 39.1434406, 39.2903848, 39.2903848, 39.3837187, 38.8040042, 45.2332985, 44.9799654, 44.9799654, 45.3038538, 43.6666296, 44.6496868, 44.3124626, 45.1077433, 45.5649647, 44.9444101, 44.7980186, 44.8041322, 44.5071858, 44.9444101, 44.9799654, 45.5607986, 47.97378290261454, 46.7832731, 45.0846885, 44.9866298, 44.9444101, 46.7832731, 44.9132965, 48.358126, 44.9799654, 47.0227111, 46.7832731, 44.4294089, 44.9444101, 45.8852397, 44.9799654, 44.9444101, 44.9799654, 44.9799654, 44.8585738, 44.9799654, 44.9799654, 46.7832731, 44.9444101, 44.0216306, 43.6199639, 45.1219075, 44.9799654, 44.9799654, 44.5432966, 44.0216306, 43.6666296, 46.5205224, 45.1602442, 45.1719084, 46.7832731, 45.1607987, 44.4582983, 44.9799654, 44.9799654, 44.9799654, 46.3433005, 44.0216306, 46.7832731, 44.6496868, 45.0563558, 44.15906, 48.6129906, 44.0507937, 44.0216306, 45.0105194, 45.3324647, 44.9799654, 44.15906, 44.9799654, 44.4388525, 45.3055202, 45.0724642, 45.5607986, 44.9444101, 44.9799654, 44.4021892, 48.7744263, 44.9799654, 46.79913358700017, 45.3055202, 44.9799654, 44.2971832, 45.2627428, 44.7433008, 44.9482979, 44.9444101, 44.9799654, 43.7207974, 43.6541362, 44.9700118, 44.4582983, 45.4557973, 45.8260672, 44.5069113, 44.9799654, 45.3735757, 45.0096869, 44.9799654, 44.9799654, 47.7504469, 44.9444101, 44.8507957, 45.032187, 38.6272733, 39.2461138, 37.215326, 38.6272733, 38.6272733, 38.6272733, 36.6493219, 38.6272733, 39.0997266, 39.0997266, 39.0997266, 38.9517053, 38.9517053, 38.6272733, 39.0997266, 39.0997266, 39.0997266, 38.6272733, 39.0086171, 39.0997266, 38.6272733, 38.78394, 38.7442175, 38.9517053, 38.81144, 37.215326, 38.8106075, 39.0997266, 38.6272733, 38.6272733, 39.0997266, 38.1135945, 39.7436184, 38.9517053, 37.215326, 38.5492205, 38.2206101, 38.5025537, 38.8106075, 38.6272733, 38.6272733, 37.215326, 38.789217, 38.7131073, 38.6272733, 38.8106075, 38.5289415, 39.3583539, 38.9517053, 38.6272733, 38.6272733, 38.6125521, 38.7131073, 37.215326, 38.6272733, 39.0997266, 38.8003294, 39.0997266, 38.78394, 38.6272733, 38.78394, 38.6272733, 38.6272733, 47.9252568, 46.8771863, 46.8771863, 46.8771863, 46.8771863, 46.8083268, 47.9252568, 48.2325095, 48.2325095, 48.1469683, 47.8022412, 46.8083268, 46.8266603, 46.8266603, 46.8791756, 46.8891375, 48.2325095, 40.8000011, 40.8000011, 41.25626, 40.8000011, 42.8727833, 41.6197132, 40.8723858, 42.0530255, 41.25626, 42.5313912, 42.6833356, 40.8000011, 40.8000011, 42.0283379, 40.8000011, 40.4316782, 41.25626, 40.5861246, 42.15930937517974, 41.4297341, 40.8000011, 41.6908444, 41.25626, 41.25626, 42.2092886, 41.4363951, 41.1838878, 40.2061149, 40.4402885, 41.1838878, 41.1544433, 41.4297341, 41.1838878, 40.5067072, 40.9250123, 43.0481221, 40.1083334, 41.6033429, 41.25626, 41.25626, 40.5861246, 40.261929694586485, 40.5067072, 41.25626, 41.25626, 40.8000011, 40.8000011, 39.6862263, 39.9537291, 39.0145573, 40.7439906, 40.8859326, 41.0984301, 40.77331463824435, 39.9537291, 40.2203907, 39.769838, 39.101225, 39.8398413, 40.1784471, 40.3942754, 39.7912262, 40.3470543, 40.8403778, 39.7028923, 40.2023355, 39.4862267, 40.8528777, 40.5409367, 39.7779986, 40.9828753, 39.0826135, 39.0145573, 40.4078865, 40.6645469, 39.0826135, 38.9351126, 40.1462213, 40.5165636, 40.8750992, 39.6862263, 40.5187154, 40.8539879, 40.2203907, 39.7998356, 40.7281575, 39.9181686, 39.9562238, 39.947335, 40.8259332, 39.8381691, 40.4776044, 39.9348351, 40.8923212, 39.8440027, 40.7489898, 39.4784504, 40.8584328, 39.4020596, 38.9351126, 40.8859326, 40.4862158, 39.944285, 39.4576169, 41.0037087, 40.7439906, 39.732892, 40.0978929, 39.9526127, 40.4812157, 40.5576045, 40.8539879, 40.3042774, 39.9537291, 39.732892, 39.8915022, 41.0334307, 40.0912268, 40.2001133, 40.5123258, 40.7859331, 39.8584481, 39.1765032, 39.8773356, 40.8750992, 40.8539879, 39.686786, 40.8259332, 38.9917797, 39.8584481, 39.732892, 40.9445428, 39.9259463, 39.7915084, 39.9420626, 39.5442846, 40.4417743, 40.3470543, 40.3284403, 40.2767746, 40.1351122, 39.5592848, 40.735657, 39.0826135, 40.7312123, 39.9928898, 40.071222, 39.6365056, 39.6365056, 39.9537291, 39.9009465, 40.6834349, 40.3487181, 40.3470543, 40.3892726, 39.4576169, 40.77331463824435, 40.7409341, 40.6764911, 40.6984348, 39.9928898, 39.6365056, 39.8678912, 40.6081591, 40.3042778, 40.6584358, 39.8912248, 34.8526176, 32.7765656, 34.0007104, 32.7765656, 34.9495672, 34.8526176, 40.7607794, 40.7607794, 40.7607794, 47.7542651, 47.6062095, 47.6739882, 47.6062095, 47.0378741, 47.6062095, 47.6062095, 47.6062095, 47.6062095, 48.1987118, 48.7595529, 47.9789848, 47.7881528, 47.5673176, 47.12426615192883, 47.659664499384675, 47.5287132, 47.6062095, 47.6062095, 46.7162136, 47.2528769, 40.3931218, 47.4703768, 47.5962326, 48.1170387, 47.8106521, 46.2112458, 45.7276194, 47.6062095, 47.6739882, 47.0378741, 46.5537388, 47.55747454366985, 47.6062095, 48.421216, 47.329264, 47.6062095, 48.7595529, 48.7595529, 47.9789848, 47.6062095, 47.8209301, 45.6956723, 48.5126045, 48.9390509, 47.644611, 47.735928, 46.6020711, 47.3809335, 48.8256718, 46.41629, 47.2234523, 48.1987118, 42.4733189, 47.6062095, 47.55747454366985, 46.7312745, 46.3237423, 45.5826188, 48.2931559, 46.2856907, 47.7542651, 47.2528769, 47.1631573, 47.659664499384675, 47.7985, 47.6062095, 46.2704176, 47.6262081, 48.421216, 47.5301011, 47.6062095, 47.6062095, 47.2528769, 48.696771, 47.659664499384675, 47.1853785, 41.2366607, 48.3503647, 47.659664499384675, 48.3887143, 48.6107354, 47.735928, 47.659664499384675, 47.6062095, 45.6387281, 45.6387281, 46.2856907, 38.1040864, 48.5392813, 46.2067997, 47.6062095, 45.5870631, 47.35053513161962, 47.659664499384675, 48.7595529, 47.818479114529474, 46.2856907, 46.0645809, 47.5673176, 48.7595529, 47.6062095, 46.2067997, 47.0528789, 47.6062095, 47.2528769, 47.6062095, 47.6062095, 46.8900903, 47.6062095, 45.6387281, 48.5465695, 47.7542651, 47.6445386, 47.6739882, 47.7623204, 46.2856907, 47.659664499384675, 47.659664499384675, 47.6062095, 47.8106521, 47.6062095, 47.6062095, 41.0297826, 47.20566467668412, 48.110291717859475, 47.5403732, 47.7542651, 47.1853785, 45.2206729, 47.6062095, 47.0378741, 47.6062095, 46.1381677, 47.4473205, 46.3345443, 47.659664499384675, 47.0342629, 47.7673923, 45.5826188, 45.6387281, 47.20566467668412, 48.1170387, 47.659664499384675, 47.4220568, 47.6062095, 45.6387281, 47.3332023, 45.6387281, 46.7162136, 47.2528769, 47.6062095, 47.6739882, 45.6387281, 47.55747454366985, 42.5291439, 41.2366607, 46.2031656, 47.2042681, 48.110291717859475, 47.6062095, 48.7595529, 46.0645809, 48.8464992, 47.2528769, 47.6062095, 47.6062095, 48.1796277, 47.735928, 47.9789848, 47.8223137, 46.2751111, 47.659664499384675, 47.9789848, 47.6417664, 48.0517637, 47.6739882, 47.6814876, 47.7573202, 48.110291717859475, 47.2031566, 46.6020711, 47.9789848, 47.6062095, 48.07963, 47.6062095, 47.0337366, 47.7542651, 46.8900903, 47.2234523, 48.07963, 47.7423218, 47.6062095, 46.6020711, 47.6062095, 47.4828776, 46.1381677, 47.2528769, 47.3073228, 47.9789848, 47.0342629, 45.6387281, 46.3043015, 47.7985, 46.47733, 47.1853785, 48.2553867, 41.0530743, 45.6387281, 46.0645809, 47.7423218, 47.7768431, 48.2553867, 47.735928, 46.0645809, 48.015098, 47.0378741, 47.4828776, 47.5223465, 47.9789848, 41.2366607, 46.2112458, 47.8206605, 40.8075391, 48.1987118, 46.2395793, 45.6387281, 47.818479114529474, 45.7809491, 47.6062095, 46.6020711, 46.6020711, 47.189006, 46.6741626, 47.6062095, 43.0389025, 43.7508284, 43.8013556, 44.0247062, 43.0730517, 43.0730517, 46.0130065, 44.2619309, 44.519159, 44.0247062, 44.1858193, 41.9146, 43.0494572, 43.0605671, 43.0389025, 45.1002389, 44.6688524, 42.859997, 44.8755183, 43.1116731, 44.811349, 43.0389025, 44.9591352, 43.0972174, 44.4508079, 43.8013556, 43.0389025, 43.0389025, 43.0389025, 43.1144385, 44.9535753, 43.0389025, 43.060842, 44.5235792, 45.0649933, 42.6727927, 43.0389025, 46.7207737, 43.0389025, 42.9405711, 43.2966716, 44.0247062, 44.0247062, 44.2529937, 42.5650143, 43.0730517, 43.0389025, 43.0730517, 43.008608, 43.6521958, 44.519159, 43.3872247, 44.9369054, 43.0730517, 44.811349, 43.165548, 43.0389025, 44.811349, 44.1858193, 43.1919373, 44.8755183, 44.2619309, 43.105008, 43.0389025, 43.0389025, 45.8713419, 43.9582995, 43.0389025, 42.8144473, 43.0730517, 45.1194091, 43.1919373, 45.1244108, 44.0394263, 43.0730517, 44.4563579, 43.0389025, 43.1582298, 43.8013556, 43.6274794, 42.6894392, 42.5847425, 42.5847425, 42.7261309, 45.3509016, 43.180397506977286, 44.9591352, 45.6269162, 42.6827885, 43.0730517, 45.8963415, 44.0288803, 44.8613563, 42.5847425, 44.2529937, 42.8336205, 43.7508284, 45.0463807, 46.1216326, 46.50974, 41.9146, 44.8341639, 44.5235792, 44.519159, 44.7891468, 43.8333269, 43.0389025, 46.7207737, 44.519159, 45.9318981, 43.0813888, 43.0389025, 45.2591275, 43.0389025, 43.0730517, 43.0389025, 43.0166806, 42.990831, 43.0730517, 43.0730517, 44.8755183, 38.3498195, 38.3498195, 38.2812203, 39.4300996, 39.4914864, 38.9259397, 39.97475608155399, 38.9259397, 38.0528884, 39.629526, 37.7781702, 38.0528884, 37.8017879, 39.445649, 39.629526, 39.629526, 39.2667418, 38.4133491, 39.2667418, 39.6586918, 39.5298059, 37.3662293, 38.8669949, 38.4192496, 39.4850848, 37.6581725, 39.97475608155399, 41.1399814, 41.1399814, 41.65949614084745, 44.249168899019125, 44.7971939, 41.1399814, 44.3483072, 41.1399814, 41.1399814, 41.1399814, 44.5263422, 44.249168899019125, 43.5007599, 42.866632, 43.917782286748114, 42.833014, 41.1399814, 44.7971939, 43.917782286748114, 44.5263422, 44.5263422, 43.917782286748114, 43.917782286748114, 41.4549621, 41.2682794, 44.0341263, 42.8666103, 44.7538408, 42.866632, 36.207241, 35.8880796, 36.7080849, 35.6869752, 35.6869752, 35.0844909, 35.0844909, 35.0844909, 35.0844909, 35.0844909, 35.0844909, 35.0844909, 35.0844909, 35.0844909, 35.0844909, 35.0844909, 35.2378197, 41.3890052, 42.6792602, 42.8125913, 41.2834563, 42.1584324, 42.3584308, 42.3584308, 39.5753791, 42.13565, 36.3728538, 36.3728538, 36.0625795, 36.0625795, 36.0625795, 36.0625795, 36.0625795, 36.0625795, 35.3859242, 36.2297936, 34.5317, 34.7464809, 34.7464809, 34.7464809, 34.7464809, 34.7464809, 34.7464809, 34.7464809, 34.7464809, 34.7464809, 34.7464809, 35.1509173, 35.2920325, 36.3320197, 36.1867442, 36.1867442, 33.4355977, 32.2217429, 33.3528264, 32.2217429, 35.1980671, 35.70406832401879, 35.3995503368607, 32.2217429, 32.2217429, 35.1980671, 33.4222685, 33.5386523, 31.4689877, 33.5092103, 33.414768, 33.5092103, 32.2217429, 35.1980671, 33.414768, 33.4483771, 34.599844436687825, 35.1980671, 35.1980671, 33.4483771, 31.4689877, 33.5805955, 33.18586574722176, 33.4483771, 36.517221, 33.4353199, 33.18586574722176, 33.5092103, 33.414768, 34.7711319, 33.4483771, 32.2217429, 31.7128683, 33.5092103, 35.1980671, 33.4483771, 63.8569444, 58.3019444, 61.2180556, 61.59941, 58.3019444, 55.3418, 61.5809, 64.8377778, 61.59941, 61.2180556, 60.48988, 61.2180556, 62.3216667, 58.3019444, 58.3019444, 62.30208, 60.9425, 61.2180556, 59.6425, 59.23595, 57.05315, 59.6425, 64.8377778, 58.7586, 60.6902778, 60.4877778, 61.2180556, 59.4583333, 57.78852, 61.5809, 61.59941, 61.59941, 61.2180556, 61.3213889, 61.2180556, 61.2180556, 64.56341, 60.10426, 53.94073, 59.4583333, 60.4877778, 61.2180556, 61.5005556, 37.7249296, 37.8043722, 37.6818745, 37.8715926, 37.6688205, 37.7249296, 37.8043722, 37.7249296, 37.6818745, 37.5482697, 37.8715926, 37.8715926, 37.5482697, 37.8043722, 37.8043722, 37.8043722, 37.8715926, 37.8715926, 37.6818745, 37.8715926, 37.8715926, 37.8043722, 37.6818745, 38.4818531, 39.7284945, 39.7284945, 39.51394, 39.8121058, 39.7284945, 39.7284945, 39.7284945, 38.2554729, 37.9779777, 37.9063131, 37.8215929, 38.0279762, 37.9063131, 37.9157581, 37.7799273, 37.9779777, 37.88687, 38.9332411, 38.9332411, 38.88722, 38.6946259, 38.7296252, 38.7382366, 38.7382366, 38.9332411, 38.6857367, 38.7296252, 38.9332411, 38.7296252, 38.9332411, 38.6946259, 38.9332411, 37.7696522, 38.9332411, 36.7477272, 36.7477272, 36.7477272, 36.7477272, 36.7477272, 36.7477272, 40.5981867, 40.8020712, 40.8829072, 40.8665166, 40.9465152, 37.3635404, 35.3732921, 35.3732921, 35.3732921, 35.7546732, 35.3732921, 35.1321878, 35.3732921, 36.3007835, 36.3274502, 38.9779531, 38.7524045, 39.0429506, 33.8358492, 34.0686208, 34.11176346103805, 34.0522342, 34.11176346103805, 34.11176346103805, 34.6980406, 33.7358518, 33.9164032, 34.1336186, 33.8358492, 34.0966764, 33.8358492, 34.0522342, 33.9191799, 34.0522342, 34.1808392, 34.2572252, 34.0552886, 34.1388962, 34.6980406, 33.8491816, 34.1336186, 34.11176346103805, 34.11176346103805, 34.0522342, 34.1069527, 33.8358492, 34.0522342, 34.0522342, 34.1480621, 34.0519548, 33.8358492, 34.0686207, 34.0552886, 33.8358492, 33.8358492, 33.8358492, 33.8044614, 33.8536269, 33.9616801, 34.11176346103805, 34.5794343, 34.11176346103805, 37.3279997, 38.1074199, 38.1074199, 37.9871455, 37.9340915, 38.1074199, 37.9735346, 37.9735346, 36.5785462, 39.0090663, 39.43362381528912, 39.445723, 37.3021633, 37.6238225, 37.7886451, 36.6002378, 36.6002378, 37.9735346, 36.6002378, 36.5552387, 38.5787966, 38.2971367, 60.29321, 38.2971367, 38.2971367, 38.2971367, 38.2971367, 38.2971367, 39.2190608, 39.3860184, 39.327962, 39.2190608, 39.26173, 39.327962, 39.26173, 34.11176346103805, 33.6411316, 33.6411316, 33.8702924, 33.8722371, 33.7877945, 33.7455731, 33.7455731, 33.7877945, 33.6411316, 33.640855, 33.4269728, 33.7455731, 34.11176346103805, 33.7877945, 33.660297, 33.6411316, 33.6694649, 33.7458511, 33.7458511, 33.7877945, 38.8965654, 38.7907339, 38.8965654, 38.891565, 38.8965654, 38.8212889, 38.7907339, 38.8965654, 38.7907339, 38.891565, 38.78046315425049, 39.7810095, 40.3062736, 39.93682, 33.4936391, 33.9533487, 33.739744, 33.4936391, 33.4936391, 33.9255713, 33.8200183, 33.6680772, 33.72255, 33.5539143, 33.5539143, 33.9533487, 33.8752935, 33.4936391, 33.9311257, 33.9533487, 33.7400209, 33.9533487, 33.5539143, 33.4936391, 33.4936391, 33.72255, 33.8302961, 33.8752935, 33.728354, 33.4936391, 33.9533487, 33.4936391, 33.4936391, 33.9533487, 33.8752935, 33.8752935, 33.8752935, 33.4936391, 33.9533487, 33.9533487, 33.4936391, 33.937517, 38.5815719, 38.5815719, 38.5815719, 38.5815719, 38.5815719, 38.5890723, 38.5890723, 38.5815719, 38.5815719, 38.4087993, 38.4087993, 38.5890723, 38.5815719, 38.5815719, 38.5815719, 38.5815719, 38.5815719, 38.6785145, 38.5815719, 38.78046315425049, 38.2546373, 38.5815719, 38.5815719, 38.5815719, 38.5815719, 38.4087993, 38.5815719, 34.0739016, 34.55168825211584, 34.033625, 34.4263886, 34.0775104, 34.0555693, 34.1063989, 34.0555693, 34.033625, 34.0122346, 34.1063989, 34.2483396, 34.09751, 34.1063989, 34.4263886, 34.5008311, 34.0555693, 34.09751, 34.0775104, 34.0555693, 34.09751, 34.1063989, 34.0775104, 34.1063989, 34.1063989, 34.09751, 34.55168825211584, 38.1301968, 38.1301968, 38.1301968, 38.1301968, 38.1301968, 37.73987, 35.5641381, 35.6266369, 35.6266369, 35.2827524, 35.2827524, 37.654656, 37.5202145, 37.654656, 37.5071591, 37.5202145, 37.4852152, 39.4032192, 37.2638334, 37.5027185, 37.4635519, 34.4358295, 34.613597, 34.613597, 34.3988838, 34.4358295, 34.4208305, 34.5958201, 34.4208305, 37.3393857, 37.1305012, 37.3393857, 37.3393857, 37.1305012, 37.3393857, 37.3393857, 37.354108, 37.3393857, 37.3393857, 37.3393857, 37.3393857, 37.3393857, 37.3393857, 36.91030847870616, 37.3393857, 37.3393857, 37.226611, 37.0057816, 36.9880057, 36.9741171, 36.971895, 36.9741171, 36.971895, 36.9741171, 37.0510595, 36.9741171, 41.0046076, 40.5865396, 40.5865396, 40.5865396, 41.2660872, 41.4568065, 41.4226498, 38.2493581, 38.2493581, 38.2382474, 38.1040864, 38.6104658, 38.4404675, 38.4404675, 38.4404675, 38.232417, 38.4404675, 38.4404675, 38.5471327, 38.232417, 38.4404675, 38.4404675, 38.4404675, 38.5471327, 38.5018575, 38.4404675, 37.4946568, 37.6390972, 37.5949316, 34.2694474, 34.2694474, 34.285558, 34.2163937, 34.2163937, 34.2694474, 34.2694474, 34.1705609, 34.2694474, 34.2694474, 34.2694474, 34.2694474, 34.2694474, 34.1458389, 34.1705609, 38.5815719, 38.5449065, 38.5815719, 38.5449065, 38.5449065, 38.5449065, 38.5815719, 38.8048356, 38.0293059, 37.798754, 38.0293059, 38.0293059, 38.0293059, 38.0695815, 38.0293059, 37.6047745, 38.8048356, 38.8048356, 37.3387756, 38.8810112826588, 38.8810112826588, 38.14991, 38.14991, 38.14991, 39.1434406, 37.2318062, 37.3343079, 37.9287494, 36.8190369, 36.8190369, 37.5059814, 37.5059814, 38.4731815, 38.4731815, 36.5859718, 38.8462236, 38.9695545, 38.9012225, 38.8237257, 38.704282, 38.704282, 38.9342776, 38.8942786, 38.8403909, 38.8951118, 38.882334, 38.882334, 38.882334, 38.7134516, 38.5995665, 38.7134516, 38.9151113, 37.0115267, 37.1231974, 37.1168053, 39.0276078, 39.1856597, 39.1856597, 39.1856597, 39.1856597, 39.1856597, 38.3031837, 38.3031837, 38.3031837, 38.3031837, 36.6612387, 37.4012074, 37.4012074, 37.7219829, 37.7219829, 37.7219829, 37.7219829, 37.0298687, 37.0298687, 37.0039921, 37.0298687, 37.7590318, 38.8992784, 38.8992784, 38.8959451, 39.1367717, 39.1156615, 39.1112168, 39.1367717, 39.0062204, 39.1156615, 39.1156615, 39.1156615, 39.1156615, 39.1156615, 39.1112168, 38.8951118, 39.1156615, 39.1367717, 39.0437192, 38.9820541, 39.1156615, 39.1156615, 39.1156615, 39.0062204, 39.1367717, 39.0437192, 38.9756654, 39.0062204, 39.0062204, 39.0062204, 39.0062204, 38.4136924, 38.7509488, 38.7509488, 38.7509488, 37.2295733, 37.2295733, 37.2295733, 42.7092397, 37.7874087, 37.7476406, 37.8904176, 37.5051429, 36.80740012178075, 36.80740012178075, 36.8468146, 36.8468146, 36.8468146, 36.8468146, 36.8468146, 36.8468146, 36.8468146, 36.8468146, 37.27008, 36.8354258, 36.8354258, 37.5502024, 37.5502024, 38.6581723, 38.7956706, 38.7509488, 38.7931699, 38.8709456, 37.5537575, 37.5537575, 37.5537575, 37.5537575, 37.5537575, 37.5537575, 37.5537575, 37.5537575, 37.5537575, 37.5537575, 37.5537575, 37.5537575, 37.5537575, 37.5537575, 37.5537575, 37.5537575, 37.5537575, 37.5537575, 37.5537575, 37.2709704, 37.2709704, 37.2276369, 37.2934681, 37.2934681, 37.2809707, 37.77309, 38.8951118, 37.77309, 38.4495688, 38.4495688, 38.4495688, 38.4495688, 38.4495688, 36.9823709, 38.4220694, 36.72836, 36.8529263, 36.8529263, 36.8529263, 36.8529263, 36.8529263, 36.8529263, 36.8529263, 36.8529263, 36.8529263, 36.8529263, 36.8529263, 36.8529263, 36.8529263, 36.8529263, 36.8529263, 39.0276078, 39.0276078, 36.791225, 39.2884381, 36.7098335, 38.0684693, 38.0684693, 37.2707022, 37.2707022, 37.2707022, 37.2707022, 45.6796526, 45.7832856, 46.872146, 46.965346, 46.872146, 46.5927122, 46.5099225, 45.6796526, 45.7832856, 46.872146, 48.0016171, 47.6935498, 48.4110757, 47.386077, 46.872146, 46.872146, 45.2683217, 45.7832856, 46.0038153, 46.3321477, 46.0038153, 45.1857782, 48.0193947, 46.5099225], \"legendgroup\": \"\", \"lon\": [-86.72819335341748, -86.00639, -86.58594, -87.7008193, -86.72819335341748, -87.5691735, -86.58594, -88.0430541, -86.72819335341748, -86.58594, -85.0007653, -86.2999689, -86.9833417, -87.5691735, -87.9033261, -85.3904889, -86.58594, -86.72819335341748, -86.8436124, -86.72819335341748, -86.58594, -88.0430541, -86.58594, -86.8163773, -88.0430541, -87.6835974, -86.979767, -86.29446, -86.58594, -86.8436004, -86.2999689, -85.3782795, -85.3782795, -86.58594, -86.58594, -88.0430541, -86.8163773, -87.677251, -86.6088756, -86.58594, -87.2775053, -86.72819335341748, -86.72819335341748, -87.2775053, -86.58594, -104.9694264, -105.1019275, -105.2210997, -105.2705456, -105.2705456, -105.2705456, -105.084423, -105.1019275, -105.2705456, -105.0166498, -104.8213634, -104.9847034, -105.2210997, -105.1019275, -104.7091322, -104.9847034, -104.9847034, -106.0433518, -104.8319195, -105.9989022, -104.7613634, -104.9847034, -105.084423, -105.0897058, -104.9847034, -105.1019275, -104.9847034, -105.1019275, -105.0166498, -104.9847034, -105.0166498, -104.9744593, -105.2210997, -105.084423, -104.9847034, -105.084423, -105.271378, -107.3400522, -104.917204, -105.0897058, -104.9847034, -105.0866504, -107.8800667, -106.0019618, -105.084423, -106.3533684, -105.5136082, -105.2705456, -105.2705456, -104.9847034, -105.1019275, -104.7091322, -108.6287055, -105.0866504, -104.9847034, -72.3761956, -72.7795419, -73.1331651, -73.18945, -72.7300945, -73.0889973, -72.9281578, -71.966462, -73.3192829, -71.9059042, -73.1167766, -71.8859054, -73.0514966, -72.6850932, -73.18945, -72.6437022, -73.4540111, -72.6850932, -72.8231552, -71.8336802, -72.4698071, -72.6212015, -72.8967684, -72.8150989, -72.9281578, -72.5025877, -72.9492703, -72.7795419, -72.57266142973738, -72.8231552, -72.275359, -73.3292834, -73.5387341, -72.6850932, -72.6850932, -73.4078968, -73.4770682, -72.8776013, -73.5387341, -73.0564953, -73.0084385, -72.7420399, -72.8967684, -73.4981792, -73.1167766, -72.9281578, -72.6850932, -72.5917554, -73.3834532, -72.8581558, -73.18945, -72.9867718, -72.4611984, -72.6392587, -72.8150989, -72.57266142973738, -72.8150989, -72.0759105, -72.7300945, -72.57266142973738, -73.1331651, -72.2081338, -72.8776013, -73.2090025, -71.0661612, -74.1723667, -75.5243682, -76.46965, -93.6091064, -95.8047286, -93.7241104, -90.6645718, -90.51569, -92.8057514, -91.94762, -93.6199402, -93.9271721, -93.6091064, -93.4910468, -90.5776367, -93.6091064, -91.1129233, -91.4168371, -91.4940604, -94.0138393, -96.4003069, -93.8802273, -95.8561276, -93.4646571, -96.4003069, -94.8605593, -90.6645718, -91.6440683, -93.6091064, -91.1449078, -93.6091064, -90.51569, -91.4054159, -95.3722103, -90.6645718, -95.7519604, -93.8802273, -93.6091064, -95.4175002, -93.2010367, -93.6007732, -93.7129997, -93.6057734, -90.51569, -93.6091064, -93.6091064, -91.4554252, -90.5776367, -95.8608333, -93.0479756, -91.6440683, -90.3434618, -94.3632916, -91.585175, -93.5574376, -91.6440683, -96.4003069, -90.6645718, -91.7060016, -95.7425056, -93.8852266, -93.4910468, -93.3793725, -92.4454654, -92.8110279, -91.6440683, -91.3151506, -93.6091064, -90.7806932, -96.4003069, -93.2010367, -91.8707335, -93.6057734, -92.64090935965085, -95.1508300608426, -92.40944988579567, -91.1129233, -93.1093708, -91.8640483, -91.7393184, -93.462157, -91.5804475, -94.18176461854742, -95.8908446, -96.1758598, -93.224741, -92.4454654, -94.18176461854742, -92.4454654, -90.5776367, -92.610742, -91.1229136, -95.15091942237915, -91.1826299, -93.6140991, -91.6440683, -91.6440683, -91.6440683, -93.732992, -94.0413443, -91.7393184, -93.6199402, -94.2071868, -90.51569, -93.6091064, -92.1786426, -93.5574376, -95.1483293, -96.1655778, -93.2210371, -85.5644033, -84.1796503, -85.68221911748951, -85.68221911748951, -84.3879946, -85.68221911748951, -84.4777153, -85.68221911748951, -84.5085537, -84.4777153, -88.350315, -84.478831, -88.6000478, -84.4777153, -85.68221911748951, -85.8591285, -84.4777153, -85.68221911748951, -85.68221911748951, -88.272201110153, -84.6041084, -84.4777153, -84.6266111, -85.68221911748951, -88.6000478, -84.6041084, -84.0520296, -84.4777153, -84.4957757, -85.82160444774996, -88.3770789, -83.7408828735352, -83.1346478, -82.8888054, -85.5872286, -85.24017, -83.20581686886989, -83.7802214, -83.0457538, -83.7802214, -83.1346478, -85.6686026, -89.5030549, -83.0457538, -90.8778821, -83.20581686886989, -91.8865417, -85.6680863, -84.8478363, -90.1848103, -83.2646624, -87.3952777777778, -83.2113192, -86.2019826, -83.88954, -88.4890092, -83.20581686886989, -86.2500066, -83.4702132, -102.0779147, -84.5555347, -86.1089301, -85.6206317, -85.5872286, -71.3614484, -83.20581686886989, -86.2500066, -85.6206317, -85.5100498, -83.1338214, -92.4988058, -85.6680863, -85.2111728, -86.2345396, -83.6874562, -85.6680863, -83.20581686886989, -83.6516063, -83.7408828735352, -88.7553294, -89.86915243348875, -88.8853078, -89.0928155, -89.2903392, -88.8278058, -88.8278058, -89.86915243348875, -89.4350519, -90.1848103, -89.86915243348875, -88.81961, -89.0928155, -91.40329, -89.1306124, -89.2903392, -89.2903392, -88.703656, -89.6314736, -89.2903392, -89.48491926712342, -88.81961, -82.554015, -82.9887477, -80.0053176, -78.8502856, -79.7919754, -80.79535941810936, -78.8866943, -80.8431268, -78.6386145, -77.9447102, -79.7919754, -80.79535941810936, -80.8431268, -75.8790835, -70.75766, -71.1203476, -119.7526886, -119.8138027, -115.137223, -115.137223, -115.137223, -115.137223, -81.47375930771435, -81.339552, -81.5190053, -82.0354225, -81.6954088, -82.1823746, -80.7645239, -80.5772928, -81.8637474, -81.7245739, -81.6954088, -81.556235, -81.556235, -81.556235, -82.2223775, -81.83569, -81.6954088, -81.5190053, -81.6445685, -81.6851271, -82.83677951827705, -81.378447, -81.6954088, -80.5542409, -80.8184166, -81.378447, -81.6954088, -81.8543026, -81.3865012, -83.4001988, -80.8181404, -81.6954088, -81.5190053, -81.812912, -81.9234726, -81.378447, -81.6954088, -81.0964856, -81.6954088, -80.9481489, -81.6954088, -82.83677951827705, -81.6954088, -82.42153604692692, -81.8595757, -81.4403898, -80.6911904, -81.4845585, -81.6954088, -81.4740054, -81.5190053, -81.440667, -81.6051221, -81.7981908, -81.93646, -82.83677951827705, -81.6954088, -81.8637474, -80.9703684, -82.5823931, -80.9703684, -81.5190053, -81.4520613, -81.339553, -81.8637474, -81.357886, -81.5190053, -82.83677951827705, -81.3312195, -81.6954088, -81.6954088, -81.4845585, -81.8637474, -81.378447, -81.9179198, -81.5190053, -81.4845585, -80.8184166, -81.6954088, -82.83677951827705, -81.5190053, -81.378447, -81.6954088, -81.6954088, -80.6495194, -81.357886, -80.7681336, -81.4845585, -80.7645239, -81.5215093, -82.5154471, -81.8637474, -81.6954088, -81.5190053, -82.0354225, -81.8393034, -81.378447, -81.1053764, -81.6954088, -81.378447, -81.9179174, -81.6954088, -81.378447, -81.6954088, -81.5190053, -81.5190053, -81.2595519, -82.3182178, -81.66112344400182, -81.7298519, -81.7415163, -81.6954088, -81.8637474, -82.0354225, -84.51439, -84.309939, -84.1246608, -84.51439, -83.919652, -84.51439, -84.1916069, -83.8285375, -84.553286, -84.51439, -84.1916069, -84.2207697, -82.7940678, -84.51439, -84.4577201, -84.309939, -84.2332718, -84.1916069, -84.51439, -83.9296526, -84.4071639, -84.1688274, -84.51439, -84.51439, -84.3982763, -84.51439, -84.4071639, -84.1988308, -84.51439, -84.1593818, -84.4004962, -84.51439, -84.51439, -84.3932734, -83.9769774, -84.2943821, -84.1593818, -84.1593818, -84.2866083, -84.51439, -84.51439, -84.51439, -83.8088172, -84.51439, -84.51439, -84.263826, -84.3982763, -84.51439, -84.51439, -84.1688274, -84.51439, -84.0529886, -84.51439, -84.0096569, -84.51439, -81.0829173, -84.3982763, -84.51439, -84.1593818, -84.309939, -83.919652, -84.2866083, -84.51439, -84.51439, -84.51439, -84.51439, -84.1916069, -84.51439, -84.0632685, -84.1916069, -84.2332718, -84.51439, -84.51439, -84.51439, -83.886874, -82.8854559, -83.2674165, -82.9987942, -82.9987942, -82.9987942, -82.8046182, -82.4723781, -82.4012643, -82.8854559, -82.9987942, -82.7535049, -82.8793446, -83.1582451, -83.3671432, -82.4012643, -82.9987942, -82.5993294, -82.4445991, -82.8121191, -82.8793446, -82.8062848, -82.9987942, -82.9987942, -82.9290696, -82.9987942, -82.5196037, -83.0929645, -82.9987942, -82.4445991, -82.9987942, -82.8107329, -83.0751869, -82.9987942, -82.9987942, -82.9987942, -82.9987942, -82.8046182, -83.0751869, -82.9987942, -83.1140771, -82.8793446, -83.067965, -83.0101843, -81.0897166, -82.9987942, -82.9987942, -82.9987942, -82.9987942, -82.8137836, -83.067965, -82.5993294, -84.51439, -82.9987942, -82.9987942, -82.9987942, -82.9987942, -82.9987942, -83.067965, -82.42153604692692, -82.9290696, -82.5196037, -82.4012643, -82.9987942, -83.017962, -82.9987942, -83.7596557, -82.1012555, -83.05702557918843, -82.1012555, -82.1012555, -82.033752, -81.4548436, -81.8531912, -82.2990401, -82.99288891030135, -82.618383, -81.4942562213119, -82.0131924, -82.0131924, -82.7899026, -84.3557802, -83.6513229, -83.1218634, -83.555212, -83.6513229, -84.553286, -83.786314, -84.6055076, -83.555212, -84.484396, -83.8543727, -83.6499321, -84.1252243, -83.555212, -84.3796729, -83.555212, -83.7129935, -80.8695287, -83.1779747, -84.62936034185161, -83.1285242, -83.555212, -84.4932862, -84.2032767, -83.8643852, -84.1416147, -83.8049353, -83.555212, -84.48113861844284, -83.76585220545537, -84.6466255, -84.628291, -83.1779747, -83.786314, -84.7619032, -83.4168702, -83.7129935, -83.1304704, -83.8643852, -97.4394777, -95.992775, -97.5164276, -97.5164276, -97.4780954, -97.5164276, -95.7908195, -95.992775, -95.7158221, -97.5164276, -95.992775, -97.5164276, -97.4780954, -95.992775, -95.992775, -97.5164276, -97.0583681, -97.4394777, -95.992775, -97.5164276, -98.2116667, -95.992775, -95.992775, -97.5164276, -95.992775, -97.3967019, -97.5164276, -95.992775, -71.38966600426784, -71.4372796, -71.3128285, -71.3825558, -71.3825558, -71.8272911, -71.4558911, -71.4128343, -71.5147839, -71.4128343, -71.3825558, -71.38966600426784, -71.2503257, -71.5147839, -71.2914388, -71.4128343, -122.7306193, -71.3825558, -71.537561, -71.1550451, -71.5014469, -98.3467455, -97.3858922, -97.3858922, -96.942555, -98.2931342, -103.2310149, -96.700327, -103.8593698, -103.2310149, -103.7651984, -96.7983877, -96.700327, -103.2310149, -96.700327, -103.2310149, -96.4678189, -103.5090786, -96.700327, -103.2310149, -96.700327, -103.575193, -103.5988057, -96.700327, -98.4864829, -103.2310149, -96.700327, -103.8593698, -96.700327, -103.575193, -103.8593698, -97.1545189, -96.7983877, -96.700327, -103.2310149, -85.3096801, -85.3096801, -85.3096801, -85.3096801, -85.3096801, -85.3096801, -85.3096801, -85.3096801, -85.3096801, -85.3096801, -85.3096801, -85.3096801, -87.3594529, -85.5016423, -85.5016423, -85.5016423, -86.64517878256372, -86.64517878256372, -83.9207392, -83.9207392, -83.9207392, -83.9207392, -83.9207392, -83.9207392, -83.9207392, -83.9207392, -83.9207392, -83.9207392, -83.9207392, -83.9207392, -83.9207392, -83.9207392, -83.9207392, -83.9207392, -83.9207392, -83.9207392, -83.9207392, -83.9207392, -90.0489801, -90.0489801, -90.0489801, -90.0489801, -90.0489801, -90.0489801, -90.0489801, -86.64517878256372, -86.64517878256372, -86.64517878256372, -86.7844432, -86.7844432, -86.7844432, -86.7844432, -86.7844432, -86.7844432, -86.7844432, -86.7844432, -86.7844432, -86.7844432, -86.7844432, -86.7844432, -86.7844432, -86.7844432, -86.7844432, -86.7844432, -86.7844432, -86.7844432, -86.7844432, -86.7844432, -86.7844432, -86.7844432, -86.7844432, -86.7844432, -86.7844432, -86.7844432, -86.7844432, -82.1884666, -82.1884666, -82.3534727, -82.5618186, -82.1884666, -82.3534727, -82.3534727, -82.3534727, -82.5618186, -82.1884666, -82.1884666, -84.067974, -82.4734787, -84.92442485859762, -83.9704593, -83.5269671, -83.9704593, -83.561835, -87.0352831, -87.0352831, -86.53805, -86.6199957, -85.4641421, -86.6694413, -86.11600081026027, -89.7761955, -88.30121356858366, -88.8139469, -73.0831924, -73.1109604, -72.756229, -72.7931534, -72.7259271, -72.6884394, -72.8292945, -72.4912096, -72.8248379, -72.0031513, -73.16937, -73.227626, -73.0876119, -72.3123248, -72.2648257, -72.3064943, -72.8287287, -72.6559308, -72.6152849, -73.212072, -72.5578678, -73.1967741, -73.16937, -72.6152849, -72.9726065, -72.3192579, -73.212072, -72.6152849, -72.4823117, -116.2034505, -116.2381744, -116.2034505, -116.2381744, -113.8959008, -116.2034505, -116.0987364, -116.2034505, -116.2381744, -116.5634624, -116.3540138, -116.7804664, -116.9515856, -116.2034505, -111.1113318, -116.2034505, -117.0001651, -112.0341374, -116.3163092, -116.5338037, -111.8226402, -116.2034505, -114.7594946, -116.0987364, -116.60106137478641, -117.0001651, -116.5634624, -115.9279387, -112.4455344, -116.7804664, -116.2034505, -112.4455344, -116.9515856, -116.2381744, -122.3320708, -117.0001651, -114.3636619, -116.0987364, -114.3636619, -116.9515856, -116.1765388, -112.4455344, -116.7804664, -112.0341374, -116.2034505, -114.21882012723589, -116.3893111, -116.7804664, -114.4875376, -115.9279387, -114.3636619, -116.2381744, -116.2034505, -111.1113318, -116.3495898, -116.2034505, -87.3464271, -85.1288597, -84.9877094, -84.99908427940171, -86.1108377, -86.0085955, -86.1580423, -86.5263857, -86.1580423, -87.4944873, -86.8950297, -87.5000412, -87.5558482, -86.1580423, -85.00076485073735, -87.0641992, -87.0077059, -86.2500066, -87.3653136, -86.2672127, -87.3328139, -86.1586156, -86.1580423, -86.20613804524166, -85.1288597, -86.5263857, -85.8344383, -85.3863599, -86.1580423, -85.4822038, -84.9877094, -85.9766671, -86.1580423, -85.1288597, -86.8752869, -85.1288597, -87.4700381, -86.1066526, -86.1580423, -87.5558482, -85.8241312, -81.9748379, -87.3991848, -85.8241312, -86.8752869, -86.0085955, -86.2511011, -86.1580423, -85.7371847, -86.48345113091605, -86.2500066, -83.2291753, -86.8950297, -85.1288597, -86.1580423, -86.1677657, -87.4139092, -86.8752869, -87.5125412, -86.1336033, -85.1288597, -86.1580423, -86.5263857, -87.3991848, -85.7061011, -87.3991848, -87.5217068, -84.9877094, -68.7778138, -70.2589, -70.2589, -68.3619621, -70.228117, -70.2589, -70.2695476, -70.2589, -68.7778138, -70.4428286, -69.7753222, -69.8206023, -70.5814425, -70.2589, -70.2147764, -70.2147764, -69.719218, -70.3317195, -70.2589, -68.671977, -69.9653278, -68.7614246, -69.0647593, -69.6336571, -70.6092258, -70.2589, -70.1867161, -70.2589, -70.8645039, -69.7794897, -70.2589, -68.5866904, -70.2589, -68.589491, -69.9653278, -70.6792289, -68.4194642, -69.6281014, -70.2589, -70.2589, -70.2589, -68.7778138, -69.0064234, -70.6435659, -68.7778138, -70.3775496, -70.7936719, -70.2589, -70.0356069, -70.1031057, -70.2589, -68.3619621, -69.9672843, -69.3028205, -69.7908786, -69.1089294, -69.3028205, -70.2589, -70.2589, -70.2311655, -66.9841453, -67.4613805, -70.1031057, -69.6317121, -68.671977, -70.2589, -68.7614246, -70.3711617, -69.9653278, -69.31369, -70.3217154, -68.8741989, -68.0172493, -70.5447825, -70.2825536, -69.3756017, -68.671977, -69.3833814, -69.5367138, -70.2589, -69.2742109, -70.2589, -70.9464559, -69.6906013, -68.7778138, -70.2589, -70.2589, -70.2311655, -70.1031057, -68.6161357, -70.7906249, -70.5808867, -69.1950411, -70.7078301, -70.1511729, -69.5011619, -70.2589, -69.6317121, -70.7078301, -70.3711617, -70.4533844, -122.685895, -123.0867536, -123.2389784, -122.7639851, -117.8343848, -123.2620435, -121.3153096, -122.6762071, -123.8312534, -122.8064922, -122.6762071, -121.1739212, -123.0867536, -123.0867536, -123.8179589, -121.3153096, -122.6762071, -123.0867536, -123.0867536, -122.3336963, -123.8312534, -121.6957283, -123.0350963, -122.6762071, -123.0867536, -122.6762071, -122.6706498, -121.6957283, -120.5013876, -123.0867536, -123.0867536, -122.6762071, -119.7005834, -122.6762071, -121.6957283, -123.0220289, -122.6762071, -119.06489452187557, -124.0581737, -123.0867536, -122.6706498, -122.6762071, -123.0867536, -122.6762071, -122.9731565, -121.3153096, -124.1087309, -75.163789, -75.163789, -75.163789, -75.163789, -76.3055144, -75.163789, -74.9034996, -75.163789, -75.9268747, -75.6496302, -76.0563303, -75.2854622, -74.9512785, -74.9512785, -75.7032742, -75.2207323, -75.163789, -76.8844179, -77.8600013, -76.6502468, -75.163789, -79.9958864, -79.3794811, -79.9958864, -79.9958864, -79.9958864, -79.9958864, -79.9958864, -80.085059, -78.5033238, -80.085059, -80.8571569, -77.0556775, -73.5794567, -74.1684757, -73.6401296, -73.91326904296875, -78.8783689, -77.5902759, -73.0151084, -74.8916307, -74.1165313, -73.86640548706055, -73.9534714, -74.012412, -78.8783689, -73.8201338, -78.8783689, -73.9940279, -72.6620402, -73.959027, -74.0218063, -77.6155568, -78.6728071, -77.6155568, -74.1165313, -74.1398649, -78.8783689, -73.7740216, -78.8783689, -77.6155568, -73.2453946, -73.9509714, -73.9534714, -73.8773577, -73.9943068, -74.0059729, -76.4966071, -77.6155568, -73.9973608, -73.9509714, -73.9576378, -78.8783689, -73.91326904296875, -72.6620402, -75.2326641, -74.0159703, -78.6903098, -73.76221, -73.7609635, -78.8783689, -74.8916307, -74.171811, -78.8783689, -73.91326904296875, -77.6155568, -73.7709535, -73.9301374, -73.8754114, -73.7937408, -73.6401296, -74.2176435, -73.9880556, -77.6155568, -73.9880556, -73.91326904296875, -76.8077338, -76.9777436, -76.1474244, -95.3632715, -98.4936282, -97.7430608, -97.7430608, -97.7430608, -95.3632715, -95.4560512, -97.1466695, -97.5386205, -103.66206, -96.3699632, -97.7430608, -96.8066667, -95.3632715, -98.2372329, -96.2130315, -96.8066667, -95.2902224, -96.8066667, -95.3010624, -95.3632715, -96.6152693, -98.4936282, -97.7430608, -96.8066667, -95.0513173, -94.7976959, -95.3632715, -97.7430608, -97.7430608, -96.6388833, -97.7430608, -95.3632715, -97.21262612813669, -98.4936282, -96.6388833, -97.7430608, -95.7507815, -97.3208496, -97.7430608, -97.9413941, -97.3208496, -96.3344068, -95.8243956, -97.7430608, -96.8066667, -97.3208496, -98.4936282, -98.399865, -97.83227674559555, -97.7430608, -95.3632715, -97.251682, -98.4936282, -95.4560512, -97.1705425, -99.7331439, -95.0513173, -95.7607832, -97.7430608, -95.3010624, -96.9488945, -95.3632715, -82.52852989304125, -85.659828, -82.5748194, -80.1439343, -82.77323, -82.4584279, -81.655651, -82.3248262, -80.3972736, -81.314517, -82.4584279, -81.655651, -82.78842, -80.46862510947562, -80.1247667, -82.78842, -80.0830984, -80.2706044, -81.5386842, -82.5917642, -82.5306527, -81.314517, -81.655651, -80.81417053812677, -82.4584279, -81.9498042, -82.52852989304125, -80.0830984, -81.3792365, -80.7419984, -81.84059143066406, -84.2807329, -82.5306527, -81.9495331, -81.3392352, -81.3086755, -80.60922, -82.4584279, -80.0942087, -80.60922, -80.1936589, -82.5926012, -80.0664309, -82.4584279, -82.5723193, -81.5861847, -82.6931553, -82.52852989304125, -82.5748194, -82.52852989304125, -81.3792365, -81.3392352, -84.2807329, -86.4957834, -82.77323, -81.3931396, -82.0453664, -82.3248262, -80.533105, -81.7886906, -80.6278404, -81.84059143066406, -80.0830984, -84.2807329, -84.2807329, -86.8610708, -82.52852989304125, -81.3931396, -81.8778582, -81.7328568, -87.2169149, -80.1433786, -80.6081089, -81.3384011, -81.655651, -86.8610708, -82.1400923, -80.6081089, -81.655651, -80.6278404, -80.1936589, -82.5306527, -81.4625919, -80.81417053812677, -82.7637127, -84.2807329, -82.4584279, -80.1433786, -80.1433786, -82.7973247, -81.44452500578161, -87.2169149, -80.3553302, -80.4775569, -84.2807329, -82.5748194, -81.644519, -81.79596, -80.9269984, -80.0664309, -81.3792365, -80.3972736, -80.1494901, -81.3792365, -81.0558894, -82.52852989304125, -80.4706078, -87.2169149, -81.3031179, -81.3392352, -80.8075538, -81.84059143066406, -84.2807329, -86.61707, -80.0830984, -82.7689906, -80.46862510947562, -81.3656243, -82.7192671, -81.3792365, -81.2811801, -81.79596, -81.655651, -81.3792365, -80.3256056, -82.756768, -80.0728201, -82.5306527, -82.689441, -81.655651, -81.3792365, -82.4584279, -82.4584279, -82.52852989304125, -82.4584279, -82.4584279, -80.1936589, -80.1286542, -80.1936589, -80.2683838, -81.0558894, -82.11469, -81.3931396, -82.3248262, -82.4584279, -82.756768, -82.52852989304125, -81.655651, -80.3972736, -80.81417053812677, -81.655651, -82.5917642, -80.1936589, -86.863571, -82.4584279, -81.3931396, -84.7996573, -84.4102046, -84.6374164, -84.6154897, -84.1401926, -81.0998342, -84.5810418, -83.3779358, -84.6154897, -81.7831674, -84.3879824, -84.2910297, -84.3615928, -84.3879824, -84.2910297, -84.39957229745012, -84.5499327, -84.39957229745012, -82.3248262, -84.5957629, -83.6324022, -84.3879824, -84.3879824, -81.0998342, -85.0132629, -84.3879824, -84.170196, -83.6324022, -84.3879824, -85.0766113, -84.3879824, -84.5499327, -84.5193754, -81.9748379, -84.3879824, -84.5499327, -81.9748379, -84.3879824, -81.0998342, -81.4914894, -83.9879625, -81.0998342, -83.3779358, -84.3879824, -83.3779358, -84.9877094, -84.6374164, -84.3879824, -84.6374164, -84.2671444, -85.0313269, -84.3879824, -159.6689261, -157.8213889, -157.79895, -156.44578, -155.99912, -155.99912, -156.67663, -159.6004756, -156.54625, -159.3386111, -155.09073, -156.38612, -156.54625, -156.54625, -90.21159, -88.2072697, -87.7844944, -89.9839935, -87.6500523, -88.4719918, -88.7319979, -90.4812298, -87.6500523, -87.6500523, -87.6500523, -89.6437107, -87.9656098, -88.3053525, -89.5889864, -87.9006155, -89.3350888, -87.6358546, -87.6500523, -88.2578582, -87.9358931, -90.9906974, -87.6800486, -88.0039653, -87.88754, -88.3200715, -87.8892189, -87.8692254, -90.5826381, -87.6500523, -89.6437107, -89.4948169, -89.0939952, -88.0072909, -87.6500523, -88.3161965, -90.4812298, -88.9548001, -87.6500523, -88.9548001, -87.6500523, -88.1070127, -87.6500523, -88.5433829, -88.0834, -87.9403418, -88.5147789, -90.35010497807345, -88.3125738, -89.6437107, -88.1541667, -87.6314312, -89.5270306, -87.81367, -87.8833991, -87.6500523, -87.857835, -87.7936685, -88.1361888, -87.6847684, -90.21159, -90.6717971, -88.2039539, -89.66225429355744, -90.1542849, -88.9548001, -88.0111746, -87.6311618, -87.7844944, -89.2556618, -89.2086035, -87.9084039, -89.8481652, -87.8236841, -87.6500523, -87.9656098, -87.6500523, -88.4487021, -89.053408, -87.6500523, -90.1498341, -88.3200715, -87.6500523, -88.0503406, -87.6500523, -90.21159, -89.5889864, -90.3712395, -88.0072909, -89.2053671, -88.4042234, -88.9936873, -91.3890385, -87.7845025, -88.4487021, -90.3712395, -87.8342362, -87.6500523, -89.8223426, -89.9942741, -88.041746, -88.9936873, -90.1542849, -87.959794, -87.6961374, -88.1217421, -87.9889543, -87.7878408, -88.2017293, -87.6500523, -88.2667534, -88.0895061, -87.6500523, -87.6500523, -87.6500523, -87.8692254, -87.9739494, -89.3350888, -88.5733979, -87.6500523, -88.0834, -87.8447938, -88.057837, -87.6500523, -87.7845025, -89.7172222, -87.6500523, -90.1842764, -89.9845476, -87.6500523, -87.7845025, -87.7845025, -87.538931, -87.6500523, -89.4954, -87.6500523, -88.3514596, -87.6900587, -90.6998477, -88.3053525, -87.3464271, -87.6500523, -87.6500523, -87.6500523, -88.0017261, -89.0939952, -87.6656015, -90.5787477, -89.1733325447223, -90.5151342, -89.953157, -90.21159, -88.2072697, -88.2286735, -90.4812298, -88.1033115, -87.6500523, -87.6500523, -89.2359165, -88.2942493, -89.4948169, -88.4281415, -88.4487021, -87.8708965, -88.1392474, -88.0503406, -87.6500523, -87.6500523, -87.7844944, -88.2381381, -89.6437107, -87.8314324, -89.2361935, -88.3053525, -90.1498341, -90.21159, -87.6900587, -88.4472948, -88.0039653, -88.2517165, -90.576751, -89.4224849, -87.7333934, -87.6500523, -89.0939952, -87.6500523, -88.2942493, -90.5787477, -88.2039539, -87.6500523, -87.9756175, -89.7017658, -87.6500523, -88.2017293, -89.8223426, -88.1347927, -87.8447938, -97.1575345, -95.2352501, -97.3375448, -95.6780371, -94.6396714, -95.2352501, -95.6780371, -97.6114237, -94.7667845, -94.6707917, -100.2323551, -97.3375448, -99.3267702, -100.0170787, -98.1061595, -94.70496, -95.2352501, -100.8726618, -98.394228, -95.2352501, -97.7825513, -95.6780371, -97.3375448, -95.6780371, -94.4155068, -94.70496, -94.8466322, -95.2352501, -97.3375448, -94.7335709, -99.3267702, -94.7335709, -96.5716694, -95.6780371, -97.3375448, -97.6502158, -94.8196847, -95.6780371, -96.1911073, -94.8191285, -97.3375448, -97.9297743, -94.6557914, -95.6780371, -96.5716694, -97.3375448, -97.6874174, -95.6780371, -95.0985808, -96.8169811, -97.3375448, -95.2352501, -86.3280018, -90.075072, -91.9315062, -90.075072, -92.04802, -93.0862749, -90.0656311, -90.075072, -90.075072, -93.20440292358398, -90.075072, -93.7321229, -92.1193012, -90.9200987, -90.46293, -90.075072, -93.7501789, -92.4451371, -90.075072, -90.65753635095963, -90.075072, -90.075072, -90.0656311, -92.1193012, -91.9612306, -90.075072, -90.075072, -90.075072, -91.18747, -93.7501789, -90.075072, -90.075072, -91.18747, -90.7195348, -91.18747, -92.4451371, -90.075072, -92.637927, -90.075072, -76.9502567, -78.7625185, -77.1527578, -76.3482931, -77.7199932, -77.4105409, -77.026088, -76.6410821, -75.0849058, -75.8074367, -76.55100876835004, -76.0627266, -77.2013705, -76.4552294, -77.4105409, -76.6121893, -77.1744279, -77.0591452, -77.4288769, -75.2176892, -76.6121893, -76.6874671, -75.3021363, -76.7002462, -76.3143999, -77.8205508, -76.6121893, -76.6121893, -78.7625185, -76.5155191, -76.2243919, -75.5993692, -76.3794052, -76.7280298, -75.0849058, -76.0985613, -77.4105409, -77.176927, -76.49184, -76.9455301, -77.154704, -76.6121893, -76.534678, -76.6802471, -76.613015, -76.6802471, -76.091617, -76.55100876835004, -77.4105409, -76.3482931, -76.6155252, -76.8483061, -76.9958149, -77.4105409, -76.5205184, -77.066923, -77.4747088, -76.7983067, -75.8332718, -77.4105409, -77.154704, -77.4105409, -76.6121893, -76.5844017, -76.0688306, -76.6121893, -77.4105409, -76.6121893, -75.8588257, -76.6121893, -76.9391395, -76.7983067, -76.4394056, -76.9958149, -76.08332531091463, -76.6121893, -76.55100876835004, -77.154704, -77.4105409, -76.4588409, -76.8499774, -77.1527578, -76.55100876835004, -76.7802529, -77.026088, -76.3455151, -77.6277679, -77.4108201, -77.4105409, -76.9455301, -76.6121893, -75.4710313, -76.1577268, -77.1610916, -76.6121893, -77.7199932, -75.8332718, -77.2013705, -76.6121893, -76.6121893, -76.4321837, -76.0688306, -93.2913405, -93.2638361, -93.2638361, -93.5671825, -92.9746367, -93.24272, -94.4605287, -93.2380038, -94.3183284, -93.0932742, -93.5268986, -93.1668858, -96.424213, -93.0932742, -93.2638361, -94.1624895, -94.93765445102548, -92.1065787, -93.0099398, -93.5716243, -93.0932742, -92.1065787, -93.5032877, -96.3684744, -93.2638361, -91.6707322, -92.1065787, -93.2018826, -93.0932742, -95.3775379, -93.2638361, -93.0932742, -93.2638361, -93.2638361, -93.6616266, -93.2638361, -93.2638361, -92.1065787, -93.0932742, -92.4698992, -95.5963979, -95.0433424, -93.2638361, -93.2638361, -93.5760652, -92.4698992, -92.9746367, -94.288609, -93.0888324, -93.8746941, -92.1065787, -93.2349489, -93.161604, -93.2638361, -93.2638361, -93.2638361, -94.286666, -92.4698992, -92.1065787, -93.24272, -92.8060408, -94.00915, -93.3487579, -94.4182981, -92.4698992, -93.4555093, -93.7460804, -93.2638361, -94.00915, -93.2638361, -93.5813413, -93.7941378, -93.4557877, -94.1624895, -93.0932742, -93.2638361, -92.079058, -96.946447, -93.2638361, -94.24339921892499, -93.7941378, -93.2638361, -94.7241498, -94.1244271, -92.8524273, -93.3480051, -93.0932742, -93.2638361, -91.9768224, -96.2128071, -95.7147234, -93.161604, -94.4288849, -92.9685423, -92.905484, -93.2638361, -92.8899376, -93.349117, -93.2638361, -93.2638361, -90.3342727, -93.0932742, -93.7869088, -93.3385614, -90.1978889, -94.4191177, -93.2982436, -90.1978889, -90.1978889, -90.1978889, -92.4446636, -90.1978889, -94.5785667, -94.5785667, -94.5785667, -92.3340724, -92.3340724, -90.1978889, -94.5785667, -94.5785667, -94.5785667, -90.1978889, -94.4635638, -94.5785667, -90.1978889, -90.4812298, -90.3053915, -92.3340724, -90.8529107, -93.2982436, -90.6998477, -94.5785667, -90.1978889, -90.1978889, -94.5785667, -92.6824986, -93.9982743, -92.3340724, -93.2982436, -90.4926214, -90.3959543, -90.6279044, -90.6998477, -90.1978889, -90.1978889, -93.2982436, -90.322614, -90.4298401, -90.1978889, -90.6998477, -90.8501356, -93.4957675, -92.3340724, -90.1978889, -90.1978889, -90.3245599, -90.4298401, -93.2982436, -90.1978889, -94.5785667, -90.6265121, -94.5785667, -90.4812298, -90.1978889, -90.4812298, -90.1978889, -90.1978889, -97.0328547, -96.7898034, -96.7898034, -96.7898034, -96.7898034, -100.7837392, -97.0328547, -101.2962732, -101.2962732, -103.6179745, -103.2832467, -100.7837392, -100.8895762, -100.8895762, -102.7896242, -97.0525872, -101.2962732, -96.6669599, -96.6669599, -95.94043, -96.6669599, -100.5509669, -96.0119563, -97.1395097, -102.8040888, -95.94043, -98.9781525, -103.5204378, -96.6669599, -96.6669599, -97.4169964, -96.6669599, -98.1058806, -95.94043, -98.388393, -103.73820689795699, -97.3683753, -96.6669599, -98.0036724, -95.94043, -95.94043, -97.1192603, -99.6423354, -96.031127, -100.5920956, -99.3698217, -96.031127, -96.0422378, -97.3683753, -96.031127, -98.9480216, -98.3420068, -76.1474244, -96.1544512, -98.9261987, -95.94043, -95.94043, -98.388393, -96.6894414418072, -98.9480216, -95.94043, -95.94043, -96.6669599, -96.6669599, -74.995168, -74.1979192, -74.8815594, -74.0323626, -74.0434736, -74.6884965, -73.8798928848545, -74.1979192, -74.0120817, -74.8873855, -74.7176622, -74.1901399, -74.0218037, -74.117086, -74.9290536, -74.0643065, -74.0906974, -75.1118422, -74.0120814, -75.0257313, -74.0420848, -74.587657, -74.7266704, -74.9604501, -74.8237786, -74.8815594, -74.034306, -74.2643133, -74.8237786, -74.9060053, -74.7118264, -74.8983303, -74.2807035, -74.995168, -74.4120953, -74.8290555, -74.0120817, -75.2237934, -74.0776417, -75.071284, -75.0579502, -75.0665617, -74.2090344, -75.1526774, -74.6268245, -75.0307264, -74.4773775, -75.0226691, -74.2612583, -74.5751557, -74.1637553, -75.0393438, -74.9060053, -74.0434736, -74.4518188, -74.0729139, -74.5765445, -74.3415394, -74.0323626, -75.1315651, -74.2176435, -74.9923915, -74.4832088, -74.2845911, -74.8290555, -74.1004185, -74.1979192, -75.1315651, -75.0376707, -74.6384947, -74.0479146, -74.0279152, -74.8593318, -74.7801645, -74.8029395, -74.7334961, -75.0646165, -74.2807035, -74.8290555, -74.2218067, -74.2090344, -74.8148894, -74.8029395, -75.1315651, -74.0754189, -75.1196199, -74.1951395, -74.1498616, -74.3823691, -74.1298643, -74.0643065, -74.790718, -74.8129407, -74.5240423, -74.2431963, -74.1723667, -74.8237786, -74.2734808, -74.7876624, -74.8648873, -74.8023853, -74.8023853, -74.1979192, -75.0846179, -74.442653, -74.6590472, -74.0643065, -74.7618285, -74.5765445, -73.8798928848545, -74.3837624, -74.2907032, -74.4015405, -74.7876624, -74.8023853, -75.1315649, -74.2776468, -73.9923596, -74.2995923, -74.9218325, -82.3940105, -79.9309216, -81.0348144, -79.9309216, -81.9320482, -82.3940105, -111.8910474, -111.8910474, -111.8910474, -122.1634582, -122.3320708, -122.121512, -122.3320708, -122.9006951, -122.3320708, -122.3320708, -122.3320708, -122.3320708, -122.1251418, -122.4882249, -122.2020794, -122.3087405, -122.6326391, -120.67968323465554, -117.42908477783203, -121.8253906, -122.3320708, -122.3320708, -122.9542972, -122.4442906, -81.3464998, -122.3467918, -120.6614765, -122.7604472, -122.3773552, -119.1372338, -121.4864619, -122.3320708, -122.121512, -122.9006951, -120.3831161, -121.88142767876026, -122.3320708, -122.3340474, -122.5801293, -122.3320708, -122.4882249, -122.4882249, -122.2020794, -122.3320708, -122.3151313, -121.8845241, -122.6126718, -119.4356211, -117.5932728, -122.6465372, -120.5058987, -122.2348431, -122.21599, -117.04557, -120.9931394, -122.1251418, -91.7343327, -122.3320708, -121.88142767876026, -117.1796158, -120.0086538, -122.3534247, -122.6432245, -119.2844621, -122.1634582, -122.4442906, -122.0267787, -117.42908477783203, -122.49806, -122.3320708, -118.1532861, -122.5212448, -122.3340474, -122.0326191, -122.3320708, -122.3320708, -122.4442906, -122.9054625, -117.42908477783203, -122.2928974, -95.4180561, -120.094785, -117.42908477783203, -122.4962752, -118.0558218, -122.6465372, -117.42908477783203, -122.3320708, -122.6614861, -122.6614861, -119.2844621, -122.2566367, -121.7462513, -119.7689222, -122.3320708, -122.3995363, -123.18300977673154, -117.42908477783203, -122.4882249, -120.26558814519379, -119.2844621, -118.3430209, -122.6326391, -122.4882249, -122.3320708, -119.7689222, -122.2942839, -122.3320708, -122.4442906, -122.3320708, -122.3320708, -124.1040613, -122.3320708, -122.6614861, -117.905537, -122.1634582, -122.6948697, -122.121512, -122.2054035, -119.2844621, -117.42908477783203, -117.42908477783203, -122.3320708, -122.3773552, -122.3320708, -122.3320708, -92.8689877, -119.45176171249143, -123.93421390717111, -122.6362492, -122.1634582, -122.2928974, -123.0762134, -122.3320708, -122.9006951, -122.3320708, -122.9381672, -122.4598502, -124.0546003, -117.42908477783203, -122.8231915, -117.354939, -122.3534247, -122.6614861, -119.45176171249143, -122.7604472, -117.42908477783203, -121.4112054, -122.3320708, -122.6614861, -118.6908274, -122.6614861, -122.9542972, -122.4442906, -122.3320708, -122.121512, -122.6614861, -121.88142767876026, -94.5341421, -95.4180561, -123.3831834, -121.9915003, -123.93421390717111, -122.3320708, -122.4882249, -118.3430209, -122.5910056, -122.4442906, -122.3320708, -122.3320708, -117.0432583, -122.6465372, -122.2020794, -122.8757199, -122.9076141, -117.42908477783203, -122.2020794, -122.0803998, -122.1770818, -122.121512, -122.2087353, -122.2440148, -123.93421390717111, -122.2403966, -120.5058987, -122.2020794, -122.3320708, -123.10234, -122.3320708, -120.5314587, -122.1634582, -124.1040613, -120.9931394, -123.10234, -121.9856781, -122.3320708, -120.5058987, -122.3320708, -122.2170661, -122.9381672, -122.4442906, -122.2284532, -122.2020794, -122.8231915, -122.6614861, -119.3614092, -122.49806, -122.8070602, -122.2928974, -121.6015142, -91.9787846, -122.6614861, -118.3430209, -121.9856781, -117.0949268, -121.6015142, -122.6465372, -118.3430209, -122.0637425, -122.9006951, -122.2170661, -120.4698024, -122.2020794, -95.4180561, -119.1372338, -121.5551086, -91.1129233, -122.1251418, -119.1005657, -122.6614861, -120.26558814519379, -122.5334307, -122.3320708, -120.5058987, -120.5058987, -122.1857755, -122.9855747, -122.3320708, -87.9064736, -87.71453, -91.2395807, -88.5426136, -89.4012302, -89.4012302, -91.4846208, -88.4153847, -88.019826, -88.5426136, -88.462609, -88.06486, -88.0075875, -88.1064787, -87.9064736, -91.4887724, -90.1717987, -90.1798473, -91.9193422, -88.4992659, -91.4984941, -87.9064736, -89.6301221, -89.5042876, -89.2848359, -91.2395807, -87.9064736, -87.9064736, -87.9064736, -89.6556777, -92.1735179, -87.9064736, -88.4037079, -89.574563, -87.1242739, -88.5445447, -87.9064736, -92.1040796, -87.9064736, -87.9959191, -87.9875898, -88.5426136, -88.5426136, -90.8477425, -88.5037547, -89.4012302, -87.9064736, -89.4012302, -89.7384562, -90.3440178, -88.019826, -87.875644, -91.3929348, -89.4012302, -91.4984941, -89.9129013, -87.9064736, -91.4984941, -88.462609, -89.4556749, -91.9193422, -88.4153847, -88.3420398, -87.9064736, -87.9064736, -89.7109807, -90.7379119, -87.9064736, -89.6351218, -89.4012302, -93.4024532, -89.4556749, -92.6735365, -88.7442772, -89.4012302, -89.544007, -87.9064736, -89.4247366, -91.2395807, -89.7709579, -90.7120713, -87.8211854, -87.8211854, -87.7828523, -88.0022249, -87.79696267906142, -89.6301221, -89.4631014, -89.0187223, -89.4012302, -89.6990365, -88.1628785, -92.6238083, -87.8211854, -90.8477425, -88.7323272, -87.71453, -87.2970502, -89.8798933, -90.7196, -88.06486, -87.3770419, -89.574563, -88.019826, -88.7654449, -88.0178729, -87.9064736, -92.1040796, -88.019826, -89.267911, -88.9117742, -87.9064736, -91.8148954, -87.9064736, -89.4012302, -87.9064736, -88.0070315, -89.5331773, -89.4012302, -89.4012302, -91.9193422, -81.6326235, -81.6326235, -80.8525981, -77.804161, -78.0952796, -79.8467349, -80.84132872392844, -79.8467349, -81.1039911, -79.9558968, -81.1881557, -81.1039911, -80.4456303, -79.5464388, -79.9558968, -79.9558968, -81.5615135, -80.006828, -81.5615135, -79.6411594, -80.1167417, -81.1025918, -76.9510203, -82.445154, -80.1425781, -81.0956508, -80.84132872392844, -104.8202462, -104.8202462, -108.87943078410353, -105.03632082980366, -106.9561792, -104.8202462, -106.6989376, -104.8202462, -104.8202462, -104.8202462, -109.0565308, -105.03632082980366, -110.8752112, -106.313081, -110.64924307702209, -108.7306725, -104.8202462, -106.9561792, -110.64924307702209, -109.0565308, -109.0565308, -110.64924307702209, -110.64924307702209, -106.8064263, -110.9632373, -107.4511871, -109.8609864, -108.7573524, -106.313081, -106.3186397, -106.3069722, -105.4061159, -105.937799, -105.937799, -106.6511367, -106.6511367, -106.6511367, -106.6511367, -106.6511367, -106.6511367, -106.6511367, -106.6511367, -106.6511367, -106.6511367, -106.6511367, -106.6066926, -70.5133599, -70.8411612, -70.8772751, -70.0994605, -71.1447732, -71.0597732, -71.0597732, -76.9958149, -71.970074, -94.2088172, -94.2088172, -94.1574263, -94.1574263, -94.1574263, -94.1574263, -94.1574263, -94.1574263, -94.3985475, -93.1076765, -93.06377, -92.2895948, -92.2895948, -92.2895948, -92.2895948, -92.2895948, -92.2895948, -92.2895948, -92.2895948, -92.2895948, -92.2895948, -92.7440538, -93.7299173, -94.1185366, -94.1288142, -94.1288142, -112.3496021, -110.926479, -111.789027, -110.926479, -111.6512725, -113.75790300573257, -110.32141934752849, -110.926479, -110.926479, -111.6512725, -111.8226402, -112.1859866, -109.6042357, -111.8990327, -111.9093095, -111.8990327, -110.926479, -111.6512725, -111.9093095, -112.0740373, -112.55373566997312, -111.6512725, -111.6512725, -112.0740373, -109.6042357, -112.2373779, -112.07070114747218, -112.0740373, -110.3912476, -112.3582135, -112.07070114747218, -111.8990327, -111.9093095, -112.0579367, -112.0740373, -110.926479, -110.0675764, -111.8990327, -111.6512725, -112.0740373, -148.9661111, -134.4197222, -149.9002778, -149.11456, -134.4197222, -131.64757, -149.4415, -147.7163889, -149.11456, -149.9002778, -149.82629, -149.9002778, -150.0938889, -134.4197222, -134.4197222, -145.30289, -149.1663889, -149.9002778, -151.5494, -135.44533, -135.33088, -151.5494, -147.7163889, -136.23715, -151.2888889, -151.0583333, -149.9002778, -135.3138889, -152.40533, -149.4415, -149.11456, -149.11456, -149.9002778, -149.5677778, -149.9002778, -149.9002778, -149.09577, -149.4435, -165.97595, -135.3138889, -151.0583333, -149.9002778, -144.5005556, -122.1560768, -122.2708026, -121.7680088, -122.272747, -122.0807964, -122.1560768, -122.2708026, -122.1560768, -121.7680088, -121.9885719, -122.272747, -122.272747, -121.9885719, -122.2708026, -122.2708026, -122.2708026, -122.272747, -122.272747, -121.7680088, -122.272747, -122.272747, -122.2708026, -121.7680088, -120.844659, -121.8374777, -121.8374777, -121.55776, -121.5783059, -121.8374777, -121.8374777, -121.8374777, -120.3510307, -122.0310733, -122.064963, -121.9999606, -121.8846806, -122.064963, -122.3116367, -121.9780153, -122.0310733, -122.2977475, -119.9843482, -119.9843482, -121.01472, -120.8149355, -120.798546, -120.6749302, -120.6749302, -119.9843482, -121.082167, -120.798546, -119.9843482, -120.798546, -119.9843482, -120.8149355, -119.9843482, -122.4696938, -119.9843482, -119.7723661, -119.7723661, -119.7723661, -119.7723661, -119.7723661, -119.7723661, -124.1572756, -124.1636729, -123.9839488, -124.0828396, -124.1006205, -118.3951101, -119.0187125, -119.0187125, -119.0187125, -118.4253627, -119.0187125, -118.4489739, -119.0187125, -119.7829107, -119.6456844, -122.8394375, -122.6149853, -122.9158293, -118.3406288, -117.9389526, -118.18075741460018, -118.2436849, -118.18075741460018, -118.18075741460018, -118.1367393, -118.2922934, -118.3525748, -117.9075627, -118.3406288, -117.7197785, -118.3406288, -118.2436849, -118.4164652, -118.2436849, -118.3089661, -118.6011992, -117.7522793, -118.3534115, -118.1367393, -118.3884078, -117.9075627, -118.18075741460018, -118.18075741460018, -118.2436849, -117.9353413, -118.3406288, -118.2436849, -118.2436849, -117.9989548, -118.0467339, -118.3406288, -118.0275667, -117.7522793, -118.3406288, -118.3406288, -118.3406288, -118.1678456, -118.1339563, -118.3531311, -118.18075741460018, -118.1164613, -118.18075741460018, -119.6493154, -122.5697032, -122.5697032, -122.5888686, -122.5352539, -122.5697032, -122.5310874, -122.5310874, -118.2934244, -123.3661194, -123.4315539046526, -123.8052935, -120.4829677, -118.8395746, -119.0736094, -121.8946761, -121.8946761, -122.5310874, -121.8946761, -121.9232879, -122.5797054, -122.2855293, -140.92978, -122.2855293, -122.2855293, -122.2855293, -122.2855293, -122.2855293, -121.0610606, -120.0940868, -120.1832533, -121.0610606, -121.01779, -120.1832533, -121.01779, -118.18075741460018, -117.9186689, -117.9186689, -117.925338, -117.8703363, -117.8531119, -117.8678338, -117.8678338, -117.8531119, -117.9186689, -117.603104, -117.6119925, -117.8678338, -118.18075741460018, -117.8531119, -117.9992265, -117.9186689, -117.8231107, -117.826166, -117.826166, -117.8531119, -121.0768901, -121.2357828, -121.0768901, -121.2930079, -121.0768901, -121.1930041, -121.2357828, -121.0768901, -121.2357828, -121.2930079, -120.99764131611157, -120.6166077, -121.2319098, -120.94647, -117.1483648, -117.3961564, -116.41279, -117.1483648, -117.1483648, -116.8764103, -116.3902887, -117.3272615, -116.37697, -117.2139232, -117.2139232, -117.3961564, -117.5664384, -117.1483648, -117.548661, -117.3961564, -116.7189075, -117.3961564, -117.2139232, -117.1483648, -117.1483648, -116.37697, -116.5452921, -117.5664384, -117.1464209, -117.1483648, -117.3961564, -117.1483648, -117.1483648, -117.3961564, -117.5664384, -117.5664384, -117.5664384, -117.1483648, -117.3961564, -117.3961564, -117.1483648, -117.2305944, -121.4943996, -121.4943996, -121.4943996, -121.4943996, -121.4943996, -121.302728, -121.302728, -121.4943996, -121.4943996, -121.3716178, -121.3716178, -121.302728, -121.4943996, -121.4943996, -121.4943996, -121.4943996, -121.4943996, -121.2257818, -121.4943996, -120.99764131611157, -121.2999485, -121.4943996, -121.4943996, -121.4943996, -121.4943996, -121.3716178, -121.4943996, -117.3136547, -116.12973933507142, -117.0430865, -117.3008784, -117.6897776, -117.1825381, -117.5931084, -117.1825381, -117.0430865, -117.688944, -117.5931084, -117.1892078, -117.6483876, -117.5931084, -117.3008784, -117.1858759, -117.1825381, -117.6483876, -117.6897776, -117.1825381, -117.6483876, -117.5931084, -117.6897776, -117.5931084, -117.5931084, -117.6483876, -116.12973933507142, -121.2724473, -121.2724473, -121.2724473, -121.2724473, -121.2724473, -121.42618, -121.0807468, -120.6910043, -120.6910043, -120.6596156, -120.6596156, -122.4077498, -122.2758008, -122.4077498, -122.2605222, -122.2758008, -122.2363548, -122.009975, -122.4296982, -122.4694214, -122.4285862, -119.8276389, -120.1926505, -120.1926505, -119.5184564, -119.8276389, -119.6981901, -120.1376481, -119.6981901, -121.8949555, -121.6543901, -121.8949555, -121.8949555, -121.6543901, -121.8949555, -121.8949555, -121.9552356, -121.8949555, -121.8949555, -121.8949555, -121.8949555, -121.8949555, -121.8949555, -121.37692780284193, -121.8949555, -121.8949555, -121.9746797, -121.5682751, -121.9566267, -122.0307963, -121.9494038, -122.0307963, -121.9494038, -122.0307963, -122.0146841, -122.0307963, -121.4383139, -122.3916754, -122.3916754, -122.3916754, -122.2730661, -122.8947551, -122.3861269, -122.0399663, -122.0399663, -122.040244, -122.2566367, -122.8691609, -122.7144314, -122.7144314, -122.7144314, -122.6366524, -122.7144314, -122.7144314, -122.8163802, -122.6366524, -122.7144314, -122.7144314, -122.7144314, -122.8163802, -122.9961102, -122.7144314, -120.8465941, -120.9968782, -120.9577098, -118.781482, -118.781482, -118.8820414, -119.0376023, -119.0376023, -118.781482, -118.781482, -118.8375937, -118.781482, -118.781482, -118.781482, -118.781482, -118.781482, -118.8056474, -118.8375937, -121.4943996, -121.7405167, -121.4943996, -121.7405167, -121.7405167, -121.7405167, -121.4943996, -77.0469214, -78.4766781, -78.4955648, -78.4766781, -78.4766781, -78.4766781, -78.700575, -78.4766781, -79.1451067, -77.0469214, -77.0469214, -77.9908599, -77.1042823791504, -77.1042823791504, -79.0732, -79.0732, -79.0732, -77.2013705, -79.8105908, -79.5230877, -77.4558151, -76.2749399, -76.2749399, -77.6491578, -77.6491578, -77.9966639, -77.9966639, -79.3950228, -77.3063733, -77.3860976, -77.2652604, -77.7130483, -77.2277604, -77.2277604, -77.1774801, -77.4310992, -77.4288769, -77.0363658, -77.1710914, -77.1710914, -77.1710914, -77.7952712, -77.7244362, -77.7952712, -77.9202734, -80.0494814, -79.6994761, -79.9553136, -78.280558, -78.1633341, -78.1633341, -78.1633341, -78.1633341, -78.1633341, -77.4605399, -77.4605399, -77.4605399, -77.4605399, -80.9239671, -76.5229666, -76.5229666, -77.9163635, -77.9163635, -77.9163635, -77.9163635, -76.3452218, -76.3452218, -76.3073874, -76.3452218, -77.4799837, -77.0335879, -77.0335879, -77.0555328, -77.7147153, -77.5636015, -77.8338839, -77.7147153, -77.4285992, -77.5636015, -77.5636015, -77.5636015, -77.5636015, -77.5636015, -77.8338839, -77.0363658, -77.5636015, -77.7147153, -77.4874899, -77.5386025, -77.5636015, -77.5636015, -77.5636015, -77.4285992, -77.7147153, -77.4874899, -77.6413817, -77.4285992, -77.4285992, -77.4285992, -77.4285992, -78.2792401, -77.4752667, -77.4752667, -77.4752667, -80.4139393, -80.4139393, -80.4139393, -110.9407492, -78.8867565, -78.9758579, -78.8722444, -76.9971279, -76.4533869259279, -76.4533869259279, -76.2852183, -76.2852183, -76.2852183, -76.2852183, -76.2852183, -76.2852183, -76.2852183, -76.2852183, -76.01649, -76.2982742, -76.2982742, -77.9151855, -77.9151855, -77.2497049, -77.6138802, -77.4752667, -77.4477662, -76.9788641, -77.4602617, -77.4602617, -77.4602617, -77.4602617, -77.4602617, -77.4602617, -77.4602617, -77.4602617, -77.4602617, -77.4602617, -77.4602617, -77.4602617, -77.4602617, -77.4602617, -77.4602617, -77.4602617, -77.4602617, -77.4602617, -77.4602617, -79.9414267, -79.9414267, -80.0128158, -80.0547626, -80.0547626, -79.8969819, -79.45244, -77.0363658, -79.45244, -78.8689156, -78.8689156, -78.8689156, -78.8689156, -78.8689156, -76.6310662, -77.4083162, -76.58496, -75.977985, -75.977985, -75.977985, -75.977985, -75.977985, -75.977985, -75.977985, -75.977985, -75.977985, -75.977985, -75.977985, -75.977985, -75.977985, -75.977985, -75.977985, -78.280558, -78.280558, -81.7712324, -77.2038717, -81.9773482, -78.8894682, -78.8894682, -76.7074571, -76.7074571, -76.7074571, -76.7074571, -111.0385582, -108.5006904, -113.9939982, -104.2489733, -113.9939982, -112.036109, -114.0931588, -111.0385582, -108.5006904, -113.9939982, -114.050388, -114.1631719, -114.3376334, -110.925513, -113.9939982, -113.9939982, -111.6502985, -108.5006904, -112.5347447, -113.2942303, -112.5347447, -109.2468211, -114.2245664, -114.0931588], \"marker\": {\"color\": \"fuchsia\", \"opacity\": 0.2, \"size\": [8.0, 1.0, 10.0, 1.0, 8.0, 2.0, 10.0, 4.0, 8.0, 10.0, 1.0, 3.0, 4.0, 2.0, 1.0, 1.0, 10.0, 8.0, 1.0, 8.0, 10.0, 4.0, 10.0, 2.0, 4.0, 1.0, 24.0, 1.0, 15.0, 2.0, 3.0, 2.0, 2.0, 15.0, 10.0, 4.0, 2.0, 2.0, 1.0, 10.0, 2.0, 8.0, 8.0, 2.0, 10.0, 1.0, 6.0, 3.0, 6.0, 6.0, 6.0, 5.0, 6.0, 6.0, 3.0, 1.0, 12.0, 3.0, 6.0, 2.0, 12.0, 12.0, 1.0, 1.0, 1.0, 1.0, 12.0, 5.0, 6.0, 12.0, 6.0, 12.0, 6.0, 3.0, 12.0, 3.0, 1.0, 3.0, 5.0, 12.0, 5.0, 1.0, 1.0, 1.0, 6.0, 12.0, 2.0, 1.0, 1.0, 5.0, 1.0, 1.0, 6.0, 6.0, 12.0, 6.0, 2.0, 1.0, 2.0, 12.0, 1.0, 2.0, 3.0, 3.0, 2.0, 1.0, 2.0, 1.0, 1.0, 1.0, 4.0, 1.0, 2.0, 1.0, 3.0, 1.0, 1.0, 4.0, 2.0, 1.0, 1.0, 1.0, 2.0, 3.0, 2.0, 1.0, 7.0, 2.0, 11.0, 2.0, 4.0, 1.0, 2.0, 4.0, 4.0, 1.0, 4.0, 2.0, 2.0, 3.0, 3.0, 1.0, 2.0, 1.0, 4.0, 1.0, 1.0, 1.0, 4.0, 1.0, 7.0, 1.0, 1.0, 1.0, 3.0, 11.0, 3.0, 1.0, 2.0, 24.0, 3.0, 1.0, 2.0, 2.0, 1.0, 5.0, 3.0, 7.0, 6.0, 2.0, 1.0, 4.0, 4.0, 1.0, 2.0, 2.0, 3.0, 24.0, 2.0, 3.0, 3.0, 5.0, 5.0, 1.0, 1.0, 1.0, 2.0, 1.0, 1.0, 3.0, 3.0, 4.0, 7.0, 6.0, 1.0, 6.0, 4.0, 1.0, 1.0, 4.0, 1.0, 2.0, 6.0, 1.0, 2.0, 1.0, 1.0, 2.0, 4.0, 6.0, 3.0, 2.0, 3.0, 1.0, 1.0, 7.0, 1.0, 1.0, 1.0, 2.0, 7.0, 3.0, 4.0, 1.0, 1.0, 1.0, 2.0, 1.0, 3.0, 1.0, 7.0, 1.0, 6.0, 1.0, 3.0, 2.0, 1.0, 2.0, 1.0, 1.0, 1.0, 5.0, 21.0, 1.0, 2.0, 1.0, 1.0, 2.0, 5.0, 1.0, 4.0, 3.0, 2.0, 3.0, 3.0, 1.0, 1.0, 2.0, 1.0, 1.0, 7.0, 7.0, 7.0, 1.0, 1.0, 2.0, 2.0, 1.0, 4.0, 3.0, 1.0, 2.0, 1.0, 1.0, 1.0, 1.0, 6.0, 9.0, 9.0, 6.0, 9.0, 9.0, 9.0, 2.0, 9.0, 1.0, 5.0, 2.0, 9.0, 9.0, 1.0, 9.0, 9.0, 9.0, 1.0, 3.0, 9.0, 2.0, 9.0, 2.0, 3.0, 1.0, 9.0, 7.0, 1.0, 1.0, 2.0, 3.0, 1.0, 2.0, 1.0, 24.0, 2.0, 2.0, 2.0, 3.0, 1.0, 2.0, 2.0, 1.0, 5.0, 1.0, 5.0, 1.0, 8.0, 4.0, 1.0, 8.0, 1.0, 1.0, 1.0, 5.0, 2.0, 3.0, 2.0, 1.0, 1.0, 2.0, 2.0, 1.0, 24.0, 2.0, 2.0, 1.0, 11.0, 1.0, 5.0, 1.0, 1.0, 1.0, 5.0, 24.0, 1.0, 2.0, 1.0, 24.0, 1.0, 2.0, 4.0, 2.0, 2.0, 24.0, 1.0, 8.0, 24.0, 2.0, 2.0, 1.0, 2.0, 4.0, 4.0, 1.0, 1.0, 4.0, 4.0, 2.0, 1.0, 1.0, 1.0, 1.0, 2.0, 2.0, 1.0, 2.0, 1.0, 2.0, 2.0, 2.0, 2.0, 1.0, 5.0, 1.0, 1.0, 1.0, 4.0, 4.0, 4.0, 4.0, 1.0, 1.0, 11.0, 4.0, 22.0, 1.0, 2.0, 1.0, 6.0, 1.0, 22.0, 3.0, 3.0, 3.0, 3.0, 1.0, 22.0, 11.0, 1.0, 1.0, 24.0, 7.0, 22.0, 1.0, 5.0, 2.0, 22.0, 1.0, 1.0, 15.0, 1.0, 22.0, 11.0, 1.0, 1.0, 7.0, 22.0, 1.0, 22.0, 2.0, 22.0, 24.0, 22.0, 5.0, 1.0, 1.0, 1.0, 4.0, 22.0, 3.0, 11.0, 1.0, 1.0, 4.0, 1.0, 24.0, 22.0, 6.0, 2.0, 9.0, 2.0, 11.0, 1.0, 1.0, 6.0, 4.0, 11.0, 24.0, 1.0, 22.0, 22.0, 4.0, 6.0, 7.0, 1.0, 11.0, 4.0, 5.0, 22.0, 24.0, 11.0, 7.0, 22.0, 22.0, 1.0, 4.0, 1.0, 4.0, 2.0, 1.0, 1.0, 6.0, 22.0, 11.0, 4.0, 1.0, 7.0, 1.0, 22.0, 7.0, 2.0, 22.0, 2.0, 22.0, 11.0, 11.0, 9.0, 3.0, 1.0, 1.0, 7.0, 22.0, 6.0, 4.0, 31.0, 3.0, 1.0, 31.0, 2.0, 31.0, 7.0, 2.0, 2.0, 31.0, 7.0, 1.0, 1.0, 31.0, 1.0, 3.0, 2.0, 7.0, 31.0, 1.0, 2.0, 2.0, 31.0, 31.0, 11.0, 31.0, 2.0, 1.0, 31.0, 4.0, 1.0, 31.0, 31.0, 2.0, 4.0, 3.0, 4.0, 4.0, 2.0, 31.0, 31.0, 31.0, 9.0, 31.0, 2.0, 1.0, 11.0, 31.0, 31.0, 2.0, 31.0, 7.0, 31.0, 1.0, 31.0, 4.0, 11.0, 31.0, 4.0, 3.0, 2.0, 2.0, 31.0, 31.0, 31.0, 31.0, 7.0, 31.0, 1.0, 7.0, 2.0, 31.0, 31.0, 31.0, 1.0, 2.0, 1.0, 31.0, 31.0, 31.0, 2.0, 1.0, 5.0, 2.0, 31.0, 1.0, 3.0, 1.0, 2.0, 5.0, 31.0, 5.0, 2.0, 1.0, 3.0, 1.0, 31.0, 31.0, 2.0, 31.0, 2.0, 1.0, 31.0, 2.0, 31.0, 1.0, 3.0, 31.0, 31.0, 31.0, 31.0, 2.0, 3.0, 31.0, 1.0, 3.0, 3.0, 1.0, 3.0, 31.0, 31.0, 31.0, 31.0, 22.0, 3.0, 5.0, 31.0, 31.0, 31.0, 31.0, 31.0, 31.0, 3.0, 5.0, 2.0, 2.0, 5.0, 31.0, 2.0, 31.0, 1.0, 6.0, 1.0, 6.0, 6.0, 1.0, 4.0, 1.0, 1.0, 5.0, 8.0, 2.0, 2.0, 2.0, 1.0, 1.0, 2.0, 1.0, 7.0, 2.0, 2.0, 2.0, 1.0, 7.0, 1.0, 2.0, 1.0, 1.0, 7.0, 1.0, 7.0, 2.0, 1.0, 2.0, 1.0, 1.0, 7.0, 1.0, 1.0, 5.0, 1.0, 10.0, 7.0, 1.0, 1.0, 2.0, 1.0, 2.0, 2.0, 1.0, 1.0, 2.0, 1.0, 5.0, 2.0, 10.0, 9.0, 9.0, 2.0, 9.0, 1.0, 10.0, 1.0, 9.0, 10.0, 9.0, 2.0, 10.0, 10.0, 9.0, 2.0, 2.0, 10.0, 9.0, 1.0, 10.0, 10.0, 9.0, 10.0, 1.0, 9.0, 10.0, 2.0, 1.0, 7.0, 4.0, 4.0, 1.0, 1.0, 3.0, 2.0, 3.0, 4.0, 2.0, 5.0, 2.0, 11.0, 3.0, 1.0, 4.0, 1.0, 7.0, 1.0, 1.0, 2.0, 2.0, 4.0, 1.0, 7.0, 9.0, 3.0, 7.0, 1.0, 2.0, 9.0, 7.0, 9.0, 7.0, 1.0, 1.0, 9.0, 7.0, 9.0, 2.0, 1.0, 9.0, 1.0, 7.0, 9.0, 3.0, 9.0, 2.0, 3.0, 1.0, 2.0, 9.0, 7.0, 12.0, 12.0, 12.0, 12.0, 12.0, 12.0, 12.0, 12.0, 12.0, 12.0, 12.0, 12.0, 1.0, 3.0, 3.0, 3.0, 3.0, 3.0, 21.0, 21.0, 21.0, 21.0, 21.0, 21.0, 21.0, 21.0, 21.0, 21.0, 21.0, 21.0, 21.0, 21.0, 21.0, 21.0, 21.0, 21.0, 21.0, 21.0, 7.0, 7.0, 7.0, 7.0, 7.0, 7.0, 7.0, 3.0, 3.0, 3.0, 28.0, 28.0, 28.0, 28.0, 28.0, 28.0, 28.0, 28.0, 28.0, 28.0, 28.0, 28.0, 28.0, 28.0, 28.0, 28.0, 28.0, 28.0, 28.0, 28.0, 28.0, 28.0, 28.0, 28.0, 28.0, 28.0, 28.0, 7.0, 7.0, 3.0, 2.0, 7.0, 3.0, 3.0, 1.0, 2.0, 7.0, 7.0, 1.0, 1.0, 7.0, 2.0, 1.0, 2.0, 1.0, 12.0, 12.0, 1.0, 1.0, 2.0, 1.0, 1.0, 1.0, 2.0, 8.0, 1.0, 1.0, 2.0, 1.0, 1.0, 1.0, 2.0, 1.0, 1.0, 1.0, 3.0, 1.0, 1.0, 1.0, 1.0, 1.0, 5.0, 1.0, 2.0, 1.0, 1.0, 1.0, 3.0, 2.0, 1.0, 1.0, 5.0, 1.0, 9.0, 11.0, 6.0, 11.0, 6.0, 1.0, 11.0, 3.0, 11.0, 6.0, 2.0, 1.0, 4.0, 3.0, 11.0, 2.0, 11.0, 3.0, 2.0, 1.0, 1.0, 1.0, 11.0, 1.0, 3.0, 1.0, 3.0, 2.0, 2.0, 3.0, 4.0, 11.0, 3.0, 3.0, 6.0, 2.0, 3.0, 3.0, 3.0, 3.0, 3.0, 2.0, 3.0, 4.0, 2.0, 11.0, 1.0, 1.0, 4.0, 1.0, 2.0, 3.0, 6.0, 11.0, 2.0, 1.0, 11.0, 1.0, 6.0, 31.0, 8.0, 1.0, 2.0, 10.0, 3.0, 10.0, 1.0, 2.0, 2.0, 2.0, 10.0, 1.0, 1.0, 2.0, 2.0, 1.0, 1.0, 1.0, 1.0, 10.0, 2.0, 6.0, 3.0, 1.0, 1.0, 10.0, 1.0, 31.0, 1.0, 10.0, 6.0, 6.0, 6.0, 1.0, 1.0, 10.0, 2.0, 2.0, 22.0, 3.0, 2.0, 6.0, 2.0, 28.0, 10.0, 2.0, 2.0, 2.0, 3.0, 2.0, 6.0, 10.0, 1.0, 1.0, 6.0, 1.0, 1.0, 6.0, 10.0, 3.0, 3.0, 3.0, 3.0, 1.0, 31.0, 5.0, 24.0, 23.0, 2.0, 1.0, 23.0, 1.0, 24.0, 5.0, 1.0, 1.0, 1.0, 1.0, 23.0, 2.0, 2.0, 1.0, 1.0, 23.0, 3.0, 4.0, 2.0, 1.0, 1.0, 3.0, 23.0, 1.0, 23.0, 1.0, 3.0, 23.0, 1.0, 23.0, 1.0, 4.0, 2.0, 1.0, 1.0, 3.0, 3.0, 23.0, 5.0, 1.0, 1.0, 5.0, 1.0, 1.0, 23.0, 1.0, 3.0, 3.0, 2.0, 1.0, 3.0, 1.0, 1.0, 3.0, 24.0, 23.0, 8.0, 1.0, 1.0, 3.0, 2.0, 3.0, 24.0, 2.0, 2.0, 4.0, 1.0, 1.0, 1.0, 1.0, 1.0, 1.0, 1.0, 3.0, 1.0, 1.0, 23.0, 1.0, 23.0, 1.0, 1.0, 5.0, 24.0, 23.0, 8.0, 3.0, 1.0, 1.0, 1.0, 1.0, 2.0, 1.0, 1.0, 23.0, 2.0, 2.0, 2.0, 1.0, 12.0, 10.0, 1.0, 1.0, 1.0, 1.0, 3.0, 23.0, 3.0, 1.0, 23.0, 6.0, 10.0, 10.0, 1.0, 3.0, 1.0, 10.0, 10.0, 1.0, 3.0, 3.0, 4.0, 23.0, 10.0, 23.0, 1.0, 3.0, 1.0, 10.0, 10.0, 23.0, 1.0, 1.0, 3.0, 9.0, 23.0, 1.0, 7.0, 10.0, 1.0, 23.0, 10.0, 23.0, 1.0, 3.0, 1.0, 7.0, 7.0, 7.0, 7.0, 5.0, 7.0, 1.0, 7.0, 1.0, 1.0, 2.0, 1.0, 2.0, 2.0, 1.0, 3.0, 7.0, 1.0, 1.0, 1.0, 24.0, 6.0, 1.0, 6.0, 6.0, 6.0, 6.0, 6.0, 2.0, 1.0, 2.0, 1.0, 1.0, 1.0, 1.0, 2.0, 4.0, 10.0, 1.0, 1.0, 2.0, 2.0, 1.0, 7.0, 1.0, 10.0, 1.0, 10.0, 1.0, 2.0, 1.0, 1.0, 11.0, 1.0, 11.0, 2.0, 1.0, 10.0, 3.0, 10.0, 11.0, 1.0, 2.0, 7.0, 1.0, 1.0, 1.0, 1.0, 11.0, 3.0, 2.0, 1.0, 10.0, 4.0, 2.0, 1.0, 4.0, 1.0, 1.0, 1.0, 10.0, 2.0, 2.0, 10.0, 4.0, 11.0, 1.0, 3.0, 1.0, 1.0, 2.0, 4.0, 2.0, 11.0, 2.0, 4.0, 1.0, 2.0, 1.0, 8.0, 5.0, 15.0, 15.0, 15.0, 8.0, 2.0, 1.0, 1.0, 1.0, 2.0, 15.0, 6.0, 8.0, 1.0, 1.0, 6.0, 1.0, 6.0, 2.0, 8.0, 1.0, 5.0, 15.0, 6.0, 3.0, 1.0, 8.0, 15.0, 15.0, 2.0, 15.0, 8.0, 6.0, 5.0, 2.0, 15.0, 1.0, 3.0, 15.0, 1.0, 3.0, 1.0, 1.0, 15.0, 6.0, 3.0, 5.0, 1.0, 1.0, 15.0, 8.0, 1.0, 5.0, 2.0, 1.0, 2.0, 3.0, 22.0, 15.0, 2.0, 1.0, 8.0, 7.0, 1.0, 3.0, 1.0, 2.0, 12.0, 9.0, 6.0, 3.0, 2.0, 12.0, 9.0, 2.0, 2.0, 1.0, 2.0, 3.0, 1.0, 1.0, 1.0, 1.0, 2.0, 9.0, 3.0, 12.0, 1.0, 7.0, 3.0, 8.0, 1.0, 3.0, 7.0, 3.0, 1.0, 2.0, 1.0, 2.0, 12.0, 1.0, 2.0, 4.0, 1.0, 2.0, 12.0, 1.0, 1.0, 1.0, 7.0, 3.0, 7.0, 8.0, 2.0, 7.0, 1.0, 2.0, 1.0, 1.0, 6.0, 1.0, 1.0, 1.0, 3.0, 1.0, 7.0, 7.0, 2.0, 7.0, 3.0, 11.0, 1.0, 2.0, 3.0, 2.0, 1.0, 9.0, 2.0, 1.0, 2.0, 9.0, 1.0, 4.0, 3.0, 1.0, 3.0, 1.0, 7.0, 12.0, 3.0, 3.0, 1.0, 1.0, 1.0, 1.0, 1.0, 7.0, 3.0, 1.0, 3.0, 1.0, 2.0, 8.0, 3.0, 1.0, 8.0, 1.0, 1.0, 1.0, 2.0, 1.0, 1.0, 1.0, 3.0, 7.0, 1.0, 3.0, 1.0, 2.0, 1.0, 1.0, 8.0, 3.0, 3.0, 9.0, 8.0, 1.0, 2.0, 1.0, 3.0, 1.0, 9.0, 8.0, 12.0, 12.0, 7.0, 12.0, 12.0, 4.0, 1.0, 1.0, 1.0, 1.0, 1.0, 3.0, 6.0, 12.0, 2.0, 7.0, 9.0, 3.0, 3.0, 9.0, 2.0, 4.0, 1.0, 12.0, 3.0, 1.0, 1.0, 4.0, 2.0, 1.0, 4.0, 1.0, 6.0, 2.0, 1.0, 11.0, 2.0, 1.0, 1.0, 2.0, 2.0, 4.0, 2.0, 6.0, 1.0, 2.0, 11.0, 11.0, 4.0, 10.0, 11.0, 1.0, 2.0, 11.0, 2.0, 11.0, 4.0, 2.0, 3.0, 11.0, 4.0, 3.0, 11.0, 4.0, 4.0, 1.0, 4.0, 6.0, 11.0, 6.0, 31.0, 4.0, 11.0, 4.0, 1.0, 1.0, 11.0, 1.0, 1.0, 1.0, 1.0, 1.0, 1.0, 1.0, 1.0, 3.0, 1.0, 1.0, 1.0, 3.0, 3.0, 5.0, 1.0, 3.0, 1.0, 13.0, 1.0, 1.0, 3.0, 13.0, 4.0, 20.0, 3.0, 2.0, 3.0, 2.0, 1.0, 1.0, 1.0, 20.0, 1.0, 1.0, 1.0, 1.0, 2.0, 1.0, 1.0, 1.0, 1.0, 1.0, 20.0, 9.0, 1.0, 2.0, 2.0, 20.0, 1.0, 3.0, 3.0, 13.0, 3.0, 20.0, 1.0, 20.0, 1.0, 2.0, 1.0, 1.0, 1.0, 1.0, 3.0, 1.0, 1.0, 1.0, 1.0, 1.0, 13.0, 1.0, 1.0, 1.0, 1.0, 5.0, 1.0, 2.0, 1.0, 2.0, 3.0, 1.0, 1.0, 3.0, 1.0, 1.0, 1.0, 1.0, 1.0, 4.0, 2.0, 13.0, 2.0, 1.0, 20.0, 2.0, 1.0, 20.0, 2.0, 20.0, 5.0, 2.0, 1.0, 2.0, 1.0, 1.0, 2.0, 1.0, 2.0, 2.0, 1.0, 1.0, 20.0, 2.0, 1.0, 1.0, 2.0, 2.0, 1.0, 1.0, 1.0, 1.0, 1.0, 2.0, 13.0, 1.0, 1.0, 13.0, 13.0, 20.0, 1.0, 1.0, 1.0, 1.0, 13.0, 2.0, 2.0, 1.0, 4.0, 1.0, 1.0, 13.0, 1.0, 1.0, 20.0, 1.0, 2.0, 1.0, 20.0, 1.0, 20.0, 1.0, 2.0, 1.0, 3.0, 1.0, 20.0, 20.0, 13.0, 1.0, 2.0, 1.0, 1.0, 1.0, 1.0, 1.0, 5.0, 1.0, 1.0, 3.0, 1.0, 13.0, 20.0, 1.0, 2.0, 1.0, 1.0, 2.0, 1.0, 1.0, 2.0, 4.0, 1.0, 3.0, 1.0, 3.0, 1.0, 1.0, 3.0, 2.0, 5.0, 2.0, 1.0, 2.0, 1.0, 1.0, 1.0, 1.0, 20.0, 2.0, 20.0, 2.0, 1.0, 2.0, 20.0, 1.0, 1.0, 13.0, 2.0, 2.0, 1.0, 2.0, 1.0, 6.0, 8.0, 5.0, 1.0, 6.0, 5.0, 1.0, 1.0, 1.0, 1.0, 8.0, 2.0, 1.0, 1.0, 3.0, 6.0, 6.0, 1.0, 6.0, 1.0, 5.0, 8.0, 5.0, 2.0, 3.0, 2.0, 6.0, 8.0, 2.0, 2.0, 2.0, 2.0, 5.0, 8.0, 1.0, 1.0, 3.0, 1.0, 1.0, 8.0, 1.0, 1.0, 3.0, 2.0, 8.0, 1.0, 3.0, 1.0, 1.0, 8.0, 6.0, 2.0, 16.0, 1.0, 16.0, 1.0, 1.0, 2.0, 16.0, 16.0, 1.0, 16.0, 1.0, 4.0, 1.0, 2.0, 16.0, 2.0, 6.0, 16.0, 1.0, 16.0, 16.0, 2.0, 1.0, 1.0, 16.0, 16.0, 16.0, 3.0, 2.0, 16.0, 16.0, 3.0, 1.0, 3.0, 6.0, 16.0, 1.0, 16.0, 1.0, 2.0, 2.0, 2.0, 2.0, 10.0, 2.0, 1.0, 2.0, 1.0, 12.0, 1.0, 2.0, 1.0, 10.0, 13.0, 1.0, 1.0, 2.0, 2.0, 13.0, 1.0, 1.0, 1.0, 3.0, 1.0, 13.0, 13.0, 2.0, 1.0, 1.0, 1.0, 1.0, 2.0, 2.0, 1.0, 10.0, 1.0, 1.0, 2.0, 3.0, 13.0, 1.0, 2.0, 1.0, 2.0, 1.0, 12.0, 10.0, 2.0, 1.0, 2.0, 3.0, 10.0, 1.0, 1.0, 2.0, 2.0, 2.0, 10.0, 3.0, 10.0, 13.0, 1.0, 3.0, 13.0, 10.0, 13.0, 1.0, 13.0, 1.0, 2.0, 1.0, 3.0, 2.0, 1.0, 12.0, 3.0, 10.0, 1.0, 1.0, 2.0, 12.0, 1.0, 2.0, 1.0, 1.0, 1.0, 10.0, 2.0, 13.0, 1.0, 1.0, 1.0, 13.0, 2.0, 2.0, 2.0, 13.0, 13.0, 1.0, 3.0, 1.0, 23.0, 23.0, 2.0, 15.0, 2.0, 1.0, 1.0, 1.0, 9.0, 1.0, 1.0, 1.0, 9.0, 23.0, 3.0, 1.0, 6.0, 1.0, 1.0, 9.0, 6.0, 1.0, 2.0, 23.0, 1.0, 6.0, 1.0, 9.0, 6.0, 23.0, 9.0, 23.0, 23.0, 1.0, 23.0, 23.0, 6.0, 9.0, 11.0, 2.0, 1.0, 23.0, 23.0, 1.0, 11.0, 15.0, 1.0, 1.0, 10.0, 6.0, 1.0, 2.0, 23.0, 23.0, 23.0, 1.0, 11.0, 6.0, 2.0, 2.0, 2.0, 1.0, 1.0, 11.0, 3.0, 1.0, 23.0, 2.0, 23.0, 3.0, 2.0, 1.0, 3.0, 9.0, 23.0, 1.0, 1.0, 23.0, 1.0, 2.0, 23.0, 1.0, 1.0, 3.0, 1.0, 9.0, 23.0, 1.0, 1.0, 1.0, 2.0, 1.0, 1.0, 1.0, 23.0, 1.0, 1.0, 23.0, 23.0, 1.0, 9.0, 1.0, 1.0, 19.0, 3.0, 9.0, 19.0, 19.0, 19.0, 1.0, 19.0, 10.0, 10.0, 10.0, 12.0, 12.0, 19.0, 1.0, 10.0, 10.0, 19.0, 1.0, 10.0, 19.0, 3.0, 1.0, 12.0, 1.0, 9.0, 3.0, 10.0, 19.0, 19.0, 10.0, 1.0, 2.0, 12.0, 9.0, 1.0, 1.0, 2.0, 3.0, 19.0, 19.0, 9.0, 1.0, 2.0, 19.0, 3.0, 1.0, 2.0, 12.0, 19.0, 19.0, 2.0, 2.0, 9.0, 19.0, 10.0, 1.0, 10.0, 3.0, 19.0, 3.0, 19.0, 19.0, 2.0, 4.0, 4.0, 4.0, 4.0, 2.0, 2.0, 3.0, 3.0, 1.0, 1.0, 2.0, 2.0, 2.0, 3.0, 1.0, 3.0, 11.0, 11.0, 10.0, 11.0, 1.0, 2.0, 2.0, 1.0, 10.0, 1.0, 1.0, 11.0, 11.0, 9.0, 11.0, 7.0, 10.0, 3.0, 1.0, 31.0, 11.0, 1.0, 10.0, 10.0, 1.0, 1.0, 3.0, 1.0, 1.0, 3.0, 1.0, 1.0, 3.0, 2.0, 1.0, 1.0, 1.0, 1.0, 10.0, 10.0, 3.0, 1.0, 2.0, 10.0, 10.0, 11.0, 11.0, 2.0, 3.0, 2.0, 2.0, 2.0, 6.0, 5.0, 2.0, 2.0, 1.0, 1.0, 1.0, 1.0, 11.0, 2.0, 3.0, 1.0, 1.0, 1.0, 1.0, 1.0, 1.0, 1.0, 1.0, 3.0, 2.0, 1.0, 1.0, 3.0, 1.0, 1.0, 1.0, 7.0, 2.0, 1.0, 3.0, 2.0, 1.0, 1.0, 1.0, 1.0, 1.0, 5.0, 2.0, 1.0, 1.0, 1.0, 1.0, 1.0, 1.0, 1.0, 1.0, 1.0, 2.0, 1.0, 1.0, 2.0, 2.0, 2.0, 3.0, 4.0, 1.0, 1.0, 3.0, 3.0, 1.0, 1.0, 3.0, 1.0, 2.0, 1.0, 1.0, 1.0, 1.0, 2.0, 1.0, 1.0, 7.0, 3.0, 1.0, 5.0, 1.0, 2.0, 3.0, 1.0, 1.0, 1.0, 1.0, 1.0, 1.0, 3.0, 1.0, 1.0, 1.0, 1.0, 3.0, 3.0, 2.0, 2.0, 5.0, 3.0, 3.0, 2.0, 1.0, 1.0, 3.0, 3.0, 1.0, 2.0, 1.0, 1.0, 1.0, 1.0, 2.0, 3.0, 1.0, 1.0, 1.0, 1.0, 1.0, 2.0, 1.0, 12.0, 2.0, 1.0, 2.0, 3.0, 3.0, 3.0, 5.0, 38.0, 6.0, 1.0, 3.0, 38.0, 38.0, 38.0, 38.0, 5.0, 5.0, 5.0, 1.0, 2.0, 1.0, 8.0, 1.0, 38.0, 38.0, 2.0, 1.0, 1.0, 1.0, 1.0, 2.0, 2.0, 2.0, 1.0, 38.0, 6.0, 1.0, 1.0, 5.0, 38.0, 5.0, 1.0, 38.0, 5.0, 1.0, 5.0, 38.0, 1.0, 1.0, 1.0, 2.0, 1.0, 4.0, 5.0, 4.0, 1.0, 1.0, 2.0, 5.0, 1.0, 38.0, 5.0, 1.0, 1.0, 2.0, 1.0, 4.0, 5.0, 6.0, 1.0, 8.0, 3.0, 38.0, 1.0, 1.0, 5.0, 1.0, 38.0, 38.0, 6.0, 1.0, 8.0, 3.0, 3.0, 1.0, 8.0, 1.0, 1.0, 4.0, 3.0, 38.0, 10.0, 10.0, 4.0, 1.0, 1.0, 2.0, 38.0, 1.0, 1.0, 8.0, 5.0, 2.0, 4.0, 4.0, 2.0, 5.0, 38.0, 2.0, 1.0, 38.0, 6.0, 38.0, 38.0, 3.0, 38.0, 10.0, 1.0, 5.0, 1.0, 6.0, 1.0, 4.0, 8.0, 8.0, 38.0, 2.0, 38.0, 38.0, 4.0, 2.0, 3.0, 1.0, 5.0, 3.0, 7.0, 38.0, 3.0, 38.0, 2.0, 1.0, 1.0, 3.0, 2.0, 1.0, 2.0, 10.0, 2.0, 2.0, 8.0, 1.0, 38.0, 10.0, 2.0, 10.0, 2.0, 6.0, 38.0, 6.0, 10.0, 5.0, 1.0, 3.0, 1.0, 1.0, 3.0, 38.0, 5.0, 4.0, 3.0, 6.0, 38.0, 38.0, 7.0, 4.0, 5.0, 1.0, 1.0, 3.0, 5.0, 1.0, 2.0, 6.0, 1.0, 1.0, 3.0, 1.0, 5.0, 2.0, 38.0, 2.0, 38.0, 1.0, 5.0, 3.0, 2.0, 2.0, 2.0, 38.0, 5.0, 38.0, 2.0, 2.0, 6.0, 8.0, 2.0, 2.0, 10.0, 1.0, 3.0, 7.0, 3.0, 2.0, 7.0, 10.0, 4.0, 2.0, 1.0, 2.0, 4.0, 4.0, 1.0, 3.0, 2.0, 1.0, 5.0, 3.0, 2.0, 1.0, 5.0, 5.0, 1.0, 10.0, 2.0, 1.0, 38.0, 5.0, 5.0, 1.0, 1.0, 38.0, 19.0, 2.0, 3.0, 1.0, 15.0, 15.0, 2.0, 2.0, 4.0, 3.0, 2.0, 3.0, 1.0, 1.0, 19.0, 1.0, 1.0, 1.0, 3.0, 1.0, 3.0, 19.0, 2.0, 1.0, 3.0, 3.0, 19.0, 19.0, 19.0, 1.0, 2.0, 19.0, 1.0, 2.0, 1.0, 1.0, 19.0, 2.0, 19.0, 1.0, 1.0, 3.0, 3.0, 2.0, 1.0, 15.0, 19.0, 15.0, 1.0, 1.0, 4.0, 1.0, 1.0, 15.0, 3.0, 1.0, 19.0, 3.0, 2.0, 2.0, 3.0, 2.0, 1.0, 19.0, 19.0, 1.0, 4.0, 19.0, 1.0, 15.0, 1.0, 2.0, 3.0, 1.0, 15.0, 1.0, 19.0, 3.0, 3.0, 1.0, 1.0, 3.0, 3.0, 1.0, 1.0, 1.0, 2.0, 1.0, 1.0, 15.0, 1.0, 1.0, 1.0, 3.0, 2.0, 1.0, 2.0, 1.0, 1.0, 3.0, 3.0, 1.0, 2.0, 4.0, 1.0, 1.0, 19.0, 2.0, 4.0, 2.0, 2.0, 19.0, 6.0, 19.0, 15.0, 19.0, 1.0, 1.0, 15.0, 15.0, 3.0, 1.0, 2.0, 1.0, 1.0, 1.0, 2.0, 2.0, 2.0, 8.0, 3.0, 1.0, 8.0, 1.0, 1.0, 3.0, 3.0, 2.0, 1.0, 2.0, 1.0, 1.0, 3.0, 5.0, 1.0, 1.0, 1.0, 2.0, 3.0, 4.0, 1.0, 2.0, 2.0, 4.0, 10.0, 4.0, 3.0, 3.0, 3.0, 2.0, 2.0, 2.0, 8.0, 1.0, 4.0, 2.0, 8.0, 3.0, 3.0, 8.0, 8.0, 1.0, 1.0, 1.0, 1.0, 3.0, 2.0, 1.0, 1.0, 1.0, 2.0, 2.0, 11.0, 11.0, 11.0, 11.0, 11.0, 11.0, 11.0, 11.0, 11.0, 11.0, 11.0, 1.0, 1.0, 1.0, 1.0, 1.0, 7.0, 2.0, 2.0, 3.0, 1.0, 2.0, 2.0, 8.0, 8.0, 8.0, 8.0, 8.0, 8.0, 1.0, 2.0, 1.0, 10.0, 10.0, 10.0, 10.0, 10.0, 10.0, 10.0, 10.0, 10.0, 10.0, 1.0, 2.0, 1.0, 2.0, 2.0, 1.0, 6.0, 1.0, 6.0, 6.0, 1.0, 1.0, 6.0, 6.0, 6.0, 1.0, 3.0, 2.0, 4.0, 3.0, 4.0, 6.0, 6.0, 3.0, 5.0, 1.0, 6.0, 6.0, 5.0, 2.0, 1.0, 2.0, 5.0, 4.0, 1.0, 2.0, 4.0, 3.0, 1.0, 5.0, 6.0, 1.0, 4.0, 6.0, 5.0, 1.0, 4.0, 9.0, 4.0, 4.0, 1.0, 2.0, 2.0, 4.0, 9.0, 1.0, 9.0, 1.0, 4.0, 4.0, 1.0, 1.0, 9.0, 2.0, 1.0, 1.0, 2.0, 2.0, 1.0, 1.0, 2.0, 9.0, 2.0, 1.0, 2.0, 4.0, 4.0, 9.0, 2.0, 9.0, 9.0, 1.0, 2.0, 1.0, 2.0, 2.0, 9.0, 1.0, 3.0, 6.0, 4.0, 7.0, 2.0, 3.0, 6.0, 3.0, 4.0, 1.0, 7.0, 7.0, 1.0, 6.0, 6.0, 6.0, 7.0, 7.0, 4.0, 7.0, 7.0, 6.0, 4.0, 3.0, 5.0, 5.0, 2.0, 1.0, 5.0, 5.0, 5.0, 1.0, 2.0, 2.0, 2.0, 3.0, 2.0, 1.0, 1.0, 2.0, 1.0, 7.0, 7.0, 1.0, 2.0, 3.0, 2.0, 2.0, 7.0, 1.0, 3.0, 7.0, 3.0, 7.0, 2.0, 7.0, 1.0, 7.0, 7.0, 7.0, 7.0, 7.0, 7.0, 7.0, 1.0, 2.0, 1.0, 1.0, 1.0, 1.0, 5.0, 5.0, 5.0, 1.0, 5.0, 1.0, 5.0, 1.0, 1.0, 1.0, 11.0, 1.0, 8.0, 1.0, 7.0, 6.0, 7.0, 7.0, 5.0, 1.0, 1.0, 2.0, 8.0, 1.0, 8.0, 6.0, 1.0, 6.0, 1.0, 1.0, 2.0, 1.0, 5.0, 1.0, 2.0, 7.0, 7.0, 6.0, 1.0, 8.0, 6.0, 6.0, 1.0, 1.0, 8.0, 1.0, 2.0, 8.0, 8.0, 8.0, 1.0, 4.0, 1.0, 7.0, 1.0, 7.0, 1.0, 3.0, 3.0, 2.0, 1.0, 3.0, 2.0, 2.0, 1.0, 1.0, 1.0, 1.0, 1.0, 1.0, 1.0, 3.0, 3.0, 1.0, 3.0, 2.0, 1.0, 6.0, 1.0, 6.0, 6.0, 6.0, 6.0, 6.0, 2.0, 1.0, 2.0, 2.0, 2.0, 2.0, 2.0, 2.0, 4.0, 4.0, 1.0, 1.0, 4.0, 3.0, 3.0, 4.0, 4.0, 1.0, 1.0, 3.0, 2.0, 4.0, 1.0, 4.0, 1.0, 2.0, 2.0, 4.0, 8.0, 3.0, 8.0, 11.0, 8.0, 1.0, 3.0, 8.0, 3.0, 11.0, 1.0, 1.0, 1.0, 1.0, 11.0, 8.0, 1.0, 11.0, 11.0, 1.0, 1.0, 1.0, 2.0, 3.0, 3.0, 8.0, 5.0, 11.0, 1.0, 8.0, 1.0, 8.0, 3.0, 11.0, 11.0, 2.0, 1.0, 5.0, 1.0, 11.0, 8.0, 11.0, 11.0, 8.0, 5.0, 5.0, 5.0, 11.0, 8.0, 8.0, 11.0, 1.0, 18.0, 18.0, 18.0, 18.0, 18.0, 3.0, 3.0, 18.0, 18.0, 3.0, 3.0, 3.0, 18.0, 18.0, 18.0, 18.0, 18.0, 1.0, 18.0, 1.0, 1.0, 18.0, 18.0, 18.0, 18.0, 3.0, 18.0, 1.0, 2.0, 2.0, 2.0, 5.0, 4.0, 6.0, 4.0, 2.0, 1.0, 6.0, 1.0, 4.0, 6.0, 2.0, 1.0, 4.0, 4.0, 5.0, 4.0, 4.0, 6.0, 5.0, 6.0, 6.0, 4.0, 2.0, 5.0, 5.0, 5.0, 5.0, 5.0, 1.0, 1.0, 2.0, 2.0, 2.0, 2.0, 2.0, 2.0, 2.0, 1.0, 2.0, 1.0, 3.0, 1.0, 1.0, 1.0, 2.0, 2.0, 2.0, 1.0, 2.0, 2.0, 1.0, 2.0, 13.0, 2.0, 13.0, 13.0, 2.0, 13.0, 13.0, 1.0, 13.0, 13.0, 13.0, 13.0, 13.0, 13.0, 1.0, 13.0, 13.0, 1.0, 1.0, 1.0, 4.0, 2.0, 4.0, 2.0, 4.0, 1.0, 4.0, 1.0, 4.0, 4.0, 4.0, 1.0, 1.0, 1.0, 7.0, 7.0, 1.0, 1.0, 1.0, 3.0, 6.0, 6.0, 2.0, 6.0, 3.0, 2.0, 2.0, 6.0, 6.0, 3.0, 2.0, 1.0, 6.0, 1.0, 1.0, 1.0, 9.0, 9.0, 1.0, 2.0, 2.0, 9.0, 9.0, 2.0, 9.0, 9.0, 9.0, 9.0, 9.0, 1.0, 2.0, 3.0, 5.0, 3.0, 5.0, 5.0, 5.0, 3.0, 1.0, 5.0, 1.0, 5.0, 5.0, 5.0, 1.0, 5.0, 3.0, 6.0, 6.0, 1.0, 5.0, 5.0, 3.0, 3.0, 3.0, 1.0, 1.0, 2.0, 1.0, 2.0, 2.0, 2.0, 2.0, 2.0, 2.0, 2.0, 1.0, 1.0, 1.0, 1.0, 2.0, 2.0, 1.0, 1.0, 2.0, 24.0, 3.0, 3.0, 3.0, 2.0, 2.0, 2.0, 1.0, 1.0, 2.0, 1.0, 11.0, 6.0, 6.0, 6.0, 6.0, 6.0, 4.0, 4.0, 4.0, 4.0, 1.0, 2.0, 2.0, 4.0, 4.0, 4.0, 4.0, 4.0, 4.0, 1.0, 4.0, 3.0, 4.0, 4.0, 1.0, 4.0, 11.0, 2.0, 4.0, 6.0, 11.0, 11.0, 11.0, 11.0, 11.0, 2.0, 24.0, 11.0, 4.0, 2.0, 1.0, 11.0, 11.0, 11.0, 6.0, 4.0, 2.0, 1.0, 6.0, 6.0, 6.0, 6.0, 15.0, 4.0, 4.0, 4.0, 3.0, 3.0, 3.0, 1.0, 1.0, 1.0, 1.0, 1.0, 7.0, 7.0, 9.0, 9.0, 9.0, 9.0, 9.0, 9.0, 9.0, 9.0, 1.0, 5.0, 5.0, 2.0, 2.0, 3.0, 6.0, 4.0, 1.0, 1.0, 22.0, 22.0, 22.0, 22.0, 22.0, 22.0, 22.0, 22.0, 22.0, 22.0, 22.0, 22.0, 22.0, 22.0, 22.0, 22.0, 22.0, 22.0, 22.0, 2.0, 2.0, 1.0, 4.0, 4.0, 1.0, 9.0, 24.0, 9.0, 5.0, 5.0, 5.0, 5.0, 5.0, 1.0, 1.0, 1.0, 1.0, 14.0, 14.0, 14.0, 14.0, 14.0, 14.0, 14.0, 14.0, 14.0, 14.0, 14.0, 14.0, 14.0, 14.0, 11.0, 11.0, 1.0, 1.0, 1.0, 2.0, 2.0, 7.0, 7.0, 7.0, 7.0, 2.0, 3.0, 5.0, 1.0, 5.0, 2.0, 3.0, 2.0, 3.0, 5.0, 1.0, 1.0, 1.0, 1.0, 5.0, 5.0, 1.0, 3.0, 2.0, 1.0, 2.0, 1.0, 1.0, 3.0], \"sizemode\": \"area\", \"sizeref\": 0.095}, \"mode\": \"markers\", \"name\": \"\", \"showlegend\": false, \"subplot\": \"mapbox\", \"type\": \"scattermapbox\"}],                        {\"height\": 700, \"legend\": {\"itemsizing\": \"constant\", \"tracegroupgap\": 0}, \"mapbox\": {\"center\": {\"lat\": 39.717621161950156, \"lon\": -94.11142036456808}, \"domain\": {\"x\": [0.0, 1.0], \"y\": [0.0, 1.0]}, \"style\": \"open-street-map\", \"zoom\": 3}, \"margin\": {\"b\": 0, \"l\": 0, \"r\": 0, \"t\": 0}, \"template\": {\"data\": {\"bar\": [{\"error_x\": {\"color\": \"#2a3f5f\"}, \"error_y\": {\"color\": \"#2a3f5f\"}, \"marker\": {\"line\": {\"color\": \"#E5ECF6\", \"width\": 0.5}}, \"type\": \"bar\"}], \"barpolar\": [{\"marker\": {\"line\": {\"color\": \"#E5ECF6\", \"width\": 0.5}}, \"type\": \"barpolar\"}], \"carpet\": [{\"aaxis\": {\"endlinecolor\": \"#2a3f5f\", \"gridcolor\": \"white\", \"linecolor\": \"white\", \"minorgridcolor\": \"white\", \"startlinecolor\": \"#2a3f5f\"}, \"baxis\": {\"endlinecolor\": \"#2a3f5f\", \"gridcolor\": \"white\", \"linecolor\": \"white\", \"minorgridcolor\": \"white\", \"startlinecolor\": \"#2a3f5f\"}, \"type\": \"carpet\"}], \"choropleth\": [{\"colorbar\": {\"outlinewidth\": 0, \"ticks\": \"\"}, \"type\": \"choropleth\"}], \"contour\": [{\"colorbar\": {\"outlinewidth\": 0, \"ticks\": \"\"}, \"colorscale\": [[0.0, \"#0d0887\"], [0.1111111111111111, \"#46039f\"], [0.2222222222222222, \"#7201a8\"], [0.3333333333333333, \"#9c179e\"], [0.4444444444444444, \"#bd3786\"], [0.5555555555555556, \"#d8576b\"], [0.6666666666666666, \"#ed7953\"], [0.7777777777777778, \"#fb9f3a\"], [0.8888888888888888, \"#fdca26\"], [1.0, \"#f0f921\"]], \"type\": \"contour\"}], \"contourcarpet\": [{\"colorbar\": {\"outlinewidth\": 0, \"ticks\": \"\"}, \"type\": \"contourcarpet\"}], \"heatmap\": [{\"colorbar\": {\"outlinewidth\": 0, \"ticks\": \"\"}, \"colorscale\": [[0.0, \"#0d0887\"], [0.1111111111111111, \"#46039f\"], [0.2222222222222222, \"#7201a8\"], [0.3333333333333333, \"#9c179e\"], [0.4444444444444444, \"#bd3786\"], [0.5555555555555556, \"#d8576b\"], [0.6666666666666666, \"#ed7953\"], [0.7777777777777778, \"#fb9f3a\"], [0.8888888888888888, \"#fdca26\"], [1.0, \"#f0f921\"]], \"type\": \"heatmap\"}], \"heatmapgl\": [{\"colorbar\": {\"outlinewidth\": 0, \"ticks\": \"\"}, \"colorscale\": [[0.0, \"#0d0887\"], [0.1111111111111111, \"#46039f\"], [0.2222222222222222, \"#7201a8\"], [0.3333333333333333, \"#9c179e\"], [0.4444444444444444, \"#bd3786\"], [0.5555555555555556, \"#d8576b\"], [0.6666666666666666, \"#ed7953\"], [0.7777777777777778, \"#fb9f3a\"], [0.8888888888888888, \"#fdca26\"], [1.0, \"#f0f921\"]], \"type\": \"heatmapgl\"}], \"histogram\": [{\"marker\": {\"colorbar\": {\"outlinewidth\": 0, \"ticks\": \"\"}}, \"type\": \"histogram\"}], \"histogram2d\": [{\"colorbar\": {\"outlinewidth\": 0, \"ticks\": \"\"}, \"colorscale\": [[0.0, \"#0d0887\"], [0.1111111111111111, \"#46039f\"], [0.2222222222222222, \"#7201a8\"], [0.3333333333333333, \"#9c179e\"], [0.4444444444444444, \"#bd3786\"], [0.5555555555555556, \"#d8576b\"], [0.6666666666666666, \"#ed7953\"], [0.7777777777777778, \"#fb9f3a\"], [0.8888888888888888, \"#fdca26\"], [1.0, \"#f0f921\"]], \"type\": \"histogram2d\"}], \"histogram2dcontour\": [{\"colorbar\": {\"outlinewidth\": 0, \"ticks\": \"\"}, \"colorscale\": [[0.0, \"#0d0887\"], [0.1111111111111111, \"#46039f\"], [0.2222222222222222, \"#7201a8\"], [0.3333333333333333, \"#9c179e\"], [0.4444444444444444, \"#bd3786\"], [0.5555555555555556, \"#d8576b\"], [0.6666666666666666, \"#ed7953\"], [0.7777777777777778, \"#fb9f3a\"], [0.8888888888888888, \"#fdca26\"], [1.0, \"#f0f921\"]], \"type\": \"histogram2dcontour\"}], \"mesh3d\": [{\"colorbar\": {\"outlinewidth\": 0, \"ticks\": \"\"}, \"type\": \"mesh3d\"}], \"parcoords\": [{\"line\": {\"colorbar\": {\"outlinewidth\": 0, \"ticks\": \"\"}}, \"type\": \"parcoords\"}], \"pie\": [{\"automargin\": true, \"type\": \"pie\"}], \"scatter\": [{\"marker\": {\"colorbar\": {\"outlinewidth\": 0, \"ticks\": \"\"}}, \"type\": \"scatter\"}], \"scatter3d\": [{\"line\": {\"colorbar\": {\"outlinewidth\": 0, \"ticks\": \"\"}}, \"marker\": {\"colorbar\": {\"outlinewidth\": 0, \"ticks\": \"\"}}, \"type\": \"scatter3d\"}], \"scattercarpet\": [{\"marker\": {\"colorbar\": {\"outlinewidth\": 0, \"ticks\": \"\"}}, \"type\": \"scattercarpet\"}], \"scattergeo\": [{\"marker\": {\"colorbar\": {\"outlinewidth\": 0, \"ticks\": \"\"}}, \"type\": \"scattergeo\"}], \"scattergl\": [{\"marker\": {\"colorbar\": {\"outlinewidth\": 0, \"ticks\": \"\"}}, \"type\": \"scattergl\"}], \"scattermapbox\": [{\"marker\": {\"colorbar\": {\"outlinewidth\": 0, \"ticks\": \"\"}}, \"type\": \"scattermapbox\"}], \"scatterpolar\": [{\"marker\": {\"colorbar\": {\"outlinewidth\": 0, \"ticks\": \"\"}}, \"type\": \"scatterpolar\"}], \"scatterpolargl\": [{\"marker\": {\"colorbar\": {\"outlinewidth\": 0, \"ticks\": \"\"}}, \"type\": \"scatterpolargl\"}], \"scatterternary\": [{\"marker\": {\"colorbar\": {\"outlinewidth\": 0, \"ticks\": \"\"}}, \"type\": \"scatterternary\"}], \"surface\": [{\"colorbar\": {\"outlinewidth\": 0, \"ticks\": \"\"}, \"colorscale\": [[0.0, \"#0d0887\"], [0.1111111111111111, \"#46039f\"], [0.2222222222222222, \"#7201a8\"], [0.3333333333333333, \"#9c179e\"], [0.4444444444444444, \"#bd3786\"], [0.5555555555555556, \"#d8576b\"], [0.6666666666666666, \"#ed7953\"], [0.7777777777777778, \"#fb9f3a\"], [0.8888888888888888, \"#fdca26\"], [1.0, \"#f0f921\"]], \"type\": \"surface\"}], \"table\": [{\"cells\": {\"fill\": {\"color\": \"#EBF0F8\"}, \"line\": {\"color\": \"white\"}}, \"header\": {\"fill\": {\"color\": \"#C8D4E3\"}, \"line\": {\"color\": \"white\"}}, \"type\": \"table\"}]}, \"layout\": {\"annotationdefaults\": {\"arrowcolor\": \"#2a3f5f\", \"arrowhead\": 0, \"arrowwidth\": 1}, \"autotypenumbers\": \"strict\", \"coloraxis\": {\"colorbar\": {\"outlinewidth\": 0, \"ticks\": \"\"}}, \"colorscale\": {\"diverging\": [[0, \"#8e0152\"], [0.1, \"#c51b7d\"], [0.2, \"#de77ae\"], [0.3, \"#f1b6da\"], [0.4, \"#fde0ef\"], [0.5, \"#f7f7f7\"], [0.6, \"#e6f5d0\"], [0.7, \"#b8e186\"], [0.8, \"#7fbc41\"], [0.9, \"#4d9221\"], [1, \"#276419\"]], \"sequential\": [[0.0, \"#0d0887\"], [0.1111111111111111, \"#46039f\"], [0.2222222222222222, \"#7201a8\"], [0.3333333333333333, \"#9c179e\"], [0.4444444444444444, \"#bd3786\"], [0.5555555555555556, \"#d8576b\"], [0.6666666666666666, \"#ed7953\"], [0.7777777777777778, \"#fb9f3a\"], [0.8888888888888888, \"#fdca26\"], [1.0, \"#f0f921\"]], \"sequentialminus\": [[0.0, \"#0d0887\"], [0.1111111111111111, \"#46039f\"], [0.2222222222222222, \"#7201a8\"], [0.3333333333333333, \"#9c179e\"], [0.4444444444444444, \"#bd3786\"], [0.5555555555555556, \"#d8576b\"], [0.6666666666666666, \"#ed7953\"], [0.7777777777777778, \"#fb9f3a\"], [0.8888888888888888, \"#fdca26\"], [1.0, \"#f0f921\"]]}, \"colorway\": [\"#636efa\", \"#EF553B\", \"#00cc96\", \"#ab63fa\", \"#FFA15A\", \"#19d3f3\", \"#FF6692\", \"#B6E880\", \"#FF97FF\", \"#FECB52\"], \"font\": {\"color\": \"#2a3f5f\"}, \"geo\": {\"bgcolor\": \"white\", \"lakecolor\": \"white\", \"landcolor\": \"#E5ECF6\", \"showlakes\": true, \"showland\": true, \"subunitcolor\": \"white\"}, \"hoverlabel\": {\"align\": \"left\"}, \"hovermode\": \"closest\", \"mapbox\": {\"style\": \"light\"}, \"paper_bgcolor\": \"white\", \"plot_bgcolor\": \"#E5ECF6\", \"polar\": {\"angularaxis\": {\"gridcolor\": \"white\", \"linecolor\": \"white\", \"ticks\": \"\"}, \"bgcolor\": \"#E5ECF6\", \"radialaxis\": {\"gridcolor\": \"white\", \"linecolor\": \"white\", \"ticks\": \"\"}}, \"scene\": {\"xaxis\": {\"backgroundcolor\": \"#E5ECF6\", \"gridcolor\": \"white\", \"gridwidth\": 2, \"linecolor\": \"white\", \"showbackground\": true, \"ticks\": \"\", \"zerolinecolor\": \"white\"}, \"yaxis\": {\"backgroundcolor\": \"#E5ECF6\", \"gridcolor\": \"white\", \"gridwidth\": 2, \"linecolor\": \"white\", \"showbackground\": true, \"ticks\": \"\", \"zerolinecolor\": \"white\"}, \"zaxis\": {\"backgroundcolor\": \"#E5ECF6\", \"gridcolor\": \"white\", \"gridwidth\": 2, \"linecolor\": \"white\", \"showbackground\": true, \"ticks\": \"\", \"zerolinecolor\": \"white\"}}, \"shapedefaults\": {\"line\": {\"color\": \"#2a3f5f\"}}, \"ternary\": {\"aaxis\": {\"gridcolor\": \"white\", \"linecolor\": \"white\", \"ticks\": \"\"}, \"baxis\": {\"gridcolor\": \"white\", \"linecolor\": \"white\", \"ticks\": \"\"}, \"bgcolor\": \"#E5ECF6\", \"caxis\": {\"gridcolor\": \"white\", \"linecolor\": \"white\", \"ticks\": \"\"}}, \"title\": {\"x\": 0.05}, \"xaxis\": {\"automargin\": true, \"gridcolor\": \"white\", \"linecolor\": \"white\", \"ticks\": \"\", \"title\": {\"standoff\": 15}, \"zerolinecolor\": \"white\", \"zerolinewidth\": 2}, \"yaxis\": {\"automargin\": true, \"gridcolor\": \"white\", \"linecolor\": \"white\", \"ticks\": \"\", \"title\": {\"standoff\": 15}, \"zerolinecolor\": \"white\", \"zerolinewidth\": 2}}}},                        {\"responsive\": true}                    ).then(function(){\n",
       "                            \n",
       "var gd = document.getElementById('d72435de-6696-4364-ad26-c666b78f24a5');\n",
       "var x = new MutationObserver(function (mutations, observer) {{\n",
       "        var display = window.getComputedStyle(gd).display;\n",
       "        if (!display || display === 'none') {{\n",
       "            console.log([gd, 'removed!']);\n",
       "            Plotly.purge(gd);\n",
       "            observer.disconnect();\n",
       "        }}\n",
       "}});\n",
       "\n",
       "// Listen for the removal of the full notebook cells\n",
       "var notebookContainer = gd.closest('#notebook-container');\n",
       "if (notebookContainer) {{\n",
       "    x.observe(notebookContainer, {childList: true});\n",
       "}}\n",
       "\n",
       "// Listen for the clearing of the current output cell\n",
       "var outputEl = gd.closest('.output');\n",
       "if (outputEl) {{\n",
       "    x.observe(outputEl, {childList: true});\n",
       "}}\n",
       "\n",
       "                        })                };                });            </script>        </div>"
      ]
     },
     "metadata": {},
     "output_type": "display_data"
    }
   ],
   "source": [
    "import plotly.express as px\n",
    "\n",
    "counts_dict = allBreweries['breweryCity'].dropna().value_counts().to_dict()\n",
    "\n",
    "allBreweries['breweryCounts'] = allBreweries.dropna().apply(lambda x: counts_dict[x.breweryCity], axis=1)\n",
    "\n",
    "\n",
    "fig = px.scatter_mapbox(allBreweries.dropna(), lat=\"lat\", lon=\"lon\", hover_name=\"breweryCity\",\n",
    "                                    hover_data=[\"breweryState\",\"breweryCounts\"],\n",
    "                                    color_discrete_sequence=[\"fuchsia\"], \n",
    "                                    size=\"breweryCounts\", \n",
    "                                    opacity=0.2, zoom=3, height=700)\n",
    "\n",
    "fig.update_layout(mapbox_style=\"open-street-map\")\n",
    "fig.update_layout(margin={\"r\":0,\"t\":0,\"l\":0,\"b\":0})\n",
    "fig.show()\n"
   ]
  },
  {
   "cell_type": "code",
   "execution_count": 104,
   "id": "8fcbd29b",
   "metadata": {},
   "outputs": [
    {
     "data": {
      "text/plain": [
       "1950"
      ]
     },
     "execution_count": 104,
     "metadata": {},
     "output_type": "execute_result"
    }
   ],
   "source": [
    "len(cached_latlons)"
   ]
  },
  {
   "cell_type": "code",
   "execution_count": null,
   "id": "295d7742",
   "metadata": {},
   "outputs": [],
   "source": []
  }
 ],
 "metadata": {
  "kernelspec": {
   "display_name": "Python 3",
   "language": "python",
   "name": "python3"
  },
  "language_info": {
   "codemirror_mode": {
    "name": "ipython",
    "version": 3
   },
   "file_extension": ".py",
   "mimetype": "text/x-python",
   "name": "python",
   "nbconvert_exporter": "python",
   "pygments_lexer": "ipython3",
   "version": "3.7.7"
  }
 },
 "nbformat": 4,
 "nbformat_minor": 5
}
